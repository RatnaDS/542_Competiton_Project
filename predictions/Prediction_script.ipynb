{
  "nbformat": 4,
  "nbformat_minor": 0,
  "metadata": {
    "colab": {
      "name": "Prediction_script.ipynb",
      "provenance": [],
      "collapsed_sections": []
    },
    "kernelspec": {
      "display_name": "Python 3",
      "name": "python3"
    },
    "language_info": {
      "name": "python"
    }
  },
  "cells": [
    {
      "cell_type": "code",
      "metadata": {
        "colab": {
          "base_uri": "https://localhost:8080/"
        },
        "id": "prIF1sjM-c3i",
        "outputId": "5bfe1bca-5b66-4e78-8563-016c289aa0fd"
      },
      "source": [
        "!ls /content/drive/MyDrive/ECE_542/Competition_Project"
      ],
      "execution_count": null,
      "outputs": [
        {
          "output_type": "stream",
          "name": "stdout",
          "text": [
            "data.zip  metadata  ml_utils  test_data.zip\n"
          ]
        }
      ]
    },
    {
      "cell_type": "code",
      "metadata": {
        "id": "Ng-s1F7Z-xKL"
      },
      "source": [
        "!cp /content/drive/MyDrive/ECE_542/Competition_Project/test_data.zip ."
      ],
      "execution_count": null,
      "outputs": []
    },
    {
      "cell_type": "code",
      "metadata": {
        "colab": {
          "base_uri": "https://localhost:8080/"
        },
        "id": "8wUZq7ty_AZO",
        "outputId": "492525d1-3ba5-49f5-8e0a-025768e69366"
      },
      "source": [
        "!unzip test_data.zip"
      ],
      "execution_count": null,
      "outputs": [
        {
          "output_type": "stream",
          "name": "stdout",
          "text": [
            "Archive:  test_data.zip\n",
            "   creating: test_data/\n",
            "   creating: test_data/preprocessed_data/\n",
            "  inflating: test_data/preprocessed_data/subject_012_session_01__x.csv  \n",
            "  inflating: test_data/preprocessed_data/subject_010_session_01__y.csv  \n",
            "  inflating: test_data/preprocessed_data/subject_012_session_01__y.csv  \n",
            "  inflating: test_data/preprocessed_data/subject_011_session_01__x.csv  \n",
            "  inflating: test_data/preprocessed_data/subject_010_session_01__x.csv  \n",
            "  inflating: test_data/preprocessed_data/subject_009_session_01__y.csv  \n",
            "  inflating: test_data/preprocessed_data/subject_011_session_01__y.csv  \n",
            "  inflating: test_data/preprocessed_data/subject_009_session_01__x.csv  \n"
          ]
        }
      ]
    },
    {
      "cell_type": "code",
      "metadata": {
        "id": "1ZeuQxwE_NzP"
      },
      "source": [
        "!rm test_data.zip"
      ],
      "execution_count": null,
      "outputs": []
    },
    {
      "cell_type": "code",
      "metadata": {
        "colab": {
          "base_uri": "https://localhost:8080/"
        },
        "id": "-WwfHZGBqkju",
        "outputId": "ddc2cac0-15af-4c31-ee7a-90422fe41dfd"
      },
      "source": [
        "!cp -r /content/drive/MyDrive/ECE_542/Competition_Project/ml_utils .\n",
        "!ls"
      ],
      "execution_count": null,
      "outputs": [
        {
          "output_type": "stream",
          "name": "stdout",
          "text": [
            "drive  ml_utils  sample_data  test_data\n"
          ]
        }
      ]
    },
    {
      "cell_type": "code",
      "metadata": {
        "id": "DJlBSAfPnuG_"
      },
      "source": [
        "base_path = \"/content/drive/MyDrive/ECE_542/Competition_Project\""
      ],
      "execution_count": null,
      "outputs": []
    },
    {
      "cell_type": "code",
      "metadata": {
        "colab": {
          "base_uri": "https://localhost:8080/"
        },
        "id": "WVqr-5LupP8s",
        "outputId": "a8c20d32-f714-468f-8306-579eb1473bf8"
      },
      "source": [
        "!ls /content/drive/MyDrive/ECE_542/Competition_Project"
      ],
      "execution_count": null,
      "outputs": [
        {
          "output_type": "stream",
          "name": "stdout",
          "text": [
            "ls: cannot access '/content/drive/MyDrive/ECE_542/Competition_Project': No such file or directory\n"
          ]
        }
      ]
    },
    {
      "cell_type": "code",
      "metadata": {
        "id": "8kUcwing_Qkz"
      },
      "source": [
        "import os\n",
        "import sys"
      ],
      "execution_count": null,
      "outputs": []
    },
    {
      "cell_type": "code",
      "metadata": {
        "id": "_JxS3qkHmmRB"
      },
      "source": [
        "import json\n",
        "from collections import Counter\n",
        "import torch\n",
        "import torch.nn as nn\n",
        "import torch.nn.functional as F\n",
        "from torch import optim\n",
        "from torch.utils.data import DataLoader\n",
        "from torch.utils.data.sampler import WeightedRandomSampler\n",
        "import numpy as np\n",
        "from ml_utils.dataset import SubjectDataset"
      ],
      "execution_count": null,
      "outputs": []
    },
    {
      "cell_type": "code",
      "metadata": {
        "colab": {
          "base_uri": "https://localhost:8080/"
        },
        "id": "LJCQfTElnJJm",
        "outputId": "519d4c35-a9e7-4aef-f2bc-b3ba2576e82b"
      },
      "source": [
        "device = torch.device(\"cuda:0\" if torch.cuda.is_available() else \"cpu\")\n",
        "print(f\"Device: {device}\")"
      ],
      "execution_count": null,
      "outputs": [
        {
          "output_type": "stream",
          "name": "stdout",
          "text": [
            "Device: cpu\n"
          ]
        }
      ]
    },
    {
      "cell_type": "code",
      "metadata": {
        "colab": {
          "base_uri": "https://localhost:8080/"
        },
        "id": "kEHFvuD7hW36",
        "outputId": "3d016874-7d1f-40d0-d38f-fdbf4a993d3b"
      },
      "source": [
        "!ls test_data/preprocessed_data/"
      ],
      "execution_count": null,
      "outputs": [
        {
          "output_type": "stream",
          "name": "stdout",
          "text": [
            "subject_009_session_01__x.csv  subject_011_session_01__x.csv\n",
            "subject_009_session_01__y.csv  subject_011_session_01__y.csv\n",
            "subject_010_session_01__x.csv  subject_012_session_01__x.csv\n",
            "subject_010_session_01__y.csv  subject_012_session_01__y.csv\n"
          ]
        }
      ]
    },
    {
      "cell_type": "code",
      "metadata": {
        "id": "5mKgxfP1mmMg"
      },
      "source": [
        "#testing data path\n",
        "test_data_path = os.path.join(\"test_data\", \"preprocessed_data\")"
      ],
      "execution_count": null,
      "outputs": []
    },
    {
      "cell_type": "code",
      "metadata": {
        "id": "7UxWDOBmmmOv"
      },
      "source": [
        "class OneDConvNet(nn.Module):\n",
        "  def __init__(self, n_features, n_classes):\n",
        "    super(OneDConvNet, self).__init__()\n",
        "    self.Convolution_Layer_1 = nn.Conv1d(in_channels=n_features, out_channels=8, kernel_size=3, stride=1)\n",
        "    self.Pool_Layer1         = nn.MaxPool1d(kernel_size=2, stride=2)\n",
        "    self.Convolution_Layer_2 = nn.Conv1d(in_channels= 8, out_channels=16, kernel_size=3, stride=1)\n",
        "    self.Pool_Layer2         = nn.MaxPool1d(kernel_size=2, stride=2)\n",
        "    self.Convolution_Layer_3 = nn.Conv1d(in_channels=16, out_channels=32, kernel_size=3, stride=1)\n",
        "    self.Pool_Layer3         = nn.MaxPool1d(kernel_size=2, stride=2)\n",
        "    self.FullConnected1      = nn.Linear(32*3,16)\n",
        "    self.FullConnected2      = nn.Linear(16,8)\n",
        "    self.FullConnected3      = nn.Linear(8, n_classes)\n",
        "  \n",
        "  def forward(self, x):\n",
        "    x = self.Pool_Layer1(F.relu(self.Convolution_Layer_1(x)))\n",
        "    x = self.Pool_Layer2(F.relu(self.Convolution_Layer_2(x)))\n",
        "    x = self.Pool_Layer3(F.relu(self.Convolution_Layer_3(x)))\n",
        "    N, C, T = x.size()\n",
        "    x = x.view(-1, C*T) # Flatten\n",
        "    x = F.relu(self.FullConnected1(x))\n",
        "    x = F.relu(self.FullConnected2(x))\n",
        "    x = self.FullConnected3(x)\n",
        "    return x"
      ],
      "execution_count": null,
      "outputs": []
    },
    {
      "cell_type": "code",
      "metadata": {
        "id": "gDDEZe8dkSrF"
      },
      "source": [
        "best_model = OneDConvNet(6, 4)\n",
        "best_model.load_state_dict(torch.load(os.path.join(base_path, \"Models\",  \"model.pth\")))\n",
        "best_model = best_model.to(device)"
      ],
      "execution_count": null,
      "outputs": []
    },
    {
      "cell_type": "code",
      "metadata": {
        "id": "ZT-nhIGVneZ7"
      },
      "source": [
        "import pandas as pd"
      ],
      "execution_count": null,
      "outputs": []
    },
    {
      "cell_type": "code",
      "metadata": {
        "id": "jy47cYBEmmKS"
      },
      "source": [
        "#main_cell\n",
        "split_ids = [\"009_01\", \"010_01\", \"011_01\", \"012_01\"]\n",
        "batch_size = 256\n",
        "for id in split_ids:\n",
        "\n",
        "    test_dataset = SubjectDataset(\n",
        "      test_data_path, \n",
        "      [id], \n",
        "      cache_len = 1\n",
        "    )\n",
        "    test_dataloader = DataLoader(test_dataset, batch_size=batch_size, shuffle = False)\n",
        "\n",
        "    output = []\n",
        "    #labels = []\n",
        "\n",
        "    for X, y in test_dataloader:\n",
        "\n",
        "        X = X.float().to(device)\n",
        "        y = y.view(X.size(0)).to(device)\n",
        "\n",
        "        y_pred = best_model(X)\n",
        "        predicted_classes = torch.argmax(y_pred, dim=1).detach().cpu().numpy()\n",
        "\n",
        "        output.append(predicted_classes)\n",
        "\n",
        "    _output = np.concatenate(output, axis=0)\n",
        "\n",
        "    df = pd.DataFrame({\"label\": _output})\n",
        "\n",
        "    subject_id, session_id = id.split(\"_\")\n",
        "\n",
        "    filename = \"subject_{}_{}__y.csv\".format(subject_id, session_id)\n",
        "    df.to_csv(f\"/content/drive/MyDrive/ECE_542/Competition_Project/Predictions/{filename}\", header=False, index=False)"
      ],
      "execution_count": null,
      "outputs": []
    },
    {
      "cell_type": "code",
      "metadata": {
        "id": "QCwbS2Y94Y4N"
      },
      "source": [
        ""
      ],
      "execution_count": null,
      "outputs": []
    }
  ]
}