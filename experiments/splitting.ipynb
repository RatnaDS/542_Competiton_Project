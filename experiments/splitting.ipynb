{
 "cells": [
  {
   "cell_type": "code",
   "execution_count": null,
   "id": "dd5cef47",
   "metadata": {},
   "outputs": [],
   "source": [
    "# Data splitting into train, val and test"
   ]
  },
  {
   "cell_type": "code",
   "execution_count": null,
   "id": "001a5545",
   "metadata": {},
   "outputs": [],
   "source": [
    "import os\n",
    "import shutil\n",
    "import sys\n",
    "sys.path.append(\"..\")"
   ]
  },
  {
   "cell_type": "code",
   "execution_count": null,
   "id": "6f355bb5",
   "metadata": {},
   "outputs": [],
   "source": [
    "import json\n",
    "import pandas as pd\n",
    "import numpy as np\n",
    "from data_utils.dataloader import Dataloader\n",
    "from data_utils.splitting import DataSplitter"
   ]
  },
  {
   "cell_type": "code",
   "execution_count": null,
   "id": "a2b656e0",
   "metadata": {},
   "outputs": [],
   "source": [
    "data_base_path = os.path.join(\"..\", \"data\", \"TrainingData\")\n",
    "dataloader = Dataloader(data_base_path)"
   ]
  },
  {
   "cell_type": "code",
   "execution_count": null,
   "id": "d3679614",
   "metadata": {},
   "outputs": [],
   "source": [
    "subject_ids = [\"001\", \"002\", \"003\", \"004\", \"005\", \"006\", \"007\", \"008\"]\n",
    "session_numbers = [\"01\", \"02\", \"03\", \"04\", \"05\", \"06\", \"07\", \"08\"]"
   ]
  },
  {
   "cell_type": "code",
   "execution_count": null,
   "id": "2d54e794",
   "metadata": {},
   "outputs": [],
   "source": [
    "# Read the original data: This is not really necassary, but is done to\n",
    "# make the code future-proof, in case we need stratified splits.\n",
    "all_ys = []\n",
    "for subject_id in subject_ids:\n",
    "    for session_number in session_numbers:\n",
    "        try:\n",
    "            x, y = dataloader.load_and_join_data(subject_id, session_number)\n",
    "            uid = f\"{subject_id}_{session_number}\"\n",
    "            y[\"uid\"] = [uid for _ in range(len(y))]\n",
    "            all_ys.append(y)\n",
    "        except FileNotFoundError:\n",
    "            pass"
   ]
  },
  {
   "cell_type": "code",
   "execution_count": null,
   "id": "9d2e0556",
   "metadata": {},
   "outputs": [],
   "source": [
    "labels = pd.concat(all_ys, axis=0).reset_index(drop=True)"
   ]
  },
  {
   "cell_type": "code",
   "execution_count": null,
   "id": "f5fdb4a9",
   "metadata": {},
   "outputs": [],
   "source": [
    "splitter = DataSplitter()"
   ]
  },
  {
   "cell_type": "code",
   "execution_count": null,
   "id": "c7b636f9",
   "metadata": {},
   "outputs": [],
   "source": [
    "splits = splitter.split_ids(labels)"
   ]
  },
  {
   "cell_type": "code",
   "execution_count": null,
   "id": "e2fc42d1",
   "metadata": {
    "scrolled": true
   },
   "outputs": [],
   "source": [
    "splits"
   ]
  },
  {
   "cell_type": "code",
   "execution_count": null,
   "id": "c7f4183a",
   "metadata": {},
   "outputs": [],
   "source": [
    "# Save to file for documentation\n",
    "with open(os.path.join(\"metadata\", \"split_ids.json\"), \"w\") as f:\n",
    "    json.dump(splits, f, indent=2)"
   ]
  },
  {
   "cell_type": "code",
   "execution_count": null,
   "id": "26f1fc93",
   "metadata": {},
   "outputs": [],
   "source": [
    "with open(os.path.join(\"metadata\", \"split_ids.json\"), \"r\") as f:\n",
    "    splits = json.load(f)"
   ]
  },
  {
   "cell_type": "code",
   "execution_count": null,
   "id": "8ed96c6c",
   "metadata": {},
   "outputs": [],
   "source": [
    "def create_path(path):\n",
    "    if not os.path.exists(path):\n",
    "        os.makedirs(path)"
   ]
  },
  {
   "cell_type": "code",
   "execution_count": null,
   "id": "757f1dec",
   "metadata": {},
   "outputs": [],
   "source": [
    "# The paths to save the splits\n",
    "data_save_path = os.path.join(\"data\", \"splits\")\n",
    "train_path = os.path.join(data_save_path, \"train\")\n",
    "create_path(train_path)\n",
    "val_path = os.path.join(data_save_path, \"val\")\n",
    "create_path(val_path)\n",
    "test_path = os.path.join(data_save_path, \"test\")\n",
    "create_path(test_path)\n",
    "save_paths = {\n",
    "    \"train\": train_path,\n",
    "    \"val\": val_path,\n",
    "    \"test\": test_path\n",
    "}"
   ]
  },
  {
   "cell_type": "code",
   "execution_count": null,
   "id": "67056d31",
   "metadata": {},
   "outputs": [],
   "source": [
    "src_path = os.path.join(\"data\", \"preprocessed_data\")\n",
    "SRC_X_TEMPLATE = \"subject_{}_session_{}__x.csv\"\n",
    "SRC_Y_TEMPLATE = \"subject_{}_session_{}__y.csv\""
   ]
  },
  {
   "cell_type": "code",
   "execution_count": null,
   "id": "74ab16af",
   "metadata": {},
   "outputs": [],
   "source": [
    "DST_X_TEMPLATE = \"subject_{}_session_{}__x.csv\"\n",
    "DST_Y_TEMPLATE = \"subject_{}_session_{}__y.csv\""
   ]
  },
  {
   "cell_type": "code",
   "execution_count": null,
   "id": "287f5588",
   "metadata": {},
   "outputs": [],
   "source": [
    "for split, uids in splits.items():\n",
    "    savepath = save_paths[split]\n",
    "    for uid in uids:\n",
    "        subject_id, session_id = uid.split(\"_\")\n",
    "        \n",
    "        src_filename_x = os.path.join(src_path, SRC_X_TEMPLATE.format(subject_id, session_id))\n",
    "        save_filename_x = os.path.join(savepath, DST_X_TEMPLATE.format(subject_id, session_id))\n",
    "        \n",
    "        src_filename_y = os.path.join(src_path, SRC_Y_TEMPLATE.format(subject_id, session_id))\n",
    "        save_filename_y = os.path.join(savepath, DST_Y_TEMPLATE.format(subject_id, session_id))\n",
    "        \n",
    "        shutil.move(src_filename_x, save_filename_x)\n",
    "        shutil.move(src_filename_y, save_filename_y)"
   ]
  },
  {
   "cell_type": "code",
   "execution_count": null,
   "id": "d7d38f39",
   "metadata": {},
   "outputs": [],
   "source": []
  }
 ],
 "metadata": {
  "kernelspec": {
   "display_name": "ece542-final",
   "language": "python",
   "name": "ece542-final"
  },
  "language_info": {
   "codemirror_mode": {
    "name": "ipython",
    "version": 3
   },
   "file_extension": ".py",
   "mimetype": "text/x-python",
   "name": "python",
   "nbconvert_exporter": "python",
   "pygments_lexer": "ipython3",
   "version": "3.8.12"
  }
 },
 "nbformat": 4,
 "nbformat_minor": 5
}
