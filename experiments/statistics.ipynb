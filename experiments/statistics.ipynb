{
 "cells": [
  {
   "cell_type": "code",
   "execution_count": 1,
   "id": "ba1f7246",
   "metadata": {},
   "outputs": [],
   "source": [
    "import os\n",
    "import sys\n",
    "sys.path.append(\"..\")"
   ]
  },
  {
   "cell_type": "code",
   "execution_count": 2,
   "id": "68cae164",
   "metadata": {},
   "outputs": [],
   "source": [
    "import json\n",
    "import pandas as pd\n",
    "import numpy as np\n",
    "import matplotlib.pyplot as plt\n",
    "from matplotlib import collections as matcoll\n",
    "%matplotlib inline"
   ]
  },
  {
   "cell_type": "code",
   "execution_count": 3,
   "id": "05adff49",
   "metadata": {},
   "outputs": [],
   "source": [
    "from data_utils.dataloader import Dataloader\n",
    "from data_utils.preprocessor import Preprocessor\n",
    "from data_utils import X_HEADER"
   ]
  },
  {
   "cell_type": "code",
   "execution_count": 4,
   "id": "47b9cf8f",
   "metadata": {},
   "outputs": [],
   "source": [
    "data_base_path = os.path.join(\"..\", \"data\", \"TrainingData\")\n",
    "dataloader = Dataloader(data_base_path)"
   ]
  },
  {
   "cell_type": "code",
   "execution_count": 6,
   "id": "d0590dd8",
   "metadata": {},
   "outputs": [],
   "source": [
    "metadata_path = \"metadata\"\n",
    "split_ids_file = os.path.join(metadata_path, \"split_ids.json\")\n",
    "with open(split_ids_file, \"r\") as f:\n",
    "    split_ids = json.load(f)\n",
    "train_ids = split_ids[\"train\"]"
   ]
  },
  {
   "cell_type": "code",
   "execution_count": 8,
   "id": "c03cac3c",
   "metadata": {
    "scrolled": false
   },
   "outputs": [
    {
     "name": "stdout",
     "output_type": "stream",
     "text": [
      "Subject 005 session 02 done.\n",
      "Subject 001 session 06 done.\n",
      "Subject 003 session 02 done.\n",
      "Subject 001 session 05 done.\n",
      "Subject 002 session 02 done.\n",
      "Subject 003 session 01 done.\n",
      "Subject 003 session 03 done.\n",
      "Subject 005 session 01 done.\n",
      "Subject 001 session 07 done.\n",
      "Subject 002 session 05 done.\n",
      "Subject 004 session 02 done.\n",
      "Subject 002 session 03 done.\n",
      "Subject 001 session 02 done.\n",
      "Subject 002 session 04 done.\n",
      "Subject 001 session 03 done.\n",
      "Subject 004 session 01 done.\n"
     ]
    }
   ],
   "source": [
    "samplewise_stats = []\n",
    "for uid in train_ids:\n",
    "    subject_id, session_number = uid.split(\"_\")\n",
    "    try:\n",
    "        x, y = dataloader.load_and_join_data(subject_id, session_number)\n",
    "        stats = x.describe().reset_index(drop=False).rename(columns={\"index\": \"stat\"})\n",
    "        stats = stats[stats[\"stat\"].isin([\"min\", \"max\"])]\n",
    "        stats = stats.drop(columns=\"time\")\n",
    "        samplewise_stats.append(stats)\n",
    "        print(f\"Subject {subject_id} session {session_number} done.\")\n",
    "    except FileNotFoundError:\n",
    "        print(f\"Subject {subject_id} session {session_number} not found.\")"
   ]
  },
  {
   "cell_type": "code",
   "execution_count": 9,
   "id": "572cada6",
   "metadata": {},
   "outputs": [],
   "source": [
    "stat_df = pd.concat(samplewise_stats, axis=0)"
   ]
  },
  {
   "cell_type": "code",
   "execution_count": 10,
   "id": "3495fc56",
   "metadata": {},
   "outputs": [],
   "source": [
    "stats_to_find = [\"min\", \"max\"]"
   ]
  },
  {
   "cell_type": "code",
   "execution_count": 11,
   "id": "c4b30990",
   "metadata": {},
   "outputs": [],
   "source": [
    "aggregate_stats = []\n",
    "for stat in stats_to_find:\n",
    "    agg = getattr(stat_df.groupby(\"stat\"), stat)()\n",
    "    agg = agg.reset_index(drop=False)\n",
    "    agg = agg[agg[\"stat\"] == stat]\n",
    "    aggregate_stats.append(agg)"
   ]
  },
  {
   "cell_type": "code",
   "execution_count": 12,
   "id": "8e6d8b55",
   "metadata": {},
   "outputs": [
    {
     "data": {
      "text/html": [
       "<div>\n",
       "<style scoped>\n",
       "    .dataframe tbody tr th:only-of-type {\n",
       "        vertical-align: middle;\n",
       "    }\n",
       "\n",
       "    .dataframe tbody tr th {\n",
       "        vertical-align: top;\n",
       "    }\n",
       "\n",
       "    .dataframe thead th {\n",
       "        text-align: right;\n",
       "    }\n",
       "</style>\n",
       "<table border=\"1\" class=\"dataframe\">\n",
       "  <thead>\n",
       "    <tr style=\"text-align: right;\">\n",
       "      <th></th>\n",
       "      <th>stat</th>\n",
       "      <th>acc_x</th>\n",
       "      <th>acc_y</th>\n",
       "      <th>acc_z</th>\n",
       "      <th>gyro_x</th>\n",
       "      <th>gyro_y</th>\n",
       "      <th>gyro_z</th>\n",
       "    </tr>\n",
       "  </thead>\n",
       "  <tbody>\n",
       "    <tr>\n",
       "      <th>0</th>\n",
       "      <td>min</td>\n",
       "      <td>-39.13261</td>\n",
       "      <td>-38.92137</td>\n",
       "      <td>-31.50025</td>\n",
       "      <td>-11.62605</td>\n",
       "      <td>-12.19817</td>\n",
       "      <td>-6.345545</td>\n",
       "    </tr>\n",
       "    <tr>\n",
       "      <th>1</th>\n",
       "      <td>max</td>\n",
       "      <td>39.26000</td>\n",
       "      <td>39.49000</td>\n",
       "      <td>38.18860</td>\n",
       "      <td>10.72668</td>\n",
       "      <td>10.93212</td>\n",
       "      <td>8.093803</td>\n",
       "    </tr>\n",
       "  </tbody>\n",
       "</table>\n",
       "</div>"
      ],
      "text/plain": [
       "  stat     acc_x     acc_y     acc_z    gyro_x    gyro_y    gyro_z\n",
       "0  min -39.13261 -38.92137 -31.50025 -11.62605 -12.19817 -6.345545\n",
       "1  max  39.26000  39.49000  38.18860  10.72668  10.93212  8.093803"
      ]
     },
     "execution_count": 12,
     "metadata": {},
     "output_type": "execute_result"
    }
   ],
   "source": [
    "final_stats = pd.concat(aggregate_stats, axis=0).reset_index(drop=True)\n",
    "final_stats"
   ]
  },
  {
   "cell_type": "code",
   "execution_count": 13,
   "id": "72f68211",
   "metadata": {},
   "outputs": [],
   "source": [
    "final_stats.to_csv(os.path.join(\"metadata\", \"statistics.csv\"), header=True, index=False)"
   ]
  },
  {
   "cell_type": "code",
   "execution_count": 14,
   "id": "acbdb175",
   "metadata": {},
   "outputs": [],
   "source": [
    "stats_dict = {feature: dict() for feature in X_HEADER}\n",
    "for i, row in final_stats.iterrows():\n",
    "    for feature in X_HEADER:\n",
    "        stats_dict[feature][row[\"stat\"]] = row[feature]"
   ]
  },
  {
   "cell_type": "code",
   "execution_count": 15,
   "id": "cc37fb20",
   "metadata": {},
   "outputs": [
    {
     "data": {
      "text/plain": [
       "{'acc_x': {'min': -39.13261, 'max': 39.26},\n",
       " 'acc_y': {'min': -38.92137, 'max': 39.49},\n",
       " 'acc_z': {'min': -31.50025, 'max': 38.1886},\n",
       " 'gyro_x': {'min': -11.62605, 'max': 10.72668},\n",
       " 'gyro_y': {'min': -12.19817, 'max': 10.93212},\n",
       " 'gyro_z': {'min': -6.345545, 'max': 8.093803}}"
      ]
     },
     "execution_count": 15,
     "metadata": {},
     "output_type": "execute_result"
    }
   ],
   "source": [
    "stats_dict"
   ]
  },
  {
   "cell_type": "code",
   "execution_count": 16,
   "id": "b0c9c223",
   "metadata": {},
   "outputs": [],
   "source": [
    "with open(os.path.join(\"metadata\", \"statistics.json\"), \"w\") as f:\n",
    "    json.dump(stats_dict, f, indent=2)"
   ]
  },
  {
   "cell_type": "code",
   "execution_count": null,
   "id": "c495c7b6",
   "metadata": {},
   "outputs": [],
   "source": []
  }
 ],
 "metadata": {
  "kernelspec": {
   "display_name": "ece452-final",
   "language": "python",
   "name": "ece542-final"
  },
  "language_info": {
   "codemirror_mode": {
    "name": "ipython",
    "version": 3
   },
   "file_extension": ".py",
   "mimetype": "text/x-python",
   "name": "python",
   "nbconvert_exporter": "python",
   "pygments_lexer": "ipython3",
   "version": "3.8.11"
  }
 },
 "nbformat": 4,
 "nbformat_minor": 5
}
