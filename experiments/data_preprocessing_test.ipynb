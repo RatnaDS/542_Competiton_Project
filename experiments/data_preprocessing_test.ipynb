{
 "cells": [
  {
   "cell_type": "code",
   "execution_count": 1,
   "metadata": {},
   "outputs": [],
   "source": [
    "import os\n",
    "import sys\n",
    "sys.path.append(\"..\")"
   ]
  },
  {
   "cell_type": "code",
   "execution_count": 2,
   "metadata": {},
   "outputs": [],
   "source": [
    "import pandas as pd\n",
    "import numpy as np\n",
    "import matplotlib.pyplot as plt\n",
    "from matplotlib import collections as matcoll\n",
    "%matplotlib inline"
   ]
  },
  {
   "cell_type": "code",
   "execution_count": 3,
   "metadata": {},
   "outputs": [],
   "source": [
    "from data_utils.dataloader_test import Dataloader\n",
    "from data_utils.preprocessor import Preprocessor"
   ]
  },
  {
   "cell_type": "code",
   "execution_count": 4,
   "metadata": {},
   "outputs": [],
   "source": [
    "data_base_path = os.path.join(\"..\", \"data\", \"TestData\")\n",
    "dataloader = Dataloader(data_base_path)"
   ]
  },
  {
   "cell_type": "code",
   "execution_count": 5,
   "metadata": {},
   "outputs": [],
   "source": [
    "preprocessor = Preprocessor()"
   ]
  },
  {
   "cell_type": "markdown",
   "metadata": {},
   "source": [
    "y[['timestamp', 'label']].to_csv('subject_1_sess_1_labels.csv', index = False) #to save labels separately\n",
    "\n",
    "windowed_data = windowed_data.drop('label', axis = 1)#dropping the 'label' column\n",
    "\n",
    "windowed_data.to_csv('subject_1_sess_1.csv', index = False)#to save the data separately"
   ]
  },
  {
   "cell_type": "code",
   "execution_count": 6,
   "metadata": {},
   "outputs": [],
   "source": [
    "subject_ids = ['009', '010', '011', '012']\n",
    "session_ids = ['01']\n",
    "\n",
    "for subject_id in subject_ids:\n",
    "    \n",
    "    for session_id in session_ids:\n",
    "        \n",
    "        try:\n",
    "            x,y = dataloader.load_and_join_data(subject_id, session_id)\n",
    "            windowed_data = preprocessor.get_windowed_data(x, 2., y)\n",
    "            \n",
    "            windowed_data = windowed_data.merge(y, on = 'timestamp', how = 'inner')\n",
    "            y_path = os.path.join(\"window2_data\", \"preprocessed_data_test\", f\"subject_{subject_id}_session_{session_id}__y.csv\")\n",
    "            y[['timestamp', 'label']].to_csv(y_path, index = False)\n",
    "            windowed_data = windowed_data.drop('label', axis = 1)\n",
    "            x_path = os.path.join(\"window2_data\",\"preprocessed_data_test\",f\"subject_{subject_id}_session_{session_id}__x.csv\")\n",
    "            windowed_data.to_csv(x_path, index = False)\n",
    "            \n",
    "        except FileNotFoundError as e:\n",
    "            print(e)\n",
    "            break"
   ]
  },
  {
   "cell_type": "code",
   "execution_count": null,
   "metadata": {},
   "outputs": [],
   "source": []
  }
 ],
 "metadata": {
  "kernelspec": {
   "display_name": "Python 3",
   "language": "python",
   "name": "python3"
  },
  "language_info": {
   "codemirror_mode": {
    "name": "ipython",
    "version": 3
   },
   "file_extension": ".py",
   "mimetype": "text/x-python",
   "name": "python",
   "nbconvert_exporter": "python",
   "pygments_lexer": "ipython3",
   "version": "3.9.0"
  }
 },
 "nbformat": 4,
 "nbformat_minor": 5
}
