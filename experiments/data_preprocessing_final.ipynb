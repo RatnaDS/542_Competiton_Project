{
 "cells": [
  {
   "cell_type": "code",
   "execution_count": 1,
   "id": "628bcf52",
   "metadata": {},
   "outputs": [],
   "source": [
    "import os\n",
    "import sys\n",
    "sys.path.append(\"..\")"
   ]
  },
  {
   "cell_type": "code",
   "execution_count": 2,
   "id": "65aa3529",
   "metadata": {},
   "outputs": [],
   "source": [
    "import pandas as pd\n",
    "import numpy as np\n",
    "import matplotlib.pyplot as plt\n",
    "from matplotlib import collections as matcoll\n",
    "%matplotlib inline"
   ]
  },
  {
   "cell_type": "code",
   "execution_count": 3,
   "id": "3810680c",
   "metadata": {},
   "outputs": [],
   "source": [
    "from data_utils.dataloader import Dataloader\n",
    "from data_utils.preprocessor import Preprocessor"
   ]
  },
  {
   "cell_type": "code",
   "execution_count": 4,
   "id": "246cf2e9",
   "metadata": {},
   "outputs": [],
   "source": [
    "data_base_path = os.path.join(\"..\", \"data\", \"TrainingData\")\n",
    "dataloader = Dataloader(data_base_path)"
   ]
  },
  {
   "cell_type": "code",
   "execution_count": 5,
   "id": "ac5ca5e5",
   "metadata": {},
   "outputs": [],
   "source": [
    "interval = 3. # seconds\n",
    "save_path = os.path.join(\"data\", \"window3_sec\")\n",
    "if not os.path.exists(save_path):\n",
    "    os.makedirs(save_path)"
   ]
  },
  {
   "cell_type": "code",
   "execution_count": 6,
   "id": "9a987070",
   "metadata": {},
   "outputs": [],
   "source": [
    "preprocessor = Preprocessor()"
   ]
  },
  {
   "cell_type": "code",
   "execution_count": 7,
   "id": "d91513a1",
   "metadata": {},
   "outputs": [
    {
     "name": "stdout",
     "output_type": "stream",
     "text": [
      "[Errno 2] No such file or directory: '..\\\\data\\\\TrainingData\\\\subject_002_06__x.csv'\n",
      "[Errno 2] No such file or directory: '..\\\\data\\\\TrainingData\\\\subject_003_04__x.csv'\n",
      "[Errno 2] No such file or directory: '..\\\\data\\\\TrainingData\\\\subject_004_03__x.csv'\n",
      "[Errno 2] No such file or directory: '..\\\\data\\\\TrainingData\\\\subject_005_04__x.csv'\n",
      "[Errno 2] No such file or directory: '..\\\\data\\\\TrainingData\\\\subject_005_04__x.csv'\n",
      "[Errno 2] No such file or directory: '..\\\\data\\\\TrainingData\\\\subject_006_04__x.csv'\n",
      "[Errno 2] No such file or directory: '..\\\\data\\\\TrainingData\\\\subject_007_05__x.csv'\n",
      "[Errno 2] No such file or directory: '..\\\\data\\\\TrainingData\\\\subject_008_02__x.csv'\n"
     ]
    }
   ],
   "source": [
    "subject_ids = ['001', '002', '003', '004', '005', '005', '006', '007', '008']\n",
    "session_ids = ['01', '02', '03', '04', '05', '06', '07', '08']\n",
    "\n",
    "for subject_id in subject_ids:\n",
    "    \n",
    "    for session_id in session_ids:\n",
    "        \n",
    "        try:\n",
    "            x,y = dataloader.load_and_join_data(subject_id, session_id)\n",
    "            windowed_data = preprocessor.get_windowed_data(x, interval, y)\n",
    "            \n",
    "            windowed_data = windowed_data.merge(y, on = 'timestamp', how = 'inner')\n",
    "            y_path = os.path.join(save_path, f\"subject_{subject_id}_session_{session_id}__y.csv\")\n",
    "            \n",
    "            # Save labels separately\n",
    "            y[['timestamp', 'label']].to_csv(y_path, index = False)\n",
    "            # Drop the 'label' column\n",
    "            windowed_data = windowed_data.drop('label', axis = 1)\n",
    "            \n",
    "            # Save the data separately\n",
    "            x_path = os.path.join(save_path,f\"subject_{subject_id}_session_{session_id}__x.csv\")\n",
    "            windowed_data.to_csv(x_path, index = False)\n",
    "            \n",
    "        except FileNotFoundError as e:\n",
    "            print(e)\n",
    "            break"
   ]
  },
  {
   "cell_type": "code",
   "execution_count": null,
   "id": "4543c411",
   "metadata": {},
   "outputs": [],
   "source": []
  }
 ],
 "metadata": {
  "kernelspec": {
   "display_name": "ece542-final",
   "language": "python",
   "name": "ece542-final"
  },
  "language_info": {
   "codemirror_mode": {
    "name": "ipython",
    "version": 3
   },
   "file_extension": ".py",
   "mimetype": "text/x-python",
   "name": "python",
   "nbconvert_exporter": "python",
   "pygments_lexer": "ipython3",
   "version": "3.8.12"
  }
 },
 "nbformat": 4,
 "nbformat_minor": 5
}
