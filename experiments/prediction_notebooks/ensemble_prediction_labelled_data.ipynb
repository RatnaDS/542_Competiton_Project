{
 "cells": [
  {
   "cell_type": "code",
   "execution_count": 1,
   "metadata": {
    "colab": {
     "base_uri": "https://localhost:8080/"
    },
    "executionInfo": {
     "elapsed": 731,
     "status": "ok",
     "timestamp": 1637018267955,
     "user": {
      "displayName": "Chinmay Mahendra Savadikar",
      "photoUrl": "https://lh3.googleusercontent.com/a/default-user=s64",
      "userId": "11610851333453948182"
     },
     "user_tz": 300
    },
    "id": "prIF1sjM-c3i",
    "outputId": "bf3eb967-547f-4d0a-c385-446eb71332fb"
   },
   "outputs": [
    {
     "name": "stdout",
     "output_type": "stream",
     "text": [
      " 2_conv-plus-normalization.ipynb\n",
      " attempt-1.ipynb\n",
      " Best\n",
      " best-conv-plus-normalization.ipynb\n",
      " Best_Models\n",
      "'Copy of attempt-1.ipynb'\n",
      "'Copy of conv-plus-normalization.ipynb'\n",
      "'Copy of current-conv-plus-normalization.ipynb'\n",
      "'Copy of Hyoer attempt-1.ipynb'\n",
      " current-conv-plus-normalization.ipynb\n",
      " data.zip\n",
      " experiments\n",
      "'Hyoer attempt-1.ipynb'\n",
      " lstm\n",
      " ml_utils\n",
      " Prediction\n",
      " test_data.zip\n",
      " window3\n"
     ]
    }
   ],
   "source": [
    "!ls drive/MyDrive/Classes/ece542/competition-project/"
   ]
  },
  {
   "cell_type": "code",
   "execution_count": 2,
   "metadata": {
    "executionInfo": {
     "elapsed": 13177,
     "status": "ok",
     "timestamp": 1637018283749,
     "user": {
      "displayName": "Chinmay Mahendra Savadikar",
      "photoUrl": "https://lh3.googleusercontent.com/a/default-user=s64",
      "userId": "11610851333453948182"
     },
     "user_tz": 300
    },
    "id": "Ng-s1F7Z-xKL"
   },
   "outputs": [],
   "source": [
    "!cp drive/MyDrive/Classes/ece542/competition-project/data.zip .\n",
    "!cp drive/MyDrive/Classes/ece542/competition-project/window3/window3_data.zip ."
   ]
  },
  {
   "cell_type": "code",
   "execution_count": 3,
   "metadata": {
    "colab": {
     "base_uri": "https://localhost:8080/"
    },
    "executionInfo": {
     "elapsed": 100423,
     "status": "ok",
     "timestamp": 1637018384158,
     "user": {
      "displayName": "Chinmay Mahendra Savadikar",
      "photoUrl": "https://lh3.googleusercontent.com/a/default-user=s64",
      "userId": "11610851333453948182"
     },
     "user_tz": 300
    },
    "id": "8wUZq7ty_AZO",
    "outputId": "50b5b51a-eefc-44f5-8b8b-ff7f02beaf03"
   },
   "outputs": [
    {
     "name": "stdout",
     "output_type": "stream",
     "text": [
      "Archive:  data.zip\n",
      "   creating: data/\n",
      "   creating: data/preprocessed_data/\n",
      "   creating: data/splits/\n",
      "   creating: data/splits/test/\n",
      "  inflating: data/splits/test/subject_007_session_02__x.csv  \n",
      "  inflating: data/splits/test/subject_007_session_03__x.csv  \n",
      "  inflating: data/splits/test/subject_005_session_03__x.csv  \n",
      "  inflating: data/splits/test/subject_007_session_01__x.csv  \n",
      "  inflating: data/splits/test/subject_006_session_01__y.csv  \n",
      "  inflating: data/splits/test/subject_006_session_03__y.csv  \n",
      "  inflating: data/splits/test/subject_008_session_01__y.csv  \n",
      "  inflating: data/splits/test/subject_006_session_01__x.csv  \n",
      "  inflating: data/splits/test/subject_006_session_02__y.csv  \n",
      "  inflating: data/splits/test/subject_006_session_02__x.csv  \n",
      "  inflating: data/splits/test/subject_007_session_02__y.csv  \n",
      "  inflating: data/splits/test/subject_007_session_04__x.csv  \n",
      "  inflating: data/splits/test/subject_007_session_01__y.csv  \n",
      "  inflating: data/splits/test/subject_006_session_03__x.csv  \n",
      "  inflating: data/splits/test/subject_007_session_04__y.csv  \n",
      "  inflating: data/splits/test/subject_008_session_01__x.csv  \n",
      "  inflating: data/splits/test/subject_005_session_03__y.csv  \n",
      "  inflating: data/splits/test/subject_007_session_03__y.csv  \n",
      "   creating: data/splits/train/\n",
      "  inflating: data/splits/train/subject_001_session_07__x.csv  \n",
      "  inflating: data/splits/train/subject_003_session_01__y.csv  \n",
      "  inflating: data/splits/train/subject_001_session_05__y.csv  \n",
      "  inflating: data/splits/train/subject_004_session_01__x.csv  \n",
      "  inflating: data/splits/train/subject_005_session_01__x.csv  \n",
      "  inflating: data/splits/train/subject_002_session_04__x.csv  \n",
      "  inflating: data/splits/train/subject_001_session_02__x.csv  \n",
      "  inflating: data/splits/train/subject_002_session_02__y.csv  \n",
      "  inflating: data/splits/train/subject_001_session_07__y.csv  \n",
      "  inflating: data/splits/train/subject_004_session_02__x.csv  \n",
      "  inflating: data/splits/train/subject_005_session_01__y.csv  \n",
      "  inflating: data/splits/train/subject_003_session_03__x.csv  \n",
      "  inflating: data/splits/train/subject_001_session_06__y.csv  \n",
      "  inflating: data/splits/train/subject_005_session_02__y.csv  \n",
      "  inflating: data/splits/train/subject_001_session_05__x.csv  \n",
      "  inflating: data/splits/train/subject_002_session_05__y.csv  \n",
      "  inflating: data/splits/train/subject_002_session_03__x.csv  \n",
      "  inflating: data/splits/train/subject_003_session_01__x.csv  \n",
      "  inflating: data/splits/train/subject_001_session_06__x.csv  \n",
      "  inflating: data/splits/train/subject_002_session_05__x.csv  \n",
      "  inflating: data/splits/train/subject_003_session_03__y.csv  \n",
      "  inflating: data/splits/train/subject_003_session_02__x.csv  \n",
      "  inflating: data/splits/train/subject_001_session_03__y.csv  \n",
      "  inflating: data/splits/train/subject_002_session_04__y.csv  \n",
      "  inflating: data/splits/train/subject_004_session_02__y.csv  \n",
      "  inflating: data/splits/train/subject_003_session_02__y.csv  \n",
      "  inflating: data/splits/train/subject_002_session_02__x.csv  \n",
      "  inflating: data/splits/train/subject_001_session_02__y.csv  \n",
      "  inflating: data/splits/train/subject_005_session_02__x.csv  \n",
      "  inflating: data/splits/train/subject_001_session_03__x.csv  \n",
      "  inflating: data/splits/train/subject_004_session_01__y.csv  \n",
      "  inflating: data/splits/train/subject_002_session_03__y.csv  \n",
      "   creating: data/splits/val/\n",
      "  inflating: data/splits/val/subject_001_session_08__y.csv  \n",
      "  inflating: data/splits/val/subject_001_session_04__y.csv  \n",
      "  inflating: data/splits/val/subject_002_session_01__y.csv  \n",
      "  inflating: data/splits/val/subject_001_session_01__x.csv  \n",
      "  inflating: data/splits/val/subject_001_session_08__x.csv  \n",
      "  inflating: data/splits/val/subject_001_session_04__x.csv  \n",
      "  inflating: data/splits/val/subject_002_session_01__x.csv  \n",
      "  inflating: data/splits/val/subject_001_session_01__y.csv  \n",
      "  inflating: data/.gitignore         \n",
      "   creating: metadata/\n",
      "  inflating: metadata/statistics.csv  \n",
      "  inflating: metadata/statistics.json  \n",
      "  inflating: metadata/split_ids.json  \n",
      "Archive:  window3_data.zip\n",
      "   creating: window3_splits/test/\n",
      "  inflating: window3_splits/test/subject_005_session_03__x.csv  \n",
      "  inflating: window3_splits/test/subject_005_session_03__y.csv  \n",
      "  inflating: window3_splits/test/subject_006_session_01__x.csv  \n",
      "  inflating: window3_splits/test/subject_006_session_01__y.csv  \n",
      "  inflating: window3_splits/test/subject_006_session_02__x.csv  \n",
      "  inflating: window3_splits/test/subject_006_session_02__y.csv  \n",
      "  inflating: window3_splits/test/subject_006_session_03__x.csv  \n",
      "  inflating: window3_splits/test/subject_006_session_03__y.csv  \n",
      "  inflating: window3_splits/test/subject_007_session_01__x.csv  \n",
      "  inflating: window3_splits/test/subject_007_session_01__y.csv  \n",
      "  inflating: window3_splits/test/subject_007_session_02__x.csv  \n",
      "  inflating: window3_splits/test/subject_007_session_02__y.csv  \n",
      "  inflating: window3_splits/test/subject_007_session_03__x.csv  \n",
      "  inflating: window3_splits/test/subject_007_session_03__y.csv  \n",
      "  inflating: window3_splits/test/subject_007_session_04__x.csv  \n",
      "  inflating: window3_splits/test/subject_007_session_04__y.csv  \n",
      "  inflating: window3_splits/test/subject_008_session_01__x.csv  \n",
      "  inflating: window3_splits/test/subject_008_session_01__y.csv  \n",
      "   creating: window3_splits/train/\n",
      "  inflating: window3_splits/train/subject_001_session_02__x.csv  \n",
      "  inflating: window3_splits/train/subject_001_session_02__y.csv  \n",
      "  inflating: window3_splits/train/subject_001_session_03__x.csv  \n",
      "  inflating: window3_splits/train/subject_001_session_03__y.csv  \n",
      "  inflating: window3_splits/train/subject_001_session_05__x.csv  \n",
      "  inflating: window3_splits/train/subject_001_session_05__y.csv  \n",
      "  inflating: window3_splits/train/subject_001_session_06__x.csv  \n",
      "  inflating: window3_splits/train/subject_001_session_06__y.csv  \n",
      "  inflating: window3_splits/train/subject_001_session_07__x.csv  \n",
      "  inflating: window3_splits/train/subject_001_session_07__y.csv  \n",
      "  inflating: window3_splits/train/subject_002_session_02__x.csv  \n",
      "  inflating: window3_splits/train/subject_002_session_02__y.csv  \n",
      "  inflating: window3_splits/train/subject_002_session_03__x.csv  \n",
      "  inflating: window3_splits/train/subject_002_session_03__y.csv  \n",
      "  inflating: window3_splits/train/subject_002_session_04__x.csv  \n",
      "  inflating: window3_splits/train/subject_002_session_04__y.csv  \n",
      "  inflating: window3_splits/train/subject_002_session_05__x.csv  \n",
      "  inflating: window3_splits/train/subject_002_session_05__y.csv  \n",
      "  inflating: window3_splits/train/subject_003_session_01__x.csv  \n",
      "  inflating: window3_splits/train/subject_003_session_01__y.csv  \n",
      "  inflating: window3_splits/train/subject_003_session_02__x.csv  \n",
      "  inflating: window3_splits/train/subject_003_session_02__y.csv  \n",
      "  inflating: window3_splits/train/subject_003_session_03__x.csv  \n",
      "  inflating: window3_splits/train/subject_003_session_03__y.csv  \n",
      "  inflating: window3_splits/train/subject_004_session_01__x.csv  \n",
      "  inflating: window3_splits/train/subject_004_session_01__y.csv  \n",
      "  inflating: window3_splits/train/subject_004_session_02__x.csv  \n",
      "  inflating: window3_splits/train/subject_004_session_02__y.csv  \n",
      "  inflating: window3_splits/train/subject_005_session_01__x.csv  \n",
      "  inflating: window3_splits/train/subject_005_session_01__y.csv  \n",
      "  inflating: window3_splits/train/subject_005_session_02__x.csv  \n",
      "  inflating: window3_splits/train/subject_005_session_02__y.csv  \n",
      "   creating: window3_splits/val/\n",
      "  inflating: window3_splits/val/subject_001_session_01__x.csv  \n",
      "  inflating: window3_splits/val/subject_001_session_01__y.csv  \n",
      "  inflating: window3_splits/val/subject_001_session_04__x.csv  \n",
      "  inflating: window3_splits/val/subject_001_session_04__y.csv  \n",
      "  inflating: window3_splits/val/subject_001_session_08__x.csv  \n",
      "  inflating: window3_splits/val/subject_001_session_08__y.csv  \n",
      "  inflating: window3_splits/val/subject_002_session_01__x.csv  \n",
      "  inflating: window3_splits/val/subject_002_session_01__y.csv  \n"
     ]
    }
   ],
   "source": [
    "!unzip data.zip\n",
    "!unzip window3_data.zip"
   ]
  },
  {
   "cell_type": "code",
   "execution_count": 4,
   "metadata": {
    "executionInfo": {
     "elapsed": 296,
     "status": "ok",
     "timestamp": 1637018384844,
     "user": {
      "displayName": "Chinmay Mahendra Savadikar",
      "photoUrl": "https://lh3.googleusercontent.com/a/default-user=s64",
      "userId": "11610851333453948182"
     },
     "user_tz": 300
    },
    "id": "1ZeuQxwE_NzP"
   },
   "outputs": [],
   "source": [
    "!rm data.zip\n",
    "!rm window3_data.zip"
   ]
  },
  {
   "cell_type": "code",
   "execution_count": 5,
   "metadata": {
    "colab": {
     "base_uri": "https://localhost:8080/"
    },
    "executionInfo": {
     "elapsed": 3765,
     "status": "ok",
     "timestamp": 1637018388607,
     "user": {
      "displayName": "Chinmay Mahendra Savadikar",
      "photoUrl": "https://lh3.googleusercontent.com/a/default-user=s64",
      "userId": "11610851333453948182"
     },
     "user_tz": 300
    },
    "id": "sjjVhlkupOBO",
    "outputId": "0a0fc569-0cfb-4e46-da7b-2c71247c1bc3"
   },
   "outputs": [
    {
     "name": "stdout",
     "output_type": "stream",
     "text": [
      "Cloning into 'ece542-competition-project'...\n",
      "remote: Enumerating objects: 238, done.\u001b[K\n",
      "remote: Counting objects: 100% (238/238), done.\u001b[K\n",
      "remote: Compressing objects: 100% (168/168), done.\u001b[K\n",
      "remote: Total 238 (delta 128), reused 158 (delta 60), pack-reused 0\u001b[K\n",
      "Receiving objects: 100% (238/238), 275.09 KiB | 3.72 MiB/s, done.\n",
      "Resolving deltas: 100% (128/128), done.\n"
     ]
    }
   ],
   "source": [
    "# Access token redacted. Replace <ACCESS_TOKEN> with your access token.\n",
    "!git clone https://savadikarc:<ACCESS_TOKEN>@github.com/savadikarc/ece542-competition-project.git"
   ]
  },
  {
   "cell_type": "code",
   "execution_count": 6,
   "metadata": {
    "colab": {
     "base_uri": "https://localhost:8080/"
    },
    "executionInfo": {
     "elapsed": 408,
     "status": "ok",
     "timestamp": 1637018389011,
     "user": {
      "displayName": "Chinmay Mahendra Savadikar",
      "photoUrl": "https://lh3.googleusercontent.com/a/default-user=s64",
      "userId": "11610851333453948182"
     },
     "user_tz": 300
    },
    "id": "Y8yURtFRqGkj",
    "outputId": "0cf6270b-966a-4535-db74-8e3f43fbbab0"
   },
   "outputs": [
    {
     "name": "stdout",
     "output_type": "stream",
     "text": [
      "Already on 'phase-1'\n",
      "Your branch is up to date with 'origin/phase-1'.\n",
      "From https://github.com/savadikarc/ece542-competition-project\n",
      " * branch            phase-1    -> FETCH_HEAD\n",
      "Already up to date.\n"
     ]
    }
   ],
   "source": [
    "!cd ece542-competition-project && git checkout phase-1 && git pull origin phase-1"
   ]
  },
  {
   "cell_type": "code",
   "execution_count": 1,
   "metadata": {
    "executionInfo": {
     "elapsed": 125,
     "status": "ok",
     "timestamp": 1637019360918,
     "user": {
      "displayName": "Chinmay Mahendra Savadikar",
      "photoUrl": "https://lh3.googleusercontent.com/a/default-user=s64",
      "userId": "11610851333453948182"
     },
     "user_tz": 300
    },
    "id": "DJlBSAfPnuG_"
   },
   "outputs": [],
   "source": [
    "base_path = \"drive/MyDrive/Classes/ece542/competition-project\""
   ]
  },
  {
   "cell_type": "code",
   "execution_count": 2,
   "metadata": {
    "executionInfo": {
     "elapsed": 1,
     "status": "ok",
     "timestamp": 1637019361043,
     "user": {
      "displayName": "Chinmay Mahendra Savadikar",
      "photoUrl": "https://lh3.googleusercontent.com/a/default-user=s64",
      "userId": "11610851333453948182"
     },
     "user_tz": 300
    },
    "id": "8kUcwing_Qkz"
   },
   "outputs": [],
   "source": [
    "import os\n",
    "import sys\n",
    "sys.path.append(\"ece542-competition-project\")"
   ]
  },
  {
   "cell_type": "code",
   "execution_count": 3,
   "metadata": {
    "executionInfo": {
     "elapsed": 918,
     "status": "ok",
     "timestamp": 1637019362217,
     "user": {
      "displayName": "Chinmay Mahendra Savadikar",
      "photoUrl": "https://lh3.googleusercontent.com/a/default-user=s64",
      "userId": "11610851333453948182"
     },
     "user_tz": 300
    },
    "id": "_JxS3qkHmmRB"
   },
   "outputs": [],
   "source": [
    "import json\n",
    "from collections import Counter\n",
    "import torch\n",
    "import torch.nn as nn\n",
    "import torch.nn.functional as F\n",
    "from torch import optim\n",
    "from torch.optim.lr_scheduler import ReduceLROnPlateau\n",
    "from torch.utils.data import DataLoader\n",
    "from torch.utils.data.sampler import WeightedRandomSampler\n",
    "import numpy as np\n",
    "from ml_utils.dataset import SubjectDataset"
   ]
  },
  {
   "cell_type": "code",
   "execution_count": 4,
   "metadata": {
    "colab": {
     "base_uri": "https://localhost:8080/"
    },
    "executionInfo": {
     "elapsed": 17,
     "status": "ok",
     "timestamp": 1637019362219,
     "user": {
      "displayName": "Chinmay Mahendra Savadikar",
      "photoUrl": "https://lh3.googleusercontent.com/a/default-user=s64",
      "userId": "11610851333453948182"
     },
     "user_tz": 300
    },
    "id": "LJCQfTElnJJm",
    "outputId": "1f24eb3b-d908-459c-913b-af1b1e2c90af"
   },
   "outputs": [
    {
     "name": "stdout",
     "output_type": "stream",
     "text": [
      "Device: cpu\n"
     ]
    }
   ],
   "source": [
    "device = torch.device(\"cuda:0\" if torch.cuda.is_available() else \"cpu\")\n",
    "print(f\"Device: {device}\")"
   ]
  },
  {
   "cell_type": "code",
   "execution_count": 5,
   "metadata": {
    "executionInfo": {
     "elapsed": 9,
     "status": "ok",
     "timestamp": 1637019362220,
     "user": {
      "displayName": "Chinmay Mahendra Savadikar",
      "photoUrl": "https://lh3.googleusercontent.com/a/default-user=s64",
      "userId": "11610851333453948182"
     },
     "user_tz": 300
    },
    "id": "5mKgxfP1mmMg"
   },
   "outputs": [],
   "source": [
    "base_data_path_1sec = os.path.join(\"data\", \"splits\")\n",
    "val_data_path_1sec = os.path.join(base_data_path_1sec, \"val\")\n",
    "test_data_path_1sec = os.path.join(base_data_path_1sec, \"test\")\n",
    "\n",
    "base_data_path_3sec = os.path.join(\"window3_splits\")\n",
    "val_data_path_3sec = os.path.join(base_data_path_3sec, \"val\")\n",
    "test_data_path_3sec = os.path.join(base_data_path_3sec, \"test\")\n",
    "\n",
    "splits_file = os.path.join(base_path, \"experiments\", \"metadata\", \"split_ids.json\")\n",
    "with open(splits_file, \"r\") as f:\n",
    "    split_ids = json.load(f)"
   ]
  },
  {
   "cell_type": "code",
   "execution_count": 6,
   "metadata": {
    "executionInfo": {
     "elapsed": 86,
     "status": "ok",
     "timestamp": 1637019362819,
     "user": {
      "displayName": "Chinmay Mahendra Savadikar",
      "photoUrl": "https://lh3.googleusercontent.com/a/default-user=s64",
      "userId": "11610851333453948182"
     },
     "user_tz": 300
    },
    "id": "kuihFDGQbTBm"
   },
   "outputs": [],
   "source": [
    "stats_path = os.path.join(base_path, \"experiments\", \"metadata\", \"statistics.json\")\n",
    "with open(stats_path, \"r\") as f:\n",
    "    stats = json.load(f)"
   ]
  },
  {
   "cell_type": "code",
   "execution_count": 7,
   "metadata": {
    "executionInfo": {
     "elapsed": 96,
     "status": "ok",
     "timestamp": 1637019363643,
     "user": {
      "displayName": "Chinmay Mahendra Savadikar",
      "photoUrl": "https://lh3.googleusercontent.com/a/default-user=s64",
      "userId": "11610851333453948182"
     },
     "user_tz": 300
    },
    "id": "mzQdu4exbfOl"
   },
   "outputs": [],
   "source": [
    "min = np.array([v[\"min\"] for k, v in stats.items()])\n",
    "max = np.array([v[\"max\"] for k, v in stats.items()])\n",
    "\n",
    "min = torch.from_numpy(min).float()\n",
    "min = torch.unsqueeze((torch.unsqueeze(min, 0)), -1)\n",
    "min = min.to(device)\n",
    "max = torch.from_numpy(max).float().to(device)\n",
    "max = torch.unsqueeze((torch.unsqueeze(max, 0)), -1)\n",
    "max = max.to(device)"
   ]
  },
  {
   "cell_type": "code",
   "execution_count": 8,
   "metadata": {
    "colab": {
     "base_uri": "https://localhost:8080/"
    },
    "executionInfo": {
     "elapsed": 79,
     "status": "ok",
     "timestamp": 1637019365406,
     "user": {
      "displayName": "Chinmay Mahendra Savadikar",
      "photoUrl": "https://lh3.googleusercontent.com/a/default-user=s64",
      "userId": "11610851333453948182"
     },
     "user_tz": 300
    },
    "id": "XJXYMQrWb-zN",
    "outputId": "62eb9cd0-c294-4637-8eac-bb33d046d421"
   },
   "outputs": [
    {
     "data": {
      "text/plain": [
       "torch.Size([1, 6, 1])"
      ]
     },
     "execution_count": 8,
     "metadata": {},
     "output_type": "execute_result"
    }
   ],
   "source": [
    "min.shape"
   ]
  },
  {
   "cell_type": "code",
   "execution_count": 9,
   "metadata": {
    "executionInfo": {
     "elapsed": 95,
     "status": "ok",
     "timestamp": 1637019366841,
     "user": {
      "displayName": "Chinmay Mahendra Savadikar",
      "photoUrl": "https://lh3.googleusercontent.com/a/default-user=s64",
      "userId": "11610851333453948182"
     },
     "user_tz": 300
    },
    "id": "n5RT6OvirVrA"
   },
   "outputs": [],
   "source": [
    "# Training hyperparameters\n",
    "batch_size = 128"
   ]
  },
  {
   "cell_type": "code",
   "execution_count": 10,
   "metadata": {
    "executionInfo": {
     "elapsed": 207,
     "status": "ok",
     "timestamp": 1637019368000,
     "user": {
      "displayName": "Chinmay Mahendra Savadikar",
      "photoUrl": "https://lh3.googleusercontent.com/a/default-user=s64",
      "userId": "11610851333453948182"
     },
     "user_tz": 300
    },
    "id": "7UxWDOBmmmOv"
   },
   "outputs": [],
   "source": [
    "# Model definition\n",
    "class OneDConvNet1(nn.Module):\n",
    "  def __init__(self, n_features, n_classes, base_filters=32):\n",
    "    super(OneDConvNet1, self).__init__()\n",
    "\n",
    "    self.conv1 = nn.Conv1d(in_channels=n_features, out_channels=base_filters, kernel_size=3, stride=1, padding=1)\n",
    "    self.norm1 = nn.LayerNorm(base_filters*40)\n",
    "    self.pool1 = nn.AvgPool1d(kernel_size=2, stride=2)\n",
    "    self.conv2 = nn.Conv1d(in_channels=base_filters, out_channels=base_filters*2, kernel_size=3, stride=1, padding=1)\n",
    "    self.norm2 = nn.LayerNorm(base_filters*2*20)\n",
    "    self.pool2 = nn.AvgPool1d(kernel_size=2, stride=2)\n",
    "    self.conv3 = nn.Conv1d(in_channels=base_filters*2, out_channels=base_filters*4, kernel_size=3, stride=1, padding=1)\n",
    "    self.norm3 = nn.LayerNorm(base_filters*4*10)\n",
    "    self.pool3 = nn.AvgPool1d(kernel_size=2, stride=2)\n",
    "    self.conv4 = nn.Conv1d(in_channels=base_filters*4, out_channels=base_filters*8, kernel_size=3, stride=1, padding=1)\n",
    "    self.norm4 = nn.LayerNorm(base_filters*8*5)\n",
    "    self.fc1 = nn.Linear(base_filters*8, base_filters*16)\n",
    "    self.dropout5 = nn.Dropout(0.4)\n",
    "    self.fc2 = nn.Linear(base_filters*16, n_classes)\n",
    "  \n",
    "  def forward(self, x):\n",
    "    x = self.conv1(x)\n",
    "    N, C, T = x.shape\n",
    "    x = x.view(N, C*T)\n",
    "    x = self.norm1(x)\n",
    "    x = x.view(N, C, T)\n",
    "    x = self.pool1(F.relu(x))\n",
    "\n",
    "    x = self.conv2(x)\n",
    "    N, C, T = x.shape\n",
    "    x = x.view(N, C*T)\n",
    "    x = self.norm2(x)\n",
    "    x = x.view(N, C, T)\n",
    "    x = self.pool2(F.relu(x))\n",
    "\n",
    "    x = self.conv3(x)\n",
    "    N, C, T = x.shape\n",
    "    x = x.view(N, C*T)\n",
    "    x = self.norm3(x)\n",
    "    x = x.view(N, C, T)\n",
    "    x = self.pool3(F.relu(x))\n",
    "\n",
    "    x = self.conv4(x)\n",
    "    N, C, T = x.shape\n",
    "    x = x.view(N, C*T)\n",
    "    x = self.norm4(x)\n",
    "    x = x.view(N, C, T)\n",
    "    x = F.relu(x)\n",
    "\n",
    "    N, C, T = x.size()\n",
    "    x = x.mean(dim=-1) # Flatten\n",
    "    x = self.dropout5(F.relu(self.fc1(x)))\n",
    "    x = self.fc2(x)\n",
    "    return x\n",
    "\n",
    "model1 = OneDConvNet1(6, 4).to(device)\n",
    "model1.load_state_dict(torch.load(os.path.join(base_path, \"experiments\", \"models\", \"checkpoint_instance_norm_dropout_sgd_lr3.pth\")))\n",
    "model1 = model1.to(device)"
   ]
  },
  {
   "cell_type": "code",
   "execution_count": 11,
   "metadata": {
    "executionInfo": {
     "elapsed": 131,
     "status": "ok",
     "timestamp": 1637019368444,
     "user": {
      "displayName": "Chinmay Mahendra Savadikar",
      "photoUrl": "https://lh3.googleusercontent.com/a/default-user=s64",
      "userId": "11610851333453948182"
     },
     "user_tz": 300
    },
    "id": "6EiBT6RSSg9O"
   },
   "outputs": [],
   "source": [
    "# Model definition\n",
    "class OneDConvNet2(nn.Module):\n",
    "  def __init__(self, n_features, n_classes):\n",
    "    super(OneDConvNet2, self).__init__()\n",
    "    self.conv1 = nn.Conv1d(in_channels=n_features, out_channels=16, kernel_size=3, stride=1, padding=1)\n",
    "    self.norm1 = nn.LayerNorm(16*40)\n",
    "    self.pool1 = nn.AvgPool1d(kernel_size=2, stride=2)\n",
    "    self.conv2 = nn.Conv1d(in_channels= 16, out_channels=32, kernel_size=3, stride=1, padding=1)\n",
    "    self.norm2 = nn.LayerNorm(32*20)\n",
    "    self.pool2 = nn.AvgPool1d(kernel_size=2, stride=2)\n",
    "    self.conv3 = nn.Conv1d(in_channels=32, out_channels=64, kernel_size=3, stride=1, padding=1)\n",
    "    self.norm3 = nn.LayerNorm(64*10)\n",
    "    self.pool3 = nn.AvgPool1d(kernel_size=2, stride=2)\n",
    "    self.conv4 = nn.Conv1d(in_channels=64, out_channels=128, kernel_size=3, stride=1, padding=1)\n",
    "    self.norm4 = nn.LayerNorm(128*5)\n",
    "    self.fc1 = nn.Linear(128, 64)\n",
    "    self.dropout5 = nn.Dropout(0.2)\n",
    "    self.fc2 = nn.Linear(64, n_classes)\n",
    "  \n",
    "  def forward(self, x):\n",
    "    x = self.conv1(x)\n",
    "    N, C, T = x.shape\n",
    "    x = x.view(N, C*T)\n",
    "    x = self.norm1(x)\n",
    "    x = x.view(N, C, T)\n",
    "    x = self.pool1(F.relu(x))\n",
    "\n",
    "    x = self.conv2(x)\n",
    "    N, C, T = x.shape\n",
    "    x = x.view(N, C*T)\n",
    "    x = self.norm2(x)\n",
    "    x = x.view(N, C, T)\n",
    "    x = self.pool2(F.relu(x))\n",
    "\n",
    "    x = self.conv3(x)\n",
    "    N, C, T = x.shape\n",
    "    x = x.view(N, C*T)\n",
    "    x = self.norm3(x)\n",
    "    x = x.view(N, C, T)\n",
    "    x = self.pool3(F.relu(x))\n",
    "\n",
    "    x = self.conv4(x)\n",
    "    N, C, T = x.shape\n",
    "    x = x.view(N, C*T)\n",
    "    x = self.norm4(x)\n",
    "    x = x.view(N, C, T)\n",
    "    x = F.relu(x)\n",
    "\n",
    "    N, C, T = x.size()\n",
    "    x = x.mean(dim=-1) # Flatten\n",
    "    x = self.dropout5(F.relu(self.fc1(x)))\n",
    "    x = self.fc2(x)\n",
    "    return x\n",
    "\n",
    "model2 = OneDConvNet2(6, 4).to(device)\n",
    "model2.load_state_dict(torch.load(os.path.join(base_path, \"experiments\", \"models\", \"checkpoint_norm_dropout_32_1_long.pth\")))\n",
    "model2 = model2.to(device)"
   ]
  },
  {
   "cell_type": "code",
   "execution_count": 12,
   "metadata": {
    "colab": {
     "base_uri": "https://localhost:8080/"
    },
    "executionInfo": {
     "elapsed": 296,
     "status": "ok",
     "timestamp": 1637019369072,
     "user": {
      "displayName": "Chinmay Mahendra Savadikar",
      "photoUrl": "https://lh3.googleusercontent.com/a/default-user=s64",
      "userId": "11610851333453948182"
     },
     "user_tz": 300
    },
    "id": "Lb4rM0g_5XE6",
    "outputId": "7329977e-0d3a-4340-b468-6b75b5970122"
   },
   "outputs": [
    {
     "data": {
      "text/plain": [
       "OneDConvNet3(\n",
       "  (conv1): Conv1d(6, 32, kernel_size=(3,), stride=(1,), padding=(1,))\n",
       "  (norm1): LayerNorm((3840,), eps=1e-05, elementwise_affine=True)\n",
       "  (pool1): AvgPool1d(kernel_size=(2,), stride=(2,), padding=(0,))\n",
       "  (conv2): Conv1d(32, 64, kernel_size=(3,), stride=(1,), padding=(1,))\n",
       "  (norm2): LayerNorm((3840,), eps=1e-05, elementwise_affine=True)\n",
       "  (pool2): AvgPool1d(kernel_size=(2,), stride=(2,), padding=(0,))\n",
       "  (conv3): Conv1d(64, 128, kernel_size=(3,), stride=(1,), padding=(1,))\n",
       "  (norm3): LayerNorm((3840,), eps=1e-05, elementwise_affine=True)\n",
       "  (pool3): AvgPool1d(kernel_size=(2,), stride=(2,), padding=(0,))\n",
       "  (conv4): Conv1d(128, 256, kernel_size=(3,), stride=(1,), padding=(1,))\n",
       "  (norm4): LayerNorm((3840,), eps=1e-05, elementwise_affine=True)\n",
       "  (fc1): Linear(in_features=3840, out_features=512, bias=True)\n",
       "  (dropout5): Dropout(p=0.5, inplace=False)\n",
       "  (fc2): Linear(in_features=512, out_features=4, bias=True)\n",
       ")"
      ]
     },
     "execution_count": 12,
     "metadata": {},
     "output_type": "execute_result"
    }
   ],
   "source": [
    "class OneDConvNet3(nn.Module):\n",
    "  def __init__(self, n_features, n_classes, base_filters=32):\n",
    "    super(OneDConvNet3, self).__init__()\n",
    "\n",
    "    self.conv1 = nn.Conv1d(in_channels=n_features, out_channels=base_filters, kernel_size=3, stride=1, padding=1)\n",
    "    self.norm1 = nn.LayerNorm(base_filters*120)\n",
    "    self.pool1 = nn.AvgPool1d(kernel_size=2, stride=2)\n",
    "    self.conv2 = nn.Conv1d(in_channels=base_filters, out_channels=base_filters*2, kernel_size=3, stride=1, padding=1)\n",
    "    self.norm2 = nn.LayerNorm(base_filters*2*60)\n",
    "    self.pool2 = nn.AvgPool1d(kernel_size=2, stride=2)\n",
    "    self.conv3 = nn.Conv1d(in_channels=base_filters*2, out_channels=base_filters*4, kernel_size=3, stride=1, padding=1)\n",
    "    self.norm3 = nn.LayerNorm(base_filters*4*30)\n",
    "    self.pool3 = nn.AvgPool1d(kernel_size=2, stride=2)\n",
    "    self.conv4 = nn.Conv1d(in_channels=base_filters*4, out_channels=base_filters*8, kernel_size=3, stride=1, padding=1)\n",
    "    self.norm4 = nn.LayerNorm(base_filters*8*15)\n",
    "    self.fc1 = nn.Linear(base_filters*8*15, base_filters*16)\n",
    "    self.dropout5 = nn.Dropout(0.5)\n",
    "    self.fc2 = nn.Linear(base_filters*16, n_classes)\n",
    "  \n",
    "  def forward(self, x):\n",
    "    x = self.conv1(x)\n",
    "    N, C, T = x.shape\n",
    "    x = x.view(N, C*T)\n",
    "    x = self.norm1(x)\n",
    "    x = x.view(N, C, T)\n",
    "    x = self.pool1(F.relu(x))\n",
    "\n",
    "    x = self.conv2(x)\n",
    "    N, C, T = x.shape\n",
    "    x = x.view(N, C*T)\n",
    "    x = self.norm2(x)\n",
    "    x = x.view(N, C, T)\n",
    "    x = self.pool2(F.relu(x))\n",
    "\n",
    "    x = self.conv3(x)\n",
    "    N, C, T = x.shape\n",
    "    x = x.view(N, C*T)\n",
    "    x = self.norm3(x)\n",
    "    x = x.view(N, C, T)\n",
    "    x = self.pool3(F.relu(x))\n",
    "\n",
    "    x = self.conv4(x)\n",
    "    N, C, T = x.shape\n",
    "    x = x.view(N, C*T)\n",
    "    x = self.norm4(x)\n",
    "    x = x.view(N, C, T)\n",
    "    x = F.relu(x)\n",
    "\n",
    "    N, C, T = x.size()\n",
    "    x = x.view(-1, C*T) # Flatten\n",
    "    x = self.dropout5(F.relu(self.fc1(x)))\n",
    "    x = self.fc2(x)\n",
    "    return x\n",
    "\n",
    "base_filters = 32\n",
    "interval = 3\n",
    "checkpoint_save_path = os.path.join(base_path, \"experiments\", \"models\", \"window3\")\n",
    "filename = f\"cnn_{base_filters}_interval{interval}.pth\"\n",
    "filename_long = f\"cnn_{base_filters}_interval{interval}_long.pth\"\n",
    "model3 = OneDConvNet3(6, 4, base_filters).to(device)\n",
    "model3.load_state_dict(torch.load(os.path.join(checkpoint_save_path, filename)))\n",
    "model3.to(device)"
   ]
  },
  {
   "cell_type": "code",
   "execution_count": 13,
   "metadata": {
    "executionInfo": {
     "elapsed": 441,
     "status": "ok",
     "timestamp": 1637019369606,
     "user": {
      "displayName": "Chinmay Mahendra Savadikar",
      "photoUrl": "https://lh3.googleusercontent.com/a/default-user=s64",
      "userId": "11610851333453948182"
     },
     "user_tz": 300
    },
    "id": "pK-nLeloml-n"
   },
   "outputs": [],
   "source": [
    "from sklearn.metrics import accuracy_score, precision_score, recall_score, f1_score\n",
    "\n",
    "class Evaluation:\n",
    "\n",
    "  def __init__(self):\n",
    "        pass\n",
    "  \n",
    "  def aggregate_metrics(self, y, y_hat):\n",
    "    \n",
    "    \"\"\" Metrics for entire set \n",
    "        \n",
    "        Arguments passed are: \n",
    "                      y     : ground truth  \n",
    "                      y_hat : predicted class\n",
    "        Calculations:\n",
    "                  accuracy  : (tp + tn) / (total samples =(p + n))\n",
    "                  precision : tp / (tp + fp)\n",
    "                  recall    : tp / (tp + fn)\n",
    "                  f1        : 2 tp / (2 tp + fp + fn)\n",
    "    \"\"\"\n",
    "    accuracy  = accuracy_score(y, y_hat)\n",
    "    precision = precision_score(y, y_hat, average=\"macro\")\n",
    "    recall    = recall_score(y, y_hat, average=\"macro\")\n",
    "    f1        = f1_score(y, y_hat, average=\"macro\")\n",
    "    return {\n",
    "        \"Accuracy\": accuracy,\n",
    "        \"Precision\": precision,\n",
    "        \"Recall\": recall,\n",
    "        \"F1\": f1\n",
    "        }\n",
    "\n",
    "  def classwise_metrics(self, y, y_hat):\n",
    "\n",
    "    \"\"\" Metrics for each class. \n",
    "        Average is set to macro for calculating the score of each label, and find their unweighted mean. \n",
    "        This does not take label imbalance into account.\n",
    "        \n",
    "        Arguments passed are: \n",
    "                      y     : ground truth  \n",
    "                      y_hat : predicted class\n",
    "        Calculations:\n",
    "                  accuracy  : (tp + tn) / (total samples =(p + n))\n",
    "                  precision : tp / (tp + fp)\n",
    "                  recall    : tp / (tp + fn)\n",
    "                  f1        : 2 tp / (2 tp + fp + fn)\n",
    "    \"\"\"\n",
    "    \n",
    "    class_precision = precision_score(y, y_hat, average=None)\n",
    "    class_recall    = recall_score(y, y_hat, average=None)\n",
    "    class_f1        = f1_score(y, y_hat, average=None)\n",
    "    \n",
    "    return {\n",
    "        \"Precision\": class_precision,\n",
    "        \"Recall\": class_recall,\n",
    "        \"F1\": class_f1\n",
    "    }"
   ]
  },
  {
   "cell_type": "code",
   "execution_count": 14,
   "metadata": {
    "executionInfo": {
     "elapsed": 4,
     "status": "ok",
     "timestamp": 1637019369939,
     "user": {
      "displayName": "Chinmay Mahendra Savadikar",
      "photoUrl": "https://lh3.googleusercontent.com/a/default-user=s64",
      "userId": "11610851333453948182"
     },
     "user_tz": 300
    },
    "id": "MvN9WtxwznFw"
   },
   "outputs": [],
   "source": [
    "evaluator = Evaluation()"
   ]
  },
  {
   "cell_type": "code",
   "execution_count": 15,
   "metadata": {
    "colab": {
     "base_uri": "https://localhost:8080/"
    },
    "executionInfo": {
     "elapsed": 6776,
     "status": "ok",
     "timestamp": 1637019377104,
     "user": {
      "displayName": "Chinmay Mahendra Savadikar",
      "photoUrl": "https://lh3.googleusercontent.com/a/default-user=s64",
      "userId": "11610851333453948182"
     },
     "user_tz": 300
    },
    "id": "bYbdv_EDml8M",
    "outputId": "33830b1a-ddf5-4350-e9eb-6411bf2a2ce0"
   },
   "outputs": [
    {
     "name": "stdout",
     "output_type": "stream",
     "text": [
      "Converting uid 001_08\n",
      "Converting uid 002_01\n",
      "Converting uid 001_01\n",
      "Converting uid 001_04\n",
      "Converting uid 001_08\n",
      "Converting uid 002_01\n",
      "Converting uid 001_01\n",
      "Converting uid 001_04\n"
     ]
    }
   ],
   "source": [
    "val_dataset_1sec = SubjectDataset(\n",
    "    val_data_path_1sec, \n",
    "    split_ids[\"val\"]\n",
    ")\n",
    "val_dataloader_1sec = DataLoader(val_dataset_1sec, batch_size=batch_size, shuffle=False)\n",
    "val_iterations_1sec = (len(val_dataset_1sec) // batch_size) + ((len(val_dataset_1sec) % batch_size) != 0)\n",
    "\n",
    "val_dataset_3sec = SubjectDataset(\n",
    "    val_data_path_3sec, \n",
    "    split_ids[\"val\"]\n",
    ")\n",
    "val_dataloader_3sec = DataLoader(val_dataset_3sec, batch_size=batch_size, shuffle=False)\n",
    "val_iterations_3sec = (len(val_dataset_3sec) // batch_size) + ((len(val_dataset_3sec) % batch_size) != 0)"
   ]
  },
  {
   "cell_type": "code",
   "execution_count": 16,
   "metadata": {
    "executionInfo": {
     "elapsed": 28486,
     "status": "ok",
     "timestamp": 1637019405576,
     "user": {
      "displayName": "Chinmay Mahendra Savadikar",
      "photoUrl": "https://lh3.googleusercontent.com/a/default-user=s64",
      "userId": "11610851333453948182"
     },
     "user_tz": 300
    },
    "id": "5qvZJ2dCxb-H"
   },
   "outputs": [],
   "source": [
    "output = []\n",
    "labels = []\n",
    "for (X_1sec, y_1sec), (X_3sec, y_3sec) in zip(val_dataloader_1sec, val_dataloader_3sec):\n",
    "    X_1sec = X_1sec.float().to(device)\n",
    "    X_1sec = (X_1sec - min) / (max - min)\n",
    "\n",
    "    X_3sec = X_3sec.float().to(device)\n",
    "    X_3sec = (X_3sec - min) / (max - min)\n",
    "\n",
    "    y = y_1sec.view(X_1sec.size(0)).to(device)\n",
    "    y_3sec = y_3sec.view(X_3sec.size(0)).to(device)\n",
    "    assert torch.sum(y == y_3sec).item() == y.shape[0]\n",
    "\n",
    "    y_pred1 = model1(X_1sec)\n",
    "    y_pred2 = model2(X_1sec)\n",
    "    y_pred3 = model3(X_3sec)\n",
    "\n",
    "    y_pred1 = F.softmax(y_pred1, dim=1)\n",
    "    y_pred2 = F.softmax(y_pred2, dim=1)\n",
    "    y_pred3 = F.softmax(y_pred3, dim=1)\n",
    "\n",
    "    y_pred = (y_pred1 + y_pred2 + y_pred3)/3.\n",
    "    predicted_classes = torch.argmax(y_pred, dim=1).detach().cpu().numpy()\n",
    "    y_true = y.cpu().numpy()\n",
    "\n",
    "    output.append(predicted_classes)\n",
    "    labels.append(y_true)\n",
    "\n",
    "_output = np.concatenate(output, axis=0)\n",
    "_labels = np.concatenate(labels, axis=0)    "
   ]
  },
  {
   "cell_type": "code",
   "execution_count": 17,
   "metadata": {
    "colab": {
     "base_uri": "https://localhost:8080/"
    },
    "executionInfo": {
     "elapsed": 143,
     "status": "ok",
     "timestamp": 1637019405694,
     "user": {
      "displayName": "Chinmay Mahendra Savadikar",
      "photoUrl": "https://lh3.googleusercontent.com/a/default-user=s64",
      "userId": "11610851333453948182"
     },
     "user_tz": 300
    },
    "id": "I8p4RTYs0CuR",
    "outputId": "2291ad24-614d-480e-e686-9507e62df7d8"
   },
   "outputs": [
    {
     "name": "stdout",
     "output_type": "stream",
     "text": [
      "Agg metrics\n",
      "{'Accuracy': 0.8189711147802534, 'Precision': 0.7810045191734295, 'Recall': 0.8020999994282187, 'F1': 0.7809772682251673}\n",
      "Classwise Metrics\n",
      "{'Precision': array([0.83934186, 0.84309357, 0.63398533, 0.80759732]), 'Recall': array([0.90252423, 0.8982706 , 0.85492911, 0.55267606]), 'F1': array([0.86978714, 0.86980791, 0.72806402, 0.65625   ])}\n"
     ]
    }
   ],
   "source": [
    "agg_metrics = evaluator.aggregate_metrics(_labels, _output)\n",
    "print(\"Agg metrics\")\n",
    "print(agg_metrics)\n",
    "classwise_metrics = evaluator.classwise_metrics(_labels, _output)\n",
    "print(\"Classwise Metrics\")\n",
    "print(classwise_metrics)"
   ]
  },
  {
   "cell_type": "code",
   "execution_count": 19,
   "metadata": {
    "colab": {
     "base_uri": "https://localhost:8080/"
    },
    "executionInfo": {
     "elapsed": 13326,
     "status": "ok",
     "timestamp": 1637019446209,
     "user": {
      "displayName": "Chinmay Mahendra Savadikar",
      "photoUrl": "https://lh3.googleusercontent.com/a/default-user=s64",
      "userId": "11610851333453948182"
     },
     "user_tz": 300
    },
    "id": "UosykPCA0GX_",
    "outputId": "31d780e1-0c2d-4da7-a676-bcb0f3751f03"
   },
   "outputs": [
    {
     "name": "stdout",
     "output_type": "stream",
     "text": [
      "Converting uid 005_03\n",
      "Converting uid 006_01\n",
      "Converting uid 006_02\n",
      "Converting uid 006_03\n",
      "Converting uid 007_01\n",
      "Converting uid 007_02\n",
      "Converting uid 007_03\n",
      "Converting uid 007_04\n",
      "Converting uid 008_01\n",
      "Converting uid 005_03\n",
      "Converting uid 006_01\n",
      "Converting uid 006_02\n",
      "Converting uid 006_03\n",
      "Converting uid 007_01\n",
      "Converting uid 007_02\n",
      "Converting uid 007_03\n",
      "Converting uid 007_04\n",
      "Converting uid 008_01\n"
     ]
    }
   ],
   "source": [
    "test_dataset_1sec = SubjectDataset(\n",
    "    test_data_path_1sec, \n",
    "    split_ids[\"test\"]\n",
    ")\n",
    "test_dataloader_1sec = DataLoader(test_dataset_1sec, batch_size=batch_size, shuffle=False)\n",
    "test_iterations_1sec = (len(test_dataset_1sec) // batch_size) + ((len(test_dataset_1sec) % batch_size) != 0)\n",
    "\n",
    "test_dataset_3sec = SubjectDataset(\n",
    "    test_data_path_3sec, \n",
    "    split_ids[\"test\"]\n",
    ")\n",
    "test_dataloader_3sec = DataLoader(test_dataset_3sec, batch_size=batch_size, shuffle=False)\n",
    "test_iterations_3sec = (len(test_dataset_3sec) // batch_size) + ((len(test_dataset_3sec) % batch_size) != 0)"
   ]
  },
  {
   "cell_type": "code",
   "execution_count": 22,
   "metadata": {
    "executionInfo": {
     "elapsed": 55737,
     "status": "ok",
     "timestamp": 1637019592242,
     "user": {
      "displayName": "Chinmay Mahendra Savadikar",
      "photoUrl": "https://lh3.googleusercontent.com/a/default-user=s64",
      "userId": "11610851333453948182"
     },
     "user_tz": 300
    },
    "id": "GV5m259v4D5L"
   },
   "outputs": [],
   "source": [
    "output = []\n",
    "labels = []\n",
    "for (X_1sec, y_1sec), (X_3sec, y_3sec) in zip(test_dataloader_1sec, test_dataloader_3sec):\n",
    "    X_1sec = X_1sec.float().to(device)\n",
    "    X_1sec = (X_1sec - min) / (max - min)\n",
    "\n",
    "    X_3sec = X_3sec.float().to(device)\n",
    "    X_3sec = (X_3sec - min) / (max - min)\n",
    "\n",
    "    y = y_1sec.view(X_1sec.size(0)).to(device)\n",
    "    y_3sec = y_3sec.view(X_3sec.size(0)).to(device)\n",
    "    assert torch.sum(y == y_3sec).item() == y.shape[0]\n",
    "\n",
    "    y_pred1 = model1(X_1sec)\n",
    "    y_pred2 = model2(X_1sec)\n",
    "    y_pred3 = model3(X_3sec)\n",
    "\n",
    "    y_pred1 = F.softmax(y_pred1, dim=1)\n",
    "    y_pred2 = F.softmax(y_pred2, dim=1)\n",
    "    y_pred3 = F.softmax(y_pred3, dim=1)\n",
    "\n",
    "    y_pred = (y_pred1 + y_pred2 + y_pred3)/3.\n",
    "    predicted_classes = torch.argmax(y_pred, dim=1).detach().cpu().numpy()\n",
    "    y_true = y.cpu().numpy()\n",
    "\n",
    "    output.append(predicted_classes)\n",
    "    labels.append(y_true)\n",
    "\n",
    "_output = np.concatenate(output, axis=0)\n",
    "_labels = np.concatenate(labels, axis=0)"
   ]
  },
  {
   "cell_type": "code",
   "execution_count": 23,
   "metadata": {
    "colab": {
     "base_uri": "https://localhost:8080/"
    },
    "executionInfo": {
     "elapsed": 206,
     "status": "ok",
     "timestamp": 1637019596037,
     "user": {
      "displayName": "Chinmay Mahendra Savadikar",
      "photoUrl": "https://lh3.googleusercontent.com/a/default-user=s64",
      "userId": "11610851333453948182"
     },
     "user_tz": 300
    },
    "id": "GtmDpRBH4XDQ",
    "outputId": "0e11a974-9b6d-4160-c442-caeabdbffa97"
   },
   "outputs": [
    {
     "name": "stdout",
     "output_type": "stream",
     "text": [
      "Agg metrics\n",
      "{'Accuracy': 0.8973454841088276, 'Precision': 0.8442889789932634, 'Recall': 0.9295998169478218, 'F1': 0.8798249370840083}\n",
      "Classwise Metrics\n",
      "{'Precision': array([0.98039807, 0.83204799, 0.91117534, 0.65353452]), 'Recall': array([0.8871236 , 0.93756035, 0.97868377, 0.91503154]), 'F1': array([0.93143151, 0.8816586 , 0.94372381, 0.76248583])}\n"
     ]
    }
   ],
   "source": [
    "agg_metrics = evaluator.aggregate_metrics(_labels, _output)\n",
    "print(\"Agg metrics\")\n",
    "print(agg_metrics)\n",
    "classwise_metrics = evaluator.classwise_metrics(_labels, _output)\n",
    "print(\"Classwise Metrics\")\n",
    "print(classwise_metrics)"
   ]
  },
  {
   "cell_type": "code",
   "execution_count": null,
   "metadata": {
    "id": "gZISb6yI1ewr"
   },
   "outputs": [],
   "source": []
  }
 ],
 "metadata": {
  "colab": {
   "authorship_tag": "ABX9TyPNyVxz4Gnx97V0/abpupMo",
   "collapsed_sections": [],
   "mount_file_id": "1okyXLzukdS36ntHR7kj2zAP5j01YWP0-",
   "name": "diff_seq_len_ensemble_prediction_labelled_data.ipynb",
   "provenance": []
  },
  "kernelspec": {
   "display_name": "Python 3 (ipykernel)",
   "language": "python",
   "name": "python3"
  },
  "language_info": {
   "codemirror_mode": {
    "name": "ipython",
    "version": 3
   },
   "file_extension": ".py",
   "mimetype": "text/x-python",
   "name": "python",
   "nbconvert_exporter": "python",
   "pygments_lexer": "ipython3",
   "version": "3.9.5"
  }
 },
 "nbformat": 4,
 "nbformat_minor": 1
}
