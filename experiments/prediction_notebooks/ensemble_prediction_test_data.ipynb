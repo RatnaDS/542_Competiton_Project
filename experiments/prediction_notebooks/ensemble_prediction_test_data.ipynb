{
 "cells": [
  {
   "cell_type": "code",
   "execution_count": null,
   "metadata": {
    "colab": {
     "base_uri": "https://localhost:8080/"
    },
    "executionInfo": {
     "elapsed": 978,
     "status": "ok",
     "timestamp": 1637023037677,
     "user": {
      "displayName": "Chinmay Mahendra Savadikar",
      "photoUrl": "https://lh3.googleusercontent.com/a/default-user=s64",
      "userId": "11610851333453948182"
     },
     "user_tz": 300
    },
    "id": "prIF1sjM-c3i",
    "outputId": "c92d0dbd-7e71-4b1c-b16b-2d0f011ffc9d"
   },
   "outputs": [
    {
     "name": "stdout",
     "output_type": "stream",
     "text": [
      " 2_conv-plus-normalization.ipynb\n",
      " attempt-1.ipynb\n",
      " Best\n",
      " best-conv-plus-normalization.ipynb\n",
      " Best_Models\n",
      "'Copy of attempt-1.ipynb'\n",
      "'Copy of conv-plus-normalization.ipynb'\n",
      "'Copy of current-conv-plus-normalization.ipynb'\n",
      "'Copy of Hyoer attempt-1.ipynb'\n",
      " current-conv-plus-normalization.ipynb\n",
      " data.zip\n",
      " experiments\n",
      "'Hyoer attempt-1.ipynb'\n",
      " lstm\n",
      " ml_utils\n",
      " Prediction\n",
      " test_data.zip\n",
      " window3\n"
     ]
    }
   ],
   "source": [
    "!ls drive/MyDrive/Classes/ece542/competition-project/"
   ]
  },
  {
   "cell_type": "code",
   "execution_count": null,
   "metadata": {
    "id": "Ng-s1F7Z-xKL"
   },
   "outputs": [],
   "source": [
    "!cp drive/MyDrive/Classes/ece542/competition-project/test_data.zip .\n",
    "!cp drive/MyDrive/Classes/ece542/competition-project/window3/test_3sec.zip ."
   ]
  },
  {
   "cell_type": "code",
   "execution_count": null,
   "metadata": {
    "colab": {
     "base_uri": "https://localhost:8080/"
    },
    "executionInfo": {
     "elapsed": 8589,
     "status": "ok",
     "timestamp": 1637023053881,
     "user": {
      "displayName": "Chinmay Mahendra Savadikar",
      "photoUrl": "https://lh3.googleusercontent.com/a/default-user=s64",
      "userId": "11610851333453948182"
     },
     "user_tz": 300
    },
    "id": "8wUZq7ty_AZO",
    "outputId": "6fb6752a-3175-425a-8373-671cba20b076"
   },
   "outputs": [
    {
     "name": "stdout",
     "output_type": "stream",
     "text": [
      "Archive:  test_data.zip\n",
      "   creating: test_data/\n",
      "   creating: test_data/preprocessed_data/\n",
      "  inflating: test_data/preprocessed_data/subject_012_session_01__x.csv  \n",
      "  inflating: test_data/preprocessed_data/subject_010_session_01__y.csv  \n",
      "  inflating: test_data/preprocessed_data/subject_012_session_01__y.csv  \n",
      "  inflating: test_data/preprocessed_data/subject_011_session_01__x.csv  \n",
      "  inflating: test_data/preprocessed_data/subject_010_session_01__x.csv  \n",
      "  inflating: test_data/preprocessed_data/subject_009_session_01__y.csv  \n",
      "  inflating: test_data/preprocessed_data/subject_011_session_01__y.csv  \n",
      "  inflating: test_data/preprocessed_data/subject_009_session_01__x.csv  \n",
      "Archive:  test_3sec.zip\n",
      "   creating: test/window3_sec/\n",
      "  inflating: test/window3_sec/subject_009_session_01__x.csv  \n",
      "  inflating: test/window3_sec/subject_009_session_01__y.csv  \n",
      "  inflating: test/window3_sec/subject_010_session_01__x.csv  \n",
      "  inflating: test/window3_sec/subject_010_session_01__y.csv  \n",
      "  inflating: test/window3_sec/subject_011_session_01__x.csv  \n",
      "  inflating: test/window3_sec/subject_011_session_01__y.csv  \n",
      "  inflating: test/window3_sec/subject_012_session_01__x.csv  \n",
      "  inflating: test/window3_sec/subject_012_session_01__y.csv  \n"
     ]
    }
   ],
   "source": [
    "!unzip test_data.zip\n",
    "!unzip test_3sec.zip"
   ]
  },
  {
   "cell_type": "code",
   "execution_count": null,
   "metadata": {
    "id": "1ZeuQxwE_NzP"
   },
   "outputs": [],
   "source": [
    "!rm test_data.zip\n",
    "!rm test_3sec.zip"
   ]
  },
  {
   "cell_type": "code",
   "execution_count": null,
   "metadata": {
    "colab": {
     "base_uri": "https://localhost:8080/"
    },
    "executionInfo": {
     "elapsed": 929,
     "status": "ok",
     "timestamp": 1637023076966,
     "user": {
      "displayName": "Chinmay Mahendra Savadikar",
      "photoUrl": "https://lh3.googleusercontent.com/a/default-user=s64",
      "userId": "11610851333453948182"
     },
     "user_tz": 300
    },
    "id": "sjjVhlkupOBO",
    "outputId": "3105d69c-1703-4026-bd04-d056b0949d0b"
   },
   "outputs": [
    {
     "name": "stdout",
     "output_type": "stream",
     "text": [
      "Cloning into 'ece542-competition-project'...\n",
      "remote: Enumerating objects: 238, done.\u001b[K\n",
      "remote: Counting objects: 100% (238/238), done.\u001b[K\n",
      "remote: Compressing objects: 100% (168/168), done.\u001b[K\n",
      "remote: Total 238 (delta 128), reused 158 (delta 60), pack-reused 0\u001b[K\n",
      "Receiving objects: 100% (238/238), 275.09 KiB | 7.05 MiB/s, done.\n",
      "Resolving deltas: 100% (128/128), done.\n"
     ]
    }
   ],
   "source": [
    "# Access token redacted. Replace <ACCESS_TOKEN> with your access token.\n",
    "!git clone https://savadikarc:<ACCESS_TOKEN>@github.com/savadikarc/ece542-competition-project.git"
   ]
  },
  {
   "cell_type": "code",
   "execution_count": null,
   "metadata": {
    "colab": {
     "base_uri": "https://localhost:8080/"
    },
    "executionInfo": {
     "elapsed": 321,
     "status": "ok",
     "timestamp": 1637023077812,
     "user": {
      "displayName": "Chinmay Mahendra Savadikar",
      "photoUrl": "https://lh3.googleusercontent.com/a/default-user=s64",
      "userId": "11610851333453948182"
     },
     "user_tz": 300
    },
    "id": "Y8yURtFRqGkj",
    "outputId": "bd05e985-97ad-4217-a2a5-d6b28d672041"
   },
   "outputs": [
    {
     "name": "stdout",
     "output_type": "stream",
     "text": [
      "Already on 'phase-1'\n",
      "Your branch is up to date with 'origin/phase-1'.\n",
      "From https://github.com/savadikarc/ece542-competition-project\n",
      " * branch            phase-1    -> FETCH_HEAD\n",
      "Already up to date.\n"
     ]
    }
   ],
   "source": [
    "!cd ece542-competition-project && git checkout phase-1 && git pull origin phase-1"
   ]
  },
  {
   "cell_type": "code",
   "execution_count": null,
   "metadata": {
    "id": "DJlBSAfPnuG_"
   },
   "outputs": [],
   "source": [
    "base_path = \"drive/MyDrive/Classes/ece542/competition-project\""
   ]
  },
  {
   "cell_type": "code",
   "execution_count": null,
   "metadata": {
    "id": "8kUcwing_Qkz"
   },
   "outputs": [],
   "source": [
    "import os\n",
    "import sys\n",
    "sys.path.append(\"ece542-competition-project\")"
   ]
  },
  {
   "cell_type": "code",
   "execution_count": null,
   "metadata": {
    "id": "_JxS3qkHmmRB"
   },
   "outputs": [],
   "source": [
    "import json\n",
    "from collections import Counter\n",
    "import torch\n",
    "import torch.nn as nn\n",
    "import torch.nn.functional as F\n",
    "from torch import optim\n",
    "from torch.optim.lr_scheduler import ReduceLROnPlateau\n",
    "from torch.utils.data import DataLoader\n",
    "from torch.utils.data.sampler import WeightedRandomSampler\n",
    "import numpy as np\n",
    "import pandas as pd\n",
    "from ml_utils.dataset import SubjectDataset"
   ]
  },
  {
   "cell_type": "code",
   "execution_count": null,
   "metadata": {
    "colab": {
     "base_uri": "https://localhost:8080/"
    },
    "executionInfo": {
     "elapsed": 8,
     "status": "ok",
     "timestamp": 1637023307216,
     "user": {
      "displayName": "Chinmay Mahendra Savadikar",
      "photoUrl": "https://lh3.googleusercontent.com/a/default-user=s64",
      "userId": "11610851333453948182"
     },
     "user_tz": 300
    },
    "id": "LJCQfTElnJJm",
    "outputId": "3cd473f5-54d9-45f2-9c52-a3212e17c2b9"
   },
   "outputs": [
    {
     "name": "stdout",
     "output_type": "stream",
     "text": [
      "Device: cpu\n"
     ]
    }
   ],
   "source": [
    "device = torch.device(\"cuda:0\" if torch.cuda.is_available() else \"cpu\")\n",
    "print(f\"Device: {device}\")"
   ]
  },
  {
   "cell_type": "code",
   "execution_count": null,
   "metadata": {
    "id": "5mKgxfP1mmMg"
   },
   "outputs": [],
   "source": [
    "test_data_path_1sec = os.path.join(\"test_data\", \"preprocessed_data\")\n",
    "\n",
    "test_data_path_3sec = os.path.join(\"test\", \"window3_sec\")\n",
    "\n",
    "splits_file = os.path.join(base_path, \"experiments\", \"metadata\", \"split_ids.json\")\n",
    "with open(splits_file, \"r\") as f:\n",
    "    split_ids = json.load(f)"
   ]
  },
  {
   "cell_type": "code",
   "execution_count": null,
   "metadata": {
    "id": "kuihFDGQbTBm"
   },
   "outputs": [],
   "source": [
    "stats_path = os.path.join(base_path, \"experiments\", \"metadata\", \"statistics.json\")\n",
    "with open(stats_path, \"r\") as f:\n",
    "    stats = json.load(f)"
   ]
  },
  {
   "cell_type": "code",
   "execution_count": null,
   "metadata": {
    "id": "mzQdu4exbfOl"
   },
   "outputs": [],
   "source": [
    "min = np.array([v[\"min\"] for k, v in stats.items()])\n",
    "max = np.array([v[\"max\"] for k, v in stats.items()])\n",
    "\n",
    "min = torch.from_numpy(min).float()\n",
    "min = torch.unsqueeze((torch.unsqueeze(min, 0)), -1)\n",
    "min = min.to(device)\n",
    "max = torch.from_numpy(max).float().to(device)\n",
    "max = torch.unsqueeze((torch.unsqueeze(max, 0)), -1)\n",
    "max = max.to(device)"
   ]
  },
  {
   "cell_type": "code",
   "execution_count": null,
   "metadata": {
    "colab": {
     "base_uri": "https://localhost:8080/"
    },
    "executionInfo": {
     "elapsed": 5,
     "status": "ok",
     "timestamp": 1637023309328,
     "user": {
      "displayName": "Chinmay Mahendra Savadikar",
      "photoUrl": "https://lh3.googleusercontent.com/a/default-user=s64",
      "userId": "11610851333453948182"
     },
     "user_tz": 300
    },
    "id": "XJXYMQrWb-zN",
    "outputId": "7074d18c-1bf8-4e20-e52b-45b461787456"
   },
   "outputs": [
    {
     "data": {
      "text/plain": [
       "torch.Size([1, 6, 1])"
      ]
     },
     "execution_count": 8,
     "metadata": {},
     "output_type": "execute_result"
    }
   ],
   "source": [
    "min.shape"
   ]
  },
  {
   "cell_type": "code",
   "execution_count": null,
   "metadata": {
    "id": "n5RT6OvirVrA"
   },
   "outputs": [],
   "source": [
    "batch_size = 128\n",
    "FILENAME_TEMPLATE = \"subject_{}_{}__y.csv\"\n",
    "save_dir = \"drive/MyDrive/Classes/ece542/competition-project/Prediction/ensemble_1plus3\"\n",
    "if not os.path.exists(save_dir):\n",
    "    os.makedirs(save_dir)"
   ]
  },
  {
   "cell_type": "code",
   "execution_count": null,
   "metadata": {
    "id": "7UxWDOBmmmOv"
   },
   "outputs": [],
   "source": [
    "# Model definition\n",
    "class OneDConvNet1(nn.Module):\n",
    "  def __init__(self, n_features, n_classes, base_filters=32):\n",
    "    super(OneDConvNet1, self).__init__()\n",
    "\n",
    "    self.conv1 = nn.Conv1d(in_channels=n_features, out_channels=base_filters, kernel_size=3, stride=1, padding=1)\n",
    "    self.norm1 = nn.LayerNorm(base_filters*40)\n",
    "    self.pool1 = nn.AvgPool1d(kernel_size=2, stride=2)\n",
    "    self.conv2 = nn.Conv1d(in_channels=base_filters, out_channels=base_filters*2, kernel_size=3, stride=1, padding=1)\n",
    "    self.norm2 = nn.LayerNorm(base_filters*2*20)\n",
    "    self.pool2 = nn.AvgPool1d(kernel_size=2, stride=2)\n",
    "    self.conv3 = nn.Conv1d(in_channels=base_filters*2, out_channels=base_filters*4, kernel_size=3, stride=1, padding=1)\n",
    "    self.norm3 = nn.LayerNorm(base_filters*4*10)\n",
    "    self.pool3 = nn.AvgPool1d(kernel_size=2, stride=2)\n",
    "    self.conv4 = nn.Conv1d(in_channels=base_filters*4, out_channels=base_filters*8, kernel_size=3, stride=1, padding=1)\n",
    "    self.norm4 = nn.LayerNorm(base_filters*8*5)\n",
    "    self.fc1 = nn.Linear(base_filters*8, base_filters*16)\n",
    "    self.dropout5 = nn.Dropout(0.4)\n",
    "    self.fc2 = nn.Linear(base_filters*16, n_classes)\n",
    "  \n",
    "  def forward(self, x):\n",
    "    x = self.conv1(x)\n",
    "    N, C, T = x.shape\n",
    "    x = x.view(N, C*T)\n",
    "    x = self.norm1(x)\n",
    "    x = x.view(N, C, T)\n",
    "    x = self.pool1(F.relu(x))\n",
    "\n",
    "    x = self.conv2(x)\n",
    "    N, C, T = x.shape\n",
    "    x = x.view(N, C*T)\n",
    "    x = self.norm2(x)\n",
    "    x = x.view(N, C, T)\n",
    "    x = self.pool2(F.relu(x))\n",
    "\n",
    "    x = self.conv3(x)\n",
    "    N, C, T = x.shape\n",
    "    x = x.view(N, C*T)\n",
    "    x = self.norm3(x)\n",
    "    x = x.view(N, C, T)\n",
    "    x = self.pool3(F.relu(x))\n",
    "\n",
    "    x = self.conv4(x)\n",
    "    N, C, T = x.shape\n",
    "    x = x.view(N, C*T)\n",
    "    x = self.norm4(x)\n",
    "    x = x.view(N, C, T)\n",
    "    x = F.relu(x)\n",
    "\n",
    "    N, C, T = x.size()\n",
    "    x = x.mean(dim=-1) # Flatten\n",
    "    x = self.dropout5(F.relu(self.fc1(x)))\n",
    "    x = self.fc2(x)\n",
    "    return x\n",
    "\n",
    "model1 = OneDConvNet1(6, 4).to(device)\n",
    "model1.load_state_dict(torch.load(os.path.join(base_path, \"experiments\", \"models\", \"checkpoint_instance_norm_dropout_sgd_lr3.pth\")))\n",
    "model1 = model1.to(device)"
   ]
  },
  {
   "cell_type": "code",
   "execution_count": null,
   "metadata": {
    "id": "6EiBT6RSSg9O"
   },
   "outputs": [],
   "source": [
    "# Model definition\n",
    "class OneDConvNet2(nn.Module):\n",
    "  def __init__(self, n_features, n_classes):\n",
    "    super(OneDConvNet2, self).__init__()\n",
    "    self.conv1 = nn.Conv1d(in_channels=n_features, out_channels=16, kernel_size=3, stride=1, padding=1)\n",
    "    self.norm1 = nn.LayerNorm(16*40)\n",
    "    self.pool1 = nn.AvgPool1d(kernel_size=2, stride=2)\n",
    "    self.conv2 = nn.Conv1d(in_channels= 16, out_channels=32, kernel_size=3, stride=1, padding=1)\n",
    "    self.norm2 = nn.LayerNorm(32*20)\n",
    "    self.pool2 = nn.AvgPool1d(kernel_size=2, stride=2)\n",
    "    self.conv3 = nn.Conv1d(in_channels=32, out_channels=64, kernel_size=3, stride=1, padding=1)\n",
    "    self.norm3 = nn.LayerNorm(64*10)\n",
    "    self.pool3 = nn.AvgPool1d(kernel_size=2, stride=2)\n",
    "    self.conv4 = nn.Conv1d(in_channels=64, out_channels=128, kernel_size=3, stride=1, padding=1)\n",
    "    self.norm4 = nn.LayerNorm(128*5)\n",
    "    self.fc1 = nn.Linear(128, 64)\n",
    "    self.dropout5 = nn.Dropout(0.2)\n",
    "    self.fc2 = nn.Linear(64, n_classes)\n",
    "  \n",
    "  def forward(self, x):\n",
    "    x = self.conv1(x)\n",
    "    N, C, T = x.shape\n",
    "    x = x.view(N, C*T)\n",
    "    x = self.norm1(x)\n",
    "    x = x.view(N, C, T)\n",
    "    x = self.pool1(F.relu(x))\n",
    "\n",
    "    x = self.conv2(x)\n",
    "    N, C, T = x.shape\n",
    "    x = x.view(N, C*T)\n",
    "    x = self.norm2(x)\n",
    "    x = x.view(N, C, T)\n",
    "    x = self.pool2(F.relu(x))\n",
    "\n",
    "    x = self.conv3(x)\n",
    "    N, C, T = x.shape\n",
    "    x = x.view(N, C*T)\n",
    "    x = self.norm3(x)\n",
    "    x = x.view(N, C, T)\n",
    "    x = self.pool3(F.relu(x))\n",
    "\n",
    "    x = self.conv4(x)\n",
    "    N, C, T = x.shape\n",
    "    x = x.view(N, C*T)\n",
    "    x = self.norm4(x)\n",
    "    x = x.view(N, C, T)\n",
    "    x = F.relu(x)\n",
    "\n",
    "    N, C, T = x.size()\n",
    "    x = x.mean(dim=-1) # Flatten\n",
    "    x = self.dropout5(F.relu(self.fc1(x)))\n",
    "    x = self.fc2(x)\n",
    "    return x\n",
    "\n",
    "model2 = OneDConvNet2(6, 4).to(device)\n",
    "model2.load_state_dict(torch.load(os.path.join(base_path, \"experiments\", \"models\", \"checkpoint_norm_dropout_32_1_long.pth\")))\n",
    "model2 = model2.to(device)"
   ]
  },
  {
   "cell_type": "code",
   "execution_count": null,
   "metadata": {
    "colab": {
     "base_uri": "https://localhost:8080/"
    },
    "executionInfo": {
     "elapsed": 281,
     "status": "ok",
     "timestamp": 1637023312316,
     "user": {
      "displayName": "Chinmay Mahendra Savadikar",
      "photoUrl": "https://lh3.googleusercontent.com/a/default-user=s64",
      "userId": "11610851333453948182"
     },
     "user_tz": 300
    },
    "id": "Lb4rM0g_5XE6",
    "outputId": "af798ee8-7c9f-46fe-c315-982be22c1073"
   },
   "outputs": [
    {
     "data": {
      "text/plain": [
       "OneDConvNet3(\n",
       "  (conv1): Conv1d(6, 32, kernel_size=(3,), stride=(1,), padding=(1,))\n",
       "  (norm1): LayerNorm((3840,), eps=1e-05, elementwise_affine=True)\n",
       "  (pool1): AvgPool1d(kernel_size=(2,), stride=(2,), padding=(0,))\n",
       "  (conv2): Conv1d(32, 64, kernel_size=(3,), stride=(1,), padding=(1,))\n",
       "  (norm2): LayerNorm((3840,), eps=1e-05, elementwise_affine=True)\n",
       "  (pool2): AvgPool1d(kernel_size=(2,), stride=(2,), padding=(0,))\n",
       "  (conv3): Conv1d(64, 128, kernel_size=(3,), stride=(1,), padding=(1,))\n",
       "  (norm3): LayerNorm((3840,), eps=1e-05, elementwise_affine=True)\n",
       "  (pool3): AvgPool1d(kernel_size=(2,), stride=(2,), padding=(0,))\n",
       "  (conv4): Conv1d(128, 256, kernel_size=(3,), stride=(1,), padding=(1,))\n",
       "  (norm4): LayerNorm((3840,), eps=1e-05, elementwise_affine=True)\n",
       "  (fc1): Linear(in_features=3840, out_features=512, bias=True)\n",
       "  (dropout5): Dropout(p=0.5, inplace=False)\n",
       "  (fc2): Linear(in_features=512, out_features=4, bias=True)\n",
       ")"
      ]
     },
     "execution_count": 12,
     "metadata": {},
     "output_type": "execute_result"
    }
   ],
   "source": [
    "class OneDConvNet3(nn.Module):\n",
    "  def __init__(self, n_features, n_classes, base_filters=32):\n",
    "    super(OneDConvNet3, self).__init__()\n",
    "\n",
    "    self.conv1 = nn.Conv1d(in_channels=n_features, out_channels=base_filters, kernel_size=3, stride=1, padding=1)\n",
    "    self.norm1 = nn.LayerNorm(base_filters*120)\n",
    "    self.pool1 = nn.AvgPool1d(kernel_size=2, stride=2)\n",
    "    self.conv2 = nn.Conv1d(in_channels=base_filters, out_channels=base_filters*2, kernel_size=3, stride=1, padding=1)\n",
    "    self.norm2 = nn.LayerNorm(base_filters*2*60)\n",
    "    self.pool2 = nn.AvgPool1d(kernel_size=2, stride=2)\n",
    "    self.conv3 = nn.Conv1d(in_channels=base_filters*2, out_channels=base_filters*4, kernel_size=3, stride=1, padding=1)\n",
    "    self.norm3 = nn.LayerNorm(base_filters*4*30)\n",
    "    self.pool3 = nn.AvgPool1d(kernel_size=2, stride=2)\n",
    "    self.conv4 = nn.Conv1d(in_channels=base_filters*4, out_channels=base_filters*8, kernel_size=3, stride=1, padding=1)\n",
    "    self.norm4 = nn.LayerNorm(base_filters*8*15)\n",
    "    self.fc1 = nn.Linear(base_filters*8*15, base_filters*16)\n",
    "    self.dropout5 = nn.Dropout(0.5)\n",
    "    self.fc2 = nn.Linear(base_filters*16, n_classes)\n",
    "  \n",
    "  def forward(self, x):\n",
    "    x = self.conv1(x)\n",
    "    N, C, T = x.shape\n",
    "    x = x.view(N, C*T)\n",
    "    x = self.norm1(x)\n",
    "    x = x.view(N, C, T)\n",
    "    x = self.pool1(F.relu(x))\n",
    "\n",
    "    x = self.conv2(x)\n",
    "    N, C, T = x.shape\n",
    "    x = x.view(N, C*T)\n",
    "    x = self.norm2(x)\n",
    "    x = x.view(N, C, T)\n",
    "    x = self.pool2(F.relu(x))\n",
    "\n",
    "    x = self.conv3(x)\n",
    "    N, C, T = x.shape\n",
    "    x = x.view(N, C*T)\n",
    "    x = self.norm3(x)\n",
    "    x = x.view(N, C, T)\n",
    "    x = self.pool3(F.relu(x))\n",
    "\n",
    "    x = self.conv4(x)\n",
    "    N, C, T = x.shape\n",
    "    x = x.view(N, C*T)\n",
    "    x = self.norm4(x)\n",
    "    x = x.view(N, C, T)\n",
    "    x = F.relu(x)\n",
    "\n",
    "    N, C, T = x.size()\n",
    "    x = x.view(-1, C*T) # Flatten\n",
    "    x = self.dropout5(F.relu(self.fc1(x)))\n",
    "    x = self.fc2(x)\n",
    "    return x\n",
    "\n",
    "base_filters = 32\n",
    "interval = 3\n",
    "checkpoint_save_path = os.path.join(base_path, \"experiments\", \"models\", \"window3\")\n",
    "filename = f\"cnn_{base_filters}_interval{interval}.pth\"\n",
    "filename_long = f\"cnn_{base_filters}_interval{interval}_long.pth\"\n",
    "model3 = OneDConvNet3(6, 4, base_filters).to(device)\n",
    "model3.load_state_dict(torch.load(os.path.join(checkpoint_save_path, filename)))\n",
    "model3.to(device)"
   ]
  },
  {
   "cell_type": "code",
   "execution_count": null,
   "metadata": {
    "colab": {
     "base_uri": "https://localhost:8080/"
    },
    "executionInfo": {
     "elapsed": 27181,
     "status": "ok",
     "timestamp": 1637023340002,
     "user": {
      "displayName": "Chinmay Mahendra Savadikar",
      "photoUrl": "https://lh3.googleusercontent.com/a/default-user=s64",
      "userId": "11610851333453948182"
     },
     "user_tz": 300
    },
    "id": "UosykPCA0GX_",
    "outputId": "c9332443-985e-4e46-b151-7ecfb11e7d22"
   },
   "outputs": [
    {
     "name": "stdout",
     "output_type": "stream",
     "text": [
      "Converting uid 009_01\n",
      "Converting uid 009_01\n",
      "Converting uid 010_01\n",
      "Converting uid 010_01\n",
      "Converting uid 011_01\n",
      "Converting uid 011_01\n",
      "Converting uid 012_01\n",
      "Converting uid 012_01\n"
     ]
    }
   ],
   "source": [
    "#main_cell\n",
    "split_ids = [\"009_01\", \"010_01\", \"011_01\", \"012_01\"]\n",
    "batch_size = 256\n",
    "for id in split_ids:\n",
    "\n",
    "    test_dataset_1sec = SubjectDataset(\n",
    "        test_data_path_1sec, \n",
    "        [id]\n",
    "    )\n",
    "    test_dataloader_1sec = DataLoader(test_dataset_1sec, batch_size=batch_size, shuffle=False)\n",
    "    test_iterations_1sec = (len(test_dataset_1sec) // batch_size) + ((len(test_dataset_1sec) % batch_size) != 0)\n",
    "\n",
    "    test_dataset_3sec = SubjectDataset(\n",
    "        test_data_path_3sec, \n",
    "        [id]\n",
    "    )\n",
    "    test_dataloader_3sec = DataLoader(test_dataset_3sec, batch_size=batch_size, shuffle=False)\n",
    "    test_iterations_3sec = (len(test_dataset_3sec) // batch_size) + ((len(test_dataset_3sec) % batch_size) != 0)\n",
    "\n",
    "    output = []\n",
    "\n",
    "    for (X_1sec, y_1sec), (X_3sec, y_3sec) in zip(test_dataloader_1sec, test_dataloader_3sec):\n",
    "\n",
    "        X_1sec = X_1sec.float().to(device)\n",
    "        X_1sec = (X_1sec - min) / (max - min)\n",
    "\n",
    "        X_3sec = X_3sec.float().to(device)\n",
    "        X_3sec = (X_3sec - min) / (max - min)\n",
    "\n",
    "        y_pred1 = model1(X_1sec)\n",
    "        y_pred2 = model2(X_1sec)\n",
    "        y_pred3 = model3(X_3sec)\n",
    "\n",
    "        y_pred1 = F.softmax(y_pred1, dim=1)\n",
    "        y_pred2 = F.softmax(y_pred2, dim=1)\n",
    "        y_pred3 = F.softmax(y_pred3, dim=1)\n",
    "\n",
    "        y_pred = (y_pred1 + y_pred2 + y_pred3)/3.\n",
    "        predicted_classes = torch.argmax(y_pred, dim=1).detach().cpu().numpy()\n",
    "\n",
    "        output.append(predicted_classes)\n",
    "\n",
    "    _output = np.concatenate(output, axis=0)\n",
    "\n",
    "    df = pd.DataFrame({\"label\": _output})\n",
    "\n",
    "    subject_id, session_id = id.split(\"_\")\n",
    "\n",
    "    filename = FILENAME_TEMPLATE.format(subject_id, session_id)\n",
    "    df.to_csv(os.path.join(save_dir, filename), header=False, index=False)"
   ]
  },
  {
   "cell_type": "code",
   "execution_count": null,
   "metadata": {
    "id": "gZISb6yI1ewr"
   },
   "outputs": [],
   "source": []
  }
 ],
 "metadata": {
  "colab": {
   "authorship_tag": "ABX9TyNbLmiZQ6AjlV1c99MV0M4i",
   "collapsed_sections": [],
   "mount_file_id": "1WTxZcXf0YZid8sCIqNdmPcnz5gLVtAID",
   "name": "diff_seq_len_ensemble_prediction_test_data.ipynb",
   "provenance": []
  },
  "kernelspec": {
   "display_name": "Python 3 (ipykernel)",
   "language": "python",
   "name": "python3"
  },
  "language_info": {
   "codemirror_mode": {
    "name": "ipython",
    "version": 3
   },
   "file_extension": ".py",
   "mimetype": "text/x-python",
   "name": "python",
   "nbconvert_exporter": "python",
   "pygments_lexer": "ipython3",
   "version": "3.9.5"
  }
 },
 "nbformat": 4,
 "nbformat_minor": 1
}
