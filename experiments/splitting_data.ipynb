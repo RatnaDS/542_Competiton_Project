{
 "cells": [
  {
   "cell_type": "code",
   "execution_count": null,
   "metadata": {},
   "outputs": [],
   "source": [
    "import os\n",
    "import shutil\n",
    "import sys\n",
    "sys.path.append(\"..\")"
   ]
  },
  {
   "cell_type": "code",
   "execution_count": null,
   "metadata": {},
   "outputs": [],
   "source": [
    "import json\n",
    "import pandas as pd\n",
    "import numpy as np\n",
    "from data_utils.dataloader import Dataloader\n",
    "from data_utils.splitting import DataSplitter"
   ]
  },
  {
   "cell_type": "code",
   "execution_count": null,
   "metadata": {},
   "outputs": [],
   "source": [
    "data_base_path = os.path.join(\"..\", \"data\", \"TrainingData\")\n",
    "dataloader = Dataloader(data_base_path)"
   ]
  },
  {
   "cell_type": "code",
   "execution_count": null,
   "metadata": {},
   "outputs": [],
   "source": [
    "with open(os.path.join(\"metadata\", \"split_ids.json\"), \"r\") as f:\n",
    "    splits = json.load(f)"
   ]
  },
  {
   "cell_type": "code",
   "execution_count": null,
   "metadata": {},
   "outputs": [],
   "source": [
    "def create_path(path):\n",
    "    if not os.path.exists(path):\n",
    "        os.makedirs(path)"
   ]
  },
  {
   "cell_type": "code",
   "execution_count": null,
   "metadata": {},
   "outputs": [],
   "source": [
    "print(splits)"
   ]
  },
  {
   "cell_type": "code",
   "execution_count": null,
   "metadata": {},
   "outputs": [],
   "source": [
    "# The paths to save the splits\n",
    "data_save_path = os.path.join(\"window2_data\", \"splits\")\n",
    "train_path = os.path.join(data_save_path, \"train\")\n",
    "create_path(train_path)\n",
    "val_path = os.path.join(data_save_path, \"val\")\n",
    "create_path(val_path)\n",
    "test_path = os.path.join(data_save_path, \"test\")\n",
    "create_path(test_path)\n",
    "save_paths = {\n",
    "    \"train\": train_path,\n",
    "    \"val\": val_path,\n",
    "    \"test\": test_path\n",
    "}"
   ]
  },
  {
   "cell_type": "code",
   "execution_count": null,
   "metadata": {},
   "outputs": [],
   "source": [
    "src_path = os.path.join(\"window2_data\", \"preprocessed_data\")\n",
    "SRC_X_TEMPLATE = \"subject_{}_session_{}__x.csv\"\n",
    "SRC_Y_TEMPLATE = \"subject_{}_session_{}__y.csv\""
   ]
  },
  {
   "cell_type": "code",
   "execution_count": null,
   "metadata": {},
   "outputs": [],
   "source": [
    "DST_X_TEMPLATE = \"subject_{}_session_{}__x.csv\"\n",
    "DST_Y_TEMPLATE = \"subject_{}_session_{}__y.csv\""
   ]
  },
  {
   "cell_type": "code",
   "execution_count": null,
   "metadata": {},
   "outputs": [],
   "source": [
    "for split, uids in splits.items():\n",
    "    savepath = save_paths[split]\n",
    "    for uid in uids:\n",
    "        subject_id, session_id = uid.split(\"_\")\n",
    "        \n",
    "        src_filename_x = os.path.join(src_path, SRC_X_TEMPLATE.format(subject_id, session_id))\n",
    "        save_filename_x = os.path.join(savepath, DST_X_TEMPLATE.format(subject_id, session_id))\n",
    "        \n",
    "        src_filename_y = os.path.join(src_path, SRC_Y_TEMPLATE.format(subject_id, session_id))\n",
    "        save_filename_y = os.path.join(savepath, DST_Y_TEMPLATE.format(subject_id, session_id))\n",
    "        \n",
    "        shutil.move(src_filename_x, save_filename_x)\n",
    "        shutil.move(src_filename_y, save_filename_y)"
   ]
  }
 ],
 "metadata": {
  "kernelspec": {
   "display_name": "Python 3",
   "language": "python",
   "name": "python3"
  },
  "language_info": {
   "codemirror_mode": {
    "name": "ipython",
    "version": 3
   },
   "file_extension": ".py",
   "mimetype": "text/x-python",
   "name": "python",
   "nbconvert_exporter": "python",
   "pygments_lexer": "ipython3",
   "version": "3.9.0"
  }
 },
 "nbformat": 4,
 "nbformat_minor": 4
}
