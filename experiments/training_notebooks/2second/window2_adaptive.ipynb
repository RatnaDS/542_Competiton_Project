{
 "cells": [
  {
   "cell_type": "code",
   "execution_count": null,
   "metadata": {
    "colab": {
     "base_uri": "https://localhost:8080/"
    },
    "executionInfo": {
     "elapsed": 406,
     "status": "ok",
     "timestamp": 1636682031146,
     "user": {
      "displayName": "Sahil Anish Palarpwar",
      "photoUrl": "https://lh3.googleusercontent.com/a/default-user=s64",
      "userId": "17757512684560375750"
     },
     "user_tz": 300
    },
    "id": "prIF1sjM-c3i",
    "outputId": "19658e87-f428-4aa2-ab9c-a2cf4ba0628d"
   },
   "outputs": [
    {
     "name": "stdout",
     "output_type": "stream",
     "text": [
      "data.zip  ml_utils  Predictions    window2_data.zip\n",
      "metadata  Models    test_data.zip\n"
     ]
    }
   ],
   "source": [
    "!ls /content/drive/MyDrive/ECE_542/Competition_Project"
   ]
  },
  {
   "cell_type": "code",
   "execution_count": null,
   "metadata": {
    "colab": {
     "base_uri": "https://localhost:8080/"
    },
    "executionInfo": {
     "elapsed": 17259,
     "status": "ok",
     "timestamp": 1636682027140,
     "user": {
      "displayName": "Sahil Anish Palarpwar",
      "photoUrl": "https://lh3.googleusercontent.com/a/default-user=s64",
      "userId": "17757512684560375750"
     },
     "user_tz": 300
    },
    "id": "22ITlwg0FkeF",
    "outputId": "a1be0186-1a75-4250-949e-7f3023f8d0f5"
   },
   "outputs": [
    {
     "name": "stdout",
     "output_type": "stream",
     "text": [
      "Mounted at /content/drive\n"
     ]
    }
   ],
   "source": [
    "from google.colab import drive\n",
    "drive.mount('/content/drive')"
   ]
  },
  {
   "cell_type": "code",
   "execution_count": null,
   "metadata": {
    "id": "Ng-s1F7Z-xKL"
   },
   "outputs": [],
   "source": [
    "!cp /content/drive/MyDrive/ECE_542/Competition_Project/window2_data.zip ."
   ]
  },
  {
   "cell_type": "code",
   "execution_count": null,
   "metadata": {
    "colab": {
     "base_uri": "https://localhost:8080/"
    },
    "executionInfo": {
     "elapsed": 22076,
     "status": "ok",
     "timestamp": 1636682071851,
     "user": {
      "displayName": "Sahil Anish Palarpwar",
      "photoUrl": "https://lh3.googleusercontent.com/a/default-user=s64",
      "userId": "17757512684560375750"
     },
     "user_tz": 300
    },
    "id": "8wUZq7ty_AZO",
    "outputId": "89387c4f-71ed-4bcb-d1c4-a0d1571233b8"
   },
   "outputs": [
    {
     "name": "stdout",
     "output_type": "stream",
     "text": [
      "Archive:  window2_data.zip\n",
      "   creating: window2_data/preprocessed_data/\n",
      "   creating: window2_data/preprocessed_data_test/\n",
      "  inflating: window2_data/preprocessed_data_test/subject_009_session_01__x.csv  \n",
      "  inflating: window2_data/preprocessed_data_test/subject_009_session_01__y.csv  \n",
      "  inflating: window2_data/preprocessed_data_test/subject_010_session_01__x.csv  \n",
      "  inflating: window2_data/preprocessed_data_test/subject_010_session_01__y.csv  \n",
      "  inflating: window2_data/preprocessed_data_test/subject_011_session_01__x.csv  \n",
      "  inflating: window2_data/preprocessed_data_test/subject_011_session_01__y.csv  \n",
      "  inflating: window2_data/preprocessed_data_test/subject_012_session_01__x.csv  \n",
      "  inflating: window2_data/preprocessed_data_test/subject_012_session_01__y.csv  \n",
      "   creating: window2_data/splits/\n",
      "   creating: window2_data/splits/test/\n",
      "  inflating: window2_data/splits/test/subject_005_session_03__x.csv  \n",
      "  inflating: window2_data/splits/test/subject_005_session_03__y.csv  \n",
      "  inflating: window2_data/splits/test/subject_006_session_01__x.csv  \n",
      "  inflating: window2_data/splits/test/subject_006_session_01__y.csv  \n",
      "  inflating: window2_data/splits/test/subject_006_session_02__x.csv  \n",
      "  inflating: window2_data/splits/test/subject_006_session_02__y.csv  \n",
      "  inflating: window2_data/splits/test/subject_006_session_03__x.csv  \n",
      "  inflating: window2_data/splits/test/subject_006_session_03__y.csv  \n",
      "  inflating: window2_data/splits/test/subject_007_session_01__x.csv  \n",
      "  inflating: window2_data/splits/test/subject_007_session_01__y.csv  \n",
      "  inflating: window2_data/splits/test/subject_007_session_02__x.csv  \n",
      "  inflating: window2_data/splits/test/subject_007_session_02__y.csv  \n",
      "  inflating: window2_data/splits/test/subject_007_session_03__x.csv  \n",
      "  inflating: window2_data/splits/test/subject_007_session_03__y.csv  \n",
      "  inflating: window2_data/splits/test/subject_007_session_04__x.csv  \n",
      "  inflating: window2_data/splits/test/subject_007_session_04__y.csv  \n",
      "  inflating: window2_data/splits/test/subject_008_session_01__x.csv  \n",
      "  inflating: window2_data/splits/test/subject_008_session_01__y.csv  \n",
      "   creating: window2_data/splits/train/\n",
      "  inflating: window2_data/splits/train/subject_001_session_02__x.csv  \n",
      "  inflating: window2_data/splits/train/subject_001_session_02__y.csv  \n",
      "  inflating: window2_data/splits/train/subject_001_session_03__x.csv  \n",
      "  inflating: window2_data/splits/train/subject_001_session_03__y.csv  \n",
      "  inflating: window2_data/splits/train/subject_001_session_05__x.csv  \n",
      "  inflating: window2_data/splits/train/subject_001_session_05__y.csv  \n",
      "  inflating: window2_data/splits/train/subject_001_session_06__x.csv  \n",
      "  inflating: window2_data/splits/train/subject_001_session_06__y.csv  \n",
      "  inflating: window2_data/splits/train/subject_001_session_07__x.csv  \n",
      "  inflating: window2_data/splits/train/subject_001_session_07__y.csv  \n",
      "  inflating: window2_data/splits/train/subject_002_session_02__x.csv  \n",
      "  inflating: window2_data/splits/train/subject_002_session_02__y.csv  \n",
      "  inflating: window2_data/splits/train/subject_002_session_03__x.csv  \n",
      "  inflating: window2_data/splits/train/subject_002_session_03__y.csv  \n",
      "  inflating: window2_data/splits/train/subject_002_session_04__x.csv  \n",
      "  inflating: window2_data/splits/train/subject_002_session_04__y.csv  \n",
      "  inflating: window2_data/splits/train/subject_002_session_05__x.csv  \n",
      "  inflating: window2_data/splits/train/subject_002_session_05__y.csv  \n",
      "  inflating: window2_data/splits/train/subject_003_session_01__x.csv  \n",
      "  inflating: window2_data/splits/train/subject_003_session_01__y.csv  \n",
      "  inflating: window2_data/splits/train/subject_003_session_02__x.csv  \n",
      "  inflating: window2_data/splits/train/subject_003_session_02__y.csv  \n",
      "  inflating: window2_data/splits/train/subject_003_session_03__x.csv  \n",
      "  inflating: window2_data/splits/train/subject_003_session_03__y.csv  \n",
      "  inflating: window2_data/splits/train/subject_004_session_01__x.csv  \n",
      "  inflating: window2_data/splits/train/subject_004_session_01__y.csv  \n",
      "  inflating: window2_data/splits/train/subject_004_session_02__x.csv  \n",
      "  inflating: window2_data/splits/train/subject_004_session_02__y.csv  \n",
      "  inflating: window2_data/splits/train/subject_005_session_01__x.csv  \n",
      "  inflating: window2_data/splits/train/subject_005_session_01__y.csv  \n",
      "  inflating: window2_data/splits/train/subject_005_session_02__x.csv  \n",
      "  inflating: window2_data/splits/train/subject_005_session_02__y.csv  \n",
      "   creating: window2_data/splits/val/\n",
      "  inflating: window2_data/splits/val/subject_001_session_01__x.csv  \n",
      "  inflating: window2_data/splits/val/subject_001_session_01__y.csv  \n",
      "  inflating: window2_data/splits/val/subject_001_session_04__x.csv  \n",
      "  inflating: window2_data/splits/val/subject_001_session_04__y.csv  \n",
      "  inflating: window2_data/splits/val/subject_001_session_08__x.csv  \n",
      "  inflating: window2_data/splits/val/subject_001_session_08__y.csv  \n",
      "  inflating: window2_data/splits/val/subject_002_session_01__x.csv  \n",
      "  inflating: window2_data/splits/val/subject_002_session_01__y.csv  \n"
     ]
    }
   ],
   "source": [
    "!unzip window2_data.zip"
   ]
  },
  {
   "cell_type": "code",
   "execution_count": null,
   "metadata": {
    "id": "1ZeuQxwE_NzP"
   },
   "outputs": [],
   "source": [
    "!rm data.zip"
   ]
  },
  {
   "cell_type": "markdown",
   "metadata": {
    "id": "9OoQXL-PPr87"
   },
   "source": []
  },
  {
   "cell_type": "code",
   "execution_count": null,
   "metadata": {
    "colab": {
     "base_uri": "https://localhost:8080/"
    },
    "executionInfo": {
     "elapsed": 1545,
     "status": "ok",
     "timestamp": 1636682091009,
     "user": {
      "displayName": "Sahil Anish Palarpwar",
      "photoUrl": "https://lh3.googleusercontent.com/a/default-user=s64",
      "userId": "17757512684560375750"
     },
     "user_tz": 300
    },
    "id": "gDq6r9hIGGDQ",
    "outputId": "bfb155b0-8644-436f-aad7-b44ed95d44d5"
   },
   "outputs": [
    {
     "name": "stdout",
     "output_type": "stream",
     "text": [
      "drive  ml_utils  sample_data  window2_data  window2_data.zip\n"
     ]
    }
   ],
   "source": [
    "!cp -r /content/drive/MyDrive/ECE_542/Competition_Project/ml_utils .\n",
    "!ls"
   ]
  },
  {
   "cell_type": "code",
   "execution_count": null,
   "metadata": {
    "id": "DJlBSAfPnuG_"
   },
   "outputs": [],
   "source": [
    "base_path = \"/content/drive/MyDrive/ECE_542/Competition_Project\""
   ]
  },
  {
   "cell_type": "code",
   "execution_count": null,
   "metadata": {
    "id": "8kUcwing_Qkz"
   },
   "outputs": [],
   "source": [
    "import os\n",
    "import sys\n",
    "# sys.path.append(\"ece542-competition-project\")"
   ]
  },
  {
   "cell_type": "code",
   "execution_count": null,
   "metadata": {
    "id": "_JxS3qkHmmRB"
   },
   "outputs": [],
   "source": [
    "import json\n",
    "from collections import Counter\n",
    "import torch\n",
    "import torch.nn as nn\n",
    "import torch.nn.functional as F\n",
    "from torch import optim\n",
    "from torch.optim.lr_scheduler import ReduceLROnPlateau\n",
    "from torch.utils.data import DataLoader\n",
    "from torch.utils.data.sampler import WeightedRandomSampler\n",
    "import numpy as np\n",
    "from ml_utils.dataset import SubjectDataset"
   ]
  },
  {
   "cell_type": "code",
   "execution_count": null,
   "metadata": {
    "colab": {
     "base_uri": "https://localhost:8080/"
    },
    "executionInfo": {
     "elapsed": 174,
     "status": "ok",
     "timestamp": 1636682126736,
     "user": {
      "displayName": "Sahil Anish Palarpwar",
      "photoUrl": "https://lh3.googleusercontent.com/a/default-user=s64",
      "userId": "17757512684560375750"
     },
     "user_tz": 300
    },
    "id": "LJCQfTElnJJm",
    "outputId": "a6e860d7-b83c-46e5-d5b0-50db90e19d2a"
   },
   "outputs": [
    {
     "name": "stdout",
     "output_type": "stream",
     "text": [
      "Device: cpu\n"
     ]
    }
   ],
   "source": [
    "device = torch.device(\"cuda:0\" if torch.cuda.is_available() else \"cpu\")\n",
    "print(f\"Device: {device}\")"
   ]
  },
  {
   "cell_type": "code",
   "execution_count": null,
   "metadata": {
    "id": "5mKgxfP1mmMg"
   },
   "outputs": [],
   "source": [
    "base_data_path = os.path.join(\"window2_data\", \"splits\")\n",
    "train_data_path = os.path.join(base_data_path, \"train\")\n",
    "val_data_path = os.path.join(base_data_path, \"val\")\n",
    "\n",
    "splits_file = os.path.join(base_path, \"metadata\", \"split_ids.json\")\n",
    "with open(splits_file, \"r\") as f:\n",
    "    split_ids = json.load(f)"
   ]
  },
  {
   "cell_type": "code",
   "execution_count": null,
   "metadata": {
    "id": "kuihFDGQbTBm"
   },
   "outputs": [],
   "source": [
    "stats_path = os.path.join(base_path, \"metadata\", \"statistics.json\")\n",
    "with open(stats_path, \"r\") as f:\n",
    "    stats = json.load(f)"
   ]
  },
  {
   "cell_type": "code",
   "execution_count": null,
   "metadata": {
    "id": "mzQdu4exbfOl"
   },
   "outputs": [],
   "source": [
    "min = np.array([v[\"min\"] for k, v in stats.items()])\n",
    "max = np.array([v[\"max\"] for k, v in stats.items()])\n",
    "\n",
    "min = torch.from_numpy(min).float()\n",
    "min = torch.unsqueeze((torch.unsqueeze(min, 0)), -1)\n",
    "min = min.to(device)\n",
    "max = torch.from_numpy(max).float().to(device)\n",
    "max = torch.unsqueeze((torch.unsqueeze(max, 0)), -1)\n",
    "max = max.to(device)"
   ]
  },
  {
   "cell_type": "code",
   "execution_count": null,
   "metadata": {
    "colab": {
     "base_uri": "https://localhost:8080/"
    },
    "executionInfo": {
     "elapsed": 159,
     "status": "ok",
     "timestamp": 1636682135882,
     "user": {
      "displayName": "Sahil Anish Palarpwar",
      "photoUrl": "https://lh3.googleusercontent.com/a/default-user=s64",
      "userId": "17757512684560375750"
     },
     "user_tz": 300
    },
    "id": "XJXYMQrWb-zN",
    "outputId": "854fef31-619a-4329-94ab-05a7c278e7c4"
   },
   "outputs": [
    {
     "data": {
      "text/plain": [
       "torch.Size([1, 6, 1])"
      ]
     },
     "execution_count": 13,
     "metadata": {},
     "output_type": "execute_result"
    }
   ],
   "source": [
    "min.shape"
   ]
  },
  {
   "cell_type": "code",
   "execution_count": null,
   "metadata": {
    "id": "n5RT6OvirVrA"
   },
   "outputs": [],
   "source": [
    "# Training hyperparameters\n",
    "batch_size = 128\n",
    "num_epochs = 30"
   ]
  },
  {
   "cell_type": "code",
   "execution_count": null,
   "metadata": {
    "colab": {
     "base_uri": "https://localhost:8080/"
    },
    "executionInfo": {
     "elapsed": 15623,
     "status": "ok",
     "timestamp": 1636682157906,
     "user": {
      "displayName": "Sahil Anish Palarpwar",
      "photoUrl": "https://lh3.googleusercontent.com/a/default-user=s64",
      "userId": "17757512684560375750"
     },
     "user_tz": 300
    },
    "id": "jy47cYBEmmKS",
    "outputId": "7259d828-dceb-47d1-9e51-4799a2ddba7b"
   },
   "outputs": [
    {
     "name": "stdout",
     "output_type": "stream",
     "text": [
      "Converting uid 005_02\n",
      "Converting uid 001_06\n",
      "Converting uid 003_02\n",
      "Converting uid 001_05\n",
      "Converting uid 002_02\n",
      "Converting uid 003_01\n",
      "Converting uid 003_03\n",
      "Converting uid 005_01\n",
      "Converting uid 001_07\n",
      "Converting uid 002_05\n",
      "Converting uid 004_02\n",
      "Converting uid 002_03\n",
      "Converting uid 001_02\n",
      "Converting uid 002_04\n",
      "Converting uid 001_03\n",
      "Converting uid 004_01\n",
      "Converting uid 001_08\n",
      "Converting uid 002_01\n",
      "Converting uid 001_01\n",
      "Converting uid 001_04\n"
     ]
    }
   ],
   "source": [
    "train_dataset = SubjectDataset(\n",
    "    train_data_path, \n",
    "    split_ids[\"train\"]\n",
    ")\n",
    "ys = train_dataset.y.tolist()\n",
    "counts = Counter(ys)\n",
    "weights = np.array([1./counts[_y] for _y in ys])\n",
    "sample_weights = torch.from_numpy(weights).float()\n",
    "sampler = WeightedRandomSampler(\n",
    "    weights=sample_weights,\n",
    "    num_samples=len(sample_weights),\n",
    "    replacement=True)\n",
    "train_dataloader = DataLoader(train_dataset, batch_size=batch_size, sampler=sampler)\n",
    "train_iterations = (len(train_dataset) // batch_size) + ((len(train_dataset) % batch_size) != 0)\n",
    "\n",
    "val_dataset = SubjectDataset(\n",
    "    val_data_path, \n",
    "    split_ids[\"val\"]\n",
    ")\n",
    "val_dataloader = DataLoader(val_dataset, batch_size=batch_size, shuffle=True)\n",
    "val_iterations = (len(val_dataset) // batch_size) + ((len(val_dataset) % batch_size) != 0)"
   ]
  },
  {
   "cell_type": "code",
   "execution_count": null,
   "metadata": {
    "colab": {
     "base_uri": "https://localhost:8080/"
    },
    "executionInfo": {
     "elapsed": 161,
     "status": "ok",
     "timestamp": 1636682161864,
     "user": {
      "displayName": "Sahil Anish Palarpwar",
      "photoUrl": "https://lh3.googleusercontent.com/a/default-user=s64",
      "userId": "17757512684560375750"
     },
     "user_tz": 300
    },
    "id": "L4JQ2YWz6JeB",
    "outputId": "a928d69e-aac2-45e0-f4e1-33a8365f9216"
   },
   "outputs": [
    {
     "name": "stdout",
     "output_type": "stream",
     "text": [
      "1373\n",
      "422\n"
     ]
    }
   ],
   "source": [
    "print(train_iterations)\n",
    "print(val_iterations)"
   ]
  },
  {
   "cell_type": "code",
   "execution_count": null,
   "metadata": {
    "id": "7UxWDOBmmmOv"
   },
   "outputs": [],
   "source": [
    "class OneDConvNet(nn.Module):\n",
    "  def __init__(self, n_features, n_classes, base_filters=32):\n",
    "    super(OneDConvNet, self).__init__()\n",
    "\n",
    "    self.conv1 = nn.Conv1d(in_channels=n_features, out_channels=base_filters, kernel_size=3, stride=1, padding=1)\n",
    "    self.norm1 = nn.LayerNorm(base_filters*80)\n",
    "    self.pool1 = nn.AdaptiveAvgPool1d(40)\n",
    "    self.conv2 = nn.Conv1d(in_channels=base_filters, out_channels=base_filters*2, kernel_size=3, stride=1, padding=1)\n",
    "    self.norm2 = nn.LayerNorm(base_filters*2*40)\n",
    "    self.pool2 = nn.AdaptiveAvgPool1d(20)\n",
    "    self.conv3 = nn.Conv1d(in_channels=base_filters*2, out_channels=base_filters*4, kernel_size=3, stride=1, padding=1)\n",
    "    self.norm3 = nn.LayerNorm(base_filters*4*20)\n",
    "    self.pool3 = nn.AdaptiveAvgPool1d(10)\n",
    "    self.conv4 = nn.Conv1d(in_channels=base_filters*4, out_channels=base_filters*8, kernel_size=3, stride=1, padding=1)\n",
    "    self.norm4 = nn.LayerNorm(base_filters*8*10)\n",
    "    self.fc1 = nn.Linear(base_filters*8, base_filters*16)\n",
    "    self.dropout5 = nn.Dropout(0.4)\n",
    "    self.fc2 = nn.Linear(base_filters*16, n_classes)\n",
    "  \n",
    "  def forward(self, x):\n",
    "    x = self.conv1(x)\n",
    "    N, C, T = x.shape\n",
    "    x = x.view(N, C*T)\n",
    "    x = self.norm1(x)\n",
    "    x = x.view(N, C, T)\n",
    "    x = self.pool1(F.relu(x))\n",
    "\n",
    "    x = self.conv2(x)\n",
    "    N, C, T = x.shape\n",
    "    x = x.view(N, C*T)\n",
    "    x = self.norm2(x)\n",
    "    x = x.view(N, C, T)\n",
    "    x = self.pool2(F.relu(x))\n",
    "\n",
    "    x = self.conv3(x)\n",
    "    N, C, T = x.shape\n",
    "    x = x.view(N, C*T)\n",
    "    x = self.norm3(x)\n",
    "    x = x.view(N, C, T)\n",
    "    x = self.pool3(F.relu(x))\n",
    "\n",
    "    x = self.conv4(x)\n",
    "    N, C, T = x.shape\n",
    "    x = x.view(N, C*T)\n",
    "    x = self.norm4(x)\n",
    "    x = x.view(N, C, T)\n",
    "    x = F.relu(x)\n",
    "\n",
    "    N, C, T = x.size()\n",
    "    x = x.mean(dim=-1) # Flatten\n",
    "    x = self.dropout5(F.relu(self.fc1(x)))\n",
    "    x = self.fc2(x)\n",
    "    return x\n",
    "\n",
    "model = OneDConvNet(6, 4).to(device)"
   ]
  },
  {
   "cell_type": "code",
   "execution_count": null,
   "metadata": {
    "id": "_7npRJhHxdC1"
   },
   "outputs": [],
   "source": [
    "# import numpy as np\n",
    "# X = np.random.randn(1, 6, 40)\n",
    "# T = torch.from_numpy(X).float().to(device)\n",
    "# y = model(T)"
   ]
  },
  {
   "cell_type": "code",
   "execution_count": null,
   "metadata": {
    "id": "sksNpnMfyLOP"
   },
   "outputs": [],
   "source": [
    "# y.shape"
   ]
  },
  {
   "cell_type": "code",
   "execution_count": null,
   "metadata": {
    "id": "JSfdHJ4Ry4AG"
   },
   "outputs": [],
   "source": [
    "optimizer = optim.SGD(model.parameters(), lr=1e-3, momentum=0.9)\n",
    "# optimizer = optim.Adam(model.parameters(), lr=0.001)\n",
    "# optimizer = optim.RMSprop(model.parameters(), lr=1e-3)\n",
    "scheduler = ReduceLROnPlateau(optimizer, factor=0.5, patience=1, verbose=True)\n",
    "criterion = nn.CrossEntropyLoss()"
   ]
  },
  {
   "cell_type": "code",
   "execution_count": null,
   "metadata": {
    "id": "V6FBCiBQmmH2"
   },
   "outputs": [],
   "source": [
    "def train_step(X, y, model, optimizer, criterion):\n",
    "\n",
    "    y_pred = model(X)\n",
    "    predicted_classes = torch.argmax(y_pred.detach(), dim=1)\n",
    "\n",
    "    loss = criterion(y_pred, y)\n",
    "    optimizer.zero_grad()\n",
    "    loss.backward()\n",
    "    optimizer.step()\n",
    "\n",
    "    corrects = torch.sum(y.data == predicted_classes)\n",
    "\n",
    "    return loss.item(), corrects\n",
    "\n",
    "def val_step(X, y, model, criterion):\n",
    "\n",
    "    with torch.no_grad():\n",
    "        \n",
    "        y_pred = model(X)\n",
    "        predicted_classes = torch.argmax(y_pred.detach(), dim=1)\n",
    "        loss = criterion(y_pred, y)\n",
    "        corrects = torch.sum(y.data == predicted_classes)\n",
    "\n",
    "    return loss.item(), corrects, predicted_classes.detach().cpu().numpy()"
   ]
  },
  {
   "cell_type": "code",
   "execution_count": null,
   "metadata": {
    "colab": {
     "base_uri": "https://localhost:8080/"
    },
    "executionInfo": {
     "elapsed": 3229137,
     "status": "ok",
     "timestamp": 1636685476534,
     "user": {
      "displayName": "Sahil Anish Palarpwar",
      "photoUrl": "https://lh3.googleusercontent.com/a/default-user=s64",
      "userId": "17757512684560375750"
     },
     "user_tz": 300
    },
    "id": "T2K4z1p8mmCQ",
    "outputId": "9cbca22b-9c39-4d78-c973-9c89ebc684fa"
   },
   "outputs": [
    {
     "name": "stdout",
     "output_type": "stream",
     "text": [
      "Iteration: 0/1373 | train_loss: 1.395035743713379 | train_acc: 0.203125\n",
      "Iteration: 100/1373 | train_loss: 1.369444489479065 | train_acc: 0.296875\n",
      "Iteration: 200/1373 | train_loss: 1.3594839572906494 | train_acc: 0.34375\n",
      "Iteration: 300/1373 | train_loss: 1.2352980375289917 | train_acc: 0.4921875\n",
      "Iteration: 400/1373 | train_loss: 1.2086188793182373 | train_acc: 0.4453125\n",
      "Iteration: 500/1373 | train_loss: 0.8872849345207214 | train_acc: 0.515625\n",
      "Iteration: 600/1373 | train_loss: 0.5142344236373901 | train_acc: 0.8125\n",
      "Iteration: 700/1373 | train_loss: 0.44590508937835693 | train_acc: 0.7734375\n",
      "Iteration: 800/1373 | train_loss: 0.3981553912162781 | train_acc: 0.8125\n",
      "Iteration: 900/1373 | train_loss: 0.37308406829833984 | train_acc: 0.8046875\n",
      "Iteration: 1000/1373 | train_loss: 0.9112809300422668 | train_acc: 0.671875\n",
      "Iteration: 1100/1373 | train_loss: 0.31590476632118225 | train_acc: 0.8515625\n",
      "Iteration: 1200/1373 | train_loss: 0.42371317744255066 | train_acc: 0.8046875\n",
      "Iteration: 1300/1373 | train_loss: 0.33312898874282837 | train_acc: 0.828125\n",
      "Saving model to /content/drive/MyDrive/ECE_542/Competition_Project/Models/checkpoint_instance_norm_dropout_sgd_lr3_adaptive_window2.pth\n",
      "Epoch: 0 | train_loss 0.7506091567913843 | train_acc: 0.6494582295417786 | val_loss: 0.711632800794892 | val_acc: 0.7423334717750549\n",
      "Iteration: 0/1373 | train_loss: 0.2715459167957306 | train_acc: 0.90625\n",
      "Iteration: 100/1373 | train_loss: 0.2970682680606842 | train_acc: 0.8828125\n",
      "Iteration: 200/1373 | train_loss: 0.31095778942108154 | train_acc: 0.8984375\n",
      "Iteration: 300/1373 | train_loss: 0.24285952746868134 | train_acc: 0.875\n",
      "Iteration: 400/1373 | train_loss: 0.24507367610931396 | train_acc: 0.9375\n",
      "Iteration: 500/1373 | train_loss: 0.3286499083042145 | train_acc: 0.84375\n",
      "Iteration: 600/1373 | train_loss: 0.2902798056602478 | train_acc: 0.890625\n",
      "Iteration: 700/1373 | train_loss: 0.23361478745937347 | train_acc: 0.890625\n",
      "Iteration: 800/1373 | train_loss: 0.23508937656879425 | train_acc: 0.8984375\n",
      "Iteration: 900/1373 | train_loss: 0.14752361178398132 | train_acc: 0.953125\n",
      "Iteration: 1000/1373 | train_loss: 0.3277830183506012 | train_acc: 0.8671875\n",
      "Iteration: 1100/1373 | train_loss: 0.1838793158531189 | train_acc: 0.9296875\n",
      "Iteration: 1200/1373 | train_loss: 0.1721123307943344 | train_acc: 0.9140625\n",
      "Iteration: 1300/1373 | train_loss: 0.19712994992733002 | train_acc: 0.9140625\n",
      "Saving model to /content/drive/MyDrive/ECE_542/Competition_Project/Models/checkpoint_instance_norm_dropout_sgd_lr3_adaptive_window2.pth\n",
      "Epoch: 1 | train_loss 0.24528988221271716 | train_acc: 0.9047789573669434 | val_loss: 0.5384304386993142 | val_acc: 0.7865610718727112\n",
      "Iteration: 0/1373 | train_loss: 0.14066776633262634 | train_acc: 0.9609375\n",
      "Iteration: 100/1373 | train_loss: 0.34695902466773987 | train_acc: 0.890625\n",
      "Iteration: 200/1373 | train_loss: 0.10502994060516357 | train_acc: 0.9921875\n",
      "Iteration: 300/1373 | train_loss: 0.14042091369628906 | train_acc: 0.9453125\n",
      "Iteration: 400/1373 | train_loss: 0.18501190841197968 | train_acc: 0.9375\n",
      "Iteration: 500/1373 | train_loss: 0.1292080581188202 | train_acc: 0.9375\n",
      "Iteration: 600/1373 | train_loss: 0.1229403167963028 | train_acc: 0.9453125\n",
      "Iteration: 700/1373 | train_loss: 0.20357650518417358 | train_acc: 0.9296875\n",
      "Iteration: 800/1373 | train_loss: 0.20595169067382812 | train_acc: 0.9296875\n",
      "Iteration: 900/1373 | train_loss: 0.1841193288564682 | train_acc: 0.921875\n",
      "Iteration: 1000/1373 | train_loss: 0.2588486075401306 | train_acc: 0.9140625\n",
      "Iteration: 1100/1373 | train_loss: 0.13530448079109192 | train_acc: 0.9609375\n",
      "Iteration: 1200/1373 | train_loss: 0.2332269698381424 | train_acc: 0.875\n",
      "Iteration: 1300/1373 | train_loss: 0.19534364342689514 | train_acc: 0.921875\n",
      "Epoch: 2 | train_loss 0.17165484194529573 | train_acc: 0.9373235702514648 | val_loss: 0.6190404463034491 | val_acc: 0.7576943635940552\n",
      "Iteration: 0/1373 | train_loss: 0.10977110266685486 | train_acc: 0.9453125\n",
      "Iteration: 100/1373 | train_loss: 0.11618240177631378 | train_acc: 0.9453125\n",
      "Iteration: 200/1373 | train_loss: 0.14201466739177704 | train_acc: 0.9453125\n",
      "Iteration: 300/1373 | train_loss: 0.15005238354206085 | train_acc: 0.9609375\n",
      "Iteration: 400/1373 | train_loss: 0.16160878539085388 | train_acc: 0.9296875\n",
      "Iteration: 500/1373 | train_loss: 0.22750182449817657 | train_acc: 0.921875\n",
      "Iteration: 600/1373 | train_loss: 0.06990494579076767 | train_acc: 0.984375\n",
      "Iteration: 700/1373 | train_loss: 0.21848022937774658 | train_acc: 0.9453125\n",
      "Iteration: 800/1373 | train_loss: 0.06771741062402725 | train_acc: 0.9765625\n",
      "Iteration: 900/1373 | train_loss: 0.11147476732730865 | train_acc: 0.9765625\n",
      "Iteration: 1000/1373 | train_loss: 0.11429604887962341 | train_acc: 0.96875\n",
      "Iteration: 1100/1373 | train_loss: 0.09320788830518723 | train_acc: 0.953125\n",
      "Iteration: 1200/1373 | train_loss: 0.10183191299438477 | train_acc: 0.9609375\n",
      "Iteration: 1300/1373 | train_loss: 0.2642071843147278 | train_acc: 0.8828125\n",
      "Epoch     4: reducing learning rate of group 0 to 5.0000e-04.\n",
      "Epoch: 3 | train_loss 0.14136362394302213 | train_acc: 0.94985431432724 | val_loss: 0.5556581028073542 | val_acc: 0.7962265610694885\n",
      "Iteration: 0/1373 | train_loss: 0.19748717546463013 | train_acc: 0.9453125\n",
      "Iteration: 100/1373 | train_loss: 0.038625381886959076 | train_acc: 0.9921875\n",
      "Iteration: 200/1373 | train_loss: 0.09457321465015411 | train_acc: 0.96875\n",
      "Iteration: 300/1373 | train_loss: 0.09163805842399597 | train_acc: 0.9453125\n",
      "Iteration: 400/1373 | train_loss: 0.0758424699306488 | train_acc: 0.9765625\n",
      "Iteration: 500/1373 | train_loss: 0.1166054978966713 | train_acc: 0.96875\n",
      "Iteration: 600/1373 | train_loss: 0.14462976157665253 | train_acc: 0.9375\n",
      "Iteration: 700/1373 | train_loss: 0.09336257725954056 | train_acc: 0.9765625\n",
      "Iteration: 800/1373 | train_loss: 0.12473935633897781 | train_acc: 0.953125\n",
      "Iteration: 900/1373 | train_loss: 0.12955179810523987 | train_acc: 0.9375\n",
      "Iteration: 1000/1373 | train_loss: 0.12293064594268799 | train_acc: 0.953125\n",
      "Iteration: 1100/1373 | train_loss: 0.1548805981874466 | train_acc: 0.953125\n",
      "Iteration: 1200/1373 | train_loss: 0.051565296947956085 | train_acc: 0.9765625\n",
      "Iteration: 1300/1373 | train_loss: 0.07876169681549072 | train_acc: 0.9765625\n",
      "Saving model to /content/drive/MyDrive/ECE_542/Competition_Project/Models/checkpoint_instance_norm_dropout_sgd_lr3_adaptive_window2.pth\n",
      "Epoch: 4 | train_loss 0.11109546525365699 | train_acc: 0.9615485072135925 | val_loss: 0.5220809099212697 | val_acc: 0.8029608726501465\n",
      "Iteration: 0/1373 | train_loss: 0.23047570884227753 | train_acc: 0.9140625\n",
      "Iteration: 100/1373 | train_loss: 0.21485742926597595 | train_acc: 0.9140625\n",
      "Iteration: 200/1373 | train_loss: 0.10848410427570343 | train_acc: 0.9609375\n",
      "Iteration: 300/1373 | train_loss: 0.07387587428092957 | train_acc: 0.9765625\n",
      "Iteration: 400/1373 | train_loss: 0.11958782374858856 | train_acc: 0.96875\n",
      "Iteration: 500/1373 | train_loss: 0.11302808672189713 | train_acc: 0.9453125\n",
      "Iteration: 600/1373 | train_loss: 0.11153722554445267 | train_acc: 0.953125\n",
      "Iteration: 700/1373 | train_loss: 0.07913197576999664 | train_acc: 0.96875\n",
      "Iteration: 800/1373 | train_loss: 0.10071315616369247 | train_acc: 0.9609375\n",
      "Iteration: 900/1373 | train_loss: 0.12472700327634811 | train_acc: 0.9609375\n",
      "Iteration: 1000/1373 | train_loss: 0.06498986482620239 | train_acc: 0.984375\n",
      "Iteration: 1100/1373 | train_loss: 0.08254001289606094 | train_acc: 0.96875\n",
      "Iteration: 1200/1373 | train_loss: 0.04861236736178398 | train_acc: 0.9921875\n",
      "Iteration: 1300/1373 | train_loss: 0.06454690545797348 | train_acc: 0.96875\n",
      "Epoch: 5 | train_loss 0.10402124490157118 | train_acc: 0.9645873308181763 | val_loss: 0.6061918254082445 | val_acc: 0.789974570274353\n",
      "Iteration: 0/1373 | train_loss: 0.0800555869936943 | train_acc: 0.96875\n",
      "Iteration: 100/1373 | train_loss: 0.057777322828769684 | train_acc: 0.9765625\n",
      "Iteration: 200/1373 | train_loss: 0.12855249643325806 | train_acc: 0.953125\n",
      "Iteration: 300/1373 | train_loss: 0.12862040102481842 | train_acc: 0.9453125\n",
      "Iteration: 400/1373 | train_loss: 0.11536911129951477 | train_acc: 0.9609375\n",
      "Iteration: 500/1373 | train_loss: 0.10670140385627747 | train_acc: 0.9609375\n",
      "Iteration: 600/1373 | train_loss: 0.09678366035223007 | train_acc: 0.96875\n",
      "Iteration: 700/1373 | train_loss: 0.11474567651748657 | train_acc: 0.953125\n",
      "Iteration: 800/1373 | train_loss: 0.11440194398164749 | train_acc: 0.9609375\n",
      "Iteration: 900/1373 | train_loss: 0.06454236805438995 | train_acc: 0.9765625\n",
      "Iteration: 1000/1373 | train_loss: 0.03231402114033699 | train_acc: 0.9921875\n",
      "Iteration: 1100/1373 | train_loss: 0.06315358728170395 | train_acc: 0.96875\n",
      "Iteration: 1200/1373 | train_loss: 0.061881404370069504 | train_acc: 0.9765625\n",
      "Iteration: 1300/1373 | train_loss: 0.16785891354084015 | train_acc: 0.9609375\n",
      "Epoch     7: reducing learning rate of group 0 to 2.5000e-04.\n",
      "Epoch: 6 | train_loss 0.09968971694384368 | train_acc: 0.9654579758644104 | val_loss: 0.7289593998157051 | val_acc: 0.7599762678146362\n",
      "Iteration: 0/1373 | train_loss: 0.09795332700014114 | train_acc: 0.9453125\n",
      "Iteration: 100/1373 | train_loss: 0.036371808499097824 | train_acc: 0.9921875\n",
      "Iteration: 200/1373 | train_loss: 0.07170502096414566 | train_acc: 0.9765625\n",
      "Iteration: 300/1373 | train_loss: 0.10999630391597748 | train_acc: 0.96875\n",
      "Iteration: 400/1373 | train_loss: 0.10190431773662567 | train_acc: 0.984375\n",
      "Iteration: 500/1373 | train_loss: 0.08815108984708786 | train_acc: 0.9765625\n",
      "Iteration: 600/1373 | train_loss: 0.1354333609342575 | train_acc: 0.953125\n",
      "Iteration: 700/1373 | train_loss: 0.07731126248836517 | train_acc: 0.96875\n",
      "Iteration: 800/1373 | train_loss: 0.06322581321001053 | train_acc: 0.9765625\n",
      "Iteration: 900/1373 | train_loss: 0.04544324427843094 | train_acc: 0.9921875\n",
      "Iteration: 1000/1373 | train_loss: 0.03746100887656212 | train_acc: 0.984375\n",
      "Iteration: 1100/1373 | train_loss: 0.05201565846800804 | train_acc: 0.9921875\n",
      "Iteration: 1200/1373 | train_loss: 0.0937095582485199 | train_acc: 0.9609375\n",
      "Iteration: 1300/1373 | train_loss: 0.03696442395448685 | train_acc: 0.984375\n",
      "Epoch: 7 | train_loss 0.08210613752221688 | train_acc: 0.9724175930023193 | val_loss: 0.623858439168857 | val_acc: 0.7927944660186768\n",
      "Iteration: 0/1373 | train_loss: 0.1311015635728836 | train_acc: 0.953125\n",
      "Iteration: 100/1373 | train_loss: 0.131046324968338 | train_acc: 0.96875\n",
      "Iteration: 200/1373 | train_loss: 0.06633668392896652 | train_acc: 0.9765625\n",
      "Iteration: 300/1373 | train_loss: 0.029339822009205818 | train_acc: 0.984375\n",
      "Iteration: 400/1373 | train_loss: 0.06913848221302032 | train_acc: 0.984375\n",
      "Iteration: 500/1373 | train_loss: 0.060741737484931946 | train_acc: 0.984375\n",
      "Iteration: 600/1373 | train_loss: 0.09666647762060165 | train_acc: 0.953125\n",
      "Iteration: 700/1373 | train_loss: 0.04234887659549713 | train_acc: 0.9921875\n",
      "Iteration: 800/1373 | train_loss: 0.05181097611784935 | train_acc: 0.984375\n",
      "Iteration: 900/1373 | train_loss: 0.023952918127179146 | train_acc: 0.9921875\n",
      "Iteration: 1000/1373 | train_loss: 0.08661118149757385 | train_acc: 0.9765625\n",
      "Iteration: 1100/1373 | train_loss: 0.13866838812828064 | train_acc: 0.953125\n",
      "Iteration: 1200/1373 | train_loss: 0.09595032781362534 | train_acc: 0.9765625\n",
      "Iteration: 1300/1373 | train_loss: 0.04524664208292961 | train_acc: 0.9765625\n",
      "Epoch     9: reducing learning rate of group 0 to 1.2500e-04.\n",
      "Epoch: 8 | train_loss 0.0788572496216197 | train_acc: 0.9738231897354126 | val_loss: 0.6711072656919573 | val_acc: 0.7911618947982788\n",
      "Iteration: 0/1373 | train_loss: 0.20564624667167664 | train_acc: 0.9296875\n",
      "Iteration: 100/1373 | train_loss: 0.19235853850841522 | train_acc: 0.9609375\n",
      "Iteration: 200/1373 | train_loss: 0.035187218338251114 | train_acc: 0.9921875\n",
      "Iteration: 300/1373 | train_loss: 0.07263151556253433 | train_acc: 0.96875\n",
      "Iteration: 400/1373 | train_loss: 0.06782878190279007 | train_acc: 0.9609375\n",
      "Iteration: 500/1373 | train_loss: 0.11155953258275986 | train_acc: 0.9765625\n",
      "Iteration: 600/1373 | train_loss: 0.04941805079579353 | train_acc: 0.984375\n",
      "Iteration: 700/1373 | train_loss: 0.13123564422130585 | train_acc: 0.9609375\n",
      "Iteration: 800/1373 | train_loss: 0.044914279133081436 | train_acc: 0.984375\n",
      "Iteration: 900/1373 | train_loss: 0.0607077032327652 | train_acc: 0.984375\n",
      "Iteration: 1000/1373 | train_loss: 0.041823502629995346 | train_acc: 0.984375\n",
      "Iteration: 1100/1373 | train_loss: 0.06980101019144058 | train_acc: 0.9765625\n",
      "Iteration: 1200/1373 | train_loss: 0.12973691523075104 | train_acc: 0.9609375\n",
      "Iteration: 1300/1373 | train_loss: 0.07771921157836914 | train_acc: 0.96875\n",
      "Epoch: 9 | train_loss 0.071394841198489 | train_acc: 0.976344108581543 | val_loss: 0.6456212996706712 | val_acc: 0.8004934787750244\n",
      "Iteration: 0/1373 | train_loss: 0.10106488317251205 | train_acc: 0.96875\n",
      "Iteration: 100/1373 | train_loss: 0.03984944149851799 | train_acc: 1.0\n",
      "Iteration: 200/1373 | train_loss: 0.046836283057928085 | train_acc: 0.984375\n",
      "Iteration: 300/1373 | train_loss: 0.06121375039219856 | train_acc: 0.984375\n",
      "Iteration: 400/1373 | train_loss: 0.07034578919410706 | train_acc: 0.9765625\n",
      "Iteration: 500/1373 | train_loss: 0.08627578616142273 | train_acc: 0.96875\n",
      "Iteration: 600/1373 | train_loss: 0.022967305034399033 | train_acc: 0.9921875\n",
      "Iteration: 700/1373 | train_loss: 0.09115821123123169 | train_acc: 0.953125\n",
      "Iteration: 800/1373 | train_loss: 0.051769815385341644 | train_acc: 0.984375\n",
      "Iteration: 900/1373 | train_loss: 0.046729449182748795 | train_acc: 0.9765625\n",
      "Iteration: 1000/1373 | train_loss: 0.0279423575848341 | train_acc: 0.9921875\n",
      "Iteration: 1100/1373 | train_loss: 0.12135437875986099 | train_acc: 0.9609375\n",
      "Iteration: 1200/1373 | train_loss: 0.07191961258649826 | train_acc: 0.96875\n",
      "Iteration: 1300/1373 | train_loss: 0.0754636898636818 | train_acc: 0.9609375\n",
      "Epoch    11: reducing learning rate of group 0 to 6.2500e-05.\n",
      "Epoch: 10 | train_loss 0.07019298418821787 | train_acc: 0.9766798615455627 | val_loss: 0.7176485199483253 | val_acc: 0.7947980761528015\n",
      "Iteration: 0/1373 | train_loss: 0.07083576172590256 | train_acc: 0.984375\n",
      "Iteration: 100/1373 | train_loss: 0.07433010637760162 | train_acc: 0.96875\n",
      "Iteration: 200/1373 | train_loss: 0.0686802789568901 | train_acc: 0.9765625\n",
      "Iteration: 300/1373 | train_loss: 0.08863508701324463 | train_acc: 0.9765625\n",
      "Iteration: 400/1373 | train_loss: 0.06295998394489288 | train_acc: 0.9765625\n",
      "Iteration: 500/1373 | train_loss: 0.06453295052051544 | train_acc: 0.984375\n",
      "Iteration: 600/1373 | train_loss: 0.13354912400245667 | train_acc: 0.9609375\n",
      "Iteration: 700/1373 | train_loss: 0.14442960917949677 | train_acc: 0.9453125\n",
      "Iteration: 800/1373 | train_loss: 0.09141271561384201 | train_acc: 0.96875\n",
      "Iteration: 900/1373 | train_loss: 0.06664489954710007 | train_acc: 0.9765625\n",
      "Iteration: 1000/1373 | train_loss: 0.058998335152864456 | train_acc: 0.984375\n",
      "Iteration: 1100/1373 | train_loss: 0.07046607881784439 | train_acc: 0.9609375\n",
      "Iteration: 1200/1373 | train_loss: 0.050120219588279724 | train_acc: 0.9765625\n",
      "Iteration: 1300/1373 | train_loss: 0.07594543695449829 | train_acc: 0.9765625\n",
      "Epoch: 11 | train_loss 0.0654781639092956 | train_acc: 0.978893518447876 | val_loss: 0.6225423972319113 | val_acc: 0.7995102405548096\n",
      "Iteration: 0/1373 | train_loss: 0.05990900844335556 | train_acc: 0.9765625\n",
      "Iteration: 100/1373 | train_loss: 0.03408681973814964 | train_acc: 1.0\n",
      "Iteration: 200/1373 | train_loss: 0.04636959359049797 | train_acc: 0.9921875\n",
      "Iteration: 300/1373 | train_loss: 0.05282855033874512 | train_acc: 0.9921875\n",
      "Iteration: 400/1373 | train_loss: 0.03035522811114788 | train_acc: 0.9921875\n",
      "Iteration: 500/1373 | train_loss: 0.05836308002471924 | train_acc: 0.9765625\n",
      "Iteration: 600/1373 | train_loss: 0.06151138246059418 | train_acc: 0.984375\n",
      "Iteration: 700/1373 | train_loss: 0.08824530988931656 | train_acc: 0.9921875\n",
      "Iteration: 800/1373 | train_loss: 0.017974738031625748 | train_acc: 1.0\n",
      "Iteration: 900/1373 | train_loss: 0.0699598491191864 | train_acc: 0.96875\n",
      "Iteration: 1000/1373 | train_loss: 0.0856371596455574 | train_acc: 0.9609375\n",
      "Iteration: 1100/1373 | train_loss: 0.044563498347997665 | train_acc: 0.984375\n",
      "Iteration: 1200/1373 | train_loss: 0.10596610605716705 | train_acc: 0.96875\n",
      "Iteration: 1300/1373 | train_loss: 0.04856520891189575 | train_acc: 0.984375\n",
      "Epoch    13: reducing learning rate of group 0 to 3.1250e-05.\n",
      "Epoch: 12 | train_loss 0.06713396048479085 | train_acc: 0.9784268736839294 | val_loss: 0.6831052432137116 | val_acc: 0.7929057478904724\n",
      "Iteration: 0/1373 | train_loss: 0.06482546031475067 | train_acc: 0.9765625\n",
      "Iteration: 100/1373 | train_loss: 0.04401201754808426 | train_acc: 0.9765625\n",
      "Iteration: 200/1373 | train_loss: 0.05398758873343468 | train_acc: 0.96875\n",
      "Iteration: 300/1373 | train_loss: 0.034300848841667175 | train_acc: 0.9921875\n",
      "Iteration: 400/1373 | train_loss: 0.17914165556430817 | train_acc: 0.921875\n",
      "Iteration: 500/1373 | train_loss: 0.06394243985414505 | train_acc: 0.984375\n",
      "Iteration: 600/1373 | train_loss: 0.12484695017337799 | train_acc: 0.96875\n",
      "Iteration: 700/1373 | train_loss: 0.0718938335776329 | train_acc: 0.984375\n",
      "Iteration: 800/1373 | train_loss: 0.042099133133888245 | train_acc: 0.984375\n",
      "Iteration: 900/1373 | train_loss: 0.07673093676567078 | train_acc: 0.9765625\n",
      "Iteration: 1000/1373 | train_loss: 0.05197647213935852 | train_acc: 0.984375\n",
      "Iteration: 1100/1373 | train_loss: 0.05106639489531517 | train_acc: 0.96875\n",
      "Iteration: 1200/1373 | train_loss: 0.07408589124679565 | train_acc: 0.9609375\n",
      "Iteration: 1300/1373 | train_loss: 0.07233238220214844 | train_acc: 0.9765625\n",
      "Epoch: 13 | train_loss 0.06385964957645636 | train_acc: 0.9799121618270874 | val_loss: 0.6323624434155851 | val_acc: 0.7999183535575867\n",
      "Iteration: 0/1373 | train_loss: 0.09468349069356918 | train_acc: 0.96875\n",
      "Iteration: 100/1373 | train_loss: 0.028760552406311035 | train_acc: 0.9921875\n",
      "Iteration: 200/1373 | train_loss: 0.08783729374408722 | train_acc: 0.953125\n",
      "Iteration: 300/1373 | train_loss: 0.034965671598911285 | train_acc: 0.9921875\n",
      "Iteration: 400/1373 | train_loss: 0.044043105095624924 | train_acc: 0.984375\n",
      "Iteration: 500/1373 | train_loss: 0.09892571717500687 | train_acc: 0.984375\n",
      "Iteration: 600/1373 | train_loss: 0.04940713942050934 | train_acc: 0.9765625\n",
      "Iteration: 700/1373 | train_loss: 0.08812246471643448 | train_acc: 0.9765625\n",
      "Iteration: 800/1373 | train_loss: 0.04719322547316551 | train_acc: 0.9921875\n",
      "Iteration: 900/1373 | train_loss: 0.07479551434516907 | train_acc: 0.9765625\n",
      "Iteration: 1000/1373 | train_loss: 0.04815259948372841 | train_acc: 0.9921875\n",
      "Iteration: 1100/1373 | train_loss: 0.09235582500696182 | train_acc: 0.96875\n",
      "Iteration: 1200/1373 | train_loss: 0.08386171609163284 | train_acc: 0.96875\n",
      "Iteration: 1300/1373 | train_loss: 0.042909007519483566 | train_acc: 0.9921875\n",
      "Epoch    15: reducing learning rate of group 0 to 1.5625e-05.\n",
      "Epoch: 14 | train_loss 0.061833537808060376 | train_acc: 0.9805437922477722 | val_loss: 0.6672166946814361 | val_acc: 0.7988052368164062\n",
      "Iteration: 0/1373 | train_loss: 0.05989651381969452 | train_acc: 0.9765625\n",
      "Iteration: 100/1373 | train_loss: 0.10715531557798386 | train_acc: 0.9765625\n",
      "Iteration: 200/1373 | train_loss: 0.05426959693431854 | train_acc: 0.9921875\n",
      "Iteration: 300/1373 | train_loss: 0.04761973395943642 | train_acc: 0.984375\n",
      "Iteration: 400/1373 | train_loss: 0.05310753732919693 | train_acc: 0.984375\n",
      "Iteration: 500/1373 | train_loss: 0.09056101739406586 | train_acc: 0.984375\n",
      "Iteration: 600/1373 | train_loss: 0.027948686853051186 | train_acc: 0.9921875\n",
      "Iteration: 700/1373 | train_loss: 0.04024028033018112 | train_acc: 0.984375\n",
      "Iteration: 800/1373 | train_loss: 0.06619783490896225 | train_acc: 0.9765625\n",
      "Iteration: 900/1373 | train_loss: 0.05224569886922836 | train_acc: 0.96875\n",
      "Iteration: 1000/1373 | train_loss: 0.04594627395272255 | train_acc: 0.9765625\n",
      "Iteration: 1100/1373 | train_loss: 0.08328761905431747 | train_acc: 0.96875\n",
      "Iteration: 1200/1373 | train_loss: 0.025080623105168343 | train_acc: 0.9921875\n",
      "Iteration: 1300/1373 | train_loss: 0.10372961312532425 | train_acc: 0.984375\n",
      "Epoch: 15 | train_loss 0.06365964123352563 | train_acc: 0.9801568388938904 | val_loss: 0.6666872544371392 | val_acc: 0.7986939549446106\n",
      "Iteration: 0/1373 | train_loss: 0.08021030575037003 | train_acc: 0.9765625\n",
      "Iteration: 100/1373 | train_loss: 0.06352046877145767 | train_acc: 0.984375\n",
      "Iteration: 200/1373 | train_loss: 0.027020961046218872 | train_acc: 1.0\n",
      "Iteration: 300/1373 | train_loss: 0.021855460479855537 | train_acc: 1.0\n",
      "Iteration: 400/1373 | train_loss: 0.02927372045814991 | train_acc: 0.9921875\n",
      "Iteration: 500/1373 | train_loss: 0.07344687730073929 | train_acc: 0.9765625\n",
      "Iteration: 600/1373 | train_loss: 0.08166538923978806 | train_acc: 0.96875\n",
      "Iteration: 700/1373 | train_loss: 0.07423640042543411 | train_acc: 0.953125\n",
      "Iteration: 800/1373 | train_loss: 0.07383089512586594 | train_acc: 0.96875\n",
      "Iteration: 900/1373 | train_loss: 0.03572949022054672 | train_acc: 0.9921875\n",
      "Iteration: 1000/1373 | train_loss: 0.03733915835618973 | train_acc: 0.9921875\n",
      "Iteration: 1100/1373 | train_loss: 0.09128666669130325 | train_acc: 0.9765625\n",
      "Iteration: 1200/1373 | train_loss: 0.06823282688856125 | train_acc: 0.9765625\n",
      "Iteration: 1300/1373 | train_loss: 0.06432609260082245 | train_acc: 0.984375\n",
      "Epoch    17: reducing learning rate of group 0 to 7.8125e-06.\n",
      "Epoch: 16 | train_loss 0.06212978297424785 | train_acc: 0.9807998538017273 | val_loss: 0.6619053939838585 | val_acc: 0.796950101852417\n",
      "Iteration: 0/1373 | train_loss: 0.0435204803943634 | train_acc: 0.984375\n",
      "Iteration: 100/1373 | train_loss: 0.10608399659395218 | train_acc: 0.96875\n",
      "Iteration: 200/1373 | train_loss: 0.06814763695001602 | train_acc: 0.9765625\n",
      "Iteration: 300/1373 | train_loss: 0.082956463098526 | train_acc: 0.96875\n",
      "Iteration: 400/1373 | train_loss: 0.05586075410246849 | train_acc: 0.9765625\n",
      "Iteration: 500/1373 | train_loss: 0.04511348903179169 | train_acc: 0.9921875\n",
      "Iteration: 600/1373 | train_loss: 0.08299319446086884 | train_acc: 0.9609375\n",
      "Iteration: 700/1373 | train_loss: 0.05228589102625847 | train_acc: 0.9765625\n",
      "Iteration: 800/1373 | train_loss: 0.07434073835611343 | train_acc: 0.984375\n",
      "Iteration: 900/1373 | train_loss: 0.0938846543431282 | train_acc: 0.9765625\n",
      "Iteration: 1000/1373 | train_loss: 0.050484269857406616 | train_acc: 0.9765625\n",
      "Iteration: 1100/1373 | train_loss: 0.0666530579328537 | train_acc: 0.984375\n",
      "Iteration: 1200/1373 | train_loss: 0.06674720346927643 | train_acc: 0.984375\n",
      "Iteration: 1300/1373 | train_loss: 0.1461087316274643 | train_acc: 0.953125\n",
      "Epoch: 17 | train_loss 0.06323324045183162 | train_acc: 0.9802365303039551 | val_loss: 0.6713258439533883 | val_acc: 0.7982857823371887\n",
      "Iteration: 0/1373 | train_loss: 0.05825342610478401 | train_acc: 0.9765625\n",
      "Iteration: 100/1373 | train_loss: 0.08387293666601181 | train_acc: 0.96875\n",
      "Iteration: 200/1373 | train_loss: 0.08542076498270035 | train_acc: 0.9765625\n",
      "Iteration: 300/1373 | train_loss: 0.13135859370231628 | train_acc: 0.96875\n",
      "Iteration: 400/1373 | train_loss: 0.05844486504793167 | train_acc: 0.9765625\n",
      "Iteration: 500/1373 | train_loss: 0.02401685155928135 | train_acc: 0.9921875\n",
      "Iteration: 600/1373 | train_loss: 0.11106712371110916 | train_acc: 0.9765625\n",
      "Iteration: 700/1373 | train_loss: 0.07926192879676819 | train_acc: 0.9765625\n",
      "Iteration: 800/1373 | train_loss: 0.039452340453863144 | train_acc: 0.9921875\n",
      "Iteration: 900/1373 | train_loss: 0.04912278428673744 | train_acc: 0.984375\n",
      "Iteration: 1000/1373 | train_loss: 0.028706297278404236 | train_acc: 0.9921875\n",
      "Iteration: 1100/1373 | train_loss: 0.09162282943725586 | train_acc: 0.984375\n",
      "Iteration: 1200/1373 | train_loss: 0.0302809476852417 | train_acc: 0.9921875\n",
      "Iteration: 1300/1373 | train_loss: 0.019830122590065002 | train_acc: 1.0\n",
      "Epoch    19: reducing learning rate of group 0 to 3.9063e-06.\n",
      "Epoch: 18 | train_loss 0.06159910766015578 | train_acc: 0.9808965921401978 | val_loss: 0.6574899443487041 | val_acc: 0.7983414530754089\n",
      "Iteration: 0/1373 | train_loss: 0.0460931770503521 | train_acc: 0.9921875\n",
      "Iteration: 100/1373 | train_loss: 0.048091351985931396 | train_acc: 0.9765625\n",
      "Iteration: 200/1373 | train_loss: 0.02105008251965046 | train_acc: 1.0\n",
      "Iteration: 300/1373 | train_loss: 0.03514073044061661 | train_acc: 0.9921875\n",
      "Iteration: 400/1373 | train_loss: 0.11222488433122635 | train_acc: 0.9609375\n",
      "Iteration: 500/1373 | train_loss: 0.0281904898583889 | train_acc: 0.9921875\n",
      "Iteration: 600/1373 | train_loss: 0.03781551495194435 | train_acc: 0.984375\n",
      "Iteration: 700/1373 | train_loss: 0.0386648066341877 | train_acc: 0.984375\n",
      "Iteration: 800/1373 | train_loss: 0.02036861702799797 | train_acc: 0.9921875\n",
      "Iteration: 900/1373 | train_loss: 0.029605921357870102 | train_acc: 1.0\n",
      "Iteration: 1000/1373 | train_loss: 0.08465614169836044 | train_acc: 0.9765625\n",
      "Iteration: 1100/1373 | train_loss: 0.05728451907634735 | train_acc: 0.9765625\n",
      "Iteration: 1200/1373 | train_loss: 0.04740917682647705 | train_acc: 0.9765625\n",
      "Iteration: 1300/1373 | train_loss: 0.10773982852697372 | train_acc: 0.984375\n",
      "Epoch: 19 | train_loss 0.06017718723546305 | train_acc: 0.9816136360168457 | val_loss: 0.6659496072623433 | val_acc: 0.7976550459861755\n",
      "Iteration: 0/1373 | train_loss: 0.04974114149808884 | train_acc: 0.984375\n",
      "Iteration: 100/1373 | train_loss: 0.07891625165939331 | train_acc: 0.9765625\n",
      "Iteration: 200/1373 | train_loss: 0.05586114153265953 | train_acc: 0.984375\n",
      "Iteration: 300/1373 | train_loss: 0.03622463718056679 | train_acc: 0.9921875\n",
      "Iteration: 400/1373 | train_loss: 0.03527113050222397 | train_acc: 0.984375\n",
      "Iteration: 500/1373 | train_loss: 0.03144059702754021 | train_acc: 0.9921875\n",
      "Iteration: 600/1373 | train_loss: 0.04909095540642738 | train_acc: 0.9765625\n",
      "Iteration: 700/1373 | train_loss: 0.028282256796956062 | train_acc: 0.9921875\n",
      "Iteration: 800/1373 | train_loss: 0.06341401487588882 | train_acc: 0.9609375\n",
      "Iteration: 900/1373 | train_loss: 0.015516419894993305 | train_acc: 1.0\n",
      "Iteration: 1000/1373 | train_loss: 0.03853476420044899 | train_acc: 0.9921875\n",
      "Iteration: 1100/1373 | train_loss: 0.11332530528306961 | train_acc: 0.9609375\n",
      "Iteration: 1200/1373 | train_loss: 0.060509201139211655 | train_acc: 0.9765625\n",
      "Iteration: 1300/1373 | train_loss: 0.05346863716840744 | train_acc: 0.9765625\n",
      "Epoch    21: reducing learning rate of group 0 to 1.9531e-06.\n",
      "Epoch: 20 | train_loss 0.06083021736528708 | train_acc: 0.981494128704071 | val_loss: 0.6647580582764968 | val_acc: 0.796708881855011\n",
      "Iteration: 0/1373 | train_loss: 0.0720193013548851 | train_acc: 0.9765625\n",
      "Iteration: 100/1373 | train_loss: 0.06093544512987137 | train_acc: 0.9921875\n",
      "Iteration: 200/1373 | train_loss: 0.06321623176336288 | train_acc: 0.984375\n",
      "Iteration: 300/1373 | train_loss: 0.09120155870914459 | train_acc: 0.953125\n",
      "Iteration: 400/1373 | train_loss: 0.06938539445400238 | train_acc: 0.9765625\n",
      "Iteration: 500/1373 | train_loss: 0.08061105012893677 | train_acc: 0.96875\n",
      "Iteration: 600/1373 | train_loss: 0.12577281892299652 | train_acc: 0.9609375\n",
      "Iteration: 700/1373 | train_loss: 0.03481882065534592 | train_acc: 1.0\n",
      "Iteration: 800/1373 | train_loss: 0.09188469499349594 | train_acc: 0.9765625\n",
      "Iteration: 900/1373 | train_loss: 0.03841812163591385 | train_acc: 0.9921875\n",
      "Iteration: 1000/1373 | train_loss: 0.055244944989681244 | train_acc: 0.984375\n",
      "Iteration: 1100/1373 | train_loss: 0.037128012627363205 | train_acc: 0.9921875\n",
      "Iteration: 1200/1373 | train_loss: 0.03783392161130905 | train_acc: 0.9921875\n",
      "Iteration: 1300/1373 | train_loss: 0.10405593365430832 | train_acc: 0.9609375\n",
      "Epoch: 21 | train_loss 0.06108862117575967 | train_acc: 0.9813803434371948 | val_loss: 0.6641133182181889 | val_acc: 0.7972654700279236\n",
      "Iteration: 0/1373 | train_loss: 0.05160832405090332 | train_acc: 0.984375\n",
      "Iteration: 100/1373 | train_loss: 0.0705762580037117 | train_acc: 0.96875\n",
      "Iteration: 200/1373 | train_loss: 0.06831545382738113 | train_acc: 0.9765625\n",
      "Iteration: 300/1373 | train_loss: 0.08034985512495041 | train_acc: 0.9765625\n",
      "Iteration: 400/1373 | train_loss: 0.014158941805362701 | train_acc: 1.0\n",
      "Iteration: 500/1373 | train_loss: 0.07648923993110657 | train_acc: 0.9765625\n",
      "Iteration: 600/1373 | train_loss: 0.07945233583450317 | train_acc: 0.96875\n",
      "Iteration: 700/1373 | train_loss: 0.1172545999288559 | train_acc: 0.9765625\n",
      "Iteration: 800/1373 | train_loss: 0.12399996072053909 | train_acc: 0.9609375\n",
      "Iteration: 900/1373 | train_loss: 0.04142971336841583 | train_acc: 0.984375\n",
      "Iteration: 1000/1373 | train_loss: 0.07705531269311905 | train_acc: 0.984375\n",
      "Iteration: 1100/1373 | train_loss: 0.09114105999469757 | train_acc: 0.9609375\n",
      "Iteration: 1200/1373 | train_loss: 0.03399530425667763 | train_acc: 0.984375\n",
      "Iteration: 1300/1373 | train_loss: 0.07601704448461533 | train_acc: 0.96875\n",
      "Epoch    23: reducing learning rate of group 0 to 9.7656e-07.\n",
      "Epoch: 22 | train_loss 0.06134255104927616 | train_acc: 0.9811299443244934 | val_loss: 0.6758897202825633 | val_acc: 0.797339677810669\n",
      "Iteration: 0/1373 | train_loss: 0.056791726499795914 | train_acc: 0.984375\n",
      "Iteration: 100/1373 | train_loss: 0.05067680776119232 | train_acc: 0.984375\n",
      "Iteration: 200/1373 | train_loss: 0.08456431329250336 | train_acc: 0.96875\n",
      "Iteration: 300/1373 | train_loss: 0.09400805085897446 | train_acc: 0.953125\n",
      "Iteration: 400/1373 | train_loss: 0.04411434009671211 | train_acc: 0.9921875\n",
      "Iteration: 500/1373 | train_loss: 0.08216660469770432 | train_acc: 0.9765625\n",
      "Iteration: 600/1373 | train_loss: 0.026524152606725693 | train_acc: 0.9921875\n",
      "Iteration: 700/1373 | train_loss: 0.12382006645202637 | train_acc: 0.9609375\n",
      "Iteration: 800/1373 | train_loss: 0.1314876824617386 | train_acc: 0.953125\n",
      "Iteration: 900/1373 | train_loss: 0.07216446846723557 | train_acc: 0.984375\n",
      "Iteration: 1000/1373 | train_loss: 0.09634135663509369 | train_acc: 0.9765625\n",
      "Iteration: 1100/1373 | train_loss: 0.021201185882091522 | train_acc: 1.0\n",
      "Iteration: 1200/1373 | train_loss: 0.10675422847270966 | train_acc: 0.96875\n",
      "Iteration: 1300/1373 | train_loss: 0.015918048098683357 | train_acc: 1.0\n",
      "Epoch: 23 | train_loss 0.0610788662183657 | train_acc: 0.9813120365142822 | val_loss: 0.6610546076581724 | val_acc: 0.7973953485488892\n",
      "Iteration: 0/1373 | train_loss: 0.08195643126964569 | train_acc: 0.96875\n",
      "Iteration: 100/1373 | train_loss: 0.08968116343021393 | train_acc: 0.9921875\n",
      "Iteration: 200/1373 | train_loss: 0.10709679126739502 | train_acc: 0.9765625\n",
      "Iteration: 300/1373 | train_loss: 0.05286950618028641 | train_acc: 0.9765625\n",
      "Iteration: 400/1373 | train_loss: 0.08334024250507355 | train_acc: 0.96875\n",
      "Iteration: 500/1373 | train_loss: 0.05373266339302063 | train_acc: 0.9765625\n",
      "Iteration: 600/1373 | train_loss: 0.029463309794664383 | train_acc: 0.9921875\n",
      "Iteration: 700/1373 | train_loss: 0.06483687460422516 | train_acc: 0.984375\n",
      "Iteration: 800/1373 | train_loss: 0.10786646604537964 | train_acc: 0.9609375\n",
      "Iteration: 900/1373 | train_loss: 0.040787819772958755 | train_acc: 0.9921875\n",
      "Iteration: 1000/1373 | train_loss: 0.02291206084191799 | train_acc: 1.0\n",
      "Iteration: 1100/1373 | train_loss: 0.05297636240720749 | train_acc: 0.9765625\n",
      "Iteration: 1200/1373 | train_loss: 0.025871172547340393 | train_acc: 0.9921875\n",
      "Iteration: 1300/1373 | train_loss: 0.03796389326453209 | train_acc: 0.9921875\n",
      "Epoch    25: reducing learning rate of group 0 to 4.8828e-07.\n",
      "Epoch: 24 | train_loss 0.06121753719846028 | train_acc: 0.9808738231658936 | val_loss: 0.6602852041850985 | val_acc: 0.7987496256828308\n",
      "Iteration: 0/1373 | train_loss: 0.057952865958213806 | train_acc: 0.9609375\n",
      "Iteration: 100/1373 | train_loss: 0.07322020083665848 | train_acc: 0.96875\n",
      "Iteration: 200/1373 | train_loss: 0.040300700813531876 | train_acc: 1.0\n",
      "Iteration: 300/1373 | train_loss: 0.13913875818252563 | train_acc: 0.953125\n",
      "Iteration: 400/1373 | train_loss: 0.04854331910610199 | train_acc: 0.9921875\n",
      "Iteration: 500/1373 | train_loss: 0.044957634061574936 | train_acc: 0.9921875\n",
      "Iteration: 600/1373 | train_loss: 0.030289210379123688 | train_acc: 0.984375\n",
      "Iteration: 700/1373 | train_loss: 0.0690523013472557 | train_acc: 0.9765625\n",
      "Iteration: 800/1373 | train_loss: 0.07465895265340805 | train_acc: 0.984375\n",
      "Iteration: 900/1373 | train_loss: 0.08004730194807053 | train_acc: 0.984375\n",
      "Iteration: 1000/1373 | train_loss: 0.026702076196670532 | train_acc: 0.9921875\n",
      "Iteration: 1100/1373 | train_loss: 0.09401433169841766 | train_acc: 0.9765625\n",
      "Iteration: 1200/1373 | train_loss: 0.0645679458975792 | train_acc: 0.9609375\n",
      "Iteration: 1300/1373 | train_loss: 0.0469016395509243 | train_acc: 0.9921875\n",
      "Epoch: 25 | train_loss 0.05946502527322946 | train_acc: 0.9816136360168457 | val_loss: 0.6579699108972732 | val_acc: 0.7991020679473877\n",
      "Iteration: 0/1373 | train_loss: 0.03355393931269646 | train_acc: 0.984375\n",
      "Iteration: 100/1373 | train_loss: 0.07201799750328064 | train_acc: 0.9921875\n",
      "Iteration: 200/1373 | train_loss: 0.019277283921837807 | train_acc: 0.9921875\n",
      "Iteration: 300/1373 | train_loss: 0.053879834711551666 | train_acc: 0.9921875\n",
      "Iteration: 400/1373 | train_loss: 0.06104359030723572 | train_acc: 0.9765625\n",
      "Iteration: 500/1373 | train_loss: 0.029002610594034195 | train_acc: 0.9921875\n",
      "Iteration: 600/1373 | train_loss: 0.04774679243564606 | train_acc: 0.9765625\n",
      "Iteration: 700/1373 | train_loss: 0.033567097038030624 | train_acc: 0.9921875\n",
      "Iteration: 800/1373 | train_loss: 0.025724126026034355 | train_acc: 1.0\n",
      "Iteration: 900/1373 | train_loss: 0.07884381711483002 | train_acc: 0.9765625\n",
      "Iteration: 1000/1373 | train_loss: 0.032422613352537155 | train_acc: 0.9921875\n",
      "Iteration: 1100/1373 | train_loss: 0.04630853980779648 | train_acc: 0.9921875\n",
      "Iteration: 1200/1373 | train_loss: 0.05636470392346382 | train_acc: 0.9765625\n",
      "Iteration: 1300/1373 | train_loss: 0.08220115303993225 | train_acc: 0.953125\n",
      "Epoch    27: reducing learning rate of group 0 to 2.4414e-07.\n",
      "Epoch: 26 | train_loss 0.06093566177027382 | train_acc: 0.9813120365142822 | val_loss: 0.6656661510573684 | val_acc: 0.7981002926826477\n",
      "Iteration: 0/1373 | train_loss: 0.06874331086874008 | train_acc: 0.9609375\n",
      "Iteration: 100/1373 | train_loss: 0.05484987050294876 | train_acc: 0.984375\n",
      "Iteration: 200/1373 | train_loss: 0.07376386225223541 | train_acc: 0.9765625\n",
      "Iteration: 300/1373 | train_loss: 0.021464280784130096 | train_acc: 0.9921875\n",
      "Iteration: 400/1373 | train_loss: 0.044970475137233734 | train_acc: 0.984375\n",
      "Iteration: 500/1373 | train_loss: 0.02051827684044838 | train_acc: 1.0\n",
      "Iteration: 600/1373 | train_loss: 0.043261703103780746 | train_acc: 0.984375\n",
      "Iteration: 700/1373 | train_loss: 0.03318868204951286 | train_acc: 0.9921875\n",
      "Iteration: 800/1373 | train_loss: 0.032882701605558395 | train_acc: 0.9921875\n",
      "Iteration: 900/1373 | train_loss: 0.0848730280995369 | train_acc: 0.984375\n",
      "Iteration: 1000/1373 | train_loss: 0.05419585481286049 | train_acc: 0.96875\n",
      "Iteration: 1100/1373 | train_loss: 0.06487572193145752 | train_acc: 0.96875\n",
      "Iteration: 1200/1373 | train_loss: 0.08936242759227753 | train_acc: 0.9609375\n",
      "Iteration: 1300/1373 | train_loss: 0.07342944294214249 | train_acc: 0.9765625\n",
      "Epoch: 27 | train_loss 0.06107591770739951 | train_acc: 0.9811640977859497 | val_loss: 0.6665580696772837 | val_acc: 0.7987310290336609\n",
      "Iteration: 0/1373 | train_loss: 0.0703386589884758 | train_acc: 0.9609375\n",
      "Iteration: 100/1373 | train_loss: 0.052183836698532104 | train_acc: 0.984375\n",
      "Iteration: 200/1373 | train_loss: 0.062013234943151474 | train_acc: 0.984375\n",
      "Iteration: 300/1373 | train_loss: 0.08530991524457932 | train_acc: 0.9765625\n",
      "Iteration: 400/1373 | train_loss: 0.016510484740138054 | train_acc: 1.0\n",
      "Iteration: 500/1373 | train_loss: 0.05687244236469269 | train_acc: 0.9765625\n",
      "Iteration: 600/1373 | train_loss: 0.054264310747385025 | train_acc: 0.984375\n",
      "Iteration: 700/1373 | train_loss: 0.045758653432130814 | train_acc: 0.984375\n",
      "Iteration: 800/1373 | train_loss: 0.10046922415494919 | train_acc: 0.9765625\n",
      "Iteration: 900/1373 | train_loss: 0.030866969376802444 | train_acc: 0.9921875\n",
      "Iteration: 1000/1373 | train_loss: 0.11076366901397705 | train_acc: 0.9609375\n",
      "Iteration: 1100/1373 | train_loss: 0.053270123898983 | train_acc: 0.984375\n",
      "Iteration: 1200/1373 | train_loss: 0.02857997827231884 | train_acc: 1.0\n",
      "Iteration: 1300/1373 | train_loss: 0.0490775927901268 | train_acc: 0.984375\n",
      "Epoch    29: reducing learning rate of group 0 to 1.2207e-07.\n",
      "Epoch: 28 | train_loss 0.059985470918114805 | train_acc: 0.9815396666526794 | val_loss: 0.6651435896118167 | val_acc: 0.7988980412483215\n",
      "Iteration: 0/1373 | train_loss: 0.06738899648189545 | train_acc: 0.9765625\n",
      "Iteration: 100/1373 | train_loss: 0.07541334629058838 | train_acc: 0.984375\n",
      "Iteration: 200/1373 | train_loss: 0.07258336991071701 | train_acc: 0.9609375\n",
      "Iteration: 300/1373 | train_loss: 0.06113429367542267 | train_acc: 0.984375\n",
      "Iteration: 400/1373 | train_loss: 0.06317474693059921 | train_acc: 0.96875\n",
      "Iteration: 500/1373 | train_loss: 0.01966160163283348 | train_acc: 1.0\n",
      "Iteration: 600/1373 | train_loss: 0.06843116134405136 | train_acc: 0.96875\n",
      "Iteration: 700/1373 | train_loss: 0.0663820281624794 | train_acc: 0.9765625\n",
      "Iteration: 800/1373 | train_loss: 0.04207391291856766 | train_acc: 0.9921875\n",
      "Iteration: 900/1373 | train_loss: 0.07353898882865906 | train_acc: 0.9765625\n",
      "Iteration: 1000/1373 | train_loss: 0.08695964515209198 | train_acc: 0.953125\n",
      "Iteration: 1100/1373 | train_loss: 0.055521510541439056 | train_acc: 0.9921875\n",
      "Iteration: 1200/1373 | train_loss: 0.029914813116192818 | train_acc: 1.0\n",
      "Iteration: 1300/1373 | train_loss: 0.06548792868852615 | train_acc: 0.984375\n",
      "Epoch: 29 | train_loss 0.060803653312968955 | train_acc: 0.9812835454940796 | val_loss: 0.6661663235191458 | val_acc: 0.7988609075546265\n"
     ]
    }
   ],
   "source": [
    "best_val_loss = float(\"inf\")\n",
    "\n",
    "for epoch in range(num_epochs):\n",
    "    # Train for \"n\" number of iterations\n",
    "    running_loss = 0.\n",
    "    running_acc = 0.\n",
    "    for iteration, (X, y) in enumerate(train_dataloader):\n",
    "\n",
    "        X = X.float().to(device)\n",
    "        # Normalize\n",
    "        X = (X - min) / (max - min)\n",
    "\n",
    "        y = y.view(X.size(0)).to(device)\n",
    "\n",
    "        loss, corrects = train_step(X, y, model, optimizer, criterion)\n",
    "\n",
    "        # Running metrics\n",
    "        running_loss = running_loss + loss * X.size(0)\n",
    "        running_acc = running_acc + corrects\n",
    "\n",
    "        if iteration % 100 == 0:\n",
    "            print(f\"Iteration: {iteration}/{train_iterations} | train_loss: {loss} | train_acc: {corrects/X.size(0)}\")\n",
    "\n",
    "    train_loss = running_loss / len(train_dataset)\n",
    "    train_acc = running_acc / len(train_dataset)\n",
    "\n",
    "    # Validate\n",
    "    running_val_loss = 0.\n",
    "    running_val_acc = 0.\n",
    "    for step, (X, y) in enumerate(val_dataloader):\n",
    "\n",
    "        X = X.float().to(device)\n",
    "        X = (X - min) / (max - min)\n",
    "\n",
    "        y = y.view(X.size(0)).to(device)\n",
    "\n",
    "        loss, corrects, predicted_classes = val_step(X, y, model, criterion)\n",
    "        # Running metrics\n",
    "        running_val_loss = running_val_loss + loss * X.size(0)\n",
    "        running_val_acc = running_val_acc + corrects\n",
    "\n",
    "    val_loss = running_val_loss / len(val_dataset)\n",
    "    val_acc = running_val_acc / len(val_dataset)\n",
    "\n",
    "    scheduler.step(val_loss)\n",
    "\n",
    "    if val_loss < best_val_loss:\n",
    "        # Checkpoint model\n",
    "        path = os.path.join(base_path, \"Models\", \"window2_adaptive.pth\")\n",
    "        print(f\"Saving model to {path}\")\n",
    "        torch.save(model.state_dict(), path)\n",
    "        best_val_loss = val_loss\n",
    "\n",
    "    print(f\"Epoch: {epoch} | train_loss {train_loss} | train_acc: {train_acc} | val_loss: {val_loss} | val_acc: {val_acc}\")"
   ]
  },
  {
   "cell_type": "code",
   "execution_count": null,
   "metadata": {
    "colab": {
     "base_uri": "https://localhost:8080/"
    },
    "executionInfo": {
     "elapsed": 195,
     "status": "ok",
     "timestamp": 1636688549515,
     "user": {
      "displayName": "Sahil Anish Palarpwar",
      "photoUrl": "https://lh3.googleusercontent.com/a/default-user=s64",
      "userId": "17757512684560375750"
     },
     "user_tz": 300
    },
    "id": "x9_ZITbCybTq",
    "outputId": "013529c3-f02b-494f-b6c3-8df119c5e03f"
   },
   "outputs": [
    {
     "data": {
      "text/plain": [
       "array([0])"
      ]
     },
     "execution_count": 24,
     "metadata": {},
     "output_type": "execute_result"
    }
   ],
   "source": [
    "np.array([train_dataset.y[0]])"
   ]
  },
  {
   "cell_type": "code",
   "execution_count": null,
   "metadata": {
    "id": "X7g8J7WadLvm"
   },
   "outputs": [],
   "source": [
    "best_model = OneDConvNet(6, 4)\n",
    "best_model.load_state_dict(torch.load(os.path.join(base_path, \"Models\", \"window2_adaptive.pth\")))\n",
    "best_model = best_model.to(device)"
   ]
  },
  {
   "cell_type": "code",
   "execution_count": null,
   "metadata": {
    "id": "pK-nLeloml-n"
   },
   "outputs": [],
   "source": [
    "from sklearn.metrics import accuracy_score, precision_score, recall_score, f1_score\n",
    "\n",
    "class Evaluation:\n",
    "\n",
    "  def __init__(self):\n",
    "        pass\n",
    "  \n",
    "  def aggregate_metrics(self, y, y_hat):\n",
    "    \n",
    "    \"\"\" Metrics for entire set \n",
    "        \n",
    "        Arguments passed are: \n",
    "                      y     : ground truth  \n",
    "                      y_hat : predicted class\n",
    "        Calculations:\n",
    "                  accuracy  : (tp + tn) / (total samples =(p + n))\n",
    "                  precision : tp / (tp + fp)\n",
    "                  recall    : tp / (tp + fn)\n",
    "                  f1        : 2 tp / (2 tp + fp + fn)\n",
    "    \"\"\"\n",
    "    accuracy  = accuracy_score(y, y_hat)\n",
    "    precision = precision_score(y, y_hat, average=\"macro\")\n",
    "    recall    = recall_score(y, y_hat, average=\"macro\")\n",
    "    f1        = f1_score(y, y_hat, average=\"macro\")\n",
    "    return {\n",
    "        \"Accuracy\": accuracy,\n",
    "        \"Precision\": precision,\n",
    "        \"Recall\": recall,\n",
    "        \"F1\": f1\n",
    "        }\n",
    "\n",
    "  def classwise_metrics(self, y, y_hat):\n",
    "\n",
    "    \"\"\" Metrics for each class. \n",
    "        Average is set to macro for calculating the score of each label, and find their unweighted mean. \n",
    "        This does not take label imbalance into account.\n",
    "        \n",
    "        Arguments passed are: \n",
    "                      y     : ground truth  \n",
    "                      y_hat : predicted class\n",
    "        Calculations:\n",
    "                  accuracy  : (tp + tn) / (total samples =(p + n))\n",
    "                  precision : tp / (tp + fp)\n",
    "                  recall    : tp / (tp + fn)\n",
    "                  f1        : 2 tp / (2 tp + fp + fn)\n",
    "    \"\"\"\n",
    "    \n",
    "    class_precision = precision_score(y, y_hat, average=None)\n",
    "    class_recall    = recall_score(y, y_hat, average=None)\n",
    "    class_f1        = f1_score(y, y_hat, average=None)\n",
    "    \n",
    "    return {\n",
    "        \"Precision\": class_precision,\n",
    "        \"Recall\": class_recall,\n",
    "        \"F1\": class_f1\n",
    "    }"
   ]
  },
  {
   "cell_type": "code",
   "execution_count": null,
   "metadata": {
    "id": "MvN9WtxwznFw"
   },
   "outputs": [],
   "source": [
    "evaluator = Evaluation()"
   ]
  },
  {
   "cell_type": "code",
   "execution_count": null,
   "metadata": {
    "colab": {
     "base_uri": "https://localhost:8080/"
    },
    "executionInfo": {
     "elapsed": 3895,
     "status": "ok",
     "timestamp": 1636688832503,
     "user": {
      "displayName": "Sahil Anish Palarpwar",
      "photoUrl": "https://lh3.googleusercontent.com/a/default-user=s64",
      "userId": "17757512684560375750"
     },
     "user_tz": 300
    },
    "id": "bYbdv_EDml8M",
    "outputId": "ed7c1408-0d4c-49aa-d8d7-d03bd1a288df"
   },
   "outputs": [
    {
     "name": "stdout",
     "output_type": "stream",
     "text": [
      "Converting uid 001_08\n",
      "Converting uid 002_01\n",
      "Converting uid 001_01\n",
      "Converting uid 001_04\n"
     ]
    }
   ],
   "source": [
    "val_dataset = SubjectDataset(\n",
    "    val_data_path, \n",
    "    split_ids[\"val\"]\n",
    ")\n",
    "val_dataloader = DataLoader(val_dataset, batch_size=batch_size, shuffle=False)\n",
    "val_iterations = (len(val_dataset) // batch_size) + ((len(val_dataset) % batch_size) != 0)"
   ]
  },
  {
   "cell_type": "code",
   "execution_count": null,
   "metadata": {
    "id": "5qvZJ2dCxb-H"
   },
   "outputs": [],
   "source": [
    "output = []\n",
    "labels = []\n",
    "for X, y in val_dataloader:\n",
    "    X = X.float().to(device)\n",
    "    X = (X - min) / (max - min)\n",
    "    \n",
    "    y = y.view(X.size(0)).to(device)\n",
    "\n",
    "    y_pred = best_model(X)\n",
    "    predicted_classes = torch.argmax(y_pred, dim=1).detach().cpu().numpy()\n",
    "    y_true = y.cpu().numpy()\n",
    "\n",
    "    output.append(predicted_classes)\n",
    "    labels.append(y_true)"
   ]
  },
  {
   "cell_type": "code",
   "execution_count": null,
   "metadata": {
    "id": "I8p4RTYs0CuR"
   },
   "outputs": [],
   "source": [
    "_output = np.concatenate(output, axis=0)\n",
    "_labels = np.concatenate(labels, axis=0)"
   ]
  },
  {
   "cell_type": "code",
   "execution_count": null,
   "metadata": {
    "colab": {
     "base_uri": "https://localhost:8080/"
    },
    "executionInfo": {
     "elapsed": 315,
     "status": "ok",
     "timestamp": 1636688835717,
     "user": {
      "displayName": "Sahil Anish Palarpwar",
      "photoUrl": "https://lh3.googleusercontent.com/a/default-user=s64",
      "userId": "17757512684560375750"
     },
     "user_tz": 300
    },
    "id": "EI4HBWhS0Gao",
    "outputId": "8397fb98-bd88-4421-c2db-c975f8243c78"
   },
   "outputs": [
    {
     "name": "stdout",
     "output_type": "stream",
     "text": [
      "Agg metrics\n",
      "{'Accuracy': 0.8995103136639504, 'Precision': 0.8075946057190717, 'Recall': 0.9303976681936282, 'F1': 0.8602390828991545}\n",
      "Classwise Metrics\n",
      "{'Precision': array([0.97917573, 0.78166402, 0.77984953, 0.68968915]), 'Recall': array([0.89412407, 0.94946894, 0.98675497, 0.89124269]), 'F1': array([0.93471914, 0.85743351, 0.87118582, 0.77761786])}\n"
     ]
    }
   ],
   "source": [
    "agg_metrics = evaluator.aggregate_metrics(_labels, _output)\n",
    "print(\"Agg metrics\")\n",
    "print(agg_metrics)\n",
    "classwise_metrics = evaluator.classwise_metrics(_labels, _output)\n",
    "print(\"Classwise Metrics\")\n",
    "print(classwise_metrics)"
   ]
  },
  {
   "cell_type": "code",
   "execution_count": null,
   "metadata": {
    "colab": {
     "base_uri": "https://localhost:8080/"
    },
    "executionInfo": {
     "elapsed": 17445,
     "status": "ok",
     "timestamp": 1636688688164,
     "user": {
      "displayName": "Sahil Anish Palarpwar",
      "photoUrl": "https://lh3.googleusercontent.com/a/default-user=s64",
      "userId": "17757512684560375750"
     },
     "user_tz": 300
    },
    "id": "UosykPCA0GX_",
    "outputId": "f683e182-4c0c-44e8-e590-95614a112ed1"
   },
   "outputs": [
    {
     "name": "stdout",
     "output_type": "stream",
     "text": [
      "Converting uid 005_03\n",
      "Converting uid 006_01\n",
      "Converting uid 006_02\n",
      "Converting uid 006_03\n",
      "Converting uid 007_01\n",
      "Converting uid 007_02\n",
      "Converting uid 007_03\n",
      "Converting uid 007_04\n",
      "Converting uid 008_01\n"
     ]
    }
   ],
   "source": [
    "test_data_path = os.path.join(base_data_path, \"test\")\n",
    "test_dataset = SubjectDataset(\n",
    "    test_data_path, \n",
    "    split_ids[\"test\"]\n",
    ")\n",
    "test_dataloader = DataLoader(test_dataset, batch_size=batch_size, shuffle=False)\n",
    "test_iterations = (len(test_dataset) // batch_size) + ((len(test_dataset) % batch_size) != 0)"
   ]
  },
  {
   "cell_type": "code",
   "execution_count": null,
   "metadata": {
    "id": "GV5m259v4D5L"
   },
   "outputs": [],
   "source": [
    "output = []\n",
    "labels = []\n",
    "for X, y in test_dataloader:\n",
    "    X = X.float().to(device)\n",
    "    X = (X - min) / (max - min)\n",
    "    \n",
    "    y = y.view(X.size(0)).to(device)\n",
    "\n",
    "    y_pred = best_model(X)\n",
    "    predicted_classes = torch.argmax(y_pred, dim=1).detach().cpu().numpy()\n",
    "    y_true = y.cpu().numpy()\n",
    "\n",
    "    output.append(predicted_classes)\n",
    "    labels.append(y_true)"
   ]
  },
  {
   "cell_type": "code",
   "execution_count": null,
   "metadata": {
    "id": "cDB40FUf4TY8"
   },
   "outputs": [],
   "source": [
    "_output = np.concatenate(output, axis=0)\n",
    "_labels = np.concatenate(labels, axis=0)"
   ]
  },
  {
   "cell_type": "code",
   "execution_count": null,
   "metadata": {
    "colab": {
     "base_uri": "https://localhost:8080/"
    },
    "executionInfo": {
     "elapsed": 332,
     "status": "ok",
     "timestamp": 1636688724343,
     "user": {
      "displayName": "Sahil Anish Palarpwar",
      "photoUrl": "https://lh3.googleusercontent.com/a/default-user=s64",
      "userId": "17757512684560375750"
     },
     "user_tz": 300
    },
    "id": "GtmDpRBH4XDQ",
    "outputId": "a3cc553b-cb8b-4e96-ef90-9716e60c0cb5"
   },
   "outputs": [
    {
     "name": "stdout",
     "output_type": "stream",
     "text": [
      "Agg metrics\n",
      "{'Accuracy': 0.8995103136639504, 'Precision': 0.8075946057190717, 'Recall': 0.9303976681936282, 'F1': 0.8602390828991545}\n",
      "Classwise Metrics\n",
      "{'Precision': array([0.97917573, 0.78166402, 0.77984953, 0.68968915]), 'Recall': array([0.89412407, 0.94946894, 0.98675497, 0.89124269]), 'F1': array([0.93471914, 0.85743351, 0.87118582, 0.77761786])}\n"
     ]
    }
   ],
   "source": [
    "agg_metrics = evaluator.aggregate_metrics(_labels, _output)\n",
    "print(\"Agg metrics\")\n",
    "print(agg_metrics)\n",
    "classwise_metrics = evaluator.classwise_metrics(_labels, _output)\n",
    "print(\"Classwise Metrics\")\n",
    "print(classwise_metrics)"
   ]
  },
  {
   "cell_type": "code",
   "execution_count": null,
   "metadata": {
    "colab": {
     "base_uri": "https://localhost:8080/"
    },
    "executionInfo": {
     "elapsed": 135,
     "status": "ok",
     "timestamp": 1636688781889,
     "user": {
      "displayName": "Sahil Anish Palarpwar",
      "photoUrl": "https://lh3.googleusercontent.com/a/default-user=s64",
      "userId": "17757512684560375750"
     },
     "user_tz": 300
    },
    "id": "xMx7IIGjpyNZ",
    "outputId": "0f9c32de-3cb2-4f56-99d5-25d6df944aa6"
   },
   "outputs": [
    {
     "name": "stdout",
     "output_type": "stream",
     "text": [
      "Saving model to /content/drive/MyDrive/ECE_542/Competition_Project/Models/checkpoint_instance_norm_dropout_sgd_lr3_adaptive_window2_long.pth\n"
     ]
    }
   ],
   "source": [
    "path = os.path.join(base_path, \"Models\", \"window2_adaptive_long.pth\")\n",
    "print(f\"Saving model to {path}\")\n",
    "torch.save(model.state_dict(), path)"
   ]
  },
  {
   "cell_type": "code",
   "execution_count": null,
   "metadata": {
    "id": "gZISb6yI1ewr"
   },
   "outputs": [],
   "source": []
  }
 ],
 "metadata": {
  "colab": {
   "collapsed_sections": [],
   "name": "window2_adaptive.ipynb",
   "provenance": [
    {
     "file_id": "13A6jjUV-qzBxlbhQXQewQM3QlSuE4YZJ",
     "timestamp": 1636602277302
    }
   ]
  },
  "kernelspec": {
   "display_name": "Python 3",
   "language": "python",
   "name": "python3"
  },
  "language_info": {
   "codemirror_mode": {
    "name": "ipython",
    "version": 3
   },
   "file_extension": ".py",
   "mimetype": "text/x-python",
   "name": "python",
   "nbconvert_exporter": "python",
   "pygments_lexer": "ipython3",
   "version": "3.9.0"
  }
 },
 "nbformat": 4,
 "nbformat_minor": 1
}
