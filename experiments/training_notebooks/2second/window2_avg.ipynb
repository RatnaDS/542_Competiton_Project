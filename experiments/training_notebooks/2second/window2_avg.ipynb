{
 "cells": [
  {
   "cell_type": "code",
   "execution_count": 2,
   "metadata": {
    "colab": {
     "base_uri": "https://localhost:8080/"
    },
    "executionInfo": {
     "elapsed": 361,
     "status": "ok",
     "timestamp": 1637020552935,
     "user": {
      "displayName": "Sahil Anish Palarpwar",
      "photoUrl": "https://lh3.googleusercontent.com/a/default-user=s64",
      "userId": "17757512684560375750"
     },
     "user_tz": 300
    },
    "id": "prIF1sjM-c3i",
    "outputId": "622d47de-d7cf-42f9-8c92-d86f9665818f"
   },
   "outputs": [
    {
     "name": "stdout",
     "output_type": "stream",
     "text": [
      "data.zip  ml_utils  Predictions    window2_data.zip\n",
      "metadata  Models    test_data.zip\n"
     ]
    }
   ],
   "source": [
    "!ls /content/drive/MyDrive/ECE_542/Competition_Project"
   ]
  },
  {
   "cell_type": "code",
   "execution_count": 1,
   "metadata": {
    "colab": {
     "base_uri": "https://localhost:8080/"
    },
    "executionInfo": {
     "elapsed": 22819,
     "status": "ok",
     "timestamp": 1637020549437,
     "user": {
      "displayName": "Sahil Anish Palarpwar",
      "photoUrl": "https://lh3.googleusercontent.com/a/default-user=s64",
      "userId": "17757512684560375750"
     },
     "user_tz": 300
    },
    "id": "22ITlwg0FkeF",
    "outputId": "6ea71152-e4c3-47f9-df1a-a9f3386baf30"
   },
   "outputs": [
    {
     "name": "stdout",
     "output_type": "stream",
     "text": [
      "Mounted at /content/drive\n"
     ]
    }
   ],
   "source": [
    "from google.colab import drive\n",
    "drive.mount('/content/drive')"
   ]
  },
  {
   "cell_type": "code",
   "execution_count": 3,
   "metadata": {
    "executionInfo": {
     "elapsed": 7105,
     "status": "ok",
     "timestamp": 1637020562646,
     "user": {
      "displayName": "Sahil Anish Palarpwar",
      "photoUrl": "https://lh3.googleusercontent.com/a/default-user=s64",
      "userId": "17757512684560375750"
     },
     "user_tz": 300
    },
    "id": "Ng-s1F7Z-xKL"
   },
   "outputs": [],
   "source": [
    "!cp /content/drive/MyDrive/ECE_542/Competition_Project/window2_data.zip ."
   ]
  },
  {
   "cell_type": "code",
   "execution_count": 4,
   "metadata": {
    "colab": {
     "base_uri": "https://localhost:8080/"
    },
    "executionInfo": {
     "elapsed": 55429,
     "status": "ok",
     "timestamp": 1637020620608,
     "user": {
      "displayName": "Sahil Anish Palarpwar",
      "photoUrl": "https://lh3.googleusercontent.com/a/default-user=s64",
      "userId": "17757512684560375750"
     },
     "user_tz": 300
    },
    "id": "8wUZq7ty_AZO",
    "outputId": "84cb94ba-d60c-4f32-e4c8-5038b2d2da0c"
   },
   "outputs": [
    {
     "name": "stdout",
     "output_type": "stream",
     "text": [
      "Archive:  window2_data.zip\n",
      "   creating: window2_data/preprocessed_data/\n",
      "   creating: window2_data/preprocessed_data_test/\n",
      "  inflating: window2_data/preprocessed_data_test/subject_009_session_01__x.csv  \n",
      "  inflating: window2_data/preprocessed_data_test/subject_009_session_01__y.csv  \n",
      "  inflating: window2_data/preprocessed_data_test/subject_010_session_01__x.csv  \n",
      "  inflating: window2_data/preprocessed_data_test/subject_010_session_01__y.csv  \n",
      "  inflating: window2_data/preprocessed_data_test/subject_011_session_01__x.csv  \n",
      "  inflating: window2_data/preprocessed_data_test/subject_011_session_01__y.csv  \n",
      "  inflating: window2_data/preprocessed_data_test/subject_012_session_01__x.csv  \n",
      "  inflating: window2_data/preprocessed_data_test/subject_012_session_01__y.csv  \n",
      "   creating: window2_data/splits/\n",
      "   creating: window2_data/splits/test/\n",
      "  inflating: window2_data/splits/test/subject_005_session_03__x.csv  \n",
      "  inflating: window2_data/splits/test/subject_005_session_03__y.csv  \n",
      "  inflating: window2_data/splits/test/subject_006_session_01__x.csv  \n",
      "  inflating: window2_data/splits/test/subject_006_session_01__y.csv  \n",
      "  inflating: window2_data/splits/test/subject_006_session_02__x.csv  \n",
      "  inflating: window2_data/splits/test/subject_006_session_02__y.csv  \n",
      "  inflating: window2_data/splits/test/subject_006_session_03__x.csv  \n",
      "  inflating: window2_data/splits/test/subject_006_session_03__y.csv  \n",
      "  inflating: window2_data/splits/test/subject_007_session_01__x.csv  \n",
      "  inflating: window2_data/splits/test/subject_007_session_01__y.csv  \n",
      "  inflating: window2_data/splits/test/subject_007_session_02__x.csv  \n",
      "  inflating: window2_data/splits/test/subject_007_session_02__y.csv  \n",
      "  inflating: window2_data/splits/test/subject_007_session_03__x.csv  \n",
      "  inflating: window2_data/splits/test/subject_007_session_03__y.csv  \n",
      "  inflating: window2_data/splits/test/subject_007_session_04__x.csv  \n",
      "  inflating: window2_data/splits/test/subject_007_session_04__y.csv  \n",
      "  inflating: window2_data/splits/test/subject_008_session_01__x.csv  \n",
      "  inflating: window2_data/splits/test/subject_008_session_01__y.csv  \n",
      "   creating: window2_data/splits/train/\n",
      "  inflating: window2_data/splits/train/subject_001_session_02__x.csv  \n",
      "  inflating: window2_data/splits/train/subject_001_session_02__y.csv  \n",
      "  inflating: window2_data/splits/train/subject_001_session_03__x.csv  \n",
      "  inflating: window2_data/splits/train/subject_001_session_03__y.csv  \n",
      "  inflating: window2_data/splits/train/subject_001_session_05__x.csv  \n",
      "  inflating: window2_data/splits/train/subject_001_session_05__y.csv  \n",
      "  inflating: window2_data/splits/train/subject_001_session_06__x.csv  \n",
      "  inflating: window2_data/splits/train/subject_001_session_06__y.csv  \n",
      "  inflating: window2_data/splits/train/subject_001_session_07__x.csv  \n",
      "  inflating: window2_data/splits/train/subject_001_session_07__y.csv  \n",
      "  inflating: window2_data/splits/train/subject_002_session_02__x.csv  \n",
      "  inflating: window2_data/splits/train/subject_002_session_02__y.csv  \n",
      "  inflating: window2_data/splits/train/subject_002_session_03__x.csv  \n",
      "  inflating: window2_data/splits/train/subject_002_session_03__y.csv  \n",
      "  inflating: window2_data/splits/train/subject_002_session_04__x.csv  \n",
      "  inflating: window2_data/splits/train/subject_002_session_04__y.csv  \n",
      "  inflating: window2_data/splits/train/subject_002_session_05__x.csv  \n",
      "  inflating: window2_data/splits/train/subject_002_session_05__y.csv  \n",
      "  inflating: window2_data/splits/train/subject_003_session_01__x.csv  \n",
      "  inflating: window2_data/splits/train/subject_003_session_01__y.csv  \n",
      "  inflating: window2_data/splits/train/subject_003_session_02__x.csv  \n",
      "  inflating: window2_data/splits/train/subject_003_session_02__y.csv  \n",
      "  inflating: window2_data/splits/train/subject_003_session_03__x.csv  \n",
      "  inflating: window2_data/splits/train/subject_003_session_03__y.csv  \n",
      "  inflating: window2_data/splits/train/subject_004_session_01__x.csv  \n",
      "  inflating: window2_data/splits/train/subject_004_session_01__y.csv  \n",
      "  inflating: window2_data/splits/train/subject_004_session_02__x.csv  \n",
      "  inflating: window2_data/splits/train/subject_004_session_02__y.csv  \n",
      "  inflating: window2_data/splits/train/subject_005_session_01__x.csv  \n",
      "  inflating: window2_data/splits/train/subject_005_session_01__y.csv  \n",
      "  inflating: window2_data/splits/train/subject_005_session_02__x.csv  \n",
      "  inflating: window2_data/splits/train/subject_005_session_02__y.csv  \n",
      "   creating: window2_data/splits/val/\n",
      "  inflating: window2_data/splits/val/subject_001_session_01__x.csv  \n",
      "  inflating: window2_data/splits/val/subject_001_session_01__y.csv  \n",
      "  inflating: window2_data/splits/val/subject_001_session_04__x.csv  \n",
      "  inflating: window2_data/splits/val/subject_001_session_04__y.csv  \n",
      "  inflating: window2_data/splits/val/subject_001_session_08__x.csv  \n",
      "  inflating: window2_data/splits/val/subject_001_session_08__y.csv  \n",
      "  inflating: window2_data/splits/val/subject_002_session_01__x.csv  \n",
      "  inflating: window2_data/splits/val/subject_002_session_01__y.csv  \n"
     ]
    }
   ],
   "source": [
    "!unzip window2_data.zip"
   ]
  },
  {
   "cell_type": "code",
   "execution_count": null,
   "metadata": {
    "id": "1ZeuQxwE_NzP"
   },
   "outputs": [],
   "source": [
    "!rm data.zip"
   ]
  },
  {
   "cell_type": "markdown",
   "metadata": {
    "id": "9OoQXL-PPr87"
   },
   "source": []
  },
  {
   "cell_type": "code",
   "execution_count": 5,
   "metadata": {
    "colab": {
     "base_uri": "https://localhost:8080/"
    },
    "executionInfo": {
     "elapsed": 1498,
     "status": "ok",
     "timestamp": 1637020654167,
     "user": {
      "displayName": "Sahil Anish Palarpwar",
      "photoUrl": "https://lh3.googleusercontent.com/a/default-user=s64",
      "userId": "17757512684560375750"
     },
     "user_tz": 300
    },
    "id": "gDq6r9hIGGDQ",
    "outputId": "9917c15e-af0a-49e2-a3d6-4be499004b0f"
   },
   "outputs": [
    {
     "name": "stdout",
     "output_type": "stream",
     "text": [
      "drive  ml_utils  sample_data  window2_data  window2_data.zip\n"
     ]
    }
   ],
   "source": [
    "!cp -r /content/drive/MyDrive/ECE_542/Competition_Project/ml_utils .\n",
    "!ls"
   ]
  },
  {
   "cell_type": "code",
   "execution_count": 1,
   "metadata": {
    "executionInfo": {
     "elapsed": 164,
     "status": "ok",
     "timestamp": 1637021965266,
     "user": {
      "displayName": "Sahil Anish Palarpwar",
      "photoUrl": "https://lh3.googleusercontent.com/a/default-user=s64",
      "userId": "17757512684560375750"
     },
     "user_tz": 300
    },
    "id": "DJlBSAfPnuG_"
   },
   "outputs": [],
   "source": [
    "base_path = \"/content/drive/MyDrive/ECE_542/Competition_Project\""
   ]
  },
  {
   "cell_type": "code",
   "execution_count": 2,
   "metadata": {
    "executionInfo": {
     "elapsed": 1,
     "status": "ok",
     "timestamp": 1637021965480,
     "user": {
      "displayName": "Sahil Anish Palarpwar",
      "photoUrl": "https://lh3.googleusercontent.com/a/default-user=s64",
      "userId": "17757512684560375750"
     },
     "user_tz": 300
    },
    "id": "8kUcwing_Qkz"
   },
   "outputs": [],
   "source": [
    "import os\n",
    "import sys\n",
    "# sys.path.append(\"ece542-competition-project\")"
   ]
  },
  {
   "cell_type": "code",
   "execution_count": 3,
   "metadata": {
    "executionInfo": {
     "elapsed": 1235,
     "status": "ok",
     "timestamp": 1637021967124,
     "user": {
      "displayName": "Sahil Anish Palarpwar",
      "photoUrl": "https://lh3.googleusercontent.com/a/default-user=s64",
      "userId": "17757512684560375750"
     },
     "user_tz": 300
    },
    "id": "_JxS3qkHmmRB"
   },
   "outputs": [],
   "source": [
    "import json\n",
    "from collections import Counter\n",
    "import torch\n",
    "import torch.nn as nn\n",
    "import torch.nn.functional as F\n",
    "from torch import optim\n",
    "from torch.optim.lr_scheduler import ReduceLROnPlateau\n",
    "from torch.utils.data import DataLoader\n",
    "from torch.utils.data.sampler import WeightedRandomSampler\n",
    "import numpy as np\n",
    "from ml_utils.dataset import SubjectDataset"
   ]
  },
  {
   "cell_type": "code",
   "execution_count": 4,
   "metadata": {
    "colab": {
     "base_uri": "https://localhost:8080/"
    },
    "executionInfo": {
     "elapsed": 8,
     "status": "ok",
     "timestamp": 1637021967125,
     "user": {
      "displayName": "Sahil Anish Palarpwar",
      "photoUrl": "https://lh3.googleusercontent.com/a/default-user=s64",
      "userId": "17757512684560375750"
     },
     "user_tz": 300
    },
    "id": "LJCQfTElnJJm",
    "outputId": "460db46f-c692-480a-ba1b-bd4ad7960df5"
   },
   "outputs": [
    {
     "name": "stdout",
     "output_type": "stream",
     "text": [
      "Device: cpu\n"
     ]
    }
   ],
   "source": [
    "device = torch.device(\"cuda:0\" if torch.cuda.is_available() else \"cpu\")\n",
    "print(f\"Device: {device}\")"
   ]
  },
  {
   "cell_type": "code",
   "execution_count": 5,
   "metadata": {
    "executionInfo": {
     "elapsed": 5,
     "status": "ok",
     "timestamp": 1637021967126,
     "user": {
      "displayName": "Sahil Anish Palarpwar",
      "photoUrl": "https://lh3.googleusercontent.com/a/default-user=s64",
      "userId": "17757512684560375750"
     },
     "user_tz": 300
    },
    "id": "5mKgxfP1mmMg"
   },
   "outputs": [],
   "source": [
    "base_data_path = os.path.join(\"window2_data\", \"splits\")\n",
    "train_data_path = os.path.join(base_data_path, \"train\")\n",
    "val_data_path = os.path.join(base_data_path, \"val\")\n",
    "\n",
    "splits_file = os.path.join(base_path, \"metadata\", \"split_ids.json\")\n",
    "with open(splits_file, \"r\") as f:\n",
    "    split_ids = json.load(f)"
   ]
  },
  {
   "cell_type": "code",
   "execution_count": 6,
   "metadata": {
    "executionInfo": {
     "elapsed": 5,
     "status": "ok",
     "timestamp": 1637021967126,
     "user": {
      "displayName": "Sahil Anish Palarpwar",
      "photoUrl": "https://lh3.googleusercontent.com/a/default-user=s64",
      "userId": "17757512684560375750"
     },
     "user_tz": 300
    },
    "id": "kuihFDGQbTBm"
   },
   "outputs": [],
   "source": [
    "stats_path = os.path.join(base_path, \"metadata\", \"statistics.json\")\n",
    "with open(stats_path, \"r\") as f:\n",
    "    stats = json.load(f)"
   ]
  },
  {
   "cell_type": "code",
   "execution_count": 7,
   "metadata": {
    "executionInfo": {
     "elapsed": 6,
     "status": "ok",
     "timestamp": 1637021967127,
     "user": {
      "displayName": "Sahil Anish Palarpwar",
      "photoUrl": "https://lh3.googleusercontent.com/a/default-user=s64",
      "userId": "17757512684560375750"
     },
     "user_tz": 300
    },
    "id": "mzQdu4exbfOl"
   },
   "outputs": [],
   "source": [
    "min = np.array([v[\"min\"] for k, v in stats.items()])\n",
    "max = np.array([v[\"max\"] for k, v in stats.items()])\n",
    "\n",
    "min = torch.from_numpy(min).float()\n",
    "min = torch.unsqueeze((torch.unsqueeze(min, 0)), -1)\n",
    "min = min.to(device)\n",
    "max = torch.from_numpy(max).float().to(device)\n",
    "max = torch.unsqueeze((torch.unsqueeze(max, 0)), -1)\n",
    "max = max.to(device)"
   ]
  },
  {
   "cell_type": "code",
   "execution_count": 8,
   "metadata": {
    "colab": {
     "base_uri": "https://localhost:8080/"
    },
    "executionInfo": {
     "elapsed": 9,
     "status": "ok",
     "timestamp": 1637021967670,
     "user": {
      "displayName": "Sahil Anish Palarpwar",
      "photoUrl": "https://lh3.googleusercontent.com/a/default-user=s64",
      "userId": "17757512684560375750"
     },
     "user_tz": 300
    },
    "id": "XJXYMQrWb-zN",
    "outputId": "5fa606bd-e202-4877-d64f-41f7e241ab0f"
   },
   "outputs": [
    {
     "data": {
      "text/plain": [
       "torch.Size([1, 6, 1])"
      ]
     },
     "execution_count": 8,
     "metadata": {},
     "output_type": "execute_result"
    }
   ],
   "source": [
    "min.shape"
   ]
  },
  {
   "cell_type": "code",
   "execution_count": 9,
   "metadata": {
    "executionInfo": {
     "elapsed": 185,
     "status": "ok",
     "timestamp": 1637021968507,
     "user": {
      "displayName": "Sahil Anish Palarpwar",
      "photoUrl": "https://lh3.googleusercontent.com/a/default-user=s64",
      "userId": "17757512684560375750"
     },
     "user_tz": 300
    },
    "id": "n5RT6OvirVrA"
   },
   "outputs": [],
   "source": [
    "# Training hyperparameters\n",
    "batch_size = 128\n",
    "num_epochs = 30"
   ]
  },
  {
   "cell_type": "code",
   "execution_count": 10,
   "metadata": {
    "colab": {
     "base_uri": "https://localhost:8080/"
    },
    "executionInfo": {
     "elapsed": 36997,
     "status": "ok",
     "timestamp": 1637022005915,
     "user": {
      "displayName": "Sahil Anish Palarpwar",
      "photoUrl": "https://lh3.googleusercontent.com/a/default-user=s64",
      "userId": "17757512684560375750"
     },
     "user_tz": 300
    },
    "id": "jy47cYBEmmKS",
    "outputId": "d08a14f4-e0f1-4563-9117-e2583b76b1a2"
   },
   "outputs": [
    {
     "name": "stdout",
     "output_type": "stream",
     "text": [
      "Converting uid 005_02\n",
      "Converting uid 001_06\n",
      "Converting uid 003_02\n",
      "Converting uid 001_05\n",
      "Converting uid 002_02\n",
      "Converting uid 003_01\n",
      "Converting uid 003_03\n",
      "Converting uid 005_01\n",
      "Converting uid 001_07\n",
      "Converting uid 002_05\n",
      "Converting uid 004_02\n",
      "Converting uid 002_03\n",
      "Converting uid 001_02\n",
      "Converting uid 002_04\n",
      "Converting uid 001_03\n",
      "Converting uid 004_01\n",
      "Converting uid 001_08\n",
      "Converting uid 002_01\n",
      "Converting uid 001_01\n",
      "Converting uid 001_04\n"
     ]
    }
   ],
   "source": [
    "train_dataset = SubjectDataset(\n",
    "    train_data_path, \n",
    "    split_ids[\"train\"]\n",
    ")\n",
    "ys = train_dataset.y.tolist()\n",
    "counts = Counter(ys)\n",
    "weights = np.array([1./counts[_y] for _y in ys])\n",
    "sample_weights = torch.from_numpy(weights).float()\n",
    "sampler = WeightedRandomSampler(\n",
    "    weights=sample_weights,\n",
    "    num_samples=len(sample_weights),\n",
    "    replacement=True)\n",
    "train_dataloader = DataLoader(train_dataset, batch_size=batch_size, sampler=sampler)\n",
    "train_iterations = (len(train_dataset) // batch_size) + ((len(train_dataset) % batch_size) != 0)\n",
    "\n",
    "val_dataset = SubjectDataset(\n",
    "    val_data_path, \n",
    "    split_ids[\"val\"]\n",
    ")\n",
    "val_dataloader = DataLoader(val_dataset, batch_size=batch_size, shuffle=True)\n",
    "val_iterations = (len(val_dataset) // batch_size) + ((len(val_dataset) % batch_size) != 0)"
   ]
  },
  {
   "cell_type": "code",
   "execution_count": 11,
   "metadata": {
    "colab": {
     "base_uri": "https://localhost:8080/"
    },
    "executionInfo": {
     "elapsed": 8,
     "status": "ok",
     "timestamp": 1637022005916,
     "user": {
      "displayName": "Sahil Anish Palarpwar",
      "photoUrl": "https://lh3.googleusercontent.com/a/default-user=s64",
      "userId": "17757512684560375750"
     },
     "user_tz": 300
    },
    "id": "L4JQ2YWz6JeB",
    "outputId": "b1e56e19-9549-493f-d4cf-7eac66272d75"
   },
   "outputs": [
    {
     "name": "stdout",
     "output_type": "stream",
     "text": [
      "1373\n",
      "422\n"
     ]
    }
   ],
   "source": [
    "print(train_iterations)\n",
    "print(val_iterations)"
   ]
  },
  {
   "cell_type": "code",
   "execution_count": 12,
   "metadata": {
    "executionInfo": {
     "elapsed": 156,
     "status": "ok",
     "timestamp": 1637022006067,
     "user": {
      "displayName": "Sahil Anish Palarpwar",
      "photoUrl": "https://lh3.googleusercontent.com/a/default-user=s64",
      "userId": "17757512684560375750"
     },
     "user_tz": 300
    },
    "id": "7UxWDOBmmmOv"
   },
   "outputs": [],
   "source": [
    "class OneDConvNet(nn.Module):\n",
    "  def __init__(self, n_features, n_classes, base_filters=32):\n",
    "    super(OneDConvNet, self).__init__()\n",
    "\n",
    "    self.conv1 = nn.Conv1d(in_channels=n_features, out_channels=base_filters, kernel_size=3, stride=1, padding=1)\n",
    "    self.norm1 = nn.LayerNorm(base_filters*80)\n",
    "    self.pool1 = nn.AvgPool1d(kernel_size = 2, stride = 2)\n",
    "    self.conv2 = nn.Conv1d(in_channels=base_filters, out_channels=base_filters*2, kernel_size=3, stride=1, padding=1)\n",
    "    self.norm2 = nn.LayerNorm(base_filters*2*40)\n",
    "    self.pool2 = nn.AvgPool1d(kernel_size = 2, stride = 2)\n",
    "    self.conv3 = nn.Conv1d(in_channels=base_filters*2, out_channels=base_filters*4, kernel_size=3, stride=1, padding=1)\n",
    "    self.norm3 = nn.LayerNorm(base_filters*4*20)\n",
    "    self.pool3 = nn.AvgPool1d(kernel_size = 2, stride = 2)\n",
    "    self.conv4 = nn.Conv1d(in_channels=base_filters*4, out_channels=base_filters*8, kernel_size=3, stride=1, padding=1)\n",
    "    self.norm4 = nn.LayerNorm(base_filters*8*10)\n",
    "    self.fc1 = nn.Linear(base_filters*8*10, base_filters*16)\n",
    "    self.dropout5 = nn.Dropout(0.5)\n",
    "    self.fc2 = nn.Linear(base_filters*16, n_classes)\n",
    "  \n",
    "  def forward(self, x):\n",
    "    x = self.conv1(x)\n",
    "    N, C, T = x.shape\n",
    "    x = x.view(N, C*T)\n",
    "    x = self.norm1(x)\n",
    "    x = x.view(N, C, T)\n",
    "    x = self.pool1(F.relu(x))\n",
    "\n",
    "    x = self.conv2(x)\n",
    "    N, C, T = x.shape\n",
    "    x = x.view(N, C*T)\n",
    "    x = self.norm2(x)\n",
    "    x = x.view(N, C, T)\n",
    "    x = self.pool2(F.relu(x))\n",
    "\n",
    "    x = self.conv3(x)\n",
    "    N, C, T = x.shape\n",
    "    x = x.view(N, C*T)\n",
    "    x = self.norm3(x)\n",
    "    x = x.view(N, C, T)\n",
    "    x = self.pool3(F.relu(x))\n",
    "\n",
    "    x = self.conv4(x)\n",
    "    N, C, T = x.shape\n",
    "    x = x.view(N, C*T)\n",
    "    x = self.norm4(x)\n",
    "    x = x.view(N, C, T)\n",
    "    x = F.relu(x)\n",
    "\n",
    "    N, C, T = x.size()\n",
    "    x = x.view(-1, C*T) # Flatten\n",
    "    x = self.dropout5(F.relu(self.fc1(x)))\n",
    "    x = self.fc2(x)\n",
    "    return x\n",
    "\n",
    "model = OneDConvNet(6, 4).to(device)"
   ]
  },
  {
   "cell_type": "code",
   "execution_count": 13,
   "metadata": {
    "executionInfo": {
     "elapsed": 7,
     "status": "ok",
     "timestamp": 1637022006068,
     "user": {
      "displayName": "Sahil Anish Palarpwar",
      "photoUrl": "https://lh3.googleusercontent.com/a/default-user=s64",
      "userId": "17757512684560375750"
     },
     "user_tz": 300
    },
    "id": "_7npRJhHxdC1"
   },
   "outputs": [],
   "source": [
    "# import numpy as np\n",
    "# X = np.random.randn(1, 6, 40)\n",
    "# T = torch.from_numpy(X).float().to(device)\n",
    "# y = model(T)"
   ]
  },
  {
   "cell_type": "code",
   "execution_count": 14,
   "metadata": {
    "executionInfo": {
     "elapsed": 6,
     "status": "ok",
     "timestamp": 1637022006068,
     "user": {
      "displayName": "Sahil Anish Palarpwar",
      "photoUrl": "https://lh3.googleusercontent.com/a/default-user=s64",
      "userId": "17757512684560375750"
     },
     "user_tz": 300
    },
    "id": "sksNpnMfyLOP"
   },
   "outputs": [],
   "source": [
    "# y.shape"
   ]
  },
  {
   "cell_type": "code",
   "execution_count": 15,
   "metadata": {
    "executionInfo": {
     "elapsed": 7,
     "status": "ok",
     "timestamp": 1637022006069,
     "user": {
      "displayName": "Sahil Anish Palarpwar",
      "photoUrl": "https://lh3.googleusercontent.com/a/default-user=s64",
      "userId": "17757512684560375750"
     },
     "user_tz": 300
    },
    "id": "JSfdHJ4Ry4AG"
   },
   "outputs": [],
   "source": [
    "optimizer = optim.SGD(model.parameters(), lr=1e-4, momentum=0.9)\n",
    "# optimizer = optim.Adam(model.parameters(), lr=0.001)\n",
    "# optimizer = optim.RMSprop(model.parameters(), lr=1e-3)\n",
    "scheduler = ReduceLROnPlateau(optimizer, factor=0.5, patience=1, verbose=True)\n",
    "criterion = nn.CrossEntropyLoss()"
   ]
  },
  {
   "cell_type": "code",
   "execution_count": 16,
   "metadata": {
    "executionInfo": {
     "elapsed": 7,
     "status": "ok",
     "timestamp": 1637022006070,
     "user": {
      "displayName": "Sahil Anish Palarpwar",
      "photoUrl": "https://lh3.googleusercontent.com/a/default-user=s64",
      "userId": "17757512684560375750"
     },
     "user_tz": 300
    },
    "id": "V6FBCiBQmmH2"
   },
   "outputs": [],
   "source": [
    "def train_step(X, y, model, optimizer, criterion):\n",
    "\n",
    "    y_pred = model(X)\n",
    "    predicted_classes = torch.argmax(y_pred.detach(), dim=1)\n",
    "\n",
    "    loss = criterion(y_pred, y)\n",
    "    optimizer.zero_grad()\n",
    "    loss.backward()\n",
    "    optimizer.step()\n",
    "\n",
    "    corrects = torch.sum(y.data == predicted_classes)\n",
    "\n",
    "    return loss.item(), corrects\n",
    "\n",
    "def val_step(X, y, model, criterion):\n",
    "\n",
    "    with torch.no_grad():\n",
    "        \n",
    "        y_pred = model(X)\n",
    "        predicted_classes = torch.argmax(y_pred.detach(), dim=1)\n",
    "        loss = criterion(y_pred, y)\n",
    "        corrects = torch.sum(y.data == predicted_classes)\n",
    "\n",
    "    return loss.item(), corrects, predicted_classes.detach().cpu().numpy()"
   ]
  },
  {
   "cell_type": "code",
   "execution_count": 17,
   "metadata": {
    "colab": {
     "base_uri": "https://localhost:8080/"
    },
    "executionInfo": {
     "elapsed": 2162623,
     "status": "ok",
     "timestamp": 1637026088457,
     "user": {
      "displayName": "Sahil Anish Palarpwar",
      "photoUrl": "https://lh3.googleusercontent.com/a/default-user=s64",
      "userId": "17757512684560375750"
     },
     "user_tz": 300
    },
    "id": "T2K4z1p8mmCQ",
    "outputId": "1c82ff55-6d27-449b-8e9c-17f822b7b393"
   },
   "outputs": [
    {
     "name": "stdout",
     "output_type": "stream",
     "text": [
      "Iteration: 0/1373 | train_loss: 1.4281381368637085 | train_acc: 0.1953125\n",
      "Iteration: 100/1373 | train_loss: 1.3955198526382446 | train_acc: 0.2890625\n",
      "Iteration: 200/1373 | train_loss: 1.3986268043518066 | train_acc: 0.2109375\n",
      "Iteration: 300/1373 | train_loss: 1.392529010772705 | train_acc: 0.234375\n",
      "Iteration: 400/1373 | train_loss: 1.3656494617462158 | train_acc: 0.34375\n",
      "Iteration: 500/1373 | train_loss: 1.3910843133926392 | train_acc: 0.25\n",
      "Iteration: 600/1373 | train_loss: 1.3925575017929077 | train_acc: 0.2421875\n",
      "Iteration: 700/1373 | train_loss: 1.3687595129013062 | train_acc: 0.296875\n",
      "Iteration: 800/1373 | train_loss: 1.3726741075515747 | train_acc: 0.328125\n",
      "Iteration: 900/1373 | train_loss: 1.3600714206695557 | train_acc: 0.3828125\n",
      "Iteration: 1000/1373 | train_loss: 1.3842400312423706 | train_acc: 0.2109375\n",
      "Iteration: 1100/1373 | train_loss: 1.3684993982315063 | train_acc: 0.328125\n",
      "Iteration: 1200/1373 | train_loss: 1.358019232749939 | train_acc: 0.390625\n",
      "Iteration: 1300/1373 | train_loss: 1.3614128828048706 | train_acc: 0.328125\n",
      "Saving model to /content/drive/MyDrive/ECE_542/Competition_Project/Models/ensemble_window2_avg.pth\n",
      "Epoch: 0 | train_loss 1.3757519508704108 | train_acc: 0.3082946240901947 | val_loss: 1.392365234958779 | val_acc: 0.2143479883670807\n",
      "Iteration: 0/1373 | train_loss: 1.3316508531570435 | train_acc: 0.5\n",
      "Iteration: 100/1373 | train_loss: 1.3174476623535156 | train_acc: 0.5234375\n",
      "Iteration: 200/1373 | train_loss: 1.315232515335083 | train_acc: 0.453125\n",
      "Iteration: 300/1373 | train_loss: 1.28244149684906 | train_acc: 0.4296875\n",
      "Iteration: 400/1373 | train_loss: 1.1991865634918213 | train_acc: 0.5703125\n",
      "Iteration: 500/1373 | train_loss: 1.1843738555908203 | train_acc: 0.484375\n",
      "Iteration: 600/1373 | train_loss: 1.097049355506897 | train_acc: 0.5703125\n",
      "Iteration: 700/1373 | train_loss: 0.9771240949630737 | train_acc: 0.5859375\n",
      "Iteration: 800/1373 | train_loss: 0.848139762878418 | train_acc: 0.6796875\n",
      "Iteration: 900/1373 | train_loss: 0.7896943092346191 | train_acc: 0.7421875\n",
      "Iteration: 1000/1373 | train_loss: 0.7820653915405273 | train_acc: 0.6640625\n",
      "Iteration: 1100/1373 | train_loss: 0.8165208101272583 | train_acc: 0.6796875\n",
      "Iteration: 1200/1373 | train_loss: 0.631263256072998 | train_acc: 0.71875\n",
      "Iteration: 1300/1373 | train_loss: 0.5682106614112854 | train_acc: 0.7265625\n",
      "Saving model to /content/drive/MyDrive/ECE_542/Competition_Project/Models/ensemble_window2_avg.pth\n",
      "Epoch: 1 | train_loss 0.9837690297397859 | train_acc: 0.6019018292427063 | val_loss: 1.2596540388308073 | val_acc: 0.350908100605011\n",
      "Iteration: 0/1373 | train_loss: 0.5991143584251404 | train_acc: 0.71875\n",
      "Iteration: 100/1373 | train_loss: 0.4951106607913971 | train_acc: 0.78125\n",
      "Iteration: 200/1373 | train_loss: 0.5186390280723572 | train_acc: 0.75\n",
      "Iteration: 300/1373 | train_loss: 0.5212438106536865 | train_acc: 0.7421875\n",
      "Iteration: 400/1373 | train_loss: 0.47987931966781616 | train_acc: 0.71875\n",
      "Iteration: 500/1373 | train_loss: 0.4567849338054657 | train_acc: 0.796875\n",
      "Iteration: 600/1373 | train_loss: 0.5789592266082764 | train_acc: 0.7265625\n",
      "Iteration: 700/1373 | train_loss: 0.40570512413978577 | train_acc: 0.8125\n",
      "Iteration: 800/1373 | train_loss: 0.39217042922973633 | train_acc: 0.796875\n",
      "Iteration: 900/1373 | train_loss: 0.3224053978919983 | train_acc: 0.84375\n",
      "Iteration: 1000/1373 | train_loss: 0.4714620113372803 | train_acc: 0.8125\n",
      "Iteration: 1100/1373 | train_loss: 0.42836469411849976 | train_acc: 0.84375\n",
      "Iteration: 1200/1373 | train_loss: 0.7839694619178772 | train_acc: 0.6171875\n",
      "Iteration: 1300/1373 | train_loss: 0.3923359811306 | train_acc: 0.8359375\n",
      "Saving model to /content/drive/MyDrive/ECE_542/Competition_Project/Models/ensemble_window2_avg.pth\n",
      "Epoch: 2 | train_loss 0.4871019185197209 | train_acc: 0.7756703495979309 | val_loss: 0.8176627282003541 | val_acc: 0.6187224984169006\n",
      "Iteration: 0/1373 | train_loss: 0.4724966585636139 | train_acc: 0.828125\n",
      "Iteration: 100/1373 | train_loss: 0.4529145658016205 | train_acc: 0.765625\n",
      "Iteration: 200/1373 | train_loss: 0.5733315348625183 | train_acc: 0.7578125\n",
      "Iteration: 300/1373 | train_loss: 0.4074961543083191 | train_acc: 0.8984375\n",
      "Iteration: 400/1373 | train_loss: 0.39970695972442627 | train_acc: 0.8046875\n",
      "Iteration: 500/1373 | train_loss: 0.4116050899028778 | train_acc: 0.8125\n",
      "Iteration: 600/1373 | train_loss: 0.37888455390930176 | train_acc: 0.8046875\n",
      "Iteration: 700/1373 | train_loss: 0.4180615246295929 | train_acc: 0.796875\n",
      "Iteration: 800/1373 | train_loss: 0.4744190573692322 | train_acc: 0.8046875\n",
      "Iteration: 900/1373 | train_loss: 0.3664684593677521 | train_acc: 0.828125\n",
      "Iteration: 1000/1373 | train_loss: 0.37472763657569885 | train_acc: 0.8828125\n",
      "Iteration: 1100/1373 | train_loss: 0.4392593801021576 | train_acc: 0.796875\n",
      "Iteration: 1200/1373 | train_loss: 0.3671525716781616 | train_acc: 0.8671875\n",
      "Iteration: 1300/1373 | train_loss: 0.29624757170677185 | train_acc: 0.8828125\n",
      "Epoch: 3 | train_loss 0.3951794187043367 | train_acc: 0.8271248936653137 | val_loss: 0.8471867349522301 | val_acc: 0.6239355802536011\n",
      "Iteration: 0/1373 | train_loss: 0.3824315667152405 | train_acc: 0.859375\n",
      "Iteration: 100/1373 | train_loss: 0.3317655324935913 | train_acc: 0.890625\n",
      "Iteration: 200/1373 | train_loss: 0.38198748230934143 | train_acc: 0.875\n",
      "Iteration: 300/1373 | train_loss: 0.3301492929458618 | train_acc: 0.890625\n",
      "Iteration: 400/1373 | train_loss: 0.4686700999736786 | train_acc: 0.796875\n",
      "Iteration: 500/1373 | train_loss: 0.4039527177810669 | train_acc: 0.828125\n",
      "Iteration: 600/1373 | train_loss: 0.3716229200363159 | train_acc: 0.8359375\n",
      "Iteration: 700/1373 | train_loss: 0.34225139021873474 | train_acc: 0.90625\n",
      "Iteration: 800/1373 | train_loss: 0.33234795928001404 | train_acc: 0.875\n",
      "Iteration: 900/1373 | train_loss: 0.40080586075782776 | train_acc: 0.8359375\n",
      "Iteration: 1000/1373 | train_loss: 0.3794344961643219 | train_acc: 0.796875\n",
      "Iteration: 1100/1373 | train_loss: 0.30904632806777954 | train_acc: 0.890625\n",
      "Iteration: 1200/1373 | train_loss: 0.32845160365104675 | train_acc: 0.84375\n",
      "Iteration: 1300/1373 | train_loss: 0.2959502935409546 | train_acc: 0.859375\n",
      "Epoch     5: reducing learning rate of group 0 to 5.0000e-05.\n",
      "Epoch: 4 | train_loss 0.34122034057474177 | train_acc: 0.8625034093856812 | val_loss: 0.926522259484164 | val_acc: 0.5780940055847168\n",
      "Iteration: 0/1373 | train_loss: 0.383009672164917 | train_acc: 0.8203125\n",
      "Iteration: 100/1373 | train_loss: 0.34670913219451904 | train_acc: 0.890625\n",
      "Iteration: 200/1373 | train_loss: 0.2905231714248657 | train_acc: 0.859375\n",
      "Iteration: 300/1373 | train_loss: 0.31752294301986694 | train_acc: 0.90625\n",
      "Iteration: 400/1373 | train_loss: 0.3701314628124237 | train_acc: 0.8359375\n",
      "Iteration: 500/1373 | train_loss: 0.22648778557777405 | train_acc: 0.921875\n",
      "Iteration: 600/1373 | train_loss: 0.3500043749809265 | train_acc: 0.890625\n",
      "Iteration: 700/1373 | train_loss: 0.2992840111255646 | train_acc: 0.8984375\n",
      "Iteration: 800/1373 | train_loss: 0.2658027112483978 | train_acc: 0.8984375\n",
      "Iteration: 900/1373 | train_loss: 0.22775918245315552 | train_acc: 0.9296875\n",
      "Iteration: 1000/1373 | train_loss: 0.14730879664421082 | train_acc: 0.96875\n",
      "Iteration: 1100/1373 | train_loss: 0.24942904710769653 | train_acc: 0.8828125\n",
      "Iteration: 1200/1373 | train_loss: 0.3481810688972473 | train_acc: 0.8984375\n",
      "Iteration: 1300/1373 | train_loss: 0.3343104422092438 | train_acc: 0.875\n",
      "Saving model to /content/drive/MyDrive/ECE_542/Competition_Project/Models/ensemble_window2_avg.pth\n",
      "Epoch: 5 | train_loss 0.2932321637540548 | train_acc: 0.8907402157783508 | val_loss: 0.7474634939028868 | val_acc: 0.6929298639297485\n",
      "Iteration: 0/1373 | train_loss: 0.21706537902355194 | train_acc: 0.9296875\n",
      "Iteration: 100/1373 | train_loss: 0.30518031120300293 | train_acc: 0.90625\n",
      "Iteration: 200/1373 | train_loss: 0.2732613980770111 | train_acc: 0.90625\n",
      "Iteration: 300/1373 | train_loss: 0.2648172378540039 | train_acc: 0.90625\n",
      "Iteration: 400/1373 | train_loss: 0.20248539745807648 | train_acc: 0.921875\n",
      "Iteration: 500/1373 | train_loss: 0.2315596491098404 | train_acc: 0.9140625\n",
      "Iteration: 600/1373 | train_loss: 0.23957636952400208 | train_acc: 0.8984375\n",
      "Iteration: 700/1373 | train_loss: 0.22532682120800018 | train_acc: 0.953125\n",
      "Iteration: 800/1373 | train_loss: 0.3975592255592346 | train_acc: 0.8671875\n",
      "Iteration: 900/1373 | train_loss: 0.29067137837409973 | train_acc: 0.8671875\n",
      "Iteration: 1000/1373 | train_loss: 0.2627514898777008 | train_acc: 0.921875\n",
      "Iteration: 1100/1373 | train_loss: 0.351692795753479 | train_acc: 0.8671875\n",
      "Iteration: 1200/1373 | train_loss: 0.24091748893260956 | train_acc: 0.8828125\n",
      "Iteration: 1300/1373 | train_loss: 0.2776690721511841 | train_acc: 0.90625\n",
      "Saving model to /content/drive/MyDrive/ECE_542/Competition_Project/Models/ensemble_window2_avg.pth\n",
      "Epoch: 6 | train_loss 0.26212410435052036 | train_acc: 0.9049212336540222 | val_loss: 0.723652518905983 | val_acc: 0.7016863822937012\n",
      "Iteration: 0/1373 | train_loss: 0.18202084302902222 | train_acc: 0.9296875\n",
      "Iteration: 100/1373 | train_loss: 0.24408796429634094 | train_acc: 0.8984375\n",
      "Iteration: 200/1373 | train_loss: 0.23365367949008942 | train_acc: 0.8828125\n",
      "Iteration: 300/1373 | train_loss: 0.20342697203159332 | train_acc: 0.9296875\n",
      "Iteration: 400/1373 | train_loss: 0.3225065767765045 | train_acc: 0.8515625\n",
      "Iteration: 500/1373 | train_loss: 0.22892983257770538 | train_acc: 0.90625\n",
      "Iteration: 600/1373 | train_loss: 0.20385169982910156 | train_acc: 0.9140625\n",
      "Iteration: 700/1373 | train_loss: 0.24191826581954956 | train_acc: 0.8984375\n",
      "Iteration: 800/1373 | train_loss: 0.2811477482318878 | train_acc: 0.890625\n",
      "Iteration: 900/1373 | train_loss: 0.20971783995628357 | train_acc: 0.921875\n",
      "Iteration: 1000/1373 | train_loss: 0.2339647114276886 | train_acc: 0.9296875\n",
      "Iteration: 1100/1373 | train_loss: 0.2464725226163864 | train_acc: 0.921875\n",
      "Iteration: 1200/1373 | train_loss: 0.25586196780204773 | train_acc: 0.8828125\n",
      "Iteration: 1300/1373 | train_loss: 0.2208278924226761 | train_acc: 0.9296875\n",
      "Saving model to /content/drive/MyDrive/ECE_542/Competition_Project/Models/ensemble_window2_avg.pth\n",
      "Epoch: 7 | train_loss 0.24189860661298127 | train_acc: 0.9135937094688416 | val_loss: 0.672809318813515 | val_acc: 0.7346344590187073\n",
      "Iteration: 0/1373 | train_loss: 0.25375568866729736 | train_acc: 0.9296875\n",
      "Iteration: 100/1373 | train_loss: 0.2167319655418396 | train_acc: 0.9375\n",
      "Iteration: 200/1373 | train_loss: 0.21748439967632294 | train_acc: 0.9296875\n",
      "Iteration: 300/1373 | train_loss: 0.3281596601009369 | train_acc: 0.8984375\n",
      "Iteration: 400/1373 | train_loss: 0.17739713191986084 | train_acc: 0.921875\n",
      "Iteration: 500/1373 | train_loss: 0.1965862512588501 | train_acc: 0.9375\n",
      "Iteration: 600/1373 | train_loss: 0.18597227334976196 | train_acc: 0.9453125\n",
      "Iteration: 700/1373 | train_loss: 0.15509608387947083 | train_acc: 0.953125\n",
      "Iteration: 800/1373 | train_loss: 0.21037794649600983 | train_acc: 0.9296875\n",
      "Iteration: 900/1373 | train_loss: 0.20019535720348358 | train_acc: 0.9375\n",
      "Iteration: 1000/1373 | train_loss: 0.24577529728412628 | train_acc: 0.921875\n",
      "Iteration: 1100/1373 | train_loss: 0.19359247386455536 | train_acc: 0.9453125\n",
      "Iteration: 1200/1373 | train_loss: 0.312429815530777 | train_acc: 0.890625\n",
      "Iteration: 1300/1373 | train_loss: 0.26435786485671997 | train_acc: 0.90625\n",
      "Saving model to /content/drive/MyDrive/ECE_542/Competition_Project/Models/ensemble_window2_avg.pth\n",
      "Epoch: 8 | train_loss 0.2199617066008248 | train_acc: 0.9233303666114807 | val_loss: 0.604369748847979 | val_acc: 0.7806244492530823\n",
      "Iteration: 0/1373 | train_loss: 0.22846274077892303 | train_acc: 0.90625\n",
      "Iteration: 100/1373 | train_loss: 0.1922091543674469 | train_acc: 0.921875\n",
      "Iteration: 200/1373 | train_loss: 0.2863539755344391 | train_acc: 0.875\n",
      "Iteration: 300/1373 | train_loss: 0.26522740721702576 | train_acc: 0.90625\n",
      "Iteration: 400/1373 | train_loss: 0.1841820776462555 | train_acc: 0.9296875\n",
      "Iteration: 500/1373 | train_loss: 0.3338647782802582 | train_acc: 0.90625\n",
      "Iteration: 600/1373 | train_loss: 0.17640754580497742 | train_acc: 0.953125\n",
      "Iteration: 700/1373 | train_loss: 0.23491530120372772 | train_acc: 0.8984375\n",
      "Iteration: 800/1373 | train_loss: 0.1978728324174881 | train_acc: 0.9296875\n",
      "Iteration: 900/1373 | train_loss: 0.20684322714805603 | train_acc: 0.9296875\n",
      "Iteration: 1000/1373 | train_loss: 0.20297960937023163 | train_acc: 0.9296875\n",
      "Iteration: 1100/1373 | train_loss: 0.1864229142665863 | train_acc: 0.9375\n",
      "Iteration: 1200/1373 | train_loss: 0.2242148220539093 | train_acc: 0.921875\n",
      "Iteration: 1300/1373 | train_loss: 0.1251182109117508 | train_acc: 0.9609375\n",
      "Saving model to /content/drive/MyDrive/ECE_542/Competition_Project/Models/ensemble_window2_avg.pth\n",
      "Epoch: 9 | train_loss 0.20870344614457273 | train_acc: 0.9265512824058533 | val_loss: 0.537086118888234 | val_acc: 0.790364146232605\n",
      "Iteration: 0/1373 | train_loss: 0.20666559040546417 | train_acc: 0.9296875\n",
      "Iteration: 100/1373 | train_loss: 0.1381697654724121 | train_acc: 0.9453125\n",
      "Iteration: 200/1373 | train_loss: 0.26621752977371216 | train_acc: 0.9296875\n",
      "Iteration: 300/1373 | train_loss: 0.1368870735168457 | train_acc: 0.953125\n",
      "Iteration: 400/1373 | train_loss: 0.1583806723356247 | train_acc: 0.9453125\n",
      "Iteration: 500/1373 | train_loss: 0.22672304511070251 | train_acc: 0.953125\n",
      "Iteration: 600/1373 | train_loss: 0.2339925915002823 | train_acc: 0.90625\n",
      "Iteration: 700/1373 | train_loss: 0.21713396906852722 | train_acc: 0.921875\n",
      "Iteration: 800/1373 | train_loss: 0.20539413392543793 | train_acc: 0.9453125\n",
      "Iteration: 900/1373 | train_loss: 0.19302141666412354 | train_acc: 0.9296875\n",
      "Iteration: 1000/1373 | train_loss: 0.14785508811473846 | train_acc: 0.9453125\n",
      "Iteration: 1100/1373 | train_loss: 0.15482690930366516 | train_acc: 0.9296875\n",
      "Iteration: 1200/1373 | train_loss: 0.16014325618743896 | train_acc: 0.9375\n",
      "Iteration: 1300/1373 | train_loss: 0.24907340109348297 | train_acc: 0.8984375\n",
      "Epoch: 10 | train_loss 0.1971331452149506 | train_acc: 0.931297242641449 | val_loss: 0.6427594790737909 | val_acc: 0.7392538189888\n",
      "Iteration: 0/1373 | train_loss: 0.2727980613708496 | train_acc: 0.8984375\n",
      "Iteration: 100/1373 | train_loss: 0.16526757180690765 | train_acc: 0.9453125\n",
      "Iteration: 200/1373 | train_loss: 0.18214939534664154 | train_acc: 0.9375\n",
      "Iteration: 300/1373 | train_loss: 0.12754125893115997 | train_acc: 0.9609375\n",
      "Iteration: 400/1373 | train_loss: 0.12909266352653503 | train_acc: 0.96875\n",
      "Iteration: 500/1373 | train_loss: 0.11305607110261917 | train_acc: 0.96875\n",
      "Iteration: 600/1373 | train_loss: 0.14520521461963654 | train_acc: 0.921875\n",
      "Iteration: 700/1373 | train_loss: 0.20190685987472534 | train_acc: 0.90625\n",
      "Iteration: 800/1373 | train_loss: 0.15872617065906525 | train_acc: 0.9296875\n",
      "Iteration: 900/1373 | train_loss: 0.2084805816411972 | train_acc: 0.9453125\n",
      "Iteration: 1000/1373 | train_loss: 0.2070397585630417 | train_acc: 0.921875\n",
      "Iteration: 1100/1373 | train_loss: 0.21800146996974945 | train_acc: 0.9296875\n",
      "Iteration: 1200/1373 | train_loss: 0.12826086580753326 | train_acc: 0.953125\n",
      "Iteration: 1300/1373 | train_loss: 0.15805679559707642 | train_acc: 0.9453125\n",
      "Epoch    12: reducing learning rate of group 0 to 2.5000e-05.\n",
      "Epoch: 11 | train_loss 0.1829974246835878 | train_acc: 0.9367716312408447 | val_loss: 0.695247029137143 | val_acc: 0.7217409014701843\n",
      "Iteration: 0/1373 | train_loss: 0.1533554643392563 | train_acc: 0.9375\n",
      "Iteration: 100/1373 | train_loss: 0.1315065622329712 | train_acc: 0.953125\n",
      "Iteration: 200/1373 | train_loss: 0.2036193460226059 | train_acc: 0.921875\n",
      "Iteration: 300/1373 | train_loss: 0.19305510818958282 | train_acc: 0.9296875\n",
      "Iteration: 400/1373 | train_loss: 0.1248767077922821 | train_acc: 0.9609375\n",
      "Iteration: 500/1373 | train_loss: 0.28683701157569885 | train_acc: 0.9140625\n",
      "Iteration: 600/1373 | train_loss: 0.12330500036478043 | train_acc: 0.953125\n",
      "Iteration: 700/1373 | train_loss: 0.1674736887216568 | train_acc: 0.9453125\n",
      "Iteration: 800/1373 | train_loss: 0.16589492559432983 | train_acc: 0.9453125\n",
      "Iteration: 900/1373 | train_loss: 0.1820056140422821 | train_acc: 0.9609375\n",
      "Iteration: 1000/1373 | train_loss: 0.15827882289886475 | train_acc: 0.953125\n",
      "Iteration: 1100/1373 | train_loss: 0.10943101346492767 | train_acc: 0.9609375\n",
      "Iteration: 1200/1373 | train_loss: 0.16599150002002716 | train_acc: 0.953125\n",
      "Iteration: 1300/1373 | train_loss: 0.14974179863929749 | train_acc: 0.953125\n",
      "Epoch: 12 | train_loss 0.1702990670160421 | train_acc: 0.9418078064918518 | val_loss: 0.6589124548554193 | val_acc: 0.7365452647209167\n",
      "Iteration: 0/1373 | train_loss: 0.15264472365379333 | train_acc: 0.9453125\n",
      "Iteration: 100/1373 | train_loss: 0.12346610426902771 | train_acc: 0.9609375\n",
      "Iteration: 200/1373 | train_loss: 0.14538811147212982 | train_acc: 0.9453125\n",
      "Iteration: 300/1373 | train_loss: 0.1276833862066269 | train_acc: 0.9375\n",
      "Iteration: 400/1373 | train_loss: 0.10877609252929688 | train_acc: 0.96875\n",
      "Iteration: 500/1373 | train_loss: 0.13126668334007263 | train_acc: 0.96875\n",
      "Iteration: 600/1373 | train_loss: 0.21991825103759766 | train_acc: 0.921875\n",
      "Iteration: 700/1373 | train_loss: 0.19268211722373962 | train_acc: 0.9375\n",
      "Iteration: 800/1373 | train_loss: 0.22101342678070068 | train_acc: 0.9296875\n",
      "Iteration: 900/1373 | train_loss: 0.12631934881210327 | train_acc: 0.9453125\n",
      "Iteration: 1000/1373 | train_loss: 0.16046537458896637 | train_acc: 0.9453125\n",
      "Iteration: 1100/1373 | train_loss: 0.20218904316425323 | train_acc: 0.9296875\n",
      "Iteration: 1200/1373 | train_loss: 0.17549853026866913 | train_acc: 0.9375\n",
      "Iteration: 1300/1373 | train_loss: 0.14018060266971588 | train_acc: 0.9453125\n",
      "Epoch    14: reducing learning rate of group 0 to 1.2500e-05.\n",
      "Epoch: 13 | train_loss 0.164654874388099 | train_acc: 0.9444254636764526 | val_loss: 0.6360956548808504 | val_acc: 0.743168294429779\n",
      "Iteration: 0/1373 | train_loss: 0.17277425527572632 | train_acc: 0.921875\n",
      "Iteration: 100/1373 | train_loss: 0.1195143312215805 | train_acc: 0.9765625\n",
      "Iteration: 200/1373 | train_loss: 0.15786628425121307 | train_acc: 0.9453125\n",
      "Iteration: 300/1373 | train_loss: 0.1379176378250122 | train_acc: 0.9609375\n",
      "Iteration: 400/1373 | train_loss: 0.22110183537006378 | train_acc: 0.9453125\n",
      "Iteration: 500/1373 | train_loss: 0.21748481690883636 | train_acc: 0.8984375\n",
      "Iteration: 600/1373 | train_loss: 0.1679353266954422 | train_acc: 0.9375\n",
      "Iteration: 700/1373 | train_loss: 0.08797971904277802 | train_acc: 0.96875\n",
      "Iteration: 800/1373 | train_loss: 0.1487130969762802 | train_acc: 0.9453125\n",
      "Iteration: 900/1373 | train_loss: 0.15299877524375916 | train_acc: 0.9453125\n",
      "Iteration: 1000/1373 | train_loss: 0.18807587027549744 | train_acc: 0.9375\n",
      "Iteration: 1100/1373 | train_loss: 0.13839273154735565 | train_acc: 0.96875\n",
      "Iteration: 1200/1373 | train_loss: 0.1404181271791458 | train_acc: 0.9609375\n",
      "Iteration: 1300/1373 | train_loss: 0.18756358325481415 | train_acc: 0.9375\n",
      "Epoch: 14 | train_loss 0.15734487693500054 | train_acc: 0.9475780725479126 | val_loss: 0.6069669296648026 | val_acc: 0.7565070390701294\n",
      "Iteration: 0/1373 | train_loss: 0.15443859994411469 | train_acc: 0.953125\n",
      "Iteration: 100/1373 | train_loss: 0.08293849974870682 | train_acc: 0.96875\n",
      "Iteration: 200/1373 | train_loss: 0.20250184834003448 | train_acc: 0.9453125\n",
      "Iteration: 300/1373 | train_loss: 0.12364336103200912 | train_acc: 0.953125\n",
      "Iteration: 400/1373 | train_loss: 0.11950110644102097 | train_acc: 0.953125\n",
      "Iteration: 500/1373 | train_loss: 0.2193828672170639 | train_acc: 0.9375\n",
      "Iteration: 600/1373 | train_loss: 0.16756492853164673 | train_acc: 0.921875\n",
      "Iteration: 700/1373 | train_loss: 0.26535317301750183 | train_acc: 0.9609375\n",
      "Iteration: 800/1373 | train_loss: 0.19233806431293488 | train_acc: 0.953125\n",
      "Iteration: 900/1373 | train_loss: 0.1346849799156189 | train_acc: 0.9453125\n",
      "Iteration: 1000/1373 | train_loss: 0.12660786509513855 | train_acc: 0.9453125\n",
      "Iteration: 1100/1373 | train_loss: 0.24316321313381195 | train_acc: 0.90625\n",
      "Iteration: 1200/1373 | train_loss: 0.1200864315032959 | train_acc: 0.96875\n",
      "Iteration: 1300/1373 | train_loss: 0.15898920595645905 | train_acc: 0.9375\n",
      "Epoch    16: reducing learning rate of group 0 to 6.2500e-06.\n",
      "Epoch: 15 | train_loss 0.15833935492554074 | train_acc: 0.9469350576400757 | val_loss: 0.5870043353323586 | val_acc: 0.770328164100647\n",
      "Iteration: 0/1373 | train_loss: 0.13462421298027039 | train_acc: 0.9609375\n",
      "Iteration: 100/1373 | train_loss: 0.1426459401845932 | train_acc: 0.953125\n",
      "Iteration: 200/1373 | train_loss: 0.1430857926607132 | train_acc: 0.9609375\n",
      "Iteration: 300/1373 | train_loss: 0.1455526500940323 | train_acc: 0.9609375\n",
      "Iteration: 400/1373 | train_loss: 0.12349408119916916 | train_acc: 0.9609375\n",
      "Iteration: 500/1373 | train_loss: 0.17995084822177887 | train_acc: 0.953125\n",
      "Iteration: 600/1373 | train_loss: 0.17271870374679565 | train_acc: 0.9140625\n",
      "Iteration: 700/1373 | train_loss: 0.1725015938282013 | train_acc: 0.953125\n",
      "Iteration: 800/1373 | train_loss: 0.15511469542980194 | train_acc: 0.953125\n",
      "Iteration: 900/1373 | train_loss: 0.1475018411874771 | train_acc: 0.9296875\n",
      "Iteration: 1000/1373 | train_loss: 0.18161019682884216 | train_acc: 0.9453125\n",
      "Iteration: 1100/1373 | train_loss: 0.11189308017492294 | train_acc: 0.9609375\n",
      "Iteration: 1200/1373 | train_loss: 0.17249011993408203 | train_acc: 0.9375\n",
      "Iteration: 1300/1373 | train_loss: 0.24017037451267242 | train_acc: 0.9140625\n",
      "Epoch: 16 | train_loss 0.15500513395018278 | train_acc: 0.9483235478401184 | val_loss: 0.6042618735315203 | val_acc: 0.7553753852844238\n",
      "Iteration: 0/1373 | train_loss: 0.14834697544574738 | train_acc: 0.953125\n",
      "Iteration: 100/1373 | train_loss: 0.1435559242963791 | train_acc: 0.9609375\n",
      "Iteration: 200/1373 | train_loss: 0.143893763422966 | train_acc: 0.9609375\n",
      "Iteration: 300/1373 | train_loss: 0.17998060584068298 | train_acc: 0.9609375\n",
      "Iteration: 400/1373 | train_loss: 0.17095060646533966 | train_acc: 0.9296875\n",
      "Iteration: 500/1373 | train_loss: 0.1663280725479126 | train_acc: 0.9375\n",
      "Iteration: 600/1373 | train_loss: 0.22473813593387604 | train_acc: 0.921875\n",
      "Iteration: 700/1373 | train_loss: 0.15209877490997314 | train_acc: 0.9296875\n",
      "Iteration: 800/1373 | train_loss: 0.10696914792060852 | train_acc: 0.96875\n",
      "Iteration: 900/1373 | train_loss: 0.10531095415353775 | train_acc: 0.9765625\n",
      "Iteration: 1000/1373 | train_loss: 0.08193322271108627 | train_acc: 0.9765625\n",
      "Iteration: 1100/1373 | train_loss: 0.11282524466514587 | train_acc: 0.96875\n",
      "Iteration: 1200/1373 | train_loss: 0.32144492864608765 | train_acc: 0.9296875\n",
      "Iteration: 1300/1373 | train_loss: 0.1352803260087967 | train_acc: 0.9453125\n",
      "Epoch    18: reducing learning rate of group 0 to 3.1250e-06.\n",
      "Epoch: 17 | train_loss 0.15357102761961752 | train_acc: 0.9489267468452454 | val_loss: 0.5879738252308851 | val_acc: 0.7641133069992065\n",
      "Iteration: 0/1373 | train_loss: 0.24095569550991058 | train_acc: 0.9375\n",
      "Iteration: 100/1373 | train_loss: 0.22598856687545776 | train_acc: 0.9375\n",
      "Iteration: 200/1373 | train_loss: 0.18868722021579742 | train_acc: 0.9453125\n",
      "Iteration: 300/1373 | train_loss: 0.16345252096652985 | train_acc: 0.9375\n",
      "Iteration: 400/1373 | train_loss: 0.15956494212150574 | train_acc: 0.953125\n",
      "Iteration: 500/1373 | train_loss: 0.12849147617816925 | train_acc: 0.953125\n",
      "Iteration: 600/1373 | train_loss: 0.16795510053634644 | train_acc: 0.953125\n",
      "Iteration: 700/1373 | train_loss: 0.10236319899559021 | train_acc: 0.9609375\n",
      "Iteration: 800/1373 | train_loss: 0.18687863647937775 | train_acc: 0.9140625\n",
      "Iteration: 900/1373 | train_loss: 0.12424390017986298 | train_acc: 0.9453125\n",
      "Iteration: 1000/1373 | train_loss: 0.10933922231197357 | train_acc: 0.96875\n",
      "Iteration: 1100/1373 | train_loss: 0.16377459466457367 | train_acc: 0.9453125\n",
      "Iteration: 1200/1373 | train_loss: 0.22370649874210358 | train_acc: 0.953125\n",
      "Iteration: 1300/1373 | train_loss: 0.16776572167873383 | train_acc: 0.9375\n",
      "Epoch: 18 | train_loss 0.1522326886343205 | train_acc: 0.9497917294502258 | val_loss: 0.5960365681029639 | val_acc: 0.7627219557762146\n",
      "Iteration: 0/1373 | train_loss: 0.10660239309072495 | train_acc: 0.984375\n",
      "Iteration: 100/1373 | train_loss: 0.14630131423473358 | train_acc: 0.9375\n",
      "Iteration: 200/1373 | train_loss: 0.17425991594791412 | train_acc: 0.953125\n",
      "Iteration: 300/1373 | train_loss: 0.18755097687244415 | train_acc: 0.9140625\n",
      "Iteration: 400/1373 | train_loss: 0.17215299606323242 | train_acc: 0.9375\n",
      "Iteration: 500/1373 | train_loss: 0.12429874390363693 | train_acc: 0.953125\n",
      "Iteration: 600/1373 | train_loss: 0.18977156281471252 | train_acc: 0.9296875\n",
      "Iteration: 700/1373 | train_loss: 0.21873068809509277 | train_acc: 0.9296875\n",
      "Iteration: 800/1373 | train_loss: 0.22206835448741913 | train_acc: 0.9140625\n",
      "Iteration: 900/1373 | train_loss: 0.15235067903995514 | train_acc: 0.9453125\n",
      "Iteration: 1000/1373 | train_loss: 0.143156960606575 | train_acc: 0.953125\n",
      "Iteration: 1100/1373 | train_loss: 0.16555744409561157 | train_acc: 0.9453125\n",
      "Iteration: 1200/1373 | train_loss: 0.11796300113201141 | train_acc: 0.9765625\n",
      "Iteration: 1300/1373 | train_loss: 0.20850805938243866 | train_acc: 0.953125\n",
      "Epoch    20: reducing learning rate of group 0 to 1.5625e-06.\n",
      "Epoch: 19 | train_loss 0.14907091047652463 | train_acc: 0.9507818818092346 | val_loss: 0.6086326930889284 | val_acc: 0.7568410038948059\n",
      "Iteration: 0/1373 | train_loss: 0.2180914580821991 | train_acc: 0.9375\n",
      "Iteration: 100/1373 | train_loss: 0.15929146111011505 | train_acc: 0.9296875\n",
      "Iteration: 200/1373 | train_loss: 0.1475321501493454 | train_acc: 0.9453125\n",
      "Iteration: 300/1373 | train_loss: 0.20188529789447784 | train_acc: 0.9453125\n",
      "Iteration: 400/1373 | train_loss: 0.1272781491279602 | train_acc: 0.9609375\n",
      "Iteration: 500/1373 | train_loss: 0.1485278308391571 | train_acc: 0.9453125\n",
      "Iteration: 600/1373 | train_loss: 0.12072287499904633 | train_acc: 0.9453125\n",
      "Iteration: 700/1373 | train_loss: 0.1405373364686966 | train_acc: 0.9296875\n",
      "Iteration: 800/1373 | train_loss: 0.18672725558280945 | train_acc: 0.9453125\n",
      "Iteration: 900/1373 | train_loss: 0.21668115258216858 | train_acc: 0.921875\n",
      "Iteration: 1000/1373 | train_loss: 0.14910481870174408 | train_acc: 0.9453125\n",
      "Iteration: 1100/1373 | train_loss: 0.16277073323726654 | train_acc: 0.953125\n",
      "Iteration: 1200/1373 | train_loss: 0.13339024782180786 | train_acc: 0.953125\n",
      "Iteration: 1300/1373 | train_loss: 0.09424307197332382 | train_acc: 0.96875\n",
      "Epoch: 20 | train_loss 0.15096537803844884 | train_acc: 0.9499396681785583 | val_loss: 0.594923814628004 | val_acc: 0.7651522159576416\n",
      "Iteration: 0/1373 | train_loss: 0.11330848187208176 | train_acc: 0.9453125\n",
      "Iteration: 100/1373 | train_loss: 0.10315403342247009 | train_acc: 0.9609375\n",
      "Iteration: 200/1373 | train_loss: 0.13326531648635864 | train_acc: 0.9453125\n",
      "Iteration: 300/1373 | train_loss: 0.07448843121528625 | train_acc: 0.984375\n",
      "Iteration: 400/1373 | train_loss: 0.13898469507694244 | train_acc: 0.953125\n",
      "Iteration: 500/1373 | train_loss: 0.22794456779956818 | train_acc: 0.9296875\n",
      "Iteration: 600/1373 | train_loss: 0.17828351259231567 | train_acc: 0.96875\n",
      "Iteration: 700/1373 | train_loss: 0.09811936318874359 | train_acc: 0.953125\n",
      "Iteration: 800/1373 | train_loss: 0.18824978172779083 | train_acc: 0.9375\n",
      "Iteration: 900/1373 | train_loss: 0.1672345995903015 | train_acc: 0.9375\n",
      "Iteration: 1000/1373 | train_loss: 0.11648693680763245 | train_acc: 0.96875\n",
      "Iteration: 1100/1373 | train_loss: 0.20275869965553284 | train_acc: 0.921875\n",
      "Iteration: 1200/1373 | train_loss: 0.14345096051692963 | train_acc: 0.9453125\n",
      "Iteration: 1300/1373 | train_loss: 0.13118524849414825 | train_acc: 0.9609375\n",
      "Epoch    22: reducing learning rate of group 0 to 7.8125e-07.\n",
      "Epoch: 21 | train_loss 0.14859746752416547 | train_acc: 0.9510607123374939 | val_loss: 0.5979215811471618 | val_acc: 0.7623323202133179\n",
      "Iteration: 0/1373 | train_loss: 0.14527250826358795 | train_acc: 0.9375\n",
      "Iteration: 100/1373 | train_loss: 0.1967259645462036 | train_acc: 0.9296875\n",
      "Iteration: 200/1373 | train_loss: 0.12759563326835632 | train_acc: 0.9609375\n",
      "Iteration: 300/1373 | train_loss: 0.10380561649799347 | train_acc: 0.9765625\n",
      "Iteration: 400/1373 | train_loss: 0.14222165942192078 | train_acc: 0.9453125\n",
      "Iteration: 500/1373 | train_loss: 0.18119671940803528 | train_acc: 0.96875\n",
      "Iteration: 600/1373 | train_loss: 0.11476822197437286 | train_acc: 0.953125\n",
      "Iteration: 700/1373 | train_loss: 0.2178362011909485 | train_acc: 0.921875\n",
      "Iteration: 800/1373 | train_loss: 0.1534174382686615 | train_acc: 0.953125\n",
      "Iteration: 900/1373 | train_loss: 0.1281261295080185 | train_acc: 0.9453125\n",
      "Iteration: 1000/1373 | train_loss: 0.1961023062467575 | train_acc: 0.9375\n",
      "Iteration: 1100/1373 | train_loss: 0.1716429591178894 | train_acc: 0.9296875\n",
      "Iteration: 1200/1373 | train_loss: 0.10787402838468552 | train_acc: 0.9609375\n",
      "Iteration: 1300/1373 | train_loss: 0.1279299110174179 | train_acc: 0.9453125\n",
      "Epoch: 22 | train_loss 0.1517915943316789 | train_acc: 0.949905514717102 | val_loss: 0.6059317175456018 | val_acc: 0.7559133768081665\n",
      "Iteration: 0/1373 | train_loss: 0.14564572274684906 | train_acc: 0.953125\n",
      "Iteration: 100/1373 | train_loss: 0.10608399659395218 | train_acc: 0.9609375\n",
      "Iteration: 200/1373 | train_loss: 0.10927097499370575 | train_acc: 0.9765625\n",
      "Iteration: 300/1373 | train_loss: 0.13344651460647583 | train_acc: 0.953125\n",
      "Iteration: 400/1373 | train_loss: 0.1457536667585373 | train_acc: 0.9375\n",
      "Iteration: 500/1373 | train_loss: 0.1550033986568451 | train_acc: 0.9296875\n",
      "Iteration: 600/1373 | train_loss: 0.1181115135550499 | train_acc: 0.9609375\n",
      "Iteration: 700/1373 | train_loss: 0.18096666038036346 | train_acc: 0.9375\n",
      "Iteration: 800/1373 | train_loss: 0.11569619178771973 | train_acc: 0.9453125\n",
      "Iteration: 900/1373 | train_loss: 0.13022586703300476 | train_acc: 0.9453125\n",
      "Iteration: 1000/1373 | train_loss: 0.13644751906394958 | train_acc: 0.9609375\n",
      "Iteration: 1100/1373 | train_loss: 0.12504686415195465 | train_acc: 0.953125\n",
      "Iteration: 1200/1373 | train_loss: 0.16556225717067719 | train_acc: 0.9453125\n",
      "Iteration: 1300/1373 | train_loss: 0.12059473991394043 | train_acc: 0.9609375\n",
      "Epoch    24: reducing learning rate of group 0 to 3.9063e-07.\n",
      "Epoch: 23 | train_loss 0.14939256929126385 | train_acc: 0.9500250220298767 | val_loss: 0.5955454694528787 | val_acc: 0.7646327614784241\n",
      "Iteration: 0/1373 | train_loss: 0.21977844834327698 | train_acc: 0.9140625\n",
      "Iteration: 100/1373 | train_loss: 0.1329619586467743 | train_acc: 0.9453125\n",
      "Iteration: 200/1373 | train_loss: 0.18435879051685333 | train_acc: 0.921875\n",
      "Iteration: 300/1373 | train_loss: 0.18448452651500702 | train_acc: 0.9453125\n",
      "Iteration: 400/1373 | train_loss: 0.06535140424966812 | train_acc: 0.984375\n",
      "Iteration: 500/1373 | train_loss: 0.23318152129650116 | train_acc: 0.9375\n",
      "Iteration: 600/1373 | train_loss: 0.16570012271404266 | train_acc: 0.9453125\n",
      "Iteration: 700/1373 | train_loss: 0.09863989800214767 | train_acc: 0.9609375\n",
      "Iteration: 800/1373 | train_loss: 0.08623167127370834 | train_acc: 0.9921875\n",
      "Iteration: 900/1373 | train_loss: 0.20513664186000824 | train_acc: 0.9375\n",
      "Iteration: 1000/1373 | train_loss: 0.13026726245880127 | train_acc: 0.953125\n",
      "Iteration: 1100/1373 | train_loss: 0.1808680146932602 | train_acc: 0.9375\n",
      "Iteration: 1200/1373 | train_loss: 0.10924215614795685 | train_acc: 0.9453125\n",
      "Iteration: 1300/1373 | train_loss: 0.12484470009803772 | train_acc: 0.9609375\n",
      "Epoch: 24 | train_loss 0.15047071824620398 | train_acc: 0.9505713582038879 | val_loss: 0.5984408326269118 | val_acc: 0.7631115317344666\n",
      "Iteration: 0/1373 | train_loss: 0.15717361867427826 | train_acc: 0.953125\n",
      "Iteration: 100/1373 | train_loss: 0.16104215383529663 | train_acc: 0.9453125\n",
      "Iteration: 200/1373 | train_loss: 0.13204248249530792 | train_acc: 0.9609375\n",
      "Iteration: 300/1373 | train_loss: 0.1613122671842575 | train_acc: 0.9375\n",
      "Iteration: 400/1373 | train_loss: 0.1739574372768402 | train_acc: 0.96875\n",
      "Iteration: 500/1373 | train_loss: 0.27794283628463745 | train_acc: 0.8984375\n",
      "Iteration: 600/1373 | train_loss: 0.1460651457309723 | train_acc: 0.953125\n",
      "Iteration: 700/1373 | train_loss: 0.20400986075401306 | train_acc: 0.921875\n",
      "Iteration: 800/1373 | train_loss: 0.17983552813529968 | train_acc: 0.9453125\n",
      "Iteration: 900/1373 | train_loss: 0.16174910962581635 | train_acc: 0.9453125\n",
      "Iteration: 1000/1373 | train_loss: 0.22665350139141083 | train_acc: 0.9453125\n",
      "Iteration: 1100/1373 | train_loss: 0.20860449969768524 | train_acc: 0.9296875\n",
      "Iteration: 1200/1373 | train_loss: 0.17539043724536896 | train_acc: 0.96875\n",
      "Iteration: 1300/1373 | train_loss: 0.13270536065101624 | train_acc: 0.9453125\n",
      "Epoch    26: reducing learning rate of group 0 to 1.9531e-07.\n",
      "Epoch: 25 | train_loss 0.1501454910198804 | train_acc: 0.9505713582038879 | val_loss: 0.5980015803577219 | val_acc: 0.7613676190376282\n",
      "Iteration: 0/1373 | train_loss: 0.15640288591384888 | train_acc: 0.9609375\n",
      "Iteration: 100/1373 | train_loss: 0.10814564675092697 | train_acc: 0.984375\n",
      "Iteration: 200/1373 | train_loss: 0.1493835598230362 | train_acc: 0.953125\n",
      "Iteration: 300/1373 | train_loss: 0.11213932186365128 | train_acc: 0.984375\n",
      "Iteration: 400/1373 | train_loss: 0.12527844309806824 | train_acc: 0.953125\n",
      "Iteration: 500/1373 | train_loss: 0.17541266977787018 | train_acc: 0.9375\n",
      "Iteration: 600/1373 | train_loss: 0.14604869484901428 | train_acc: 0.9453125\n",
      "Iteration: 700/1373 | train_loss: 0.15285001695156097 | train_acc: 0.9296875\n",
      "Iteration: 800/1373 | train_loss: 0.15694187581539154 | train_acc: 0.9296875\n",
      "Iteration: 900/1373 | train_loss: 0.12276551872491837 | train_acc: 0.96875\n",
      "Iteration: 1000/1373 | train_loss: 0.12349578738212585 | train_acc: 0.9609375\n",
      "Iteration: 1100/1373 | train_loss: 0.15771570801734924 | train_acc: 0.9296875\n",
      "Iteration: 1200/1373 | train_loss: 0.15658357739448547 | train_acc: 0.9375\n",
      "Iteration: 1300/1373 | train_loss: 0.14968976378440857 | train_acc: 0.96875\n",
      "Epoch: 26 | train_loss 0.14984191547247228 | train_acc: 0.9507876038551331 | val_loss: 0.5973020772258286 | val_acc: 0.7620726227760315\n",
      "Iteration: 0/1373 | train_loss: 0.17627082765102386 | train_acc: 0.9453125\n",
      "Iteration: 100/1373 | train_loss: 0.11400191485881805 | train_acc: 0.9609375\n",
      "Iteration: 200/1373 | train_loss: 0.18480265140533447 | train_acc: 0.9453125\n",
      "Iteration: 300/1373 | train_loss: 0.16490890085697174 | train_acc: 0.9375\n",
      "Iteration: 400/1373 | train_loss: 0.19077682495117188 | train_acc: 0.9375\n",
      "Iteration: 500/1373 | train_loss: 0.10728044807910919 | train_acc: 0.96875\n",
      "Iteration: 600/1373 | train_loss: 0.13996371626853943 | train_acc: 0.9296875\n",
      "Iteration: 700/1373 | train_loss: 0.1229337677359581 | train_acc: 0.953125\n",
      "Iteration: 800/1373 | train_loss: 0.11003309488296509 | train_acc: 0.9609375\n",
      "Iteration: 900/1373 | train_loss: 0.28187304735183716 | train_acc: 0.8984375\n",
      "Iteration: 1000/1373 | train_loss: 0.12051303684711456 | train_acc: 0.953125\n",
      "Iteration: 1100/1373 | train_loss: 0.10629560053348541 | train_acc: 0.96875\n",
      "Iteration: 1200/1373 | train_loss: 0.094621941447258 | train_acc: 0.96875\n",
      "Iteration: 1300/1373 | train_loss: 0.12617719173431396 | train_acc: 0.9453125\n",
      "Epoch    28: reducing learning rate of group 0 to 9.7656e-08.\n",
      "Epoch: 27 | train_loss 0.14913002504906692 | train_acc: 0.950918436050415 | val_loss: 0.5995079096205378 | val_acc: 0.7608667612075806\n",
      "Iteration: 0/1373 | train_loss: 0.17694464325904846 | train_acc: 0.9453125\n",
      "Iteration: 100/1373 | train_loss: 0.15592741966247559 | train_acc: 0.953125\n",
      "Iteration: 200/1373 | train_loss: 0.11272167414426804 | train_acc: 0.96875\n",
      "Iteration: 300/1373 | train_loss: 0.12543810904026031 | train_acc: 0.9609375\n",
      "Iteration: 400/1373 | train_loss: 0.2389991134405136 | train_acc: 0.890625\n",
      "Iteration: 500/1373 | train_loss: 0.19906897842884064 | train_acc: 0.9453125\n",
      "Iteration: 600/1373 | train_loss: 0.11443477869033813 | train_acc: 0.9453125\n",
      "Iteration: 700/1373 | train_loss: 0.18910253047943115 | train_acc: 0.953125\n",
      "Iteration: 800/1373 | train_loss: 0.08125311881303787 | train_acc: 0.9765625\n",
      "Iteration: 900/1373 | train_loss: 0.10052435845136642 | train_acc: 0.9765625\n",
      "Iteration: 1000/1373 | train_loss: 0.10171903669834137 | train_acc: 0.96875\n",
      "Iteration: 1100/1373 | train_loss: 0.21996279060840607 | train_acc: 0.9453125\n",
      "Iteration: 1200/1373 | train_loss: 0.17961713671684265 | train_acc: 0.9453125\n",
      "Iteration: 1300/1373 | train_loss: 0.07404600083827972 | train_acc: 0.984375\n",
      "Epoch: 28 | train_loss 0.14748487932851576 | train_acc: 0.9516810178756714 | val_loss: 0.5983343433487219 | val_acc: 0.7615717053413391\n",
      "Iteration: 0/1373 | train_loss: 0.10639023780822754 | train_acc: 0.984375\n",
      "Iteration: 100/1373 | train_loss: 0.21138186752796173 | train_acc: 0.9296875\n",
      "Iteration: 200/1373 | train_loss: 0.1320330947637558 | train_acc: 0.9609375\n",
      "Iteration: 300/1373 | train_loss: 0.11150781810283661 | train_acc: 0.96875\n",
      "Iteration: 400/1373 | train_loss: 0.20943021774291992 | train_acc: 0.9453125\n",
      "Iteration: 500/1373 | train_loss: 0.10700397938489914 | train_acc: 0.96875\n",
      "Iteration: 600/1373 | train_loss: 0.15317438542842865 | train_acc: 0.921875\n",
      "Iteration: 700/1373 | train_loss: 0.1694469004869461 | train_acc: 0.921875\n",
      "Iteration: 800/1373 | train_loss: 0.20285893976688385 | train_acc: 0.9296875\n",
      "Iteration: 900/1373 | train_loss: 0.18134227395057678 | train_acc: 0.953125\n",
      "Iteration: 1000/1373 | train_loss: 0.10235537588596344 | train_acc: 0.96875\n",
      "Iteration: 1100/1373 | train_loss: 0.10492943227291107 | train_acc: 0.96875\n",
      "Iteration: 1200/1373 | train_loss: 0.15338122844696045 | train_acc: 0.9453125\n",
      "Iteration: 1300/1373 | train_loss: 0.2174852043390274 | train_acc: 0.9140625\n",
      "Epoch    30: reducing learning rate of group 0 to 4.8828e-08.\n",
      "Epoch: 29 | train_loss 0.1492607166808664 | train_acc: 0.95139080286026 | val_loss: 0.596741384259182 | val_acc: 0.76279616355896\n"
     ]
    }
   ],
   "source": [
    "best_val_loss = float(\"inf\")\n",
    "\n",
    "for epoch in range(num_epochs):\n",
    "    # Train for \"n\" number of iterations\n",
    "    running_loss = 0.\n",
    "    running_acc = 0.\n",
    "    for iteration, (X, y) in enumerate(train_dataloader):\n",
    "\n",
    "        X = X.float().to(device)\n",
    "        # Normalize\n",
    "        X = (X - min) / (max - min)\n",
    "\n",
    "        y = y.view(X.size(0)).to(device)\n",
    "\n",
    "        loss, corrects = train_step(X, y, model, optimizer, criterion)\n",
    "\n",
    "        # Running metrics\n",
    "        running_loss = running_loss + loss * X.size(0)\n",
    "        running_acc = running_acc + corrects\n",
    "\n",
    "        if iteration % 100 == 0:\n",
    "            print(f\"Iteration: {iteration}/{train_iterations} | train_loss: {loss} | train_acc: {corrects/X.size(0)}\")\n",
    "\n",
    "    train_loss = running_loss / len(train_dataset)\n",
    "    train_acc = running_acc / len(train_dataset)\n",
    "\n",
    "    # Validate\n",
    "    running_val_loss = 0.\n",
    "    running_val_acc = 0.\n",
    "    for step, (X, y) in enumerate(val_dataloader):\n",
    "\n",
    "        X = X.float().to(device)\n",
    "        X = (X - min) / (max - min)\n",
    "\n",
    "        y = y.view(X.size(0)).to(device)\n",
    "\n",
    "        loss, corrects, predicted_classes = val_step(X, y, model, criterion)\n",
    "        # Running metrics\n",
    "        running_val_loss = running_val_loss + loss * X.size(0)\n",
    "        running_val_acc = running_val_acc + corrects\n",
    "\n",
    "    val_loss = running_val_loss / len(val_dataset)\n",
    "    val_acc = running_val_acc / len(val_dataset)\n",
    "\n",
    "    scheduler.step(val_loss)\n",
    "\n",
    "    if val_loss < best_val_loss:\n",
    "        # Checkpoint model\n",
    "        path = os.path.join(base_path, \"Models\", \"ensemble_window2_avg.pth\")\n",
    "        print(f\"Saving model to {path}\")\n",
    "        torch.save(model.state_dict(), path)\n",
    "        best_val_loss = val_loss\n",
    "\n",
    "    print(f\"Epoch: {epoch} | train_loss {train_loss} | train_acc: {train_acc} | val_loss: {val_loss} | val_acc: {val_acc}\")"
   ]
  },
  {
   "cell_type": "code",
   "execution_count": 18,
   "metadata": {
    "colab": {
     "base_uri": "https://localhost:8080/"
    },
    "executionInfo": {
     "elapsed": 127,
     "status": "ok",
     "timestamp": 1637026179641,
     "user": {
      "displayName": "Sahil Anish Palarpwar",
      "photoUrl": "https://lh3.googleusercontent.com/a/default-user=s64",
      "userId": "17757512684560375750"
     },
     "user_tz": 300
    },
    "id": "x9_ZITbCybTq",
    "outputId": "6477c4b5-f403-43c2-f67d-0641a5e18b80"
   },
   "outputs": [
    {
     "data": {
      "text/plain": [
       "array([0])"
      ]
     },
     "execution_count": 18,
     "metadata": {},
     "output_type": "execute_result"
    }
   ],
   "source": [
    "np.array([train_dataset.y[0]])"
   ]
  },
  {
   "cell_type": "code",
   "execution_count": 19,
   "metadata": {
    "executionInfo": {
     "elapsed": 236,
     "status": "ok",
     "timestamp": 1637026180829,
     "user": {
      "displayName": "Sahil Anish Palarpwar",
      "photoUrl": "https://lh3.googleusercontent.com/a/default-user=s64",
      "userId": "17757512684560375750"
     },
     "user_tz": 300
    },
    "id": "X7g8J7WadLvm"
   },
   "outputs": [],
   "source": [
    "best_model = OneDConvNet(6, 4)\n",
    "best_model.load_state_dict(torch.load(os.path.join(base_path, \"Models\", \"ensemble_window2_avg.pth\")))\n",
    "best_model = best_model.to(device)"
   ]
  },
  {
   "cell_type": "code",
   "execution_count": 20,
   "metadata": {
    "executionInfo": {
     "elapsed": 1563,
     "status": "ok",
     "timestamp": 1637026185275,
     "user": {
      "displayName": "Sahil Anish Palarpwar",
      "photoUrl": "https://lh3.googleusercontent.com/a/default-user=s64",
      "userId": "17757512684560375750"
     },
     "user_tz": 300
    },
    "id": "pK-nLeloml-n"
   },
   "outputs": [],
   "source": [
    "from sklearn.metrics import accuracy_score, precision_score, recall_score, f1_score\n",
    "\n",
    "class Evaluation:\n",
    "\n",
    "  def __init__(self):\n",
    "        pass\n",
    "  \n",
    "  def aggregate_metrics(self, y, y_hat):\n",
    "    \n",
    "    \"\"\" Metrics for entire set \n",
    "        \n",
    "        Arguments passed are: \n",
    "                      y     : ground truth  \n",
    "                      y_hat : predicted class\n",
    "        Calculations:\n",
    "                  accuracy  : (tp + tn) / (total samples =(p + n))\n",
    "                  precision : tp / (tp + fp)\n",
    "                  recall    : tp / (tp + fn)\n",
    "                  f1        : 2 tp / (2 tp + fp + fn)\n",
    "    \"\"\"\n",
    "    accuracy  = accuracy_score(y, y_hat)\n",
    "    precision = precision_score(y, y_hat, average=\"macro\")\n",
    "    recall    = recall_score(y, y_hat, average=\"macro\")\n",
    "    f1        = f1_score(y, y_hat, average=\"macro\")\n",
    "    return {\n",
    "        \"Accuracy\": accuracy,\n",
    "        \"Precision\": precision,\n",
    "        \"Recall\": recall,\n",
    "        \"F1\": f1\n",
    "        }\n",
    "\n",
    "  def classwise_metrics(self, y, y_hat):\n",
    "\n",
    "    \"\"\" Metrics for each class. \n",
    "        Average is set to macro for calculating the score of each label, and find their unweighted mean. \n",
    "        This does not take label imbalance into account.\n",
    "        \n",
    "        Arguments passed are: \n",
    "                      y     : ground truth  \n",
    "                      y_hat : predicted class\n",
    "        Calculations:\n",
    "                  accuracy  : (tp + tn) / (total samples =(p + n))\n",
    "                  precision : tp / (tp + fp)\n",
    "                  recall    : tp / (tp + fn)\n",
    "                  f1        : 2 tp / (2 tp + fp + fn)\n",
    "    \"\"\"\n",
    "    \n",
    "    class_precision = precision_score(y, y_hat, average=None)\n",
    "    class_recall    = recall_score(y, y_hat, average=None)\n",
    "    class_f1        = f1_score(y, y_hat, average=None)\n",
    "    \n",
    "    return {\n",
    "        \"Precision\": class_precision,\n",
    "        \"Recall\": class_recall,\n",
    "        \"F1\": class_f1\n",
    "    }"
   ]
  },
  {
   "cell_type": "code",
   "execution_count": 21,
   "metadata": {
    "executionInfo": {
     "elapsed": 128,
     "status": "ok",
     "timestamp": 1637026205003,
     "user": {
      "displayName": "Sahil Anish Palarpwar",
      "photoUrl": "https://lh3.googleusercontent.com/a/default-user=s64",
      "userId": "17757512684560375750"
     },
     "user_tz": 300
    },
    "id": "MvN9WtxwznFw"
   },
   "outputs": [],
   "source": [
    "evaluator = Evaluation()"
   ]
  },
  {
   "cell_type": "code",
   "execution_count": 22,
   "metadata": {
    "colab": {
     "base_uri": "https://localhost:8080/"
    },
    "executionInfo": {
     "elapsed": 4618,
     "status": "ok",
     "timestamp": 1637026210463,
     "user": {
      "displayName": "Sahil Anish Palarpwar",
      "photoUrl": "https://lh3.googleusercontent.com/a/default-user=s64",
      "userId": "17757512684560375750"
     },
     "user_tz": 300
    },
    "id": "bYbdv_EDml8M",
    "outputId": "98e8cbf9-4c24-480a-e964-bf20f16117b3"
   },
   "outputs": [
    {
     "name": "stdout",
     "output_type": "stream",
     "text": [
      "Converting uid 001_08\n",
      "Converting uid 002_01\n",
      "Converting uid 001_01\n",
      "Converting uid 001_04\n"
     ]
    }
   ],
   "source": [
    "val_dataset = SubjectDataset(\n",
    "    val_data_path, \n",
    "    split_ids[\"val\"]\n",
    ")\n",
    "val_dataloader = DataLoader(val_dataset, batch_size=batch_size, shuffle=False)\n",
    "val_iterations = (len(val_dataset) // batch_size) + ((len(val_dataset) % batch_size) != 0)"
   ]
  },
  {
   "cell_type": "code",
   "execution_count": 23,
   "metadata": {
    "executionInfo": {
     "elapsed": 13775,
     "status": "ok",
     "timestamp": 1637026240621,
     "user": {
      "displayName": "Sahil Anish Palarpwar",
      "photoUrl": "https://lh3.googleusercontent.com/a/default-user=s64",
      "userId": "17757512684560375750"
     },
     "user_tz": 300
    },
    "id": "5qvZJ2dCxb-H"
   },
   "outputs": [],
   "source": [
    "output = []\n",
    "labels = []\n",
    "for X, y in val_dataloader:\n",
    "    X = X.float().to(device)\n",
    "    X = (X - min) / (max - min)\n",
    "    \n",
    "    y = y.view(X.size(0)).to(device)\n",
    "\n",
    "    y_pred = best_model(X)\n",
    "    predicted_classes = torch.argmax(y_pred, dim=1).detach().cpu().numpy()\n",
    "    y_true = y.cpu().numpy()\n",
    "\n",
    "    output.append(predicted_classes)\n",
    "    labels.append(y_true)"
   ]
  },
  {
   "cell_type": "code",
   "execution_count": 24,
   "metadata": {
    "executionInfo": {
     "elapsed": 120,
     "status": "ok",
     "timestamp": 1637026244941,
     "user": {
      "displayName": "Sahil Anish Palarpwar",
      "photoUrl": "https://lh3.googleusercontent.com/a/default-user=s64",
      "userId": "17757512684560375750"
     },
     "user_tz": 300
    },
    "id": "I8p4RTYs0CuR"
   },
   "outputs": [],
   "source": [
    "_output = np.concatenate(output, axis=0)\n",
    "_labels = np.concatenate(labels, axis=0)"
   ]
  },
  {
   "cell_type": "code",
   "execution_count": 25,
   "metadata": {
    "colab": {
     "base_uri": "https://localhost:8080/"
    },
    "executionInfo": {
     "elapsed": 332,
     "status": "ok",
     "timestamp": 1637026247944,
     "user": {
      "displayName": "Sahil Anish Palarpwar",
      "photoUrl": "https://lh3.googleusercontent.com/a/default-user=s64",
      "userId": "17757512684560375750"
     },
     "user_tz": 300
    },
    "id": "EI4HBWhS0Gao",
    "outputId": "b1859de6-94f3-47e5-b30b-2e1232e03f8f"
   },
   "outputs": [
    {
     "name": "stdout",
     "output_type": "stream",
     "text": [
      "Agg metrics\n",
      "{'Accuracy': 0.7889356807598835, 'Precision': 0.7198281347347514, 'Recall': 0.7926379226292257, 'F1': 0.737381646472894}\n",
      "Classwise Metrics\n",
      "{'Precision': array([0.83005304, 0.72025109, 0.55930113, 0.76970728]), 'Recall': array([0.8685204 , 0.89487962, 0.89713155, 0.51002012]), 'F1': array([0.84885114, 0.79812491, 0.6890352 , 0.61351535])}\n"
     ]
    }
   ],
   "source": [
    "agg_metrics = evaluator.aggregate_metrics(_labels, _output)\n",
    "print(\"Agg metrics\")\n",
    "print(agg_metrics)\n",
    "classwise_metrics = evaluator.classwise_metrics(_labels, _output)\n",
    "print(\"Classwise Metrics\")\n",
    "print(classwise_metrics)"
   ]
  },
  {
   "cell_type": "code",
   "execution_count": 26,
   "metadata": {
    "colab": {
     "base_uri": "https://localhost:8080/"
    },
    "executionInfo": {
     "elapsed": 16412,
     "status": "ok",
     "timestamp": 1637026278435,
     "user": {
      "displayName": "Sahil Anish Palarpwar",
      "photoUrl": "https://lh3.googleusercontent.com/a/default-user=s64",
      "userId": "17757512684560375750"
     },
     "user_tz": 300
    },
    "id": "UosykPCA0GX_",
    "outputId": "650e5ea4-d95a-45ef-85ad-e0c8cfaff2a4"
   },
   "outputs": [
    {
     "name": "stdout",
     "output_type": "stream",
     "text": [
      "Converting uid 005_03\n",
      "Converting uid 006_01\n",
      "Converting uid 006_02\n",
      "Converting uid 006_03\n",
      "Converting uid 007_01\n",
      "Converting uid 007_02\n",
      "Converting uid 007_03\n",
      "Converting uid 007_04\n",
      "Converting uid 008_01\n"
     ]
    }
   ],
   "source": [
    "test_data_path = os.path.join(base_data_path, \"test\")\n",
    "test_dataset = SubjectDataset(\n",
    "    test_data_path, \n",
    "    split_ids[\"test\"]\n",
    ")\n",
    "test_dataloader = DataLoader(test_dataset, batch_size=batch_size, shuffle=False)\n",
    "test_iterations = (len(test_dataset) // batch_size) + ((len(test_dataset) % batch_size) != 0)"
   ]
  },
  {
   "cell_type": "code",
   "execution_count": 27,
   "metadata": {
    "executionInfo": {
     "elapsed": 28302,
     "status": "ok",
     "timestamp": 1637026318636,
     "user": {
      "displayName": "Sahil Anish Palarpwar",
      "photoUrl": "https://lh3.googleusercontent.com/a/default-user=s64",
      "userId": "17757512684560375750"
     },
     "user_tz": 300
    },
    "id": "GV5m259v4D5L"
   },
   "outputs": [],
   "source": [
    "output = []\n",
    "labels = []\n",
    "for X, y in test_dataloader:\n",
    "    X = X.float().to(device)\n",
    "    X = (X - min) / (max - min)\n",
    "    \n",
    "    y = y.view(X.size(0)).to(device)\n",
    "\n",
    "    y_pred = best_model(X)\n",
    "    predicted_classes = torch.argmax(y_pred, dim=1).detach().cpu().numpy()\n",
    "    y_true = y.cpu().numpy()\n",
    "\n",
    "    output.append(predicted_classes)\n",
    "    labels.append(y_true)"
   ]
  },
  {
   "cell_type": "code",
   "execution_count": 28,
   "metadata": {
    "executionInfo": {
     "elapsed": 135,
     "status": "ok",
     "timestamp": 1637026321994,
     "user": {
      "displayName": "Sahil Anish Palarpwar",
      "photoUrl": "https://lh3.googleusercontent.com/a/default-user=s64",
      "userId": "17757512684560375750"
     },
     "user_tz": 300
    },
    "id": "cDB40FUf4TY8"
   },
   "outputs": [],
   "source": [
    "_output = np.concatenate(output, axis=0)\n",
    "_labels = np.concatenate(labels, axis=0)"
   ]
  },
  {
   "cell_type": "code",
   "execution_count": 29,
   "metadata": {
    "colab": {
     "base_uri": "https://localhost:8080/"
    },
    "executionInfo": {
     "elapsed": 272,
     "status": "ok",
     "timestamp": 1637026324853,
     "user": {
      "displayName": "Sahil Anish Palarpwar",
      "photoUrl": "https://lh3.googleusercontent.com/a/default-user=s64",
      "userId": "17757512684560375750"
     },
     "user_tz": 300
    },
    "id": "GtmDpRBH4XDQ",
    "outputId": "933f4eca-427a-4d8f-f9e5-fb6c003c18a7"
   },
   "outputs": [
    {
     "name": "stdout",
     "output_type": "stream",
     "text": [
      "Agg metrics\n",
      "{'Accuracy': 0.8903121514057212, 'Precision': 0.788744068917616, 'Recall': 0.8986184352349047, 'F1': 0.8369361611174266}\n",
      "Classwise Metrics\n",
      "{'Precision': array([0.95961473, 0.73472993, 0.76592913, 0.69470249]), 'Recall': array([0.90396693, 0.93691664, 0.95281457, 0.8007756 ]), 'F1': array([0.93095999, 0.82359598, 0.84921147, 0.7439772 ])}\n"
     ]
    }
   ],
   "source": [
    "agg_metrics = evaluator.aggregate_metrics(_labels, _output)\n",
    "print(\"Agg metrics\")\n",
    "print(agg_metrics)\n",
    "classwise_metrics = evaluator.classwise_metrics(_labels, _output)\n",
    "print(\"Classwise Metrics\")\n",
    "print(classwise_metrics)"
   ]
  },
  {
   "cell_type": "code",
   "execution_count": 30,
   "metadata": {
    "colab": {
     "base_uri": "https://localhost:8080/"
    },
    "executionInfo": {
     "elapsed": 112,
     "status": "ok",
     "timestamp": 1637026332909,
     "user": {
      "displayName": "Sahil Anish Palarpwar",
      "photoUrl": "https://lh3.googleusercontent.com/a/default-user=s64",
      "userId": "17757512684560375750"
     },
     "user_tz": 300
    },
    "id": "xMx7IIGjpyNZ",
    "outputId": "5cfcc2e6-9fef-4e33-eba8-ae0e9a26de21"
   },
   "outputs": [
    {
     "name": "stdout",
     "output_type": "stream",
     "text": [
      "Saving model to /content/drive/MyDrive/ECE_542/Competition_Project/Models/ensemble_window2_avg_long.pth\n"
     ]
    }
   ],
   "source": [
    "path = os.path.join(base_path, \"Models\", \"ensemble_window2_avg_long.pth\")\n",
    "print(f\"Saving model to {path}\")\n",
    "torch.save(model.state_dict(), path)"
   ]
  },
  {
   "cell_type": "code",
   "execution_count": null,
   "metadata": {
    "id": "gZISb6yI1ewr"
   },
   "outputs": [],
   "source": []
  }
 ],
 "metadata": {
  "colab": {
   "collapsed_sections": [],
   "name": "window2_avg.ipynb",
   "provenance": [
    {
     "file_id": "1irN4Jxdy0n5vDtdH7n5HR59TCuhnQ6X_",
     "timestamp": 1637020081113
    },
    {
     "file_id": "13A6jjUV-qzBxlbhQXQewQM3QlSuE4YZJ",
     "timestamp": 1636602277302
    }
   ]
  },
  "kernelspec": {
   "display_name": "Python 3",
   "language": "python",
   "name": "python3"
  },
  "language_info": {
   "codemirror_mode": {
    "name": "ipython",
    "version": 3
   },
   "file_extension": ".py",
   "mimetype": "text/x-python",
   "name": "python",
   "nbconvert_exporter": "python",
   "pygments_lexer": "ipython3",
   "version": "3.9.0"
  }
 },
 "nbformat": 4,
 "nbformat_minor": 1
}
