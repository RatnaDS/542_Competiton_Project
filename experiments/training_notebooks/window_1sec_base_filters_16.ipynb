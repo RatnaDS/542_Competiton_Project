{
 "cells": [
  {
   "cell_type": "code",
   "execution_count": 1,
   "metadata": {
    "colab": {
     "base_uri": "https://localhost:8080/"
    },
    "executionInfo": {
     "elapsed": 825,
     "status": "ok",
     "timestamp": 1636260622284,
     "user": {
      "displayName": "Chinmay Mahendra Savadikar",
      "photoUrl": "https://lh3.googleusercontent.com/a/default-user=s64",
      "userId": "11610851333453948182"
     },
     "user_tz": 240
    },
    "id": "prIF1sjM-c3i",
    "outputId": "05510b4e-b592-4788-f59e-d85cb14083f9"
   },
   "outputs": [
    {
     "name": "stdout",
     "output_type": "stream",
     "text": [
      " 2_conv-plus-normalization.ipynb\n",
      " attempt-1.ipynb\n",
      " best-conv-plus-normalization.ipynb\n",
      "'Copy of attempt-1.ipynb'\n",
      "'Copy of conv-plus-normalization.ipynb'\n",
      "'Copy of current-conv-plus-normalization.ipynb'\n",
      "'Copy of Hyoer attempt-1.ipynb'\n",
      " current-conv-plus-normalization.ipynb\n",
      " data.zip\n",
      " experiments\n",
      "'Hyoer attempt-1.ipynb'\n",
      " ml_utils\n",
      " test_data.zip\n"
     ]
    }
   ],
   "source": [
    "!ls drive/MyDrive/Classes/ece542/competition-project/"
   ]
  },
  {
   "cell_type": "code",
   "execution_count": 2,
   "metadata": {
    "executionInfo": {
     "elapsed": 2849,
     "status": "ok",
     "timestamp": 1636260626154,
     "user": {
      "displayName": "Chinmay Mahendra Savadikar",
      "photoUrl": "https://lh3.googleusercontent.com/a/default-user=s64",
      "userId": "11610851333453948182"
     },
     "user_tz": 240
    },
    "id": "Ng-s1F7Z-xKL"
   },
   "outputs": [],
   "source": [
    "!cp drive/MyDrive/Classes/ece542/competition-project/data.zip ."
   ]
  },
  {
   "cell_type": "code",
   "execution_count": 3,
   "metadata": {
    "colab": {
     "base_uri": "https://localhost:8080/"
    },
    "executionInfo": {
     "elapsed": 6912,
     "status": "ok",
     "timestamp": 1636260633051,
     "user": {
      "displayName": "Chinmay Mahendra Savadikar",
      "photoUrl": "https://lh3.googleusercontent.com/a/default-user=s64",
      "userId": "11610851333453948182"
     },
     "user_tz": 240
    },
    "id": "8wUZq7ty_AZO",
    "outputId": "fd9ed5a6-172a-4db7-fa36-40cb77261942"
   },
   "outputs": [
    {
     "name": "stdout",
     "output_type": "stream",
     "text": [
      "Archive:  data.zip\n",
      "   creating: data/\n",
      "   creating: data/preprocessed_data/\n",
      "   creating: data/splits/\n",
      "   creating: data/splits/test/\n",
      "  inflating: data/splits/test/subject_007_session_02__x.csv  \n",
      "  inflating: data/splits/test/subject_007_session_03__x.csv  \n",
      "  inflating: data/splits/test/subject_005_session_03__x.csv  \n",
      "  inflating: data/splits/test/subject_007_session_01__x.csv  \n",
      "  inflating: data/splits/test/subject_006_session_01__y.csv  \n",
      "  inflating: data/splits/test/subject_006_session_03__y.csv  \n",
      "  inflating: data/splits/test/subject_008_session_01__y.csv  \n",
      "  inflating: data/splits/test/subject_006_session_01__x.csv  \n",
      "  inflating: data/splits/test/subject_006_session_02__y.csv  \n",
      "  inflating: data/splits/test/subject_006_session_02__x.csv  \n",
      "  inflating: data/splits/test/subject_007_session_02__y.csv  \n",
      "  inflating: data/splits/test/subject_007_session_04__x.csv  \n",
      "  inflating: data/splits/test/subject_007_session_01__y.csv  \n",
      "  inflating: data/splits/test/subject_006_session_03__x.csv  \n",
      "  inflating: data/splits/test/subject_007_session_04__y.csv  \n",
      "  inflating: data/splits/test/subject_008_session_01__x.csv  \n",
      "  inflating: data/splits/test/subject_005_session_03__y.csv  \n",
      "  inflating: data/splits/test/subject_007_session_03__y.csv  \n",
      "   creating: data/splits/train/\n",
      "  inflating: data/splits/train/subject_001_session_07__x.csv  \n",
      "  inflating: data/splits/train/subject_003_session_01__y.csv  \n",
      "  inflating: data/splits/train/subject_001_session_05__y.csv  \n",
      "  inflating: data/splits/train/subject_004_session_01__x.csv  \n",
      "  inflating: data/splits/train/subject_005_session_01__x.csv  \n",
      "  inflating: data/splits/train/subject_002_session_04__x.csv  \n",
      "  inflating: data/splits/train/subject_001_session_02__x.csv  \n",
      "  inflating: data/splits/train/subject_002_session_02__y.csv  \n",
      "  inflating: data/splits/train/subject_001_session_07__y.csv  \n",
      "  inflating: data/splits/train/subject_004_session_02__x.csv  \n",
      "  inflating: data/splits/train/subject_005_session_01__y.csv  \n",
      "  inflating: data/splits/train/subject_003_session_03__x.csv  \n",
      "  inflating: data/splits/train/subject_001_session_06__y.csv  \n",
      "  inflating: data/splits/train/subject_005_session_02__y.csv  \n",
      "  inflating: data/splits/train/subject_001_session_05__x.csv  \n",
      "  inflating: data/splits/train/subject_002_session_05__y.csv  \n",
      "  inflating: data/splits/train/subject_002_session_03__x.csv  \n",
      "  inflating: data/splits/train/subject_003_session_01__x.csv  \n",
      "  inflating: data/splits/train/subject_001_session_06__x.csv  \n",
      "  inflating: data/splits/train/subject_002_session_05__x.csv  \n",
      "  inflating: data/splits/train/subject_003_session_03__y.csv  \n",
      "  inflating: data/splits/train/subject_003_session_02__x.csv  \n",
      "  inflating: data/splits/train/subject_001_session_03__y.csv  \n",
      "  inflating: data/splits/train/subject_002_session_04__y.csv  \n",
      "  inflating: data/splits/train/subject_004_session_02__y.csv  \n",
      "  inflating: data/splits/train/subject_003_session_02__y.csv  \n",
      "  inflating: data/splits/train/subject_002_session_02__x.csv  \n",
      "  inflating: data/splits/train/subject_001_session_02__y.csv  \n",
      "  inflating: data/splits/train/subject_005_session_02__x.csv  \n",
      "  inflating: data/splits/train/subject_001_session_03__x.csv  \n",
      "  inflating: data/splits/train/subject_004_session_01__y.csv  \n",
      "  inflating: data/splits/train/subject_002_session_03__y.csv  \n",
      "   creating: data/splits/val/\n",
      "  inflating: data/splits/val/subject_001_session_08__y.csv  \n",
      "  inflating: data/splits/val/subject_001_session_04__y.csv  \n",
      "  inflating: data/splits/val/subject_002_session_01__y.csv  \n",
      "  inflating: data/splits/val/subject_001_session_01__x.csv  \n",
      "  inflating: data/splits/val/subject_001_session_08__x.csv  \n",
      "  inflating: data/splits/val/subject_001_session_04__x.csv  \n",
      "  inflating: data/splits/val/subject_002_session_01__x.csv  \n",
      "  inflating: data/splits/val/subject_001_session_01__y.csv  \n",
      "  inflating: data/.gitignore         \n",
      "   creating: metadata/\n",
      "  inflating: metadata/statistics.csv  \n",
      "  inflating: metadata/statistics.json  \n",
      "  inflating: metadata/split_ids.json  \n"
     ]
    }
   ],
   "source": [
    "!unzip data.zip"
   ]
  },
  {
   "cell_type": "code",
   "execution_count": 4,
   "metadata": {
    "executionInfo": {
     "elapsed": 220,
     "status": "ok",
     "timestamp": 1636260633259,
     "user": {
      "displayName": "Chinmay Mahendra Savadikar",
      "photoUrl": "https://lh3.googleusercontent.com/a/default-user=s64",
      "userId": "11610851333453948182"
     },
     "user_tz": 240
    },
    "id": "1ZeuQxwE_NzP"
   },
   "outputs": [],
   "source": [
    "!rm data.zip"
   ]
  },
  {
   "cell_type": "code",
   "execution_count": 5,
   "metadata": {
    "colab": {
     "base_uri": "https://localhost:8080/"
    },
    "executionInfo": {
     "elapsed": 853,
     "status": "ok",
     "timestamp": 1636260634107,
     "user": {
      "displayName": "Chinmay Mahendra Savadikar",
      "photoUrl": "https://lh3.googleusercontent.com/a/default-user=s64",
      "userId": "11610851333453948182"
     },
     "user_tz": 240
    },
    "id": "sjjVhlkupOBO",
    "outputId": "a926369d-2036-491c-f501-008fee4d8000"
   },
   "outputs": [
    {
     "name": "stdout",
     "output_type": "stream",
     "text": [
      "Cloning into 'ece542-competition-project'...\n",
      "remote: Enumerating objects: 186, done.\u001b[K\n",
      "remote: Counting objects: 100% (186/186), done.\u001b[K\n",
      "remote: Compressing objects: 100% (134/134), done.\u001b[K\n",
      "remote: Total 186 (delta 93), reused 123 (delta 42), pack-reused 0\u001b[K\n",
      "Receiving objects: 100% (186/186), 266.05 KiB | 14.00 MiB/s, done.\n",
      "Resolving deltas: 100% (93/93), done.\n"
     ]
    }
   ],
   "source": [
    "# Access token redacted. Replace <ACCESS_TOKEN> with your access token.\n",
    "!git clone https://savadikarc:<ACCESS_TOKEN>@github.com/savadikarc/ece542-competition-project.git"
   ]
  },
  {
   "cell_type": "code",
   "execution_count": 6,
   "metadata": {
    "colab": {
     "base_uri": "https://localhost:8080/"
    },
    "executionInfo": {
     "elapsed": 405,
     "status": "ok",
     "timestamp": 1636260634505,
     "user": {
      "displayName": "Chinmay Mahendra Savadikar",
      "photoUrl": "https://lh3.googleusercontent.com/a/default-user=s64",
      "userId": "11610851333453948182"
     },
     "user_tz": 240
    },
    "id": "Y8yURtFRqGkj",
    "outputId": "fab91706-a32f-4330-e35e-ec3eefedae41"
   },
   "outputs": [
    {
     "name": "stdout",
     "output_type": "stream",
     "text": [
      "Branch 'dataset-perf' set up to track remote branch 'dataset-perf' from 'origin'.\n",
      "Switched to a new branch 'dataset-perf'\n",
      "From https://github.com/savadikarc/ece542-competition-project\n",
      " * branch            dataset-perf -> FETCH_HEAD\n",
      "Already up to date.\n"
     ]
    }
   ],
   "source": [
    "!cd ece542-competition-project && git checkout phase-1 && git pull origin phase-1"
   ]
  },
  {
   "cell_type": "markdown",
   "metadata": {
    "id": "9OoQXL-PPr87"
   },
   "source": []
  },
  {
   "cell_type": "code",
   "execution_count": 1,
   "metadata": {
    "executionInfo": {
     "elapsed": 225,
     "status": "ok",
     "timestamp": 1636261729905,
     "user": {
      "displayName": "Chinmay Mahendra Savadikar",
      "photoUrl": "https://lh3.googleusercontent.com/a/default-user=s64",
      "userId": "11610851333453948182"
     },
     "user_tz": 240
    },
    "id": "DJlBSAfPnuG_"
   },
   "outputs": [],
   "source": [
    "base_path = \"drive/MyDrive/Classes/ece542/competition-project\""
   ]
  },
  {
   "cell_type": "code",
   "execution_count": 2,
   "metadata": {
    "executionInfo": {
     "elapsed": 1,
     "status": "ok",
     "timestamp": 1636261730265,
     "user": {
      "displayName": "Chinmay Mahendra Savadikar",
      "photoUrl": "https://lh3.googleusercontent.com/a/default-user=s64",
      "userId": "11610851333453948182"
     },
     "user_tz": 240
    },
    "id": "8kUcwing_Qkz"
   },
   "outputs": [],
   "source": [
    "import os\n",
    "import sys\n",
    "sys.path.append(\"ece542-competition-project\")"
   ]
  },
  {
   "cell_type": "code",
   "execution_count": 3,
   "metadata": {
    "executionInfo": {
     "elapsed": 6224,
     "status": "ok",
     "timestamp": 1636261736709,
     "user": {
      "displayName": "Chinmay Mahendra Savadikar",
      "photoUrl": "https://lh3.googleusercontent.com/a/default-user=s64",
      "userId": "11610851333453948182"
     },
     "user_tz": 240
    },
    "id": "_JxS3qkHmmRB"
   },
   "outputs": [],
   "source": [
    "import json\n",
    "from collections import Counter\n",
    "import torch\n",
    "import torch.nn as nn\n",
    "import torch.nn.functional as F\n",
    "from torch import optim\n",
    "from torch.optim.lr_scheduler import ReduceLROnPlateau\n",
    "from torch.utils.data import DataLoader\n",
    "from torch.utils.data.sampler import WeightedRandomSampler\n",
    "import numpy as np\n",
    "from ml_utils.dataset import SubjectDataset"
   ]
  },
  {
   "cell_type": "code",
   "execution_count": 4,
   "metadata": {
    "colab": {
     "base_uri": "https://localhost:8080/"
    },
    "executionInfo": {
     "elapsed": 32,
     "status": "ok",
     "timestamp": 1636261736710,
     "user": {
      "displayName": "Chinmay Mahendra Savadikar",
      "photoUrl": "https://lh3.googleusercontent.com/a/default-user=s64",
      "userId": "11610851333453948182"
     },
     "user_tz": 240
    },
    "id": "LJCQfTElnJJm",
    "outputId": "a7c6a082-6353-48ee-ff14-0d9684d872b6"
   },
   "outputs": [
    {
     "name": "stdout",
     "output_type": "stream",
     "text": [
      "Device: cpu\n"
     ]
    }
   ],
   "source": [
    "device = torch.device(\"cuda:0\" if torch.cuda.is_available() else \"cpu\")\n",
    "print(f\"Device: {device}\")"
   ]
  },
  {
   "cell_type": "code",
   "execution_count": 5,
   "metadata": {
    "executionInfo": {
     "elapsed": 27,
     "status": "ok",
     "timestamp": 1636261736711,
     "user": {
      "displayName": "Chinmay Mahendra Savadikar",
      "photoUrl": "https://lh3.googleusercontent.com/a/default-user=s64",
      "userId": "11610851333453948182"
     },
     "user_tz": 240
    },
    "id": "5mKgxfP1mmMg"
   },
   "outputs": [],
   "source": [
    "base_data_path = os.path.join(\"data\", \"splits\")\n",
    "train_data_path = os.path.join(base_data_path, \"train\")\n",
    "val_data_path = os.path.join(base_data_path, \"val\")\n",
    "\n",
    "splits_file = os.path.join(base_path, \"experiments\", \"metadata\", \"split_ids.json\")\n",
    "with open(splits_file, \"r\") as f:\n",
    "    split_ids = json.load(f)"
   ]
  },
  {
   "cell_type": "code",
   "execution_count": 6,
   "metadata": {
    "executionInfo": {
     "elapsed": 26,
     "status": "ok",
     "timestamp": 1636261736712,
     "user": {
      "displayName": "Chinmay Mahendra Savadikar",
      "photoUrl": "https://lh3.googleusercontent.com/a/default-user=s64",
      "userId": "11610851333453948182"
     },
     "user_tz": 240
    },
    "id": "kuihFDGQbTBm"
   },
   "outputs": [],
   "source": [
    "stats_path = os.path.join(base_path, \"experiments\", \"metadata\", \"statistics.json\")\n",
    "with open(stats_path, \"r\") as f:\n",
    "    stats = json.load(f)"
   ]
  },
  {
   "cell_type": "code",
   "execution_count": 7,
   "metadata": {
    "executionInfo": {
     "elapsed": 21,
     "status": "ok",
     "timestamp": 1636261736712,
     "user": {
      "displayName": "Chinmay Mahendra Savadikar",
      "photoUrl": "https://lh3.googleusercontent.com/a/default-user=s64",
      "userId": "11610851333453948182"
     },
     "user_tz": 240
    },
    "id": "mzQdu4exbfOl"
   },
   "outputs": [],
   "source": [
    "min = np.array([v[\"min\"] for k, v in stats.items()])\n",
    "max = np.array([v[\"max\"] for k, v in stats.items()])\n",
    "\n",
    "min = torch.from_numpy(min).float()\n",
    "min = torch.unsqueeze((torch.unsqueeze(min, 0)), -1)\n",
    "min = min.to(device)\n",
    "max = torch.from_numpy(max).float().to(device)\n",
    "max = torch.unsqueeze((torch.unsqueeze(max, 0)), -1)\n",
    "max = max.to(device)"
   ]
  },
  {
   "cell_type": "code",
   "execution_count": 8,
   "metadata": {
    "colab": {
     "base_uri": "https://localhost:8080/"
    },
    "executionInfo": {
     "elapsed": 11,
     "status": "ok",
     "timestamp": 1636261736877,
     "user": {
      "displayName": "Chinmay Mahendra Savadikar",
      "photoUrl": "https://lh3.googleusercontent.com/a/default-user=s64",
      "userId": "11610851333453948182"
     },
     "user_tz": 240
    },
    "id": "XJXYMQrWb-zN",
    "outputId": "8cb37c88-22b3-452c-cb93-458a4e365ee8"
   },
   "outputs": [
    {
     "data": {
      "text/plain": [
       "torch.Size([1, 6, 1])"
      ]
     },
     "execution_count": 8,
     "metadata": {},
     "output_type": "execute_result"
    }
   ],
   "source": [
    "min.shape"
   ]
  },
  {
   "cell_type": "code",
   "execution_count": 9,
   "metadata": {
    "executionInfo": {
     "elapsed": 224,
     "status": "ok",
     "timestamp": 1636261738742,
     "user": {
      "displayName": "Chinmay Mahendra Savadikar",
      "photoUrl": "https://lh3.googleusercontent.com/a/default-user=s64",
      "userId": "11610851333453948182"
     },
     "user_tz": 240
    },
    "id": "n5RT6OvirVrA"
   },
   "outputs": [],
   "source": [
    "# Training hyperparameters\n",
    "batch_size = 128\n",
    "num_epochs = 20"
   ]
  },
  {
   "cell_type": "code",
   "execution_count": 10,
   "metadata": {
    "colab": {
     "base_uri": "https://localhost:8080/"
    },
    "executionInfo": {
     "elapsed": 8804,
     "status": "ok",
     "timestamp": 1636261747790,
     "user": {
      "displayName": "Chinmay Mahendra Savadikar",
      "photoUrl": "https://lh3.googleusercontent.com/a/default-user=s64",
      "userId": "11610851333453948182"
     },
     "user_tz": 240
    },
    "id": "jy47cYBEmmKS",
    "outputId": "9a6c6fc4-d846-4976-8e3c-b7b71cb3b8d4"
   },
   "outputs": [
    {
     "name": "stdout",
     "output_type": "stream",
     "text": [
      "Converting uid 005_02\n",
      "Converting uid 001_06\n",
      "Converting uid 003_02\n",
      "Converting uid 001_05\n",
      "Converting uid 002_02\n",
      "Converting uid 003_01\n",
      "Converting uid 003_03\n",
      "Converting uid 005_01\n",
      "Converting uid 001_07\n",
      "Converting uid 002_05\n",
      "Converting uid 004_02\n",
      "Converting uid 002_03\n",
      "Converting uid 001_02\n",
      "Converting uid 002_04\n",
      "Converting uid 001_03\n",
      "Converting uid 004_01\n",
      "Converting uid 001_08\n",
      "Converting uid 002_01\n",
      "Converting uid 001_01\n",
      "Converting uid 001_04\n"
     ]
    }
   ],
   "source": [
    "train_dataset = SubjectDataset(\n",
    "    train_data_path, \n",
    "    split_ids[\"train\"]\n",
    ")\n",
    "ys = train_dataset.y.tolist()\n",
    "counts = Counter(ys)\n",
    "weights = np.array([1./counts[_y] for _y in ys])\n",
    "sample_weights = torch.from_numpy(weights).float()\n",
    "sampler = WeightedRandomSampler(\n",
    "    weights=sample_weights,\n",
    "    num_samples=len(sample_weights),\n",
    "    replacement=True)\n",
    "train_dataloader = DataLoader(train_dataset, batch_size=batch_size, sampler=sampler)\n",
    "train_iterations = (len(train_dataset) // batch_size) + ((len(train_dataset) % batch_size) != 0)\n",
    "\n",
    "val_dataset = SubjectDataset(\n",
    "    val_data_path, \n",
    "    split_ids[\"val\"]\n",
    ")\n",
    "val_dataloader = DataLoader(val_dataset, batch_size=batch_size, shuffle=True)\n",
    "val_iterations = (len(val_dataset) // batch_size) + ((len(val_dataset) % batch_size) != 0)"
   ]
  },
  {
   "cell_type": "code",
   "execution_count": 11,
   "metadata": {
    "colab": {
     "base_uri": "https://localhost:8080/"
    },
    "executionInfo": {
     "elapsed": 15,
     "status": "ok",
     "timestamp": 1636261747791,
     "user": {
      "displayName": "Chinmay Mahendra Savadikar",
      "photoUrl": "https://lh3.googleusercontent.com/a/default-user=s64",
      "userId": "11610851333453948182"
     },
     "user_tz": 240
    },
    "id": "L4JQ2YWz6JeB",
    "outputId": "44e59767-787d-4782-cd4b-0ec95dd8e899"
   },
   "outputs": [
    {
     "name": "stdout",
     "output_type": "stream",
     "text": [
      "1373\n",
      "422\n"
     ]
    }
   ],
   "source": [
    "print(train_iterations)\n",
    "print(val_iterations)"
   ]
  },
  {
   "cell_type": "code",
   "execution_count": 18,
   "metadata": {
    "executionInfo": {
     "elapsed": 170,
     "status": "ok",
     "timestamp": 1636261819610,
     "user": {
      "displayName": "Chinmay Mahendra Savadikar",
      "photoUrl": "https://lh3.googleusercontent.com/a/default-user=s64",
      "userId": "11610851333453948182"
     },
     "user_tz": 240
    },
    "id": "7UxWDOBmmmOv"
   },
   "outputs": [],
   "source": [
    "# class OneDConvNet(nn.Module):\n",
    "#   def __init__(self, n_features, n_classes):\n",
    "#     super(OneDConvNet, self).__init__()\n",
    "#     self.conv1 = nn.Conv1d(in_channels=n_features, out_channels=16, kernel_size=3, stride=1, padding=1)\n",
    "#     self.dropout1 = nn.Dropout2d(0.1)\n",
    "#     self.pool1 = nn.AvgPool1d(kernel_size=2, stride=2)\n",
    "#     self.conv2 = nn.Conv1d(in_channels= 16, out_channels=32, kernel_size=3, stride=1, padding=1)\n",
    "#     self.dropout2 = nn.Dropout2d(0.1)\n",
    "#     self.pool2 = nn.AvgPool1d(kernel_size=2, stride=2)\n",
    "#     self.conv3 = nn.Conv1d(in_channels=32, out_channels=64, kernel_size=3, stride=1, padding=1)\n",
    "#     self.dropout3 = nn.Dropout2d(0.1)\n",
    "#     self.pool3 = nn.AvgPool1d(kernel_size=2, stride=2)\n",
    "#     self.conv4 = nn.Conv1d(in_channels=64, out_channels=128, kernel_size=3, stride=1, padding=1)\n",
    "#     self.dropout4 = nn.Dropout2d(0.1)\n",
    "#     self.fc1 = nn.Linear(128, 64)\n",
    "#     self.dropout5 = nn.Dropout(0.2)\n",
    "#     self.fc2 = nn.Linear(64, n_classes)\n",
    "  \n",
    "#   def forward(self, x):\n",
    "#     x = self.pool1(self.dropout1(F.relu(self.conv1(x))))\n",
    "#     x = self.pool2(self.dropout2(F.relu(self.conv2(x))))\n",
    "#     x = self.pool3(self.dropout3(F.relu(self.conv3(x))))\n",
    "#     x = self.dropout4(F.relu(self.conv4(x)))\n",
    "#     N, C, T = x.size()\n",
    "#     x = x.mean(dim=-1) # Flatten\n",
    "#     x = self.dropout5(F.relu(self.fc1(x)))\n",
    "#     x = self.fc2(x)\n",
    "#     return x\n",
    "\n",
    "# model = OneDConvNet(6, 4).to(device)\n",
    "class OneDConvNet(nn.Module):\n",
    "  def __init__(self, n_features, n_classes):\n",
    "    super(OneDConvNet, self).__init__()\n",
    "    self.conv1 = nn.Conv1d(in_channels=n_features, out_channels=16, kernel_size=3, stride=1, padding=1)\n",
    "    self.norm1 = nn.LayerNorm(16*40)\n",
    "    self.pool1 = nn.AvgPool1d(kernel_size=2, stride=2)\n",
    "    self.conv2 = nn.Conv1d(in_channels= 16, out_channels=32, kernel_size=3, stride=1, padding=1)\n",
    "    self.norm2 = nn.LayerNorm(32*20)\n",
    "    self.pool2 = nn.AvgPool1d(kernel_size=2, stride=2)\n",
    "    self.conv3 = nn.Conv1d(in_channels=32, out_channels=64, kernel_size=3, stride=1, padding=1)\n",
    "    self.norm3 = nn.LayerNorm(64*10)\n",
    "    self.pool3 = nn.AvgPool1d(kernel_size=2, stride=2)\n",
    "    self.conv4 = nn.Conv1d(in_channels=64, out_channels=128, kernel_size=3, stride=1, padding=1)\n",
    "    self.norm4 = nn.LayerNorm(128*5)\n",
    "    self.fc1 = nn.Linear(128, 64)\n",
    "    self.dropout5 = nn.Dropout(0.2)\n",
    "    self.fc2 = nn.Linear(64, n_classes)\n",
    "  \n",
    "  def forward(self, x):\n",
    "    x = self.conv1(x)\n",
    "    N, C, T = x.shape\n",
    "    x = x.view(N, C*T)\n",
    "    x = self.norm1(x)\n",
    "    x = x.view(N, C, T)\n",
    "    x = self.pool1(F.relu(x))\n",
    "\n",
    "    x = self.conv2(x)\n",
    "    N, C, T = x.shape\n",
    "    x = x.view(N, C*T)\n",
    "    x = self.norm2(x)\n",
    "    x = x.view(N, C, T)\n",
    "    x = self.pool2(F.relu(x))\n",
    "\n",
    "    x = self.conv3(x)\n",
    "    N, C, T = x.shape\n",
    "    x = x.view(N, C*T)\n",
    "    x = self.norm3(x)\n",
    "    x = x.view(N, C, T)\n",
    "    x = self.pool3(F.relu(x))\n",
    "\n",
    "    x = self.conv4(x)\n",
    "    N, C, T = x.shape\n",
    "    x = x.view(N, C*T)\n",
    "    x = self.norm4(x)\n",
    "    x = x.view(N, C, T)\n",
    "    x = F.relu(x)\n",
    "\n",
    "    N, C, T = x.size()\n",
    "    x = x.mean(dim=-1) # Flatten\n",
    "    x = self.dropout5(F.relu(self.fc1(x)))\n",
    "    x = self.fc2(x)\n",
    "    return x\n",
    "\n",
    "model = OneDConvNet(6, 4).to(device)"
   ]
  },
  {
   "cell_type": "code",
   "execution_count": 19,
   "metadata": {
    "executionInfo": {
     "elapsed": 215,
     "status": "ok",
     "timestamp": 1636261821992,
     "user": {
      "displayName": "Chinmay Mahendra Savadikar",
      "photoUrl": "https://lh3.googleusercontent.com/a/default-user=s64",
      "userId": "11610851333453948182"
     },
     "user_tz": 240
    },
    "id": "_7npRJhHxdC1"
   },
   "outputs": [],
   "source": [
    "# import numpy as np\n",
    "# X = np.random.randn(1, 6, 40)\n",
    "# T = torch.from_numpy(X).float().to(device)\n",
    "# y = model(T)"
   ]
  },
  {
   "cell_type": "code",
   "execution_count": 20,
   "metadata": {
    "executionInfo": {
     "elapsed": 1,
     "status": "ok",
     "timestamp": 1636261822190,
     "user": {
      "displayName": "Chinmay Mahendra Savadikar",
      "photoUrl": "https://lh3.googleusercontent.com/a/default-user=s64",
      "userId": "11610851333453948182"
     },
     "user_tz": 240
    },
    "id": "sksNpnMfyLOP"
   },
   "outputs": [],
   "source": [
    "# y.shape"
   ]
  },
  {
   "cell_type": "code",
   "execution_count": 21,
   "metadata": {
    "executionInfo": {
     "elapsed": 3,
     "status": "ok",
     "timestamp": 1636261822483,
     "user": {
      "displayName": "Chinmay Mahendra Savadikar",
      "photoUrl": "https://lh3.googleusercontent.com/a/default-user=s64",
      "userId": "11610851333453948182"
     },
     "user_tz": 240
    },
    "id": "JSfdHJ4Ry4AG"
   },
   "outputs": [],
   "source": [
    "# optimizer = optim.SGD(model.parameters(), lr=0.001, momentum=0.9)\n",
    "optimizer = optim.Adam(model.parameters(), lr=0.001)\n",
    "# optimizer = optim.RMSprop(model.parameters(), lr=1e-3)\n",
    "scheduler = ReduceLROnPlateau(optimizer, factor=0.5, patience=1, verbose=True)\n",
    "criterion = nn.CrossEntropyLoss()"
   ]
  },
  {
   "cell_type": "code",
   "execution_count": 22,
   "metadata": {
    "executionInfo": {
     "elapsed": 170,
     "status": "ok",
     "timestamp": 1636261823442,
     "user": {
      "displayName": "Chinmay Mahendra Savadikar",
      "photoUrl": "https://lh3.googleusercontent.com/a/default-user=s64",
      "userId": "11610851333453948182"
     },
     "user_tz": 240
    },
    "id": "V6FBCiBQmmH2"
   },
   "outputs": [],
   "source": [
    "def train_step(X, y, model, optimizer, criterion):\n",
    "\n",
    "    y_pred = model(X)\n",
    "    predicted_classes = torch.argmax(y_pred.detach(), dim=1)\n",
    "\n",
    "    loss = criterion(y_pred, y)\n",
    "    optimizer.zero_grad()\n",
    "    loss.backward()\n",
    "    optimizer.step()\n",
    "\n",
    "    corrects = torch.sum(y.data == predicted_classes)\n",
    "\n",
    "    return loss.item(), corrects\n",
    "\n",
    "def val_step(X, y, model, criterion):\n",
    "\n",
    "    with torch.no_grad():\n",
    "        \n",
    "        y_pred = model(X)\n",
    "        predicted_classes = torch.argmax(y_pred.detach(), dim=1)\n",
    "        loss = criterion(y_pred, y)\n",
    "        corrects = torch.sum(y.data == predicted_classes)\n",
    "\n",
    "    return loss.item(), corrects, predicted_classes.detach().cpu().numpy()"
   ]
  },
  {
   "cell_type": "code",
   "execution_count": 23,
   "metadata": {
    "colab": {
     "base_uri": "https://localhost:8080/"
    },
    "executionInfo": {
     "elapsed": 591626,
     "status": "ok",
     "timestamp": 1636262415758,
     "user": {
      "displayName": "Chinmay Mahendra Savadikar",
      "photoUrl": "https://lh3.googleusercontent.com/a/default-user=s64",
      "userId": "11610851333453948182"
     },
     "user_tz": 240
    },
    "id": "T2K4z1p8mmCQ",
    "outputId": "92514110-5d4a-4a59-db83-2370f633b2e9"
   },
   "outputs": [
    {
     "name": "stdout",
     "output_type": "stream",
     "text": [
      "Iteration: 0/1373 | train_loss: 1.3912560939788818 | train_acc: 0.28125\n",
      "Iteration: 100/1373 | train_loss: 0.9466475248336792 | train_acc: 0.6015625\n",
      "Iteration: 200/1373 | train_loss: 0.42961451411247253 | train_acc: 0.7734375\n",
      "Iteration: 300/1373 | train_loss: 0.3682839274406433 | train_acc: 0.765625\n",
      "Iteration: 400/1373 | train_loss: 0.4608610272407532 | train_acc: 0.765625\n",
      "Iteration: 500/1373 | train_loss: 0.3002997040748596 | train_acc: 0.8671875\n",
      "Iteration: 600/1373 | train_loss: 0.256247878074646 | train_acc: 0.8828125\n",
      "Iteration: 700/1373 | train_loss: 0.295574426651001 | train_acc: 0.90625\n",
      "Iteration: 800/1373 | train_loss: 0.2684444189071655 | train_acc: 0.890625\n",
      "Iteration: 900/1373 | train_loss: 0.25935137271881104 | train_acc: 0.8671875\n",
      "Iteration: 1000/1373 | train_loss: 0.30413317680358887 | train_acc: 0.890625\n",
      "Iteration: 1100/1373 | train_loss: 0.26311203837394714 | train_acc: 0.9140625\n",
      "Iteration: 1200/1373 | train_loss: 0.28143614530563354 | train_acc: 0.875\n",
      "Iteration: 1300/1373 | train_loss: 0.2551509439945221 | train_acc: 0.9140625\n",
      "Saving model to drive/MyDrive/Classes/ece542/competition-project/experiments/models/checkpoint_norm_dropout_32_1.pth\n",
      "Epoch: 0 | train_loss 0.4083701515921172 | train_acc: 0.8211326599121094 | val_loss: 0.6429783545058926 | val_acc: 0.7606070041656494\n",
      "Iteration: 0/1373 | train_loss: 0.22496022284030914 | train_acc: 0.921875\n",
      "Iteration: 100/1373 | train_loss: 0.22939307987689972 | train_acc: 0.9140625\n",
      "Iteration: 200/1373 | train_loss: 0.20814329385757446 | train_acc: 0.9296875\n",
      "Iteration: 300/1373 | train_loss: 0.2614879608154297 | train_acc: 0.90625\n",
      "Iteration: 400/1373 | train_loss: 0.2769678235054016 | train_acc: 0.90625\n",
      "Iteration: 500/1373 | train_loss: 0.19432644546031952 | train_acc: 0.953125\n",
      "Iteration: 600/1373 | train_loss: 0.19549593329429626 | train_acc: 0.921875\n",
      "Iteration: 700/1373 | train_loss: 0.1951613873243332 | train_acc: 0.9296875\n",
      "Iteration: 800/1373 | train_loss: 0.11933065205812454 | train_acc: 0.9453125\n",
      "Iteration: 900/1373 | train_loss: 0.21360144019126892 | train_acc: 0.921875\n",
      "Iteration: 1000/1373 | train_loss: 0.3307165801525116 | train_acc: 0.890625\n",
      "Iteration: 1100/1373 | train_loss: 0.15241478383541107 | train_acc: 0.9296875\n",
      "Iteration: 1200/1373 | train_loss: 0.11806116998195648 | train_acc: 0.96875\n",
      "Iteration: 1300/1373 | train_loss: 0.26951611042022705 | train_acc: 0.875\n",
      "Epoch: 1 | train_loss 0.20373407716656886 | train_acc: 0.9244002103805542 | val_loss: 0.8161244731934604 | val_acc: 0.7644472718238831\n",
      "Iteration: 0/1373 | train_loss: 0.21007993817329407 | train_acc: 0.9140625\n",
      "Iteration: 100/1373 | train_loss: 0.1396709829568863 | train_acc: 0.953125\n",
      "Iteration: 200/1373 | train_loss: 0.22228075563907623 | train_acc: 0.9140625\n",
      "Iteration: 300/1373 | train_loss: 0.1630643904209137 | train_acc: 0.9375\n",
      "Iteration: 400/1373 | train_loss: 0.18580655753612518 | train_acc: 0.9296875\n",
      "Iteration: 500/1373 | train_loss: 0.12991492450237274 | train_acc: 0.9453125\n",
      "Iteration: 600/1373 | train_loss: 0.16792546212673187 | train_acc: 0.9453125\n",
      "Iteration: 700/1373 | train_loss: 0.16470932960510254 | train_acc: 0.9296875\n",
      "Iteration: 800/1373 | train_loss: 0.11789809167385101 | train_acc: 0.9609375\n",
      "Iteration: 900/1373 | train_loss: 0.07048407196998596 | train_acc: 0.984375\n",
      "Iteration: 1000/1373 | train_loss: 0.1744339019060135 | train_acc: 0.9453125\n",
      "Iteration: 1100/1373 | train_loss: 0.07703902572393417 | train_acc: 0.9765625\n",
      "Iteration: 1200/1373 | train_loss: 0.18587704002857208 | train_acc: 0.9375\n",
      "Iteration: 1300/1373 | train_loss: 0.1778053641319275 | train_acc: 0.9375\n",
      "Epoch     3: reducing learning rate of group 0 to 5.0000e-04.\n",
      "Epoch: 2 | train_loss 0.1695531721509329 | train_acc: 0.9386494755744934 | val_loss: 0.7628653877241864 | val_acc: 0.7103500962257385\n",
      "Iteration: 0/1373 | train_loss: 0.18518777191638947 | train_acc: 0.921875\n",
      "Iteration: 100/1373 | train_loss: 0.12824147939682007 | train_acc: 0.9609375\n",
      "Iteration: 200/1373 | train_loss: 0.11752258241176605 | train_acc: 0.9609375\n",
      "Iteration: 300/1373 | train_loss: 0.12295611202716827 | train_acc: 0.9609375\n",
      "Iteration: 400/1373 | train_loss: 0.08684798330068588 | train_acc: 0.9609375\n",
      "Iteration: 500/1373 | train_loss: 0.10388421267271042 | train_acc: 0.953125\n",
      "Iteration: 600/1373 | train_loss: 0.16260237991809845 | train_acc: 0.9453125\n",
      "Iteration: 700/1373 | train_loss: 0.16740764677524567 | train_acc: 0.9453125\n",
      "Iteration: 800/1373 | train_loss: 0.15187950432300568 | train_acc: 0.9453125\n",
      "Iteration: 900/1373 | train_loss: 0.16708742082118988 | train_acc: 0.953125\n",
      "Iteration: 1000/1373 | train_loss: 0.17391711473464966 | train_acc: 0.921875\n",
      "Iteration: 1100/1373 | train_loss: 0.09563732892274857 | train_acc: 0.9765625\n",
      "Iteration: 1200/1373 | train_loss: 0.04249773919582367 | train_acc: 0.9921875\n",
      "Iteration: 1300/1373 | train_loss: 0.09810599684715271 | train_acc: 0.953125\n",
      "Epoch: 3 | train_loss 0.13137020495087032 | train_acc: 0.9535247683525085 | val_loss: 0.7269226341730296 | val_acc: 0.7736303806304932\n",
      "Iteration: 0/1373 | train_loss: 0.08408613502979279 | train_acc: 0.96875\n",
      "Iteration: 100/1373 | train_loss: 0.11134440451860428 | train_acc: 0.953125\n",
      "Iteration: 200/1373 | train_loss: 0.08345969021320343 | train_acc: 0.96875\n",
      "Iteration: 300/1373 | train_loss: 0.21537543833255768 | train_acc: 0.921875\n",
      "Iteration: 400/1373 | train_loss: 0.16500242054462433 | train_acc: 0.953125\n",
      "Iteration: 500/1373 | train_loss: 0.099601611495018 | train_acc: 0.96875\n",
      "Iteration: 600/1373 | train_loss: 0.15829069912433624 | train_acc: 0.9375\n",
      "Iteration: 700/1373 | train_loss: 0.1405099481344223 | train_acc: 0.9453125\n",
      "Iteration: 800/1373 | train_loss: 0.11290441453456879 | train_acc: 0.9453125\n",
      "Iteration: 900/1373 | train_loss: 0.11473318189382553 | train_acc: 0.9609375\n",
      "Iteration: 1000/1373 | train_loss: 0.07689498364925385 | train_acc: 0.984375\n",
      "Iteration: 1100/1373 | train_loss: 0.12227681279182434 | train_acc: 0.9375\n",
      "Iteration: 1200/1373 | train_loss: 0.08398725837469101 | train_acc: 0.9609375\n",
      "Iteration: 1300/1373 | train_loss: 0.11067160218954086 | train_acc: 0.9453125\n",
      "Epoch     5: reducing learning rate of group 0 to 2.5000e-04.\n",
      "Epoch: 4 | train_loss 0.12078278036900886 | train_acc: 0.9569846391677856 | val_loss: 0.647311503032677 | val_acc: 0.7784724235534668\n",
      "Iteration: 0/1373 | train_loss: 0.14417213201522827 | train_acc: 0.9453125\n",
      "Iteration: 100/1373 | train_loss: 0.07583969086408615 | train_acc: 0.9765625\n",
      "Iteration: 200/1373 | train_loss: 0.13075734674930573 | train_acc: 0.953125\n",
      "Iteration: 300/1373 | train_loss: 0.11456508189439774 | train_acc: 0.9453125\n",
      "Iteration: 400/1373 | train_loss: 0.11333881318569183 | train_acc: 0.9609375\n",
      "Iteration: 500/1373 | train_loss: 0.04606478661298752 | train_acc: 0.9765625\n",
      "Iteration: 600/1373 | train_loss: 0.10118730366230011 | train_acc: 0.9453125\n",
      "Iteration: 700/1373 | train_loss: 0.14674855768680573 | train_acc: 0.9375\n",
      "Iteration: 800/1373 | train_loss: 0.18238061666488647 | train_acc: 0.96875\n",
      "Iteration: 900/1373 | train_loss: 0.07667554169893265 | train_acc: 0.9765625\n",
      "Iteration: 1000/1373 | train_loss: 0.14268170297145844 | train_acc: 0.9453125\n",
      "Iteration: 1100/1373 | train_loss: 0.09045038372278214 | train_acc: 0.9609375\n",
      "Iteration: 1200/1373 | train_loss: 0.12202595174312592 | train_acc: 0.9609375\n",
      "Iteration: 1300/1373 | train_loss: 0.14815859496593475 | train_acc: 0.9609375\n",
      "Epoch: 5 | train_loss 0.10384246558296945 | train_acc: 0.9638190865516663 | val_loss: 0.6578384293621153 | val_acc: 0.787729799747467\n",
      "Iteration: 0/1373 | train_loss: 0.06171516329050064 | train_acc: 0.96875\n",
      "Iteration: 100/1373 | train_loss: 0.06135109066963196 | train_acc: 0.984375\n",
      "Iteration: 200/1373 | train_loss: 0.13692276179790497 | train_acc: 0.953125\n",
      "Iteration: 300/1373 | train_loss: 0.14179012179374695 | train_acc: 0.953125\n",
      "Iteration: 400/1373 | train_loss: 0.15221139788627625 | train_acc: 0.953125\n",
      "Iteration: 500/1373 | train_loss: 0.15311218798160553 | train_acc: 0.921875\n",
      "Iteration: 600/1373 | train_loss: 0.08561044186353683 | train_acc: 0.9609375\n",
      "Iteration: 700/1373 | train_loss: 0.10932096838951111 | train_acc: 0.9375\n",
      "Iteration: 800/1373 | train_loss: 0.08066944032907486 | train_acc: 0.984375\n",
      "Iteration: 900/1373 | train_loss: 0.09775292873382568 | train_acc: 0.96875\n",
      "Iteration: 1000/1373 | train_loss: 0.04597410187125206 | train_acc: 0.984375\n",
      "Iteration: 1100/1373 | train_loss: 0.08479566127061844 | train_acc: 0.9765625\n",
      "Iteration: 1200/1373 | train_loss: 0.04905356466770172 | train_acc: 0.9765625\n",
      "Iteration: 1300/1373 | train_loss: 0.05459873750805855 | train_acc: 0.984375\n",
      "Saving model to drive/MyDrive/Classes/ece542/competition-project/experiments/models/checkpoint_norm_dropout_32_1.pth\n",
      "Epoch: 6 | train_loss 0.0986599730139307 | train_acc: 0.9655433297157288 | val_loss: 0.642733130297245 | val_acc: 0.783871054649353\n",
      "Iteration: 0/1373 | train_loss: 0.07757285982370377 | train_acc: 0.9609375\n",
      "Iteration: 100/1373 | train_loss: 0.07234368473291397 | train_acc: 0.96875\n",
      "Iteration: 200/1373 | train_loss: 0.09854597598314285 | train_acc: 0.9765625\n",
      "Iteration: 300/1373 | train_loss: 0.11379064619541168 | train_acc: 0.96875\n",
      "Iteration: 400/1373 | train_loss: 0.1010865867137909 | train_acc: 0.9765625\n",
      "Iteration: 500/1373 | train_loss: 0.10426376014947891 | train_acc: 0.9765625\n",
      "Iteration: 600/1373 | train_loss: 0.1476990431547165 | train_acc: 0.9296875\n",
      "Iteration: 700/1373 | train_loss: 0.06336390227079391 | train_acc: 0.9921875\n",
      "Iteration: 800/1373 | train_loss: 0.13433994352817535 | train_acc: 0.9765625\n",
      "Iteration: 900/1373 | train_loss: 0.04446931183338165 | train_acc: 0.984375\n",
      "Iteration: 1000/1373 | train_loss: 0.23276402056217194 | train_acc: 0.9453125\n",
      "Iteration: 1100/1373 | train_loss: 0.10321880877017975 | train_acc: 0.953125\n",
      "Iteration: 1200/1373 | train_loss: 0.12052382528781891 | train_acc: 0.9609375\n",
      "Iteration: 1300/1373 | train_loss: 0.03238784149289131 | train_acc: 1.0\n",
      "Epoch: 7 | train_loss 0.09762232571359998 | train_acc: 0.9660327434539795 | val_loss: 0.719357717000268 | val_acc: 0.7753371596336365\n",
      "Iteration: 0/1373 | train_loss: 0.11091455072164536 | train_acc: 0.9453125\n",
      "Iteration: 100/1373 | train_loss: 0.14875060319900513 | train_acc: 0.953125\n",
      "Iteration: 200/1373 | train_loss: 0.04082423448562622 | train_acc: 0.9921875\n",
      "Iteration: 300/1373 | train_loss: 0.11315683275461197 | train_acc: 0.953125\n",
      "Iteration: 400/1373 | train_loss: 0.10840441286563873 | train_acc: 0.9609375\n",
      "Iteration: 500/1373 | train_loss: 0.15283769369125366 | train_acc: 0.9609375\n",
      "Iteration: 600/1373 | train_loss: 0.08701141923666 | train_acc: 0.9765625\n",
      "Iteration: 700/1373 | train_loss: 0.08835828304290771 | train_acc: 0.9765625\n",
      "Iteration: 800/1373 | train_loss: 0.08057162165641785 | train_acc: 0.9609375\n",
      "Iteration: 900/1373 | train_loss: 0.08735198527574539 | train_acc: 0.9609375\n",
      "Iteration: 1000/1373 | train_loss: 0.08843308687210083 | train_acc: 0.96875\n",
      "Iteration: 1100/1373 | train_loss: 0.024386223405599594 | train_acc: 0.9921875\n",
      "Iteration: 1200/1373 | train_loss: 0.10217545926570892 | train_acc: 0.9609375\n",
      "Iteration: 1300/1373 | train_loss: 0.06266936659812927 | train_acc: 0.984375\n",
      "Epoch     9: reducing learning rate of group 0 to 1.2500e-04.\n",
      "Epoch: 8 | train_loss 0.08938736001018248 | train_acc: 0.9690373539924622 | val_loss: 0.7464509747624276 | val_acc: 0.7859674096107483\n",
      "Iteration: 0/1373 | train_loss: 0.1455496996641159 | train_acc: 0.9609375\n",
      "Iteration: 100/1373 | train_loss: 0.08187197148799896 | train_acc: 0.984375\n",
      "Iteration: 200/1373 | train_loss: 0.053860556334257126 | train_acc: 0.9921875\n",
      "Iteration: 300/1373 | train_loss: 0.10399480909109116 | train_acc: 0.96875\n",
      "Iteration: 400/1373 | train_loss: 0.07826012372970581 | train_acc: 0.9765625\n",
      "Iteration: 500/1373 | train_loss: 0.063492052257061 | train_acc: 0.984375\n",
      "Iteration: 600/1373 | train_loss: 0.04294827952980995 | train_acc: 0.9921875\n",
      "Iteration: 700/1373 | train_loss: 0.03834657371044159 | train_acc: 0.9921875\n",
      "Iteration: 800/1373 | train_loss: 0.06430577486753464 | train_acc: 0.96875\n",
      "Iteration: 900/1373 | train_loss: 0.042817097157239914 | train_acc: 0.9921875\n",
      "Iteration: 1000/1373 | train_loss: 0.04584011435508728 | train_acc: 0.9921875\n",
      "Iteration: 1100/1373 | train_loss: 0.07939440757036209 | train_acc: 0.9609375\n",
      "Iteration: 1200/1373 | train_loss: 0.024905133992433548 | train_acc: 1.0\n",
      "Iteration: 1300/1373 | train_loss: 0.054114244878292084 | train_acc: 0.984375\n",
      "Epoch: 9 | train_loss 0.07939747529858873 | train_acc: 0.9723436236381531 | val_loss: 0.8209788322707482 | val_acc: 0.7853737473487854\n",
      "Iteration: 0/1373 | train_loss: 0.10714782029390335 | train_acc: 0.9609375\n",
      "Iteration: 100/1373 | train_loss: 0.09368892759084702 | train_acc: 0.984375\n",
      "Iteration: 200/1373 | train_loss: 0.11055247485637665 | train_acc: 0.96875\n",
      "Iteration: 300/1373 | train_loss: 0.02896030992269516 | train_acc: 0.9921875\n",
      "Iteration: 400/1373 | train_loss: 0.06524572521448135 | train_acc: 0.9765625\n",
      "Iteration: 500/1373 | train_loss: 0.043240007013082504 | train_acc: 0.984375\n",
      "Iteration: 600/1373 | train_loss: 0.06465312093496323 | train_acc: 0.9765625\n",
      "Iteration: 700/1373 | train_loss: 0.025403423234820366 | train_acc: 0.9921875\n",
      "Iteration: 800/1373 | train_loss: 0.0369863361120224 | train_acc: 0.984375\n",
      "Iteration: 900/1373 | train_loss: 0.07625498622655869 | train_acc: 0.9765625\n",
      "Iteration: 1000/1373 | train_loss: 0.03564777970314026 | train_acc: 0.9921875\n",
      "Iteration: 1100/1373 | train_loss: 0.10606006532907486 | train_acc: 0.9765625\n",
      "Iteration: 1200/1373 | train_loss: 0.12760920822620392 | train_acc: 0.9609375\n",
      "Iteration: 1300/1373 | train_loss: 0.07819561660289764 | train_acc: 0.96875\n",
      "Epoch    11: reducing learning rate of group 0 to 6.2500e-05.\n",
      "Epoch: 10 | train_loss 0.07508457131120097 | train_acc: 0.9738402366638184 | val_loss: 0.7406214612438323 | val_acc: 0.7964306473731995\n",
      "Iteration: 0/1373 | train_loss: 0.04872281104326248 | train_acc: 0.9921875\n",
      "Iteration: 100/1373 | train_loss: 0.04494474455714226 | train_acc: 0.9921875\n",
      "Iteration: 200/1373 | train_loss: 0.043316248804330826 | train_acc: 0.9765625\n",
      "Iteration: 300/1373 | train_loss: 0.033329740166664124 | train_acc: 1.0\n",
      "Iteration: 400/1373 | train_loss: 0.05233228579163551 | train_acc: 0.984375\n",
      "Iteration: 500/1373 | train_loss: 0.026190930977463722 | train_acc: 0.9921875\n",
      "Iteration: 600/1373 | train_loss: 0.0418119914829731 | train_acc: 0.984375\n",
      "Iteration: 700/1373 | train_loss: 0.06598478555679321 | train_acc: 0.96875\n",
      "Iteration: 800/1373 | train_loss: 0.11922979354858398 | train_acc: 0.96875\n",
      "Iteration: 900/1373 | train_loss: 0.1327180564403534 | train_acc: 0.96875\n",
      "Iteration: 1000/1373 | train_loss: 0.19948752224445343 | train_acc: 0.96875\n",
      "Iteration: 1100/1373 | train_loss: 0.059978317469358444 | train_acc: 0.9921875\n",
      "Iteration: 1200/1373 | train_loss: 0.029454441741108894 | train_acc: 0.9921875\n",
      "Iteration: 1300/1373 | train_loss: 0.06679968535900116 | train_acc: 0.96875\n",
      "Epoch: 11 | train_loss 0.07078427825400187 | train_acc: 0.975649893283844 | val_loss: 0.7910299002676398 | val_acc: 0.7931469678878784\n",
      "Iteration: 0/1373 | train_loss: 0.12642058730125427 | train_acc: 0.96875\n",
      "Iteration: 100/1373 | train_loss: 0.05204690620303154 | train_acc: 0.984375\n",
      "Iteration: 200/1373 | train_loss: 0.10622602701187134 | train_acc: 0.96875\n",
      "Iteration: 300/1373 | train_loss: 0.0444069430232048 | train_acc: 0.984375\n",
      "Iteration: 400/1373 | train_loss: 0.13033004105091095 | train_acc: 0.9296875\n",
      "Iteration: 500/1373 | train_loss: 0.06164417788386345 | train_acc: 0.96875\n",
      "Iteration: 600/1373 | train_loss: 0.06838099658489227 | train_acc: 0.9765625\n",
      "Iteration: 700/1373 | train_loss: 0.06293590366840363 | train_acc: 0.9765625\n",
      "Iteration: 800/1373 | train_loss: 0.08443809300661087 | train_acc: 0.9765625\n",
      "Iteration: 900/1373 | train_loss: 0.024053001776337624 | train_acc: 1.0\n",
      "Iteration: 1000/1373 | train_loss: 0.08347208052873611 | train_acc: 0.9765625\n",
      "Iteration: 1100/1373 | train_loss: 0.13627317547798157 | train_acc: 0.953125\n",
      "Iteration: 1200/1373 | train_loss: 0.16301628947257996 | train_acc: 0.953125\n",
      "Iteration: 1300/1373 | train_loss: 0.10194789618253708 | train_acc: 0.953125\n",
      "Epoch    13: reducing learning rate of group 0 to 3.1250e-05.\n",
      "Epoch: 12 | train_loss 0.06946902352304751 | train_acc: 0.9766400456428528 | val_loss: 0.812089475125012 | val_acc: 0.7877854704856873\n",
      "Iteration: 0/1373 | train_loss: 0.041009996086359024 | train_acc: 0.9921875\n",
      "Iteration: 100/1373 | train_loss: 0.048904068768024445 | train_acc: 0.984375\n",
      "Iteration: 200/1373 | train_loss: 0.041724417358636856 | train_acc: 0.984375\n",
      "Iteration: 300/1373 | train_loss: 0.07858370244503021 | train_acc: 0.9765625\n",
      "Iteration: 400/1373 | train_loss: 0.08368577808141708 | train_acc: 0.96875\n",
      "Iteration: 500/1373 | train_loss: 0.05768376961350441 | train_acc: 0.9765625\n",
      "Iteration: 600/1373 | train_loss: 0.03952490910887718 | train_acc: 0.9921875\n",
      "Iteration: 700/1373 | train_loss: 0.09685026109218597 | train_acc: 0.9765625\n",
      "Iteration: 800/1373 | train_loss: 0.04610667750239372 | train_acc: 0.984375\n",
      "Iteration: 900/1373 | train_loss: 0.04967433586716652 | train_acc: 0.984375\n",
      "Iteration: 1000/1373 | train_loss: 0.046089962124824524 | train_acc: 0.9765625\n",
      "Iteration: 1100/1373 | train_loss: 0.04750233516097069 | train_acc: 0.984375\n",
      "Iteration: 1200/1373 | train_loss: 0.07156182825565338 | train_acc: 0.984375\n",
      "Iteration: 1300/1373 | train_loss: 0.03172706440091133 | train_acc: 0.984375\n",
      "Epoch: 13 | train_loss 0.06484041024153105 | train_acc: 0.978239119052887 | val_loss: 0.778762793530118 | val_acc: 0.7914401888847351\n",
      "Iteration: 0/1373 | train_loss: 0.07206954061985016 | train_acc: 0.96875\n",
      "Iteration: 100/1373 | train_loss: 0.03794644773006439 | train_acc: 0.984375\n",
      "Iteration: 200/1373 | train_loss: 0.0864911749958992 | train_acc: 0.96875\n",
      "Iteration: 300/1373 | train_loss: 0.0516299232840538 | train_acc: 0.9921875\n",
      "Iteration: 400/1373 | train_loss: 0.08163265883922577 | train_acc: 0.9609375\n",
      "Iteration: 500/1373 | train_loss: 0.047127995640039444 | train_acc: 0.984375\n",
      "Iteration: 600/1373 | train_loss: 0.025523411110043526 | train_acc: 1.0\n",
      "Iteration: 700/1373 | train_loss: 0.06461445987224579 | train_acc: 0.9765625\n",
      "Iteration: 800/1373 | train_loss: 0.11079035699367523 | train_acc: 0.9765625\n",
      "Iteration: 900/1373 | train_loss: 0.09275921434164047 | train_acc: 0.9609375\n",
      "Iteration: 1000/1373 | train_loss: 0.0249556303024292 | train_acc: 0.9921875\n",
      "Iteration: 1100/1373 | train_loss: 0.05961795523762703 | train_acc: 0.984375\n",
      "Iteration: 1200/1373 | train_loss: 0.026763733476400375 | train_acc: 0.984375\n",
      "Iteration: 1300/1373 | train_loss: 0.06616324931383133 | train_acc: 0.9921875\n",
      "Epoch    15: reducing learning rate of group 0 to 1.5625e-05.\n",
      "Epoch: 14 | train_loss 0.06464789676700722 | train_acc: 0.9779090285301208 | val_loss: 0.8063958105316804 | val_acc: 0.8001224398612976\n",
      "Iteration: 0/1373 | train_loss: 0.05828782916069031 | train_acc: 0.9609375\n",
      "Iteration: 100/1373 | train_loss: 0.07878958433866501 | train_acc: 0.9609375\n",
      "Iteration: 200/1373 | train_loss: 0.06055525317788124 | train_acc: 0.9765625\n",
      "Iteration: 300/1373 | train_loss: 0.11007631570100784 | train_acc: 0.9765625\n",
      "Iteration: 400/1373 | train_loss: 0.033214274793863297 | train_acc: 0.9921875\n",
      "Iteration: 500/1373 | train_loss: 0.10204369574785233 | train_acc: 0.953125\n",
      "Iteration: 600/1373 | train_loss: 0.06368143856525421 | train_acc: 0.984375\n",
      "Iteration: 700/1373 | train_loss: 0.12794584035873413 | train_acc: 0.9609375\n",
      "Iteration: 800/1373 | train_loss: 0.07695229351520538 | train_acc: 0.984375\n",
      "Iteration: 900/1373 | train_loss: 0.10036937147378922 | train_acc: 0.96875\n",
      "Iteration: 1000/1373 | train_loss: 0.02875358611345291 | train_acc: 0.9921875\n",
      "Iteration: 1100/1373 | train_loss: 0.02889627031981945 | train_acc: 0.9921875\n",
      "Iteration: 1200/1373 | train_loss: 0.038895994424819946 | train_acc: 0.984375\n",
      "Iteration: 1300/1373 | train_loss: 0.08515740931034088 | train_acc: 0.96875\n",
      "Epoch: 15 | train_loss 0.061781028995371294 | train_acc: 0.9790528416633606 | val_loss: 0.8163002509537861 | val_acc: 0.7983043789863586\n",
      "Iteration: 0/1373 | train_loss: 0.06777829676866531 | train_acc: 0.984375\n",
      "Iteration: 100/1373 | train_loss: 0.033898357301950455 | train_acc: 0.9921875\n",
      "Iteration: 200/1373 | train_loss: 0.05405368655920029 | train_acc: 0.9921875\n",
      "Iteration: 300/1373 | train_loss: 0.09810874611139297 | train_acc: 0.984375\n",
      "Iteration: 400/1373 | train_loss: 0.04231854900717735 | train_acc: 0.984375\n",
      "Iteration: 500/1373 | train_loss: 0.04318346083164215 | train_acc: 0.9921875\n",
      "Iteration: 600/1373 | train_loss: 0.05266951397061348 | train_acc: 0.984375\n",
      "Iteration: 700/1373 | train_loss: 0.03756827861070633 | train_acc: 0.9921875\n",
      "Iteration: 800/1373 | train_loss: 0.05186321958899498 | train_acc: 0.984375\n",
      "Iteration: 900/1373 | train_loss: 0.03788251057267189 | train_acc: 0.9921875\n",
      "Iteration: 1000/1373 | train_loss: 0.02183636650443077 | train_acc: 1.0\n",
      "Iteration: 1100/1373 | train_loss: 0.04235740005970001 | train_acc: 0.984375\n",
      "Iteration: 1200/1373 | train_loss: 0.06779563426971436 | train_acc: 0.984375\n",
      "Iteration: 1300/1373 | train_loss: 0.0780571922659874 | train_acc: 0.96875\n",
      "Epoch    17: reducing learning rate of group 0 to 7.8125e-06.\n",
      "Epoch: 16 | train_loss 0.05995569722344508 | train_acc: 0.9798040390014648 | val_loss: 0.8445903754450161 | val_acc: 0.7956143617630005\n",
      "Iteration: 0/1373 | train_loss: 0.05988923832774162 | train_acc: 0.984375\n",
      "Iteration: 100/1373 | train_loss: 0.02858530916273594 | train_acc: 0.9921875\n",
      "Iteration: 200/1373 | train_loss: 0.01378345862030983 | train_acc: 1.0\n",
      "Iteration: 300/1373 | train_loss: 0.04315958917140961 | train_acc: 0.984375\n",
      "Iteration: 400/1373 | train_loss: 0.029511727392673492 | train_acc: 0.984375\n",
      "Iteration: 500/1373 | train_loss: 0.02442510984838009 | train_acc: 1.0\n",
      "Iteration: 600/1373 | train_loss: 0.020519444718956947 | train_acc: 0.9921875\n",
      "Iteration: 700/1373 | train_loss: 0.0800367221236229 | train_acc: 0.953125\n",
      "Iteration: 800/1373 | train_loss: 0.06675273180007935 | train_acc: 0.9765625\n",
      "Iteration: 900/1373 | train_loss: 0.07476884126663208 | train_acc: 0.984375\n",
      "Iteration: 1000/1373 | train_loss: 0.04498017951846123 | train_acc: 0.984375\n",
      "Iteration: 1100/1373 | train_loss: 0.12614111602306366 | train_acc: 0.9609375\n",
      "Iteration: 1200/1373 | train_loss: 0.06446678191423416 | train_acc: 0.9765625\n",
      "Iteration: 1300/1373 | train_loss: 0.10960095375776291 | train_acc: 0.96875\n",
      "Epoch: 17 | train_loss 0.06154631500514052 | train_acc: 0.9797698855400085 | val_loss: 0.8295794827956701 | val_acc: 0.7956699728965759\n",
      "Iteration: 0/1373 | train_loss: 0.02201002649962902 | train_acc: 1.0\n",
      "Iteration: 100/1373 | train_loss: 0.02910788357257843 | train_acc: 0.9921875\n",
      "Iteration: 200/1373 | train_loss: 0.032452382147312164 | train_acc: 0.9921875\n",
      "Iteration: 300/1373 | train_loss: 0.055903829634189606 | train_acc: 0.9765625\n",
      "Iteration: 400/1373 | train_loss: 0.09580916911363602 | train_acc: 0.9453125\n",
      "Iteration: 500/1373 | train_loss: 0.06669574230909348 | train_acc: 0.984375\n",
      "Iteration: 600/1373 | train_loss: 0.038243673741817474 | train_acc: 0.984375\n",
      "Iteration: 700/1373 | train_loss: 0.049093712121248245 | train_acc: 0.9765625\n",
      "Iteration: 800/1373 | train_loss: 0.08970925211906433 | train_acc: 0.9609375\n",
      "Iteration: 900/1373 | train_loss: 0.04838285595178604 | train_acc: 0.96875\n",
      "Iteration: 1000/1373 | train_loss: 0.019396768882870674 | train_acc: 1.0\n",
      "Iteration: 1100/1373 | train_loss: 0.03200680762529373 | train_acc: 0.9921875\n",
      "Iteration: 1200/1373 | train_loss: 0.01940416730940342 | train_acc: 1.0\n",
      "Iteration: 1300/1373 | train_loss: 0.03260630741715431 | train_acc: 0.9921875\n",
      "Epoch    19: reducing learning rate of group 0 to 3.9063e-06.\n",
      "Epoch: 18 | train_loss 0.058991762513090795 | train_acc: 0.9801852703094482 | val_loss: 0.8350914470729648 | val_acc: 0.7952433228492737\n",
      "Iteration: 0/1373 | train_loss: 0.0306086465716362 | train_acc: 0.9921875\n",
      "Iteration: 100/1373 | train_loss: 0.08066146075725555 | train_acc: 0.96875\n",
      "Iteration: 200/1373 | train_loss: 0.07742536067962646 | train_acc: 0.9609375\n",
      "Iteration: 300/1373 | train_loss: 0.05415757745504379 | train_acc: 0.984375\n",
      "Iteration: 400/1373 | train_loss: 0.04515289515256882 | train_acc: 0.9765625\n",
      "Iteration: 500/1373 | train_loss: 0.04453696310520172 | train_acc: 0.9921875\n",
      "Iteration: 600/1373 | train_loss: 0.027561353519558907 | train_acc: 0.9921875\n",
      "Iteration: 700/1373 | train_loss: 0.013151553459465504 | train_acc: 1.0\n",
      "Iteration: 800/1373 | train_loss: 0.11778011173009872 | train_acc: 0.96875\n",
      "Iteration: 900/1373 | train_loss: 0.06929934769868851 | train_acc: 0.96875\n",
      "Iteration: 1000/1373 | train_loss: 0.028147825971245766 | train_acc: 0.9921875\n",
      "Iteration: 1100/1373 | train_loss: 0.11313934624195099 | train_acc: 0.96875\n",
      "Iteration: 1200/1373 | train_loss: 0.09460705518722534 | train_acc: 0.953125\n",
      "Iteration: 1300/1373 | train_loss: 0.13667257130146027 | train_acc: 0.9453125\n",
      "Epoch: 19 | train_loss 0.05968056136317742 | train_acc: 0.9803275465965271 | val_loss: 0.8282891758051798 | val_acc: 0.7934808731079102\n"
     ]
    }
   ],
   "source": [
    "best_val_loss = float(\"inf\")\n",
    "\n",
    "for epoch in range(num_epochs):\n",
    "    # Train for \"n\" number of iterations\n",
    "    running_loss = 0.\n",
    "    running_acc = 0.\n",
    "    for iteration, (X, y) in enumerate(train_dataloader):\n",
    "\n",
    "        X = X.float().to(device)\n",
    "        # Normalize\n",
    "        X = (X - min) / (max - min)\n",
    "\n",
    "        y = y.view(X.size(0)).to(device)\n",
    "\n",
    "        loss, corrects = train_step(X, y, model, optimizer, criterion)\n",
    "\n",
    "        # Running metrics\n",
    "        running_loss = running_loss + loss * X.size(0)\n",
    "        running_acc = running_acc + corrects\n",
    "\n",
    "        if iteration % 100 == 0:\n",
    "            print(f\"Iteration: {iteration}/{train_iterations} | train_loss: {loss} | train_acc: {corrects/X.size(0)}\")\n",
    "\n",
    "    train_loss = running_loss / len(train_dataset)\n",
    "    train_acc = running_acc / len(train_dataset)\n",
    "\n",
    "    # Validate\n",
    "    running_val_loss = 0.\n",
    "    running_val_acc = 0.\n",
    "    for step, (X, y) in enumerate(val_dataloader):\n",
    "\n",
    "        X = X.float().to(device)\n",
    "        X = (X - min) / (max - min)\n",
    "\n",
    "        y = y.view(X.size(0)).to(device)\n",
    "\n",
    "        loss, corrects, predicted_classes = val_step(X, y, model, criterion)\n",
    "        # Running metrics\n",
    "        running_val_loss = running_val_loss + loss * X.size(0)\n",
    "        running_val_acc = running_val_acc + corrects\n",
    "\n",
    "    val_loss = running_val_loss / len(val_dataset)\n",
    "    val_acc = running_val_acc / len(val_dataset)\n",
    "\n",
    "    scheduler.step(val_loss)\n",
    "\n",
    "    if val_loss < best_val_loss:\n",
    "        # Checkpoint model\n",
    "        path = os.path.join(base_path, \"experiments\", \"models\", \"checkpoint_norm_dropout_32_1.pth\")\n",
    "        print(f\"Saving model to {path}\")\n",
    "        torch.save(model.state_dict(), path)\n",
    "        best_val_loss = val_loss\n",
    "\n",
    "    print(f\"Epoch: {epoch} | train_loss {train_loss} | train_acc: {train_acc} | val_loss: {val_loss} | val_acc: {val_acc}\")"
   ]
  },
  {
   "cell_type": "code",
   "execution_count": 24,
   "metadata": {
    "colab": {
     "base_uri": "https://localhost:8080/"
    },
    "executionInfo": {
     "elapsed": 16,
     "status": "ok",
     "timestamp": 1636262415759,
     "user": {
      "displayName": "Chinmay Mahendra Savadikar",
      "photoUrl": "https://lh3.googleusercontent.com/a/default-user=s64",
      "userId": "11610851333453948182"
     },
     "user_tz": 240
    },
    "id": "x9_ZITbCybTq",
    "outputId": "b0488e29-bd12-4de8-c547-2c1c9b239d5d"
   },
   "outputs": [
    {
     "data": {
      "text/plain": [
       "array([0])"
      ]
     },
     "execution_count": 24,
     "metadata": {},
     "output_type": "execute_result"
    }
   ],
   "source": [
    "np.array([train_dataset.y[0]])"
   ]
  },
  {
   "cell_type": "code",
   "execution_count": 37,
   "metadata": {
    "executionInfo": {
     "elapsed": 175,
     "status": "ok",
     "timestamp": 1636262457802,
     "user": {
      "displayName": "Chinmay Mahendra Savadikar",
      "photoUrl": "https://lh3.googleusercontent.com/a/default-user=s64",
      "userId": "11610851333453948182"
     },
     "user_tz": 240
    },
    "id": "X7g8J7WadLvm"
   },
   "outputs": [],
   "source": [
    "best_model = OneDConvNet(6, 4)\n",
    "best_model.load_state_dict(torch.load(os.path.join(base_path, \"experiments\", \"models\", \"checkpoint_norm_dropout_32_1_long.pth\")))\n",
    "best_model = best_model.to(device)"
   ]
  },
  {
   "cell_type": "code",
   "execution_count": 38,
   "metadata": {
    "executionInfo": {
     "elapsed": 154,
     "status": "ok",
     "timestamp": 1636262459304,
     "user": {
      "displayName": "Chinmay Mahendra Savadikar",
      "photoUrl": "https://lh3.googleusercontent.com/a/default-user=s64",
      "userId": "11610851333453948182"
     },
     "user_tz": 240
    },
    "id": "pK-nLeloml-n"
   },
   "outputs": [],
   "source": [
    "from sklearn.metrics import accuracy_score, precision_score, recall_score, f1_score\n",
    "\n",
    "class Evaluation:\n",
    "\n",
    "  def __init__(self):\n",
    "        pass\n",
    "  \n",
    "  def aggregate_metrics(self, y, y_hat):\n",
    "    \n",
    "    \"\"\" Metrics for entire set \n",
    "        \n",
    "        Arguments passed are: \n",
    "                      y     : ground truth  \n",
    "                      y_hat : predicted class\n",
    "        Calculations:\n",
    "                  accuracy  : (tp + tn) / (total samples =(p + n))\n",
    "                  precision : tp / (tp + fp)\n",
    "                  recall    : tp / (tp + fn)\n",
    "                  f1        : 2 tp / (2 tp + fp + fn)\n",
    "    \"\"\"\n",
    "    accuracy  = accuracy_score(y, y_hat)\n",
    "    precision = precision_score(y, y_hat, average=\"macro\")\n",
    "    recall    = recall_score(y, y_hat, average=\"macro\")\n",
    "    f1        = f1_score(y, y_hat, average=\"macro\")\n",
    "    return {\n",
    "        \"Accuracy\": accuracy,\n",
    "        \"Precision\": precision,\n",
    "        \"Recall\": recall,\n",
    "        \"F1\": f1\n",
    "        }\n",
    "\n",
    "  def classwise_metrics(self, y, y_hat):\n",
    "\n",
    "    \"\"\" Metrics for each class. \n",
    "        Average is set to macro for calculating the score of each label, and find their unweighted mean. \n",
    "        This does not take label imbalance into account.\n",
    "        \n",
    "        Arguments passed are: \n",
    "                      y     : ground truth  \n",
    "                      y_hat : predicted class\n",
    "        Calculations:\n",
    "                  accuracy  : (tp + tn) / (total samples =(p + n))\n",
    "                  precision : tp / (tp + fp)\n",
    "                  recall    : tp / (tp + fn)\n",
    "                  f1        : 2 tp / (2 tp + fp + fn)\n",
    "    \"\"\"\n",
    "    \n",
    "    class_precision = precision_score(y, y_hat, average=None)\n",
    "    class_recall    = recall_score(y, y_hat, average=None)\n",
    "    class_f1        = f1_score(y, y_hat, average=None)\n",
    "    \n",
    "    return {\n",
    "        \"Precision\": class_precision,\n",
    "        \"Recall\": class_recall,\n",
    "        \"F1\": class_f1\n",
    "    }"
   ]
  },
  {
   "cell_type": "code",
   "execution_count": 39,
   "metadata": {
    "executionInfo": {
     "elapsed": 3,
     "status": "ok",
     "timestamp": 1636262459917,
     "user": {
      "displayName": "Chinmay Mahendra Savadikar",
      "photoUrl": "https://lh3.googleusercontent.com/a/default-user=s64",
      "userId": "11610851333453948182"
     },
     "user_tz": 240
    },
    "id": "MvN9WtxwznFw"
   },
   "outputs": [],
   "source": [
    "evaluator = Evaluation()"
   ]
  },
  {
   "cell_type": "code",
   "execution_count": 40,
   "metadata": {
    "colab": {
     "base_uri": "https://localhost:8080/"
    },
    "executionInfo": {
     "elapsed": 2145,
     "status": "ok",
     "timestamp": 1636262462730,
     "user": {
      "displayName": "Chinmay Mahendra Savadikar",
      "photoUrl": "https://lh3.googleusercontent.com/a/default-user=s64",
      "userId": "11610851333453948182"
     },
     "user_tz": 240
    },
    "id": "bYbdv_EDml8M",
    "outputId": "81b33862-3934-4098-f38d-8f27c464b03d"
   },
   "outputs": [
    {
     "name": "stdout",
     "output_type": "stream",
     "text": [
      "Converting uid 001_08\n",
      "Converting uid 002_01\n",
      "Converting uid 001_01\n",
      "Converting uid 001_04\n"
     ]
    }
   ],
   "source": [
    "val_dataset = SubjectDataset(\n",
    "    val_data_path, \n",
    "    split_ids[\"val\"]\n",
    ")\n",
    "val_dataloader = DataLoader(val_dataset, batch_size=batch_size, shuffle=False)\n",
    "val_iterations = (len(val_dataset) // batch_size) + ((len(val_dataset) % batch_size) != 0)"
   ]
  },
  {
   "cell_type": "code",
   "execution_count": 41,
   "metadata": {
    "executionInfo": {
     "elapsed": 3608,
     "status": "ok",
     "timestamp": 1636262466326,
     "user": {
      "displayName": "Chinmay Mahendra Savadikar",
      "photoUrl": "https://lh3.googleusercontent.com/a/default-user=s64",
      "userId": "11610851333453948182"
     },
     "user_tz": 240
    },
    "id": "5qvZJ2dCxb-H"
   },
   "outputs": [],
   "source": [
    "output = []\n",
    "labels = []\n",
    "for X, y in val_dataloader:\n",
    "    X = X.float().to(device)\n",
    "    X = (X - min) / (max - min)\n",
    "    \n",
    "    y = y.view(X.size(0)).to(device)\n",
    "\n",
    "    y_pred = best_model(X)\n",
    "    predicted_classes = torch.argmax(y_pred, dim=1).detach().cpu().numpy()\n",
    "    y_true = y.cpu().numpy()\n",
    "\n",
    "    output.append(predicted_classes)\n",
    "    labels.append(y_true)"
   ]
  },
  {
   "cell_type": "code",
   "execution_count": 42,
   "metadata": {
    "executionInfo": {
     "elapsed": 12,
     "status": "ok",
     "timestamp": 1636262466327,
     "user": {
      "displayName": "Chinmay Mahendra Savadikar",
      "photoUrl": "https://lh3.googleusercontent.com/a/default-user=s64",
      "userId": "11610851333453948182"
     },
     "user_tz": 240
    },
    "id": "I8p4RTYs0CuR"
   },
   "outputs": [],
   "source": [
    "_output = np.concatenate(output, axis=0)\n",
    "_labels = np.concatenate(labels, axis=0)"
   ]
  },
  {
   "cell_type": "code",
   "execution_count": 43,
   "metadata": {
    "colab": {
     "base_uri": "https://localhost:8080/"
    },
    "executionInfo": {
     "elapsed": 12,
     "status": "ok",
     "timestamp": 1636262466328,
     "user": {
      "displayName": "Chinmay Mahendra Savadikar",
      "photoUrl": "https://lh3.googleusercontent.com/a/default-user=s64",
      "userId": "11610851333453948182"
     },
     "user_tz": 240
    },
    "id": "EI4HBWhS0Gao",
    "outputId": "00c42d24-ed60-4dc7-f744-2482116c8188"
   },
   "outputs": [
    {
     "name": "stdout",
     "output_type": "stream",
     "text": [
      "Agg metrics\n",
      "{'Accuracy': 0.7935736415412872, 'Precision': 0.7572802478417985, 'Recall': 0.7754044112161469, 'F1': 0.7569545081415515}\n",
      "Classwise Metrics\n",
      "{'Precision': array([0.82194655, 0.86334781, 0.6137412 , 0.73008543]), 'Recall': array([0.88291638, 0.87622923, 0.83349819, 0.50897384]), 'F1': array([0.85134126, 0.86974083, 0.70693512, 0.59980083])}\n"
     ]
    }
   ],
   "source": [
    "agg_metrics = evaluator.aggregate_metrics(_labels, _output)\n",
    "print(\"Agg metrics\")\n",
    "print(agg_metrics)\n",
    "classwise_metrics = evaluator.classwise_metrics(_labels, _output)\n",
    "print(\"Classwise Metrics\")\n",
    "print(classwise_metrics)"
   ]
  },
  {
   "cell_type": "code",
   "execution_count": 44,
   "metadata": {
    "colab": {
     "base_uri": "https://localhost:8080/"
    },
    "executionInfo": {
     "elapsed": 3820,
     "status": "ok",
     "timestamp": 1636262470139,
     "user": {
      "displayName": "Chinmay Mahendra Savadikar",
      "photoUrl": "https://lh3.googleusercontent.com/a/default-user=s64",
      "userId": "11610851333453948182"
     },
     "user_tz": 240
    },
    "id": "UosykPCA0GX_",
    "outputId": "c8eb5c5c-0226-44b4-af2e-c19dd975fc76"
   },
   "outputs": [
    {
     "name": "stdout",
     "output_type": "stream",
     "text": [
      "Converting uid 005_03\n",
      "Converting uid 006_01\n",
      "Converting uid 006_02\n",
      "Converting uid 006_03\n",
      "Converting uid 007_01\n",
      "Converting uid 007_02\n",
      "Converting uid 007_03\n",
      "Converting uid 007_04\n",
      "Converting uid 008_01\n"
     ]
    }
   ],
   "source": [
    "test_data_path = os.path.join(base_data_path, \"test\")\n",
    "test_dataset = SubjectDataset(\n",
    "    test_data_path, \n",
    "    split_ids[\"test\"]\n",
    ")\n",
    "test_dataloader = DataLoader(test_dataset, batch_size=batch_size, shuffle=False)\n",
    "test_iterations = (len(test_dataset) // batch_size) + ((len(test_dataset) % batch_size) != 0)"
   ]
  },
  {
   "cell_type": "code",
   "execution_count": 45,
   "metadata": {
    "executionInfo": {
     "elapsed": 6813,
     "status": "ok",
     "timestamp": 1636262476942,
     "user": {
      "displayName": "Chinmay Mahendra Savadikar",
      "photoUrl": "https://lh3.googleusercontent.com/a/default-user=s64",
      "userId": "11610851333453948182"
     },
     "user_tz": 240
    },
    "id": "GV5m259v4D5L"
   },
   "outputs": [],
   "source": [
    "output = []\n",
    "labels = []\n",
    "for X, y in test_dataloader:\n",
    "    X = X.float().to(device)\n",
    "    X = (X - min) / (max - min)\n",
    "    \n",
    "    y = y.view(X.size(0)).to(device)\n",
    "\n",
    "    y_pred = best_model(X)\n",
    "    predicted_classes = torch.argmax(y_pred, dim=1).detach().cpu().numpy()\n",
    "    y_true = y.cpu().numpy()\n",
    "\n",
    "    output.append(predicted_classes)\n",
    "    labels.append(y_true)"
   ]
  },
  {
   "cell_type": "code",
   "execution_count": 46,
   "metadata": {
    "executionInfo": {
     "elapsed": 25,
     "status": "ok",
     "timestamp": 1636262476943,
     "user": {
      "displayName": "Chinmay Mahendra Savadikar",
      "photoUrl": "https://lh3.googleusercontent.com/a/default-user=s64",
      "userId": "11610851333453948182"
     },
     "user_tz": 240
    },
    "id": "cDB40FUf4TY8"
   },
   "outputs": [],
   "source": [
    "_output = np.concatenate(output, axis=0)\n",
    "_labels = np.concatenate(labels, axis=0)"
   ]
  },
  {
   "cell_type": "code",
   "execution_count": 47,
   "metadata": {
    "colab": {
     "base_uri": "https://localhost:8080/"
    },
    "executionInfo": {
     "elapsed": 199,
     "status": "ok",
     "timestamp": 1636262477120,
     "user": {
      "displayName": "Chinmay Mahendra Savadikar",
      "photoUrl": "https://lh3.googleusercontent.com/a/default-user=s64",
      "userId": "11610851333453948182"
     },
     "user_tz": 240
    },
    "id": "GtmDpRBH4XDQ",
    "outputId": "6a6675b8-74d0-4391-dd40-5a301e133a40"
   },
   "outputs": [
    {
     "name": "stdout",
     "output_type": "stream",
     "text": [
      "Agg metrics\n",
      "{'Accuracy': 0.8664706660868579, 'Precision': 0.8135768235839757, 'Recall': 0.8872882322514344, 'F1': 0.8451851824617107}\n",
      "Classwise Metrics\n",
      "{'Precision': array([0.95271615, 0.80148106, 0.90740741, 0.59270268]), 'Recall': array([0.8735695 , 0.90569681, 0.97350993, 0.79637669]), 'F1': array([0.91142781, 0.85040798, 0.93929712, 0.67960781])}\n"
     ]
    }
   ],
   "source": [
    "agg_metrics = evaluator.aggregate_metrics(_labels, _output)\n",
    "print(\"Agg metrics\")\n",
    "print(agg_metrics)\n",
    "classwise_metrics = evaluator.classwise_metrics(_labels, _output)\n",
    "print(\"Classwise Metrics\")\n",
    "print(classwise_metrics)"
   ]
  },
  {
   "cell_type": "code",
   "execution_count": 48,
   "metadata": {
    "colab": {
     "base_uri": "https://localhost:8080/"
    },
    "executionInfo": {
     "elapsed": 4,
     "status": "ok",
     "timestamp": 1636262477120,
     "user": {
      "displayName": "Chinmay Mahendra Savadikar",
      "photoUrl": "https://lh3.googleusercontent.com/a/default-user=s64",
      "userId": "11610851333453948182"
     },
     "user_tz": 240
    },
    "id": "xMx7IIGjpyNZ",
    "outputId": "5b89c3f5-e2e0-45e5-9fed-103c63e6fbf1"
   },
   "outputs": [
    {
     "name": "stdout",
     "output_type": "stream",
     "text": [
      "Saving model to drive/MyDrive/Classes/ece542/competition-project/experiments/models/checkpoint_norm_dropout_32_1_long.pth\n"
     ]
    }
   ],
   "source": [
    "path = os.path.join(base_path, \"experiments\", \"models\", \"checkpoint_norm_dropout_32_1_long.pth\")\n",
    "print(f\"Saving model to {path}\")\n",
    "torch.save(model.state_dict(), path)"
   ]
  },
  {
   "cell_type": "code",
   "execution_count": null,
   "metadata": {
    "id": "gZISb6yI1ewr"
   },
   "outputs": [],
   "source": []
  }
 ],
 "metadata": {
  "colab": {
   "authorship_tag": "ABX9TyPObH7Fcy/aIbmxSUYo3UyY",
   "collapsed_sections": [],
   "mount_file_id": "1LAQnpQd3ijdV1U3vVYm9cIdSbaQe9g9G",
   "name": "current-conv-plus-normalization.ipynb",
   "provenance": []
  },
  "kernelspec": {
   "display_name": "Python 3 (ipykernel)",
   "language": "python",
   "name": "python3"
  },
  "language_info": {
   "codemirror_mode": {
    "name": "ipython",
    "version": 3
   },
   "file_extension": ".py",
   "mimetype": "text/x-python",
   "name": "python",
   "nbconvert_exporter": "python",
   "pygments_lexer": "ipython3",
   "version": "3.9.5"
  }
 },
 "nbformat": 4,
 "nbformat_minor": 1
}
