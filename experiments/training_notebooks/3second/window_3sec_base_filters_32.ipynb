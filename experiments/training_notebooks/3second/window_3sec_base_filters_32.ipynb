{
 "cells": [
  {
   "cell_type": "code",
   "execution_count": null,
   "metadata": {
    "colab": {
     "base_uri": "https://localhost:8080/"
    },
    "executionInfo": {
     "elapsed": 21364,
     "status": "ok",
     "timestamp": 1636925106930,
     "user": {
      "displayName": "Chinmay Mahendra Savadikar",
      "photoUrl": "https://lh3.googleusercontent.com/a/default-user=s64",
      "userId": "11610851333453948182"
     },
     "user_tz": 300
    },
    "id": "2u3C_J350tqt",
    "outputId": "47312753-a1fb-488e-af79-66315ec31da9"
   },
   "outputs": [
    {
     "name": "stdout",
     "output_type": "stream",
     "text": [
      "Mounted at /content/drive\n"
     ]
    }
   ],
   "source": [
    "from google.colab import drive\n",
    "drive.mount('/content/drive')"
   ]
  },
  {
   "cell_type": "code",
   "execution_count": null,
   "metadata": {
    "colab": {
     "base_uri": "https://localhost:8080/"
    },
    "executionInfo": {
     "elapsed": 721,
     "status": "ok",
     "timestamp": 1636925112345,
     "user": {
      "displayName": "Chinmay Mahendra Savadikar",
      "photoUrl": "https://lh3.googleusercontent.com/a/default-user=s64",
      "userId": "11610851333453948182"
     },
     "user_tz": 300
    },
    "id": "prIF1sjM-c3i",
    "outputId": "b238fa54-e6a1-4d91-cc90-7d4c29cd6035"
   },
   "outputs": [
    {
     "name": "stdout",
     "output_type": "stream",
     "text": [
      " 2_conv-plus-normalization.ipynb\n",
      " attempt-1.ipynb\n",
      " Best\n",
      " best-conv-plus-normalization.ipynb\n",
      " Best_Models\n",
      "'Copy of attempt-1.ipynb'\n",
      "'Copy of conv-plus-normalization.ipynb'\n",
      "'Copy of current-conv-plus-normalization.ipynb'\n",
      "'Copy of Hyoer attempt-1.ipynb'\n",
      " current-conv-plus-normalization.ipynb\n",
      " data.zip\n",
      " experiments\n",
      "'Hyoer attempt-1.ipynb'\n",
      " lstm\n",
      " ml_utils\n",
      " Prediction\n",
      " test_data.zip\n",
      " window3\n"
     ]
    }
   ],
   "source": [
    "!ls drive/MyDrive/Classes/ece542/competition-project/"
   ]
  },
  {
   "cell_type": "code",
   "execution_count": null,
   "metadata": {
    "id": "Ng-s1F7Z-xKL"
   },
   "outputs": [],
   "source": [
    "!cp drive/MyDrive/Classes/ece542/competition-project/window3/window3_data.zip ."
   ]
  },
  {
   "cell_type": "code",
   "execution_count": null,
   "metadata": {
    "colab": {
     "base_uri": "https://localhost:8080/"
    },
    "executionInfo": {
     "elapsed": 47287,
     "status": "ok",
     "timestamp": 1636925163517,
     "user": {
      "displayName": "Chinmay Mahendra Savadikar",
      "photoUrl": "https://lh3.googleusercontent.com/a/default-user=s64",
      "userId": "11610851333453948182"
     },
     "user_tz": 300
    },
    "id": "8wUZq7ty_AZO",
    "outputId": "71e476c4-d629-4c30-d4f8-613265f6f255"
   },
   "outputs": [
    {
     "name": "stdout",
     "output_type": "stream",
     "text": [
      "Archive:  window3_data.zip\n",
      "   creating: window3_splits/test/\n",
      "  inflating: window3_splits/test/subject_005_session_03__x.csv  \n",
      "  inflating: window3_splits/test/subject_005_session_03__y.csv  \n",
      "  inflating: window3_splits/test/subject_006_session_01__x.csv  \n",
      "  inflating: window3_splits/test/subject_006_session_01__y.csv  \n",
      "  inflating: window3_splits/test/subject_006_session_02__x.csv  \n",
      "  inflating: window3_splits/test/subject_006_session_02__y.csv  \n",
      "  inflating: window3_splits/test/subject_006_session_03__x.csv  \n",
      "  inflating: window3_splits/test/subject_006_session_03__y.csv  \n",
      "  inflating: window3_splits/test/subject_007_session_01__x.csv  \n",
      "  inflating: window3_splits/test/subject_007_session_01__y.csv  \n",
      "  inflating: window3_splits/test/subject_007_session_02__x.csv  \n",
      "  inflating: window3_splits/test/subject_007_session_02__y.csv  \n",
      "  inflating: window3_splits/test/subject_007_session_03__x.csv  \n",
      "  inflating: window3_splits/test/subject_007_session_03__y.csv  \n",
      "  inflating: window3_splits/test/subject_007_session_04__x.csv  \n",
      "  inflating: window3_splits/test/subject_007_session_04__y.csv  \n",
      "  inflating: window3_splits/test/subject_008_session_01__x.csv  \n",
      "  inflating: window3_splits/test/subject_008_session_01__y.csv  \n",
      "   creating: window3_splits/train/\n",
      "  inflating: window3_splits/train/subject_001_session_02__x.csv  \n",
      "  inflating: window3_splits/train/subject_001_session_02__y.csv  \n",
      "  inflating: window3_splits/train/subject_001_session_03__x.csv  \n",
      "  inflating: window3_splits/train/subject_001_session_03__y.csv  \n",
      "  inflating: window3_splits/train/subject_001_session_05__x.csv  \n",
      "  inflating: window3_splits/train/subject_001_session_05__y.csv  \n",
      "  inflating: window3_splits/train/subject_001_session_06__x.csv  \n",
      "  inflating: window3_splits/train/subject_001_session_06__y.csv  \n",
      "  inflating: window3_splits/train/subject_001_session_07__x.csv  \n",
      "  inflating: window3_splits/train/subject_001_session_07__y.csv  \n",
      "  inflating: window3_splits/train/subject_002_session_02__x.csv  \n",
      "  inflating: window3_splits/train/subject_002_session_02__y.csv  \n",
      "  inflating: window3_splits/train/subject_002_session_03__x.csv  \n",
      "  inflating: window3_splits/train/subject_002_session_03__y.csv  \n",
      "  inflating: window3_splits/train/subject_002_session_04__x.csv  \n",
      "  inflating: window3_splits/train/subject_002_session_04__y.csv  \n",
      "  inflating: window3_splits/train/subject_002_session_05__x.csv  \n",
      "  inflating: window3_splits/train/subject_002_session_05__y.csv  \n",
      "  inflating: window3_splits/train/subject_003_session_01__x.csv  \n",
      "  inflating: window3_splits/train/subject_003_session_01__y.csv  \n",
      "  inflating: window3_splits/train/subject_003_session_02__x.csv  \n",
      "  inflating: window3_splits/train/subject_003_session_02__y.csv  \n",
      "  inflating: window3_splits/train/subject_003_session_03__x.csv  \n",
      "  inflating: window3_splits/train/subject_003_session_03__y.csv  \n",
      "  inflating: window3_splits/train/subject_004_session_01__x.csv  \n",
      "  inflating: window3_splits/train/subject_004_session_01__y.csv  \n",
      "  inflating: window3_splits/train/subject_004_session_02__x.csv  \n",
      "  inflating: window3_splits/train/subject_004_session_02__y.csv  \n",
      "  inflating: window3_splits/train/subject_005_session_01__x.csv  \n",
      "  inflating: window3_splits/train/subject_005_session_01__y.csv  \n",
      "  inflating: window3_splits/train/subject_005_session_02__x.csv  \n",
      "  inflating: window3_splits/train/subject_005_session_02__y.csv  \n",
      "   creating: window3_splits/val/\n",
      "  inflating: window3_splits/val/subject_001_session_01__x.csv  \n",
      "  inflating: window3_splits/val/subject_001_session_01__y.csv  \n",
      "  inflating: window3_splits/val/subject_001_session_04__x.csv  \n",
      "  inflating: window3_splits/val/subject_001_session_04__y.csv  \n",
      "  inflating: window3_splits/val/subject_001_session_08__x.csv  \n",
      "  inflating: window3_splits/val/subject_001_session_08__y.csv  \n",
      "  inflating: window3_splits/val/subject_002_session_01__x.csv  \n",
      "  inflating: window3_splits/val/subject_002_session_01__y.csv  \n"
     ]
    }
   ],
   "source": [
    "!unzip window3_data.zip"
   ]
  },
  {
   "cell_type": "code",
   "execution_count": null,
   "metadata": {
    "id": "1ZeuQxwE_NzP"
   },
   "outputs": [],
   "source": [
    "!rm window3_data.zip"
   ]
  },
  {
   "cell_type": "code",
   "execution_count": null,
   "metadata": {
    "colab": {
     "base_uri": "https://localhost:8080/"
    },
    "executionInfo": {
     "elapsed": 4510,
     "status": "ok",
     "timestamp": 1636925167982,
     "user": {
      "displayName": "Chinmay Mahendra Savadikar",
      "photoUrl": "https://lh3.googleusercontent.com/a/default-user=s64",
      "userId": "11610851333453948182"
     },
     "user_tz": 300
    },
    "id": "sjjVhlkupOBO",
    "outputId": "710b14e8-e908-4b10-89f0-2c1bdb59e7cb"
   },
   "outputs": [
    {
     "name": "stdout",
     "output_type": "stream",
     "text": [
      "Cloning into 'ece542-competition-project'...\n",
      "remote: Enumerating objects: 238, done.\u001b[K\n",
      "remote: Counting objects: 100% (238/238), done.\u001b[K\n",
      "remote: Compressing objects: 100% (168/168), done.\u001b[K\n",
      "remote: Total 238 (delta 128), reused 158 (delta 60), pack-reused 0\u001b[K\n",
      "Receiving objects: 100% (238/238), 275.09 KiB | 7.24 MiB/s, done.\n",
      "Resolving deltas: 100% (128/128), done.\n"
     ]
    }
   ],
   "source": [
    "# Access token redacted. Replace <ACCESS_TOKEN> with your access token.\n",
    "!git clone https://savadikarc:<ACCESS_TOKEN>@github.com/savadikarc/ece542-competition-project.git"
   ]
  },
  {
   "cell_type": "code",
   "execution_count": null,
   "metadata": {
    "colab": {
     "base_uri": "https://localhost:8080/"
    },
    "executionInfo": {
     "elapsed": 220,
     "status": "ok",
     "timestamp": 1636925168161,
     "user": {
      "displayName": "Chinmay Mahendra Savadikar",
      "photoUrl": "https://lh3.googleusercontent.com/a/default-user=s64",
      "userId": "11610851333453948182"
     },
     "user_tz": 300
    },
    "id": "Y8yURtFRqGkj",
    "outputId": "7c405eb3-5658-4275-f6d3-0d7013b2e34e"
   },
   "outputs": [
    {
     "name": "stdout",
     "output_type": "stream",
     "text": [
      "Already on 'phase-1'\n",
      "Your branch is up to date with 'origin/phase-1'.\n",
      "From https://github.com/savadikarc/ece542-competition-project\n",
      " * branch            phase-1    -> FETCH_HEAD\n",
      "Already up to date.\n"
     ]
    }
   ],
   "source": [
    "!cd ece542-competition-project && git checkout phase-1 && git pull origin phase-1"
   ]
  },
  {
   "cell_type": "code",
   "execution_count": null,
   "metadata": {
    "id": "DJlBSAfPnuG_"
   },
   "outputs": [],
   "source": [
    "base_path = \"drive/MyDrive/Classes/ece542/competition-project\""
   ]
  },
  {
   "cell_type": "code",
   "execution_count": null,
   "metadata": {
    "id": "8kUcwing_Qkz"
   },
   "outputs": [],
   "source": [
    "import os\n",
    "import sys\n",
    "sys.path.append(\"ece542-competition-project\")"
   ]
  },
  {
   "cell_type": "code",
   "execution_count": null,
   "metadata": {
    "id": "_JxS3qkHmmRB"
   },
   "outputs": [],
   "source": [
    "import json\n",
    "from collections import Counter\n",
    "import torch\n",
    "import torch.nn as nn\n",
    "import torch.nn.functional as F\n",
    "from torch import optim\n",
    "from torch.optim.lr_scheduler import ReduceLROnPlateau\n",
    "from torch.utils.data import DataLoader\n",
    "from torch.utils.data.sampler import WeightedRandomSampler\n",
    "import numpy as np\n",
    "from ml_utils.dataset import SubjectDataset"
   ]
  },
  {
   "cell_type": "code",
   "execution_count": null,
   "metadata": {
    "colab": {
     "base_uri": "https://localhost:8080/"
    },
    "executionInfo": {
     "elapsed": 25,
     "status": "ok",
     "timestamp": 1636926841455,
     "user": {
      "displayName": "Chinmay Mahendra Savadikar",
      "photoUrl": "https://lh3.googleusercontent.com/a/default-user=s64",
      "userId": "11610851333453948182"
     },
     "user_tz": 300
    },
    "id": "LJCQfTElnJJm",
    "outputId": "ec090549-d0f9-4183-e3a5-0b7602d4f46e"
   },
   "outputs": [
    {
     "name": "stdout",
     "output_type": "stream",
     "text": [
      "Device: cpu\n"
     ]
    }
   ],
   "source": [
    "device = torch.device(\"cuda:0\" if torch.cuda.is_available() else \"cpu\")\n",
    "print(f\"Device: {device}\")"
   ]
  },
  {
   "cell_type": "code",
   "execution_count": null,
   "metadata": {
    "id": "5mKgxfP1mmMg"
   },
   "outputs": [],
   "source": [
    "base_data_path = os.path.join(\"window3_splits\")\n",
    "train_data_path = os.path.join(base_data_path, \"train\")\n",
    "val_data_path = os.path.join(base_data_path, \"val\")\n",
    "\n",
    "splits_file = os.path.join(base_path, \"experiments\", \"metadata\", \"split_ids.json\")\n",
    "with open(splits_file, \"r\") as f:\n",
    "    split_ids = json.load(f)"
   ]
  },
  {
   "cell_type": "code",
   "execution_count": null,
   "metadata": {
    "id": "kuihFDGQbTBm"
   },
   "outputs": [],
   "source": [
    "stats_path = os.path.join(base_path, \"experiments\", \"metadata\", \"statistics.json\")\n",
    "with open(stats_path, \"r\") as f:\n",
    "    stats = json.load(f)"
   ]
  },
  {
   "cell_type": "code",
   "execution_count": null,
   "metadata": {
    "id": "mzQdu4exbfOl"
   },
   "outputs": [],
   "source": [
    "min = np.array([v[\"min\"] for k, v in stats.items()])\n",
    "max = np.array([v[\"max\"] for k, v in stats.items()])\n",
    "\n",
    "min = torch.from_numpy(min).float()\n",
    "min = torch.unsqueeze((torch.unsqueeze(min, 0)), -1)\n",
    "min = min.to(device)\n",
    "max = torch.from_numpy(max).float().to(device)\n",
    "max = torch.unsqueeze((torch.unsqueeze(max, 0)), -1)\n",
    "max = max.to(device)"
   ]
  },
  {
   "cell_type": "code",
   "execution_count": null,
   "metadata": {
    "colab": {
     "base_uri": "https://localhost:8080/"
    },
    "executionInfo": {
     "elapsed": 18,
     "status": "ok",
     "timestamp": 1636926841458,
     "user": {
      "displayName": "Chinmay Mahendra Savadikar",
      "photoUrl": "https://lh3.googleusercontent.com/a/default-user=s64",
      "userId": "11610851333453948182"
     },
     "user_tz": 300
    },
    "id": "XJXYMQrWb-zN",
    "outputId": "52cbedcf-a8cc-4a0e-c822-21d45a0a6897"
   },
   "outputs": [
    {
     "data": {
      "text/plain": [
       "torch.Size([1, 6, 1])"
      ]
     },
     "execution_count": 8,
     "metadata": {},
     "output_type": "execute_result"
    }
   ],
   "source": [
    "min.shape"
   ]
  },
  {
   "cell_type": "code",
   "execution_count": null,
   "metadata": {
    "id": "n5RT6OvirVrA"
   },
   "outputs": [],
   "source": [
    "# Training hyperparameters\n",
    "batch_size = 128\n",
    "num_epochs = 30"
   ]
  },
  {
   "cell_type": "code",
   "execution_count": null,
   "metadata": {
    "colab": {
     "base_uri": "https://localhost:8080/"
    },
    "executionInfo": {
     "elapsed": 45908,
     "status": "ok",
     "timestamp": 1636926887353,
     "user": {
      "displayName": "Chinmay Mahendra Savadikar",
      "photoUrl": "https://lh3.googleusercontent.com/a/default-user=s64",
      "userId": "11610851333453948182"
     },
     "user_tz": 300
    },
    "id": "jy47cYBEmmKS",
    "outputId": "8903452b-dc80-4703-8352-88336eb29c98"
   },
   "outputs": [
    {
     "name": "stdout",
     "output_type": "stream",
     "text": [
      "Converting uid 005_02\n",
      "Converting uid 001_06\n",
      "Converting uid 003_02\n",
      "Converting uid 001_05\n",
      "Converting uid 002_02\n",
      "Converting uid 003_01\n",
      "Converting uid 003_03\n",
      "Converting uid 005_01\n",
      "Converting uid 001_07\n",
      "Converting uid 002_05\n",
      "Converting uid 004_02\n",
      "Converting uid 002_03\n",
      "Converting uid 001_02\n",
      "Converting uid 002_04\n",
      "Converting uid 001_03\n",
      "Converting uid 004_01\n",
      "Converting uid 001_08\n",
      "Converting uid 002_01\n",
      "Converting uid 001_01\n",
      "Converting uid 001_04\n"
     ]
    }
   ],
   "source": [
    "train_dataset = SubjectDataset(\n",
    "    train_data_path, \n",
    "    split_ids[\"train\"]\n",
    ")\n",
    "ys = train_dataset.y.tolist()\n",
    "counts = Counter(ys)\n",
    "weights = np.array([1./counts[_y] for _y in ys])\n",
    "sample_weights = torch.from_numpy(weights).float()\n",
    "sampler = WeightedRandomSampler(\n",
    "    weights=sample_weights,\n",
    "    num_samples=len(sample_weights),\n",
    "    replacement=True)\n",
    "train_dataloader = DataLoader(train_dataset, batch_size=batch_size, sampler=sampler)\n",
    "train_iterations = (len(train_dataset) // batch_size) + ((len(train_dataset) % batch_size) != 0)\n",
    "\n",
    "val_dataset = SubjectDataset(\n",
    "    val_data_path, \n",
    "    split_ids[\"val\"]\n",
    ")\n",
    "val_dataloader = DataLoader(val_dataset, batch_size=batch_size, shuffle=True)\n",
    "val_iterations = (len(val_dataset) // batch_size) + ((len(val_dataset) % batch_size) != 0)"
   ]
  },
  {
   "cell_type": "code",
   "execution_count": null,
   "metadata": {
    "colab": {
     "base_uri": "https://localhost:8080/"
    },
    "executionInfo": {
     "elapsed": 65,
     "status": "ok",
     "timestamp": 1636926887356,
     "user": {
      "displayName": "Chinmay Mahendra Savadikar",
      "photoUrl": "https://lh3.googleusercontent.com/a/default-user=s64",
      "userId": "11610851333453948182"
     },
     "user_tz": 300
    },
    "id": "L4JQ2YWz6JeB",
    "outputId": "2156f066-4d97-4a5b-fefa-d243117b5de4"
   },
   "outputs": [
    {
     "name": "stdout",
     "output_type": "stream",
     "text": [
      "1373\n",
      "422\n"
     ]
    }
   ],
   "source": [
    "print(train_iterations)\n",
    "print(val_iterations)"
   ]
  },
  {
   "cell_type": "code",
   "execution_count": null,
   "metadata": {
    "id": "7UxWDOBmmmOv"
   },
   "outputs": [],
   "source": [
    "class OneDConvNet(nn.Module):\n",
    "  def __init__(self, n_features, n_classes, base_filters=32):\n",
    "    super(OneDConvNet, self).__init__()\n",
    "\n",
    "    self.conv1 = nn.Conv1d(in_channels=n_features, out_channels=base_filters, kernel_size=3, stride=1, padding=1)\n",
    "    self.norm1 = nn.LayerNorm(base_filters*120)\n",
    "    self.pool1 = nn.AvgPool1d(kernel_size=2, stride=2)\n",
    "    self.conv2 = nn.Conv1d(in_channels=base_filters, out_channels=base_filters*2, kernel_size=3, stride=1, padding=1)\n",
    "    self.norm2 = nn.LayerNorm(base_filters*2*60)\n",
    "    self.pool2 = nn.AvgPool1d(kernel_size=2, stride=2)\n",
    "    self.conv3 = nn.Conv1d(in_channels=base_filters*2, out_channels=base_filters*4, kernel_size=3, stride=1, padding=1)\n",
    "    self.norm3 = nn.LayerNorm(base_filters*4*30)\n",
    "    self.pool3 = nn.AvgPool1d(kernel_size=2, stride=2)\n",
    "    self.conv4 = nn.Conv1d(in_channels=base_filters*4, out_channels=base_filters*8, kernel_size=3, stride=1, padding=1)\n",
    "    self.norm4 = nn.LayerNorm(base_filters*8*15)\n",
    "    self.fc1 = nn.Linear(base_filters*8*15, base_filters*16)\n",
    "    self.dropout5 = nn.Dropout(0.5)\n",
    "    self.fc2 = nn.Linear(base_filters*16, n_classes)\n",
    "  \n",
    "  def forward(self, x):\n",
    "    x = self.conv1(x)\n",
    "    N, C, T = x.shape\n",
    "    x = x.view(N, C*T)\n",
    "    x = self.norm1(x)\n",
    "    x = x.view(N, C, T)\n",
    "    x = self.pool1(F.relu(x))\n",
    "\n",
    "    x = self.conv2(x)\n",
    "    N, C, T = x.shape\n",
    "    x = x.view(N, C*T)\n",
    "    x = self.norm2(x)\n",
    "    x = x.view(N, C, T)\n",
    "    x = self.pool2(F.relu(x))\n",
    "\n",
    "    x = self.conv3(x)\n",
    "    N, C, T = x.shape\n",
    "    x = x.view(N, C*T)\n",
    "    x = self.norm3(x)\n",
    "    x = x.view(N, C, T)\n",
    "    x = self.pool3(F.relu(x))\n",
    "\n",
    "    x = self.conv4(x)\n",
    "    N, C, T = x.shape\n",
    "    x = x.view(N, C*T)\n",
    "    x = self.norm4(x)\n",
    "    x = x.view(N, C, T)\n",
    "    x = F.relu(x)\n",
    "\n",
    "    N, C, T = x.size()\n",
    "    x = x.view(-1, C*T) # Flatten\n",
    "    x = self.dropout5(F.relu(self.fc1(x)))\n",
    "    x = self.fc2(x)\n",
    "    return x"
   ]
  },
  {
   "cell_type": "code",
   "execution_count": null,
   "metadata": {
    "id": "uVO4PKSTzO0u"
   },
   "outputs": [],
   "source": [
    "base_filters = 32\n",
    "interval = 3\n",
    "checkpoint_save_path = os.path.join(base_path, \"experiments\", \"models\", \"window3\")\n",
    "if not os.path.exists(checkpoint_save_path):\n",
    "    os.makedirs(checkpoint_save_path)\n",
    "filename = f\"cnn_{base_filters}_interval{interval}.pth\"\n",
    "filename_long = f\"cnn_{base_filters}_interval{interval}_long.pth\"\n",
    "model = OneDConvNet(6, 4, base_filters).to(device)"
   ]
  },
  {
   "cell_type": "code",
   "execution_count": null,
   "metadata": {
    "colab": {
     "base_uri": "https://localhost:8080/"
    },
    "executionInfo": {
     "elapsed": 307,
     "status": "ok",
     "timestamp": 1636926887612,
     "user": {
      "displayName": "Chinmay Mahendra Savadikar",
      "photoUrl": "https://lh3.googleusercontent.com/a/default-user=s64",
      "userId": "11610851333453948182"
     },
     "user_tz": 300
    },
    "id": "7gusrrjP5KB0",
    "outputId": "75a6ce1d-5d6d-472b-819c-0317ad8bf30b"
   },
   "outputs": [
    {
     "name": "stdout",
     "output_type": "stream",
     "text": [
      "OneDConvNet(\n",
      "  (conv1): Conv1d(6, 32, kernel_size=(3,), stride=(1,), padding=(1,))\n",
      "  (norm1): LayerNorm((3840,), eps=1e-05, elementwise_affine=True)\n",
      "  (pool1): AvgPool1d(kernel_size=(2,), stride=(2,), padding=(0,))\n",
      "  (conv2): Conv1d(32, 64, kernel_size=(3,), stride=(1,), padding=(1,))\n",
      "  (norm2): LayerNorm((3840,), eps=1e-05, elementwise_affine=True)\n",
      "  (pool2): AvgPool1d(kernel_size=(2,), stride=(2,), padding=(0,))\n",
      "  (conv3): Conv1d(64, 128, kernel_size=(3,), stride=(1,), padding=(1,))\n",
      "  (norm3): LayerNorm((3840,), eps=1e-05, elementwise_affine=True)\n",
      "  (pool3): AvgPool1d(kernel_size=(2,), stride=(2,), padding=(0,))\n",
      "  (conv4): Conv1d(128, 256, kernel_size=(3,), stride=(1,), padding=(1,))\n",
      "  (norm4): LayerNorm((3840,), eps=1e-05, elementwise_affine=True)\n",
      "  (fc1): Linear(in_features=3840, out_features=512, bias=True)\n",
      "  (dropout5): Dropout(p=0.5, inplace=False)\n",
      "  (fc2): Linear(in_features=512, out_features=4, bias=True)\n",
      ")\n"
     ]
    }
   ],
   "source": [
    "print(model)"
   ]
  },
  {
   "cell_type": "code",
   "execution_count": null,
   "metadata": {
    "id": "_7npRJhHxdC1"
   },
   "outputs": [],
   "source": [
    "import numpy as np\n",
    "X = np.random.randn(1, 6, 120)\n",
    "T = torch.from_numpy(X).float().to(device)\n",
    "y = model(T)"
   ]
  },
  {
   "cell_type": "code",
   "execution_count": null,
   "metadata": {
    "id": "sksNpnMfyLOP"
   },
   "outputs": [],
   "source": [
    "# y.shape"
   ]
  },
  {
   "cell_type": "code",
   "execution_count": null,
   "metadata": {
    "id": "JSfdHJ4Ry4AG"
   },
   "outputs": [],
   "source": [
    "optimizer = optim.SGD(model.parameters(), lr=1e-4, momentum=0.9)\n",
    "# optimizer = optim.Adam(model.parameters(), lr=1e-4)\n",
    "# optimizer = optim.RMSprop(model.parameters(), lr=1e-4)\n",
    "scheduler = ReduceLROnPlateau(optimizer, factor=0.5, patience=1, verbose=True)\n",
    "criterion = nn.CrossEntropyLoss()"
   ]
  },
  {
   "cell_type": "code",
   "execution_count": null,
   "metadata": {
    "id": "V6FBCiBQmmH2"
   },
   "outputs": [],
   "source": [
    "def train_step(X, y, model, optimizer, criterion):\n",
    "\n",
    "    y_pred = model(X)\n",
    "    predicted_classes = torch.argmax(y_pred.detach(), dim=1)\n",
    "\n",
    "    loss = criterion(y_pred, y)\n",
    "    optimizer.zero_grad()\n",
    "    loss.backward()\n",
    "    optimizer.step()\n",
    "\n",
    "    corrects = torch.sum(y.data == predicted_classes)\n",
    "\n",
    "    return loss.item(), corrects\n",
    "\n",
    "def val_step(X, y, model, criterion):\n",
    "\n",
    "    with torch.no_grad():\n",
    "        \n",
    "        y_pred = model(X)\n",
    "        predicted_classes = torch.argmax(y_pred.detach(), dim=1)\n",
    "        loss = criterion(y_pred, y)\n",
    "        corrects = torch.sum(y.data == predicted_classes)\n",
    "\n",
    "    return loss.item(), corrects, predicted_classes.detach().cpu().numpy()"
   ]
  },
  {
   "cell_type": "code",
   "execution_count": null,
   "metadata": {
    "colab": {
     "base_uri": "https://localhost:8080/"
    },
    "executionInfo": {
     "elapsed": 5981774,
     "status": "ok",
     "timestamp": 1636932869377,
     "user": {
      "displayName": "Chinmay Mahendra Savadikar",
      "photoUrl": "https://lh3.googleusercontent.com/a/default-user=s64",
      "userId": "11610851333453948182"
     },
     "user_tz": 300
    },
    "id": "T2K4z1p8mmCQ",
    "outputId": "3f68ea88-7dcc-4326-e06e-55ca531f7b17"
   },
   "outputs": [
    {
     "name": "stdout",
     "output_type": "stream",
     "text": [
      "Iteration: 0/1373 | train_loss: 1.4241429567337036 | train_acc: 0.234375\n",
      "Iteration: 100/1373 | train_loss: 1.3967080116271973 | train_acc: 0.2421875\n",
      "Iteration: 200/1373 | train_loss: 1.3771915435791016 | train_acc: 0.2734375\n",
      "Iteration: 300/1373 | train_loss: 1.3846782445907593 | train_acc: 0.2421875\n",
      "Iteration: 400/1373 | train_loss: 1.3864760398864746 | train_acc: 0.2890625\n",
      "Iteration: 500/1373 | train_loss: 1.3799875974655151 | train_acc: 0.25\n",
      "Iteration: 600/1373 | train_loss: 1.361541509628296 | train_acc: 0.3125\n",
      "Iteration: 700/1373 | train_loss: 1.3636505603790283 | train_acc: 0.34375\n",
      "Iteration: 800/1373 | train_loss: 1.3502804040908813 | train_acc: 0.359375\n",
      "Iteration: 900/1373 | train_loss: 1.3550267219543457 | train_acc: 0.375\n",
      "Iteration: 1000/1373 | train_loss: 1.3322718143463135 | train_acc: 0.46875\n",
      "Iteration: 1100/1373 | train_loss: 1.299526572227478 | train_acc: 0.5390625\n",
      "Iteration: 1200/1373 | train_loss: 1.249451994895935 | train_acc: 0.578125\n",
      "Iteration: 1300/1373 | train_loss: 1.1530091762542725 | train_acc: 0.640625\n",
      "Saving model to drive/MyDrive/Classes/ece542/competition-project/experiments/models/window3/cnn_32_interval3.pth\n",
      "Epoch: 0 | train_loss 1.3327911555913587 | train_acc: 0.38438382744789124 | val_loss: 1.0740912025820477 | val_acc: 0.5223271250724792\n",
      "Iteration: 0/1373 | train_loss: 1.08199143409729 | train_acc: 0.53125\n",
      "Iteration: 100/1373 | train_loss: 0.9417986869812012 | train_acc: 0.6484375\n",
      "Iteration: 200/1373 | train_loss: 0.9270635843276978 | train_acc: 0.5625\n",
      "Iteration: 300/1373 | train_loss: 0.7747350931167603 | train_acc: 0.71875\n",
      "Iteration: 400/1373 | train_loss: 0.8103348016738892 | train_acc: 0.65625\n",
      "Iteration: 500/1373 | train_loss: 0.6843876838684082 | train_acc: 0.7109375\n",
      "Iteration: 600/1373 | train_loss: 0.5309249758720398 | train_acc: 0.7890625\n",
      "Iteration: 700/1373 | train_loss: 0.5773261785507202 | train_acc: 0.71875\n",
      "Iteration: 800/1373 | train_loss: 0.5100156664848328 | train_acc: 0.7578125\n",
      "Iteration: 900/1373 | train_loss: 0.580922544002533 | train_acc: 0.734375\n",
      "Iteration: 1000/1373 | train_loss: 0.43308815360069275 | train_acc: 0.7890625\n",
      "Iteration: 1100/1373 | train_loss: 0.4139624238014221 | train_acc: 0.8125\n",
      "Iteration: 1200/1373 | train_loss: 0.5374786853790283 | train_acc: 0.7578125\n",
      "Iteration: 1300/1373 | train_loss: 0.4762517511844635 | train_acc: 0.8203125\n",
      "Saving model to drive/MyDrive/Classes/ece542/competition-project/experiments/models/window3/cnn_32_interval3.pth\n",
      "Epoch: 1 | train_loss 0.6231018818462415 | train_acc: 0.739722728729248 | val_loss: 1.0399516660393147 | val_acc: 0.4657069146633148\n",
      "Iteration: 0/1373 | train_loss: 0.42087700963020325 | train_acc: 0.8203125\n",
      "Iteration: 100/1373 | train_loss: 0.3620745837688446 | train_acc: 0.84375\n",
      "Iteration: 200/1373 | train_loss: 0.3724362850189209 | train_acc: 0.796875\n",
      "Iteration: 300/1373 | train_loss: 0.37780559062957764 | train_acc: 0.8359375\n",
      "Iteration: 400/1373 | train_loss: 0.43058961629867554 | train_acc: 0.7890625\n",
      "Iteration: 500/1373 | train_loss: 0.38511306047439575 | train_acc: 0.8671875\n",
      "Iteration: 600/1373 | train_loss: 0.4123123288154602 | train_acc: 0.84375\n",
      "Iteration: 700/1373 | train_loss: 0.47834688425064087 | train_acc: 0.8203125\n",
      "Iteration: 800/1373 | train_loss: 0.4230271875858307 | train_acc: 0.7890625\n",
      "Iteration: 900/1373 | train_loss: 0.39406657218933105 | train_acc: 0.8046875\n",
      "Iteration: 1000/1373 | train_loss: 0.4413619935512543 | train_acc: 0.796875\n",
      "Iteration: 1100/1373 | train_loss: 0.40358754992485046 | train_acc: 0.828125\n",
      "Iteration: 1200/1373 | train_loss: 0.4257558286190033 | train_acc: 0.8515625\n",
      "Iteration: 1300/1373 | train_loss: 0.33557650446891785 | train_acc: 0.84375\n",
      "Saving model to drive/MyDrive/Classes/ece542/competition-project/experiments/models/window3/cnn_32_interval3.pth\n",
      "Epoch: 2 | train_loss 0.4055613103399595 | train_acc: 0.8174110054969788 | val_loss: 0.751253208053547 | val_acc: 0.6938574910163879\n",
      "Iteration: 0/1373 | train_loss: 0.3438451290130615 | train_acc: 0.8515625\n",
      "Iteration: 100/1373 | train_loss: 0.41875144839286804 | train_acc: 0.828125\n",
      "Iteration: 200/1373 | train_loss: 0.34398961067199707 | train_acc: 0.8515625\n",
      "Iteration: 300/1373 | train_loss: 0.29392337799072266 | train_acc: 0.875\n",
      "Iteration: 400/1373 | train_loss: 0.37806180119514465 | train_acc: 0.8515625\n",
      "Iteration: 500/1373 | train_loss: 0.3315088748931885 | train_acc: 0.828125\n",
      "Iteration: 600/1373 | train_loss: 0.3235953450202942 | train_acc: 0.8125\n",
      "Iteration: 700/1373 | train_loss: 0.3906109929084778 | train_acc: 0.8515625\n",
      "Iteration: 800/1373 | train_loss: 0.3254222869873047 | train_acc: 0.8515625\n",
      "Iteration: 900/1373 | train_loss: 0.27944162487983704 | train_acc: 0.8671875\n",
      "Iteration: 1000/1373 | train_loss: 0.31237712502479553 | train_acc: 0.90625\n",
      "Iteration: 1100/1373 | train_loss: 0.3371483087539673 | train_acc: 0.8828125\n",
      "Iteration: 1200/1373 | train_loss: 0.2923170030117035 | train_acc: 0.8671875\n",
      "Iteration: 1300/1373 | train_loss: 0.30095961689949036 | train_acc: 0.890625\n",
      "Epoch: 3 | train_loss 0.34753920748283074 | train_acc: 0.8534325957298279 | val_loss: 0.8573681715158284 | val_acc: 0.6045117974281311\n",
      "Iteration: 0/1373 | train_loss: 0.342325896024704 | train_acc: 0.828125\n",
      "Iteration: 100/1373 | train_loss: 0.3084779977798462 | train_acc: 0.8828125\n",
      "Iteration: 200/1373 | train_loss: 0.22631964087486267 | train_acc: 0.9296875\n",
      "Iteration: 300/1373 | train_loss: 0.28933677077293396 | train_acc: 0.859375\n",
      "Iteration: 400/1373 | train_loss: 0.32036909461021423 | train_acc: 0.84375\n",
      "Iteration: 500/1373 | train_loss: 0.2739952504634857 | train_acc: 0.859375\n",
      "Iteration: 600/1373 | train_loss: 0.26384302973747253 | train_acc: 0.9140625\n",
      "Iteration: 700/1373 | train_loss: 0.3412694036960602 | train_acc: 0.8671875\n",
      "Iteration: 800/1373 | train_loss: 0.30012813210487366 | train_acc: 0.875\n",
      "Iteration: 900/1373 | train_loss: 0.2881852686405182 | train_acc: 0.90625\n",
      "Iteration: 1000/1373 | train_loss: 0.2538205087184906 | train_acc: 0.90625\n",
      "Iteration: 1100/1373 | train_loss: 0.2846638262271881 | train_acc: 0.90625\n",
      "Iteration: 1200/1373 | train_loss: 0.23339881002902985 | train_acc: 0.8828125\n",
      "Iteration: 1300/1373 | train_loss: 0.22113251686096191 | train_acc: 0.9453125\n",
      "Saving model to drive/MyDrive/Classes/ece542/competition-project/experiments/models/window3/cnn_32_interval3.pth\n",
      "Epoch: 4 | train_loss 0.289805701553827 | train_acc: 0.8894768953323364 | val_loss: 0.6143378880942503 | val_acc: 0.7471754550933838\n",
      "Iteration: 0/1373 | train_loss: 0.2115938365459442 | train_acc: 0.9296875\n",
      "Iteration: 100/1373 | train_loss: 0.21139222383499146 | train_acc: 0.9453125\n",
      "Iteration: 200/1373 | train_loss: 0.3173364996910095 | train_acc: 0.890625\n",
      "Iteration: 300/1373 | train_loss: 0.22293400764465332 | train_acc: 0.9140625\n",
      "Iteration: 400/1373 | train_loss: 0.32588064670562744 | train_acc: 0.8671875\n",
      "Iteration: 500/1373 | train_loss: 0.2812250256538391 | train_acc: 0.9140625\n",
      "Iteration: 600/1373 | train_loss: 0.17963364720344543 | train_acc: 0.953125\n",
      "Iteration: 700/1373 | train_loss: 0.22803173959255219 | train_acc: 0.9296875\n",
      "Iteration: 800/1373 | train_loss: 0.3518312871456146 | train_acc: 0.875\n",
      "Iteration: 900/1373 | train_loss: 0.24142909049987793 | train_acc: 0.9296875\n",
      "Iteration: 1000/1373 | train_loss: 0.2049320787191391 | train_acc: 0.9609375\n",
      "Iteration: 1100/1373 | train_loss: 0.1881096214056015 | train_acc: 0.9375\n",
      "Iteration: 1200/1373 | train_loss: 0.26206135749816895 | train_acc: 0.90625\n",
      "Iteration: 1300/1373 | train_loss: 0.1817190945148468 | train_acc: 0.953125\n",
      "Epoch: 5 | train_loss 0.24087881787947962 | train_acc: 0.9135482311248779 | val_loss: 0.617424193747647 | val_acc: 0.779344379901886\n",
      "Iteration: 0/1373 | train_loss: 0.19442716240882874 | train_acc: 0.9375\n",
      "Iteration: 100/1373 | train_loss: 0.1611948311328888 | train_acc: 0.953125\n",
      "Iteration: 200/1373 | train_loss: 0.23180177807807922 | train_acc: 0.9140625\n",
      "Iteration: 300/1373 | train_loss: 0.17394021153450012 | train_acc: 0.9296875\n",
      "Iteration: 400/1373 | train_loss: 0.11268638074398041 | train_acc: 0.9765625\n",
      "Iteration: 500/1373 | train_loss: 0.16406676173210144 | train_acc: 0.9375\n",
      "Iteration: 600/1373 | train_loss: 0.19730514287948608 | train_acc: 0.9296875\n",
      "Iteration: 700/1373 | train_loss: 0.214842289686203 | train_acc: 0.953125\n",
      "Iteration: 800/1373 | train_loss: 0.16793641448020935 | train_acc: 0.9375\n",
      "Iteration: 900/1373 | train_loss: 0.2121383398771286 | train_acc: 0.90625\n",
      "Iteration: 1000/1373 | train_loss: 0.20312485098838806 | train_acc: 0.9296875\n",
      "Iteration: 1100/1373 | train_loss: 0.16335546970367432 | train_acc: 0.9609375\n",
      "Iteration: 1200/1373 | train_loss: 0.11517681181430817 | train_acc: 0.984375\n",
      "Iteration: 1300/1373 | train_loss: 0.13906194269657135 | train_acc: 0.9453125\n",
      "Epoch     7: reducing learning rate of group 0 to 5.0000e-05.\n",
      "Epoch: 6 | train_loss 0.20550576627911152 | train_acc: 0.92753005027771 | val_loss: 0.6403218517331686 | val_acc: 0.7402185201644897\n",
      "Iteration: 0/1373 | train_loss: 0.180522620677948 | train_acc: 0.953125\n",
      "Iteration: 100/1373 | train_loss: 0.1037716418504715 | train_acc: 0.96875\n",
      "Iteration: 200/1373 | train_loss: 0.1749301701784134 | train_acc: 0.921875\n",
      "Iteration: 300/1373 | train_loss: 0.1989358514547348 | train_acc: 0.9375\n",
      "Iteration: 400/1373 | train_loss: 0.2395535409450531 | train_acc: 0.9140625\n",
      "Iteration: 500/1373 | train_loss: 0.1204826682806015 | train_acc: 0.96875\n",
      "Iteration: 600/1373 | train_loss: 0.10227649658918381 | train_acc: 0.9609375\n",
      "Iteration: 700/1373 | train_loss: 0.13309162855148315 | train_acc: 0.9453125\n",
      "Iteration: 800/1373 | train_loss: 0.1516450047492981 | train_acc: 0.9296875\n",
      "Iteration: 900/1373 | train_loss: 0.1396559178829193 | train_acc: 0.953125\n",
      "Iteration: 1000/1373 | train_loss: 0.15458336472511292 | train_acc: 0.96875\n",
      "Iteration: 1100/1373 | train_loss: 0.12178017199039459 | train_acc: 0.9765625\n",
      "Iteration: 1200/1373 | train_loss: 0.15360474586486816 | train_acc: 0.9296875\n",
      "Iteration: 1300/1373 | train_loss: 0.19305096566677094 | train_acc: 0.9375\n",
      "Epoch: 7 | train_loss 0.1745889663674581 | train_acc: 0.9411988854408264 | val_loss: 0.7085730378683907 | val_acc: 0.71164870262146\n",
      "Iteration: 0/1373 | train_loss: 0.15043257176876068 | train_acc: 0.953125\n",
      "Iteration: 100/1373 | train_loss: 0.21348460018634796 | train_acc: 0.9296875\n",
      "Iteration: 200/1373 | train_loss: 0.15389735996723175 | train_acc: 0.9296875\n",
      "Iteration: 300/1373 | train_loss: 0.17464964091777802 | train_acc: 0.9296875\n",
      "Iteration: 400/1373 | train_loss: 0.16720987856388092 | train_acc: 0.9453125\n",
      "Iteration: 500/1373 | train_loss: 0.23823538422584534 | train_acc: 0.9375\n",
      "Iteration: 600/1373 | train_loss: 0.16289038956165314 | train_acc: 0.9296875\n",
      "Iteration: 700/1373 | train_loss: 0.15992356836795807 | train_acc: 0.9375\n",
      "Iteration: 800/1373 | train_loss: 0.138210728764534 | train_acc: 0.96875\n",
      "Iteration: 900/1373 | train_loss: 0.20808717608451843 | train_acc: 0.8984375\n",
      "Iteration: 1000/1373 | train_loss: 0.12114182859659195 | train_acc: 0.9765625\n",
      "Iteration: 1100/1373 | train_loss: 0.18475241959095 | train_acc: 0.9375\n",
      "Iteration: 1200/1373 | train_loss: 0.14635424315929413 | train_acc: 0.9453125\n",
      "Iteration: 1300/1373 | train_loss: 0.19828665256500244 | train_acc: 0.921875\n",
      "Saving model to drive/MyDrive/Classes/ece542/competition-project/experiments/models/window3/cnn_32_interval3.pth\n",
      "Epoch: 8 | train_loss 0.16296449843341293 | train_acc: 0.9450058937072754 | val_loss: 0.5064193060421854 | val_acc: 0.8159100413322449\n",
      "Iteration: 0/1373 | train_loss: 0.19579453766345978 | train_acc: 0.9453125\n",
      "Iteration: 100/1373 | train_loss: 0.15811949968338013 | train_acc: 0.9453125\n",
      "Iteration: 200/1373 | train_loss: 0.14550012350082397 | train_acc: 0.9453125\n",
      "Iteration: 300/1373 | train_loss: 0.19012236595153809 | train_acc: 0.9296875\n",
      "Iteration: 400/1373 | train_loss: 0.13837739825248718 | train_acc: 0.9609375\n",
      "Iteration: 500/1373 | train_loss: 0.17977096140384674 | train_acc: 0.953125\n",
      "Iteration: 600/1373 | train_loss: 0.12511174380779266 | train_acc: 0.9609375\n",
      "Iteration: 700/1373 | train_loss: 0.14017513394355774 | train_acc: 0.96875\n",
      "Iteration: 800/1373 | train_loss: 0.21880029141902924 | train_acc: 0.9375\n",
      "Iteration: 900/1373 | train_loss: 0.1469951719045639 | train_acc: 0.9453125\n",
      "Iteration: 1000/1373 | train_loss: 0.16547758877277374 | train_acc: 0.96875\n",
      "Iteration: 1100/1373 | train_loss: 0.09048329293727875 | train_acc: 0.9609375\n",
      "Iteration: 1200/1373 | train_loss: 0.11313799023628235 | train_acc: 0.953125\n",
      "Iteration: 1300/1373 | train_loss: 0.10956964641809464 | train_acc: 0.953125\n",
      "Epoch: 9 | train_loss 0.1547891695561505 | train_acc: 0.9481698870658875 | val_loss: 0.5459240929920253 | val_acc: 0.7994360327720642\n",
      "Iteration: 0/1373 | train_loss: 0.14769229292869568 | train_acc: 0.9609375\n",
      "Iteration: 100/1373 | train_loss: 0.16140134632587433 | train_acc: 0.9296875\n",
      "Iteration: 200/1373 | train_loss: 0.12246907502412796 | train_acc: 0.9609375\n",
      "Iteration: 300/1373 | train_loss: 0.21997499465942383 | train_acc: 0.9296875\n",
      "Iteration: 400/1373 | train_loss: 0.15927447378635406 | train_acc: 0.953125\n",
      "Iteration: 500/1373 | train_loss: 0.09788951277732849 | train_acc: 0.96875\n",
      "Iteration: 600/1373 | train_loss: 0.07991340756416321 | train_acc: 0.96875\n",
      "Iteration: 700/1373 | train_loss: 0.14317192137241364 | train_acc: 0.9296875\n",
      "Iteration: 800/1373 | train_loss: 0.19403232634067535 | train_acc: 0.9453125\n",
      "Iteration: 900/1373 | train_loss: 0.2056424617767334 | train_acc: 0.90625\n",
      "Iteration: 1000/1373 | train_loss: 0.14954130351543427 | train_acc: 0.9296875\n",
      "Iteration: 1100/1373 | train_loss: 0.1917964518070221 | train_acc: 0.953125\n",
      "Iteration: 1200/1373 | train_loss: 0.12593357264995575 | train_acc: 0.953125\n",
      "Iteration: 1300/1373 | train_loss: 0.14560072124004364 | train_acc: 0.9375\n",
      "Saving model to drive/MyDrive/Classes/ece542/competition-project/experiments/models/window3/cnn_32_interval3.pth\n",
      "Epoch: 10 | train_loss 0.15108302285667327 | train_acc: 0.9489096999168396 | val_loss: 0.49672051453541516 | val_acc: 0.8194348812103271\n",
      "Iteration: 0/1373 | train_loss: 0.15500007569789886 | train_acc: 0.953125\n",
      "Iteration: 100/1373 | train_loss: 0.09522233158349991 | train_acc: 0.9765625\n",
      "Iteration: 200/1373 | train_loss: 0.10519511252641678 | train_acc: 0.953125\n",
      "Iteration: 300/1373 | train_loss: 0.17576071619987488 | train_acc: 0.9296875\n",
      "Iteration: 400/1373 | train_loss: 0.1557626575231552 | train_acc: 0.953125\n",
      "Iteration: 500/1373 | train_loss: 0.11750242859125137 | train_acc: 0.9609375\n",
      "Iteration: 600/1373 | train_loss: 0.19008630514144897 | train_acc: 0.9375\n",
      "Iteration: 700/1373 | train_loss: 0.12484728544950485 | train_acc: 0.9609375\n",
      "Iteration: 800/1373 | train_loss: 0.1606486737728119 | train_acc: 0.9453125\n",
      "Iteration: 900/1373 | train_loss: 0.12811844050884247 | train_acc: 0.953125\n",
      "Iteration: 1000/1373 | train_loss: 0.1494363695383072 | train_acc: 0.953125\n",
      "Iteration: 1100/1373 | train_loss: 0.16170845925807953 | train_acc: 0.9453125\n",
      "Iteration: 1200/1373 | train_loss: 0.11450482904911041 | train_acc: 0.984375\n",
      "Iteration: 1300/1373 | train_loss: 0.10558561235666275 | train_acc: 0.96875\n",
      "Epoch: 11 | train_loss 0.14295604654069613 | train_acc: 0.9510095119476318 | val_loss: 0.5116279948242715 | val_acc: 0.8170973658561707\n",
      "Iteration: 0/1373 | train_loss: 0.17265383899211884 | train_acc: 0.9375\n",
      "Iteration: 100/1373 | train_loss: 0.17400725185871124 | train_acc: 0.96875\n",
      "Iteration: 200/1373 | train_loss: 0.14508897066116333 | train_acc: 0.9375\n",
      "Iteration: 300/1373 | train_loss: 0.10762298107147217 | train_acc: 0.96875\n",
      "Iteration: 400/1373 | train_loss: 0.17484499514102936 | train_acc: 0.953125\n",
      "Iteration: 500/1373 | train_loss: 0.11202889680862427 | train_acc: 0.9609375\n",
      "Iteration: 600/1373 | train_loss: 0.2068376988172531 | train_acc: 0.9453125\n",
      "Iteration: 700/1373 | train_loss: 0.1483457088470459 | train_acc: 0.953125\n",
      "Iteration: 800/1373 | train_loss: 0.1114412322640419 | train_acc: 0.9609375\n",
      "Iteration: 900/1373 | train_loss: 0.20248593389987946 | train_acc: 0.90625\n",
      "Iteration: 1000/1373 | train_loss: 0.10076447576284409 | train_acc: 0.96875\n",
      "Iteration: 1100/1373 | train_loss: 0.18217912316322327 | train_acc: 0.9453125\n",
      "Iteration: 1200/1373 | train_loss: 0.12606078386306763 | train_acc: 0.953125\n",
      "Iteration: 1300/1373 | train_loss: 0.18414686620235443 | train_acc: 0.9453125\n",
      "Epoch    13: reducing learning rate of group 0 to 2.5000e-05.\n",
      "Epoch: 12 | train_loss 0.13645378385781481 | train_acc: 0.9541735053062439 | val_loss: 0.5103061671805197 | val_acc: 0.818841278553009\n",
      "Iteration: 0/1373 | train_loss: 0.12464410811662674 | train_acc: 0.953125\n",
      "Iteration: 100/1373 | train_loss: 0.08828523755073547 | train_acc: 0.9609375\n",
      "Iteration: 200/1373 | train_loss: 0.17275674641132355 | train_acc: 0.9453125\n",
      "Iteration: 300/1373 | train_loss: 0.1143961176276207 | train_acc: 0.953125\n",
      "Iteration: 400/1373 | train_loss: 0.11372874677181244 | train_acc: 0.9765625\n",
      "Iteration: 500/1373 | train_loss: 0.07269293814897537 | train_acc: 0.9921875\n",
      "Iteration: 600/1373 | train_loss: 0.09299245476722717 | train_acc: 0.96875\n",
      "Iteration: 700/1373 | train_loss: 0.12720239162445068 | train_acc: 0.953125\n",
      "Iteration: 800/1373 | train_loss: 0.21130608022212982 | train_acc: 0.9140625\n",
      "Iteration: 900/1373 | train_loss: 0.1972440630197525 | train_acc: 0.90625\n",
      "Iteration: 1000/1373 | train_loss: 0.09986932575702667 | train_acc: 0.9765625\n",
      "Iteration: 1100/1373 | train_loss: 0.10352761298418045 | train_acc: 0.984375\n",
      "Iteration: 1200/1373 | train_loss: 0.1504991054534912 | train_acc: 0.9375\n",
      "Iteration: 1300/1373 | train_loss: 0.07664944976568222 | train_acc: 0.9765625\n",
      "Saving model to drive/MyDrive/Classes/ece542/competition-project/experiments/models/window3/cnn_32_interval3.pth\n",
      "Epoch: 13 | train_loss 0.13004434173179652 | train_acc: 0.9571098685264587 | val_loss: 0.43841167813853216 | val_acc: 0.8389885425567627\n",
      "Iteration: 0/1373 | train_loss: 0.10972588509321213 | train_acc: 0.9765625\n",
      "Iteration: 100/1373 | train_loss: 0.13692958652973175 | train_acc: 0.96875\n",
      "Iteration: 200/1373 | train_loss: 0.11635510623455048 | train_acc: 0.953125\n",
      "Iteration: 300/1373 | train_loss: 0.1015547513961792 | train_acc: 0.984375\n",
      "Iteration: 400/1373 | train_loss: 0.11407895386219025 | train_acc: 0.9765625\n",
      "Iteration: 500/1373 | train_loss: 0.09801176190376282 | train_acc: 0.9609375\n",
      "Iteration: 600/1373 | train_loss: 0.1745983064174652 | train_acc: 0.953125\n",
      "Iteration: 700/1373 | train_loss: 0.12311410158872604 | train_acc: 0.9453125\n",
      "Iteration: 800/1373 | train_loss: 0.1239519789814949 | train_acc: 0.953125\n",
      "Iteration: 900/1373 | train_loss: 0.15232360363006592 | train_acc: 0.9453125\n",
      "Iteration: 1000/1373 | train_loss: 0.08367452025413513 | train_acc: 0.96875\n",
      "Iteration: 1100/1373 | train_loss: 0.13975508511066437 | train_acc: 0.9609375\n",
      "Iteration: 1200/1373 | train_loss: 0.13479496538639069 | train_acc: 0.9609375\n",
      "Iteration: 1300/1373 | train_loss: 0.09312154352664948 | train_acc: 0.9609375\n",
      "Epoch: 14 | train_loss 0.1253460864885403 | train_acc: 0.9582195281982422 | val_loss: 0.43958641708471086 | val_acc: 0.8357419967651367\n",
      "Iteration: 0/1373 | train_loss: 0.18207521736621857 | train_acc: 0.921875\n",
      "Iteration: 100/1373 | train_loss: 0.17903031408786774 | train_acc: 0.953125\n",
      "Iteration: 200/1373 | train_loss: 0.13447453081607819 | train_acc: 0.9453125\n",
      "Iteration: 300/1373 | train_loss: 0.11252821236848831 | train_acc: 0.953125\n",
      "Iteration: 400/1373 | train_loss: 0.1568683534860611 | train_acc: 0.9375\n",
      "Iteration: 500/1373 | train_loss: 0.0632346048951149 | train_acc: 0.984375\n",
      "Iteration: 600/1373 | train_loss: 0.14529967308044434 | train_acc: 0.953125\n",
      "Iteration: 700/1373 | train_loss: 0.09809612482786179 | train_acc: 0.9765625\n",
      "Iteration: 800/1373 | train_loss: 0.12949934601783752 | train_acc: 0.96875\n",
      "Iteration: 900/1373 | train_loss: 0.21728529036045074 | train_acc: 0.9375\n",
      "Iteration: 1000/1373 | train_loss: 0.1585465371608734 | train_acc: 0.953125\n",
      "Iteration: 1100/1373 | train_loss: 0.12176196277141571 | train_acc: 0.9609375\n",
      "Iteration: 1200/1373 | train_loss: 0.18585391342639923 | train_acc: 0.9375\n",
      "Iteration: 1300/1373 | train_loss: 0.09321583062410355 | train_acc: 0.96875\n",
      "Epoch    16: reducing learning rate of group 0 to 1.2500e-05.\n",
      "Epoch: 15 | train_loss 0.12394939519707149 | train_acc: 0.9588966965675354 | val_loss: 0.451980246797912 | val_acc: 0.8324583172798157\n",
      "Iteration: 0/1373 | train_loss: 0.09624160826206207 | train_acc: 0.9765625\n",
      "Iteration: 100/1373 | train_loss: 0.12633679807186127 | train_acc: 0.9375\n",
      "Iteration: 200/1373 | train_loss: 0.11498786509037018 | train_acc: 0.9609375\n",
      "Iteration: 300/1373 | train_loss: 0.09848397225141525 | train_acc: 0.96875\n",
      "Iteration: 400/1373 | train_loss: 0.20015834271907806 | train_acc: 0.9140625\n",
      "Iteration: 500/1373 | train_loss: 0.12626883387565613 | train_acc: 0.9609375\n",
      "Iteration: 600/1373 | train_loss: 0.16594459116458893 | train_acc: 0.9609375\n",
      "Iteration: 700/1373 | train_loss: 0.18802854418754578 | train_acc: 0.9375\n",
      "Iteration: 800/1373 | train_loss: 0.15235622227191925 | train_acc: 0.953125\n",
      "Iteration: 900/1373 | train_loss: 0.09054145961999893 | train_acc: 0.96875\n",
      "Iteration: 1000/1373 | train_loss: 0.15456514060497284 | train_acc: 0.96875\n",
      "Iteration: 1100/1373 | train_loss: 0.06747449934482574 | train_acc: 0.9765625\n",
      "Iteration: 1200/1373 | train_loss: 0.14278297126293182 | train_acc: 0.953125\n",
      "Iteration: 1300/1373 | train_loss: 0.11620853841304779 | train_acc: 0.9609375\n",
      "Epoch: 16 | train_loss 0.12189282010248599 | train_acc: 0.9596365094184875 | val_loss: 0.4471088320549292 | val_acc: 0.836409866809845\n",
      "Iteration: 0/1373 | train_loss: 0.09046422690153122 | train_acc: 0.984375\n",
      "Iteration: 100/1373 | train_loss: 0.06717705726623535 | train_acc: 0.9921875\n",
      "Iteration: 200/1373 | train_loss: 0.16738347709178925 | train_acc: 0.9296875\n",
      "Iteration: 300/1373 | train_loss: 0.16703592240810394 | train_acc: 0.9453125\n",
      "Iteration: 400/1373 | train_loss: 0.18973080813884735 | train_acc: 0.9375\n",
      "Iteration: 500/1373 | train_loss: 0.18523770570755005 | train_acc: 0.921875\n",
      "Iteration: 600/1373 | train_loss: 0.0763717070221901 | train_acc: 0.9921875\n",
      "Iteration: 700/1373 | train_loss: 0.05042774975299835 | train_acc: 1.0\n",
      "Iteration: 800/1373 | train_loss: 0.1354040950536728 | train_acc: 0.953125\n",
      "Iteration: 900/1373 | train_loss: 0.08515768498182297 | train_acc: 0.9765625\n",
      "Iteration: 1000/1373 | train_loss: 0.07443681359291077 | train_acc: 0.9921875\n",
      "Iteration: 1100/1373 | train_loss: 0.1082988977432251 | train_acc: 0.9453125\n",
      "Iteration: 1200/1373 | train_loss: 0.10532429069280624 | train_acc: 0.96875\n",
      "Iteration: 1300/1373 | train_loss: 0.09899312257766724 | train_acc: 0.96875\n",
      "Saving model to drive/MyDrive/Classes/ece542/competition-project/experiments/models/window3/cnn_32_interval3.pth\n",
      "Epoch: 17 | train_loss 0.11858134039053661 | train_acc: 0.9606209397315979 | val_loss: 0.4349459814311662 | val_acc: 0.8412889838218689\n",
      "Iteration: 0/1373 | train_loss: 0.14195147156715393 | train_acc: 0.953125\n",
      "Iteration: 100/1373 | train_loss: 0.1360040307044983 | train_acc: 0.953125\n",
      "Iteration: 200/1373 | train_loss: 0.06633830070495605 | train_acc: 0.984375\n",
      "Iteration: 300/1373 | train_loss: 0.05528563633561134 | train_acc: 0.9921875\n",
      "Iteration: 400/1373 | train_loss: 0.18108415603637695 | train_acc: 0.921875\n",
      "Iteration: 500/1373 | train_loss: 0.15790466964244843 | train_acc: 0.96875\n",
      "Iteration: 600/1373 | train_loss: 0.2088892012834549 | train_acc: 0.921875\n",
      "Iteration: 700/1373 | train_loss: 0.14692722260951996 | train_acc: 0.9609375\n",
      "Iteration: 800/1373 | train_loss: 0.11144128441810608 | train_acc: 0.9609375\n",
      "Iteration: 900/1373 | train_loss: 0.1543777734041214 | train_acc: 0.9375\n",
      "Iteration: 1000/1373 | train_loss: 0.07023176550865173 | train_acc: 0.9921875\n",
      "Iteration: 1100/1373 | train_loss: 0.14385592937469482 | train_acc: 0.9296875\n",
      "Iteration: 1200/1373 | train_loss: 0.17023126780986786 | train_acc: 0.953125\n",
      "Iteration: 1300/1373 | train_loss: 0.08708716928958893 | train_acc: 0.9765625\n",
      "Epoch: 18 | train_loss 0.11684137294402183 | train_acc: 0.9613550305366516 | val_loss: 0.4537745154405099 | val_acc: 0.8343691229820251\n",
      "Iteration: 0/1373 | train_loss: 0.120816171169281 | train_acc: 0.9375\n",
      "Iteration: 100/1373 | train_loss: 0.10727349668741226 | train_acc: 0.9765625\n",
      "Iteration: 200/1373 | train_loss: 0.11964535713195801 | train_acc: 0.96875\n",
      "Iteration: 300/1373 | train_loss: 0.07217784225940704 | train_acc: 0.96875\n",
      "Iteration: 400/1373 | train_loss: 0.09063863754272461 | train_acc: 0.9765625\n",
      "Iteration: 500/1373 | train_loss: 0.18584829568862915 | train_acc: 0.9375\n",
      "Iteration: 600/1373 | train_loss: 0.12119100987911224 | train_acc: 0.953125\n",
      "Iteration: 700/1373 | train_loss: 0.1039607971906662 | train_acc: 0.9609375\n",
      "Iteration: 800/1373 | train_loss: 0.12104681879281998 | train_acc: 0.9453125\n",
      "Iteration: 900/1373 | train_loss: 0.07958316057920456 | train_acc: 0.984375\n",
      "Iteration: 1000/1373 | train_loss: 0.12447869777679443 | train_acc: 0.9453125\n",
      "Iteration: 1100/1373 | train_loss: 0.06351862102746964 | train_acc: 0.9765625\n",
      "Iteration: 1200/1373 | train_loss: 0.11741866916418076 | train_acc: 0.953125\n",
      "Iteration: 1300/1373 | train_loss: 0.10388030111789703 | train_acc: 0.984375\n",
      "Epoch    20: reducing learning rate of group 0 to 6.2500e-06.\n",
      "Epoch: 19 | train_loss 0.11533070492617455 | train_acc: 0.9620891213417053 | val_loss: 0.4585098519777828 | val_acc: 0.8326809406280518\n",
      "Iteration: 0/1373 | train_loss: 0.09726355969905853 | train_acc: 0.9609375\n",
      "Iteration: 100/1373 | train_loss: 0.1609097719192505 | train_acc: 0.9453125\n",
      "Iteration: 200/1373 | train_loss: 0.12895025312900543 | train_acc: 0.953125\n",
      "Iteration: 300/1373 | train_loss: 0.11833169311285019 | train_acc: 0.96875\n",
      "Iteration: 400/1373 | train_loss: 0.06009703874588013 | train_acc: 0.9921875\n",
      "Iteration: 500/1373 | train_loss: 0.06463568657636642 | train_acc: 0.9765625\n",
      "Iteration: 600/1373 | train_loss: 0.058364249765872955 | train_acc: 0.9921875\n",
      "Iteration: 700/1373 | train_loss: 0.16188478469848633 | train_acc: 0.9453125\n",
      "Iteration: 800/1373 | train_loss: 0.07498657703399658 | train_acc: 0.9765625\n",
      "Iteration: 900/1373 | train_loss: 0.12263480573892593 | train_acc: 0.9765625\n",
      "Iteration: 1000/1373 | train_loss: 0.20009039342403412 | train_acc: 0.953125\n",
      "Iteration: 1100/1373 | train_loss: 0.1429467350244522 | train_acc: 0.953125\n",
      "Iteration: 1200/1373 | train_loss: 0.17742469906806946 | train_acc: 0.9140625\n",
      "Iteration: 1300/1373 | train_loss: 0.11770807951688766 | train_acc: 0.953125\n",
      "Epoch: 20 | train_loss 0.11384819211309577 | train_acc: 0.9626638889312744 | val_loss: 0.4465869963105516 | val_acc: 0.8370962738990784\n",
      "Iteration: 0/1373 | train_loss: 0.11435350030660629 | train_acc: 0.9609375\n",
      "Iteration: 100/1373 | train_loss: 0.07385074347257614 | train_acc: 0.984375\n",
      "Iteration: 200/1373 | train_loss: 0.12595048546791077 | train_acc: 0.9375\n",
      "Iteration: 300/1373 | train_loss: 0.12741544842720032 | train_acc: 0.953125\n",
      "Iteration: 400/1373 | train_loss: 0.11828333884477615 | train_acc: 0.9765625\n",
      "Iteration: 500/1373 | train_loss: 0.12902498245239258 | train_acc: 0.9609375\n",
      "Iteration: 600/1373 | train_loss: 0.10107648372650146 | train_acc: 0.9609375\n",
      "Iteration: 700/1373 | train_loss: 0.10919506847858429 | train_acc: 0.9453125\n",
      "Iteration: 800/1373 | train_loss: 0.11941395699977875 | train_acc: 0.96875\n",
      "Iteration: 900/1373 | train_loss: 0.06757674366235733 | train_acc: 0.9765625\n",
      "Iteration: 1000/1373 | train_loss: 0.1258494257926941 | train_acc: 0.953125\n",
      "Iteration: 1100/1373 | train_loss: 0.087403804063797 | train_acc: 0.96875\n",
      "Iteration: 1200/1373 | train_loss: 0.0954570546746254 | train_acc: 0.9765625\n",
      "Iteration: 1300/1373 | train_loss: 0.09996254742145538 | train_acc: 0.9609375\n",
      "Epoch    22: reducing learning rate of group 0 to 3.1250e-06.\n",
      "Epoch: 21 | train_loss 0.11342280728943109 | train_acc: 0.9627435803413391 | val_loss: 0.4389306187934894 | val_acc: 0.8378940224647522\n",
      "Iteration: 0/1373 | train_loss: 0.13240379095077515 | train_acc: 0.9453125\n",
      "Iteration: 100/1373 | train_loss: 0.13509683310985565 | train_acc: 0.9453125\n",
      "Iteration: 200/1373 | train_loss: 0.11862018704414368 | train_acc: 0.9375\n",
      "Iteration: 300/1373 | train_loss: 0.08596400171518326 | train_acc: 0.9765625\n",
      "Iteration: 400/1373 | train_loss: 0.05678500980138779 | train_acc: 0.984375\n",
      "Iteration: 500/1373 | train_loss: 0.06528850644826889 | train_acc: 0.96875\n",
      "Iteration: 600/1373 | train_loss: 0.1342809647321701 | train_acc: 0.96875\n",
      "Iteration: 700/1373 | train_loss: 0.06335555016994476 | train_acc: 0.984375\n",
      "Iteration: 800/1373 | train_loss: 0.09123051166534424 | train_acc: 0.96875\n",
      "Iteration: 900/1373 | train_loss: 0.18235769867897034 | train_acc: 0.9453125\n",
      "Iteration: 1000/1373 | train_loss: 0.06552759557962418 | train_acc: 0.9765625\n",
      "Iteration: 1100/1373 | train_loss: 0.11675535887479782 | train_acc: 0.9609375\n",
      "Iteration: 1200/1373 | train_loss: 0.09542956948280334 | train_acc: 0.9609375\n",
      "Iteration: 1300/1373 | train_loss: 0.08825596421957016 | train_acc: 0.9765625\n",
      "Saving model to drive/MyDrive/Classes/ece542/competition-project/experiments/models/window3/cnn_32_interval3.pth\n",
      "Epoch: 22 | train_loss 0.11227904587541786 | train_acc: 0.9631646871566772 | val_loss: 0.4346185336467399 | val_acc: 0.8400274515151978\n",
      "Iteration: 0/1373 | train_loss: 0.10497593134641647 | train_acc: 0.96875\n",
      "Iteration: 100/1373 | train_loss: 0.14218991994857788 | train_acc: 0.9140625\n",
      "Iteration: 200/1373 | train_loss: 0.07057598978281021 | train_acc: 0.96875\n",
      "Iteration: 300/1373 | train_loss: 0.15515747666358948 | train_acc: 0.9453125\n",
      "Iteration: 400/1373 | train_loss: 0.13148179650306702 | train_acc: 0.96875\n",
      "Iteration: 500/1373 | train_loss: 0.1300605684518814 | train_acc: 0.96875\n",
      "Iteration: 600/1373 | train_loss: 0.06822393089532852 | train_acc: 0.984375\n",
      "Iteration: 700/1373 | train_loss: 0.13829405605793 | train_acc: 0.96875\n",
      "Iteration: 800/1373 | train_loss: 0.17067554593086243 | train_acc: 0.921875\n",
      "Iteration: 900/1373 | train_loss: 0.11909742653369904 | train_acc: 0.9609375\n",
      "Iteration: 1000/1373 | train_loss: 0.10176102072000504 | train_acc: 0.96875\n",
      "Iteration: 1100/1373 | train_loss: 0.14554882049560547 | train_acc: 0.9453125\n",
      "Iteration: 1200/1373 | train_loss: 0.07577787339687347 | train_acc: 0.96875\n",
      "Iteration: 1300/1373 | train_loss: 0.1324106603860855 | train_acc: 0.9609375\n",
      "Epoch: 23 | train_loss 0.11099659728445468 | train_acc: 0.963591456413269 | val_loss: 0.43952799813149357 | val_acc: 0.837838351726532\n",
      "Iteration: 0/1373 | train_loss: 0.1682908684015274 | train_acc: 0.9296875\n",
      "Iteration: 100/1373 | train_loss: 0.10577520728111267 | train_acc: 0.9609375\n",
      "Iteration: 200/1373 | train_loss: 0.11226720362901688 | train_acc: 0.953125\n",
      "Iteration: 300/1373 | train_loss: 0.10891830176115036 | train_acc: 0.953125\n",
      "Iteration: 400/1373 | train_loss: 0.07934539765119553 | train_acc: 0.96875\n",
      "Iteration: 500/1373 | train_loss: 0.16999690234661102 | train_acc: 0.9375\n",
      "Iteration: 600/1373 | train_loss: 0.11723487824201584 | train_acc: 0.953125\n",
      "Iteration: 700/1373 | train_loss: 0.12676584720611572 | train_acc: 0.9453125\n",
      "Iteration: 800/1373 | train_loss: 0.16089005768299103 | train_acc: 0.953125\n",
      "Iteration: 900/1373 | train_loss: 0.1665768325328827 | train_acc: 0.9375\n",
      "Iteration: 1000/1373 | train_loss: 0.16225755214691162 | train_acc: 0.953125\n",
      "Iteration: 1100/1373 | train_loss: 0.13219037652015686 | train_acc: 0.953125\n",
      "Iteration: 1200/1373 | train_loss: 0.12247750908136368 | train_acc: 0.9765625\n",
      "Iteration: 1300/1373 | train_loss: 0.11205996572971344 | train_acc: 0.9453125\n",
      "Epoch    25: reducing learning rate of group 0 to 1.5625e-06.\n",
      "Epoch: 24 | train_loss 0.10982094008279153 | train_acc: 0.9639442563056946 | val_loss: 0.4467838099307734 | val_acc: 0.8360759019851685\n",
      "Iteration: 0/1373 | train_loss: 0.1093485876917839 | train_acc: 0.9765625\n",
      "Iteration: 100/1373 | train_loss: 0.08896504342556 | train_acc: 0.9765625\n",
      "Iteration: 200/1373 | train_loss: 0.135356605052948 | train_acc: 0.9375\n",
      "Iteration: 300/1373 | train_loss: 0.12749812006950378 | train_acc: 0.9453125\n",
      "Iteration: 400/1373 | train_loss: 0.08957923203706741 | train_acc: 0.9609375\n",
      "Iteration: 500/1373 | train_loss: 0.0686807706952095 | train_acc: 0.984375\n",
      "Iteration: 600/1373 | train_loss: 0.09795678406953812 | train_acc: 0.9765625\n",
      "Iteration: 700/1373 | train_loss: 0.12894465029239655 | train_acc: 0.96875\n",
      "Iteration: 800/1373 | train_loss: 0.08233921229839325 | train_acc: 0.9765625\n",
      "Iteration: 900/1373 | train_loss: 0.07043781876564026 | train_acc: 0.9765625\n",
      "Iteration: 1000/1373 | train_loss: 0.10290218144655228 | train_acc: 0.9609375\n",
      "Iteration: 1100/1373 | train_loss: 0.11885702610015869 | train_acc: 0.9609375\n",
      "Iteration: 1200/1373 | train_loss: 0.10421647876501083 | train_acc: 0.9765625\n",
      "Iteration: 1300/1373 | train_loss: 0.09422380477190018 | train_acc: 0.96875\n",
      "Epoch: 25 | train_loss 0.10946192125593347 | train_acc: 0.9637393951416016 | val_loss: 0.4424757197823544 | val_acc: 0.8373003602027893\n",
      "Iteration: 0/1373 | train_loss: 0.12713578343391418 | train_acc: 0.9609375\n",
      "Iteration: 100/1373 | train_loss: 0.1070634052157402 | train_acc: 0.9609375\n",
      "Iteration: 200/1373 | train_loss: 0.07506192475557327 | train_acc: 0.984375\n",
      "Iteration: 300/1373 | train_loss: 0.1354791224002838 | train_acc: 0.9609375\n",
      "Iteration: 400/1373 | train_loss: 0.1517648845911026 | train_acc: 0.9453125\n",
      "Iteration: 500/1373 | train_loss: 0.15026822686195374 | train_acc: 0.9609375\n",
      "Iteration: 600/1373 | train_loss: 0.08469332009553909 | train_acc: 0.96875\n",
      "Iteration: 700/1373 | train_loss: 0.051760442554950714 | train_acc: 0.984375\n",
      "Iteration: 800/1373 | train_loss: 0.15714319050312042 | train_acc: 0.9453125\n",
      "Iteration: 900/1373 | train_loss: 0.17285548150539398 | train_acc: 0.953125\n",
      "Iteration: 1000/1373 | train_loss: 0.10128110647201538 | train_acc: 0.9765625\n",
      "Iteration: 1100/1373 | train_loss: 0.10897406935691833 | train_acc: 0.96875\n",
      "Iteration: 1200/1373 | train_loss: 0.1432839334011078 | train_acc: 0.9375\n",
      "Iteration: 1300/1373 | train_loss: 0.10766943544149399 | train_acc: 0.96875\n",
      "Epoch    27: reducing learning rate of group 0 to 7.8125e-07.\n",
      "Epoch: 26 | train_loss 0.10991755231223145 | train_acc: 0.9639841318130493 | val_loss: 0.44437091663390516 | val_acc: 0.8375971913337708\n",
      "Iteration: 0/1373 | train_loss: 0.1796630471944809 | train_acc: 0.921875\n",
      "Iteration: 100/1373 | train_loss: 0.1268903762102127 | train_acc: 0.9453125\n",
      "Iteration: 200/1373 | train_loss: 0.10715928673744202 | train_acc: 0.953125\n",
      "Iteration: 300/1373 | train_loss: 0.1066797524690628 | train_acc: 0.953125\n",
      "Iteration: 400/1373 | train_loss: 0.07681863009929657 | train_acc: 0.9765625\n",
      "Iteration: 500/1373 | train_loss: 0.14660516381263733 | train_acc: 0.9765625\n",
      "Iteration: 600/1373 | train_loss: 0.10280905663967133 | train_acc: 0.984375\n",
      "Iteration: 700/1373 | train_loss: 0.2370118498802185 | train_acc: 0.9296875\n",
      "Iteration: 800/1373 | train_loss: 0.06466303020715714 | train_acc: 0.9765625\n",
      "Iteration: 900/1373 | train_loss: 0.09873279929161072 | train_acc: 0.9453125\n",
      "Iteration: 1000/1373 | train_loss: 0.11739771068096161 | train_acc: 0.96875\n",
      "Iteration: 1100/1373 | train_loss: 0.07386711984872818 | train_acc: 0.9765625\n",
      "Iteration: 1200/1373 | train_loss: 0.08545202761888504 | train_acc: 0.984375\n",
      "Iteration: 1300/1373 | train_loss: 0.09549687057733536 | train_acc: 0.96875\n",
      "Epoch: 27 | train_loss 0.10940790590742383 | train_acc: 0.9642288088798523 | val_loss: 0.44016380349938405 | val_acc: 0.8389700055122375\n",
      "Iteration: 0/1373 | train_loss: 0.21750251948833466 | train_acc: 0.9375\n",
      "Iteration: 100/1373 | train_loss: 0.08965855836868286 | train_acc: 0.984375\n",
      "Iteration: 200/1373 | train_loss: 0.14882107079029083 | train_acc: 0.953125\n",
      "Iteration: 300/1373 | train_loss: 0.11743992567062378 | train_acc: 0.9453125\n",
      "Iteration: 400/1373 | train_loss: 0.1061856597661972 | train_acc: 0.96875\n",
      "Iteration: 500/1373 | train_loss: 0.15194618701934814 | train_acc: 0.9296875\n",
      "Iteration: 600/1373 | train_loss: 0.08444172888994217 | train_acc: 0.953125\n",
      "Iteration: 700/1373 | train_loss: 0.131389781832695 | train_acc: 0.96875\n",
      "Iteration: 800/1373 | train_loss: 0.09425826370716095 | train_acc: 0.984375\n",
      "Iteration: 900/1373 | train_loss: 0.0967525765299797 | train_acc: 0.96875\n",
      "Iteration: 1000/1373 | train_loss: 0.057858940213918686 | train_acc: 0.9921875\n",
      "Iteration: 1100/1373 | train_loss: 0.06571388989686966 | train_acc: 0.984375\n",
      "Iteration: 1200/1373 | train_loss: 0.09902911633253098 | train_acc: 0.96875\n",
      "Iteration: 1300/1373 | train_loss: 0.11947259306907654 | train_acc: 0.9609375\n",
      "Epoch    29: reducing learning rate of group 0 to 3.9063e-07.\n",
      "Epoch: 28 | train_loss 0.10981786311579067 | train_acc: 0.9640467166900635 | val_loss: 0.44232365178117117 | val_acc: 0.8373745679855347\n",
      "Iteration: 0/1373 | train_loss: 0.05117928609251976 | train_acc: 0.9921875\n",
      "Iteration: 100/1373 | train_loss: 0.14419744908809662 | train_acc: 0.96875\n",
      "Iteration: 200/1373 | train_loss: 0.08820414543151855 | train_acc: 0.953125\n",
      "Iteration: 300/1373 | train_loss: 0.07184262573719025 | train_acc: 0.984375\n",
      "Iteration: 400/1373 | train_loss: 0.08100701123476028 | train_acc: 0.9765625\n",
      "Iteration: 500/1373 | train_loss: 0.09751585125923157 | train_acc: 0.96875\n",
      "Iteration: 600/1373 | train_loss: 0.06999564915895462 | train_acc: 0.984375\n",
      "Iteration: 700/1373 | train_loss: 0.16159386932849884 | train_acc: 0.9375\n",
      "Iteration: 800/1373 | train_loss: 0.08300500363111496 | train_acc: 0.9609375\n",
      "Iteration: 900/1373 | train_loss: 0.11479653418064117 | train_acc: 0.953125\n",
      "Iteration: 1000/1373 | train_loss: 0.09092787653207779 | train_acc: 0.96875\n",
      "Iteration: 1100/1373 | train_loss: 0.14278502762317657 | train_acc: 0.9375\n",
      "Iteration: 1200/1373 | train_loss: 0.10264044255018234 | train_acc: 0.984375\n",
      "Iteration: 1300/1373 | train_loss: 0.16834425926208496 | train_acc: 0.9453125\n",
      "Epoch: 29 | train_loss 0.10873464001290928 | train_acc: 0.9645304083824158 | val_loss: 0.44110413159545275 | val_acc: 0.8376899361610413\n"
     ]
    }
   ],
   "source": [
    "best_val_loss = float(\"inf\")\n",
    "\n",
    "for epoch in range(num_epochs):\n",
    "    # Train for \"n\" number of iterations\n",
    "    running_loss = 0.\n",
    "    running_acc = 0.\n",
    "    for iteration, (X, y) in enumerate(train_dataloader):\n",
    "\n",
    "        X = X.float().to(device)\n",
    "        # Normalize\n",
    "        X = (X - min) / (max - min)\n",
    "\n",
    "        y = y.view(X.size(0)).to(device)\n",
    "\n",
    "        loss, corrects = train_step(X, y, model, optimizer, criterion)\n",
    "\n",
    "        # Running metrics\n",
    "        running_loss = running_loss + loss * X.size(0)\n",
    "        running_acc = running_acc + corrects\n",
    "\n",
    "        if iteration % 100 == 0:\n",
    "            print(f\"Iteration: {iteration}/{train_iterations} | train_loss: {loss} | train_acc: {corrects/X.size(0)}\")\n",
    "\n",
    "    train_loss = running_loss / len(train_dataset)\n",
    "    train_acc = running_acc / len(train_dataset)\n",
    "\n",
    "    # Validate\n",
    "    running_val_loss = 0.\n",
    "    running_val_acc = 0.\n",
    "    for step, (X, y) in enumerate(val_dataloader):\n",
    "\n",
    "        X = X.float().to(device)\n",
    "        X = (X - min) / (max - min)\n",
    "\n",
    "        y = y.view(X.size(0)).to(device)\n",
    "\n",
    "        loss, corrects, predicted_classes = val_step(X, y, model, criterion)\n",
    "        # Running metrics\n",
    "        running_val_loss = running_val_loss + loss * X.size(0)\n",
    "        running_val_acc = running_val_acc + corrects\n",
    "\n",
    "    val_loss = running_val_loss / len(val_dataset)\n",
    "    val_acc = running_val_acc / len(val_dataset)\n",
    "\n",
    "    scheduler.step(val_loss)\n",
    "\n",
    "    if val_loss < best_val_loss:\n",
    "        # Checkpoint model\n",
    "        path = os.path.join(checkpoint_save_path, filename)\n",
    "        print(f\"Saving model to {path}\")\n",
    "        torch.save(model.state_dict(), path)\n",
    "        best_val_loss = val_loss\n",
    "\n",
    "    print(f\"Epoch: {epoch} | train_loss {train_loss} | train_acc: {train_acc} | val_loss: {val_loss} | val_acc: {val_acc}\")"
   ]
  },
  {
   "cell_type": "code",
   "execution_count": null,
   "metadata": {
    "colab": {
     "base_uri": "https://localhost:8080/"
    },
    "executionInfo": {
     "elapsed": 68,
     "status": "ok",
     "timestamp": 1636932869379,
     "user": {
      "displayName": "Chinmay Mahendra Savadikar",
      "photoUrl": "https://lh3.googleusercontent.com/a/default-user=s64",
      "userId": "11610851333453948182"
     },
     "user_tz": 300
    },
    "id": "7O1B49nb4-Ln",
    "outputId": "fa2aed10-13c0-4a14-9aa0-02163dd82d8b"
   },
   "outputs": [
    {
     "name": "stdout",
     "output_type": "stream",
     "text": [
      "Saving model to drive/MyDrive/Classes/ece542/competition-project/experiments/models/window3/cnn_32_interval3_long.pth\n"
     ]
    }
   ],
   "source": [
    "path = os.path.join(os.path.join(checkpoint_save_path, filename_long))\n",
    "print(f\"Saving model to {path}\")\n",
    "torch.save(model.state_dict(), path)"
   ]
  },
  {
   "cell_type": "code",
   "execution_count": null,
   "metadata": {
    "id": "X7g8J7WadLvm"
   },
   "outputs": [],
   "source": [
    "best_model = OneDConvNet(6, 4, base_filters)\n",
    "best_model.load_state_dict(torch.load(os.path.join(checkpoint_save_path, filename)))\n",
    "best_model = best_model.to(device)"
   ]
  },
  {
   "cell_type": "code",
   "execution_count": null,
   "metadata": {
    "id": "pK-nLeloml-n"
   },
   "outputs": [],
   "source": [
    "from sklearn.metrics import accuracy_score, precision_score, recall_score, f1_score\n",
    "\n",
    "class Evaluation:\n",
    "\n",
    "  def __init__(self):\n",
    "        pass\n",
    "  \n",
    "  def aggregate_metrics(self, y, y_hat):\n",
    "    \n",
    "    \"\"\" Metrics for entire set \n",
    "        \n",
    "        Arguments passed are: \n",
    "                      y     : ground truth  \n",
    "                      y_hat : predicted class\n",
    "        Calculations:\n",
    "                  accuracy  : (tp + tn) / (total samples =(p + n))\n",
    "                  precision : tp / (tp + fp)\n",
    "                  recall    : tp / (tp + fn)\n",
    "                  f1        : 2 tp / (2 tp + fp + fn)\n",
    "    \"\"\"\n",
    "    accuracy  = accuracy_score(y, y_hat)\n",
    "    precision = precision_score(y, y_hat, average=\"macro\")\n",
    "    recall    = recall_score(y, y_hat, average=\"macro\")\n",
    "    f1        = f1_score(y, y_hat, average=\"macro\")\n",
    "    return {\n",
    "        \"Accuracy\": accuracy,\n",
    "        \"Precision\": precision,\n",
    "        \"Recall\": recall,\n",
    "        \"F1\": f1\n",
    "        }\n",
    "\n",
    "  def classwise_metrics(self, y, y_hat):\n",
    "\n",
    "    \"\"\" Metrics for each class. \n",
    "        Average is set to macro for calculating the score of each label, and find their unweighted mean. \n",
    "        This does not take label imbalance into account.\n",
    "        \n",
    "        Arguments passed are: \n",
    "                      y     : ground truth  \n",
    "                      y_hat : predicted class\n",
    "        Calculations:\n",
    "                  accuracy  : (tp + tn) / (total samples =(p + n))\n",
    "                  precision : tp / (tp + fp)\n",
    "                  recall    : tp / (tp + fn)\n",
    "                  f1        : 2 tp / (2 tp + fp + fn)\n",
    "    \"\"\"\n",
    "    \n",
    "    class_precision = precision_score(y, y_hat, average=None)\n",
    "    class_recall    = recall_score(y, y_hat, average=None)\n",
    "    class_f1        = f1_score(y, y_hat, average=None)\n",
    "    \n",
    "    return {\n",
    "        \"Precision\": class_precision,\n",
    "        \"Recall\": class_recall,\n",
    "        \"F1\": class_f1\n",
    "    }"
   ]
  },
  {
   "cell_type": "code",
   "execution_count": null,
   "metadata": {
    "id": "MvN9WtxwznFw"
   },
   "outputs": [],
   "source": [
    "evaluator = Evaluation()"
   ]
  },
  {
   "cell_type": "code",
   "execution_count": null,
   "metadata": {
    "colab": {
     "base_uri": "https://localhost:8080/"
    },
    "executionInfo": {
     "elapsed": 8299,
     "status": "ok",
     "timestamp": 1636932878620,
     "user": {
      "displayName": "Chinmay Mahendra Savadikar",
      "photoUrl": "https://lh3.googleusercontent.com/a/default-user=s64",
      "userId": "11610851333453948182"
     },
     "user_tz": 300
    },
    "id": "bYbdv_EDml8M",
    "outputId": "eac6fbbf-cab0-4c75-ce56-2a8668e6aae2"
   },
   "outputs": [
    {
     "name": "stdout",
     "output_type": "stream",
     "text": [
      "Converting uid 001_08\n",
      "Converting uid 002_01\n",
      "Converting uid 001_01\n",
      "Converting uid 001_04\n"
     ]
    }
   ],
   "source": [
    "val_dataset = SubjectDataset(\n",
    "    val_data_path, \n",
    "    split_ids[\"val\"]\n",
    ")\n",
    "val_dataloader = DataLoader(val_dataset, batch_size=batch_size, shuffle=False)\n",
    "val_iterations = (len(val_dataset) // batch_size) + ((len(val_dataset) % batch_size) != 0)"
   ]
  },
  {
   "cell_type": "code",
   "execution_count": null,
   "metadata": {
    "id": "5qvZJ2dCxb-H"
   },
   "outputs": [],
   "source": [
    "output = []\n",
    "labels = []\n",
    "for X, y in val_dataloader:\n",
    "    X = X.float().to(device)\n",
    "    X = (X - min) / (max - min)\n",
    "    \n",
    "    y = y.view(X.size(0)).to(device)\n",
    "\n",
    "    y_pred = best_model(X)\n",
    "    predicted_classes = torch.argmax(y_pred, dim=1).detach().cpu().numpy()\n",
    "    y_true = y.cpu().numpy()\n",
    "\n",
    "    output.append(predicted_classes)\n",
    "    labels.append(y_true)"
   ]
  },
  {
   "cell_type": "code",
   "execution_count": null,
   "metadata": {
    "id": "I8p4RTYs0CuR"
   },
   "outputs": [],
   "source": [
    "_output = np.concatenate(output, axis=0)\n",
    "_labels = np.concatenate(labels, axis=0)"
   ]
  },
  {
   "cell_type": "code",
   "execution_count": null,
   "metadata": {
    "colab": {
     "base_uri": "https://localhost:8080/"
    },
    "executionInfo": {
     "elapsed": 185,
     "status": "ok",
     "timestamp": 1636932900668,
     "user": {
      "displayName": "Chinmay Mahendra Savadikar",
      "photoUrl": "https://lh3.googleusercontent.com/a/default-user=s64",
      "userId": "11610851333453948182"
     },
     "user_tz": 300
    },
    "id": "EI4HBWhS0Gao",
    "outputId": "7df52128-51fa-4811-eeeb-887871e07c98"
   },
   "outputs": [
    {
     "name": "stdout",
     "output_type": "stream",
     "text": [
      "Agg metrics\n",
      "{'Accuracy': 0.8392111756302989, 'Precision': 0.7669642439415235, 'Recall': 0.843616337791005, 'F1': 0.7913423483641792}\n",
      "Classwise Metrics\n",
      "{'Precision': array([0.87514906, 0.73543092, 0.59547901, 0.86179799]), 'Recall': array([0.88902975, 0.91149542, 0.91196835, 0.66197183]), 'F1': array([0.8820348 , 0.81405209, 0.72050013, 0.74878238])}\n"
     ]
    }
   ],
   "source": [
    "agg_metrics = evaluator.aggregate_metrics(_labels, _output)\n",
    "print(\"Agg metrics\")\n",
    "print(agg_metrics)\n",
    "classwise_metrics = evaluator.classwise_metrics(_labels, _output)\n",
    "print(\"Classwise Metrics\")\n",
    "print(classwise_metrics)"
   ]
  },
  {
   "cell_type": "code",
   "execution_count": null,
   "metadata": {
    "colab": {
     "base_uri": "https://localhost:8080/"
    },
    "executionInfo": {
     "elapsed": 27404,
     "status": "ok",
     "timestamp": 1636932928060,
     "user": {
      "displayName": "Chinmay Mahendra Savadikar",
      "photoUrl": "https://lh3.googleusercontent.com/a/default-user=s64",
      "userId": "11610851333453948182"
     },
     "user_tz": 300
    },
    "id": "UosykPCA0GX_",
    "outputId": "2196dd12-8375-4e42-bea7-786109a9829b"
   },
   "outputs": [
    {
     "name": "stdout",
     "output_type": "stream",
     "text": [
      "Converting uid 005_03\n",
      "Converting uid 006_01\n",
      "Converting uid 006_02\n",
      "Converting uid 006_03\n",
      "Converting uid 007_01\n",
      "Converting uid 007_02\n",
      "Converting uid 007_03\n",
      "Converting uid 007_04\n",
      "Converting uid 008_01\n"
     ]
    }
   ],
   "source": [
    "test_data_path = os.path.join(base_data_path, \"test\")\n",
    "test_dataset = SubjectDataset(\n",
    "    test_data_path, \n",
    "    split_ids[\"test\"]\n",
    ")\n",
    "test_dataloader = DataLoader(test_dataset, batch_size=batch_size, shuffle=False)\n",
    "test_iterations = (len(test_dataset) // batch_size) + ((len(test_dataset) % batch_size) != 0)"
   ]
  },
  {
   "cell_type": "code",
   "execution_count": null,
   "metadata": {
    "id": "GV5m259v4D5L"
   },
   "outputs": [],
   "source": [
    "output = []\n",
    "labels = []\n",
    "for X, y in test_dataloader:\n",
    "    X = X.float().to(device)\n",
    "    X = (X - min) / (max - min)\n",
    "    \n",
    "    y = y.view(X.size(0)).to(device)\n",
    "\n",
    "    y_pred = best_model(X)\n",
    "    predicted_classes = torch.argmax(y_pred, dim=1).detach().cpu().numpy()\n",
    "    y_true = y.cpu().numpy()\n",
    "\n",
    "    output.append(predicted_classes)\n",
    "    labels.append(y_true)"
   ]
  },
  {
   "cell_type": "code",
   "execution_count": null,
   "metadata": {
    "id": "cDB40FUf4TY8"
   },
   "outputs": [],
   "source": [
    "_output = np.concatenate(output, axis=0)\n",
    "_labels = np.concatenate(labels, axis=0)"
   ]
  },
  {
   "cell_type": "code",
   "execution_count": null,
   "metadata": {
    "colab": {
     "base_uri": "https://localhost:8080/"
    },
    "executionInfo": {
     "elapsed": 57,
     "status": "ok",
     "timestamp": 1636932967074,
     "user": {
      "displayName": "Chinmay Mahendra Savadikar",
      "photoUrl": "https://lh3.googleusercontent.com/a/default-user=s64",
      "userId": "11610851333453948182"
     },
     "user_tz": 300
    },
    "id": "GtmDpRBH4XDQ",
    "outputId": "06061a49-c2fc-464d-c7eb-ec6d799fd4c6"
   },
   "outputs": [
    {
     "name": "stdout",
     "output_type": "stream",
     "text": [
      "Agg metrics\n",
      "{'Accuracy': 0.8832410050859314, 'Precision': 0.7872710426580869, 'Recall': 0.9150362826641119, 'F1': 0.8411878791012724}\n",
      "Classwise Metrics\n",
      "{'Precision': array([0.97286864, 0.74481013, 0.7808265 , 0.6505789 ]), 'Recall': array([0.87901844, 0.94689411, 0.96585265, 0.86837993]), 'F1': array([0.92356547, 0.83378206, 0.86353964, 0.74386435])}\n"
     ]
    }
   ],
   "source": [
    "agg_metrics = evaluator.aggregate_metrics(_labels, _output)\n",
    "print(\"Agg metrics\")\n",
    "print(agg_metrics)\n",
    "classwise_metrics = evaluator.classwise_metrics(_labels, _output)\n",
    "print(\"Classwise Metrics\")\n",
    "print(classwise_metrics)"
   ]
  },
  {
   "cell_type": "code",
   "execution_count": null,
   "metadata": {
    "id": "gZISb6yI1ewr"
   },
   "outputs": [],
   "source": []
  }
 ],
 "metadata": {
  "colab": {
   "collapsed_sections": [],
   "name": "best-layer-norm-32.ipynb",
   "provenance": []
  },
  "kernelspec": {
   "display_name": "Python 3 (ipykernel)",
   "language": "python",
   "name": "python3"
  },
  "language_info": {
   "codemirror_mode": {
    "name": "ipython",
    "version": 3
   },
   "file_extension": ".py",
   "mimetype": "text/x-python",
   "name": "python",
   "nbconvert_exporter": "python",
   "pygments_lexer": "ipython3",
   "version": "3.9.5"
  }
 },
 "nbformat": 4,
 "nbformat_minor": 1
}
