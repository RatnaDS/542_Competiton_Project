{
 "cells": [
  {
   "cell_type": "code",
   "execution_count": 1,
   "metadata": {
    "colab": {
     "base_uri": "https://localhost:8080/"
    },
    "executionInfo": {
     "elapsed": 816,
     "status": "ok",
     "timestamp": 1636294659356,
     "user": {
      "displayName": "Chinmay Mahendra Savadikar",
      "photoUrl": "https://lh3.googleusercontent.com/a/default-user=s64",
      "userId": "11610851333453948182"
     },
     "user_tz": 300
    },
    "id": "prIF1sjM-c3i",
    "outputId": "a83f448d-8198-4283-ddd1-083b8d024ea1"
   },
   "outputs": [
    {
     "name": "stdout",
     "output_type": "stream",
     "text": [
      " 2_conv-plus-normalization.ipynb\n",
      " attempt-1.ipynb\n",
      " Best\n",
      " best-conv-plus-normalization.ipynb\n",
      "'Copy of attempt-1.ipynb'\n",
      "'Copy of conv-plus-normalization.ipynb'\n",
      "'Copy of current-conv-plus-normalization.ipynb'\n",
      "'Copy of Hyoer attempt-1.ipynb'\n",
      " current-conv-plus-normalization.ipynb\n",
      " data.zip\n",
      " experiments\n",
      "'Hyoer attempt-1.ipynb'\n",
      " ml_utils\n",
      " test_data.zip\n"
     ]
    }
   ],
   "source": [
    "!ls drive/MyDrive/Classes/ece542/competition-project/"
   ]
  },
  {
   "cell_type": "code",
   "execution_count": 2,
   "metadata": {
    "executionInfo": {
     "elapsed": 2373,
     "status": "ok",
     "timestamp": 1636294661719,
     "user": {
      "displayName": "Chinmay Mahendra Savadikar",
      "photoUrl": "https://lh3.googleusercontent.com/a/default-user=s64",
      "userId": "11610851333453948182"
     },
     "user_tz": 300
    },
    "id": "Ng-s1F7Z-xKL"
   },
   "outputs": [],
   "source": [
    "!cp drive/MyDrive/Classes/ece542/competition-project/data.zip ."
   ]
  },
  {
   "cell_type": "code",
   "execution_count": 3,
   "metadata": {
    "colab": {
     "base_uri": "https://localhost:8080/"
    },
    "executionInfo": {
     "elapsed": 6567,
     "status": "ok",
     "timestamp": 1636294669100,
     "user": {
      "displayName": "Chinmay Mahendra Savadikar",
      "photoUrl": "https://lh3.googleusercontent.com/a/default-user=s64",
      "userId": "11610851333453948182"
     },
     "user_tz": 300
    },
    "id": "8wUZq7ty_AZO",
    "outputId": "cb6d6c9e-fb90-431a-f1fe-ccb31dd1d022"
   },
   "outputs": [
    {
     "name": "stdout",
     "output_type": "stream",
     "text": [
      "Archive:  data.zip\n",
      "   creating: data/\n",
      "   creating: data/preprocessed_data/\n",
      "   creating: data/splits/\n",
      "   creating: data/splits/test/\n",
      "  inflating: data/splits/test/subject_007_session_02__x.csv  \n",
      "  inflating: data/splits/test/subject_007_session_03__x.csv  \n",
      "  inflating: data/splits/test/subject_005_session_03__x.csv  \n",
      "  inflating: data/splits/test/subject_007_session_01__x.csv  \n",
      "  inflating: data/splits/test/subject_006_session_01__y.csv  \n",
      "  inflating: data/splits/test/subject_006_session_03__y.csv  \n",
      "  inflating: data/splits/test/subject_008_session_01__y.csv  \n",
      "  inflating: data/splits/test/subject_006_session_01__x.csv  \n",
      "  inflating: data/splits/test/subject_006_session_02__y.csv  \n",
      "  inflating: data/splits/test/subject_006_session_02__x.csv  \n",
      "  inflating: data/splits/test/subject_007_session_02__y.csv  \n",
      "  inflating: data/splits/test/subject_007_session_04__x.csv  \n",
      "  inflating: data/splits/test/subject_007_session_01__y.csv  \n",
      "  inflating: data/splits/test/subject_006_session_03__x.csv  \n",
      "  inflating: data/splits/test/subject_007_session_04__y.csv  \n",
      "  inflating: data/splits/test/subject_008_session_01__x.csv  \n",
      "  inflating: data/splits/test/subject_005_session_03__y.csv  \n",
      "  inflating: data/splits/test/subject_007_session_03__y.csv  \n",
      "   creating: data/splits/train/\n",
      "  inflating: data/splits/train/subject_001_session_07__x.csv  \n",
      "  inflating: data/splits/train/subject_003_session_01__y.csv  \n",
      "  inflating: data/splits/train/subject_001_session_05__y.csv  \n",
      "  inflating: data/splits/train/subject_004_session_01__x.csv  \n",
      "  inflating: data/splits/train/subject_005_session_01__x.csv  \n",
      "  inflating: data/splits/train/subject_002_session_04__x.csv  \n",
      "  inflating: data/splits/train/subject_001_session_02__x.csv  \n",
      "  inflating: data/splits/train/subject_002_session_02__y.csv  \n",
      "  inflating: data/splits/train/subject_001_session_07__y.csv  \n",
      "  inflating: data/splits/train/subject_004_session_02__x.csv  \n",
      "  inflating: data/splits/train/subject_005_session_01__y.csv  \n",
      "  inflating: data/splits/train/subject_003_session_03__x.csv  \n",
      "  inflating: data/splits/train/subject_001_session_06__y.csv  \n",
      "  inflating: data/splits/train/subject_005_session_02__y.csv  \n",
      "  inflating: data/splits/train/subject_001_session_05__x.csv  \n",
      "  inflating: data/splits/train/subject_002_session_05__y.csv  \n",
      "  inflating: data/splits/train/subject_002_session_03__x.csv  \n",
      "  inflating: data/splits/train/subject_003_session_01__x.csv  \n",
      "  inflating: data/splits/train/subject_001_session_06__x.csv  \n",
      "  inflating: data/splits/train/subject_002_session_05__x.csv  \n",
      "  inflating: data/splits/train/subject_003_session_03__y.csv  \n",
      "  inflating: data/splits/train/subject_003_session_02__x.csv  \n",
      "  inflating: data/splits/train/subject_001_session_03__y.csv  \n",
      "  inflating: data/splits/train/subject_002_session_04__y.csv  \n",
      "  inflating: data/splits/train/subject_004_session_02__y.csv  \n",
      "  inflating: data/splits/train/subject_003_session_02__y.csv  \n",
      "  inflating: data/splits/train/subject_002_session_02__x.csv  \n",
      "  inflating: data/splits/train/subject_001_session_02__y.csv  \n",
      "  inflating: data/splits/train/subject_005_session_02__x.csv  \n",
      "  inflating: data/splits/train/subject_001_session_03__x.csv  \n",
      "  inflating: data/splits/train/subject_004_session_01__y.csv  \n",
      "  inflating: data/splits/train/subject_002_session_03__y.csv  \n",
      "   creating: data/splits/val/\n",
      "  inflating: data/splits/val/subject_001_session_08__y.csv  \n",
      "  inflating: data/splits/val/subject_001_session_04__y.csv  \n",
      "  inflating: data/splits/val/subject_002_session_01__y.csv  \n",
      "  inflating: data/splits/val/subject_001_session_01__x.csv  \n",
      "  inflating: data/splits/val/subject_001_session_08__x.csv  \n",
      "  inflating: data/splits/val/subject_001_session_04__x.csv  \n",
      "  inflating: data/splits/val/subject_002_session_01__x.csv  \n",
      "  inflating: data/splits/val/subject_001_session_01__y.csv  \n",
      "  inflating: data/.gitignore         \n",
      "   creating: metadata/\n",
      "  inflating: metadata/statistics.csv  \n",
      "  inflating: metadata/statistics.json  \n",
      "  inflating: metadata/split_ids.json  \n"
     ]
    }
   ],
   "source": [
    "!unzip data.zip"
   ]
  },
  {
   "cell_type": "code",
   "execution_count": 4,
   "metadata": {
    "executionInfo": {
     "elapsed": 20,
     "status": "ok",
     "timestamp": 1636294669102,
     "user": {
      "displayName": "Chinmay Mahendra Savadikar",
      "photoUrl": "https://lh3.googleusercontent.com/a/default-user=s64",
      "userId": "11610851333453948182"
     },
     "user_tz": 300
    },
    "id": "1ZeuQxwE_NzP"
   },
   "outputs": [],
   "source": [
    "!rm data.zip"
   ]
  },
  {
   "cell_type": "code",
   "execution_count": 5,
   "metadata": {
    "colab": {
     "base_uri": "https://localhost:8080/"
    },
    "executionInfo": {
     "elapsed": 931,
     "status": "ok",
     "timestamp": 1636294670019,
     "user": {
      "displayName": "Chinmay Mahendra Savadikar",
      "photoUrl": "https://lh3.googleusercontent.com/a/default-user=s64",
      "userId": "11610851333453948182"
     },
     "user_tz": 300
    },
    "id": "sjjVhlkupOBO",
    "outputId": "3e793acb-20ff-4d79-9506-87f193a46917"
   },
   "outputs": [
    {
     "name": "stdout",
     "output_type": "stream",
     "text": [
      "Cloning into 'ece542-competition-project'...\n",
      "remote: Enumerating objects: 186, done.\u001b[K\n",
      "remote: Counting objects: 100% (186/186), done.\u001b[K\n",
      "remote: Compressing objects: 100% (134/134), done.\u001b[K\n",
      "remote: Total 186 (delta 93), reused 123 (delta 42), pack-reused 0\u001b[K\n",
      "Receiving objects: 100% (186/186), 266.05 KiB | 26.61 MiB/s, done.\n",
      "Resolving deltas: 100% (93/93), done.\n"
     ]
    }
   ],
   "source": [
    "# Access token redacted. Replace <ACCESS_TOKEN> with your access token.\n",
    "!git clone https://savadikarc:<ACCESS_TOKEN>@github.com/savadikarc/ece542-competition-project.git"
   ]
  },
  {
   "cell_type": "code",
   "execution_count": 6,
   "metadata": {
    "colab": {
     "base_uri": "https://localhost:8080/"
    },
    "executionInfo": {
     "elapsed": 364,
     "status": "ok",
     "timestamp": 1636294679847,
     "user": {
      "displayName": "Chinmay Mahendra Savadikar",
      "photoUrl": "https://lh3.googleusercontent.com/a/default-user=s64",
      "userId": "11610851333453948182"
     },
     "user_tz": 300
    },
    "id": "Y8yURtFRqGkj",
    "outputId": "af353a5c-01b7-4a68-919c-299e2e3e0ce9"
   },
   "outputs": [
    {
     "name": "stdout",
     "output_type": "stream",
     "text": [
      "Already on 'phase-1'\n",
      "Your branch is up to date with 'origin/phase-1'.\n",
      "From https://github.com/savadikarc/ece542-competition-project\n",
      " * branch            phase-1    -> FETCH_HEAD\n",
      "Already up to date.\n"
     ]
    }
   ],
   "source": [
    "!cd ece542-competition-project && git checkout phase-1 && git pull origin phase-1"
   ]
  },
  {
   "cell_type": "markdown",
   "metadata": {
    "id": "9OoQXL-PPr87"
   },
   "source": []
  },
  {
   "cell_type": "code",
   "execution_count": 1,
   "metadata": {
    "executionInfo": {
     "elapsed": 162,
     "status": "ok",
     "timestamp": 1636300493222,
     "user": {
      "displayName": "Chinmay Mahendra Savadikar",
      "photoUrl": "https://lh3.googleusercontent.com/a/default-user=s64",
      "userId": "11610851333453948182"
     },
     "user_tz": 300
    },
    "id": "DJlBSAfPnuG_"
   },
   "outputs": [],
   "source": [
    "base_path = \"drive/MyDrive/Classes/ece542/competition-project\""
   ]
  },
  {
   "cell_type": "code",
   "execution_count": 2,
   "metadata": {
    "executionInfo": {
     "elapsed": 2,
     "status": "ok",
     "timestamp": 1636300493413,
     "user": {
      "displayName": "Chinmay Mahendra Savadikar",
      "photoUrl": "https://lh3.googleusercontent.com/a/default-user=s64",
      "userId": "11610851333453948182"
     },
     "user_tz": 300
    },
    "id": "8kUcwing_Qkz"
   },
   "outputs": [],
   "source": [
    "import os\n",
    "import sys\n",
    "sys.path.append(\"ece542-competition-project\")"
   ]
  },
  {
   "cell_type": "code",
   "execution_count": 3,
   "metadata": {
    "executionInfo": {
     "elapsed": 717,
     "status": "ok",
     "timestamp": 1636300494301,
     "user": {
      "displayName": "Chinmay Mahendra Savadikar",
      "photoUrl": "https://lh3.googleusercontent.com/a/default-user=s64",
      "userId": "11610851333453948182"
     },
     "user_tz": 300
    },
    "id": "_JxS3qkHmmRB"
   },
   "outputs": [],
   "source": [
    "import json\n",
    "from collections import Counter\n",
    "import torch\n",
    "import torch.nn as nn\n",
    "import torch.nn.functional as F\n",
    "from torch import optim\n",
    "from torch.optim.lr_scheduler import ReduceLROnPlateau\n",
    "from torch.utils.data import DataLoader\n",
    "from torch.utils.data.sampler import WeightedRandomSampler\n",
    "import numpy as np\n",
    "from ml_utils.dataset import SubjectDataset"
   ]
  },
  {
   "cell_type": "code",
   "execution_count": 4,
   "metadata": {
    "colab": {
     "base_uri": "https://localhost:8080/"
    },
    "executionInfo": {
     "elapsed": 9,
     "status": "ok",
     "timestamp": 1636300494301,
     "user": {
      "displayName": "Chinmay Mahendra Savadikar",
      "photoUrl": "https://lh3.googleusercontent.com/a/default-user=s64",
      "userId": "11610851333453948182"
     },
     "user_tz": 300
    },
    "id": "LJCQfTElnJJm",
    "outputId": "7ade91c6-f336-4e68-dda1-ae9be1853d5b"
   },
   "outputs": [
    {
     "name": "stdout",
     "output_type": "stream",
     "text": [
      "Device: cpu\n"
     ]
    }
   ],
   "source": [
    "device = torch.device(\"cuda:0\" if torch.cuda.is_available() else \"cpu\")\n",
    "print(f\"Device: {device}\")"
   ]
  },
  {
   "cell_type": "code",
   "execution_count": 5,
   "metadata": {
    "executionInfo": {
     "elapsed": 4,
     "status": "ok",
     "timestamp": 1636300494301,
     "user": {
      "displayName": "Chinmay Mahendra Savadikar",
      "photoUrl": "https://lh3.googleusercontent.com/a/default-user=s64",
      "userId": "11610851333453948182"
     },
     "user_tz": 300
    },
    "id": "5mKgxfP1mmMg"
   },
   "outputs": [],
   "source": [
    "base_data_path = os.path.join(\"data\", \"splits\")\n",
    "train_data_path = os.path.join(base_data_path, \"train\")\n",
    "val_data_path = os.path.join(base_data_path, \"val\")\n",
    "\n",
    "splits_file = os.path.join(base_path, \"experiments\", \"metadata\", \"split_ids.json\")\n",
    "with open(splits_file, \"r\") as f:\n",
    "    split_ids = json.load(f)"
   ]
  },
  {
   "cell_type": "code",
   "execution_count": 6,
   "metadata": {
    "executionInfo": {
     "elapsed": 4,
     "status": "ok",
     "timestamp": 1636300494302,
     "user": {
      "displayName": "Chinmay Mahendra Savadikar",
      "photoUrl": "https://lh3.googleusercontent.com/a/default-user=s64",
      "userId": "11610851333453948182"
     },
     "user_tz": 300
    },
    "id": "kuihFDGQbTBm"
   },
   "outputs": [],
   "source": [
    "stats_path = os.path.join(base_path, \"experiments\", \"metadata\", \"statistics.json\")\n",
    "with open(stats_path, \"r\") as f:\n",
    "    stats = json.load(f)"
   ]
  },
  {
   "cell_type": "code",
   "execution_count": 7,
   "metadata": {
    "executionInfo": {
     "elapsed": 4,
     "status": "ok",
     "timestamp": 1636300494302,
     "user": {
      "displayName": "Chinmay Mahendra Savadikar",
      "photoUrl": "https://lh3.googleusercontent.com/a/default-user=s64",
      "userId": "11610851333453948182"
     },
     "user_tz": 300
    },
    "id": "mzQdu4exbfOl"
   },
   "outputs": [],
   "source": [
    "min = np.array([v[\"min\"] for k, v in stats.items()])\n",
    "max = np.array([v[\"max\"] for k, v in stats.items()])\n",
    "\n",
    "min = torch.from_numpy(min).float()\n",
    "min = torch.unsqueeze((torch.unsqueeze(min, 0)), -1)\n",
    "min = min.to(device)\n",
    "max = torch.from_numpy(max).float().to(device)\n",
    "max = torch.unsqueeze((torch.unsqueeze(max, 0)), -1)\n",
    "max = max.to(device)"
   ]
  },
  {
   "cell_type": "code",
   "execution_count": 8,
   "metadata": {
    "colab": {
     "base_uri": "https://localhost:8080/"
    },
    "executionInfo": {
     "elapsed": 11,
     "status": "ok",
     "timestamp": 1636300494780,
     "user": {
      "displayName": "Chinmay Mahendra Savadikar",
      "photoUrl": "https://lh3.googleusercontent.com/a/default-user=s64",
      "userId": "11610851333453948182"
     },
     "user_tz": 300
    },
    "id": "XJXYMQrWb-zN",
    "outputId": "d6228044-ec5c-457b-9490-bceba1628ec2"
   },
   "outputs": [
    {
     "data": {
      "text/plain": [
       "torch.Size([1, 6, 1])"
      ]
     },
     "execution_count": 8,
     "metadata": {},
     "output_type": "execute_result"
    }
   ],
   "source": [
    "min.shape"
   ]
  },
  {
   "cell_type": "code",
   "execution_count": 9,
   "metadata": {
    "executionInfo": {
     "elapsed": 2,
     "status": "ok",
     "timestamp": 1636300495237,
     "user": {
      "displayName": "Chinmay Mahendra Savadikar",
      "photoUrl": "https://lh3.googleusercontent.com/a/default-user=s64",
      "userId": "11610851333453948182"
     },
     "user_tz": 300
    },
    "id": "n5RT6OvirVrA"
   },
   "outputs": [],
   "source": [
    "# Training hyperparameters\n",
    "batch_size = 128\n",
    "num_epochs = 30"
   ]
  },
  {
   "cell_type": "code",
   "execution_count": 10,
   "metadata": {
    "colab": {
     "base_uri": "https://localhost:8080/"
    },
    "executionInfo": {
     "elapsed": 7966,
     "status": "ok",
     "timestamp": 1636300503787,
     "user": {
      "displayName": "Chinmay Mahendra Savadikar",
      "photoUrl": "https://lh3.googleusercontent.com/a/default-user=s64",
      "userId": "11610851333453948182"
     },
     "user_tz": 300
    },
    "id": "jy47cYBEmmKS",
    "outputId": "183eaabe-6816-4f82-bc6e-2cd4bda401ec"
   },
   "outputs": [
    {
     "name": "stdout",
     "output_type": "stream",
     "text": [
      "Converting uid 005_02\n",
      "Converting uid 001_06\n",
      "Converting uid 003_02\n",
      "Converting uid 001_05\n",
      "Converting uid 002_02\n",
      "Converting uid 003_01\n",
      "Converting uid 003_03\n",
      "Converting uid 005_01\n",
      "Converting uid 001_07\n",
      "Converting uid 002_05\n",
      "Converting uid 004_02\n",
      "Converting uid 002_03\n",
      "Converting uid 001_02\n",
      "Converting uid 002_04\n",
      "Converting uid 001_03\n",
      "Converting uid 004_01\n",
      "Converting uid 001_08\n",
      "Converting uid 002_01\n",
      "Converting uid 001_01\n",
      "Converting uid 001_04\n"
     ]
    }
   ],
   "source": [
    "train_dataset = SubjectDataset(\n",
    "    train_data_path, \n",
    "    split_ids[\"train\"]\n",
    ")\n",
    "ys = train_dataset.y.tolist()\n",
    "counts = Counter(ys)\n",
    "weights = np.array([1./counts[_y] for _y in ys])\n",
    "sample_weights = torch.from_numpy(weights).float()\n",
    "sampler = WeightedRandomSampler(\n",
    "    weights=sample_weights,\n",
    "    num_samples=len(sample_weights),\n",
    "    replacement=True)\n",
    "train_dataloader = DataLoader(train_dataset, batch_size=batch_size, sampler=sampler)\n",
    "train_iterations = (len(train_dataset) // batch_size) + ((len(train_dataset) % batch_size) != 0)\n",
    "\n",
    "val_dataset = SubjectDataset(\n",
    "    val_data_path, \n",
    "    split_ids[\"val\"]\n",
    ")\n",
    "val_dataloader = DataLoader(val_dataset, batch_size=batch_size, shuffle=True)\n",
    "val_iterations = (len(val_dataset) // batch_size) + ((len(val_dataset) % batch_size) != 0)"
   ]
  },
  {
   "cell_type": "code",
   "execution_count": 11,
   "metadata": {
    "colab": {
     "base_uri": "https://localhost:8080/"
    },
    "executionInfo": {
     "elapsed": 10,
     "status": "ok",
     "timestamp": 1636300503787,
     "user": {
      "displayName": "Chinmay Mahendra Savadikar",
      "photoUrl": "https://lh3.googleusercontent.com/a/default-user=s64",
      "userId": "11610851333453948182"
     },
     "user_tz": 300
    },
    "id": "L4JQ2YWz6JeB",
    "outputId": "8a3ebcc3-99e8-4e41-8e87-49314502e682"
   },
   "outputs": [
    {
     "name": "stdout",
     "output_type": "stream",
     "text": [
      "1373\n",
      "422\n"
     ]
    }
   ],
   "source": [
    "print(train_iterations)\n",
    "print(val_iterations)"
   ]
  },
  {
   "cell_type": "code",
   "execution_count": 12,
   "metadata": {
    "executionInfo": {
     "elapsed": 7,
     "status": "ok",
     "timestamp": 1636300503788,
     "user": {
      "displayName": "Chinmay Mahendra Savadikar",
      "photoUrl": "https://lh3.googleusercontent.com/a/default-user=s64",
      "userId": "11610851333453948182"
     },
     "user_tz": 300
    },
    "id": "7UxWDOBmmmOv"
   },
   "outputs": [],
   "source": [
    "class OneDConvNet(nn.Module):\n",
    "  def __init__(self, n_features, n_classes, base_filters=32):\n",
    "    super(OneDConvNet, self).__init__()\n",
    "\n",
    "    self.conv1 = nn.Conv1d(in_channels=n_features, out_channels=base_filters, kernel_size=3, stride=1, padding=1)\n",
    "    self.norm1 = nn.LayerNorm(base_filters*40)\n",
    "    self.pool1 = nn.AvgPool1d(kernel_size=2, stride=2)\n",
    "    self.conv2 = nn.Conv1d(in_channels=base_filters, out_channels=base_filters*2, kernel_size=3, stride=1, padding=1)\n",
    "    self.norm2 = nn.LayerNorm(base_filters*2*20)\n",
    "    self.pool2 = nn.AvgPool1d(kernel_size=2, stride=2)\n",
    "    self.conv3 = nn.Conv1d(in_channels=base_filters*2, out_channels=base_filters*4, kernel_size=3, stride=1, padding=1)\n",
    "    self.norm3 = nn.LayerNorm(base_filters*4*10)\n",
    "    self.pool3 = nn.AvgPool1d(kernel_size=2, stride=2)\n",
    "    self.conv4 = nn.Conv1d(in_channels=base_filters*4, out_channels=base_filters*8, kernel_size=3, stride=1, padding=1)\n",
    "    self.norm4 = nn.LayerNorm(base_filters*8*5)\n",
    "    self.fc1 = nn.Linear(base_filters*8, base_filters*16)\n",
    "    self.dropout5 = nn.Dropout(0.4)\n",
    "    self.fc2 = nn.Linear(base_filters*16, n_classes)\n",
    "  \n",
    "  def forward(self, x):\n",
    "    x = self.conv1(x)\n",
    "    N, C, T = x.shape\n",
    "    x = x.view(N, C*T)\n",
    "    x = self.norm1(x)\n",
    "    x = x.view(N, C, T)\n",
    "    x = self.pool1(F.relu(x))\n",
    "\n",
    "    x = self.conv2(x)\n",
    "    N, C, T = x.shape\n",
    "    x = x.view(N, C*T)\n",
    "    x = self.norm2(x)\n",
    "    x = x.view(N, C, T)\n",
    "    x = self.pool2(F.relu(x))\n",
    "\n",
    "    x = self.conv3(x)\n",
    "    N, C, T = x.shape\n",
    "    x = x.view(N, C*T)\n",
    "    x = self.norm3(x)\n",
    "    x = x.view(N, C, T)\n",
    "    x = self.pool3(F.relu(x))\n",
    "\n",
    "    x = self.conv4(x)\n",
    "    N, C, T = x.shape\n",
    "    x = x.view(N, C*T)\n",
    "    x = self.norm4(x)\n",
    "    x = x.view(N, C, T)\n",
    "    x = F.relu(x)\n",
    "\n",
    "    N, C, T = x.size()\n",
    "    x = x.mean(dim=-1) # Flatten\n",
    "    x = self.dropout5(F.relu(self.fc1(x)))\n",
    "    x = self.fc2(x)\n",
    "    return x\n",
    "\n",
    "model = OneDConvNet(6, 4).to(device)"
   ]
  },
  {
   "cell_type": "code",
   "execution_count": 13,
   "metadata": {
    "executionInfo": {
     "elapsed": 6,
     "status": "ok",
     "timestamp": 1636300503788,
     "user": {
      "displayName": "Chinmay Mahendra Savadikar",
      "photoUrl": "https://lh3.googleusercontent.com/a/default-user=s64",
      "userId": "11610851333453948182"
     },
     "user_tz": 300
    },
    "id": "_7npRJhHxdC1"
   },
   "outputs": [],
   "source": [
    "# import numpy as np\n",
    "# X = np.random.randn(1, 6, 40)\n",
    "# T = torch.from_numpy(X).float().to(device)\n",
    "# y = model(T)"
   ]
  },
  {
   "cell_type": "code",
   "execution_count": 14,
   "metadata": {
    "executionInfo": {
     "elapsed": 6,
     "status": "ok",
     "timestamp": 1636300503788,
     "user": {
      "displayName": "Chinmay Mahendra Savadikar",
      "photoUrl": "https://lh3.googleusercontent.com/a/default-user=s64",
      "userId": "11610851333453948182"
     },
     "user_tz": 300
    },
    "id": "sksNpnMfyLOP"
   },
   "outputs": [],
   "source": [
    "# y.shape"
   ]
  },
  {
   "cell_type": "code",
   "execution_count": 15,
   "metadata": {
    "executionInfo": {
     "elapsed": 206,
     "status": "ok",
     "timestamp": 1636300503988,
     "user": {
      "displayName": "Chinmay Mahendra Savadikar",
      "photoUrl": "https://lh3.googleusercontent.com/a/default-user=s64",
      "userId": "11610851333453948182"
     },
     "user_tz": 300
    },
    "id": "JSfdHJ4Ry4AG"
   },
   "outputs": [],
   "source": [
    "optimizer = optim.SGD(model.parameters(), lr=1e-3, momentum=0.9)\n",
    "# optimizer = optim.Adam(model.parameters(), lr=0.001)\n",
    "# optimizer = optim.RMSprop(model.parameters(), lr=1e-3)\n",
    "scheduler = ReduceLROnPlateau(optimizer, factor=0.5, patience=1, verbose=True)\n",
    "criterion = nn.CrossEntropyLoss()"
   ]
  },
  {
   "cell_type": "code",
   "execution_count": 16,
   "metadata": {
    "executionInfo": {
     "elapsed": 3,
     "status": "ok",
     "timestamp": 1636300503989,
     "user": {
      "displayName": "Chinmay Mahendra Savadikar",
      "photoUrl": "https://lh3.googleusercontent.com/a/default-user=s64",
      "userId": "11610851333453948182"
     },
     "user_tz": 300
    },
    "id": "V6FBCiBQmmH2"
   },
   "outputs": [],
   "source": [
    "def train_step(X, y, model, optimizer, criterion):\n",
    "\n",
    "    y_pred = model(X)\n",
    "    predicted_classes = torch.argmax(y_pred.detach(), dim=1)\n",
    "\n",
    "    loss = criterion(y_pred, y)\n",
    "    optimizer.zero_grad()\n",
    "    loss.backward()\n",
    "    optimizer.step()\n",
    "\n",
    "    corrects = torch.sum(y.data == predicted_classes)\n",
    "\n",
    "    return loss.item(), corrects\n",
    "\n",
    "def val_step(X, y, model, criterion):\n",
    "\n",
    "    with torch.no_grad():\n",
    "        \n",
    "        y_pred = model(X)\n",
    "        predicted_classes = torch.argmax(y_pred.detach(), dim=1)\n",
    "        loss = criterion(y_pred, y)\n",
    "        corrects = torch.sum(y.data == predicted_classes)\n",
    "\n",
    "    return loss.item(), corrects, predicted_classes.detach().cpu().numpy()"
   ]
  },
  {
   "cell_type": "code",
   "execution_count": 17,
   "metadata": {
    "colab": {
     "base_uri": "https://localhost:8080/"
    },
    "executionInfo": {
     "elapsed": 1710212,
     "status": "ok",
     "timestamp": 1636302214199,
     "user": {
      "displayName": "Chinmay Mahendra Savadikar",
      "photoUrl": "https://lh3.googleusercontent.com/a/default-user=s64",
      "userId": "11610851333453948182"
     },
     "user_tz": 300
    },
    "id": "T2K4z1p8mmCQ",
    "outputId": "b28edce2-d5be-406b-92fb-16819cb1f53e"
   },
   "outputs": [
    {
     "name": "stdout",
     "output_type": "stream",
     "text": [
      "Iteration: 0/1373 | train_loss: 1.3779423236846924 | train_acc: 0.3203125\n",
      "Iteration: 100/1373 | train_loss: 1.3927409648895264 | train_acc: 0.3046875\n",
      "Iteration: 200/1373 | train_loss: 1.3847651481628418 | train_acc: 0.28125\n",
      "Iteration: 300/1373 | train_loss: 1.3679240942001343 | train_acc: 0.3515625\n",
      "Iteration: 400/1373 | train_loss: 1.357666015625 | train_acc: 0.265625\n",
      "Iteration: 500/1373 | train_loss: 1.3148541450500488 | train_acc: 0.4296875\n",
      "Iteration: 600/1373 | train_loss: 1.0439575910568237 | train_acc: 0.578125\n",
      "Iteration: 700/1373 | train_loss: 1.0828886032104492 | train_acc: 0.4765625\n",
      "Iteration: 800/1373 | train_loss: 0.6599233746528625 | train_acc: 0.71875\n",
      "Iteration: 900/1373 | train_loss: 0.7967070937156677 | train_acc: 0.5390625\n",
      "Iteration: 1000/1373 | train_loss: 0.6864047050476074 | train_acc: 0.6875\n",
      "Iteration: 1100/1373 | train_loss: 0.5797671675682068 | train_acc: 0.6796875\n",
      "Iteration: 1200/1373 | train_loss: 0.4667274057865143 | train_acc: 0.8046875\n",
      "Iteration: 1300/1373 | train_loss: 0.3717942535877228 | train_acc: 0.8515625\n",
      "Saving model to drive/MyDrive/Classes/ece542/competition-project/experiments/models/checkpoint_instance_norm_dropout_sgd_lr3.pth\n",
      "Epoch: 0 | train_loss 0.9734458634542505 | train_acc: 0.5284018516540527 | val_loss: 0.8728909153605499 | val_acc: 0.5929725766181946\n",
      "Iteration: 0/1373 | train_loss: 0.4687887132167816 | train_acc: 0.8046875\n",
      "Iteration: 100/1373 | train_loss: 0.31943610310554504 | train_acc: 0.875\n",
      "Iteration: 200/1373 | train_loss: 0.3521093726158142 | train_acc: 0.859375\n",
      "Iteration: 300/1373 | train_loss: 0.3374233841896057 | train_acc: 0.875\n",
      "Iteration: 400/1373 | train_loss: 0.30109232664108276 | train_acc: 0.8359375\n",
      "Iteration: 500/1373 | train_loss: 0.27534279227256775 | train_acc: 0.90625\n",
      "Iteration: 600/1373 | train_loss: 0.2797592878341675 | train_acc: 0.875\n",
      "Iteration: 700/1373 | train_loss: 0.408683717250824 | train_acc: 0.859375\n",
      "Iteration: 800/1373 | train_loss: 0.3422878086566925 | train_acc: 0.8515625\n",
      "Iteration: 900/1373 | train_loss: 0.3805716633796692 | train_acc: 0.8046875\n",
      "Iteration: 1000/1373 | train_loss: 0.2673967480659485 | train_acc: 0.875\n",
      "Iteration: 1100/1373 | train_loss: 0.3762517273426056 | train_acc: 0.84375\n",
      "Iteration: 1200/1373 | train_loss: 0.3107864260673523 | train_acc: 0.890625\n",
      "Iteration: 1300/1373 | train_loss: 0.2076830267906189 | train_acc: 0.921875\n",
      "Saving model to drive/MyDrive/Classes/ece542/competition-project/experiments/models/checkpoint_instance_norm_dropout_sgd_lr3.pth\n",
      "Epoch: 1 | train_loss 0.34167135566090406 | train_acc: 0.8598572611808777 | val_loss: 0.6844683385055883 | val_acc: 0.7396619915962219\n",
      "Iteration: 0/1373 | train_loss: 0.24123065173625946 | train_acc: 0.90625\n",
      "Iteration: 100/1373 | train_loss: 0.246638685464859 | train_acc: 0.9140625\n",
      "Iteration: 200/1373 | train_loss: 0.26591235399246216 | train_acc: 0.8828125\n",
      "Iteration: 300/1373 | train_loss: 0.3147921562194824 | train_acc: 0.8515625\n",
      "Iteration: 400/1373 | train_loss: 0.1563211977481842 | train_acc: 0.9375\n",
      "Iteration: 500/1373 | train_loss: 0.21503978967666626 | train_acc: 0.8984375\n",
      "Iteration: 600/1373 | train_loss: 0.27663087844848633 | train_acc: 0.8984375\n",
      "Iteration: 700/1373 | train_loss: 0.37503308057785034 | train_acc: 0.828125\n",
      "Iteration: 800/1373 | train_loss: 0.17498779296875 | train_acc: 0.9453125\n",
      "Iteration: 900/1373 | train_loss: 0.24692824482917786 | train_acc: 0.9140625\n",
      "Iteration: 1000/1373 | train_loss: 0.22315183281898499 | train_acc: 0.9296875\n",
      "Iteration: 1100/1373 | train_loss: 0.2279232144355774 | train_acc: 0.921875\n",
      "Iteration: 1200/1373 | train_loss: 0.29648205637931824 | train_acc: 0.8984375\n",
      "Iteration: 1300/1373 | train_loss: 0.21379415690898895 | train_acc: 0.9140625\n",
      "Saving model to drive/MyDrive/Classes/ece542/competition-project/experiments/models/checkpoint_instance_norm_dropout_sgd_lr3.pth\n",
      "Epoch: 2 | train_loss 0.24542512321291993 | train_acc: 0.9068503379821777 | val_loss: 0.6824133375946154 | val_acc: 0.7508301734924316\n",
      "Iteration: 0/1373 | train_loss: 0.1486794352531433 | train_acc: 0.953125\n",
      "Iteration: 100/1373 | train_loss: 0.15591856837272644 | train_acc: 0.96875\n",
      "Iteration: 200/1373 | train_loss: 0.17560306191444397 | train_acc: 0.921875\n",
      "Iteration: 300/1373 | train_loss: 0.24770258367061615 | train_acc: 0.8984375\n",
      "Iteration: 400/1373 | train_loss: 0.2683120369911194 | train_acc: 0.921875\n",
      "Iteration: 500/1373 | train_loss: 0.176654651761055 | train_acc: 0.9609375\n",
      "Iteration: 600/1373 | train_loss: 0.19623325765132904 | train_acc: 0.921875\n",
      "Iteration: 700/1373 | train_loss: 0.15152613818645477 | train_acc: 0.9296875\n",
      "Iteration: 800/1373 | train_loss: 0.1539595127105713 | train_acc: 0.9453125\n",
      "Iteration: 900/1373 | train_loss: 0.19577538967132568 | train_acc: 0.9296875\n",
      "Iteration: 1000/1373 | train_loss: 0.16811195015907288 | train_acc: 0.9453125\n",
      "Iteration: 1100/1373 | train_loss: 0.15840637683868408 | train_acc: 0.9453125\n",
      "Iteration: 1200/1373 | train_loss: 0.2566913962364197 | train_acc: 0.8984375\n",
      "Iteration: 1300/1373 | train_loss: 0.14160366356372833 | train_acc: 0.9609375\n",
      "Epoch: 3 | train_loss 0.21222733704946975 | train_acc: 0.9215150475502014 | val_loss: 0.695271370030665 | val_acc: 0.7512383460998535\n",
      "Iteration: 0/1373 | train_loss: 0.22761192917823792 | train_acc: 0.9140625\n",
      "Iteration: 100/1373 | train_loss: 0.1768471896648407 | train_acc: 0.9375\n",
      "Iteration: 200/1373 | train_loss: 0.17843282222747803 | train_acc: 0.9296875\n",
      "Iteration: 300/1373 | train_loss: 0.32680845260620117 | train_acc: 0.859375\n",
      "Iteration: 400/1373 | train_loss: 0.2103825956583023 | train_acc: 0.921875\n",
      "Iteration: 500/1373 | train_loss: 0.2507668137550354 | train_acc: 0.9140625\n",
      "Iteration: 600/1373 | train_loss: 0.17568384110927582 | train_acc: 0.9296875\n",
      "Iteration: 700/1373 | train_loss: 0.347734659910202 | train_acc: 0.84375\n",
      "Iteration: 800/1373 | train_loss: 0.17668446898460388 | train_acc: 0.90625\n",
      "Iteration: 900/1373 | train_loss: 0.23865459859371185 | train_acc: 0.9296875\n",
      "Iteration: 1000/1373 | train_loss: 0.2722724378108978 | train_acc: 0.921875\n",
      "Iteration: 1100/1373 | train_loss: 0.1497882604598999 | train_acc: 0.9609375\n",
      "Iteration: 1200/1373 | train_loss: 0.2300763875246048 | train_acc: 0.9453125\n",
      "Iteration: 1300/1373 | train_loss: 0.15836259722709656 | train_acc: 0.9453125\n",
      "Epoch     5: reducing learning rate of group 0 to 5.0000e-04.\n",
      "Epoch: 4 | train_loss 0.18928918881821935 | train_acc: 0.9306427836418152 | val_loss: 0.7809145250988412 | val_acc: 0.7369905114173889\n",
      "Iteration: 0/1373 | train_loss: 0.2937900424003601 | train_acc: 0.8984375\n",
      "Iteration: 100/1373 | train_loss: 0.06865846365690231 | train_acc: 0.984375\n",
      "Iteration: 200/1373 | train_loss: 0.13950127363204956 | train_acc: 0.9453125\n",
      "Iteration: 300/1373 | train_loss: 0.2526901364326477 | train_acc: 0.90625\n",
      "Iteration: 400/1373 | train_loss: 0.22588711977005005 | train_acc: 0.921875\n",
      "Iteration: 500/1373 | train_loss: 0.17532603442668915 | train_acc: 0.953125\n",
      "Iteration: 600/1373 | train_loss: 0.10099054127931595 | train_acc: 0.9609375\n",
      "Iteration: 700/1373 | train_loss: 0.16676440834999084 | train_acc: 0.953125\n",
      "Iteration: 800/1373 | train_loss: 0.18810734152793884 | train_acc: 0.9375\n",
      "Iteration: 900/1373 | train_loss: 0.13143765926361084 | train_acc: 0.9375\n",
      "Iteration: 1000/1373 | train_loss: 0.16363054513931274 | train_acc: 0.921875\n",
      "Iteration: 1100/1373 | train_loss: 0.10221615433692932 | train_acc: 0.9609375\n",
      "Iteration: 1200/1373 | train_loss: 0.14974933862686157 | train_acc: 0.9375\n",
      "Iteration: 1300/1373 | train_loss: 0.12851296365261078 | train_acc: 0.9609375\n",
      "Saving model to drive/MyDrive/Classes/ece542/competition-project/experiments/models/checkpoint_instance_norm_dropout_sgd_lr3.pth\n",
      "Epoch: 5 | train_loss 0.1549656692436785 | train_acc: 0.9449376463890076 | val_loss: 0.6723173807318099 | val_acc: 0.7729254364967346\n",
      "Iteration: 0/1373 | train_loss: 0.184799924492836 | train_acc: 0.921875\n",
      "Iteration: 100/1373 | train_loss: 0.09065279364585876 | train_acc: 0.984375\n",
      "Iteration: 200/1373 | train_loss: 0.11959678679704666 | train_acc: 0.9609375\n",
      "Iteration: 300/1373 | train_loss: 0.14914824068546295 | train_acc: 0.9453125\n",
      "Iteration: 400/1373 | train_loss: 0.22698643803596497 | train_acc: 0.921875\n",
      "Iteration: 500/1373 | train_loss: 0.17127500474452972 | train_acc: 0.9453125\n",
      "Iteration: 600/1373 | train_loss: 0.12654326856136322 | train_acc: 0.9609375\n",
      "Iteration: 700/1373 | train_loss: 0.12520208954811096 | train_acc: 0.96875\n",
      "Iteration: 800/1373 | train_loss: 0.10750555247068405 | train_acc: 0.953125\n",
      "Iteration: 900/1373 | train_loss: 0.07670505344867706 | train_acc: 0.9765625\n",
      "Iteration: 1000/1373 | train_loss: 0.09014208614826202 | train_acc: 0.96875\n",
      "Iteration: 1100/1373 | train_loss: 0.10917877405881882 | train_acc: 0.9765625\n",
      "Iteration: 1200/1373 | train_loss: 0.10576336085796356 | train_acc: 0.9609375\n",
      "Iteration: 1300/1373 | train_loss: 0.1266668289899826 | train_acc: 0.9453125\n",
      "Saving model to drive/MyDrive/Classes/ece542/competition-project/experiments/models/checkpoint_instance_norm_dropout_sgd_lr3.pth\n",
      "Epoch: 6 | train_loss 0.1487593692754946 | train_acc: 0.947020411491394 | val_loss: 0.6189732090244952 | val_acc: 0.7690852284431458\n",
      "Iteration: 0/1373 | train_loss: 0.13235929608345032 | train_acc: 0.9375\n",
      "Iteration: 100/1373 | train_loss: 0.15062911808490753 | train_acc: 0.9375\n",
      "Iteration: 200/1373 | train_loss: 0.30135345458984375 | train_acc: 0.9140625\n",
      "Iteration: 300/1373 | train_loss: 0.12907403707504272 | train_acc: 0.953125\n",
      "Iteration: 400/1373 | train_loss: 0.13165609538555145 | train_acc: 0.953125\n",
      "Iteration: 500/1373 | train_loss: 0.1401491016149521 | train_acc: 0.9453125\n",
      "Iteration: 600/1373 | train_loss: 0.1328291893005371 | train_acc: 0.9453125\n",
      "Iteration: 700/1373 | train_loss: 0.15326058864593506 | train_acc: 0.9375\n",
      "Iteration: 800/1373 | train_loss: 0.12683135271072388 | train_acc: 0.953125\n",
      "Iteration: 900/1373 | train_loss: 0.15730586647987366 | train_acc: 0.953125\n",
      "Iteration: 1000/1373 | train_loss: 0.14557860791683197 | train_acc: 0.953125\n",
      "Iteration: 1100/1373 | train_loss: 0.14531248807907104 | train_acc: 0.9375\n",
      "Iteration: 1200/1373 | train_loss: 0.15266110002994537 | train_acc: 0.9453125\n",
      "Iteration: 1300/1373 | train_loss: 0.07268134504556656 | train_acc: 0.984375\n",
      "Epoch: 7 | train_loss 0.1383602176912059 | train_acc: 0.9511290192604065 | val_loss: 0.666007129889 | val_acc: 0.7786023020744324\n",
      "Iteration: 0/1373 | train_loss: 0.15653614699840546 | train_acc: 0.953125\n",
      "Iteration: 100/1373 | train_loss: 0.09944021701812744 | train_acc: 0.96875\n",
      "Iteration: 200/1373 | train_loss: 0.16030561923980713 | train_acc: 0.9375\n",
      "Iteration: 300/1373 | train_loss: 0.2350199967622757 | train_acc: 0.9296875\n",
      "Iteration: 400/1373 | train_loss: 0.14608603715896606 | train_acc: 0.9375\n",
      "Iteration: 500/1373 | train_loss: 0.17097127437591553 | train_acc: 0.9453125\n",
      "Iteration: 600/1373 | train_loss: 0.17499911785125732 | train_acc: 0.9296875\n",
      "Iteration: 700/1373 | train_loss: 0.1099902093410492 | train_acc: 0.9609375\n",
      "Iteration: 800/1373 | train_loss: 0.13233952224254608 | train_acc: 0.953125\n",
      "Iteration: 900/1373 | train_loss: 0.13848228752613068 | train_acc: 0.9453125\n",
      "Iteration: 1000/1373 | train_loss: 0.03956911340355873 | train_acc: 1.0\n",
      "Iteration: 1100/1373 | train_loss: 0.1411203294992447 | train_acc: 0.953125\n",
      "Iteration: 1200/1373 | train_loss: 0.09093881398439407 | train_acc: 0.96875\n",
      "Iteration: 1300/1373 | train_loss: 0.10971664637327194 | train_acc: 0.96875\n",
      "Epoch     9: reducing learning rate of group 0 to 2.5000e-04.\n",
      "Epoch: 8 | train_loss 0.13209558773195984 | train_acc: 0.9534280300140381 | val_loss: 0.7655434691768638 | val_acc: 0.7646512985229492\n",
      "Iteration: 0/1373 | train_loss: 0.12599514424800873 | train_acc: 0.9609375\n",
      "Iteration: 100/1373 | train_loss: 0.1326141059398651 | train_acc: 0.9375\n",
      "Iteration: 200/1373 | train_loss: 0.13016340136528015 | train_acc: 0.9609375\n",
      "Iteration: 300/1373 | train_loss: 0.08895623683929443 | train_acc: 0.96875\n",
      "Iteration: 400/1373 | train_loss: 0.12279725074768066 | train_acc: 0.9609375\n",
      "Iteration: 500/1373 | train_loss: 0.0889708399772644 | train_acc: 0.9765625\n",
      "Iteration: 600/1373 | train_loss: 0.13477618992328644 | train_acc: 0.9453125\n",
      "Iteration: 700/1373 | train_loss: 0.16311600804328918 | train_acc: 0.9453125\n",
      "Iteration: 800/1373 | train_loss: 0.12525120377540588 | train_acc: 0.953125\n",
      "Iteration: 900/1373 | train_loss: 0.11610817164182663 | train_acc: 0.9609375\n",
      "Iteration: 1000/1373 | train_loss: 0.06441493332386017 | train_acc: 0.96875\n",
      "Iteration: 1100/1373 | train_loss: 0.07503066956996918 | train_acc: 0.984375\n",
      "Iteration: 1200/1373 | train_loss: 0.1389317661523819 | train_acc: 0.9453125\n",
      "Iteration: 1300/1373 | train_loss: 0.13637560606002808 | train_acc: 0.953125\n",
      "Epoch: 9 | train_loss 0.11757681185033145 | train_acc: 0.9591869115829468 | val_loss: 0.7210723003947381 | val_acc: 0.7616830468177795\n",
      "Iteration: 0/1373 | train_loss: 0.0809989869594574 | train_acc: 0.9765625\n",
      "Iteration: 100/1373 | train_loss: 0.14253926277160645 | train_acc: 0.9296875\n",
      "Iteration: 200/1373 | train_loss: 0.08344732224941254 | train_acc: 0.984375\n",
      "Iteration: 300/1373 | train_loss: 0.11840373277664185 | train_acc: 0.9453125\n",
      "Iteration: 400/1373 | train_loss: 0.08275604993104935 | train_acc: 0.9765625\n",
      "Iteration: 500/1373 | train_loss: 0.118728406727314 | train_acc: 0.9609375\n",
      "Iteration: 600/1373 | train_loss: 0.096223846077919 | train_acc: 0.96875\n",
      "Iteration: 700/1373 | train_loss: 0.09996823966503143 | train_acc: 0.9765625\n",
      "Iteration: 800/1373 | train_loss: 0.10345949977636337 | train_acc: 0.9609375\n",
      "Iteration: 900/1373 | train_loss: 0.1087358146905899 | train_acc: 0.9609375\n",
      "Iteration: 1000/1373 | train_loss: 0.17134959995746613 | train_acc: 0.9375\n",
      "Iteration: 1100/1373 | train_loss: 0.12955188751220703 | train_acc: 0.9609375\n",
      "Iteration: 1200/1373 | train_loss: 0.07406046241521835 | train_acc: 0.9765625\n",
      "Iteration: 1300/1373 | train_loss: 0.03929050639271736 | train_acc: 1.0\n",
      "Epoch    11: reducing learning rate of group 0 to 1.2500e-04.\n",
      "Epoch: 10 | train_loss 0.11490223264717007 | train_acc: 0.9597218632698059 | val_loss: 0.7078945497598413 | val_acc: 0.77609783411026\n",
      "Iteration: 0/1373 | train_loss: 0.12629473209381104 | train_acc: 0.953125\n",
      "Iteration: 100/1373 | train_loss: 0.11457283049821854 | train_acc: 0.9765625\n",
      "Iteration: 200/1373 | train_loss: 0.14060242474079132 | train_acc: 0.9609375\n",
      "Iteration: 300/1373 | train_loss: 0.11433302611112595 | train_acc: 0.953125\n",
      "Iteration: 400/1373 | train_loss: 0.07602234184741974 | train_acc: 0.9765625\n",
      "Iteration: 500/1373 | train_loss: 0.16688172519207 | train_acc: 0.9375\n",
      "Iteration: 600/1373 | train_loss: 0.0833183228969574 | train_acc: 0.96875\n",
      "Iteration: 700/1373 | train_loss: 0.09677357971668243 | train_acc: 0.9609375\n",
      "Iteration: 800/1373 | train_loss: 0.07883228361606598 | train_acc: 0.96875\n",
      "Iteration: 900/1373 | train_loss: 0.09063056111335754 | train_acc: 0.9609375\n",
      "Iteration: 1000/1373 | train_loss: 0.05598382651805878 | train_acc: 0.984375\n",
      "Iteration: 1100/1373 | train_loss: 0.11567585170269012 | train_acc: 0.953125\n",
      "Iteration: 1200/1373 | train_loss: 0.13851529359817505 | train_acc: 0.96875\n",
      "Iteration: 1300/1373 | train_loss: 0.1469031721353531 | train_acc: 0.9453125\n",
      "Epoch: 11 | train_loss 0.10549612059072644 | train_acc: 0.9635630249977112 | val_loss: 0.7479937088046559 | val_acc: 0.7540582418441772\n",
      "Iteration: 0/1373 | train_loss: 0.06212571635842323 | train_acc: 0.9765625\n",
      "Iteration: 100/1373 | train_loss: 0.07682672142982483 | train_acc: 0.9921875\n",
      "Iteration: 200/1373 | train_loss: 0.07231123745441437 | train_acc: 0.984375\n",
      "Iteration: 300/1373 | train_loss: 0.09973981231451035 | train_acc: 0.9609375\n",
      "Iteration: 400/1373 | train_loss: 0.11015275865793228 | train_acc: 0.9609375\n",
      "Iteration: 500/1373 | train_loss: 0.06620687246322632 | train_acc: 0.9765625\n",
      "Iteration: 600/1373 | train_loss: 0.06444327533245087 | train_acc: 0.9765625\n",
      "Iteration: 700/1373 | train_loss: 0.06808501482009888 | train_acc: 0.984375\n",
      "Iteration: 800/1373 | train_loss: 0.10089144110679626 | train_acc: 0.9609375\n",
      "Iteration: 900/1373 | train_loss: 0.11484551429748535 | train_acc: 0.96875\n",
      "Iteration: 1000/1373 | train_loss: 0.1104898676276207 | train_acc: 0.9609375\n",
      "Iteration: 1100/1373 | train_loss: 0.058118242770433426 | train_acc: 0.984375\n",
      "Iteration: 1200/1373 | train_loss: 0.1121138408780098 | train_acc: 0.9453125\n",
      "Iteration: 1300/1373 | train_loss: 0.07096265256404877 | train_acc: 0.984375\n",
      "Epoch    13: reducing learning rate of group 0 to 6.2500e-05.\n",
      "Epoch: 12 | train_loss 0.10413376979314813 | train_acc: 0.964604377746582 | val_loss: 0.7708009004337462 | val_acc: 0.7604585886001587\n",
      "Iteration: 0/1373 | train_loss: 0.1278834342956543 | train_acc: 0.96875\n",
      "Iteration: 100/1373 | train_loss: 0.14709803462028503 | train_acc: 0.9609375\n",
      "Iteration: 200/1373 | train_loss: 0.10367593914270401 | train_acc: 0.96875\n",
      "Iteration: 300/1373 | train_loss: 0.08702478557825089 | train_acc: 0.9765625\n",
      "Iteration: 400/1373 | train_loss: 0.09717299789190292 | train_acc: 0.96875\n",
      "Iteration: 500/1373 | train_loss: 0.09118560701608658 | train_acc: 0.9609375\n",
      "Iteration: 600/1373 | train_loss: 0.13474397361278534 | train_acc: 0.96875\n",
      "Iteration: 700/1373 | train_loss: 0.17947912216186523 | train_acc: 0.9375\n",
      "Iteration: 800/1373 | train_loss: 0.08566427230834961 | train_acc: 0.9765625\n",
      "Iteration: 900/1373 | train_loss: 0.06373947113752365 | train_acc: 0.9765625\n",
      "Iteration: 1000/1373 | train_loss: 0.11880773305892944 | train_acc: 0.953125\n",
      "Iteration: 1100/1373 | train_loss: 0.053029630333185196 | train_acc: 0.9921875\n",
      "Iteration: 1200/1373 | train_loss: 0.09278649836778641 | train_acc: 0.9609375\n",
      "Iteration: 1300/1373 | train_loss: 0.07319870591163635 | train_acc: 0.9765625\n",
      "Epoch: 13 | train_loss 0.1006928979841714 | train_acc: 0.9657197594642639 | val_loss: 0.7648322257511629 | val_acc: 0.7601988911628723\n",
      "Iteration: 0/1373 | train_loss: 0.09249014407396317 | train_acc: 0.9765625\n",
      "Iteration: 100/1373 | train_loss: 0.09966561198234558 | train_acc: 0.953125\n",
      "Iteration: 200/1373 | train_loss: 0.09139201790094376 | train_acc: 0.953125\n",
      "Iteration: 300/1373 | train_loss: 0.09756170213222504 | train_acc: 0.953125\n",
      "Iteration: 400/1373 | train_loss: 0.10118928551673889 | train_acc: 0.96875\n",
      "Iteration: 500/1373 | train_loss: 0.146345853805542 | train_acc: 0.953125\n",
      "Iteration: 600/1373 | train_loss: 0.0821346566081047 | train_acc: 0.9765625\n",
      "Iteration: 700/1373 | train_loss: 0.11219722777605057 | train_acc: 0.9296875\n",
      "Iteration: 800/1373 | train_loss: 0.10356900840997696 | train_acc: 0.9765625\n",
      "Iteration: 900/1373 | train_loss: 0.07047904282808304 | train_acc: 0.9765625\n",
      "Iteration: 1000/1373 | train_loss: 0.07081324607133865 | train_acc: 0.9765625\n",
      "Iteration: 1100/1373 | train_loss: 0.09101404994726181 | train_acc: 0.9765625\n",
      "Iteration: 1200/1373 | train_loss: 0.076072096824646 | train_acc: 0.984375\n",
      "Iteration: 1300/1373 | train_loss: 0.09216388314962387 | train_acc: 0.96875\n",
      "Epoch    15: reducing learning rate of group 0 to 3.1250e-05.\n",
      "Epoch: 14 | train_loss 0.10042263508361295 | train_acc: 0.9661067128181458 | val_loss: 0.7771701954183952 | val_acc: 0.7714969515800476\n",
      "Iteration: 0/1373 | train_loss: 0.08825986832380295 | train_acc: 0.96875\n",
      "Iteration: 100/1373 | train_loss: 0.0367853045463562 | train_acc: 0.9921875\n",
      "Iteration: 200/1373 | train_loss: 0.1756165623664856 | train_acc: 0.9375\n",
      "Iteration: 300/1373 | train_loss: 0.17444030940532684 | train_acc: 0.9453125\n",
      "Iteration: 400/1373 | train_loss: 0.04252764582633972 | train_acc: 0.9921875\n",
      "Iteration: 500/1373 | train_loss: 0.08777297288179398 | train_acc: 0.953125\n",
      "Iteration: 600/1373 | train_loss: 0.07408354431390762 | train_acc: 0.96875\n",
      "Iteration: 700/1373 | train_loss: 0.14131905138492584 | train_acc: 0.96875\n",
      "Iteration: 800/1373 | train_loss: 0.11985556781291962 | train_acc: 0.9453125\n",
      "Iteration: 900/1373 | train_loss: 0.2181675136089325 | train_acc: 0.9296875\n",
      "Iteration: 1000/1373 | train_loss: 0.04705004766583443 | train_acc: 0.9765625\n",
      "Iteration: 1100/1373 | train_loss: 0.050773993134498596 | train_acc: 0.9921875\n",
      "Iteration: 1200/1373 | train_loss: 0.06835360080003738 | train_acc: 0.9921875\n",
      "Iteration: 1300/1373 | train_loss: 0.13942629098892212 | train_acc: 0.9375\n",
      "Epoch: 15 | train_loss 0.09631505593430917 | train_acc: 0.9675919413566589 | val_loss: 0.7535151282221617 | val_acc: 0.7702725529670715\n",
      "Iteration: 0/1373 | train_loss: 0.045623332262039185 | train_acc: 0.984375\n",
      "Iteration: 100/1373 | train_loss: 0.11658085882663727 | train_acc: 0.96875\n",
      "Iteration: 200/1373 | train_loss: 0.09584485739469528 | train_acc: 0.9609375\n",
      "Iteration: 300/1373 | train_loss: 0.0825108215212822 | train_acc: 0.953125\n",
      "Iteration: 400/1373 | train_loss: 0.0989590659737587 | train_acc: 0.96875\n",
      "Iteration: 500/1373 | train_loss: 0.07215926051139832 | train_acc: 0.953125\n",
      "Iteration: 600/1373 | train_loss: 0.11792407929897308 | train_acc: 0.9453125\n",
      "Iteration: 700/1373 | train_loss: 0.12032429873943329 | train_acc: 0.9609375\n",
      "Iteration: 800/1373 | train_loss: 0.14260593056678772 | train_acc: 0.953125\n",
      "Iteration: 900/1373 | train_loss: 0.08009849488735199 | train_acc: 0.9765625\n",
      "Iteration: 1000/1373 | train_loss: 0.0718158483505249 | train_acc: 0.9765625\n",
      "Iteration: 1100/1373 | train_loss: 0.09066031873226166 | train_acc: 0.9609375\n",
      "Iteration: 1200/1373 | train_loss: 0.11724653095006943 | train_acc: 0.9609375\n",
      "Iteration: 1300/1373 | train_loss: 0.07804631441831589 | train_acc: 0.96875\n",
      "Epoch    17: reducing learning rate of group 0 to 1.5625e-05.\n",
      "Epoch: 16 | train_loss 0.09747237362850128 | train_acc: 0.9672732949256897 | val_loss: 0.7859744053936853 | val_acc: 0.7684173583984375\n",
      "Iteration: 0/1373 | train_loss: 0.10261863470077515 | train_acc: 0.9609375\n",
      "Iteration: 100/1373 | train_loss: 0.06394851952791214 | train_acc: 0.984375\n",
      "Iteration: 200/1373 | train_loss: 0.06992679834365845 | train_acc: 0.96875\n",
      "Iteration: 300/1373 | train_loss: 0.1192093938589096 | train_acc: 0.953125\n",
      "Iteration: 400/1373 | train_loss: 0.09374119341373444 | train_acc: 0.9609375\n",
      "Iteration: 500/1373 | train_loss: 0.08096829801797867 | train_acc: 0.984375\n",
      "Iteration: 600/1373 | train_loss: 0.04169522598385811 | train_acc: 1.0\n",
      "Iteration: 700/1373 | train_loss: 0.06486781686544418 | train_acc: 0.9765625\n",
      "Iteration: 800/1373 | train_loss: 0.07228006422519684 | train_acc: 0.9765625\n",
      "Iteration: 900/1373 | train_loss: 0.07152657210826874 | train_acc: 0.96875\n",
      "Iteration: 1000/1373 | train_loss: 0.0783245861530304 | train_acc: 0.984375\n",
      "Iteration: 1100/1373 | train_loss: 0.23280903697013855 | train_acc: 0.90625\n",
      "Iteration: 1200/1373 | train_loss: 0.04827350005507469 | train_acc: 0.9921875\n",
      "Iteration: 1300/1373 | train_loss: 0.07620973885059357 | train_acc: 0.9765625\n",
      "Epoch: 17 | train_loss 0.0953246673709337 | train_acc: 0.9674895405769348 | val_loss: 0.7683679160520128 | val_acc: 0.7722204923629761\n",
      "Iteration: 0/1373 | train_loss: 0.10513444989919662 | train_acc: 0.9609375\n",
      "Iteration: 100/1373 | train_loss: 0.09045936912298203 | train_acc: 0.96875\n",
      "Iteration: 200/1373 | train_loss: 0.10286012291908264 | train_acc: 0.9765625\n",
      "Iteration: 300/1373 | train_loss: 0.06954653561115265 | train_acc: 0.96875\n",
      "Iteration: 400/1373 | train_loss: 0.084394671022892 | train_acc: 0.96875\n",
      "Iteration: 500/1373 | train_loss: 0.05912403762340546 | train_acc: 0.9765625\n",
      "Iteration: 600/1373 | train_loss: 0.09172713756561279 | train_acc: 0.96875\n",
      "Iteration: 700/1373 | train_loss: 0.11083473265171051 | train_acc: 0.9609375\n",
      "Iteration: 800/1373 | train_loss: 0.08146709203720093 | train_acc: 0.984375\n",
      "Iteration: 900/1373 | train_loss: 0.11269522458314896 | train_acc: 0.9609375\n",
      "Iteration: 1000/1373 | train_loss: 0.1301414668560028 | train_acc: 0.9609375\n",
      "Iteration: 1100/1373 | train_loss: 0.1672855168581009 | train_acc: 0.9453125\n",
      "Iteration: 1200/1373 | train_loss: 0.07844927906990051 | train_acc: 0.9765625\n",
      "Iteration: 1300/1373 | train_loss: 0.0886695608496666 | train_acc: 0.984375\n",
      "Epoch    19: reducing learning rate of group 0 to 7.8125e-06.\n",
      "Epoch: 18 | train_loss 0.09423723723730906 | train_acc: 0.9678707718849182 | val_loss: 0.788195432374719 | val_acc: 0.76889967918396\n",
      "Iteration: 0/1373 | train_loss: 0.12090013176202774 | train_acc: 0.96875\n",
      "Iteration: 100/1373 | train_loss: 0.08152235299348831 | train_acc: 0.96875\n",
      "Iteration: 200/1373 | train_loss: 0.11803651601076126 | train_acc: 0.9375\n",
      "Iteration: 300/1373 | train_loss: 0.13402853906154633 | train_acc: 0.953125\n",
      "Iteration: 400/1373 | train_loss: 0.08071021735668182 | train_acc: 0.96875\n",
      "Iteration: 500/1373 | train_loss: 0.05145404115319252 | train_acc: 0.984375\n",
      "Iteration: 600/1373 | train_loss: 0.14718535542488098 | train_acc: 0.953125\n",
      "Iteration: 700/1373 | train_loss: 0.03814900666475296 | train_acc: 0.9921875\n",
      "Iteration: 800/1373 | train_loss: 0.1091427430510521 | train_acc: 0.953125\n",
      "Iteration: 900/1373 | train_loss: 0.08852259069681168 | train_acc: 0.9609375\n",
      "Iteration: 1000/1373 | train_loss: 0.0635712519288063 | train_acc: 0.984375\n",
      "Iteration: 1100/1373 | train_loss: 0.1349957287311554 | train_acc: 0.953125\n",
      "Iteration: 1200/1373 | train_loss: 0.07428600639104843 | train_acc: 0.9921875\n",
      "Iteration: 1300/1373 | train_loss: 0.11437196284532547 | train_acc: 0.9453125\n",
      "Epoch: 19 | train_loss 0.09383799455741776 | train_acc: 0.968371570110321 | val_loss: 0.7788506726719878 | val_acc: 0.7749847173690796\n",
      "Iteration: 0/1373 | train_loss: 0.08777493983507156 | train_acc: 0.96875\n",
      "Iteration: 100/1373 | train_loss: 0.06447291374206543 | train_acc: 0.984375\n",
      "Iteration: 200/1373 | train_loss: 0.11221879720687866 | train_acc: 0.953125\n",
      "Iteration: 300/1373 | train_loss: 0.12751896679401398 | train_acc: 0.9609375\n",
      "Iteration: 400/1373 | train_loss: 0.2036779671907425 | train_acc: 0.9453125\n",
      "Iteration: 500/1373 | train_loss: 0.05528118088841438 | train_acc: 0.9921875\n",
      "Iteration: 600/1373 | train_loss: 0.04953979328274727 | train_acc: 0.9921875\n",
      "Iteration: 700/1373 | train_loss: 0.09661076962947845 | train_acc: 0.9609375\n",
      "Iteration: 800/1373 | train_loss: 0.1418587863445282 | train_acc: 0.9765625\n",
      "Iteration: 900/1373 | train_loss: 0.09223563224077225 | train_acc: 0.9765625\n",
      "Iteration: 1000/1373 | train_loss: 0.05811133608222008 | train_acc: 0.9765625\n",
      "Iteration: 1100/1373 | train_loss: 0.0824277326464653 | train_acc: 0.96875\n",
      "Iteration: 1200/1373 | train_loss: 0.06757967174053192 | train_acc: 0.9765625\n",
      "Iteration: 1300/1373 | train_loss: 0.10013846307992935 | train_acc: 0.953125\n",
      "Epoch    21: reducing learning rate of group 0 to 3.9063e-06.\n",
      "Epoch: 20 | train_loss 0.09377269811611472 | train_acc: 0.9682691693305969 | val_loss: 0.7795974333492004 | val_acc: 0.773036777973175\n",
      "Iteration: 0/1373 | train_loss: 0.07517124712467194 | train_acc: 0.984375\n",
      "Iteration: 100/1373 | train_loss: 0.0736829861998558 | train_acc: 0.984375\n",
      "Iteration: 200/1373 | train_loss: 0.12516093254089355 | train_acc: 0.9453125\n",
      "Iteration: 300/1373 | train_loss: 0.08284910768270493 | train_acc: 0.9765625\n",
      "Iteration: 400/1373 | train_loss: 0.08978445082902908 | train_acc: 0.953125\n",
      "Iteration: 500/1373 | train_loss: 0.03635309636592865 | train_acc: 0.9921875\n",
      "Iteration: 600/1373 | train_loss: 0.13718460500240326 | train_acc: 0.921875\n",
      "Iteration: 700/1373 | train_loss: 0.04467885568737984 | train_acc: 0.984375\n",
      "Iteration: 800/1373 | train_loss: 0.10884551703929901 | train_acc: 0.953125\n",
      "Iteration: 900/1373 | train_loss: 0.06212659925222397 | train_acc: 0.9765625\n",
      "Iteration: 1000/1373 | train_loss: 0.08629129827022552 | train_acc: 0.96875\n",
      "Iteration: 1100/1373 | train_loss: 0.08721473067998886 | train_acc: 0.9765625\n",
      "Iteration: 1200/1373 | train_loss: 0.08392781764268875 | train_acc: 0.9609375\n",
      "Iteration: 1300/1373 | train_loss: 0.05498402193188667 | train_acc: 0.9765625\n",
      "Epoch: 21 | train_loss 0.09403638778179599 | train_acc: 0.967808187007904 | val_loss: 0.7681888120129248 | val_acc: 0.768083393573761\n",
      "Iteration: 0/1373 | train_loss: 0.09024722874164581 | train_acc: 0.9609375\n",
      "Iteration: 100/1373 | train_loss: 0.0875306949019432 | train_acc: 0.96875\n",
      "Iteration: 200/1373 | train_loss: 0.12225788086652756 | train_acc: 0.9375\n",
      "Iteration: 300/1373 | train_loss: 0.08496126532554626 | train_acc: 0.9609375\n",
      "Iteration: 400/1373 | train_loss: 0.16859102249145508 | train_acc: 0.953125\n",
      "Iteration: 500/1373 | train_loss: 0.08332154154777527 | train_acc: 0.984375\n",
      "Iteration: 600/1373 | train_loss: 0.14801059663295746 | train_acc: 0.96875\n",
      "Iteration: 700/1373 | train_loss: 0.06189040094614029 | train_acc: 0.9765625\n",
      "Iteration: 800/1373 | train_loss: 0.05531926453113556 | train_acc: 0.9765625\n",
      "Iteration: 900/1373 | train_loss: 0.05092884227633476 | train_acc: 0.9765625\n",
      "Iteration: 1000/1373 | train_loss: 0.05046958848834038 | train_acc: 0.984375\n",
      "Iteration: 1100/1373 | train_loss: 0.08956775069236755 | train_acc: 0.96875\n",
      "Iteration: 1200/1373 | train_loss: 0.05181967094540596 | train_acc: 0.9921875\n",
      "Iteration: 1300/1373 | train_loss: 0.13586074113845825 | train_acc: 0.9453125\n",
      "Epoch    23: reducing learning rate of group 0 to 1.9531e-06.\n",
      "Epoch: 22 | train_loss 0.0946723329318652 | train_acc: 0.9677797555923462 | val_loss: 0.7556601833928294 | val_acc: 0.7721276879310608\n",
      "Iteration: 0/1373 | train_loss: 0.06168828159570694 | train_acc: 0.96875\n",
      "Iteration: 100/1373 | train_loss: 0.09805969893932343 | train_acc: 0.9609375\n",
      "Iteration: 200/1373 | train_loss: 0.12426614761352539 | train_acc: 0.9375\n",
      "Iteration: 300/1373 | train_loss: 0.04528301581740379 | train_acc: 0.984375\n",
      "Iteration: 400/1373 | train_loss: 0.057329218834638596 | train_acc: 0.9921875\n",
      "Iteration: 500/1373 | train_loss: 0.07613823562860489 | train_acc: 0.96875\n",
      "Iteration: 600/1373 | train_loss: 0.059051841497421265 | train_acc: 0.984375\n",
      "Iteration: 700/1373 | train_loss: 0.09246371686458588 | train_acc: 0.9609375\n",
      "Iteration: 800/1373 | train_loss: 0.0828048437833786 | train_acc: 0.9765625\n",
      "Iteration: 900/1373 | train_loss: 0.08050201833248138 | train_acc: 0.96875\n",
      "Iteration: 1000/1373 | train_loss: 0.05979808792471886 | train_acc: 0.9765625\n",
      "Iteration: 1100/1373 | train_loss: 0.07140209525823593 | train_acc: 0.96875\n",
      "Iteration: 1200/1373 | train_loss: 0.056426193565130234 | train_acc: 0.984375\n",
      "Iteration: 1300/1373 | train_loss: 0.13554489612579346 | train_acc: 0.96875\n",
      "Epoch: 23 | train_loss 0.09347898877297639 | train_acc: 0.9680244326591492 | val_loss: 0.761051205297818 | val_acc: 0.7708662152290344\n",
      "Iteration: 0/1373 | train_loss: 0.09900903701782227 | train_acc: 0.96875\n",
      "Iteration: 100/1373 | train_loss: 0.13380752503871918 | train_acc: 0.9453125\n",
      "Iteration: 200/1373 | train_loss: 0.026341596618294716 | train_acc: 1.0\n",
      "Iteration: 300/1373 | train_loss: 0.049933213740587234 | train_acc: 0.984375\n",
      "Iteration: 400/1373 | train_loss: 0.08021287620067596 | train_acc: 0.9609375\n",
      "Iteration: 500/1373 | train_loss: 0.07580029219388962 | train_acc: 0.9765625\n",
      "Iteration: 600/1373 | train_loss: 0.11051788926124573 | train_acc: 0.984375\n",
      "Iteration: 700/1373 | train_loss: 0.03879270330071449 | train_acc: 0.9921875\n",
      "Iteration: 800/1373 | train_loss: 0.06988820433616638 | train_acc: 0.9765625\n",
      "Iteration: 900/1373 | train_loss: 0.06083159148693085 | train_acc: 0.984375\n",
      "Iteration: 1000/1373 | train_loss: 0.12739242613315582 | train_acc: 0.96875\n",
      "Iteration: 1100/1373 | train_loss: 0.15480870008468628 | train_acc: 0.953125\n",
      "Iteration: 1200/1373 | train_loss: 0.11541233956813812 | train_acc: 0.9609375\n",
      "Iteration: 1300/1373 | train_loss: 0.0843132883310318 | train_acc: 0.96875\n",
      "Epoch    25: reducing learning rate of group 0 to 9.7656e-07.\n",
      "Epoch: 24 | train_loss 0.09251647460284829 | train_acc: 0.9686845541000366 | val_loss: 0.7648628131325049 | val_acc: 0.7709218263626099\n",
      "Iteration: 0/1373 | train_loss: 0.12826889753341675 | train_acc: 0.953125\n",
      "Iteration: 100/1373 | train_loss: 0.0952269583940506 | train_acc: 0.984375\n",
      "Iteration: 200/1373 | train_loss: 0.17754216492176056 | train_acc: 0.9453125\n",
      "Iteration: 300/1373 | train_loss: 0.10892090201377869 | train_acc: 0.9453125\n",
      "Iteration: 400/1373 | train_loss: 0.1292017102241516 | train_acc: 0.96875\n",
      "Iteration: 500/1373 | train_loss: 0.1349901705980301 | train_acc: 0.953125\n",
      "Iteration: 600/1373 | train_loss: 0.1652279794216156 | train_acc: 0.9609375\n",
      "Iteration: 700/1373 | train_loss: 0.0660657286643982 | train_acc: 0.984375\n",
      "Iteration: 800/1373 | train_loss: 0.10466171056032181 | train_acc: 0.984375\n",
      "Iteration: 900/1373 | train_loss: 0.08689581602811813 | train_acc: 0.9609375\n",
      "Iteration: 1000/1373 | train_loss: 0.11937136203050613 | train_acc: 0.953125\n",
      "Iteration: 1100/1373 | train_loss: 0.11588016897439957 | train_acc: 0.9453125\n",
      "Iteration: 1200/1373 | train_loss: 0.0650760754942894 | train_acc: 0.984375\n",
      "Iteration: 1300/1373 | train_loss: 0.12800952792167664 | train_acc: 0.9609375\n",
      "Epoch: 25 | train_loss 0.09436998966744496 | train_acc: 0.9678423404693604 | val_loss: 0.7664125103768091 | val_acc: 0.7715896964073181\n",
      "Iteration: 0/1373 | train_loss: 0.09012902528047562 | train_acc: 0.9609375\n",
      "Iteration: 100/1373 | train_loss: 0.09084752947092056 | train_acc: 0.9609375\n",
      "Iteration: 200/1373 | train_loss: 0.06887713074684143 | train_acc: 0.9765625\n",
      "Iteration: 300/1373 | train_loss: 0.06973209232091904 | train_acc: 0.9765625\n",
      "Iteration: 400/1373 | train_loss: 0.0663032978773117 | train_acc: 0.9921875\n",
      "Iteration: 500/1373 | train_loss: 0.07098850607872009 | train_acc: 0.953125\n",
      "Iteration: 600/1373 | train_loss: 0.1024186983704567 | train_acc: 0.9609375\n",
      "Iteration: 700/1373 | train_loss: 0.06093348562717438 | train_acc: 0.9765625\n",
      "Iteration: 800/1373 | train_loss: 0.09554088115692139 | train_acc: 0.9609375\n",
      "Iteration: 900/1373 | train_loss: 0.08555857092142105 | train_acc: 0.9609375\n",
      "Iteration: 1000/1373 | train_loss: 0.0857105627655983 | train_acc: 0.96875\n",
      "Iteration: 1100/1373 | train_loss: 0.07554447650909424 | train_acc: 0.96875\n",
      "Iteration: 1200/1373 | train_loss: 0.13350820541381836 | train_acc: 0.953125\n",
      "Iteration: 1300/1373 | train_loss: 0.1107902005314827 | train_acc: 0.9609375\n",
      "Epoch    27: reducing learning rate of group 0 to 4.8828e-07.\n",
      "Epoch: 26 | train_loss 0.09175173264784771 | train_acc: 0.9692820906639099 | val_loss: 0.7609791640111617 | val_acc: 0.7720349431037903\n",
      "Iteration: 0/1373 | train_loss: 0.07886036485433578 | train_acc: 0.984375\n",
      "Iteration: 100/1373 | train_loss: 0.06506247818470001 | train_acc: 0.9765625\n",
      "Iteration: 200/1373 | train_loss: 0.12380820512771606 | train_acc: 0.953125\n",
      "Iteration: 300/1373 | train_loss: 0.12336916476488113 | train_acc: 0.96875\n",
      "Iteration: 400/1373 | train_loss: 0.09700950235128403 | train_acc: 0.96875\n",
      "Iteration: 500/1373 | train_loss: 0.13224178552627563 | train_acc: 0.9609375\n",
      "Iteration: 600/1373 | train_loss: 0.11193697154521942 | train_acc: 0.953125\n",
      "Iteration: 700/1373 | train_loss: 0.07935183495283127 | train_acc: 0.96875\n",
      "Iteration: 800/1373 | train_loss: 0.06447053700685501 | train_acc: 0.984375\n",
      "Iteration: 900/1373 | train_loss: 0.0697220116853714 | train_acc: 0.96875\n",
      "Iteration: 1000/1373 | train_loss: 0.07660011202096939 | train_acc: 0.9765625\n",
      "Iteration: 1100/1373 | train_loss: 0.21642464399337769 | train_acc: 0.9140625\n",
      "Iteration: 1200/1373 | train_loss: 0.08771931380033493 | train_acc: 0.96875\n",
      "Iteration: 1300/1373 | train_loss: 0.07839932292699814 | train_acc: 0.96875\n",
      "Epoch: 27 | train_loss 0.09306999220786107 | train_acc: 0.9685195088386536 | val_loss: 0.7660059531256986 | val_acc: 0.772610068321228\n",
      "Iteration: 0/1373 | train_loss: 0.11067424714565277 | train_acc: 0.953125\n",
      "Iteration: 100/1373 | train_loss: 0.04057979956269264 | train_acc: 0.9765625\n",
      "Iteration: 200/1373 | train_loss: 0.07061471790075302 | train_acc: 0.96875\n",
      "Iteration: 300/1373 | train_loss: 0.07153121381998062 | train_acc: 0.96875\n",
      "Iteration: 400/1373 | train_loss: 0.06133148819208145 | train_acc: 0.9765625\n",
      "Iteration: 500/1373 | train_loss: 0.09447865188121796 | train_acc: 0.9609375\n",
      "Iteration: 600/1373 | train_loss: 0.1062563881278038 | train_acc: 0.9453125\n",
      "Iteration: 700/1373 | train_loss: 0.14105115830898285 | train_acc: 0.9609375\n",
      "Iteration: 800/1373 | train_loss: 0.05168741196393967 | train_acc: 0.984375\n",
      "Iteration: 900/1373 | train_loss: 0.060400426387786865 | train_acc: 0.984375\n",
      "Iteration: 1000/1373 | train_loss: 0.05787588283419609 | train_acc: 0.9921875\n",
      "Iteration: 1100/1373 | train_loss: 0.06385143101215363 | train_acc: 0.96875\n",
      "Iteration: 1200/1373 | train_loss: 0.11136946827173233 | train_acc: 0.953125\n",
      "Iteration: 1300/1373 | train_loss: 0.12025125324726105 | train_acc: 0.9765625\n",
      "Epoch    29: reducing learning rate of group 0 to 2.4414e-07.\n",
      "Epoch: 28 | train_loss 0.09499908347664054 | train_acc: 0.9677057862281799 | val_loss: 0.7642135880925519 | val_acc: 0.771571159362793\n",
      "Iteration: 0/1373 | train_loss: 0.06622319668531418 | train_acc: 0.9765625\n",
      "Iteration: 100/1373 | train_loss: 0.05404887720942497 | train_acc: 0.984375\n",
      "Iteration: 200/1373 | train_loss: 0.08649179339408875 | train_acc: 0.9765625\n",
      "Iteration: 300/1373 | train_loss: 0.1431349217891693 | train_acc: 0.9375\n",
      "Iteration: 400/1373 | train_loss: 0.04225124046206474 | train_acc: 0.9921875\n",
      "Iteration: 500/1373 | train_loss: 0.05641626939177513 | train_acc: 0.984375\n",
      "Iteration: 600/1373 | train_loss: 0.14286234974861145 | train_acc: 0.953125\n",
      "Iteration: 700/1373 | train_loss: 0.07817051559686661 | train_acc: 0.9765625\n",
      "Iteration: 800/1373 | train_loss: 0.10001497715711594 | train_acc: 0.9609375\n",
      "Iteration: 900/1373 | train_loss: 0.1253633052110672 | train_acc: 0.9765625\n",
      "Iteration: 1000/1373 | train_loss: 0.1766289323568344 | train_acc: 0.953125\n",
      "Iteration: 1100/1373 | train_loss: 0.1268470287322998 | train_acc: 0.9609375\n",
      "Iteration: 1200/1373 | train_loss: 0.05320913717150688 | train_acc: 0.984375\n",
      "Iteration: 1300/1373 | train_loss: 0.055651091039180756 | train_acc: 0.9765625\n",
      "Epoch: 29 | train_loss 0.09452036775863638 | train_acc: 0.9680927395820618 | val_loss: 0.764476878178433 | val_acc: 0.7723874449729919\n"
     ]
    }
   ],
   "source": [
    "best_val_loss = float(\"inf\")\n",
    "\n",
    "for epoch in range(num_epochs):\n",
    "    # Train for \"n\" number of iterations\n",
    "    running_loss = 0.\n",
    "    running_acc = 0.\n",
    "    for iteration, (X, y) in enumerate(train_dataloader):\n",
    "\n",
    "        X = X.float().to(device)\n",
    "        # Normalize\n",
    "        X = (X - min) / (max - min)\n",
    "\n",
    "        y = y.view(X.size(0)).to(device)\n",
    "\n",
    "        loss, corrects = train_step(X, y, model, optimizer, criterion)\n",
    "\n",
    "        # Running metrics\n",
    "        running_loss = running_loss + loss * X.size(0)\n",
    "        running_acc = running_acc + corrects\n",
    "\n",
    "        if iteration % 100 == 0:\n",
    "            print(f\"Iteration: {iteration}/{train_iterations} | train_loss: {loss} | train_acc: {corrects/X.size(0)}\")\n",
    "\n",
    "    train_loss = running_loss / len(train_dataset)\n",
    "    train_acc = running_acc / len(train_dataset)\n",
    "\n",
    "    # Validate\n",
    "    running_val_loss = 0.\n",
    "    running_val_acc = 0.\n",
    "    for step, (X, y) in enumerate(val_dataloader):\n",
    "\n",
    "        X = X.float().to(device)\n",
    "        X = (X - min) / (max - min)\n",
    "\n",
    "        y = y.view(X.size(0)).to(device)\n",
    "\n",
    "        loss, corrects, predicted_classes = val_step(X, y, model, criterion)\n",
    "        # Running metrics\n",
    "        running_val_loss = running_val_loss + loss * X.size(0)\n",
    "        running_val_acc = running_val_acc + corrects\n",
    "\n",
    "    val_loss = running_val_loss / len(val_dataset)\n",
    "    val_acc = running_val_acc / len(val_dataset)\n",
    "\n",
    "    scheduler.step(val_loss)\n",
    "\n",
    "    if val_loss < best_val_loss:\n",
    "        # Checkpoint model\n",
    "        path = os.path.join(base_path, \"experiments\", \"models\", \"checkpoint_instance_norm_dropout_sgd_lr3.pth\")\n",
    "        print(f\"Saving model to {path}\")\n",
    "        torch.save(model.state_dict(), path)\n",
    "        best_val_loss = val_loss\n",
    "\n",
    "    print(f\"Epoch: {epoch} | train_loss {train_loss} | train_acc: {train_acc} | val_loss: {val_loss} | val_acc: {val_acc}\")"
   ]
  },
  {
   "cell_type": "code",
   "execution_count": 18,
   "metadata": {
    "colab": {
     "base_uri": "https://localhost:8080/"
    },
    "executionInfo": {
     "elapsed": 30,
     "status": "ok",
     "timestamp": 1636302214199,
     "user": {
      "displayName": "Chinmay Mahendra Savadikar",
      "photoUrl": "https://lh3.googleusercontent.com/a/default-user=s64",
      "userId": "11610851333453948182"
     },
     "user_tz": 300
    },
    "id": "x9_ZITbCybTq",
    "outputId": "b47ea24e-7313-48b3-dcc3-3d0e651b982c"
   },
   "outputs": [
    {
     "data": {
      "text/plain": [
       "array([0])"
      ]
     },
     "execution_count": 18,
     "metadata": {},
     "output_type": "execute_result"
    }
   ],
   "source": [
    "np.array([train_dataset.y[0]])"
   ]
  },
  {
   "cell_type": "code",
   "execution_count": 19,
   "metadata": {
    "executionInfo": {
     "elapsed": 7,
     "status": "ok",
     "timestamp": 1636302214200,
     "user": {
      "displayName": "Chinmay Mahendra Savadikar",
      "photoUrl": "https://lh3.googleusercontent.com/a/default-user=s64",
      "userId": "11610851333453948182"
     },
     "user_tz": 300
    },
    "id": "X7g8J7WadLvm"
   },
   "outputs": [],
   "source": [
    "best_model = OneDConvNet(6, 4)\n",
    "best_model.load_state_dict(torch.load(os.path.join(base_path, \"experiments\", \"models\", \"checkpoint_instance_norm_dropout_sgd_lr3.pth\")))\n",
    "best_model = best_model.to(device)"
   ]
  },
  {
   "cell_type": "code",
   "execution_count": 20,
   "metadata": {
    "executionInfo": {
     "elapsed": 368,
     "status": "ok",
     "timestamp": 1636302214561,
     "user": {
      "displayName": "Chinmay Mahendra Savadikar",
      "photoUrl": "https://lh3.googleusercontent.com/a/default-user=s64",
      "userId": "11610851333453948182"
     },
     "user_tz": 300
    },
    "id": "pK-nLeloml-n"
   },
   "outputs": [],
   "source": [
    "from sklearn.metrics import accuracy_score, precision_score, recall_score, f1_score\n",
    "\n",
    "class Evaluation:\n",
    "\n",
    "  def __init__(self):\n",
    "        pass\n",
    "  \n",
    "  def aggregate_metrics(self, y, y_hat):\n",
    "    \n",
    "    \"\"\" Metrics for entire set \n",
    "        \n",
    "        Arguments passed are: \n",
    "                      y     : ground truth  \n",
    "                      y_hat : predicted class\n",
    "        Calculations:\n",
    "                  accuracy  : (tp + tn) / (total samples =(p + n))\n",
    "                  precision : tp / (tp + fp)\n",
    "                  recall    : tp / (tp + fn)\n",
    "                  f1        : 2 tp / (2 tp + fp + fn)\n",
    "    \"\"\"\n",
    "    accuracy  = accuracy_score(y, y_hat)\n",
    "    precision = precision_score(y, y_hat, average=\"macro\")\n",
    "    recall    = recall_score(y, y_hat, average=\"macro\")\n",
    "    f1        = f1_score(y, y_hat, average=\"macro\")\n",
    "    return {\n",
    "        \"Accuracy\": accuracy,\n",
    "        \"Precision\": precision,\n",
    "        \"Recall\": recall,\n",
    "        \"F1\": f1\n",
    "        }\n",
    "\n",
    "  def classwise_metrics(self, y, y_hat):\n",
    "\n",
    "    \"\"\" Metrics for each class. \n",
    "        Average is set to macro for calculating the score of each label, and find their unweighted mean. \n",
    "        This does not take label imbalance into account.\n",
    "        \n",
    "        Arguments passed are: \n",
    "                      y     : ground truth  \n",
    "                      y_hat : predicted class\n",
    "        Calculations:\n",
    "                  accuracy  : (tp + tn) / (total samples =(p + n))\n",
    "                  precision : tp / (tp + fp)\n",
    "                  recall    : tp / (tp + fn)\n",
    "                  f1        : 2 tp / (2 tp + fp + fn)\n",
    "    \"\"\"\n",
    "    \n",
    "    class_precision = precision_score(y, y_hat, average=None)\n",
    "    class_recall    = recall_score(y, y_hat, average=None)\n",
    "    class_f1        = f1_score(y, y_hat, average=None)\n",
    "    \n",
    "    return {\n",
    "        \"Precision\": class_precision,\n",
    "        \"Recall\": class_recall,\n",
    "        \"F1\": class_f1\n",
    "    }"
   ]
  },
  {
   "cell_type": "code",
   "execution_count": 21,
   "metadata": {
    "executionInfo": {
     "elapsed": 3,
     "status": "ok",
     "timestamp": 1636302214562,
     "user": {
      "displayName": "Chinmay Mahendra Savadikar",
      "photoUrl": "https://lh3.googleusercontent.com/a/default-user=s64",
      "userId": "11610851333453948182"
     },
     "user_tz": 300
    },
    "id": "MvN9WtxwznFw"
   },
   "outputs": [],
   "source": [
    "evaluator = Evaluation()"
   ]
  },
  {
   "cell_type": "code",
   "execution_count": 22,
   "metadata": {
    "colab": {
     "base_uri": "https://localhost:8080/"
    },
    "executionInfo": {
     "elapsed": 1867,
     "status": "ok",
     "timestamp": 1636302216426,
     "user": {
      "displayName": "Chinmay Mahendra Savadikar",
      "photoUrl": "https://lh3.googleusercontent.com/a/default-user=s64",
      "userId": "11610851333453948182"
     },
     "user_tz": 300
    },
    "id": "bYbdv_EDml8M",
    "outputId": "8571a98b-390b-4829-d6db-a2d31182bcd1"
   },
   "outputs": [
    {
     "name": "stdout",
     "output_type": "stream",
     "text": [
      "Converting uid 001_08\n",
      "Converting uid 002_01\n",
      "Converting uid 001_01\n",
      "Converting uid 001_04\n"
     ]
    }
   ],
   "source": [
    "val_dataset = SubjectDataset(\n",
    "    val_data_path, \n",
    "    split_ids[\"val\"]\n",
    ")\n",
    "val_dataloader = DataLoader(val_dataset, batch_size=batch_size, shuffle=False)\n",
    "val_iterations = (len(val_dataset) // batch_size) + ((len(val_dataset) % batch_size) != 0)"
   ]
  },
  {
   "cell_type": "code",
   "execution_count": 23,
   "metadata": {
    "executionInfo": {
     "elapsed": 6059,
     "status": "ok",
     "timestamp": 1636302222483,
     "user": {
      "displayName": "Chinmay Mahendra Savadikar",
      "photoUrl": "https://lh3.googleusercontent.com/a/default-user=s64",
      "userId": "11610851333453948182"
     },
     "user_tz": 300
    },
    "id": "5qvZJ2dCxb-H"
   },
   "outputs": [],
   "source": [
    "output = []\n",
    "labels = []\n",
    "for X, y in val_dataloader:\n",
    "    X = X.float().to(device)\n",
    "    X = (X - min) / (max - min)\n",
    "    \n",
    "    y = y.view(X.size(0)).to(device)\n",
    "\n",
    "    y_pred = best_model(X)\n",
    "    predicted_classes = torch.argmax(y_pred, dim=1).detach().cpu().numpy()\n",
    "    y_true = y.cpu().numpy()\n",
    "\n",
    "    output.append(predicted_classes)\n",
    "    labels.append(y_true)"
   ]
  },
  {
   "cell_type": "code",
   "execution_count": 24,
   "metadata": {
    "executionInfo": {
     "elapsed": 16,
     "status": "ok",
     "timestamp": 1636302222486,
     "user": {
      "displayName": "Chinmay Mahendra Savadikar",
      "photoUrl": "https://lh3.googleusercontent.com/a/default-user=s64",
      "userId": "11610851333453948182"
     },
     "user_tz": 300
    },
    "id": "I8p4RTYs0CuR"
   },
   "outputs": [],
   "source": [
    "_output = np.concatenate(output, axis=0)\n",
    "_labels = np.concatenate(labels, axis=0)"
   ]
  },
  {
   "cell_type": "code",
   "execution_count": 25,
   "metadata": {
    "colab": {
     "base_uri": "https://localhost:8080/"
    },
    "executionInfo": {
     "elapsed": 242,
     "status": "ok",
     "timestamp": 1636302222713,
     "user": {
      "displayName": "Chinmay Mahendra Savadikar",
      "photoUrl": "https://lh3.googleusercontent.com/a/default-user=s64",
      "userId": "11610851333453948182"
     },
     "user_tz": 300
    },
    "id": "EI4HBWhS0Gao",
    "outputId": "f24c52ca-c955-4080-aa06-b143bb1597bc"
   },
   "outputs": [
    {
     "name": "stdout",
     "output_type": "stream",
     "text": [
      "Agg metrics\n",
      "{'Accuracy': 0.7689182420273454, 'Precision': 0.706694147255381, 'Recall': 0.7833058277129038, 'F1': 0.7391185561901892}\n",
      "Classwise Metrics\n",
      "{'Precision': array([0.83607309, 0.69260904, 0.68002123, 0.61807324]), 'Recall': array([0.82245887, 0.89928789, 0.84503792, 0.56643863]), 'F1': array([0.8292101 , 0.78253172, 0.75360188, 0.59113052])}\n"
     ]
    }
   ],
   "source": [
    "agg_metrics = evaluator.aggregate_metrics(_labels, _output)\n",
    "print(\"Agg metrics\")\n",
    "print(agg_metrics)\n",
    "classwise_metrics = evaluator.classwise_metrics(_labels, _output)\n",
    "print(\"Classwise Metrics\")\n",
    "print(classwise_metrics)"
   ]
  },
  {
   "cell_type": "code",
   "execution_count": 26,
   "metadata": {
    "colab": {
     "base_uri": "https://localhost:8080/"
    },
    "executionInfo": {
     "elapsed": 4333,
     "status": "ok",
     "timestamp": 1636302227042,
     "user": {
      "displayName": "Chinmay Mahendra Savadikar",
      "photoUrl": "https://lh3.googleusercontent.com/a/default-user=s64",
      "userId": "11610851333453948182"
     },
     "user_tz": 300
    },
    "id": "UosykPCA0GX_",
    "outputId": "980169d4-be18-40cb-c17c-c9a44efdff9f"
   },
   "outputs": [
    {
     "name": "stdout",
     "output_type": "stream",
     "text": [
      "Converting uid 005_03\n",
      "Converting uid 006_01\n",
      "Converting uid 006_02\n",
      "Converting uid 006_03\n",
      "Converting uid 007_01\n",
      "Converting uid 007_02\n",
      "Converting uid 007_03\n",
      "Converting uid 007_04\n",
      "Converting uid 008_01\n"
     ]
    }
   ],
   "source": [
    "test_data_path = os.path.join(base_data_path, \"test\")\n",
    "test_dataset = SubjectDataset(\n",
    "    test_data_path, \n",
    "    split_ids[\"test\"]\n",
    ")\n",
    "test_dataloader = DataLoader(test_dataset, batch_size=batch_size, shuffle=False)\n",
    "test_iterations = (len(test_dataset) // batch_size) + ((len(test_dataset) % batch_size) != 0)"
   ]
  },
  {
   "cell_type": "code",
   "execution_count": 27,
   "metadata": {
    "executionInfo": {
     "elapsed": 11878,
     "status": "ok",
     "timestamp": 1636302238908,
     "user": {
      "displayName": "Chinmay Mahendra Savadikar",
      "photoUrl": "https://lh3.googleusercontent.com/a/default-user=s64",
      "userId": "11610851333453948182"
     },
     "user_tz": 300
    },
    "id": "GV5m259v4D5L"
   },
   "outputs": [],
   "source": [
    "output = []\n",
    "labels = []\n",
    "for X, y in test_dataloader:\n",
    "    X = X.float().to(device)\n",
    "    X = (X - min) / (max - min)\n",
    "    \n",
    "    y = y.view(X.size(0)).to(device)\n",
    "\n",
    "    y_pred = best_model(X)\n",
    "    predicted_classes = torch.argmax(y_pred, dim=1).detach().cpu().numpy()\n",
    "    y_true = y.cpu().numpy()\n",
    "\n",
    "    output.append(predicted_classes)\n",
    "    labels.append(y_true)"
   ]
  },
  {
   "cell_type": "code",
   "execution_count": 28,
   "metadata": {
    "executionInfo": {
     "elapsed": 16,
     "status": "ok",
     "timestamp": 1636302238908,
     "user": {
      "displayName": "Chinmay Mahendra Savadikar",
      "photoUrl": "https://lh3.googleusercontent.com/a/default-user=s64",
      "userId": "11610851333453948182"
     },
     "user_tz": 300
    },
    "id": "cDB40FUf4TY8"
   },
   "outputs": [],
   "source": [
    "_output = np.concatenate(output, axis=0)\n",
    "_labels = np.concatenate(labels, axis=0)"
   ]
  },
  {
   "cell_type": "code",
   "execution_count": 29,
   "metadata": {
    "colab": {
     "base_uri": "https://localhost:8080/"
    },
    "executionInfo": {
     "elapsed": 221,
     "status": "ok",
     "timestamp": 1636302239115,
     "user": {
      "displayName": "Chinmay Mahendra Savadikar",
      "photoUrl": "https://lh3.googleusercontent.com/a/default-user=s64",
      "userId": "11610851333453948182"
     },
     "user_tz": 300
    },
    "id": "GtmDpRBH4XDQ",
    "outputId": "67729d37-223f-4eff-ca19-d844c554e19c"
   },
   "outputs": [
    {
     "name": "stdout",
     "output_type": "stream",
     "text": [
      "Agg metrics\n",
      "{'Accuracy': 0.835784916148305, 'Precision': 0.8112540960339332, 'Recall': 0.9086039798795331, 'F1': 0.8414520141343785}\n",
      "Classwise Metrics\n",
      "{'Precision': array([0.98337213, 0.83377001, 0.91274777, 0.51512648]), 'Recall': array([0.80232356, 0.92178951, 0.97206126, 0.93824159]), 'F1': array([0.88366974, 0.87557322, 0.94147124, 0.66509386])}\n"
     ]
    }
   ],
   "source": [
    "agg_metrics = evaluator.aggregate_metrics(_labels, _output)\n",
    "print(\"Agg metrics\")\n",
    "print(agg_metrics)\n",
    "classwise_metrics = evaluator.classwise_metrics(_labels, _output)\n",
    "print(\"Classwise Metrics\")\n",
    "print(classwise_metrics)"
   ]
  },
  {
   "cell_type": "code",
   "execution_count": 30,
   "metadata": {
    "colab": {
     "base_uri": "https://localhost:8080/"
    },
    "executionInfo": {
     "elapsed": 12,
     "status": "ok",
     "timestamp": 1636302239116,
     "user": {
      "displayName": "Chinmay Mahendra Savadikar",
      "photoUrl": "https://lh3.googleusercontent.com/a/default-user=s64",
      "userId": "11610851333453948182"
     },
     "user_tz": 300
    },
    "id": "xMx7IIGjpyNZ",
    "outputId": "22f61bfd-26eb-495e-c02f-d77deb04ad13"
   },
   "outputs": [
    {
     "name": "stdout",
     "output_type": "stream",
     "text": [
      "Saving model to drive/MyDrive/Classes/ece542/competition-project/experiments/models/checkpoint_instance_norm_dropout_sgd_lr3_long.pth\n"
     ]
    }
   ],
   "source": [
    "path = os.path.join(base_path, \"experiments\", \"models\", \"checkpoint_instance_norm_dropout_sgd_lr3_long.pth\")\n",
    "print(f\"Saving model to {path}\")\n",
    "torch.save(model.state_dict(), path)"
   ]
  },
  {
   "cell_type": "code",
   "execution_count": null,
   "metadata": {
    "id": "gZISb6yI1ewr"
   },
   "outputs": [],
   "source": []
  }
 ],
 "metadata": {
  "colab": {
   "authorship_tag": "ABX9TyNKcbgqe0qwud2N0tfwZAdR",
   "collapsed_sections": [],
   "mount_file_id": "1LAQnpQd3ijdV1U3vVYm9cIdSbaQe9g9G",
   "name": "current-conv-plus-normalization.ipynb",
   "provenance": []
  },
  "kernelspec": {
   "display_name": "Python 3 (ipykernel)",
   "language": "python",
   "name": "python3"
  },
  "language_info": {
   "codemirror_mode": {
    "name": "ipython",
    "version": 3
   },
   "file_extension": ".py",
   "mimetype": "text/x-python",
   "name": "python",
   "nbconvert_exporter": "python",
   "pygments_lexer": "ipython3",
   "version": "3.9.5"
  }
 },
 "nbformat": 4,
 "nbformat_minor": 1
}
