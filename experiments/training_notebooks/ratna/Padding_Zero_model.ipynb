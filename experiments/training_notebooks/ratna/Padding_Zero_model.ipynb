{
  "nbformat": 4,
  "nbformat_minor": 0,
  "metadata": {
    "colab": {
      "name": "Padding_Zero_model.ipynb",
      "provenance": [],
      "collapsed_sections": []
    },
    "kernelspec": {
      "display_name": "Python 3",
      "name": "python3"
    },
    "language_info": {
      "name": "python"
    }
  },
  "cells": [
    {
      "cell_type": "code",
      "metadata": {
        "id": "22ITlwg0FkeF",
        "colab": {
          "base_uri": "https://localhost:8080/"
        },
        "outputId": "0f168312-474c-493b-8b42-1c282361075e"
      },
      "source": [
        "from google.colab import drive\n",
        "drive.mount('/content/drive')"
      ],
      "execution_count": null,
      "outputs": [
        {
          "output_type": "stream",
          "name": "stdout",
          "text": [
            "Drive already mounted at /content/drive; to attempt to forcibly remount, call drive.mount(\"/content/drive\", force_remount=True).\n"
          ]
        }
      ]
    },
    {
      "cell_type": "code",
      "metadata": {
        "colab": {
          "base_uri": "https://localhost:8080/"
        },
        "id": "prIF1sjM-c3i",
        "outputId": "b946e01e-5ec6-42e5-8f45-586d11438273"
      },
      "source": [
        "\n",
        "!ls /content/drive/MyDrive/ProjC/Nov11_newModel/competition-project-2"
      ],
      "execution_count": null,
      "outputs": [
        {
          "output_type": "stream",
          "name": "stdout",
          "text": [
            " attempt-1.ipynb   experiments\t Plots.docx\t\t\t  test_data.zip\n",
            " data.zip\t   ml_utils\t'Ratna Copy of attempt-1.ipynb'\n"
          ]
        }
      ]
    },
    {
      "cell_type": "code",
      "metadata": {
        "id": "Ng-s1F7Z-xKL"
      },
      "source": [
        "!cp /content/drive/MyDrive/ProjC/Nov11_newModel/data.zip ."
      ],
      "execution_count": null,
      "outputs": []
    },
    {
      "cell_type": "code",
      "metadata": {
        "id": "8wUZq7ty_AZO",
        "colab": {
          "base_uri": "https://localhost:8080/"
        },
        "outputId": "598524f5-5e19-439c-fed7-54108c9a88e9"
      },
      "source": [
        "!unzip data.zip"
      ],
      "execution_count": null,
      "outputs": [
        {
          "output_type": "stream",
          "name": "stdout",
          "text": [
            "Archive:  data.zip\n",
            "replace __MACOSX/._data? [y]es, [n]o, [A]ll, [N]one, [r]ename: A\n",
            "  inflating: __MACOSX/._data         \n",
            "  inflating: data/.DS_Store          \n",
            "  inflating: __MACOSX/data/._.DS_Store  \n",
            "  inflating: data/.gitignore         \n",
            "  inflating: __MACOSX/data/._.gitignore  \n",
            "  inflating: data/splits/test/subject_007_session_04__y.csv  \n",
            "  inflating: data/splits/test/subject_007_session_04__x.csv  \n",
            "  inflating: data/splits/test/subject_007_session_02__x.csv  \n",
            "  inflating: data/splits/test/subject_007_session_02__y.csv  \n",
            "  inflating: data/splits/test/subject_008_session_01__y.csv  \n",
            "  inflating: data/splits/test/subject_006_session_02__x.csv  \n",
            "  inflating: data/splits/test/subject_006_session_02__y.csv  \n",
            "  inflating: data/splits/test/subject_008_session_01__x.csv  \n",
            "  inflating: data/splits/test/subject_005_session_03__y.csv  \n",
            "  inflating: data/splits/test/subject_005_session_03__x.csv  \n",
            "  inflating: data/splits/test/subject_006_session_01__y.csv  \n",
            "  inflating: data/splits/test/subject_006_session_01__x.csv  \n",
            "  inflating: data/splits/test/subject_007_session_03__y.csv  \n",
            "  inflating: data/splits/test/subject_007_session_03__x.csv  \n",
            "  inflating: data/splits/test/subject_007_session_01__y.csv  \n",
            "  inflating: data/splits/test/subject_007_session_01__x.csv  \n",
            "  inflating: data/splits/test/subject_006_session_03__y.csv  \n",
            "  inflating: data/splits/test/subject_006_session_03__x.csv  \n",
            "  inflating: data/splits/train/subject_002_session_04__y.csv  \n",
            "  inflating: data/splits/train/subject_005_session_02__x.csv  \n",
            "  inflating: data/splits/train/subject_005_session_02__y.csv  \n",
            "  inflating: data/splits/train/subject_002_session_04__x.csv  \n",
            "  inflating: data/splits/train/subject_004_session_02__x.csv  \n",
            "  inflating: data/splits/train/subject_004_session_02__y.csv  \n",
            "  inflating: data/splits/train/subject_001_session_02__x.csv  \n",
            "  inflating: data/splits/train/subject_001_session_02__y.csv  \n",
            "  inflating: data/splits/train/subject_001_session_06__y.csv  \n",
            "  inflating: data/splits/train/subject_002_session_02__x.csv  \n",
            "  inflating: data/splits/train/subject_002_session_02__y.csv  \n",
            "  inflating: data/splits/train/subject_001_session_06__x.csv  \n",
            "  inflating: data/splits/train/subject_003_session_02__x.csv  \n",
            "  inflating: data/splits/train/subject_003_session_02__y.csv  \n",
            "  inflating: data/splits/train/subject_004_session_01__y.csv  \n",
            "  inflating: data/splits/train/subject_004_session_01__x.csv  \n",
            "  inflating: data/splits/train/subject_002_session_05__x.csv  \n",
            "  inflating: data/splits/train/subject_002_session_05__y.csv  \n",
            "  inflating: data/splits/train/subject_001_session_03__y.csv  \n",
            "  inflating: data/splits/train/subject_005_session_01__y.csv  \n",
            "  inflating: data/splits/train/subject_005_session_01__x.csv  \n",
            "  inflating: data/splits/train/subject_001_session_03__x.csv  \n",
            "  inflating: data/splits/train/subject_001_session_07__x.csv  \n",
            "  inflating: data/splits/train/subject_002_session_03__y.csv  \n",
            "  inflating: data/splits/train/subject_002_session_03__x.csv  \n",
            "  inflating: data/splits/train/subject_001_session_07__y.csv  \n",
            "  inflating: data/splits/train/subject_003_session_01__y.csv  \n",
            "  inflating: data/splits/train/subject_003_session_01__x.csv  \n",
            "  inflating: data/splits/train/subject_003_session_03__y.csv  \n",
            "  inflating: data/splits/train/subject_003_session_03__x.csv  \n",
            "  inflating: data/splits/train/subject_001_session_05__x.csv  \n",
            "  inflating: data/splits/train/subject_001_session_05__y.csv  \n",
            "  inflating: data/splits/val/subject_001_session_04__y.csv  \n",
            "  inflating: data/splits/val/subject_001_session_08__y.csv  \n",
            "  inflating: data/splits/val/subject_001_session_08__x.csv  \n",
            "  inflating: data/splits/val/subject_001_session_04__x.csv  \n",
            "  inflating: data/splits/val/subject_001_session_01__y.csv  \n",
            "  inflating: data/splits/val/subject_001_session_01__x.csv  \n",
            "  inflating: data/splits/val/subject_002_session_01__y.csv  \n",
            "  inflating: data/splits/val/subject_002_session_01__x.csv  \n"
          ]
        }
      ]
    },
    {
      "cell_type": "code",
      "metadata": {
        "id": "1ZeuQxwE_NzP",
        "colab": {
          "base_uri": "https://localhost:8080/"
        },
        "outputId": "423d9b6f-2098-4679-958a-c0c1cb352733"
      },
      "source": [
        "!rm data.zip"
      ],
      "execution_count": null,
      "outputs": [
        {
          "output_type": "stream",
          "name": "stdout",
          "text": [
            "rm: cannot remove 'data.zip': No such file or directory\n"
          ]
        }
      ]
    },
    {
      "cell_type": "markdown",
      "metadata": {
        "id": "6uc9PDcigm0u"
      },
      "source": [
        "### Replace [YOUR_ACCESS_TOKEN] with your GitHub access token (remove the brackets)"
      ]
    },
    {
      "cell_type": "code",
      "metadata": {
        "id": "sjjVhlkupOBO",
        "colab": {
          "base_uri": "https://localhost:8080/"
        },
        "outputId": "b9a43627-f7e5-43be-81e9-5a7ae415db97"
      },
      "source": [
        "!git clone https://savadikarc:<ACCESSTOKEN>@github.com/savadikarc/ece542-competition-project.git"
      ],
      "execution_count": null,
      "outputs": [
        {
          "output_type": "stream",
          "name": "stdout",
          "text": [
            "fatal: destination path 'ece542-competition-project' already exists and is not an empty directory.\n"
          ]
        }
      ]
    },
    {
      "cell_type": "code",
      "metadata": {
        "id": "Y8yURtFRqGkj",
        "colab": {
          "base_uri": "https://localhost:8080/"
        },
        "outputId": "941c2271-208e-4954-8bda-6798f2522468"
      },
      "source": [
        "!cd ece542-competition-project && git checkout phase-1 && git pull origin phase-1"
      ],
      "execution_count": null,
      "outputs": [
        {
          "output_type": "stream",
          "name": "stdout",
          "text": [
            "Already on 'phase-1'\n",
            "Your branch is up to date with 'origin/phase-1'.\n",
            "From https://github.com/savadikarc/ece542-competition-project\n",
            " * branch            phase-1    -> FETCH_HEAD\n",
            "Already up to date.\n"
          ]
        }
      ]
    },
    {
      "cell_type": "code",
      "metadata": {
        "id": "DJlBSAfPnuG_"
      },
      "source": [
        "base_path = \"/content/drive/MyDrive/ProjC/Nov11_newModel/competition-project-2\""
      ],
      "execution_count": null,
      "outputs": []
    },
    {
      "cell_type": "code",
      "metadata": {
        "id": "8kUcwing_Qkz"
      },
      "source": [
        "import os\n",
        "import sys\n",
        "sys.path.append(\"ece542-competition-project\")"
      ],
      "execution_count": null,
      "outputs": []
    },
    {
      "cell_type": "code",
      "metadata": {
        "id": "_JxS3qkHmmRB"
      },
      "source": [
        "import json\n",
        "from collections import Counter\n",
        "import torch\n",
        "import torch.nn as nn\n",
        "import torch.nn.functional as F\n",
        "from torch import optim\n",
        "from torch.optim.lr_scheduler import ReduceLROnPlateau\n",
        "from torch.utils.data import DataLoader\n",
        "from torch.utils.data.sampler import WeightedRandomSampler\n",
        "import numpy as np\n",
        "from ml_utils.dataset import SubjectDataset"
      ],
      "execution_count": null,
      "outputs": []
    },
    {
      "cell_type": "code",
      "metadata": {
        "id": "LJCQfTElnJJm",
        "colab": {
          "base_uri": "https://localhost:8080/"
        },
        "outputId": "57466d0e-6995-436a-919c-a4b59d8605ef"
      },
      "source": [
        "device = torch.device(\"cuda:0\" if torch.cuda.is_available() else \"cpu\")\n",
        "print(f\"Device: {device}\")"
      ],
      "execution_count": null,
      "outputs": [
        {
          "output_type": "stream",
          "name": "stdout",
          "text": [
            "Device: cpu\n"
          ]
        }
      ]
    },
    {
      "cell_type": "code",
      "metadata": {
        "id": "5mKgxfP1mmMg"
      },
      "source": [
        "base_data_path = os.path.join(\"data\", \"splits\")\n",
        "train_data_path = os.path.join(base_data_path, \"train\")\n",
        "val_data_path = os.path.join(base_data_path, \"val\")\n",
        "\n",
        "splits_file = os.path.join(base_path, \"experiments\", \"metadata\", \"split_ids.json\")\n",
        "with open(splits_file, \"r\") as f:\n",
        "    split_ids = json.load(f)"
      ],
      "execution_count": null,
      "outputs": []
    },
    {
      "cell_type": "code",
      "metadata": {
        "id": "kuihFDGQbTBm"
      },
      "source": [
        "stats_path = os.path.join(base_path, \"experiments\", \"metadata\", \"statistics.json\")\n",
        "with open(stats_path, \"r\") as f:\n",
        "    stats = json.load(f)"
      ],
      "execution_count": null,
      "outputs": []
    },
    {
      "cell_type": "code",
      "metadata": {
        "id": "mzQdu4exbfOl"
      },
      "source": [
        "min = np.array([v[\"min\"] for k, v in stats.items()])\n",
        "max = np.array([v[\"max\"] for k, v in stats.items()])\n",
        "\n",
        "min = torch.from_numpy(min).float()\n",
        "min = torch.unsqueeze((torch.unsqueeze(min, 0)), -1)\n",
        "min = min.to(device)\n",
        "max = torch.from_numpy(max).float().to(device)\n",
        "max = torch.unsqueeze((torch.unsqueeze(max, 0)), -1)\n",
        "max = max.to(device)"
      ],
      "execution_count": null,
      "outputs": []
    },
    {
      "cell_type": "code",
      "metadata": {
        "id": "XJXYMQrWb-zN",
        "colab": {
          "base_uri": "https://localhost:8080/"
        },
        "outputId": "e6979888-6395-4826-d169-1de36278a698"
      },
      "source": [
        "min.shape"
      ],
      "execution_count": null,
      "outputs": [
        {
          "output_type": "execute_result",
          "data": {
            "text/plain": [
              "torch.Size([1, 6, 1])"
            ]
          },
          "metadata": {},
          "execution_count": 17
        }
      ]
    },
    {
      "cell_type": "code",
      "metadata": {
        "id": "n5RT6OvirVrA"
      },
      "source": [
        "# Training hyperparameters\n",
        "batch_size = 128\n",
        "num_epochs = 30"
      ],
      "execution_count": null,
      "outputs": []
    },
    {
      "cell_type": "code",
      "metadata": {
        "id": "jy47cYBEmmKS",
        "colab": {
          "base_uri": "https://localhost:8080/"
        },
        "outputId": "549aa8b4-6e2d-460c-c939-b37446892340"
      },
      "source": [
        "train_dataset = SubjectDataset(\n",
        "    train_data_path, \n",
        "    split_ids[\"train\"]\n",
        ")\n",
        "ys = train_dataset.y.tolist()\n",
        "counts = Counter(ys)\n",
        "weights = np.array([1./counts[_y] for _y in ys])\n",
        "sample_weights = torch.from_numpy(weights).float()\n",
        "sampler = WeightedRandomSampler(\n",
        "    weights=sample_weights,\n",
        "    num_samples=len(sample_weights),\n",
        "    replacement=True)\n",
        "train_dataloader = DataLoader(train_dataset, batch_size=batch_size, sampler=sampler)\n",
        "train_iterations = (len(train_dataset) // batch_size) + ((len(train_dataset) % batch_size) != 0)\n",
        "\n",
        "val_dataset = SubjectDataset(\n",
        "    val_data_path, \n",
        "    split_ids[\"val\"]\n",
        ")\n",
        "val_dataloader = DataLoader(val_dataset, batch_size=batch_size, shuffle=True)\n",
        "val_iterations = (len(val_dataset) // batch_size) + ((len(val_dataset) % batch_size) != 0)"
      ],
      "execution_count": null,
      "outputs": [
        {
          "output_type": "stream",
          "name": "stdout",
          "text": [
            "Converting uid 005_02\n",
            "Converting uid 001_06\n",
            "Converting uid 003_02\n",
            "Converting uid 001_05\n",
            "Converting uid 002_02\n",
            "Converting uid 003_01\n",
            "Converting uid 003_03\n",
            "Converting uid 005_01\n",
            "Converting uid 001_07\n",
            "Converting uid 002_05\n",
            "Converting uid 004_02\n",
            "Converting uid 002_03\n",
            "Converting uid 001_02\n",
            "Converting uid 002_04\n",
            "Converting uid 001_03\n",
            "Converting uid 004_01\n",
            "Converting uid 001_08\n",
            "Converting uid 002_01\n",
            "Converting uid 001_01\n",
            "Converting uid 001_04\n"
          ]
        }
      ]
    },
    {
      "cell_type": "code",
      "metadata": {
        "id": "7UxWDOBmmmOv"
      },
      "source": [
        "class OneDConvNet(nn.Module):\n",
        "  def __init__(self, n_features, n_classes, base_filters=32):\n",
        "    super(OneDConvNet, self).__init__()\n",
        "\n",
        "    self.conv1 = nn.Conv1d(in_channels=n_features, out_channels=base_filters, kernel_size=3, stride=1, padding=0)\n",
        "    self.norm1 = nn.LayerNorm(base_filters*118)\n",
        "    self.pool1 = nn.AvgPool1d(kernel_size=2, stride=2)\n",
        "    self.conv2 = nn.Conv1d(in_channels=base_filters, out_channels=base_filters*2, kernel_size=3, stride=1, padding=0)\n",
        "    self.norm2 = nn.LayerNorm(base_filters*2*57)\n",
        "    self.pool2 = nn.AvgPool1d(kernel_size=2, stride=2)\n",
        "    self.conv3 = nn.Conv1d(in_channels=base_filters*2, out_channels=base_filters*4, kernel_size=3, stride=1, padding=0)\n",
        "    self.norm3 = nn.LayerNorm(base_filters*4*26)\n",
        "    self.pool3 = nn.AvgPool1d(kernel_size=2, stride=2)\n",
        "    self.conv4 = nn.Conv1d(in_channels=base_filters*4, out_channels=base_filters*8, kernel_size=3, stride=1, padding=0)\n",
        "    self.norm4 = nn.LayerNorm(base_filters*8*11)\n",
        "    self.fc1 = nn.Linear(base_filters*8, base_filters*16)\n",
        "    self.dropout5 = nn.Dropout(0.4)\n",
        "    self.fc2 = nn.Linear(base_filters*16, n_classes)\n",
        "  \n",
        "  def forward(self, x):\n",
        "    #print('input:',x.shape)\n",
        "    x = self.conv1(x)\n",
        "    #print('conv1:',x.shape)\n",
        "    N, C, T = x.shape\n",
        "    x = x.view(N, C*T)\n",
        "    #print('view1:',x.shape)\n",
        "    x = self.norm1(x)\n",
        "    #print('norm1:',x.shape)\n",
        "    x = x.view(N, C, T)\n",
        "    #print('view2:',x.shape)\n",
        "    x = self.pool1(F.relu(x))\n",
        "    #print('pool1:',x.shape)\n",
        "\n",
        "    x = self.conv2(x)\n",
        "    #print('conv2:',x.shape)\n",
        "    N, C, T = x.shape\n",
        "    x = x.view(N, C*T)\n",
        "    #print('view3:',x.shape)\n",
        "    x = self.norm2(x)\n",
        "    #print('norm2:',x.shape)\n",
        "    x = x.view(N, C, T)\n",
        "    #print('view4:',x.shape)\n",
        "    x = self.pool2(F.relu(x))\n",
        "    #print('pool2:',x.shape)\n",
        "\n",
        "    x = self.conv3(x)\n",
        "    #print('conv3:',x.shape)\n",
        "    N, C, T = x.shape\n",
        "    x = x.view(N, C*T)\n",
        "    #print('view4:',x.shape)\n",
        "    x = self.norm3(x)\n",
        "    #print('norm3:',x.shape)\n",
        "    x = x.view(N, C, T)\n",
        "    #print('view5:',x.shape)\n",
        "    x = self.pool3(F.relu(x))\n",
        "    #print('pool3:',x.shape)\n",
        "\n",
        "    x = self.conv4(x)\n",
        "    #print('conv4:',x.shape)\n",
        "    N, C, T = x.shape\n",
        "    x = x.view(N, C*T)\n",
        "    #print('view6:',x.shape)\n",
        "    x = self.norm4(x)\n",
        "    #print('norm4:',x.shape)\n",
        "    x = x.view(N, C, T)\n",
        "    #print('view7:',x.shape)\n",
        "    x = F.relu(x)\n",
        "    #print('F.relu:',x.shape)\n",
        "\n",
        "    N, C, T = x.size()\n",
        "    x = x.mean(dim=-1) # Flatten\n",
        "    #print('Flattened',x.shape)\n",
        "    x = self.dropout5(F.relu(self.fc1(x)))\n",
        "    #print('dropout',x.shape)\n",
        "    x = self.fc2(x)\n",
        "    return x\n",
        "\n",
        "model = OneDConvNet(6, 4).to(device)"
      ],
      "execution_count": null,
      "outputs": []
    },
    {
      "cell_type": "code",
      "metadata": {
        "id": "_7npRJhHxdC1"
      },
      "source": [
        "# import numpy as np\n",
        "# X = np.random.randn(1, 6, 40)\n",
        "# T = torch.from_numpy(X).float().to(device)\n",
        "# y = model(T)"
      ],
      "execution_count": null,
      "outputs": []
    },
    {
      "cell_type": "code",
      "metadata": {
        "id": "sksNpnMfyLOP"
      },
      "source": [
        "# y.shape"
      ],
      "execution_count": null,
      "outputs": []
    },
    {
      "cell_type": "code",
      "metadata": {
        "id": "JSfdHJ4Ry4AG"
      },
      "source": [
        "optimizer = optim.SGD(model.parameters(), lr=1e-4, momentum=0.9)\n",
        "# optimizer = optim.Adam(model.parameters(), lr=0.001)\n",
        "# optimizer = optim.RMSprop(model.parameters(), lr=1e-3)\n",
        "scheduler = ReduceLROnPlateau(optimizer, factor=0.5, patience=1, verbose=True)\n",
        "criterion = nn.CrossEntropyLoss()"
      ],
      "execution_count": null,
      "outputs": []
    },
    {
      "cell_type": "code",
      "metadata": {
        "id": "V6FBCiBQmmH2"
      },
      "source": [
        "def train_step(X, y, model, optimizer, criterion):\n",
        "\n",
        "    y_pred = model(X)\n",
        "    predicted_classes = torch.argmax(y_pred.detach(), dim=1)\n",
        "\n",
        "    loss = criterion(y_pred, y)\n",
        "    optimizer.zero_grad()\n",
        "    loss.backward()\n",
        "    optimizer.step()\n",
        "\n",
        "    corrects = torch.sum(y.data == predicted_classes)\n",
        "\n",
        "    return loss.item(), corrects\n",
        "\n",
        "def val_step(X, y, model, criterion):\n",
        "\n",
        "    with torch.no_grad():\n",
        "        \n",
        "        y_pred = model(X)\n",
        "        predicted_classes = torch.argmax(y_pred.detach(), dim=1)\n",
        "        loss = criterion(y_pred, y)\n",
        "        corrects = torch.sum(y.data == predicted_classes)\n",
        "\n",
        "    return loss.item(), corrects, predicted_classes.detach().cpu().numpy()"
      ],
      "execution_count": null,
      "outputs": []
    },
    {
      "cell_type": "code",
      "metadata": {
        "id": "T2K4z1p8mmCQ",
        "colab": {
          "base_uri": "https://localhost:8080/"
        },
        "outputId": "8c21dc49-c24f-4cc2-f1c9-490a418bb7d5"
      },
      "source": [
        "best_val_loss = float(\"inf\")\n",
        "\n",
        "for epoch in range(num_epochs):\n",
        "    # Train for \"n\" number of iterations\n",
        "    running_loss = 0.\n",
        "    running_acc = 0.\n",
        "    for iteration, (X, y) in enumerate(train_dataloader):\n",
        "\n",
        "        X = X.float().to(device)\n",
        "        # Normalize\n",
        "        X = (X - min) / (max - min)\n",
        "\n",
        "        y = y.view(X.size(0)).to(device)\n",
        "\n",
        "        loss, corrects = train_step(X, y, model, optimizer, criterion)\n",
        "\n",
        "        # Running metrics\n",
        "        running_loss = running_loss + loss * X.size(0)\n",
        "        running_acc = running_acc + corrects\n",
        "\n",
        "        if iteration % 100 == 0:\n",
        "            print(f\"Iteration: {iteration}/{train_iterations} | train_loss: {loss} | train_acc: {corrects/X.size(0)}\")\n",
        "\n",
        "    train_loss = running_loss / len(train_dataset)\n",
        "    train_acc = running_acc / len(train_dataset)\n",
        "\n",
        "    # Validate\n",
        "    running_val_loss = 0.\n",
        "    running_val_acc = 0.\n",
        "    for step, (X, y) in enumerate(val_dataloader):\n",
        "\n",
        "        X = X.float().to(device)\n",
        "        X = (X - min) / (max - min)\n",
        "\n",
        "        y = y.view(X.size(0)).to(device)\n",
        "\n",
        "        loss, corrects, predicted_classes = val_step(X, y, model, criterion)\n",
        "        # Running metrics\n",
        "        running_val_loss = running_val_loss + loss * X.size(0)\n",
        "        running_val_acc = running_val_acc + corrects\n",
        "\n",
        "    val_loss = running_val_loss / len(val_dataset)\n",
        "    val_acc = running_val_acc / len(val_dataset)\n",
        "\n",
        "    scheduler.step(val_loss)\n",
        "\n",
        "    if val_loss < best_val_loss:\n",
        "        # Checkpoint model\n",
        "        path = os.path.join(base_path, \"experiments\", \"models\", \"checkpoint_instance_norm_dropout_sgd_lr3.pth\")\n",
        "        print(f\"Saving model to {path}\")\n",
        "        torch.save(model.state_dict(), path)\n",
        "        best_val_loss = val_loss\n",
        "\n",
        "    print(f\"Epoch: {epoch} | train_loss {train_loss} | train_acc: {train_acc} | val_loss: {val_loss} | val_acc: {val_acc}\")"
      ],
      "execution_count": null,
      "outputs": [
        {
          "output_type": "stream",
          "name": "stdout",
          "text": [
            "Iteration: 0/1373 | train_loss: 1.4322837591171265 | train_acc: 0.2421875\n",
            "Iteration: 100/1373 | train_loss: 1.4144141674041748 | train_acc: 0.1796875\n",
            "Iteration: 200/1373 | train_loss: 1.3745908737182617 | train_acc: 0.296875\n",
            "Iteration: 300/1373 | train_loss: 1.3971432447433472 | train_acc: 0.2265625\n",
            "Iteration: 400/1373 | train_loss: 1.3794914484024048 | train_acc: 0.3125\n",
            "Iteration: 500/1373 | train_loss: 1.3893861770629883 | train_acc: 0.2265625\n",
            "Iteration: 600/1373 | train_loss: 1.3817390203475952 | train_acc: 0.2890625\n",
            "Iteration: 700/1373 | train_loss: 1.374855875968933 | train_acc: 0.3203125\n",
            "Iteration: 800/1373 | train_loss: 1.3701694011688232 | train_acc: 0.28125\n",
            "Iteration: 900/1373 | train_loss: 1.3942365646362305 | train_acc: 0.2109375\n",
            "Iteration: 1000/1373 | train_loss: 1.376459002494812 | train_acc: 0.2421875\n",
            "Iteration: 1100/1373 | train_loss: 1.3790428638458252 | train_acc: 0.3046875\n",
            "Iteration: 1200/1373 | train_loss: 1.3645634651184082 | train_acc: 0.3125\n",
            "Iteration: 1300/1373 | train_loss: 1.379542350769043 | train_acc: 0.28125\n",
            "Saving model to /content/drive/MyDrive/ProjC/Nov11_newModel/competition-project-2/experiments/models/checkpoint_instance_norm_dropout_sgd_lr3.pth\n",
            "Epoch: 0 | train_loss 1.3845718229532264 | train_acc: 0.27339980006217957 | val_loss: 1.3865365161636205 | val_acc: 0.26488322019577026\n",
            "Iteration: 0/1373 | train_loss: 1.3580520153045654 | train_acc: 0.40625\n",
            "Iteration: 100/1373 | train_loss: 1.3794769048690796 | train_acc: 0.2890625\n",
            "Iteration: 200/1373 | train_loss: 1.3729833364486694 | train_acc: 0.265625\n",
            "Iteration: 300/1373 | train_loss: 1.3892650604248047 | train_acc: 0.21875\n",
            "Iteration: 400/1373 | train_loss: 1.369006633758545 | train_acc: 0.359375\n",
            "Iteration: 500/1373 | train_loss: 1.3613471984863281 | train_acc: 0.3984375\n",
            "Iteration: 600/1373 | train_loss: 1.3573721647262573 | train_acc: 0.390625\n",
            "Iteration: 700/1373 | train_loss: 1.3542438745498657 | train_acc: 0.453125\n",
            "Iteration: 800/1373 | train_loss: 1.3594226837158203 | train_acc: 0.3828125\n",
            "Iteration: 900/1373 | train_loss: 1.3564742803573608 | train_acc: 0.3984375\n",
            "Iteration: 1000/1373 | train_loss: 1.3257585763931274 | train_acc: 0.5\n",
            "Iteration: 1100/1373 | train_loss: 1.3355205059051514 | train_acc: 0.4296875\n",
            "Iteration: 1200/1373 | train_loss: 1.2902222871780396 | train_acc: 0.5625\n",
            "Iteration: 1300/1373 | train_loss: 1.2729929685592651 | train_acc: 0.515625\n",
            "Saving model to /content/drive/MyDrive/ProjC/Nov11_newModel/competition-project-2/experiments/models/checkpoint_instance_norm_dropout_sgd_lr3.pth\n",
            "Epoch: 1 | train_loss 1.347165865269904 | train_acc: 0.3805995583534241 | val_loss: 1.3397410325216008 | val_acc: 0.27623695135116577\n",
            "Iteration: 0/1373 | train_loss: 1.2364132404327393 | train_acc: 0.5078125\n",
            "Iteration: 100/1373 | train_loss: 1.1402643918991089 | train_acc: 0.5859375\n",
            "Iteration: 200/1373 | train_loss: 1.0191805362701416 | train_acc: 0.6484375\n",
            "Iteration: 300/1373 | train_loss: 1.0482511520385742 | train_acc: 0.640625\n",
            "Iteration: 400/1373 | train_loss: 0.9819323420524597 | train_acc: 0.6796875\n",
            "Iteration: 500/1373 | train_loss: 0.8560039401054382 | train_acc: 0.6796875\n",
            "Iteration: 600/1373 | train_loss: 0.832014799118042 | train_acc: 0.75\n",
            "Iteration: 700/1373 | train_loss: 0.8331574201583862 | train_acc: 0.6796875\n",
            "Iteration: 800/1373 | train_loss: 0.7325448393821716 | train_acc: 0.7890625\n",
            "Iteration: 900/1373 | train_loss: 0.714048445224762 | train_acc: 0.71875\n",
            "Iteration: 1000/1373 | train_loss: 0.6658593416213989 | train_acc: 0.7265625\n",
            "Iteration: 1100/1373 | train_loss: 0.6715925931930542 | train_acc: 0.78125\n",
            "Iteration: 1200/1373 | train_loss: 0.5998565554618835 | train_acc: 0.71875\n",
            "Iteration: 1300/1373 | train_loss: 0.6253460645675659 | train_acc: 0.7109375\n",
            "Saving model to /content/drive/MyDrive/ProjC/Nov11_newModel/competition-project-2/experiments/models/checkpoint_instance_norm_dropout_sgd_lr3.pth\n",
            "Epoch: 2 | train_loss 0.8458381536108304 | train_acc: 0.6772512197494507 | val_loss: 0.8431172013263978 | val_acc: 0.5843830704689026\n",
            "Iteration: 0/1373 | train_loss: 0.5907841920852661 | train_acc: 0.7890625\n",
            "Iteration: 100/1373 | train_loss: 0.5579929947853088 | train_acc: 0.7890625\n",
            "Iteration: 200/1373 | train_loss: 0.6222200393676758 | train_acc: 0.6953125\n",
            "Iteration: 300/1373 | train_loss: 0.5556241273880005 | train_acc: 0.765625\n",
            "Iteration: 400/1373 | train_loss: 0.45190563797950745 | train_acc: 0.8203125\n",
            "Iteration: 500/1373 | train_loss: 0.5861872434616089 | train_acc: 0.734375\n",
            "Iteration: 600/1373 | train_loss: 0.6545695066452026 | train_acc: 0.65625\n",
            "Iteration: 700/1373 | train_loss: 0.44909051060676575 | train_acc: 0.78125\n",
            "Iteration: 800/1373 | train_loss: 0.43646755814552307 | train_acc: 0.84375\n",
            "Iteration: 900/1373 | train_loss: 0.5121234059333801 | train_acc: 0.7578125\n",
            "Iteration: 1000/1373 | train_loss: 0.5133383274078369 | train_acc: 0.7421875\n",
            "Iteration: 1100/1373 | train_loss: 0.47461995482444763 | train_acc: 0.796875\n",
            "Iteration: 1200/1373 | train_loss: 0.41190990805625916 | train_acc: 0.7890625\n",
            "Iteration: 1300/1373 | train_loss: 0.46121472120285034 | train_acc: 0.765625\n",
            "Epoch: 3 | train_loss 0.5126398843075857 | train_acc: 0.7688416242599487 | val_loss: 1.2387937738853707 | val_acc: 0.3865276575088501\n",
            "Iteration: 0/1373 | train_loss: 0.4816988408565521 | train_acc: 0.7890625\n",
            "Iteration: 100/1373 | train_loss: 0.3839323818683624 | train_acc: 0.84375\n",
            "Iteration: 200/1373 | train_loss: 0.605869710445404 | train_acc: 0.71875\n",
            "Iteration: 300/1373 | train_loss: 0.3451213240623474 | train_acc: 0.8203125\n",
            "Iteration: 400/1373 | train_loss: 0.39869919419288635 | train_acc: 0.8046875\n",
            "Iteration: 500/1373 | train_loss: 0.34749284386634827 | train_acc: 0.875\n",
            "Iteration: 600/1373 | train_loss: 0.3929525911808014 | train_acc: 0.8046875\n",
            "Iteration: 700/1373 | train_loss: 0.4396975636482239 | train_acc: 0.8203125\n",
            "Iteration: 800/1373 | train_loss: 0.4136037528514862 | train_acc: 0.84375\n",
            "Iteration: 900/1373 | train_loss: 0.3863928020000458 | train_acc: 0.8203125\n",
            "Iteration: 1000/1373 | train_loss: 0.41661882400512695 | train_acc: 0.8046875\n",
            "Iteration: 1100/1373 | train_loss: 0.43632742762565613 | train_acc: 0.796875\n",
            "Iteration: 1200/1373 | train_loss: 0.39884331822395325 | train_acc: 0.796875\n",
            "Iteration: 1300/1373 | train_loss: 0.410915344953537 | train_acc: 0.84375\n",
            "Epoch     5: reducing learning rate of group 0 to 5.0000e-05.\n",
            "Epoch: 4 | train_loss 0.42718754111662227 | train_acc: 0.8046867847442627 | val_loss: 0.8469594267804249 | val_acc: 0.5651633739471436\n",
            "Iteration: 0/1373 | train_loss: 0.39420902729034424 | train_acc: 0.8046875\n",
            "Iteration: 100/1373 | train_loss: 0.38309261202812195 | train_acc: 0.8515625\n",
            "Iteration: 200/1373 | train_loss: 0.4049980938434601 | train_acc: 0.8046875\n",
            "Iteration: 300/1373 | train_loss: 0.29781365394592285 | train_acc: 0.890625\n",
            "Iteration: 400/1373 | train_loss: 0.3504180908203125 | train_acc: 0.8046875\n",
            "Iteration: 500/1373 | train_loss: 0.45886191725730896 | train_acc: 0.8203125\n",
            "Iteration: 600/1373 | train_loss: 0.4185695946216583 | train_acc: 0.8203125\n",
            "Iteration: 700/1373 | train_loss: 0.34773892164230347 | train_acc: 0.8671875\n",
            "Iteration: 800/1373 | train_loss: 0.41044726967811584 | train_acc: 0.8515625\n",
            "Iteration: 900/1373 | train_loss: 0.3056201636791229 | train_acc: 0.8671875\n",
            "Iteration: 1000/1373 | train_loss: 0.34635502099990845 | train_acc: 0.8359375\n",
            "Iteration: 1100/1373 | train_loss: 0.3787185251712799 | train_acc: 0.8359375\n",
            "Iteration: 1200/1373 | train_loss: 0.3024110794067383 | train_acc: 0.8984375\n",
            "Iteration: 1300/1373 | train_loss: 0.409805566072464 | train_acc: 0.8359375\n",
            "Epoch: 5 | train_loss 0.37916785003187486 | train_acc: 0.8328268527984619 | val_loss: 0.9566305332615489 | val_acc: 0.5127543807029724\n",
            "Iteration: 0/1373 | train_loss: 0.3722097873687744 | train_acc: 0.8125\n",
            "Iteration: 100/1373 | train_loss: 0.3509150743484497 | train_acc: 0.8359375\n",
            "Iteration: 200/1373 | train_loss: 0.41926461458206177 | train_acc: 0.8046875\n",
            "Iteration: 300/1373 | train_loss: 0.3599170446395874 | train_acc: 0.90625\n",
            "Iteration: 400/1373 | train_loss: 0.2989048659801483 | train_acc: 0.8515625\n",
            "Iteration: 500/1373 | train_loss: 0.38948339223861694 | train_acc: 0.828125\n",
            "Iteration: 600/1373 | train_loss: 0.2847549021244049 | train_acc: 0.890625\n",
            "Iteration: 700/1373 | train_loss: 0.3095329701900482 | train_acc: 0.90625\n",
            "Iteration: 800/1373 | train_loss: 0.33651435375213623 | train_acc: 0.8671875\n",
            "Iteration: 900/1373 | train_loss: 0.3119215667247772 | train_acc: 0.8828125\n",
            "Iteration: 1000/1373 | train_loss: 0.27937814593315125 | train_acc: 0.8671875\n",
            "Iteration: 1100/1373 | train_loss: 0.3937995433807373 | train_acc: 0.8203125\n",
            "Iteration: 1200/1373 | train_loss: 0.3724572956562042 | train_acc: 0.8125\n",
            "Iteration: 1300/1373 | train_loss: 0.3761166036128998 | train_acc: 0.859375\n",
            "Saving model to /content/drive/MyDrive/ProjC/Nov11_newModel/competition-project-2/experiments/models/checkpoint_instance_norm_dropout_sgd_lr3.pth\n",
            "Epoch: 6 | train_loss 0.36463688337161415 | train_acc: 0.8426374793052673 | val_loss: 0.791148419710804 | val_acc: 0.6125818490982056\n",
            "Iteration: 0/1373 | train_loss: 0.31798434257507324 | train_acc: 0.859375\n",
            "Iteration: 100/1373 | train_loss: 0.3478137254714966 | train_acc: 0.8671875\n",
            "Iteration: 200/1373 | train_loss: 0.3066030442714691 | train_acc: 0.890625\n",
            "Iteration: 300/1373 | train_loss: 0.38864460587501526 | train_acc: 0.8203125\n",
            "Iteration: 400/1373 | train_loss: 0.33105576038360596 | train_acc: 0.859375\n",
            "Iteration: 500/1373 | train_loss: 0.3076667785644531 | train_acc: 0.8359375\n",
            "Iteration: 600/1373 | train_loss: 0.29906222224235535 | train_acc: 0.90625\n",
            "Iteration: 700/1373 | train_loss: 0.382868230342865 | train_acc: 0.8046875\n",
            "Iteration: 800/1373 | train_loss: 0.4075370728969574 | train_acc: 0.8203125\n",
            "Iteration: 900/1373 | train_loss: 0.3185633718967438 | train_acc: 0.8828125\n",
            "Iteration: 1000/1373 | train_loss: 0.3320121169090271 | train_acc: 0.875\n",
            "Iteration: 1100/1373 | train_loss: 0.3670172691345215 | train_acc: 0.8515625\n",
            "Iteration: 1200/1373 | train_loss: 0.31138721108436584 | train_acc: 0.859375\n",
            "Iteration: 1300/1373 | train_loss: 0.38860395550727844 | train_acc: 0.828125\n",
            "Saving model to /content/drive/MyDrive/ProjC/Nov11_newModel/competition-project-2/experiments/models/checkpoint_instance_norm_dropout_sgd_lr3.pth\n",
            "Epoch: 7 | train_loss 0.3434299890850451 | train_acc: 0.8572908043861389 | val_loss: 0.7181614755164903 | val_acc: 0.6831901669502258\n",
            "Iteration: 0/1373 | train_loss: 0.27201011776924133 | train_acc: 0.9140625\n",
            "Iteration: 100/1373 | train_loss: 0.41835853457450867 | train_acc: 0.84375\n",
            "Iteration: 200/1373 | train_loss: 0.329839825630188 | train_acc: 0.8359375\n",
            "Iteration: 300/1373 | train_loss: 0.27760401368141174 | train_acc: 0.8984375\n",
            "Iteration: 400/1373 | train_loss: 0.3533210754394531 | train_acc: 0.8359375\n",
            "Iteration: 500/1373 | train_loss: 0.35906481742858887 | train_acc: 0.8671875\n",
            "Iteration: 600/1373 | train_loss: 0.277019202709198 | train_acc: 0.90625\n",
            "Iteration: 700/1373 | train_loss: 0.4666087031364441 | train_acc: 0.8046875\n",
            "Iteration: 800/1373 | train_loss: 0.3015522360801697 | train_acc: 0.8828125\n",
            "Iteration: 900/1373 | train_loss: 0.3180839717388153 | train_acc: 0.84375\n",
            "Iteration: 1000/1373 | train_loss: 0.41810956597328186 | train_acc: 0.8046875\n",
            "Iteration: 1100/1373 | train_loss: 0.3615977466106415 | train_acc: 0.828125\n",
            "Iteration: 1200/1373 | train_loss: 0.34544628858566284 | train_acc: 0.859375\n",
            "Iteration: 1300/1373 | train_loss: 0.29509738087654114 | train_acc: 0.890625\n",
            "Epoch: 8 | train_loss 0.32301797985835207 | train_acc: 0.8698499798774719 | val_loss: 0.7322227027126715 | val_acc: 0.7053967118263245\n",
            "Iteration: 0/1373 | train_loss: 0.2856661379337311 | train_acc: 0.8984375\n",
            "Iteration: 100/1373 | train_loss: 0.372292160987854 | train_acc: 0.8203125\n",
            "Iteration: 200/1373 | train_loss: 0.30396321415901184 | train_acc: 0.8828125\n",
            "Iteration: 300/1373 | train_loss: 0.2550351917743683 | train_acc: 0.9296875\n",
            "Iteration: 400/1373 | train_loss: 0.3634217381477356 | train_acc: 0.8203125\n",
            "Iteration: 500/1373 | train_loss: 0.27372413873672485 | train_acc: 0.9375\n",
            "Iteration: 600/1373 | train_loss: 0.3036900460720062 | train_acc: 0.875\n",
            "Iteration: 700/1373 | train_loss: 0.3912811279296875 | train_acc: 0.8046875\n",
            "Iteration: 800/1373 | train_loss: 0.3017204701900482 | train_acc: 0.875\n",
            "Iteration: 900/1373 | train_loss: 0.2701127827167511 | train_acc: 0.9140625\n",
            "Iteration: 1000/1373 | train_loss: 0.24276825785636902 | train_acc: 0.921875\n",
            "Iteration: 1100/1373 | train_loss: 0.3316196799278259 | train_acc: 0.875\n",
            "Iteration: 1200/1373 | train_loss: 0.25566914677619934 | train_acc: 0.921875\n",
            "Iteration: 1300/1373 | train_loss: 0.3345988392829895 | train_acc: 0.8671875\n",
            "Epoch    10: reducing learning rate of group 0 to 2.5000e-05.\n",
            "Epoch: 9 | train_loss 0.3056957188942475 | train_acc: 0.8793647289276123 | val_loss: 0.7609208833203077 | val_acc: 0.6556777954101562\n",
            "Iteration: 0/1373 | train_loss: 0.2976509630680084 | train_acc: 0.8828125\n",
            "Iteration: 100/1373 | train_loss: 0.2822149693965912 | train_acc: 0.890625\n",
            "Iteration: 200/1373 | train_loss: 0.30133530497550964 | train_acc: 0.8359375\n",
            "Iteration: 300/1373 | train_loss: 0.23745445907115936 | train_acc: 0.921875\n",
            "Iteration: 400/1373 | train_loss: 0.3150450587272644 | train_acc: 0.875\n",
            "Iteration: 500/1373 | train_loss: 0.3040781617164612 | train_acc: 0.8828125\n",
            "Iteration: 600/1373 | train_loss: 0.3067736029624939 | train_acc: 0.90625\n",
            "Iteration: 700/1373 | train_loss: 0.2563842833042145 | train_acc: 0.9140625\n",
            "Iteration: 800/1373 | train_loss: 0.37487486004829407 | train_acc: 0.859375\n",
            "Iteration: 900/1373 | train_loss: 0.3087725043296814 | train_acc: 0.90625\n",
            "Iteration: 1000/1373 | train_loss: 0.24587810039520264 | train_acc: 0.9375\n",
            "Iteration: 1100/1373 | train_loss: 0.3244863748550415 | train_acc: 0.859375\n",
            "Iteration: 1200/1373 | train_loss: 0.2650586664676666 | train_acc: 0.90625\n",
            "Iteration: 1300/1373 | train_loss: 0.2953962981700897 | train_acc: 0.890625\n",
            "Epoch: 10 | train_loss 0.28201782320796775 | train_acc: 0.8947066068649292 | val_loss: 0.8419577196872653 | val_acc: 0.6026195287704468\n",
            "Iteration: 0/1373 | train_loss: 0.33612602949142456 | train_acc: 0.8671875\n",
            "Iteration: 100/1373 | train_loss: 0.3332715928554535 | train_acc: 0.890625\n",
            "Iteration: 200/1373 | train_loss: 0.3289541006088257 | train_acc: 0.8671875\n",
            "Iteration: 300/1373 | train_loss: 0.2563662528991699 | train_acc: 0.8828125\n",
            "Iteration: 400/1373 | train_loss: 0.21709008514881134 | train_acc: 0.9375\n",
            "Iteration: 500/1373 | train_loss: 0.3340812623500824 | train_acc: 0.8671875\n",
            "Iteration: 600/1373 | train_loss: 0.2281450778245926 | train_acc: 0.9140625\n",
            "Iteration: 700/1373 | train_loss: 0.3546307682991028 | train_acc: 0.8515625\n",
            "Iteration: 800/1373 | train_loss: 0.28999605774879456 | train_acc: 0.8828125\n",
            "Iteration: 900/1373 | train_loss: 0.26835373044013977 | train_acc: 0.90625\n",
            "Iteration: 1000/1373 | train_loss: 0.29922375082969666 | train_acc: 0.875\n",
            "Iteration: 1100/1373 | train_loss: 0.22250054776668549 | train_acc: 0.953125\n",
            "Iteration: 1200/1373 | train_loss: 0.2606883645057678 | train_acc: 0.921875\n",
            "Iteration: 1300/1373 | train_loss: 0.20902952551841736 | train_acc: 0.921875\n",
            "Epoch    12: reducing learning rate of group 0 to 1.2500e-05.\n",
            "Epoch: 11 | train_loss 0.2716511645533506 | train_acc: 0.9005110263824463 | val_loss: 0.7935381535757005 | val_acc: 0.6465688347816467\n",
            "Iteration: 0/1373 | train_loss: 0.28456342220306396 | train_acc: 0.859375\n",
            "Iteration: 100/1373 | train_loss: 0.25284096598625183 | train_acc: 0.890625\n",
            "Iteration: 200/1373 | train_loss: 0.25607961416244507 | train_acc: 0.90625\n",
            "Iteration: 300/1373 | train_loss: 0.267736554145813 | train_acc: 0.8984375\n",
            "Iteration: 400/1373 | train_loss: 0.28329113125801086 | train_acc: 0.890625\n",
            "Iteration: 500/1373 | train_loss: 0.256316214799881 | train_acc: 0.90625\n",
            "Iteration: 600/1373 | train_loss: 0.27959761023521423 | train_acc: 0.8828125\n",
            "Iteration: 700/1373 | train_loss: 0.3049212396144867 | train_acc: 0.8828125\n",
            "Iteration: 800/1373 | train_loss: 0.20291326940059662 | train_acc: 0.9140625\n",
            "Iteration: 900/1373 | train_loss: 0.21056026220321655 | train_acc: 0.9375\n",
            "Iteration: 1000/1373 | train_loss: 0.22865030169487 | train_acc: 0.921875\n",
            "Iteration: 1100/1373 | train_loss: 0.23512637615203857 | train_acc: 0.90625\n",
            "Iteration: 1200/1373 | train_loss: 0.22049617767333984 | train_acc: 0.9453125\n",
            "Iteration: 1300/1373 | train_loss: 0.2388887107372284 | train_acc: 0.90625\n",
            "Epoch: 12 | train_loss 0.2593835342614733 | train_acc: 0.9078860282897949 | val_loss: 0.7862555308409256 | val_acc: 0.6424688696861267\n",
            "Iteration: 0/1373 | train_loss: 0.24437305331230164 | train_acc: 0.921875\n",
            "Iteration: 100/1373 | train_loss: 0.3638555407524109 | train_acc: 0.8515625\n",
            "Iteration: 200/1373 | train_loss: 0.24127449095249176 | train_acc: 0.9296875\n",
            "Iteration: 300/1373 | train_loss: 0.25691118836402893 | train_acc: 0.9296875\n",
            "Iteration: 400/1373 | train_loss: 0.27568092942237854 | train_acc: 0.8828125\n",
            "Iteration: 500/1373 | train_loss: 0.28478917479515076 | train_acc: 0.890625\n",
            "Iteration: 600/1373 | train_loss: 0.21243959665298462 | train_acc: 0.921875\n",
            "Iteration: 700/1373 | train_loss: 0.221158966422081 | train_acc: 0.890625\n",
            "Iteration: 800/1373 | train_loss: 0.24322795867919922 | train_acc: 0.8828125\n",
            "Iteration: 900/1373 | train_loss: 0.19792242348194122 | train_acc: 0.9375\n",
            "Iteration: 1000/1373 | train_loss: 0.23160013556480408 | train_acc: 0.9375\n",
            "Iteration: 1100/1373 | train_loss: 0.20881293714046478 | train_acc: 0.9296875\n",
            "Iteration: 1200/1373 | train_loss: 0.23060020804405212 | train_acc: 0.90625\n",
            "Iteration: 1300/1373 | train_loss: 0.2328583002090454 | train_acc: 0.8984375\n",
            "Saving model to /content/drive/MyDrive/ProjC/Nov11_newModel/competition-project-2/experiments/models/checkpoint_instance_norm_dropout_sgd_lr3.pth\n",
            "Epoch: 13 | train_loss 0.25424580994681734 | train_acc: 0.9102988839149475 | val_loss: 0.6587192215183136 | val_acc: 0.7510157227516174\n",
            "Iteration: 0/1373 | train_loss: 0.287043035030365 | train_acc: 0.859375\n",
            "Iteration: 100/1373 | train_loss: 0.3379139006137848 | train_acc: 0.859375\n",
            "Iteration: 200/1373 | train_loss: 0.24029801785945892 | train_acc: 0.9375\n",
            "Iteration: 300/1373 | train_loss: 0.2006218433380127 | train_acc: 0.9453125\n",
            "Iteration: 400/1373 | train_loss: 0.2434728890657425 | train_acc: 0.9140625\n",
            "Iteration: 500/1373 | train_loss: 0.27142512798309326 | train_acc: 0.9453125\n",
            "Iteration: 600/1373 | train_loss: 0.1998252123594284 | train_acc: 0.9296875\n",
            "Iteration: 700/1373 | train_loss: 0.23291447758674622 | train_acc: 0.90625\n",
            "Iteration: 800/1373 | train_loss: 0.18262037634849548 | train_acc: 0.9609375\n",
            "Iteration: 900/1373 | train_loss: 0.3447706401348114 | train_acc: 0.8671875\n",
            "Iteration: 1000/1373 | train_loss: 0.24615025520324707 | train_acc: 0.921875\n",
            "Iteration: 1100/1373 | train_loss: 0.2594788074493408 | train_acc: 0.875\n",
            "Iteration: 1200/1373 | train_loss: 0.2209881693124771 | train_acc: 0.921875\n",
            "Iteration: 1300/1373 | train_loss: 0.227682963013649 | train_acc: 0.9140625\n",
            "Epoch: 14 | train_loss 0.25046905666266833 | train_acc: 0.9121084809303284 | val_loss: 0.8496090057841515 | val_acc: 0.6036213040351868\n",
            "Iteration: 0/1373 | train_loss: 0.20500975847244263 | train_acc: 0.9296875\n",
            "Iteration: 100/1373 | train_loss: 0.23853696882724762 | train_acc: 0.9140625\n",
            "Iteration: 200/1373 | train_loss: 0.24693433940410614 | train_acc: 0.9375\n",
            "Iteration: 300/1373 | train_loss: 0.2450237274169922 | train_acc: 0.9140625\n",
            "Iteration: 400/1373 | train_loss: 0.24567744135856628 | train_acc: 0.921875\n",
            "Iteration: 500/1373 | train_loss: 0.2539046108722687 | train_acc: 0.8828125\n",
            "Iteration: 600/1373 | train_loss: 0.2628088593482971 | train_acc: 0.9140625\n",
            "Iteration: 700/1373 | train_loss: 0.30885937809944153 | train_acc: 0.890625\n",
            "Iteration: 800/1373 | train_loss: 0.23228178918361664 | train_acc: 0.921875\n",
            "Iteration: 900/1373 | train_loss: 0.2826533019542694 | train_acc: 0.8984375\n",
            "Iteration: 1000/1373 | train_loss: 0.20438282191753387 | train_acc: 0.921875\n",
            "Iteration: 1100/1373 | train_loss: 0.3036981523036957 | train_acc: 0.8984375\n",
            "Iteration: 1200/1373 | train_loss: 0.30002132058143616 | train_acc: 0.9296875\n",
            "Iteration: 1300/1373 | train_loss: 0.24790525436401367 | train_acc: 0.90625\n",
            "Epoch    16: reducing learning rate of group 0 to 6.2500e-06.\n",
            "Epoch: 15 | train_loss 0.2438762982130094 | train_acc: 0.9152553677558899 | val_loss: 0.7821147584216089 | val_acc: 0.6619111895561218\n",
            "Iteration: 0/1373 | train_loss: 0.20816636085510254 | train_acc: 0.9296875\n",
            "Iteration: 100/1373 | train_loss: 0.2913852035999298 | train_acc: 0.8984375\n",
            "Iteration: 200/1373 | train_loss: 0.19486582279205322 | train_acc: 0.953125\n",
            "Iteration: 300/1373 | train_loss: 0.2701050639152527 | train_acc: 0.90625\n",
            "Iteration: 400/1373 | train_loss: 0.21504034101963043 | train_acc: 0.9375\n",
            "Iteration: 500/1373 | train_loss: 0.2357606589794159 | train_acc: 0.921875\n",
            "Iteration: 600/1373 | train_loss: 0.3084571659564972 | train_acc: 0.8828125\n",
            "Iteration: 700/1373 | train_loss: 0.22266675531864166 | train_acc: 0.90625\n",
            "Iteration: 800/1373 | train_loss: 0.2602902948856354 | train_acc: 0.9140625\n",
            "Iteration: 900/1373 | train_loss: 0.2558048665523529 | train_acc: 0.90625\n",
            "Iteration: 1000/1373 | train_loss: 0.18891002237796783 | train_acc: 0.9453125\n",
            "Iteration: 1100/1373 | train_loss: 0.24234728515148163 | train_acc: 0.921875\n",
            "Iteration: 1200/1373 | train_loss: 0.3066861927509308 | train_acc: 0.90625\n",
            "Iteration: 1300/1373 | train_loss: 0.33785539865493774 | train_acc: 0.875\n",
            "Epoch: 16 | train_loss 0.23741389899498927 | train_acc: 0.9190680980682373 | val_loss: 0.8207219936116857 | val_acc: 0.6294083595275879\n",
            "Iteration: 0/1373 | train_loss: 0.2524639368057251 | train_acc: 0.8984375\n",
            "Iteration: 100/1373 | train_loss: 0.1931324303150177 | train_acc: 0.9453125\n",
            "Iteration: 200/1373 | train_loss: 0.22305525839328766 | train_acc: 0.9296875\n",
            "Iteration: 300/1373 | train_loss: 0.26518532633781433 | train_acc: 0.90625\n",
            "Iteration: 400/1373 | train_loss: 0.23754402995109558 | train_acc: 0.90625\n",
            "Iteration: 500/1373 | train_loss: 0.20135590434074402 | train_acc: 0.9296875\n",
            "Iteration: 600/1373 | train_loss: 0.237071231007576 | train_acc: 0.90625\n",
            "Iteration: 700/1373 | train_loss: 0.21124248206615448 | train_acc: 0.9296875\n",
            "Iteration: 800/1373 | train_loss: 0.21086522936820984 | train_acc: 0.9375\n",
            "Iteration: 900/1373 | train_loss: 0.24390429258346558 | train_acc: 0.921875\n",
            "Iteration: 1000/1373 | train_loss: 0.22850166261196136 | train_acc: 0.9296875\n",
            "Iteration: 1100/1373 | train_loss: 0.20207232236862183 | train_acc: 0.9296875\n",
            "Iteration: 1200/1373 | train_loss: 0.20128610730171204 | train_acc: 0.953125\n",
            "Iteration: 1300/1373 | train_loss: 0.2749878466129303 | train_acc: 0.921875\n",
            "Epoch    18: reducing learning rate of group 0 to 3.1250e-06.\n",
            "Epoch: 17 | train_loss 0.2340147067432921 | train_acc: 0.9215093851089478 | val_loss: 0.8882762909542617 | val_acc: 0.5910617113113403\n",
            "Iteration: 0/1373 | train_loss: 0.3183826208114624 | train_acc: 0.8984375\n",
            "Iteration: 100/1373 | train_loss: 0.14782209694385529 | train_acc: 0.9609375\n",
            "Iteration: 200/1373 | train_loss: 0.22948770225048065 | train_acc: 0.9140625\n",
            "Iteration: 300/1373 | train_loss: 0.2946960926055908 | train_acc: 0.8828125\n",
            "Iteration: 400/1373 | train_loss: 0.2724002003669739 | train_acc: 0.8984375\n",
            "Iteration: 500/1373 | train_loss: 0.1537146419286728 | train_acc: 0.9765625\n",
            "Iteration: 600/1373 | train_loss: 0.23501724004745483 | train_acc: 0.890625\n",
            "Iteration: 700/1373 | train_loss: 0.18782129883766174 | train_acc: 0.9296875\n",
            "Iteration: 800/1373 | train_loss: 0.23385626077651978 | train_acc: 0.8984375\n",
            "Iteration: 900/1373 | train_loss: 0.2152368575334549 | train_acc: 0.9296875\n",
            "Iteration: 1000/1373 | train_loss: 0.24788892269134521 | train_acc: 0.921875\n",
            "Iteration: 1100/1373 | train_loss: 0.22925245761871338 | train_acc: 0.921875\n",
            "Iteration: 1200/1373 | train_loss: 0.26186880469322205 | train_acc: 0.8984375\n",
            "Iteration: 1300/1373 | train_loss: 0.19950726628303528 | train_acc: 0.9375\n",
            "Epoch: 18 | train_loss 0.23069165660326005 | train_acc: 0.9237458109855652 | val_loss: 0.7916110154837268 | val_acc: 0.6495000123977661\n",
            "Iteration: 0/1373 | train_loss: 0.160380020737648 | train_acc: 0.953125\n",
            "Iteration: 100/1373 | train_loss: 0.2723179757595062 | train_acc: 0.890625\n",
            "Iteration: 200/1373 | train_loss: 0.15995298326015472 | train_acc: 0.9453125\n",
            "Iteration: 300/1373 | train_loss: 0.17136560380458832 | train_acc: 0.9453125\n",
            "Iteration: 400/1373 | train_loss: 0.18061001598834991 | train_acc: 0.96875\n",
            "Iteration: 500/1373 | train_loss: 0.3033851385116577 | train_acc: 0.8984375\n",
            "Iteration: 600/1373 | train_loss: 0.2198994904756546 | train_acc: 0.9140625\n",
            "Iteration: 700/1373 | train_loss: 0.21399366855621338 | train_acc: 0.9140625\n",
            "Iteration: 800/1373 | train_loss: 0.19466431438922882 | train_acc: 0.9375\n",
            "Iteration: 900/1373 | train_loss: 0.30565816164016724 | train_acc: 0.8984375\n",
            "Iteration: 1000/1373 | train_loss: 0.1995217502117157 | train_acc: 0.9609375\n",
            "Iteration: 1100/1373 | train_loss: 0.2091655135154724 | train_acc: 0.9296875\n",
            "Iteration: 1200/1373 | train_loss: 0.19254747033119202 | train_acc: 0.9453125\n",
            "Iteration: 1300/1373 | train_loss: 0.278152197599411 | train_acc: 0.90625\n",
            "Epoch    20: reducing learning rate of group 0 to 1.5625e-06.\n",
            "Epoch: 19 | train_loss 0.22727896591429175 | train_acc: 0.9248839020729065 | val_loss: 0.7671051428302234 | val_acc: 0.6753242015838623\n",
            "Iteration: 0/1373 | train_loss: 0.17024697363376617 | train_acc: 0.9296875\n",
            "Iteration: 100/1373 | train_loss: 0.2576580047607422 | train_acc: 0.890625\n",
            "Iteration: 200/1373 | train_loss: 0.27110376954078674 | train_acc: 0.890625\n",
            "Iteration: 300/1373 | train_loss: 0.21710453927516937 | train_acc: 0.9296875\n",
            "Iteration: 400/1373 | train_loss: 0.2710294723510742 | train_acc: 0.9375\n",
            "Iteration: 500/1373 | train_loss: 0.19281116127967834 | train_acc: 0.9375\n",
            "Iteration: 600/1373 | train_loss: 0.3254653811454773 | train_acc: 0.890625\n",
            "Iteration: 700/1373 | train_loss: 0.20242011547088623 | train_acc: 0.9375\n",
            "Iteration: 800/1373 | train_loss: 0.21787825226783752 | train_acc: 0.9453125\n",
            "Iteration: 900/1373 | train_loss: 0.2324467897415161 | train_acc: 0.921875\n",
            "Iteration: 1000/1373 | train_loss: 0.18100644648075104 | train_acc: 0.9453125\n",
            "Iteration: 1100/1373 | train_loss: 0.23647001385688782 | train_acc: 0.90625\n",
            "Iteration: 1200/1373 | train_loss: 0.25364166498184204 | train_acc: 0.90625\n",
            "Iteration: 1300/1373 | train_loss: 0.25391697883605957 | train_acc: 0.8984375\n",
            "Epoch: 20 | train_loss 0.2279554676550459 | train_acc: 0.9248042702674866 | val_loss: 0.8381437830006486 | val_acc: 0.6226184368133545\n",
            "Iteration: 0/1373 | train_loss: 0.23319293558597565 | train_acc: 0.90625\n",
            "Iteration: 100/1373 | train_loss: 0.2414170503616333 | train_acc: 0.921875\n",
            "Iteration: 200/1373 | train_loss: 0.3133750259876251 | train_acc: 0.890625\n",
            "Iteration: 300/1373 | train_loss: 0.29572534561157227 | train_acc: 0.90625\n",
            "Iteration: 400/1373 | train_loss: 0.19372975826263428 | train_acc: 0.9375\n",
            "Iteration: 500/1373 | train_loss: 0.2944674789905548 | train_acc: 0.875\n",
            "Iteration: 600/1373 | train_loss: 0.18729014694690704 | train_acc: 0.9609375\n",
            "Iteration: 700/1373 | train_loss: 0.2534419298171997 | train_acc: 0.90625\n",
            "Iteration: 800/1373 | train_loss: 0.2054225653409958 | train_acc: 0.9453125\n",
            "Iteration: 900/1373 | train_loss: 0.1826000064611435 | train_acc: 0.9609375\n",
            "Iteration: 1000/1373 | train_loss: 0.24997738003730774 | train_acc: 0.9140625\n",
            "Iteration: 1100/1373 | train_loss: 0.23752692341804504 | train_acc: 0.9296875\n",
            "Iteration: 1200/1373 | train_loss: 0.2423059493303299 | train_acc: 0.8984375\n",
            "Iteration: 1300/1373 | train_loss: 0.19388934969902039 | train_acc: 0.9453125\n",
            "Epoch    22: reducing learning rate of group 0 to 7.8125e-07.\n",
            "Epoch: 21 | train_loss 0.224651860177848 | train_acc: 0.9249578714370728 | val_loss: 0.7344689624619334 | val_acc: 0.6969185471534729\n",
            "Iteration: 0/1373 | train_loss: 0.1685759723186493 | train_acc: 0.9375\n",
            "Iteration: 100/1373 | train_loss: 0.22975055873394012 | train_acc: 0.9453125\n",
            "Iteration: 200/1373 | train_loss: 0.22539269924163818 | train_acc: 0.9140625\n",
            "Iteration: 300/1373 | train_loss: 0.26527687907218933 | train_acc: 0.90625\n",
            "Iteration: 400/1373 | train_loss: 0.1643461436033249 | train_acc: 0.9609375\n",
            "Iteration: 500/1373 | train_loss: 0.25460395216941833 | train_acc: 0.90625\n",
            "Iteration: 600/1373 | train_loss: 0.22121046483516693 | train_acc: 0.9296875\n",
            "Iteration: 700/1373 | train_loss: 0.23927809298038483 | train_acc: 0.9453125\n",
            "Iteration: 800/1373 | train_loss: 0.2574869990348816 | train_acc: 0.90625\n",
            "Iteration: 900/1373 | train_loss: 0.18659500777721405 | train_acc: 0.953125\n",
            "Iteration: 1000/1373 | train_loss: 0.1977020651102066 | train_acc: 0.953125\n",
            "Iteration: 1100/1373 | train_loss: 0.2438240647315979 | train_acc: 0.9296875\n",
            "Iteration: 1200/1373 | train_loss: 0.25873467326164246 | train_acc: 0.90625\n",
            "Iteration: 1300/1373 | train_loss: 0.23284240067005157 | train_acc: 0.9140625\n",
            "Epoch: 22 | train_loss 0.22551016226243986 | train_acc: 0.9254472851753235 | val_loss: 0.7614968662318092 | val_acc: 0.6794055700302124\n",
            "Iteration: 0/1373 | train_loss: 0.21645359694957733 | train_acc: 0.9375\n",
            "Iteration: 100/1373 | train_loss: 0.21263298392295837 | train_acc: 0.9453125\n",
            "Iteration: 200/1373 | train_loss: 0.2206287533044815 | train_acc: 0.9140625\n",
            "Iteration: 300/1373 | train_loss: 0.23605677485466003 | train_acc: 0.9140625\n",
            "Iteration: 400/1373 | train_loss: 0.21028941869735718 | train_acc: 0.921875\n",
            "Iteration: 500/1373 | train_loss: 0.21103282272815704 | train_acc: 0.9296875\n",
            "Iteration: 600/1373 | train_loss: 0.2272409349679947 | train_acc: 0.921875\n",
            "Iteration: 700/1373 | train_loss: 0.23278012871742249 | train_acc: 0.9375\n",
            "Iteration: 800/1373 | train_loss: 0.15054388344287872 | train_acc: 0.953125\n",
            "Iteration: 900/1373 | train_loss: 0.2425004094839096 | train_acc: 0.921875\n",
            "Iteration: 1000/1373 | train_loss: 0.19567425549030304 | train_acc: 0.921875\n",
            "Iteration: 1100/1373 | train_loss: 0.26164817810058594 | train_acc: 0.8984375\n",
            "Iteration: 1200/1373 | train_loss: 0.22359739243984222 | train_acc: 0.9375\n",
            "Iteration: 1300/1373 | train_loss: 0.23763823509216309 | train_acc: 0.9453125\n",
            "Epoch    24: reducing learning rate of group 0 to 3.9063e-07.\n",
            "Epoch: 23 | train_loss 0.22624819411325572 | train_acc: 0.9248725175857544 | val_loss: 0.7662206396178284 | val_acc: 0.6798508167266846\n",
            "Iteration: 0/1373 | train_loss: 0.23981955647468567 | train_acc: 0.921875\n",
            "Iteration: 100/1373 | train_loss: 0.2824995219707489 | train_acc: 0.8828125\n",
            "Iteration: 200/1373 | train_loss: 0.24852795898914337 | train_acc: 0.921875\n",
            "Iteration: 300/1373 | train_loss: 0.22406946122646332 | train_acc: 0.9140625\n",
            "Iteration: 400/1373 | train_loss: 0.2673421800136566 | train_acc: 0.90625\n",
            "Iteration: 500/1373 | train_loss: 0.17940719425678253 | train_acc: 0.9375\n",
            "Iteration: 600/1373 | train_loss: 0.25360623002052307 | train_acc: 0.90625\n",
            "Iteration: 700/1373 | train_loss: 0.20263880491256714 | train_acc: 0.921875\n",
            "Iteration: 800/1373 | train_loss: 0.18276654183864594 | train_acc: 0.9453125\n",
            "Iteration: 900/1373 | train_loss: 0.19415679574012756 | train_acc: 0.9375\n",
            "Iteration: 1000/1373 | train_loss: 0.1643574982881546 | train_acc: 0.953125\n",
            "Iteration: 1100/1373 | train_loss: 0.20652727782726288 | train_acc: 0.9296875\n",
            "Iteration: 1200/1373 | train_loss: 0.24315138161182404 | train_acc: 0.9375\n",
            "Iteration: 1300/1373 | train_loss: 0.2555478513240814 | train_acc: 0.9453125\n",
            "Epoch: 24 | train_loss 0.22570062316984663 | train_acc: 0.9262894988059998 | val_loss: 0.7897551359028825 | val_acc: 0.6585904359817505\n",
            "Iteration: 0/1373 | train_loss: 0.26787856221199036 | train_acc: 0.8984375\n",
            "Iteration: 100/1373 | train_loss: 0.20195582509040833 | train_acc: 0.9453125\n",
            "Iteration: 200/1373 | train_loss: 0.23392270505428314 | train_acc: 0.90625\n",
            "Iteration: 300/1373 | train_loss: 0.20948383212089539 | train_acc: 0.9140625\n",
            "Iteration: 400/1373 | train_loss: 0.28073540329933167 | train_acc: 0.859375\n",
            "Iteration: 500/1373 | train_loss: 0.22367741167545319 | train_acc: 0.9140625\n",
            "Iteration: 600/1373 | train_loss: 0.22663794457912445 | train_acc: 0.9453125\n",
            "Iteration: 700/1373 | train_loss: 0.17147991061210632 | train_acc: 0.9609375\n",
            "Iteration: 800/1373 | train_loss: 0.19599683582782745 | train_acc: 0.921875\n",
            "Iteration: 900/1373 | train_loss: 0.16713902354240417 | train_acc: 0.953125\n",
            "Iteration: 1000/1373 | train_loss: 0.2452191710472107 | train_acc: 0.921875\n",
            "Iteration: 1100/1373 | train_loss: 0.17644275724887848 | train_acc: 0.9609375\n",
            "Iteration: 1200/1373 | train_loss: 0.1805257946252823 | train_acc: 0.9609375\n",
            "Iteration: 1300/1373 | train_loss: 0.16857104003429413 | train_acc: 0.953125\n",
            "Epoch    26: reducing learning rate of group 0 to 1.9531e-07.\n",
            "Epoch: 25 | train_loss 0.22538153454356102 | train_acc: 0.9252253770828247 | val_loss: 0.7857821064375925 | val_acc: 0.6613361239433289\n",
            "Iteration: 0/1373 | train_loss: 0.19534003734588623 | train_acc: 0.9375\n",
            "Iteration: 100/1373 | train_loss: 0.2196335643529892 | train_acc: 0.9296875\n",
            "Iteration: 200/1373 | train_loss: 0.24821990728378296 | train_acc: 0.921875\n",
            "Iteration: 300/1373 | train_loss: 0.3823590874671936 | train_acc: 0.8359375\n",
            "Iteration: 400/1373 | train_loss: 0.22578805685043335 | train_acc: 0.921875\n",
            "Iteration: 500/1373 | train_loss: 0.1919504851102829 | train_acc: 0.921875\n",
            "Iteration: 600/1373 | train_loss: 0.27133187651634216 | train_acc: 0.9140625\n",
            "Iteration: 700/1373 | train_loss: 0.16596955060958862 | train_acc: 0.9453125\n",
            "Iteration: 800/1373 | train_loss: 0.21063850820064545 | train_acc: 0.9375\n",
            "Iteration: 900/1373 | train_loss: 0.2396259754896164 | train_acc: 0.921875\n",
            "Iteration: 1000/1373 | train_loss: 0.1666308492422104 | train_acc: 0.953125\n",
            "Iteration: 1100/1373 | train_loss: 0.19135743379592896 | train_acc: 0.953125\n",
            "Iteration: 1200/1373 | train_loss: 0.20787395536899567 | train_acc: 0.9375\n",
            "Iteration: 1300/1373 | train_loss: 0.20432327687740326 | train_acc: 0.9609375\n",
            "Epoch: 26 | train_loss 0.2239699084435527 | train_acc: 0.9263293147087097 | val_loss: 0.7548927113394736 | val_acc: 0.6812422275543213\n",
            "Iteration: 0/1373 | train_loss: 0.21909841895103455 | train_acc: 0.9375\n",
            "Iteration: 100/1373 | train_loss: 0.17154619097709656 | train_acc: 0.9375\n",
            "Iteration: 200/1373 | train_loss: 0.18661969900131226 | train_acc: 0.953125\n",
            "Iteration: 300/1373 | train_loss: 0.28945520520210266 | train_acc: 0.8984375\n",
            "Iteration: 400/1373 | train_loss: 0.2168823629617691 | train_acc: 0.8984375\n",
            "Iteration: 500/1373 | train_loss: 0.28089702129364014 | train_acc: 0.8984375\n",
            "Iteration: 600/1373 | train_loss: 0.22385849058628082 | train_acc: 0.9296875\n",
            "Iteration: 700/1373 | train_loss: 0.26594284176826477 | train_acc: 0.921875\n",
            "Iteration: 800/1373 | train_loss: 0.2505994737148285 | train_acc: 0.9296875\n",
            "Iteration: 900/1373 | train_loss: 0.2143477201461792 | train_acc: 0.953125\n",
            "Iteration: 1000/1373 | train_loss: 0.22248698770999908 | train_acc: 0.9375\n",
            "Iteration: 1100/1373 | train_loss: 0.18021279573440552 | train_acc: 0.953125\n",
            "Iteration: 1200/1373 | train_loss: 0.26835113763809204 | train_acc: 0.90625\n",
            "Iteration: 1300/1373 | train_loss: 0.20768143236637115 | train_acc: 0.9296875\n",
            "Epoch    28: reducing learning rate of group 0 to 9.7656e-08.\n",
            "Epoch: 27 | train_loss 0.22567518877085468 | train_acc: 0.9244741797447205 | val_loss: 0.7677718877340096 | val_acc: 0.6739327907562256\n",
            "Iteration: 0/1373 | train_loss: 0.23173396289348602 | train_acc: 0.9296875\n",
            "Iteration: 100/1373 | train_loss: 0.2571885287761688 | train_acc: 0.9140625\n",
            "Iteration: 200/1373 | train_loss: 0.3147101104259491 | train_acc: 0.875\n",
            "Iteration: 300/1373 | train_loss: 0.1472451090812683 | train_acc: 0.9609375\n",
            "Iteration: 400/1373 | train_loss: 0.30378809571266174 | train_acc: 0.890625\n",
            "Iteration: 500/1373 | train_loss: 0.17915701866149902 | train_acc: 0.953125\n",
            "Iteration: 600/1373 | train_loss: 0.19056765735149384 | train_acc: 0.953125\n",
            "Iteration: 700/1373 | train_loss: 0.22990374267101288 | train_acc: 0.8984375\n",
            "Iteration: 800/1373 | train_loss: 0.2697586417198181 | train_acc: 0.921875\n",
            "Iteration: 900/1373 | train_loss: 0.15858042240142822 | train_acc: 0.9609375\n",
            "Iteration: 1000/1373 | train_loss: 0.23826995491981506 | train_acc: 0.9453125\n",
            "Iteration: 1100/1373 | train_loss: 0.2121777981519699 | train_acc: 0.953125\n",
            "Iteration: 1200/1373 | train_loss: 0.25728070735931396 | train_acc: 0.921875\n",
            "Iteration: 1300/1373 | train_loss: 0.17893292009830475 | train_acc: 0.9296875\n",
            "Epoch: 28 | train_loss 0.22295682971256955 | train_acc: 0.9262553453445435 | val_loss: 0.7722133092447183 | val_acc: 0.6691464185714722\n",
            "Iteration: 0/1373 | train_loss: 0.25075122714042664 | train_acc: 0.8671875\n",
            "Iteration: 100/1373 | train_loss: 0.21258091926574707 | train_acc: 0.9453125\n",
            "Iteration: 200/1373 | train_loss: 0.22411590814590454 | train_acc: 0.921875\n",
            "Iteration: 300/1373 | train_loss: 0.2263045310974121 | train_acc: 0.9140625\n",
            "Iteration: 400/1373 | train_loss: 0.20364709198474884 | train_acc: 0.9296875\n",
            "Iteration: 500/1373 | train_loss: 0.1698998361825943 | train_acc: 0.9765625\n",
            "Iteration: 600/1373 | train_loss: 0.2613466680049896 | train_acc: 0.9140625\n",
            "Iteration: 700/1373 | train_loss: 0.20132821798324585 | train_acc: 0.9140625\n",
            "Iteration: 800/1373 | train_loss: 0.19361940026283264 | train_acc: 0.953125\n",
            "Iteration: 900/1373 | train_loss: 0.1951117068529129 | train_acc: 0.9609375\n",
            "Iteration: 1000/1373 | train_loss: 0.2787666916847229 | train_acc: 0.90625\n",
            "Iteration: 1100/1373 | train_loss: 0.24445201456546783 | train_acc: 0.9453125\n",
            "Iteration: 1200/1373 | train_loss: 0.23410528898239136 | train_acc: 0.90625\n",
            "Iteration: 1300/1373 | train_loss: 0.2284177541732788 | train_acc: 0.9296875\n",
            "Epoch    30: reducing learning rate of group 0 to 4.8828e-08.\n",
            "Epoch: 29 | train_loss 0.22365632966238108 | train_acc: 0.9258058071136475 | val_loss: 0.7650727710300276 | val_acc: 0.6759364008903503\n"
          ]
        }
      ]
    },
    {
      "cell_type": "code",
      "metadata": {
        "id": "x9_ZITbCybTq",
        "colab": {
          "base_uri": "https://localhost:8080/"
        },
        "outputId": "eb503240-908b-4f32-f58c-f2ff201e1b98"
      },
      "source": [
        "np.array([train_dataset.y[0]])"
      ],
      "execution_count": null,
      "outputs": [
        {
          "output_type": "execute_result",
          "data": {
            "text/plain": [
              "array([0])"
            ]
          },
          "metadata": {},
          "execution_count": 66
        }
      ]
    },
    {
      "cell_type": "code",
      "metadata": {
        "id": "X7g8J7WadLvm"
      },
      "source": [
        "best_model = OneDConvNet(6, 4)\n",
        "best_model.load_state_dict(torch.load(os.path.join(base_path, \"experiments\", \"models\", \"checkpoint_instance_norm_dropout_sgd_lr3.pth\")))\n",
        "best_model = best_model.to(device)"
      ],
      "execution_count": null,
      "outputs": []
    },
    {
      "cell_type": "code",
      "metadata": {
        "id": "pK-nLeloml-n"
      },
      "source": [
        "from sklearn.metrics import accuracy_score, precision_score, recall_score, f1_score\n",
        "\n",
        "class Evaluation:\n",
        "\n",
        "  def __init__(self):\n",
        "        pass\n",
        "  \n",
        "  def aggregate_metrics(self, y, y_hat):\n",
        "    \n",
        "    \"\"\" Metrics for entire set \n",
        "        \n",
        "        Arguments passed are: \n",
        "                      y     : ground truth  \n",
        "                      y_hat : predicted class\n",
        "        Calculations:\n",
        "                  accuracy  : (tp + tn) / (total samples =(p + n))\n",
        "                  precision : tp / (tp + fp)\n",
        "                  recall    : tp / (tp + fn)\n",
        "                  f1        : 2 tp / (2 tp + fp + fn)\n",
        "    \"\"\"\n",
        "    accuracy  = accuracy_score(y, y_hat)\n",
        "    precision = precision_score(y, y_hat, average=\"macro\")\n",
        "    recall    = recall_score(y, y_hat, average=\"macro\")\n",
        "    f1        = f1_score(y, y_hat, average=\"macro\")\n",
        "    return {\n",
        "        \"Accuracy\": accuracy,\n",
        "        \"Precision\": precision,\n",
        "        \"Recall\": recall,\n",
        "        \"F1\": f1\n",
        "        }\n",
        "\n",
        "  def classwise_metrics(self, y, y_hat):\n",
        "\n",
        "    \"\"\" Metrics for each class. \n",
        "        Average is set to macro for calculating the score of each label, and find their unweighted mean. \n",
        "        This does not take label imbalance into account.\n",
        "        \n",
        "        Arguments passed are: \n",
        "                      y     : ground truth  \n",
        "                      y_hat : predicted class\n",
        "        Calculations:\n",
        "                  accuracy  : (tp + tn) / (total samples =(p + n))\n",
        "                  precision : tp / (tp + fp)\n",
        "                  recall    : tp / (tp + fn)\n",
        "                  f1        : 2 tp / (2 tp + fp + fn)\n",
        "    \"\"\"\n",
        "    \n",
        "    class_precision = precision_score(y, y_hat, average=None)\n",
        "    class_recall    = recall_score(y, y_hat, average=None)\n",
        "    class_f1        = f1_score(y, y_hat, average=None)\n",
        "    \n",
        "    return {\n",
        "        \"Precision\": class_precision,\n",
        "        \"Recall\": class_recall,\n",
        "        \"F1\": class_f1\n",
        "    }"
      ],
      "execution_count": null,
      "outputs": []
    },
    {
      "cell_type": "code",
      "metadata": {
        "id": "MvN9WtxwznFw"
      },
      "source": [
        "evaluator = Evaluation()"
      ],
      "execution_count": null,
      "outputs": []
    },
    {
      "cell_type": "code",
      "metadata": {
        "id": "bYbdv_EDml8M",
        "colab": {
          "base_uri": "https://localhost:8080/"
        },
        "outputId": "8700c274-7d7c-44c6-8115-f88409cee8f3"
      },
      "source": [
        "val_dataset = SubjectDataset(\n",
        "    val_data_path, \n",
        "    split_ids[\"val\"]\n",
        ")\n",
        "val_dataloader = DataLoader(val_dataset, batch_size=batch_size, shuffle=False)\n",
        "val_iterations = (len(val_dataset) // batch_size) + ((len(val_dataset) % batch_size) != 0)"
      ],
      "execution_count": null,
      "outputs": [
        {
          "output_type": "stream",
          "name": "stdout",
          "text": [
            "Converting uid 001_08\n",
            "Converting uid 002_01\n",
            "Converting uid 001_01\n",
            "Converting uid 001_04\n"
          ]
        }
      ]
    },
    {
      "cell_type": "code",
      "metadata": {
        "id": "5qvZJ2dCxb-H"
      },
      "source": [
        "output = []\n",
        "labels = []\n",
        "for X, y in val_dataloader:\n",
        "    X = X.float().to(device)\n",
        "    X = (X - min) / (max - min)\n",
        "    \n",
        "    y = y.view(X.size(0)).to(device)\n",
        "\n",
        "    y_pred = best_model(X)\n",
        "    predicted_classes = torch.argmax(y_pred, dim=1).detach().cpu().numpy()\n",
        "    y_true = y.cpu().numpy()\n",
        "\n",
        "    output.append(predicted_classes)\n",
        "    labels.append(y_true)"
      ],
      "execution_count": null,
      "outputs": []
    },
    {
      "cell_type": "code",
      "metadata": {
        "id": "I8p4RTYs0CuR"
      },
      "source": [
        "_output = np.concatenate(output, axis=0)\n",
        "_labels = np.concatenate(labels, axis=0)"
      ],
      "execution_count": null,
      "outputs": []
    },
    {
      "cell_type": "code",
      "metadata": {
        "id": "EI4HBWhS0Gao",
        "colab": {
          "base_uri": "https://localhost:8080/"
        },
        "outputId": "26eb3224-87e9-49f3-d7fe-f339c581c62d"
      },
      "source": [
        "agg_metrics = evaluator.aggregate_metrics(_labels, _output)\n",
        "print(\"Agg metrics\")\n",
        "print(agg_metrics)\n",
        "classwise_metrics = evaluator.classwise_metrics(_labels, _output)\n",
        "print(\"Classwise Metrics\")\n",
        "print(classwise_metrics)"
      ],
      "execution_count": null,
      "outputs": [
        {
          "output_type": "stream",
          "name": "stdout",
          "text": [
            "Agg metrics\n",
            "{'Accuracy': 0.7503663989017308, 'Precision': 0.6595018521784346, 'Recall': 0.8364975727799223, 'F1': 0.7101835193338721}\n",
            "Classwise Metrics\n",
            "{'Precision': array([0.91494352, 0.69556244, 0.38879914, 0.63870231]), 'Recall': array([0.71427767, 0.91420821, 0.95219255, 0.76531187]), 'F1': array([0.80225292, 0.79003663, 0.55214607, 0.69629847])}\n"
          ]
        }
      ]
    },
    {
      "cell_type": "code",
      "metadata": {
        "id": "UosykPCA0GX_",
        "colab": {
          "base_uri": "https://localhost:8080/"
        },
        "outputId": "ecc6cf59-d31a-4f40-a8e4-59c93ca23e3f"
      },
      "source": [
        "test_data_path = os.path.join(base_data_path, \"test\")\n",
        "test_dataset = SubjectDataset(\n",
        "    test_data_path, \n",
        "    split_ids[\"test\"]\n",
        ")\n",
        "test_dataloader = DataLoader(test_dataset, batch_size=batch_size, shuffle=False)\n",
        "test_iterations = (len(test_dataset) // batch_size) + ((len(test_dataset) % batch_size) != 0)"
      ],
      "execution_count": null,
      "outputs": [
        {
          "output_type": "stream",
          "name": "stdout",
          "text": [
            "Converting uid 005_03\n",
            "Converting uid 006_01\n",
            "Converting uid 006_02\n",
            "Converting uid 006_03\n",
            "Converting uid 007_01\n",
            "Converting uid 007_02\n",
            "Converting uid 007_03\n",
            "Converting uid 007_04\n",
            "Converting uid 008_01\n"
          ]
        }
      ]
    },
    {
      "cell_type": "code",
      "metadata": {
        "id": "GV5m259v4D5L"
      },
      "source": [
        "output = []\n",
        "labels = []\n",
        "for X, y in test_dataloader:\n",
        "    X = X.float().to(device)\n",
        "    X = (X - min) / (max - min)\n",
        "    \n",
        "    y = y.view(X.size(0)).to(device)\n",
        "\n",
        "    y_pred = best_model(X)\n",
        "    predicted_classes = torch.argmax(y_pred, dim=1).detach().cpu().numpy()\n",
        "    y_true = y.cpu().numpy()\n",
        "\n",
        "    output.append(predicted_classes)\n",
        "    labels.append(y_true)"
      ],
      "execution_count": null,
      "outputs": []
    },
    {
      "cell_type": "code",
      "metadata": {
        "id": "cDB40FUf4TY8"
      },
      "source": [
        "_output = np.concatenate(output, axis=0)\n",
        "_labels = np.concatenate(labels, axis=0)"
      ],
      "execution_count": null,
      "outputs": []
    },
    {
      "cell_type": "code",
      "metadata": {
        "id": "GtmDpRBH4XDQ",
        "colab": {
          "base_uri": "https://localhost:8080/"
        },
        "outputId": "da2bd0b0-208f-4cb4-8f8e-bd9bbdf6db8b"
      },
      "source": [
        "agg_metrics = evaluator.aggregate_metrics(_labels, _output)\n",
        "print(\"Agg metrics\")\n",
        "print(agg_metrics)\n",
        "classwise_metrics = evaluator.classwise_metrics(_labels, _output)\n",
        "print(\"Classwise Metrics\")\n",
        "print(classwise_metrics)"
      ],
      "execution_count": null,
      "outputs": [
        {
          "output_type": "stream",
          "name": "stdout",
          "text": [
            "Agg metrics\n",
            "{'Accuracy': 0.7418464389026489, 'Precision': 0.6520935278260571, 'Recall': 0.8550313110634555, 'F1': 0.7146008685476107}\n",
            "Classwise Metrics\n",
            "{'Precision': array([0.95567302, 0.55637255, 0.69223934, 0.40408921]), 'Recall': array([0.7091453 , 0.94979079, 0.96730132, 0.79388783]), 'F1': array([0.81415614, 0.70170015, 0.80697514, 0.53557204])}\n"
          ]
        }
      ]
    },
    {
      "cell_type": "code",
      "metadata": {
        "id": "xMx7IIGjpyNZ",
        "colab": {
          "base_uri": "https://localhost:8080/"
        },
        "outputId": "72b001ad-deb1-4cb8-fc8d-12e0dddf70a4"
      },
      "source": [
        "path = os.path.join(base_path, \"experiments\", \"models\", \"checkpoint_instance_norm_dropout_sgd_lr3_long.pth\")\n",
        "print(f\"Saving model to {path}\")\n",
        "torch.save(model.state_dict(), path)"
      ],
      "execution_count": null,
      "outputs": [
        {
          "output_type": "stream",
          "name": "stdout",
          "text": [
            "Saving model to /content/drive/MyDrive/ProjC/Nov11_newModel/competition-project-2/experiments/models/checkpoint_instance_norm_dropout_sgd_lr3_long.pth\n"
          ]
        }
      ]
    },
    {
      "cell_type": "code",
      "metadata": {
        "id": "gZISb6yI1ewr"
      },
      "source": [
        ""
      ],
      "execution_count": null,
      "outputs": []
    }
  ]
}
