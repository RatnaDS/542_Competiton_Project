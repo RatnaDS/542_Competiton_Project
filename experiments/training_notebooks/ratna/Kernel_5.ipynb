{
  "nbformat": 4,
  "nbformat_minor": 0,
  "metadata": {
    "colab": {
      "name": "Kernel_5.ipynb",
      "provenance": [],
      "collapsed_sections": []
    },
    "kernelspec": {
      "display_name": "Python 3",
      "name": "python3"
    },
    "language_info": {
      "name": "python"
    }
  },
  "cells": [
    {
      "cell_type": "code",
      "metadata": {
        "id": "22ITlwg0FkeF",
        "colab": {
          "base_uri": "https://localhost:8080/"
        },
        "outputId": "c1092b74-db8d-4b52-ed33-5f10309ddb25"
      },
      "source": [
        "from google.colab import drive\n",
        "drive.mount('/content/drive')"
      ],
      "execution_count": null,
      "outputs": [
        {
          "output_type": "stream",
          "name": "stdout",
          "text": [
            "Mounted at /content/drive\n"
          ]
        }
      ]
    },
    {
      "cell_type": "code",
      "metadata": {
        "colab": {
          "base_uri": "https://localhost:8080/"
        },
        "id": "prIF1sjM-c3i",
        "outputId": "2cb56bfa-f2cb-4d92-c1be-cd8c47fe1a1b"
      },
      "source": [
        "!ls /content/drive/MyDrive/ProjC/Nov11_newModel/competition-project-2"
      ],
      "execution_count": null,
      "outputs": [
        {
          "output_type": "stream",
          "name": "stdout",
          "text": [
            " attempt-1.ipynb   experiments\t Plots.docx\t\t\t  test_data.zip\n",
            " data.zip\t   ml_utils\t'Ratna Copy of attempt-1.ipynb'\n"
          ]
        }
      ]
    },
    {
      "cell_type": "code",
      "metadata": {
        "id": "Ng-s1F7Z-xKL"
      },
      "source": [
        "!cp /content/drive/MyDrive/ProjC/Nov11_newModel/data.zip ."
      ],
      "execution_count": null,
      "outputs": []
    },
    {
      "cell_type": "code",
      "metadata": {
        "id": "8wUZq7ty_AZO",
        "colab": {
          "base_uri": "https://localhost:8080/"
        },
        "outputId": "e5ffee9f-ec14-42c1-a5c3-9ffd6516263c"
      },
      "source": [
        "!unzip data.zip"
      ],
      "execution_count": null,
      "outputs": [
        {
          "output_type": "stream",
          "name": "stdout",
          "text": [
            "Archive:  data.zip\n",
            "   creating: data/\n",
            "  inflating: __MACOSX/._data         \n",
            "   creating: data/preprocessed_data/\n",
            "  inflating: data/.DS_Store          \n",
            "  inflating: __MACOSX/data/._.DS_Store  \n",
            "  inflating: data/.gitignore         \n",
            "  inflating: __MACOSX/data/._.gitignore  \n",
            "   creating: data/splits/\n",
            "   creating: data/splits/test/\n",
            "   creating: data/splits/train/\n",
            "   creating: data/splits/val/\n",
            "  inflating: data/splits/test/subject_007_session_04__y.csv  \n",
            "  inflating: data/splits/test/subject_007_session_04__x.csv  \n",
            "  inflating: data/splits/test/subject_007_session_02__x.csv  \n",
            "  inflating: data/splits/test/subject_007_session_02__y.csv  \n",
            "  inflating: data/splits/test/subject_008_session_01__y.csv  \n",
            "  inflating: data/splits/test/subject_006_session_02__x.csv  \n",
            "  inflating: data/splits/test/subject_006_session_02__y.csv  \n",
            "  inflating: data/splits/test/subject_008_session_01__x.csv  \n",
            "  inflating: data/splits/test/subject_005_session_03__y.csv  \n",
            "  inflating: data/splits/test/subject_005_session_03__x.csv  \n",
            "  inflating: data/splits/test/subject_006_session_01__y.csv  \n",
            "  inflating: data/splits/test/subject_006_session_01__x.csv  \n",
            "  inflating: data/splits/test/subject_007_session_03__y.csv  \n",
            "  inflating: data/splits/test/subject_007_session_03__x.csv  \n",
            "  inflating: data/splits/test/subject_007_session_01__y.csv  \n",
            "  inflating: data/splits/test/subject_007_session_01__x.csv  \n",
            "  inflating: data/splits/test/subject_006_session_03__y.csv  \n",
            "  inflating: data/splits/test/subject_006_session_03__x.csv  \n",
            "  inflating: data/splits/train/subject_002_session_04__y.csv  \n",
            "  inflating: data/splits/train/subject_005_session_02__x.csv  \n",
            "  inflating: data/splits/train/subject_005_session_02__y.csv  \n",
            "  inflating: data/splits/train/subject_002_session_04__x.csv  \n",
            "  inflating: data/splits/train/subject_004_session_02__x.csv  \n",
            "  inflating: data/splits/train/subject_004_session_02__y.csv  \n",
            "  inflating: data/splits/train/subject_001_session_02__x.csv  \n",
            "  inflating: data/splits/train/subject_001_session_02__y.csv  \n",
            "  inflating: data/splits/train/subject_001_session_06__y.csv  \n",
            "  inflating: data/splits/train/subject_002_session_02__x.csv  \n",
            "  inflating: data/splits/train/subject_002_session_02__y.csv  \n",
            "  inflating: data/splits/train/subject_001_session_06__x.csv  \n",
            "  inflating: data/splits/train/subject_003_session_02__x.csv  \n",
            "  inflating: data/splits/train/subject_003_session_02__y.csv  \n",
            "  inflating: data/splits/train/subject_004_session_01__y.csv  \n",
            "  inflating: data/splits/train/subject_004_session_01__x.csv  \n",
            "  inflating: data/splits/train/subject_002_session_05__x.csv  \n",
            "  inflating: data/splits/train/subject_002_session_05__y.csv  \n",
            "  inflating: data/splits/train/subject_001_session_03__y.csv  \n",
            "  inflating: data/splits/train/subject_005_session_01__y.csv  \n",
            "  inflating: data/splits/train/subject_005_session_01__x.csv  \n",
            "  inflating: data/splits/train/subject_001_session_03__x.csv  \n",
            "  inflating: data/splits/train/subject_001_session_07__x.csv  \n",
            "  inflating: data/splits/train/subject_002_session_03__y.csv  \n",
            "  inflating: data/splits/train/subject_002_session_03__x.csv  \n",
            "  inflating: data/splits/train/subject_001_session_07__y.csv  \n",
            "  inflating: data/splits/train/subject_003_session_01__y.csv  \n",
            "  inflating: data/splits/train/subject_003_session_01__x.csv  \n",
            "  inflating: data/splits/train/subject_003_session_03__y.csv  \n",
            "  inflating: data/splits/train/subject_003_session_03__x.csv  \n",
            "  inflating: data/splits/train/subject_001_session_05__x.csv  \n",
            "  inflating: data/splits/train/subject_001_session_05__y.csv  \n",
            "  inflating: data/splits/val/subject_001_session_04__y.csv  \n",
            "  inflating: data/splits/val/subject_001_session_08__y.csv  \n",
            "  inflating: data/splits/val/subject_001_session_08__x.csv  \n",
            "  inflating: data/splits/val/subject_001_session_04__x.csv  \n",
            "  inflating: data/splits/val/subject_001_session_01__y.csv  \n",
            "  inflating: data/splits/val/subject_001_session_01__x.csv  \n",
            "  inflating: data/splits/val/subject_002_session_01__y.csv  \n",
            "  inflating: data/splits/val/subject_002_session_01__x.csv  \n"
          ]
        }
      ]
    },
    {
      "cell_type": "code",
      "metadata": {
        "id": "1ZeuQxwE_NzP"
      },
      "source": [
        "!rm data.zip"
      ],
      "execution_count": null,
      "outputs": []
    },
    {
      "cell_type": "markdown",
      "metadata": {
        "id": "6uc9PDcigm0u"
      },
      "source": [
        "### Replace [YOUR_ACCESS_TOKEN] with your GitHub access token (remove the brackets)"
      ]
    },
    {
      "cell_type": "code",
      "metadata": {
        "id": "sjjVhlkupOBO",
        "colab": {
          "base_uri": "https://localhost:8080/"
        },
        "outputId": "a459c16d-58c9-4543-9c82-50b9c354d657"
      },
      "source": [
        "!git clone https://savadikarc:<ACCESSTOKEN>@github.com/savadikarc/ece542-competition-project.git"
      ],
      "execution_count": null,
      "outputs": [
        {
          "output_type": "stream",
          "name": "stdout",
          "text": [
            "Cloning into 'ece542-competition-project'...\n",
            "remote: Enumerating objects: 259, done.\u001b[K\n",
            "remote: Counting objects: 100% (259/259), done.\u001b[K\n",
            "remote: Compressing objects: 100% (177/177), done.\u001b[K\n",
            "remote: Total 259 (delta 142), reused 176 (delta 72), pack-reused 0\u001b[K\n",
            "Receiving objects: 100% (259/259), 279.86 KiB | 2.45 MiB/s, done.\n",
            "Resolving deltas: 100% (142/142), done.\n"
          ]
        }
      ]
    },
    {
      "cell_type": "code",
      "metadata": {
        "id": "Y8yURtFRqGkj",
        "colab": {
          "base_uri": "https://localhost:8080/"
        },
        "outputId": "5358c72e-3e17-4dc8-f697-aa2581084975"
      },
      "source": [
        "!cd ece542-competition-project && git checkout phase-1 && git pull origin phase-1"
      ],
      "execution_count": null,
      "outputs": [
        {
          "output_type": "stream",
          "name": "stdout",
          "text": [
            "Already on 'phase-1'\n",
            "Your branch is up to date with 'origin/phase-1'.\n",
            "From https://github.com/savadikarc/ece542-competition-project\n",
            " * branch            phase-1    -> FETCH_HEAD\n",
            "Already up to date.\n"
          ]
        }
      ]
    },
    {
      "cell_type": "code",
      "metadata": {
        "id": "DJlBSAfPnuG_"
      },
      "source": [
        "base_path = \"/content/drive/MyDrive/ProjC/Nov11_newModel/competition-project-2\""
      ],
      "execution_count": null,
      "outputs": []
    },
    {
      "cell_type": "code",
      "metadata": {
        "id": "8kUcwing_Qkz"
      },
      "source": [
        "import os\n",
        "import sys\n",
        "sys.path.append(\"ece542-competition-project\")"
      ],
      "execution_count": null,
      "outputs": []
    },
    {
      "cell_type": "code",
      "metadata": {
        "id": "_JxS3qkHmmRB"
      },
      "source": [
        "import json\n",
        "from collections import Counter\n",
        "import torch\n",
        "import torch.nn as nn\n",
        "import torch.nn.functional as F\n",
        "from torch import optim\n",
        "from torch.optim.lr_scheduler import ReduceLROnPlateau\n",
        "from torch.utils.data import DataLoader\n",
        "from torch.utils.data.sampler import WeightedRandomSampler\n",
        "import numpy as np\n",
        "from ml_utils.dataset import SubjectDataset"
      ],
      "execution_count": null,
      "outputs": []
    },
    {
      "cell_type": "code",
      "metadata": {
        "id": "LJCQfTElnJJm",
        "colab": {
          "base_uri": "https://localhost:8080/"
        },
        "outputId": "c4ee1921-3a87-4b14-986d-5c454679ef3e"
      },
      "source": [
        "device = torch.device(\"cuda:0\" if torch.cuda.is_available() else \"cpu\")\n",
        "print(f\"Device: {device}\")"
      ],
      "execution_count": null,
      "outputs": [
        {
          "output_type": "stream",
          "name": "stdout",
          "text": [
            "Device: cpu\n"
          ]
        }
      ]
    },
    {
      "cell_type": "code",
      "metadata": {
        "id": "5mKgxfP1mmMg"
      },
      "source": [
        "base_data_path = os.path.join(\"data\", \"splits\")\n",
        "train_data_path = os.path.join(base_data_path, \"train\")\n",
        "val_data_path = os.path.join(base_data_path, \"val\")\n",
        "\n",
        "splits_file = os.path.join(base_path, \"experiments\", \"metadata\", \"split_ids.json\")\n",
        "with open(splits_file, \"r\") as f:\n",
        "    split_ids = json.load(f)"
      ],
      "execution_count": null,
      "outputs": []
    },
    {
      "cell_type": "code",
      "metadata": {
        "id": "kuihFDGQbTBm"
      },
      "source": [
        "stats_path = os.path.join(base_path, \"experiments\", \"metadata\", \"statistics.json\")\n",
        "with open(stats_path, \"r\") as f:\n",
        "    stats = json.load(f)"
      ],
      "execution_count": null,
      "outputs": []
    },
    {
      "cell_type": "code",
      "metadata": {
        "id": "mzQdu4exbfOl"
      },
      "source": [
        "min = np.array([v[\"min\"] for k, v in stats.items()])\n",
        "max = np.array([v[\"max\"] for k, v in stats.items()])\n",
        "\n",
        "min = torch.from_numpy(min).float()\n",
        "min = torch.unsqueeze((torch.unsqueeze(min, 0)), -1)\n",
        "min = min.to(device)\n",
        "max = torch.from_numpy(max).float().to(device)\n",
        "max = torch.unsqueeze((torch.unsqueeze(max, 0)), -1)\n",
        "max = max.to(device)"
      ],
      "execution_count": null,
      "outputs": []
    },
    {
      "cell_type": "code",
      "metadata": {
        "id": "XJXYMQrWb-zN",
        "colab": {
          "base_uri": "https://localhost:8080/"
        },
        "outputId": "84bb50b4-51e9-4e43-b8d9-f590fab4a047"
      },
      "source": [
        "min.shape"
      ],
      "execution_count": null,
      "outputs": [
        {
          "output_type": "execute_result",
          "data": {
            "text/plain": [
              "torch.Size([1, 6, 1])"
            ]
          },
          "metadata": {},
          "execution_count": 15
        }
      ]
    },
    {
      "cell_type": "code",
      "metadata": {
        "id": "n5RT6OvirVrA"
      },
      "source": [
        "# Training hyperparameters\n",
        "batch_size = 128\n",
        "num_epochs = 30"
      ],
      "execution_count": null,
      "outputs": []
    },
    {
      "cell_type": "code",
      "metadata": {
        "id": "jy47cYBEmmKS",
        "colab": {
          "base_uri": "https://localhost:8080/"
        },
        "outputId": "54be37f3-1707-4d49-884d-1ff1fd3a6a99"
      },
      "source": [
        "train_dataset = SubjectDataset(\n",
        "    train_data_path, \n",
        "    split_ids[\"train\"]\n",
        ")\n",
        "ys = train_dataset.y.tolist()\n",
        "counts = Counter(ys)\n",
        "weights = np.array([1./counts[_y] for _y in ys])\n",
        "sample_weights = torch.from_numpy(weights).float()\n",
        "sampler = WeightedRandomSampler(\n",
        "    weights=sample_weights,\n",
        "    num_samples=len(sample_weights),\n",
        "    replacement=True)\n",
        "train_dataloader = DataLoader(train_dataset, batch_size=batch_size, sampler=sampler)\n",
        "train_iterations = (len(train_dataset) // batch_size) + ((len(train_dataset) % batch_size) != 0)\n",
        "\n",
        "val_dataset = SubjectDataset(\n",
        "    val_data_path, \n",
        "    split_ids[\"val\"]\n",
        ")\n",
        "val_dataloader = DataLoader(val_dataset, batch_size=batch_size, shuffle=True)\n",
        "val_iterations = (len(val_dataset) // batch_size) + ((len(val_dataset) % batch_size) != 0)"
      ],
      "execution_count": null,
      "outputs": [
        {
          "output_type": "stream",
          "name": "stdout",
          "text": [
            "Converting uid 005_02\n",
            "Converting uid 001_06\n",
            "Converting uid 003_02\n",
            "Converting uid 001_05\n",
            "Converting uid 002_02\n",
            "Converting uid 003_01\n",
            "Converting uid 003_03\n",
            "Converting uid 005_01\n",
            "Converting uid 001_07\n",
            "Converting uid 002_05\n",
            "Converting uid 004_02\n",
            "Converting uid 002_03\n",
            "Converting uid 001_02\n",
            "Converting uid 002_04\n",
            "Converting uid 001_03\n",
            "Converting uid 004_01\n",
            "Converting uid 001_08\n",
            "Converting uid 002_01\n",
            "Converting uid 001_01\n",
            "Converting uid 001_04\n"
          ]
        }
      ]
    },
    {
      "cell_type": "code",
      "metadata": {
        "id": "L4JQ2YWz6JeB",
        "colab": {
          "base_uri": "https://localhost:8080/"
        },
        "outputId": "2d3e18e7-dc53-40e6-b336-22a30af5d362"
      },
      "source": [
        "print(train_iterations)\n",
        "print(val_iterations)"
      ],
      "execution_count": null,
      "outputs": [
        {
          "output_type": "stream",
          "name": "stdout",
          "text": [
            "1373\n",
            "422\n"
          ]
        }
      ]
    },
    {
      "cell_type": "code",
      "metadata": {
        "id": "7UxWDOBmmmOv"
      },
      "source": [
        "class OneDConvNet(nn.Module):\n",
        "  def __init__(self, n_features, n_classes, base_filters=32):\n",
        "    super(OneDConvNet, self).__init__()\n",
        "\n",
        "    self.conv1 = nn.Conv1d(in_channels=n_features, out_channels=base_filters, kernel_size=5, stride=1, padding=1)\n",
        "    self.norm1 = nn.LayerNorm(base_filters*118)\n",
        "    self.pool1 = nn.AvgPool1d(kernel_size=2, stride=2)\n",
        "    self.conv2 = nn.Conv1d(in_channels=base_filters, out_channels=base_filters*2, kernel_size=5, stride=1, padding=1)\n",
        "    self.norm2 = nn.LayerNorm(base_filters*2*57)\n",
        "    self.pool2 = nn.AvgPool1d(kernel_size=2, stride=2)\n",
        "    self.conv3 = nn.Conv1d(in_channels=base_filters*2, out_channels=base_filters*4, kernel_size=5, stride=1, padding=1)\n",
        "    self.norm3 = nn.LayerNorm(base_filters*4*26)\n",
        "    self.pool3 = nn.AvgPool1d(kernel_size=2, stride=2)\n",
        "    self.conv4 = nn.Conv1d(in_channels=base_filters*4, out_channels=base_filters*8, kernel_size=5, stride=1, padding=1)\n",
        "    self.norm4 = nn.LayerNorm(base_filters*8*11)\n",
        "    self.fc1 = nn.Linear(base_filters*8, base_filters*16)\n",
        "    self.dropout5 = nn.Dropout(0.4)\n",
        "    self.fc2 = nn.Linear(base_filters*16, n_classes)\n",
        "  \n",
        "  def forward(self, x):\n",
        "    x = self.conv1(x)\n",
        "    N, C, T = x.shape\n",
        "    x = x.view(N, C*T)\n",
        "    x = self.norm1(x)\n",
        "    x = x.view(N, C, T)\n",
        "    x = self.pool1(F.relu(x))\n",
        "\n",
        "    x = self.conv2(x)\n",
        "    N, C, T = x.shape\n",
        "    x = x.view(N, C*T)\n",
        "    x = self.norm2(x)\n",
        "    x = x.view(N, C, T)\n",
        "    x = self.pool2(F.relu(x))\n",
        "\n",
        "    x = self.conv3(x)\n",
        "    N, C, T = x.shape\n",
        "    x = x.view(N, C*T)\n",
        "    x = self.norm3(x)\n",
        "    x = x.view(N, C, T)\n",
        "    x = self.pool3(F.relu(x))\n",
        "\n",
        "    x = self.conv4(x)\n",
        "    N, C, T = x.shape\n",
        "    x = x.view(N, C*T)\n",
        "    x = self.norm4(x)\n",
        "    x = x.view(N, C, T)\n",
        "    x = F.relu(x)\n",
        "\n",
        "    N, C, T = x.size()\n",
        "    x = x.mean(dim=-1) # Flatten\n",
        "    x = self.dropout5(F.relu(self.fc1(x)))\n",
        "    x = self.fc2(x)\n",
        "    return x\n",
        "\n",
        "model = OneDConvNet(6, 4).to(device)"
      ],
      "execution_count": null,
      "outputs": []
    },
    {
      "cell_type": "code",
      "metadata": {
        "id": "_7npRJhHxdC1"
      },
      "source": [
        "# import numpy as np\n",
        "# X = np.random.randn(1, 6, 40)\n",
        "# T = torch.from_numpy(X).float().to(device)\n",
        "# y = model(T)"
      ],
      "execution_count": null,
      "outputs": []
    },
    {
      "cell_type": "code",
      "metadata": {
        "id": "sksNpnMfyLOP"
      },
      "source": [
        "# y.shape"
      ],
      "execution_count": null,
      "outputs": []
    },
    {
      "cell_type": "code",
      "metadata": {
        "id": "JSfdHJ4Ry4AG"
      },
      "source": [
        "optimizer = optim.SGD(model.parameters(), lr=1e-3, momentum=0.9)\n",
        "# optimizer = optim.Adam(model.parameters(), lr=0.001)\n",
        "# optimizer = optim.RMSprop(model.parameters(), lr=1e-3)\n",
        "scheduler = ReduceLROnPlateau(optimizer, factor=0.5, patience=1, verbose=True)\n",
        "criterion = nn.CrossEntropyLoss()"
      ],
      "execution_count": null,
      "outputs": []
    },
    {
      "cell_type": "code",
      "metadata": {
        "id": "V6FBCiBQmmH2"
      },
      "source": [
        "def train_step(X, y, model, optimizer, criterion):\n",
        "\n",
        "    y_pred = model(X)\n",
        "    predicted_classes = torch.argmax(y_pred.detach(), dim=1)\n",
        "\n",
        "    loss = criterion(y_pred, y)\n",
        "    optimizer.zero_grad()\n",
        "    loss.backward()\n",
        "    optimizer.step()\n",
        "\n",
        "    corrects = torch.sum(y.data == predicted_classes)\n",
        "\n",
        "    return loss.item(), corrects\n",
        "\n",
        "def val_step(X, y, model, criterion):\n",
        "\n",
        "    with torch.no_grad():\n",
        "        \n",
        "        y_pred = model(X)\n",
        "        predicted_classes = torch.argmax(y_pred.detach(), dim=1)\n",
        "        loss = criterion(y_pred, y)\n",
        "        corrects = torch.sum(y.data == predicted_classes)\n",
        "\n",
        "    return loss.item(), corrects, predicted_classes.detach().cpu().numpy()"
      ],
      "execution_count": null,
      "outputs": []
    },
    {
      "cell_type": "code",
      "metadata": {
        "id": "T2K4z1p8mmCQ",
        "colab": {
          "base_uri": "https://localhost:8080/"
        },
        "outputId": "4e35cf61-0e20-4c2b-9240-bb635bf737ab"
      },
      "source": [
        "best_val_loss = float(\"inf\")\n",
        "\n",
        "for epoch in range(num_epochs):\n",
        "    # Train for \"n\" number of iterations\n",
        "    running_loss = 0.\n",
        "    running_acc = 0.\n",
        "    for iteration, (X, y) in enumerate(train_dataloader):\n",
        "\n",
        "        X = X.float().to(device)\n",
        "        # Normalize\n",
        "        X = (X - min) / (max - min)\n",
        "\n",
        "        y = y.view(X.size(0)).to(device)\n",
        "\n",
        "        loss, corrects = train_step(X, y, model, optimizer, criterion)\n",
        "\n",
        "        # Running metrics\n",
        "        running_loss = running_loss + loss * X.size(0)\n",
        "        running_acc = running_acc + corrects\n",
        "\n",
        "        if iteration % 100 == 0:\n",
        "            print(f\"Iteration: {iteration}/{train_iterations} | train_loss: {loss} | train_acc: {corrects/X.size(0)}\")\n",
        "\n",
        "    train_loss = running_loss / len(train_dataset)\n",
        "    train_acc = running_acc / len(train_dataset)\n",
        "\n",
        "    # Validate\n",
        "    running_val_loss = 0.\n",
        "    running_val_acc = 0.\n",
        "    for step, (X, y) in enumerate(val_dataloader):\n",
        "\n",
        "        X = X.float().to(device)\n",
        "        X = (X - min) / (max - min)\n",
        "\n",
        "        y = y.view(X.size(0)).to(device)\n",
        "\n",
        "        loss, corrects, predicted_classes = val_step(X, y, model, criterion)\n",
        "        # Running metrics\n",
        "        running_val_loss = running_val_loss + loss * X.size(0)\n",
        "        running_val_acc = running_val_acc + corrects\n",
        "\n",
        "    val_loss = running_val_loss / len(val_dataset)\n",
        "    val_acc = running_val_acc / len(val_dataset)\n",
        "\n",
        "    scheduler.step(val_loss)\n",
        "\n",
        "    if val_loss < best_val_loss:\n",
        "        # Checkpoint model\n",
        "        path = os.path.join(base_path, \"experiments\", \"models\", \"checkpoint_instance_norm_dropout_sgd_lr3.pth\")\n",
        "        print(f\"Saving model to {path}\")\n",
        "        torch.save(model.state_dict(), path)\n",
        "        best_val_loss = val_loss\n",
        "\n",
        "    print(f\"Epoch: {epoch} | train_loss {train_loss} | train_acc: {train_acc} | val_loss: {val_loss} | val_acc: {val_acc}\")"
      ],
      "execution_count": null,
      "outputs": [
        {
          "output_type": "stream",
          "name": "stdout",
          "text": [
            "Iteration: 0/1373 | train_loss: 1.415602684020996 | train_acc: 0.2265625\n",
            "Iteration: 100/1373 | train_loss: 1.3832768201828003 | train_acc: 0.3515625\n",
            "Iteration: 200/1373 | train_loss: 1.3525331020355225 | train_acc: 0.359375\n",
            "Iteration: 300/1373 | train_loss: 1.408145546913147 | train_acc: 0.234375\n",
            "Iteration: 400/1373 | train_loss: 1.3620892763137817 | train_acc: 0.3125\n",
            "Iteration: 500/1373 | train_loss: 1.217760443687439 | train_acc: 0.3828125\n",
            "Iteration: 600/1373 | train_loss: 0.7912154197692871 | train_acc: 0.7109375\n",
            "Iteration: 700/1373 | train_loss: 0.633650004863739 | train_acc: 0.7109375\n",
            "Iteration: 800/1373 | train_loss: 0.37608540058135986 | train_acc: 0.7890625\n",
            "Iteration: 900/1373 | train_loss: 0.32395899295806885 | train_acc: 0.875\n",
            "Iteration: 1000/1373 | train_loss: 0.3931499421596527 | train_acc: 0.7890625\n",
            "Iteration: 1100/1373 | train_loss: 0.33720874786376953 | train_acc: 0.8671875\n",
            "Iteration: 1200/1373 | train_loss: 0.33655256032943726 | train_acc: 0.859375\n",
            "Iteration: 1300/1373 | train_loss: 0.3139798045158386 | train_acc: 0.859375\n",
            "Saving model to /content/drive/MyDrive/ProjC/Nov11_newModel/competition-project-2/experiments/models/checkpoint_instance_norm_dropout_sgd_lr3.pth\n",
            "Epoch: 0 | train_loss 0.7688315030732442 | train_acc: 0.6307873725891113 | val_loss: 0.7387607994542778 | val_acc: 0.6827820539474487\n",
            "Iteration: 0/1373 | train_loss: 0.2243337631225586 | train_acc: 0.9375\n",
            "Iteration: 100/1373 | train_loss: 0.1486237496137619 | train_acc: 0.9453125\n",
            "Iteration: 200/1373 | train_loss: 0.19644425809383392 | train_acc: 0.9296875\n",
            "Iteration: 300/1373 | train_loss: 0.16446103155612946 | train_acc: 0.9375\n",
            "Iteration: 400/1373 | train_loss: 0.38601645827293396 | train_acc: 0.8046875\n",
            "Iteration: 500/1373 | train_loss: 0.2117365002632141 | train_acc: 0.9375\n",
            "Iteration: 600/1373 | train_loss: 0.16097989678382874 | train_acc: 0.9375\n",
            "Iteration: 700/1373 | train_loss: 0.10212266445159912 | train_acc: 0.9609375\n",
            "Iteration: 800/1373 | train_loss: 0.25865957140922546 | train_acc: 0.890625\n",
            "Iteration: 900/1373 | train_loss: 0.2529233396053314 | train_acc: 0.8984375\n",
            "Iteration: 1000/1373 | train_loss: 0.11505800485610962 | train_acc: 0.953125\n",
            "Iteration: 1100/1373 | train_loss: 0.2082005888223648 | train_acc: 0.9375\n",
            "Iteration: 1200/1373 | train_loss: 0.10420511662960052 | train_acc: 0.9609375\n",
            "Iteration: 1300/1373 | train_loss: 0.1179201602935791 | train_acc: 0.953125\n",
            "Saving model to /content/drive/MyDrive/ProjC/Nov11_newModel/competition-project-2/experiments/models/checkpoint_instance_norm_dropout_sgd_lr3.pth\n",
            "Epoch: 1 | train_loss 0.19301919983995858 | train_acc: 0.9270349740982056 | val_loss: 0.721053518680682 | val_acc: 0.7517948746681213\n",
            "Iteration: 0/1373 | train_loss: 0.12063326686620712 | train_acc: 0.9609375\n",
            "Iteration: 100/1373 | train_loss: 0.12473384290933609 | train_acc: 0.96875\n",
            "Iteration: 200/1373 | train_loss: 0.15319940447807312 | train_acc: 0.9609375\n",
            "Iteration: 300/1373 | train_loss: 0.13392974436283112 | train_acc: 0.953125\n",
            "Iteration: 400/1373 | train_loss: 0.17642821371555328 | train_acc: 0.9375\n",
            "Iteration: 500/1373 | train_loss: 0.1673140674829483 | train_acc: 0.953125\n",
            "Iteration: 600/1373 | train_loss: 0.07881136983633041 | train_acc: 0.96875\n",
            "Iteration: 700/1373 | train_loss: 0.0763661339879036 | train_acc: 0.9921875\n",
            "Iteration: 800/1373 | train_loss: 0.269891619682312 | train_acc: 0.9140625\n",
            "Iteration: 900/1373 | train_loss: 0.10222721844911575 | train_acc: 0.953125\n",
            "Iteration: 1000/1373 | train_loss: 0.149692565202713 | train_acc: 0.9453125\n",
            "Iteration: 1100/1373 | train_loss: 0.09926768392324448 | train_acc: 0.9609375\n",
            "Iteration: 1200/1373 | train_loss: 0.09122466295957565 | train_acc: 0.9609375\n",
            "Iteration: 1300/1373 | train_loss: 0.05241502821445465 | train_acc: 0.9921875\n",
            "Saving model to /content/drive/MyDrive/ProjC/Nov11_newModel/competition-project-2/experiments/models/checkpoint_instance_norm_dropout_sgd_lr3.pth\n",
            "Epoch: 2 | train_loss 0.13556653872535254 | train_acc: 0.9514932036399841 | val_loss: 0.5753743086120312 | val_acc: 0.7809769511222839\n",
            "Iteration: 0/1373 | train_loss: 0.12270302325487137 | train_acc: 0.953125\n",
            "Iteration: 100/1373 | train_loss: 0.06802727282047272 | train_acc: 0.96875\n",
            "Iteration: 200/1373 | train_loss: 0.06932485103607178 | train_acc: 0.984375\n",
            "Iteration: 300/1373 | train_loss: 0.10021670907735825 | train_acc: 0.96875\n",
            "Iteration: 400/1373 | train_loss: 0.10431984812021255 | train_acc: 0.953125\n",
            "Iteration: 500/1373 | train_loss: 0.10101785510778427 | train_acc: 0.96875\n",
            "Iteration: 600/1373 | train_loss: 0.19398640096187592 | train_acc: 0.9296875\n",
            "Iteration: 700/1373 | train_loss: 0.13621850311756134 | train_acc: 0.9453125\n",
            "Iteration: 800/1373 | train_loss: 0.15940111875534058 | train_acc: 0.9453125\n",
            "Iteration: 900/1373 | train_loss: 0.11035146564245224 | train_acc: 0.9609375\n",
            "Iteration: 1000/1373 | train_loss: 0.10633059591054916 | train_acc: 0.9765625\n",
            "Iteration: 1100/1373 | train_loss: 0.10503826290369034 | train_acc: 0.96875\n",
            "Iteration: 1200/1373 | train_loss: 0.10397308319807053 | train_acc: 0.9375\n",
            "Iteration: 1300/1373 | train_loss: 0.046899959444999695 | train_acc: 0.984375\n",
            "Epoch: 3 | train_loss 0.11183531271253226 | train_acc: 0.9608542919158936 | val_loss: 0.729899784465859 | val_acc: 0.7727028131484985\n",
            "Iteration: 0/1373 | train_loss: 0.06385630369186401 | train_acc: 0.96875\n",
            "Iteration: 100/1373 | train_loss: 0.14499570429325104 | train_acc: 0.953125\n",
            "Iteration: 200/1373 | train_loss: 0.09832686930894852 | train_acc: 0.9609375\n",
            "Iteration: 300/1373 | train_loss: 0.12789730727672577 | train_acc: 0.9609375\n",
            "Iteration: 400/1373 | train_loss: 0.01584736816585064 | train_acc: 1.0\n",
            "Iteration: 500/1373 | train_loss: 0.15576766431331635 | train_acc: 0.9296875\n",
            "Iteration: 600/1373 | train_loss: 0.10173945873975754 | train_acc: 0.9609375\n",
            "Iteration: 700/1373 | train_loss: 0.06017901748418808 | train_acc: 0.9765625\n",
            "Iteration: 800/1373 | train_loss: 0.13405168056488037 | train_acc: 0.9453125\n",
            "Iteration: 900/1373 | train_loss: 0.060788437724113464 | train_acc: 0.984375\n",
            "Iteration: 1000/1373 | train_loss: 0.11286316812038422 | train_acc: 0.9609375\n",
            "Iteration: 1100/1373 | train_loss: 0.027900485321879387 | train_acc: 1.0\n",
            "Iteration: 1200/1373 | train_loss: 0.1242615282535553 | train_acc: 0.953125\n",
            "Iteration: 1300/1373 | train_loss: 0.15801803767681122 | train_acc: 0.9375\n",
            "Epoch     5: reducing learning rate of group 0 to 5.0000e-04.\n",
            "Epoch: 4 | train_loss 0.09853507235047922 | train_acc: 0.9655888676643372 | val_loss: 0.9019772481969643 | val_acc: 0.7793072462081909\n",
            "Iteration: 0/1373 | train_loss: 0.09082019329071045 | train_acc: 0.96875\n",
            "Iteration: 100/1373 | train_loss: 0.08457228541374207 | train_acc: 0.96875\n",
            "Iteration: 200/1373 | train_loss: 0.13079726696014404 | train_acc: 0.96875\n",
            "Iteration: 300/1373 | train_loss: 0.07894162833690643 | train_acc: 0.96875\n",
            "Iteration: 400/1373 | train_loss: 0.07499447464942932 | train_acc: 0.9765625\n",
            "Iteration: 500/1373 | train_loss: 0.08087854087352753 | train_acc: 0.953125\n",
            "Iteration: 600/1373 | train_loss: 0.06844896823167801 | train_acc: 0.984375\n",
            "Iteration: 700/1373 | train_loss: 0.0673871636390686 | train_acc: 0.9765625\n",
            "Iteration: 800/1373 | train_loss: 0.05376796796917915 | train_acc: 0.984375\n",
            "Iteration: 900/1373 | train_loss: 0.03671474754810333 | train_acc: 0.984375\n",
            "Iteration: 1000/1373 | train_loss: 0.049169719219207764 | train_acc: 0.984375\n",
            "Iteration: 1100/1373 | train_loss: 0.042512405663728714 | train_acc: 0.984375\n",
            "Iteration: 1200/1373 | train_loss: 0.037501219660043716 | train_acc: 0.984375\n",
            "Iteration: 1300/1373 | train_loss: 0.06649595499038696 | train_acc: 0.9765625\n",
            "Epoch: 5 | train_loss 0.0742893892052986 | train_acc: 0.9747507572174072 | val_loss: 0.8775480185695462 | val_acc: 0.7888800501823425\n",
            "Iteration: 0/1373 | train_loss: 0.04240771755576134 | train_acc: 0.9921875\n",
            "Iteration: 100/1373 | train_loss: 0.038759082555770874 | train_acc: 0.984375\n",
            "Iteration: 200/1373 | train_loss: 0.03841634839773178 | train_acc: 0.9921875\n",
            "Iteration: 300/1373 | train_loss: 0.06473683565855026 | train_acc: 0.9765625\n",
            "Iteration: 400/1373 | train_loss: 0.05320790037512779 | train_acc: 0.9765625\n",
            "Iteration: 500/1373 | train_loss: 0.07012392580509186 | train_acc: 0.9765625\n",
            "Iteration: 600/1373 | train_loss: 0.12938208878040314 | train_acc: 0.953125\n",
            "Iteration: 700/1373 | train_loss: 0.06134554743766785 | train_acc: 0.96875\n",
            "Iteration: 800/1373 | train_loss: 0.04752662032842636 | train_acc: 0.984375\n",
            "Iteration: 900/1373 | train_loss: 0.059638965874910355 | train_acc: 0.9765625\n",
            "Iteration: 1000/1373 | train_loss: 0.12109788507223129 | train_acc: 0.9375\n",
            "Iteration: 1100/1373 | train_loss: 0.0827130526304245 | train_acc: 0.9765625\n",
            "Iteration: 1200/1373 | train_loss: 0.10418485105037689 | train_acc: 0.96875\n",
            "Iteration: 1300/1373 | train_loss: 0.06997323781251907 | train_acc: 0.9765625\n",
            "Epoch     7: reducing learning rate of group 0 to 2.5000e-04.\n",
            "Epoch: 6 | train_loss 0.0707035931891459 | train_acc: 0.976190447807312 | val_loss: 0.8319939694542735 | val_acc: 0.7839452624320984\n",
            "Iteration: 0/1373 | train_loss: 0.04020851477980614 | train_acc: 0.9921875\n",
            "Iteration: 100/1373 | train_loss: 0.05539447441697121 | train_acc: 0.9765625\n",
            "Iteration: 200/1373 | train_loss: 0.024891933426260948 | train_acc: 1.0\n",
            "Iteration: 300/1373 | train_loss: 0.04413088783621788 | train_acc: 0.9921875\n",
            "Iteration: 400/1373 | train_loss: 0.04178297519683838 | train_acc: 0.984375\n",
            "Iteration: 500/1373 | train_loss: 0.042279575020074844 | train_acc: 0.984375\n",
            "Iteration: 600/1373 | train_loss: 0.03995179757475853 | train_acc: 0.984375\n",
            "Iteration: 700/1373 | train_loss: 0.06847215443849564 | train_acc: 0.984375\n",
            "Iteration: 800/1373 | train_loss: 0.04720047861337662 | train_acc: 0.984375\n",
            "Iteration: 900/1373 | train_loss: 0.10317471623420715 | train_acc: 0.9609375\n",
            "Iteration: 1000/1373 | train_loss: 0.012568308040499687 | train_acc: 1.0\n",
            "Iteration: 1100/1373 | train_loss: 0.119481161236763 | train_acc: 0.9765625\n",
            "Iteration: 1200/1373 | train_loss: 0.08454776555299759 | train_acc: 0.984375\n",
            "Iteration: 1300/1373 | train_loss: 0.02865428477525711 | train_acc: 0.9921875\n",
            "Epoch: 7 | train_loss 0.06010085458281391 | train_acc: 0.9798040390014648 | val_loss: 0.8986840321731859 | val_acc: 0.7946125268936157\n",
            "Iteration: 0/1373 | train_loss: 0.04472196102142334 | train_acc: 0.984375\n",
            "Iteration: 100/1373 | train_loss: 0.049666762351989746 | train_acc: 0.984375\n",
            "Iteration: 200/1373 | train_loss: 0.05261131748557091 | train_acc: 0.96875\n",
            "Iteration: 300/1373 | train_loss: 0.07707041501998901 | train_acc: 0.9765625\n",
            "Iteration: 400/1373 | train_loss: 0.024657750502228737 | train_acc: 0.9921875\n",
            "Iteration: 500/1373 | train_loss: 0.032304130494594574 | train_acc: 1.0\n",
            "Iteration: 600/1373 | train_loss: 0.03597599267959595 | train_acc: 0.9921875\n",
            "Iteration: 700/1373 | train_loss: 0.04624304547905922 | train_acc: 0.984375\n",
            "Iteration: 800/1373 | train_loss: 0.07725140452384949 | train_acc: 0.96875\n",
            "Iteration: 900/1373 | train_loss: 0.04522261768579483 | train_acc: 0.9765625\n",
            "Iteration: 1000/1373 | train_loss: 0.0409717932343483 | train_acc: 0.9921875\n",
            "Iteration: 1100/1373 | train_loss: 0.06566200405359268 | train_acc: 0.96875\n",
            "Iteration: 1200/1373 | train_loss: 0.08492601662874222 | train_acc: 0.9765625\n",
            "Iteration: 1300/1373 | train_loss: 0.09347306936979294 | train_acc: 0.96875\n",
            "Epoch     9: reducing learning rate of group 0 to 1.2500e-04.\n",
            "Epoch: 8 | train_loss 0.05854564125240148 | train_acc: 0.9804584383964539 | val_loss: 0.8493248640273476 | val_acc: 0.7871546745300293\n",
            "Iteration: 0/1373 | train_loss: 0.037511926144361496 | train_acc: 0.9921875\n",
            "Iteration: 100/1373 | train_loss: 0.08462423086166382 | train_acc: 0.96875\n",
            "Iteration: 200/1373 | train_loss: 0.048970431089401245 | train_acc: 0.984375\n",
            "Iteration: 300/1373 | train_loss: 0.03552715480327606 | train_acc: 1.0\n",
            "Iteration: 400/1373 | train_loss: 0.03590836003422737 | train_acc: 0.984375\n",
            "Iteration: 500/1373 | train_loss: 0.11098632216453552 | train_acc: 0.96875\n",
            "Iteration: 600/1373 | train_loss: 0.05987401679158211 | train_acc: 0.96875\n",
            "Iteration: 700/1373 | train_loss: 0.03342358395457268 | train_acc: 0.9921875\n",
            "Iteration: 800/1373 | train_loss: 0.050129737704992294 | train_acc: 0.9765625\n",
            "Iteration: 900/1373 | train_loss: 0.06195870414376259 | train_acc: 0.984375\n",
            "Iteration: 1000/1373 | train_loss: 0.04819147288799286 | train_acc: 0.9765625\n",
            "Iteration: 1100/1373 | train_loss: 0.13855135440826416 | train_acc: 0.96875\n",
            "Iteration: 1200/1373 | train_loss: 0.040096819400787354 | train_acc: 0.9921875\n",
            "Iteration: 1300/1373 | train_loss: 0.01582866534590721 | train_acc: 1.0\n",
            "Epoch: 9 | train_loss 0.052580071027586286 | train_acc: 0.9827916026115417 | val_loss: 0.9135624440400195 | val_acc: 0.7995287775993347\n",
            "Iteration: 0/1373 | train_loss: 0.03938606008887291 | train_acc: 0.9765625\n",
            "Iteration: 100/1373 | train_loss: 0.04061926528811455 | train_acc: 0.9921875\n",
            "Iteration: 200/1373 | train_loss: 0.03425443544983864 | train_acc: 0.984375\n",
            "Iteration: 300/1373 | train_loss: 0.015582581050693989 | train_acc: 1.0\n",
            "Iteration: 400/1373 | train_loss: 0.08001977950334549 | train_acc: 0.984375\n",
            "Iteration: 500/1373 | train_loss: 0.08995473384857178 | train_acc: 0.9765625\n",
            "Iteration: 600/1373 | train_loss: 0.05231752619147301 | train_acc: 0.9765625\n",
            "Iteration: 700/1373 | train_loss: 0.0628691017627716 | train_acc: 0.9921875\n",
            "Iteration: 800/1373 | train_loss: 0.04838161543011665 | train_acc: 0.9765625\n",
            "Iteration: 900/1373 | train_loss: 0.07443443685770035 | train_acc: 0.9765625\n",
            "Iteration: 1000/1373 | train_loss: 0.08463955670595169 | train_acc: 0.9765625\n",
            "Iteration: 1100/1373 | train_loss: 0.021753648295998573 | train_acc: 0.9921875\n",
            "Iteration: 1200/1373 | train_loss: 0.05199845880270004 | train_acc: 0.984375\n",
            "Iteration: 1300/1373 | train_loss: 0.03833760693669319 | train_acc: 0.984375\n",
            "Epoch    11: reducing learning rate of group 0 to 6.2500e-05.\n",
            "Epoch: 10 | train_loss 0.050531378943043354 | train_acc: 0.9837589859962463 | val_loss: 0.8882797777552115 | val_acc: 0.7935922145843506\n",
            "Iteration: 0/1373 | train_loss: 0.034222450107336044 | train_acc: 0.984375\n",
            "Iteration: 100/1373 | train_loss: 0.04945538192987442 | train_acc: 0.9921875\n",
            "Iteration: 200/1373 | train_loss: 0.011172144673764706 | train_acc: 1.0\n",
            "Iteration: 300/1373 | train_loss: 0.0369940921664238 | train_acc: 0.984375\n",
            "Iteration: 400/1373 | train_loss: 0.024520795792341232 | train_acc: 0.9921875\n",
            "Iteration: 500/1373 | train_loss: 0.018383659422397614 | train_acc: 1.0\n",
            "Iteration: 600/1373 | train_loss: 0.0708705261349678 | train_acc: 0.9765625\n",
            "Iteration: 700/1373 | train_loss: 0.05964067578315735 | train_acc: 0.984375\n",
            "Iteration: 800/1373 | train_loss: 0.03977712243795395 | train_acc: 0.9921875\n",
            "Iteration: 900/1373 | train_loss: 0.06346417963504791 | train_acc: 0.9765625\n",
            "Iteration: 1000/1373 | train_loss: 0.06251748651266098 | train_acc: 0.9765625\n",
            "Iteration: 1100/1373 | train_loss: 0.07129058241844177 | train_acc: 0.96875\n",
            "Iteration: 1200/1373 | train_loss: 0.05630478262901306 | train_acc: 0.9921875\n",
            "Iteration: 1300/1373 | train_loss: 0.05408283323049545 | train_acc: 0.9921875\n",
            "Epoch: 11 | train_loss 0.04804325593528765 | train_acc: 0.984737753868103 | val_loss: 0.7852559449021265 | val_acc: 0.8009387254714966\n",
            "Iteration: 0/1373 | train_loss: 0.044823456555604935 | train_acc: 0.984375\n",
            "Iteration: 100/1373 | train_loss: 0.10901413857936859 | train_acc: 0.96875\n",
            "Iteration: 200/1373 | train_loss: 0.07423488795757294 | train_acc: 0.96875\n",
            "Iteration: 300/1373 | train_loss: 0.029843924567103386 | train_acc: 1.0\n",
            "Iteration: 400/1373 | train_loss: 0.05837617814540863 | train_acc: 0.96875\n",
            "Iteration: 500/1373 | train_loss: 0.019092800095677376 | train_acc: 1.0\n",
            "Iteration: 600/1373 | train_loss: 0.03775825351476669 | train_acc: 0.984375\n",
            "Iteration: 700/1373 | train_loss: 0.04527338966727257 | train_acc: 0.9765625\n",
            "Iteration: 800/1373 | train_loss: 0.019626962020993233 | train_acc: 1.0\n",
            "Iteration: 900/1373 | train_loss: 0.04691718891263008 | train_acc: 0.984375\n",
            "Iteration: 1000/1373 | train_loss: 0.032599251717329025 | train_acc: 0.984375\n",
            "Iteration: 1100/1373 | train_loss: 0.06110236421227455 | train_acc: 0.9765625\n",
            "Iteration: 1200/1373 | train_loss: 0.01846558228135109 | train_acc: 1.0\n",
            "Iteration: 1300/1373 | train_loss: 0.0604892335832119 | train_acc: 0.984375\n",
            "Epoch    13: reducing learning rate of group 0 to 3.1250e-05.\n",
            "Epoch: 12 | train_loss 0.0466768097474684 | train_acc: 0.9850507378578186 | val_loss: 0.8372593274488588 | val_acc: 0.7993246912956238\n",
            "Iteration: 0/1373 | train_loss: 0.034332022070884705 | train_acc: 0.984375\n",
            "Iteration: 100/1373 | train_loss: 0.030703358352184296 | train_acc: 0.9921875\n",
            "Iteration: 200/1373 | train_loss: 0.06240539997816086 | train_acc: 0.9765625\n",
            "Iteration: 300/1373 | train_loss: 0.023407671600580215 | train_acc: 1.0\n",
            "Iteration: 400/1373 | train_loss: 0.06734003126621246 | train_acc: 0.984375\n",
            "Iteration: 500/1373 | train_loss: 0.038145359605550766 | train_acc: 0.984375\n",
            "Iteration: 600/1373 | train_loss: 0.0516013465821743 | train_acc: 0.9765625\n",
            "Iteration: 700/1373 | train_loss: 0.026603523641824722 | train_acc: 0.9921875\n",
            "Iteration: 800/1373 | train_loss: 0.05489838123321533 | train_acc: 0.984375\n",
            "Iteration: 900/1373 | train_loss: 0.05186525359749794 | train_acc: 0.984375\n",
            "Iteration: 1000/1373 | train_loss: 0.07451438903808594 | train_acc: 0.984375\n",
            "Iteration: 1100/1373 | train_loss: 0.0985039472579956 | train_acc: 0.96875\n",
            "Iteration: 1200/1373 | train_loss: 0.07632014900445938 | train_acc: 0.984375\n",
            "Iteration: 1300/1373 | train_loss: 0.06491479277610779 | train_acc: 0.96875\n",
            "Epoch: 13 | train_loss 0.04480204418495597 | train_acc: 0.9862400889396667 | val_loss: 0.8944436276270623 | val_acc: 0.795317530632019\n",
            "Iteration: 0/1373 | train_loss: 0.024100644513964653 | train_acc: 0.9921875\n",
            "Iteration: 100/1373 | train_loss: 0.022712530568242073 | train_acc: 1.0\n",
            "Iteration: 200/1373 | train_loss: 0.04634837061166763 | train_acc: 0.9921875\n",
            "Iteration: 300/1373 | train_loss: 0.04539501294493675 | train_acc: 0.984375\n",
            "Iteration: 400/1373 | train_loss: 0.018834074959158897 | train_acc: 1.0\n",
            "Iteration: 500/1373 | train_loss: 0.04357411339879036 | train_acc: 0.9765625\n",
            "Iteration: 600/1373 | train_loss: 0.025668581947684288 | train_acc: 0.984375\n",
            "Iteration: 700/1373 | train_loss: 0.058479875326156616 | train_acc: 0.9765625\n",
            "Iteration: 800/1373 | train_loss: 0.047241970896720886 | train_acc: 0.9921875\n",
            "Iteration: 900/1373 | train_loss: 0.01755811646580696 | train_acc: 1.0\n",
            "Iteration: 1000/1373 | train_loss: 0.03401831537485123 | train_acc: 0.984375\n",
            "Iteration: 1100/1373 | train_loss: 0.05962603539228439 | train_acc: 0.9765625\n",
            "Iteration: 1200/1373 | train_loss: 0.05501408874988556 | train_acc: 0.984375\n",
            "Iteration: 1300/1373 | train_loss: 0.042290348559617996 | train_acc: 0.9765625\n",
            "Epoch    15: reducing learning rate of group 0 to 1.5625e-05.\n",
            "Epoch: 14 | train_loss 0.04383568769349846 | train_acc: 0.9867636561393738 | val_loss: 0.8661282907951573 | val_acc: 0.7906609773635864\n",
            "Iteration: 0/1373 | train_loss: 0.03860040754079819 | train_acc: 0.9921875\n",
            "Iteration: 100/1373 | train_loss: 0.02391122467815876 | train_acc: 0.9921875\n",
            "Iteration: 200/1373 | train_loss: 0.02439459040760994 | train_acc: 0.9921875\n",
            "Iteration: 300/1373 | train_loss: 0.04337311536073685 | train_acc: 0.9765625\n",
            "Iteration: 400/1373 | train_loss: 0.06276888400316238 | train_acc: 0.9765625\n",
            "Iteration: 500/1373 | train_loss: 0.07779631018638611 | train_acc: 0.984375\n",
            "Iteration: 600/1373 | train_loss: 0.054036758840084076 | train_acc: 0.9765625\n",
            "Iteration: 700/1373 | train_loss: 0.05260666832327843 | train_acc: 0.9921875\n",
            "Iteration: 800/1373 | train_loss: 0.025977762416005135 | train_acc: 0.9921875\n",
            "Iteration: 900/1373 | train_loss: 0.0800575539469719 | train_acc: 0.984375\n",
            "Iteration: 1000/1373 | train_loss: 0.05146799236536026 | train_acc: 0.984375\n",
            "Iteration: 1100/1373 | train_loss: 0.021897241473197937 | train_acc: 0.9921875\n",
            "Iteration: 1200/1373 | train_loss: 0.02922798879444599 | train_acc: 0.984375\n",
            "Iteration: 1300/1373 | train_loss: 0.059605907648801804 | train_acc: 0.9765625\n",
            "Epoch: 15 | train_loss 0.043594964362119897 | train_acc: 0.9867295026779175 | val_loss: 0.8279192094411146 | val_acc: 0.8037771582603455\n",
            "Iteration: 0/1373 | train_loss: 0.02948959730565548 | train_acc: 0.9921875\n",
            "Iteration: 100/1373 | train_loss: 0.04183946177363396 | train_acc: 0.984375\n",
            "Iteration: 200/1373 | train_loss: 0.04187392070889473 | train_acc: 0.984375\n",
            "Iteration: 300/1373 | train_loss: 0.06541632860898972 | train_acc: 0.9921875\n",
            "Iteration: 400/1373 | train_loss: 0.03906349465250969 | train_acc: 0.984375\n",
            "Iteration: 500/1373 | train_loss: 0.11347802728414536 | train_acc: 0.953125\n",
            "Iteration: 600/1373 | train_loss: 0.058345239609479904 | train_acc: 0.984375\n",
            "Iteration: 700/1373 | train_loss: 0.04967570677399635 | train_acc: 0.9765625\n",
            "Iteration: 800/1373 | train_loss: 0.035173676908016205 | train_acc: 0.9921875\n",
            "Iteration: 900/1373 | train_loss: 0.03751559183001518 | train_acc: 0.984375\n",
            "Iteration: 1000/1373 | train_loss: 0.05522308871150017 | train_acc: 0.9765625\n",
            "Iteration: 1100/1373 | train_loss: 0.024494867771863937 | train_acc: 0.9921875\n",
            "Iteration: 1200/1373 | train_loss: 0.09405340999364853 | train_acc: 0.96875\n",
            "Iteration: 1300/1373 | train_loss: 0.05520418658852577 | train_acc: 0.9765625\n",
            "Epoch    17: reducing learning rate of group 0 to 7.8125e-06.\n",
            "Epoch: 16 | train_loss 0.044353897406461076 | train_acc: 0.9868945479393005 | val_loss: 0.8247372564404886 | val_acc: 0.8037956953048706\n",
            "Iteration: 0/1373 | train_loss: 0.031510718166828156 | train_acc: 0.9921875\n",
            "Iteration: 100/1373 | train_loss: 0.040692850947380066 | train_acc: 0.984375\n",
            "Iteration: 200/1373 | train_loss: 0.02214176580309868 | train_acc: 1.0\n",
            "Iteration: 300/1373 | train_loss: 0.12027584761381149 | train_acc: 0.9609375\n",
            "Iteration: 400/1373 | train_loss: 0.023612359538674355 | train_acc: 1.0\n",
            "Iteration: 500/1373 | train_loss: 0.0619012676179409 | train_acc: 0.984375\n",
            "Iteration: 600/1373 | train_loss: 0.046587008982896805 | train_acc: 0.984375\n",
            "Iteration: 700/1373 | train_loss: 0.034231606870889664 | train_acc: 0.9921875\n",
            "Iteration: 800/1373 | train_loss: 0.039194680750370026 | train_acc: 0.984375\n",
            "Iteration: 900/1373 | train_loss: 0.01058737188577652 | train_acc: 1.0\n",
            "Iteration: 1000/1373 | train_loss: 0.02242748998105526 | train_acc: 0.9921875\n",
            "Iteration: 1100/1373 | train_loss: 0.020700938999652863 | train_acc: 1.0\n",
            "Iteration: 1200/1373 | train_loss: 0.03964431211352348 | train_acc: 0.9921875\n",
            "Iteration: 1300/1373 | train_loss: 0.09174448251724243 | train_acc: 0.96875\n",
            "Epoch: 17 | train_loss 0.04394462151444589 | train_acc: 0.9870595335960388 | val_loss: 0.8463624945049009 | val_acc: 0.8024599552154541\n",
            "Iteration: 0/1373 | train_loss: 0.0193657074123621 | train_acc: 1.0\n",
            "Iteration: 100/1373 | train_loss: 0.05138334259390831 | train_acc: 0.9921875\n",
            "Iteration: 200/1373 | train_loss: 0.03771216422319412 | train_acc: 0.9921875\n",
            "Iteration: 300/1373 | train_loss: 0.05281461775302887 | train_acc: 0.984375\n",
            "Iteration: 400/1373 | train_loss: 0.02857436239719391 | train_acc: 0.9921875\n",
            "Iteration: 500/1373 | train_loss: 0.049564849585294724 | train_acc: 0.984375\n",
            "Iteration: 600/1373 | train_loss: 0.028677988797426224 | train_acc: 0.9921875\n",
            "Iteration: 700/1373 | train_loss: 0.046031273901462555 | train_acc: 0.984375\n",
            "Iteration: 800/1373 | train_loss: 0.011102314107120037 | train_acc: 1.0\n",
            "Iteration: 900/1373 | train_loss: 0.01791241578757763 | train_acc: 0.9921875\n",
            "Iteration: 1000/1373 | train_loss: 0.010932542383670807 | train_acc: 1.0\n",
            "Iteration: 1100/1373 | train_loss: 0.0487167164683342 | train_acc: 0.984375\n",
            "Iteration: 1200/1373 | train_loss: 0.06879573315382004 | train_acc: 0.9765625\n",
            "Iteration: 1300/1373 | train_loss: 0.08452228456735611 | train_acc: 0.9609375\n",
            "Epoch    19: reducing learning rate of group 0 to 3.9063e-06.\n",
            "Epoch: 18 | train_loss 0.04244482897182696 | train_acc: 0.9871619939804077 | val_loss: 0.8037394228691342 | val_acc: 0.8039441108703613\n",
            "Iteration: 0/1373 | train_loss: 0.05460049584507942 | train_acc: 0.9765625\n",
            "Iteration: 100/1373 | train_loss: 0.0384448803961277 | train_acc: 0.9765625\n",
            "Iteration: 200/1373 | train_loss: 0.015728965401649475 | train_acc: 1.0\n",
            "Iteration: 300/1373 | train_loss: 0.042525820434093475 | train_acc: 0.984375\n",
            "Iteration: 400/1373 | train_loss: 0.09813278168439865 | train_acc: 0.96875\n",
            "Iteration: 500/1373 | train_loss: 0.04272541403770447 | train_acc: 0.9921875\n",
            "Iteration: 600/1373 | train_loss: 0.04833536967635155 | train_acc: 0.984375\n",
            "Iteration: 700/1373 | train_loss: 0.02995895780622959 | train_acc: 0.9921875\n",
            "Iteration: 800/1373 | train_loss: 0.034294385462999344 | train_acc: 0.984375\n",
            "Iteration: 900/1373 | train_loss: 0.03695538640022278 | train_acc: 0.984375\n",
            "Iteration: 1000/1373 | train_loss: 0.049620918929576874 | train_acc: 0.9921875\n",
            "Iteration: 1100/1373 | train_loss: 0.035775717347860336 | train_acc: 0.9921875\n",
            "Iteration: 1200/1373 | train_loss: 0.07151130586862564 | train_acc: 0.96875\n",
            "Iteration: 1300/1373 | train_loss: 0.06886887550354004 | train_acc: 0.9765625\n",
            "Epoch: 19 | train_loss 0.043016211012790274 | train_acc: 0.9866783022880554 | val_loss: 0.8258360855188329 | val_acc: 0.8039441108703613\n",
            "Iteration: 0/1373 | train_loss: 0.06389978528022766 | train_acc: 0.96875\n",
            "Iteration: 100/1373 | train_loss: 0.04194836691021919 | train_acc: 0.9765625\n",
            "Iteration: 200/1373 | train_loss: 0.010716969147324562 | train_acc: 1.0\n",
            "Iteration: 300/1373 | train_loss: 0.07515682280063629 | train_acc: 0.9765625\n",
            "Iteration: 400/1373 | train_loss: 0.03257573023438454 | train_acc: 0.9921875\n",
            "Iteration: 500/1373 | train_loss: 0.06253208220005035 | train_acc: 0.984375\n",
            "Iteration: 600/1373 | train_loss: 0.009645967744290829 | train_acc: 1.0\n",
            "Iteration: 700/1373 | train_loss: 0.011407782323658466 | train_acc: 1.0\n",
            "Iteration: 800/1373 | train_loss: 0.014884896576404572 | train_acc: 1.0\n",
            "Iteration: 900/1373 | train_loss: 0.053598079830408096 | train_acc: 0.984375\n",
            "Iteration: 1000/1373 | train_loss: 0.0369533896446228 | train_acc: 0.9921875\n",
            "Iteration: 1100/1373 | train_loss: 0.043270453810691833 | train_acc: 0.984375\n",
            "Iteration: 1200/1373 | train_loss: 0.04055316001176834 | train_acc: 0.984375\n",
            "Iteration: 1300/1373 | train_loss: 0.037077393382787704 | train_acc: 0.9921875\n",
            "Epoch    21: reducing learning rate of group 0 to 1.9531e-06.\n",
            "Epoch: 20 | train_loss 0.040978910364152944 | train_acc: 0.9875261783599854 | val_loss: 0.8409928126412372 | val_acc: 0.803665816783905\n",
            "Iteration: 0/1373 | train_loss: 0.03490212559700012 | train_acc: 0.984375\n",
            "Iteration: 100/1373 | train_loss: 0.04608065262436867 | train_acc: 0.9765625\n",
            "Iteration: 200/1373 | train_loss: 0.031082332134246826 | train_acc: 0.9765625\n",
            "Iteration: 300/1373 | train_loss: 0.019434265792369843 | train_acc: 0.9921875\n",
            "Iteration: 400/1373 | train_loss: 0.09171000123023987 | train_acc: 0.96875\n",
            "Iteration: 500/1373 | train_loss: 0.04537319019436836 | train_acc: 0.984375\n",
            "Iteration: 600/1373 | train_loss: 0.09478133171796799 | train_acc: 0.96875\n",
            "Iteration: 700/1373 | train_loss: 0.01718565635383129 | train_acc: 1.0\n",
            "Iteration: 800/1373 | train_loss: 0.057264260947704315 | train_acc: 0.984375\n",
            "Iteration: 900/1373 | train_loss: 0.07958579808473587 | train_acc: 0.9765625\n",
            "Iteration: 1000/1373 | train_loss: 0.057172615081071854 | train_acc: 0.984375\n",
            "Iteration: 1100/1373 | train_loss: 0.021844517439603806 | train_acc: 1.0\n",
            "Iteration: 1200/1373 | train_loss: 0.01517883874475956 | train_acc: 1.0\n",
            "Iteration: 1300/1373 | train_loss: 0.02497224695980549 | train_acc: 0.9921875\n",
            "Epoch: 21 | train_loss 0.041570062018733506 | train_acc: 0.9874522089958191 | val_loss: 0.8329631892335576 | val_acc: 0.8030165433883667\n",
            "Iteration: 0/1373 | train_loss: 0.015691230073571205 | train_acc: 1.0\n",
            "Iteration: 100/1373 | train_loss: 0.02525332011282444 | train_acc: 1.0\n",
            "Iteration: 200/1373 | train_loss: 0.030179711058735847 | train_acc: 0.9921875\n",
            "Iteration: 300/1373 | train_loss: 0.014372233301401138 | train_acc: 0.9921875\n",
            "Iteration: 400/1373 | train_loss: 0.08297105878591537 | train_acc: 0.9765625\n",
            "Iteration: 500/1373 | train_loss: 0.022788431495428085 | train_acc: 0.9921875\n",
            "Iteration: 600/1373 | train_loss: 0.07195044308900833 | train_acc: 0.9765625\n",
            "Iteration: 700/1373 | train_loss: 0.05093557760119438 | train_acc: 0.9921875\n",
            "Iteration: 800/1373 | train_loss: 0.041158877313137054 | train_acc: 0.984375\n",
            "Iteration: 900/1373 | train_loss: 0.020362980663776398 | train_acc: 1.0\n",
            "Iteration: 1000/1373 | train_loss: 0.06866711378097534 | train_acc: 0.96875\n",
            "Iteration: 1100/1373 | train_loss: 0.062430985271930695 | train_acc: 0.984375\n",
            "Iteration: 1200/1373 | train_loss: 0.02784232422709465 | train_acc: 0.9921875\n",
            "Iteration: 1300/1373 | train_loss: 0.11643026024103165 | train_acc: 0.953125\n",
            "Epoch    23: reducing learning rate of group 0 to 9.7656e-07.\n",
            "Epoch: 22 | train_loss 0.04168230276916057 | train_acc: 0.9874066710472107 | val_loss: 0.8214224877323071 | val_acc: 0.8015694618225098\n",
            "Iteration: 0/1373 | train_loss: 0.0754455029964447 | train_acc: 0.96875\n",
            "Iteration: 100/1373 | train_loss: 0.023829590529203415 | train_acc: 1.0\n",
            "Iteration: 200/1373 | train_loss: 0.03464991971850395 | train_acc: 0.9765625\n",
            "Iteration: 300/1373 | train_loss: 0.025439759716391563 | train_acc: 0.9921875\n",
            "Iteration: 400/1373 | train_loss: 0.0684150755405426 | train_acc: 0.9921875\n",
            "Iteration: 500/1373 | train_loss: 0.020286260172724724 | train_acc: 1.0\n",
            "Iteration: 600/1373 | train_loss: 0.04872408136725426 | train_acc: 0.984375\n",
            "Iteration: 700/1373 | train_loss: 0.015141772106289864 | train_acc: 1.0\n",
            "Iteration: 800/1373 | train_loss: 0.02094343677163124 | train_acc: 0.9921875\n",
            "Iteration: 900/1373 | train_loss: 0.03203412517905235 | train_acc: 0.9921875\n",
            "Iteration: 1000/1373 | train_loss: 0.09982821345329285 | train_acc: 0.9609375\n",
            "Iteration: 1100/1373 | train_loss: 0.10596861690282822 | train_acc: 0.984375\n",
            "Iteration: 1200/1373 | train_loss: 0.06979962438344955 | train_acc: 0.9765625\n",
            "Iteration: 1300/1373 | train_loss: 0.031083039939403534 | train_acc: 0.9921875\n",
            "Epoch: 23 | train_loss 0.0427865362751167 | train_acc: 0.9873725175857544 | val_loss: 0.8313444387452084 | val_acc: 0.8021631240844727\n",
            "Iteration: 0/1373 | train_loss: 0.028755346313118935 | train_acc: 0.984375\n",
            "Iteration: 100/1373 | train_loss: 0.023839110508561134 | train_acc: 0.9921875\n",
            "Iteration: 200/1373 | train_loss: 0.05117728188633919 | train_acc: 0.9609375\n",
            "Iteration: 300/1373 | train_loss: 0.031595900654792786 | train_acc: 0.9921875\n",
            "Iteration: 400/1373 | train_loss: 0.04219183325767517 | train_acc: 0.984375\n",
            "Iteration: 500/1373 | train_loss: 0.026913844048976898 | train_acc: 0.9921875\n",
            "Iteration: 600/1373 | train_loss: 0.02796965092420578 | train_acc: 1.0\n",
            "Iteration: 700/1373 | train_loss: 0.05693966522812843 | train_acc: 0.96875\n",
            "Iteration: 800/1373 | train_loss: 0.03371194750070572 | train_acc: 0.984375\n",
            "Iteration: 900/1373 | train_loss: 0.043504782021045685 | train_acc: 0.984375\n",
            "Iteration: 1000/1373 | train_loss: 0.06079747900366783 | train_acc: 0.984375\n",
            "Iteration: 1100/1373 | train_loss: 0.01823382079601288 | train_acc: 0.9921875\n",
            "Iteration: 1200/1373 | train_loss: 0.020429028198122978 | train_acc: 1.0\n",
            "Iteration: 1300/1373 | train_loss: 0.0394458994269371 | train_acc: 0.9921875\n",
            "Epoch    25: reducing learning rate of group 0 to 4.8828e-07.\n",
            "Epoch: 24 | train_loss 0.04262533533999712 | train_acc: 0.9870994091033936 | val_loss: 0.8294751647438028 | val_acc: 0.801662266254425\n",
            "Iteration: 0/1373 | train_loss: 0.033109456300735474 | train_acc: 0.984375\n",
            "Iteration: 100/1373 | train_loss: 0.03717469051480293 | train_acc: 0.984375\n",
            "Iteration: 200/1373 | train_loss: 0.02697325125336647 | train_acc: 0.9765625\n",
            "Iteration: 300/1373 | train_loss: 0.014025703072547913 | train_acc: 1.0\n",
            "Iteration: 400/1373 | train_loss: 0.05119800940155983 | train_acc: 0.9921875\n",
            "Iteration: 500/1373 | train_loss: 0.02993309684097767 | train_acc: 0.9921875\n",
            "Iteration: 600/1373 | train_loss: 0.04287547618150711 | train_acc: 0.9921875\n",
            "Iteration: 700/1373 | train_loss: 0.010475442744791508 | train_acc: 1.0\n",
            "Iteration: 800/1373 | train_loss: 0.051020145416259766 | train_acc: 0.984375\n",
            "Iteration: 900/1373 | train_loss: 0.1322222501039505 | train_acc: 0.9609375\n",
            "Iteration: 1000/1373 | train_loss: 0.020095422863960266 | train_acc: 1.0\n",
            "Iteration: 1100/1373 | train_loss: 0.03208151459693909 | train_acc: 0.9921875\n",
            "Iteration: 1200/1373 | train_loss: 0.04590197280049324 | train_acc: 0.984375\n",
            "Iteration: 1300/1373 | train_loss: 0.05138342082500458 | train_acc: 0.984375\n",
            "Epoch: 25 | train_loss 0.04267464800573547 | train_acc: 0.9874066710472107 | val_loss: 0.8236992829757536 | val_acc: 0.803480327129364\n",
            "Iteration: 0/1373 | train_loss: 0.022060545161366463 | train_acc: 0.9921875\n",
            "Iteration: 100/1373 | train_loss: 0.024681609123945236 | train_acc: 0.9921875\n",
            "Iteration: 200/1373 | train_loss: 0.06717294454574585 | train_acc: 0.96875\n",
            "Iteration: 300/1373 | train_loss: 0.021515410393476486 | train_acc: 0.9921875\n",
            "Iteration: 400/1373 | train_loss: 0.060602642595767975 | train_acc: 0.9765625\n",
            "Iteration: 500/1373 | train_loss: 0.028215710073709488 | train_acc: 0.9921875\n",
            "Iteration: 600/1373 | train_loss: 0.03514642268419266 | train_acc: 0.9765625\n",
            "Iteration: 700/1373 | train_loss: 0.038694702088832855 | train_acc: 0.984375\n",
            "Iteration: 800/1373 | train_loss: 0.03313196823000908 | train_acc: 0.9765625\n",
            "Iteration: 900/1373 | train_loss: 0.06634208559989929 | train_acc: 0.9609375\n",
            "Iteration: 1000/1373 | train_loss: 0.05712318792939186 | train_acc: 0.984375\n",
            "Iteration: 1100/1373 | train_loss: 0.088395856320858 | train_acc: 0.984375\n",
            "Iteration: 1200/1373 | train_loss: 0.04176156595349312 | train_acc: 0.9921875\n",
            "Iteration: 1300/1373 | train_loss: 0.0794714018702507 | train_acc: 0.9765625\n",
            "Epoch    27: reducing learning rate of group 0 to 2.4414e-07.\n",
            "Epoch: 26 | train_loss 0.04288284880235733 | train_acc: 0.9871335029602051 | val_loss: 0.830844960092366 | val_acc: 0.8025527596473694\n",
            "Iteration: 0/1373 | train_loss: 0.0698322057723999 | train_acc: 0.9765625\n",
            "Iteration: 100/1373 | train_loss: 0.04727977514266968 | train_acc: 0.9921875\n",
            "Iteration: 200/1373 | train_loss: 0.04862067475914955 | train_acc: 0.9921875\n",
            "Iteration: 300/1373 | train_loss: 0.029799077659845352 | train_acc: 0.9921875\n",
            "Iteration: 400/1373 | train_loss: 0.022874392569065094 | train_acc: 0.9921875\n",
            "Iteration: 500/1373 | train_loss: 0.024686885997653008 | train_acc: 1.0\n",
            "Iteration: 600/1373 | train_loss: 0.03106224536895752 | train_acc: 0.9921875\n",
            "Iteration: 700/1373 | train_loss: 0.02666306309401989 | train_acc: 1.0\n",
            "Iteration: 800/1373 | train_loss: 0.013819290325045586 | train_acc: 1.0\n",
            "Iteration: 900/1373 | train_loss: 0.01956121064722538 | train_acc: 1.0\n",
            "Iteration: 1000/1373 | train_loss: 0.029450053349137306 | train_acc: 0.9921875\n",
            "Iteration: 1100/1373 | train_loss: 0.05473734065890312 | train_acc: 0.9921875\n",
            "Iteration: 1200/1373 | train_loss: 0.0646255612373352 | train_acc: 0.984375\n",
            "Iteration: 1300/1373 | train_loss: 0.04918237403035164 | train_acc: 0.9921875\n",
            "Epoch: 27 | train_loss 0.04228766646194122 | train_acc: 0.9876513481140137 | val_loss: 0.8293564932453781 | val_acc: 0.8023486733436584\n",
            "Iteration: 0/1373 | train_loss: 0.02546684257686138 | train_acc: 0.9921875\n",
            "Iteration: 100/1373 | train_loss: 0.015280944295227528 | train_acc: 1.0\n",
            "Iteration: 200/1373 | train_loss: 0.009726405143737793 | train_acc: 1.0\n",
            "Iteration: 300/1373 | train_loss: 0.011814271099865437 | train_acc: 1.0\n",
            "Iteration: 400/1373 | train_loss: 0.04159509018063545 | train_acc: 0.984375\n",
            "Iteration: 500/1373 | train_loss: 0.06358499825000763 | train_acc: 0.96875\n",
            "Iteration: 600/1373 | train_loss: 0.025003159418702126 | train_acc: 0.9921875\n",
            "Iteration: 700/1373 | train_loss: 0.017637325450778008 | train_acc: 1.0\n",
            "Iteration: 800/1373 | train_loss: 0.02613925375044346 | train_acc: 0.9921875\n",
            "Iteration: 900/1373 | train_loss: 0.03025863505899906 | train_acc: 1.0\n",
            "Iteration: 1000/1373 | train_loss: 0.07300031930208206 | train_acc: 0.96875\n",
            "Iteration: 1100/1373 | train_loss: 0.05752624571323395 | train_acc: 0.9921875\n",
            "Iteration: 1200/1373 | train_loss: 0.055907316505908966 | train_acc: 0.9765625\n",
            "Iteration: 1300/1373 | train_loss: 0.058401864022016525 | train_acc: 0.9765625\n",
            "Epoch    29: reducing learning rate of group 0 to 1.2207e-07.\n",
            "Epoch: 28 | train_loss 0.04259489191356691 | train_acc: 0.9872815012931824 | val_loss: 0.8374818532145727 | val_acc: 0.8029608726501465\n",
            "Iteration: 0/1373 | train_loss: 0.06607207655906677 | train_acc: 0.96875\n",
            "Iteration: 100/1373 | train_loss: 0.04724404215812683 | train_acc: 0.9765625\n",
            "Iteration: 200/1373 | train_loss: 0.16993792355060577 | train_acc: 0.96875\n",
            "Iteration: 300/1373 | train_loss: 0.024387242272496223 | train_acc: 0.984375\n",
            "Iteration: 400/1373 | train_loss: 0.01751047372817993 | train_acc: 1.0\n",
            "Iteration: 500/1373 | train_loss: 0.09446355700492859 | train_acc: 0.9765625\n",
            "Iteration: 600/1373 | train_loss: 0.06337559223175049 | train_acc: 0.9765625\n",
            "Iteration: 700/1373 | train_loss: 0.0971062183380127 | train_acc: 0.984375\n",
            "Iteration: 800/1373 | train_loss: 0.02455322816967964 | train_acc: 0.9921875\n",
            "Iteration: 900/1373 | train_loss: 0.009572211652994156 | train_acc: 1.0\n",
            "Iteration: 1000/1373 | train_loss: 0.056018419563770294 | train_acc: 0.9765625\n",
            "Iteration: 1100/1373 | train_loss: 0.03972001373767853 | train_acc: 0.984375\n",
            "Iteration: 1200/1373 | train_loss: 0.10930194705724716 | train_acc: 0.9609375\n",
            "Iteration: 1300/1373 | train_loss: 0.02927592396736145 | train_acc: 0.9921875\n",
            "Epoch: 29 | train_loss 0.04252996167884893 | train_acc: 0.9870994091033936 | val_loss: 0.8399024848369354 | val_acc: 0.8020889163017273\n"
          ]
        }
      ]
    },
    {
      "cell_type": "code",
      "metadata": {
        "id": "x9_ZITbCybTq",
        "colab": {
          "base_uri": "https://localhost:8080/"
        },
        "outputId": "e9951b48-bd56-45e3-94d2-a5e646ed1a0d"
      },
      "source": [
        "np.array([train_dataset.y[0]])"
      ],
      "execution_count": null,
      "outputs": [
        {
          "output_type": "execute_result",
          "data": {
            "text/plain": [
              "array([0])"
            ]
          },
          "metadata": {},
          "execution_count": 39
        }
      ]
    },
    {
      "cell_type": "code",
      "metadata": {
        "id": "X7g8J7WadLvm"
      },
      "source": [
        "best_model = OneDConvNet(6, 4)\n",
        "best_model.load_state_dict(torch.load(os.path.join(base_path, \"experiments\", \"models\", \"checkpoint_instance_norm_dropout_sgd_lr3.pth\")))\n",
        "best_model = best_model.to(device)"
      ],
      "execution_count": null,
      "outputs": []
    },
    {
      "cell_type": "code",
      "metadata": {
        "id": "pK-nLeloml-n"
      },
      "source": [
        "from sklearn.metrics import accuracy_score, precision_score, recall_score, f1_score\n",
        "\n",
        "class Evaluation:\n",
        "\n",
        "  def __init__(self):\n",
        "        pass\n",
        "  \n",
        "  def aggregate_metrics(self, y, y_hat):\n",
        "    \n",
        "    \"\"\" Metrics for entire set \n",
        "        \n",
        "        Arguments passed are: \n",
        "                      y     : ground truth  \n",
        "                      y_hat : predicted class\n",
        "        Calculations:\n",
        "                  accuracy  : (tp + tn) / (total samples =(p + n))\n",
        "                  precision : tp / (tp + fp)\n",
        "                  recall    : tp / (tp + fn)\n",
        "                  f1        : 2 tp / (2 tp + fp + fn)\n",
        "    \"\"\"\n",
        "    accuracy  = accuracy_score(y, y_hat)\n",
        "    precision = precision_score(y, y_hat, average=\"macro\")\n",
        "    recall    = recall_score(y, y_hat, average=\"macro\")\n",
        "    f1        = f1_score(y, y_hat, average=\"macro\")\n",
        "    return {\n",
        "        \"Accuracy\": accuracy,\n",
        "        \"Precision\": precision,\n",
        "        \"Recall\": recall,\n",
        "        \"F1\": f1\n",
        "        }\n",
        "\n",
        "  def classwise_metrics(self, y, y_hat):\n",
        "\n",
        "    \"\"\" Metrics for each class. \n",
        "        Average is set to macro for calculating the score of each label, and find their unweighted mean. \n",
        "        This does not take label imbalance into account.\n",
        "        \n",
        "        Arguments passed are: \n",
        "                      y     : ground truth  \n",
        "                      y_hat : predicted class\n",
        "        Calculations:\n",
        "                  accuracy  : (tp + tn) / (total samples =(p + n))\n",
        "                  precision : tp / (tp + fp)\n",
        "                  recall    : tp / (tp + fn)\n",
        "                  f1        : 2 tp / (2 tp + fp + fn)\n",
        "    \"\"\"\n",
        "    \n",
        "    class_precision = precision_score(y, y_hat, average=None)\n",
        "    class_recall    = recall_score(y, y_hat, average=None)\n",
        "    class_f1        = f1_score(y, y_hat, average=None)\n",
        "    \n",
        "    return {\n",
        "        \"Precision\": class_precision,\n",
        "        \"Recall\": class_recall,\n",
        "        \"F1\": class_f1\n",
        "    }"
      ],
      "execution_count": null,
      "outputs": []
    },
    {
      "cell_type": "code",
      "metadata": {
        "id": "MvN9WtxwznFw"
      },
      "source": [
        "evaluator = Evaluation()"
      ],
      "execution_count": null,
      "outputs": []
    },
    {
      "cell_type": "code",
      "metadata": {
        "id": "bYbdv_EDml8M",
        "colab": {
          "base_uri": "https://localhost:8080/"
        },
        "outputId": "ca957f0a-9e14-4c5d-eb29-361b32225591"
      },
      "source": [
        "val_dataset = SubjectDataset(\n",
        "    val_data_path, \n",
        "    split_ids[\"val\"]\n",
        ")\n",
        "val_dataloader = DataLoader(val_dataset, batch_size=batch_size, shuffle=False)\n",
        "val_iterations = (len(val_dataset) // batch_size) + ((len(val_dataset) % batch_size) != 0)"
      ],
      "execution_count": null,
      "outputs": [
        {
          "output_type": "stream",
          "name": "stdout",
          "text": [
            "Converting uid 001_08\n",
            "Converting uid 002_01\n",
            "Converting uid 001_01\n",
            "Converting uid 001_04\n"
          ]
        }
      ]
    },
    {
      "cell_type": "code",
      "metadata": {
        "id": "5qvZJ2dCxb-H"
      },
      "source": [
        "output = []\n",
        "labels = []\n",
        "for X, y in val_dataloader:\n",
        "    X = X.float().to(device)\n",
        "    X = (X - min) / (max - min)\n",
        "    \n",
        "    y = y.view(X.size(0)).to(device)\n",
        "\n",
        "    y_pred = best_model(X)\n",
        "    predicted_classes = torch.argmax(y_pred, dim=1).detach().cpu().numpy()\n",
        "    y_true = y.cpu().numpy()\n",
        "\n",
        "    output.append(predicted_classes)\n",
        "    labels.append(y_true)"
      ],
      "execution_count": null,
      "outputs": []
    },
    {
      "cell_type": "code",
      "metadata": {
        "id": "I8p4RTYs0CuR"
      },
      "source": [
        "_output = np.concatenate(output, axis=0)\n",
        "_labels = np.concatenate(labels, axis=0)"
      ],
      "execution_count": null,
      "outputs": []
    },
    {
      "cell_type": "code",
      "metadata": {
        "id": "EI4HBWhS0Gao",
        "colab": {
          "base_uri": "https://localhost:8080/"
        },
        "outputId": "266f2fb4-c87a-44a7-e351-bbd654bea896"
      },
      "source": [
        "agg_metrics = evaluator.aggregate_metrics(_labels, _output)\n",
        "print(\"Agg metrics\")\n",
        "print(agg_metrics)\n",
        "classwise_metrics = evaluator.classwise_metrics(_labels, _output)\n",
        "print(\"Classwise Metrics\")\n",
        "print(classwise_metrics)"
      ],
      "execution_count": null,
      "outputs": [
        {
          "output_type": "stream",
          "name": "stdout",
          "text": [
            "Agg metrics\n",
            "{'Accuracy': 0.7798638294714579, 'Precision': 0.7117290408103055, 'Recall': 0.7789391168841989, 'F1': 0.7258035050631524}\n",
            "Classwise Metrics\n",
            "{'Precision': array([0.81566077, 0.66864785, 0.59642284, 0.76618471]), 'Recall': array([0.8692247 , 0.9155646 , 0.85756677, 0.4734004 ]), 'F1': array([0.84159132, 0.77286389, 0.70354341, 0.5852154 ])}\n"
          ]
        }
      ]
    },
    {
      "cell_type": "code",
      "metadata": {
        "id": "UosykPCA0GX_",
        "colab": {
          "base_uri": "https://localhost:8080/"
        },
        "outputId": "f5251136-fdf5-4476-9775-32ddefed07e4"
      },
      "source": [
        "test_data_path = os.path.join(base_data_path, \"test\")\n",
        "test_dataset = SubjectDataset(\n",
        "    test_data_path, \n",
        "    split_ids[\"test\"]\n",
        ")\n",
        "test_dataloader = DataLoader(test_dataset, batch_size=batch_size, shuffle=False)\n",
        "test_iterations = (len(test_dataset) // batch_size) + ((len(test_dataset) % batch_size) != 0)"
      ],
      "execution_count": null,
      "outputs": [
        {
          "output_type": "stream",
          "name": "stdout",
          "text": [
            "Converting uid 005_03\n",
            "Converting uid 006_01\n",
            "Converting uid 006_02\n",
            "Converting uid 006_03\n",
            "Converting uid 007_01\n",
            "Converting uid 007_02\n",
            "Converting uid 007_03\n",
            "Converting uid 007_04\n",
            "Converting uid 008_01\n"
          ]
        }
      ]
    },
    {
      "cell_type": "code",
      "metadata": {
        "id": "GV5m259v4D5L"
      },
      "source": [
        "output = []\n",
        "labels = []\n",
        "for X, y in test_dataloader:\n",
        "    X = X.float().to(device)\n",
        "    X = (X - min) / (max - min)\n",
        "    \n",
        "    y = y.view(X.size(0)).to(device)\n",
        "\n",
        "    y_pred = best_model(X)\n",
        "    predicted_classes = torch.argmax(y_pred, dim=1).detach().cpu().numpy()\n",
        "    y_true = y.cpu().numpy()\n",
        "\n",
        "    output.append(predicted_classes)\n",
        "    labels.append(y_true)"
      ],
      "execution_count": null,
      "outputs": []
    },
    {
      "cell_type": "code",
      "metadata": {
        "id": "cDB40FUf4TY8"
      },
      "source": [
        "_output = np.concatenate(output, axis=0)\n",
        "_labels = np.concatenate(labels, axis=0)"
      ],
      "execution_count": null,
      "outputs": []
    },
    {
      "cell_type": "code",
      "metadata": {
        "id": "GtmDpRBH4XDQ",
        "colab": {
          "base_uri": "https://localhost:8080/"
        },
        "outputId": "585086be-a00c-4314-86cf-eb65023c8931"
      },
      "source": [
        "agg_metrics = evaluator.aggregate_metrics(_labels, _output)\n",
        "print(\"Agg metrics\")\n",
        "print(agg_metrics)\n",
        "classwise_metrics = evaluator.classwise_metrics(_labels, _output)\n",
        "print(\"Classwise Metrics\")\n",
        "print(classwise_metrics)"
      ],
      "execution_count": null,
      "outputs": [
        {
          "output_type": "stream",
          "name": "stdout",
          "text": [
            "Agg metrics\n",
            "{'Accuracy': 0.9183509481764384, 'Precision': 0.8324434549092692, 'Recall': 0.9222066561031865, 'F1': 0.872718448091402}\n",
            "Classwise Metrics\n",
            "{'Precision': array([0.96535883, 0.74620445, 0.83529412, 0.78291642]), 'Recall': array([0.93114962, 0.94914709, 0.96978477, 0.83874515]), 'F1': array([0.94794569, 0.83552911, 0.89752921, 0.80986978])}\n"
          ]
        }
      ]
    },
    {
      "cell_type": "code",
      "metadata": {
        "id": "xMx7IIGjpyNZ",
        "colab": {
          "base_uri": "https://localhost:8080/"
        },
        "outputId": "8273e096-6e36-47e4-81dd-b840a4a099c4"
      },
      "source": [
        "path = os.path.join(base_path, \"experiments\", \"models\", \"checkpoint_instance_norm_dropout_sgd_lr3_long.pth\")\n",
        "print(f\"Saving model to {path}\")\n",
        "torch.save(model.state_dict(), path)"
      ],
      "execution_count": null,
      "outputs": [
        {
          "output_type": "stream",
          "name": "stdout",
          "text": [
            "Saving model to /content/drive/MyDrive/ProjC/Nov11_newModel/competition-project-2/experiments/models/checkpoint_instance_norm_dropout_sgd_lr3_long.pth\n"
          ]
        }
      ]
    },
    {
      "cell_type": "code",
      "metadata": {
        "id": "gZISb6yI1ewr"
      },
      "source": [
        ""
      ],
      "execution_count": null,
      "outputs": []
    }
  ]
}
