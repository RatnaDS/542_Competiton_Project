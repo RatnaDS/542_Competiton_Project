{
 "cells": [
  {
   "cell_type": "code",
   "execution_count": null,
   "id": "57d6b5f7",
   "metadata": {},
   "outputs": [],
   "source": [
    "# Data splitting into train, val and test"
   ]
  },
  {
   "cell_type": "code",
   "execution_count": null,
   "id": "d3c1bea4",
   "metadata": {},
   "outputs": [],
   "source": [
    "import os\n",
    "import shutil\n",
    "import sys\n",
    "sys.path.append(\"..\")"
   ]
  },
  {
   "cell_type": "code",
   "execution_count": null,
   "id": "11fb5c28",
   "metadata": {},
   "outputs": [],
   "source": [
    "import json\n",
    "import pandas as pd\n",
    "import numpy as np\n",
    "from data_utils.dataloader import Dataloader\n",
    "from data_utils.splitting import DataSplitter"
   ]
  },
  {
   "cell_type": "code",
   "execution_count": null,
   "id": "db5d657c",
   "metadata": {},
   "outputs": [],
   "source": [
    "data_base_path = os.path.join(\"..\", \"data\", \"TrainingData\")\n",
    "dataloader = Dataloader(data_base_path)"
   ]
  },
  {
   "cell_type": "code",
   "execution_count": null,
   "id": "505f94cf",
   "metadata": {},
   "outputs": [],
   "source": [
    "subject_ids = [\"001\", \"002\", \"003\", \"004\", \"005\", \"006\", \"007\", \"008\"]\n",
    "session_numbers = [\"01\", \"02\", \"03\", \"04\", \"05\", \"06\", \"07\", \"08\"]"
   ]
  },
  {
   "cell_type": "code",
   "execution_count": null,
   "id": "2ce63fa8",
   "metadata": {},
   "outputs": [],
   "source": [
    "# Load the original data. This is not really necassary, but is done to\n",
    "# make the code future-proof, in case we need stratified splits.\n",
    "all_ys = []\n",
    "for subject_id in subject_ids:\n",
    "    for session_number in session_numbers:\n",
    "        try:\n",
    "            x, y = dataloader.load_and_join_data(subject_id, session_number)\n",
    "            uid = f\"{subject_id}_{session_number}\"\n",
    "            y[\"uid\"] = [uid for _ in range(len(y))]\n",
    "            all_ys.append(y)\n",
    "        except FileNotFoundError:\n",
    "            pass"
   ]
  },
  {
   "cell_type": "code",
   "execution_count": null,
   "id": "a48fac12",
   "metadata": {},
   "outputs": [],
   "source": [
    "labels = pd.concat(all_ys, axis=0).reset_index(drop=True)"
   ]
  },
  {
   "cell_type": "code",
   "execution_count": null,
   "id": "0676959b",
   "metadata": {},
   "outputs": [],
   "source": [
    "splitter = DataSplitter()"
   ]
  },
  {
   "cell_type": "code",
   "execution_count": null,
   "id": "e70bc487",
   "metadata": {},
   "outputs": [],
   "source": [
    "splits = splitter.split_ids(labels)"
   ]
  },
  {
   "cell_type": "code",
   "execution_count": null,
   "id": "3aae0c0d",
   "metadata": {
    "scrolled": true
   },
   "outputs": [],
   "source": [
    "splits"
   ]
  },
  {
   "cell_type": "code",
   "execution_count": null,
   "id": "1209082a",
   "metadata": {},
   "outputs": [],
   "source": [
    "# Save to file for documentation and reproducibility\n",
    "with open(os.path.join(\"metadata\", \"split_ids.json\"), \"w\") as f:\n",
    "    json.dump(splits, f, indent=2)"
   ]
  },
  {
   "cell_type": "code",
   "execution_count": null,
   "id": "3e472b5d",
   "metadata": {},
   "outputs": [],
   "source": []
  }
 ],
 "metadata": {
  "kernelspec": {
   "display_name": "Python 3 (ipykernel)",
   "language": "python",
   "name": "python3"
  },
  "language_info": {
   "codemirror_mode": {
    "name": "ipython",
    "version": 3
   },
   "file_extension": ".py",
   "mimetype": "text/x-python",
   "name": "python",
   "nbconvert_exporter": "python",
   "pygments_lexer": "ipython3",
   "version": "3.8.12"
  }
 },
 "nbformat": 4,
 "nbformat_minor": 5
}
