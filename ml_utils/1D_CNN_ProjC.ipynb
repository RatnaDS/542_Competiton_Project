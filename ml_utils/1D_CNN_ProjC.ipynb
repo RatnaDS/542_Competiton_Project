{
  "nbformat": 4,
  "nbformat_minor": 0,
  "metadata": {
    "colab": {
      "name": "1D_CNN_ProjC.ipynb",
      "provenance": [],
      "collapsed_sections": []
    },
    "kernelspec": {
      "name": "python3",
      "display_name": "Python 3"
    },
    "language_info": {
      "name": "python"
    }
  },
  "cells": [
    {
      "cell_type": "code",
      "metadata": {
        "id": "HsM5UH_U2_uV"
      },
      "source": [
        "import torch\n",
        "import torch.nn as nn\n",
        "import torch.nn.functional as F\n",
        "\n",
        "class OneDConvNet(nn.module):\n",
        "  def __init__(self, numChannels, classes):\n",
        "    super(OneDConvNet, self).__init__()\n",
        "    self.Convolution_Layer_1 = nn.Conv1d(in_channels= 6, out_channels=8, kernel_size=3, stride=1)\n",
        "    self.Pool_Layer          = nn.MaxPool1d(kernel_size=2, stride=None) \n",
        "    self.Convolution_Layer_2 = nn.Conv1d(in_channels= 8, out_channels=10, kernel_size=3, stride=1)\n",
        "    self.FullConnected1      = nn.Linear(10*__,16)\n",
        "    self.FullConnected2      = nn.Linear(16,8)\n",
        "    self.FullConnected3      = nn.Linear(8, 4)        # 4: number of classes (output)\n",
        "  \n",
        "  def forward(self, x):\n",
        "    x = self.Pool_Layer(F.relu(self.Convolution_Layer_1(x)))\n",
        "    x = self.Pool_Layer(F.relu(self.Convolution_Layer_2(x)))\n",
        "    x = self.flatten(x)\n",
        "    x = F.relu(self.FullConnected1(x))\n",
        "    x = F.softmax(self.FullConnected2(x))\n",
        "    x = self.FullConnected3(x)\n",
        "    return x\n",
        "\n",
        "model = OneDConvNet().to(device)\n"
      ],
      "execution_count": null,
      "outputs": []
    }
  ]
}