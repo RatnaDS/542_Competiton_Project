{
 "cells": [
  {
   "cell_type": "code",
   "execution_count": 30,
   "id": "3b4638db",
   "metadata": {},
   "outputs": [
    {
     "data": {
      "text/plain": [
       "0    257760\n",
       "3     61200\n",
       "2     31520\n",
       "1     28440\n",
       "Name: label, dtype: int64"
      ]
     },
     "execution_count": 30,
     "metadata": {},
     "output_type": "execute_result"
    }
   ],
   "source": [
    "import pandas as pd\n",
    "\n",
    "df = pd.read_csv('/Users/ratnakaushik/Desktop/NCSU/ECE 542_Edgar/ProjC/subject_1_sess_1.csv', usecols=[\"label\"])\n",
    "\n",
    "df['label'].value_counts()"
   ]
  },
  {
   "cell_type": "code",
   "execution_count": 29,
   "id": "32a87ac1",
   "metadata": {},
   "outputs": [
    {
     "name": "stdout",
     "output_type": "stream",
     "text": [
      "n_samples = 378920\n",
      "Class weights [0.36751241464928613, 3.330872011251758, 3.0053934010152283, 1.547875816993464]\n"
     ]
    }
   ],
   "source": [
    "n_classes = 4\n",
    "n_samplesj = [257760, 28440, 31520, 61200]\n",
    "w = [None] * n_classes\n",
    "n_samples = 0\n",
    "\n",
    "for j in range (n_classes):\n",
    "    n_samples = n_samples+ n_samplesj[j]\n",
    "\n",
    "print('n_samples =', n_samples)\n",
    "\n",
    "for j in range (n_classes):\n",
    "    w[j] = n_samples / (n_classes * n_samplesj[j])\n",
    "\n",
    "print ('Class weights',w)"
   ]
  },
  {
   "cell_type": "code",
   "execution_count": null,
   "id": "35337d27",
   "metadata": {},
   "outputs": [],
   "source": []
  }
 ],
 "metadata": {
  "kernelspec": {
   "display_name": "Python 3 (ipykernel)",
   "language": "python",
   "name": "python3"
  },
  "language_info": {
   "codemirror_mode": {
    "name": "ipython",
    "version": 3
   },
   "file_extension": ".py",
   "mimetype": "text/x-python",
   "name": "python",
   "nbconvert_exporter": "python",
   "pygments_lexer": "ipython3",
   "version": "3.7.11"
  }
 },
 "nbformat": 4,
 "nbformat_minor": 5
}
