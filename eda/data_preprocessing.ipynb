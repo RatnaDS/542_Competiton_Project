{
 "cells": [
  {
   "cell_type": "code",
   "execution_count": null,
   "id": "ec6695cc",
   "metadata": {},
   "outputs": [],
   "source": [
    "import os\n",
    "import sys\n",
    "sys.path.append(\"..\")"
   ]
  },
  {
   "cell_type": "code",
   "execution_count": null,
   "id": "4a79e966",
   "metadata": {},
   "outputs": [],
   "source": [
    "import json\n",
    "import pandas as pd\n",
    "import numpy as np\n",
    "import matplotlib.pyplot as plt\n",
    "from matplotlib import collections as matcoll\n",
    "%matplotlib inline"
   ]
  },
  {
   "cell_type": "code",
   "execution_count": null,
   "id": "0610dbb9",
   "metadata": {},
   "outputs": [],
   "source": [
    "from data_utils.dataloader import Dataloader\n",
    "from data_utils.preprocessor import Preprocessor"
   ]
  },
  {
   "cell_type": "code",
   "execution_count": null,
   "id": "94f094e7",
   "metadata": {},
   "outputs": [],
   "source": [
    "# Data stats\n",
    "with open(os.path.join(\"..\", \"metadata\", \"statistics.json\"), \"r\") as handle:\n",
    "    data_statistics = json.load(handle)"
   ]
  },
  {
   "cell_type": "code",
   "execution_count": null,
   "id": "cc59f2d4",
   "metadata": {},
   "outputs": [],
   "source": [
    "data_base_path = os.path.join(\"..\", \"data\", \"TrainingData\")\n",
    "dataloader = Dataloader(data_base_path)"
   ]
  },
  {
   "cell_type": "code",
   "execution_count": null,
   "id": "25089732",
   "metadata": {},
   "outputs": [],
   "source": [
    "subject_id = \"001\"\n",
    "session_number = \"01\"\n",
    "x, y = dataloader.load_and_join_data(subject_id, session_number)"
   ]
  },
  {
   "cell_type": "code",
   "execution_count": null,
   "id": "a30db4e0",
   "metadata": {},
   "outputs": [],
   "source": [
    "x.head()"
   ]
  },
  {
   "cell_type": "code",
   "execution_count": null,
   "id": "78561d1b",
   "metadata": {},
   "outputs": [],
   "source": [
    "preprocessor = Preprocessor()"
   ]
  },
  {
   "cell_type": "code",
   "execution_count": null,
   "id": "f7280689",
   "metadata": {},
   "outputs": [],
   "source": [
    "windowed_data = preprocessor.get_windowed_data(x, 1., y)\n",
    "windowed_data = windowed_data.merge(y, on=\"timestamp\", how=\"inner\")"
   ]
  },
  {
   "cell_type": "code",
   "execution_count": null,
   "id": "f427c456",
   "metadata": {},
   "outputs": [],
   "source": [
    "def plot_window(x, timestamps, target_class=None, acc_vis=[\"x\", \"y\", \"z\"], gyro_vis=[\"x\", \"y\", \"z\"]):\n",
    "    acc = [\"acc_x\", \"acc_y\", \"acc_z\"]\n",
    "    gyro = [\"gyro_x\", \"gyro_y\", \"gyro_z\"]\n",
    "    colors = {\"x\": \"r\", \"y\": \"g\", \"z\":\"b\"}\n",
    "    \n",
    "    acc_axis_vis = [f\"acc_{axis}\" for axis in acc_vis]\n",
    "    acc_colors = [colors[axis] for axis in acc_vis]\n",
    "    gyro_axis_vis = [f\"gyro_{axis}\" for axis in gyro_vis]\n",
    "    gyro_colors = [colors[axis] for axis in gyro_vis]\n",
    "        \n",
    "    fig, ax = plt.subplots(len(timestamps), 2, dpi=150)\n",
    "    \n",
    "    for i, timestamp in enumerate(timestamps):\n",
    "        filtered_x = x[x[\"timestamp\"] == timestamp]\n",
    "        for col, color in zip(acc_axis_vis, acc_colors):\n",
    "            x_values = filtered_x[col].to_numpy()\n",
    "            x_values = (x_values - data_statistics[col][\"min\"]) / (data_statistics[col][\"max\"] - data_statistics[col][\"min\"])\n",
    "            ax[i, 0].plot(x_values, c=color)\n",
    "        for col, color in zip(gyro_axis_vis, gyro_colors):\n",
    "            x_values = filtered_x[col].to_numpy()\n",
    "            x_values = (x_values - data_statistics[col][\"min\"]) / (data_statistics[col][\"max\"] - data_statistics[col][\"min\"])\n",
    "            ax[i, 1].plot(x_values, c=color)\n",
    "\n",
    "    plt.suptitle(target_class)\n",
    "    plt.show()\n"
   ]
  },
  {
   "cell_type": "code",
   "execution_count": null,
   "id": "24aa544f",
   "metadata": {},
   "outputs": [],
   "source": [
    "filtered_data = windowed_data[windowed_data[\"label\"] == 2]\n",
    "timestamps = filtered_data[\"timestamp\"].unique()\n",
    "timestamps = timestamps[np.random.randint(0, len(timestamps), 5)].tolist()"
   ]
  },
  {
   "cell_type": "code",
   "execution_count": null,
   "id": "d2045b8e",
   "metadata": {},
   "outputs": [],
   "source": [
    "plot_window(filtered_data, timestamps=timestamps, target_class=2)"
   ]
  },
  {
   "cell_type": "code",
   "execution_count": null,
   "id": "dbf45c58",
   "metadata": {
    "scrolled": true
   },
   "outputs": [],
   "source": [
    "filtered_data = windowed_data[windowed_data[\"label\"] == 1]\n",
    "timestamps = filtered_data[\"timestamp\"].unique()\n",
    "timestamps = timestamps[np.random.randint(0, len(timestamps), 5)].tolist()"
   ]
  },
  {
   "cell_type": "code",
   "execution_count": null,
   "id": "d069f3cb",
   "metadata": {
    "scrolled": false
   },
   "outputs": [],
   "source": [
    "plot_window(filtered_data, target_class=1, timestamps=timestamps)"
   ]
  },
  {
   "cell_type": "code",
   "execution_count": null,
   "id": "c2634aab",
   "metadata": {},
   "outputs": [],
   "source": [
    "filtered_data = windowed_data[windowed_data[\"label\"] == 3]\n",
    "timestamps = filtered_data[\"timestamp\"].unique()\n",
    "timestamps = timestamps[np.random.randint(0, len(timestamps), 5)].tolist()"
   ]
  },
  {
   "cell_type": "code",
   "execution_count": null,
   "id": "9da587b0",
   "metadata": {},
   "outputs": [],
   "source": [
    "plot_window(filtered_data, target_class=3, timestamps=timestamps)"
   ]
  },
  {
   "cell_type": "code",
   "execution_count": null,
   "id": "92ab39df",
   "metadata": {
    "scrolled": true
   },
   "outputs": [],
   "source": [
    "filtered_data = windowed_data[windowed_data[\"label\"] == 0]\n",
    "timestamps = filtered_data[\"timestamp\"].unique()\n",
    "timestamps = timestamps[np.random.randint(0, len(timestamps), 5)].tolist()"
   ]
  },
  {
   "cell_type": "code",
   "execution_count": null,
   "id": "7054d78b",
   "metadata": {},
   "outputs": [],
   "source": [
    "plot_window(filtered_data, target_class=0, timestamps=timestamps)"
   ]
  },
  {
   "cell_type": "code",
   "execution_count": null,
   "id": "48b54096",
   "metadata": {},
   "outputs": [],
   "source": []
  }
 ],
 "metadata": {
  "kernelspec": {
   "display_name": "ece452-final",
   "language": "python",
   "name": "ece542-final"
  },
  "language_info": {
   "codemirror_mode": {
    "name": "ipython",
    "version": 3
   },
   "file_extension": ".py",
   "mimetype": "text/x-python",
   "name": "python",
   "nbconvert_exporter": "python",
   "pygments_lexer": "ipython3",
   "version": "3.8.11"
  }
 },
 "nbformat": 4,
 "nbformat_minor": 5
}
