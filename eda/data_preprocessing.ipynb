{
 "cells": [
  {
   "cell_type": "code",
   "execution_count": null,
   "id": "ec6695cc",
   "metadata": {},
   "outputs": [],
   "source": [
    "import os\n",
    "import sys\n",
    "sys.path.append(\"..\")"
   ]
  },
  {
   "cell_type": "code",
   "execution_count": null,
   "id": "4a79e966",
   "metadata": {},
   "outputs": [],
   "source": [
    "import pandas as pd\n",
    "import numpy as np\n",
    "import matplotlib.pyplot as plt\n",
    "from matplotlib import collections as matcoll\n",
    "%matplotlib inline"
   ]
  },
  {
   "cell_type": "code",
   "execution_count": null,
   "id": "0610dbb9",
   "metadata": {},
   "outputs": [],
   "source": [
    "from data_utils.dataloader import Dataloader\n",
    "from data_utils.preprocessor import Preprocessor"
   ]
  },
  {
   "cell_type": "code",
   "execution_count": null,
   "id": "cc59f2d4",
   "metadata": {},
   "outputs": [],
   "source": [
    "data_base_path = os.path.join(\"..\", \"data\", \"TrainingData\")\n",
    "dataloader = Dataloader(data_base_path)"
   ]
  },
  {
   "cell_type": "code",
   "execution_count": null,
   "id": "25089732",
   "metadata": {},
   "outputs": [],
   "source": [
    "subject_id = \"001\"\n",
    "session_number = \"01\"\n",
    "x, y = dataloader.load_and_join_data(subject_id, session_number)"
   ]
  },
  {
   "cell_type": "code",
   "execution_count": null,
   "id": "78561d1b",
   "metadata": {},
   "outputs": [],
   "source": [
    "preprocessor = Preprocessor()"
   ]
  },
  {
   "cell_type": "code",
   "execution_count": null,
   "id": "f7280689",
   "metadata": {},
   "outputs": [],
   "source": [
    "windowed_data = preprocessor.get_windowed_data(x, 1., y)"
   ]
  },
  {
   "cell_type": "code",
   "execution_count": null,
   "id": "7493296b",
   "metadata": {},
   "outputs": [],
   "source": [
    "def plot_window(x, timestamps, target_class=None, acc_vis=[\"x\", \"y\", \"z\"], gyro_vis=[\"x\", \"y\", \"z\"]):\n",
    "    acc = [\"acc_x\", \"acc_y\", \"acc_z\"]\n",
    "    gyro = [\"gyro_x\", \"gyro_y\", \"gyro_z\"]\n",
    "    colors = {\"x\": \"r\", \"y\": \"g\", \"z\":\"b\"}\n",
    "    \n",
    "    acc_axis_vis = [f\"acc_{axis}\" for axis in acc_vis]\n",
    "    acc_colors = [colors[axis] for axis in acc_vis]\n",
    "    gyro_axis_vis = [f\"gyro_{axis}\" for axis in gyro_vis]\n",
    "    gyro_colors = [colors[axis] for axis in gyro_vis]\n",
    "    \n",
    "#     y = df[\"label\"].to_numpy()\n",
    "#     mask = np.isnan(y)\n",
    "#     y[mask] = -1\n",
    "#     if target_class is not None:\n",
    "#         indices = np.where(y == target_class)[0]\n",
    "#         start = max(0, indices[0] - window)\n",
    "#         end = min(indices[0]+window, len(y))\n",
    "#     else:\n",
    "#         start, end = 0, len(y)\n",
    "        \n",
    "    fig, ax = plt.subplots(len(timestamps), 2, dpi=150)\n",
    "    \n",
    "    for i, timestamp in enumerate(timestamps):\n",
    "        filtered_x = x[x[\"timestamp\"] == timestamp]\n",
    "        for col, color in zip(acc_axis_vis, acc_colors):\n",
    "            ax[i, 0].plot(filtered_x[col], c=color)\n",
    "        for col, color in zip(gyro_axis_vis, gyro_colors):\n",
    "            ax[i, 1].plot(filtered_x[col], c=color)\n",
    "    \n",
    "#     lines = [[(x, 0), (x, y[x])] for x in range(start, end)]\n",
    "#     linecoll = matcoll.LineCollection(lines, linewidths=0.5)\n",
    "#     colors = np.where(y==-1, 'r', 'b')\n",
    "#     ax[2].add_collection(linecoll)\n",
    "#     ax[2].scatter(range(start, end), y[start:end], c=colors[start:end], marker=\",\", linewidths=0.0)\n",
    "    plt.suptitle(target_class)\n",
    "    plt.show()\n"
   ]
  },
  {
   "cell_type": "code",
   "execution_count": null,
   "id": "8a0566a8",
   "metadata": {},
   "outputs": [],
   "source": [
    "windowed_data = windowed_data.merge(y, on=\"timestamp\", how=\"inner\")"
   ]
  },
  {
   "cell_type": "code",
   "execution_count": null,
   "id": "86a608ac",
   "metadata": {},
   "outputs": [],
   "source": [
    "windowed_data.head()"
   ]
  },
  {
   "cell_type": "code",
   "execution_count": null,
   "id": "7b0ed216",
   "metadata": {},
   "outputs": [],
   "source": [
    "filtered_data = windowed_data[windowed_data[\"label\"] == 2]"
   ]
  },
  {
   "cell_type": "code",
   "execution_count": null,
   "id": "193a3815",
   "metadata": {
    "scrolled": true
   },
   "outputs": [],
   "source": [
    "filtered_data[\"timestamp\"].unique()"
   ]
  },
  {
   "cell_type": "code",
   "execution_count": null,
   "id": "1d866e1b",
   "metadata": {},
   "outputs": [],
   "source": [
    "plot_window(filtered_data, timestamps=[1181, 1185, 1187, 1190, 1474, 8535], target_class=2)"
   ]
  },
  {
   "cell_type": "code",
   "execution_count": null,
   "id": "afb19dec",
   "metadata": {
    "scrolled": true
   },
   "outputs": [],
   "source": [
    "filtered_data = windowed_data[windowed_data[\"label\"] == 1]\n",
    "filtered_data[\"timestamp\"].unique()"
   ]
  },
  {
   "cell_type": "code",
   "execution_count": null,
   "id": "6bbea602",
   "metadata": {},
   "outputs": [],
   "source": [
    "plot_window(filtered_data, timestamps=[812, 815, 818, 840, 843, 847, 900, 1138, 8451])"
   ]
  },
  {
   "cell_type": "code",
   "execution_count": null,
   "id": "f3fcc742",
   "metadata": {},
   "outputs": [],
   "source": []
  }
 ],
 "metadata": {
  "kernelspec": {
   "display_name": "ece452-final",
   "language": "python",
   "name": "ece542-final"
  },
  "language_info": {
   "codemirror_mode": {
    "name": "ipython",
    "version": 3
   },
   "file_extension": ".py",
   "mimetype": "text/x-python",
   "name": "python",
   "nbconvert_exporter": "python",
   "pygments_lexer": "ipython3",
   "version": "3.8.11"
  }
 },
 "nbformat": 4,
 "nbformat_minor": 5
}
