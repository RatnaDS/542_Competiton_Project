{
 "cells": [
  {
   "cell_type": "code",
   "execution_count": null,
   "id": "4a79e966",
   "metadata": {},
   "outputs": [],
   "source": [
    "import os\n",
    "import pandas as pd\n",
    "import numpy as np\n",
    "import matplotlib.pyplot as plt\n",
    "from matplotlib import collections as matcoll\n",
    "%matplotlib inline"
   ]
  },
  {
   "cell_type": "code",
   "execution_count": null,
   "id": "cc59f2d4",
   "metadata": {},
   "outputs": [],
   "source": [
    "data_base_path = os.path.join(\"..\", \"data\", \"TrainingData\")\n",
    "subject_x_template = \"subject_{}_{}__x.csv\"\n",
    "subject_x_time_template = \"subject_{}_{}__x_time.csv\"\n",
    "subject_y_template = \"subject_{}_{}__y.csv\"\n",
    "subject_y_time_template = \"subject_{}_{}__y_time.csv\""
   ]
  },
  {
   "cell_type": "code",
   "execution_count": null,
   "id": "d12ff0d9",
   "metadata": {},
   "outputs": [],
   "source": [
    "x_header = [\"acc_x\", \"acc_y\", \"acc_z\", \"gyro_x\", \"gyro_y\", \"gyro_z\"]\n",
    "def load_and_join_data(patient_id, session_number):\n",
    "    x_path = os.path.join(data_base_path, subject_x_template.format(patient_id, session_number))\n",
    "    x_time_path = os.path.join(data_base_path, subject_x_time_template.format(patient_id, session_number))\n",
    "    y_path = os.path.join(data_base_path, subject_y_template.format(patient_id, session_number))\n",
    "    y_time_path = os.path.join(data_base_path, subject_y_time_template.format(patient_id, session_number))\n",
    "    \n",
    "    x = pd.read_csv(x_path, names=x_header)\n",
    "    x_time = pd.read_csv(x_time_path, names=[\"time\"])\n",
    "    \n",
    "    y = pd.read_csv(y_path, names=[\"label\"])\n",
    "    y_time = pd.read_csv(y_time_path, names=[\"time\"])\n",
    "    \n",
    "    return pd.concat([x_time, x], axis=1), pd.concat([y_time, y], axis=1)"
   ]
  },
  {
   "cell_type": "code",
   "execution_count": null,
   "id": "25089732",
   "metadata": {},
   "outputs": [],
   "source": [
    "patient_id = \"008\"\n",
    "session_number = \"01\"\n",
    "x, y = load_and_join_data(patient_id, session_number)"
   ]
  },
  {
   "cell_type": "code",
   "execution_count": null,
   "id": "b4ee9079",
   "metadata": {},
   "outputs": [],
   "source": [
    "def plot(df, target_class=None, acc_vis=[\"x\", \"y\", \"z\"], gyro_vis=[\"x\", \"y\", \"z\"], window=1000):\n",
    "    acc = [\"acc_x\", \"acc_y\", \"acc_z\"]\n",
    "    gyro = [\"gyro_x\", \"gyro_y\", \"gyro_z\"]\n",
    "    colors = {\"x\": \"r\", \"y\": \"g\", \"z\":\"b\"}\n",
    "    \n",
    "    acc_axis_vis = [f\"acc_{axis}\" for axis in acc_vis]\n",
    "    acc_colors = [colors[axis] for axis in acc_vis]\n",
    "    gyro_axis_vis = [f\"gyro_{axis}\" for axis in gyro_vis]\n",
    "    gyro_colors = [colors[axis] for axis in gyro_vis]\n",
    "    \n",
    "    y = df[\"label\"].to_numpy()\n",
    "    mask = np.isnan(y)\n",
    "    y[mask] = -1\n",
    "    if target_class is not None:\n",
    "        indices = np.where(y == target_class)[0]\n",
    "        start = max(0, indices[0] - window)\n",
    "        end = min(indices[0]+window, len(y))\n",
    "    else:\n",
    "        start, end = 0, len(y)\n",
    "        \n",
    "    fig, ax = plt.subplots(3, 1, dpi=150)\n",
    "    \n",
    "    for col, color in zip(acc_axis_vis, acc_colors):\n",
    "        ax[0].plot(df[col][start:end], c=color)\n",
    "    plt.subplot(312)\n",
    "    for col, color in zip(gyro_axis_vis, gyro_colors):\n",
    "        ax[1].plot(df[col][start:end], c=color)\n",
    "    plt.subplot(313)\n",
    "    \n",
    "    lines = [[(x, 0), (x, y[x])] for x in range(start, end)]\n",
    "    linecoll = matcoll.LineCollection(lines, linewidths=0.5)\n",
    "    colors = np.where(y==-1, 'r', 'b')\n",
    "    ax[2].add_collection(linecoll)\n",
    "    ax[2].scatter(range(start, end), y[start:end], c=colors[start:end], marker=\",\", linewidths=0.0)\n",
    "    plt.show()\n"
   ]
  },
  {
   "cell_type": "code",
   "execution_count": null,
   "id": "fd644bd0",
   "metadata": {},
   "outputs": [],
   "source": [
    "plot(new_df, target_class=1, acc_vis=[\"x\", \"y\", \"z\"], window=100)"
   ]
  },
  {
   "cell_type": "code",
   "execution_count": null,
   "id": "bc1bd2f2",
   "metadata": {},
   "outputs": [],
   "source": [
    "plot(new_df, target_class=2, acc_vis=[\"x\", \"y\", \"z\"], window=200)"
   ]
  },
  {
   "cell_type": "code",
   "execution_count": null,
   "id": "f040f3ff",
   "metadata": {},
   "outputs": [],
   "source": []
  }
 ],
 "metadata": {
  "kernelspec": {
   "display_name": "ece452-final",
   "language": "python",
   "name": "ece542-final"
  },
  "language_info": {
   "codemirror_mode": {
    "name": "ipython",
    "version": 3
   },
   "file_extension": ".py",
   "mimetype": "text/x-python",
   "name": "python",
   "nbconvert_exporter": "python",
   "pygments_lexer": "ipython3",
   "version": "3.8.11"
  }
 },
 "nbformat": 4,
 "nbformat_minor": 5
}
