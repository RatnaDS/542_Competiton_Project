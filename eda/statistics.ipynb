{
 "cells": [
  {
   "cell_type": "code",
   "execution_count": null,
   "id": "ba1f7246",
   "metadata": {},
   "outputs": [],
   "source": [
    "import os\n",
    "import sys\n",
    "sys.path.append(\"..\")"
   ]
  },
  {
   "cell_type": "code",
   "execution_count": null,
   "id": "68cae164",
   "metadata": {},
   "outputs": [],
   "source": [
    "import json\n",
    "import pandas as pd\n",
    "import numpy as np\n",
    "import matplotlib.pyplot as plt\n",
    "from matplotlib import collections as matcoll\n",
    "%matplotlib inline"
   ]
  },
  {
   "cell_type": "code",
   "execution_count": null,
   "id": "05adff49",
   "metadata": {},
   "outputs": [],
   "source": [
    "from data_utils.dataloader import Dataloader\n",
    "from data_utils.preprocessor import Preprocessor\n",
    "from data_utils import X_HEADER"
   ]
  },
  {
   "cell_type": "code",
   "execution_count": null,
   "id": "47b9cf8f",
   "metadata": {},
   "outputs": [],
   "source": [
    "data_base_path = os.path.join(\"..\", \"data\", \"TrainingData\")\n",
    "dataloader = Dataloader(data_base_path)"
   ]
  },
  {
   "cell_type": "code",
   "execution_count": null,
   "id": "c03cac3c",
   "metadata": {
    "scrolled": true
   },
   "outputs": [],
   "source": [
    "subject_ids = [\"001\", \"002\", \"003\", \"004\", \"005\", \"006\", \"007\", \"008\"]\n",
    "session_numbers = [\"01\", \"02\", \"03\", \"04\", \"05\", \"06\", \"07\", \"08\"]\n",
    "samplewise_stats = []\n",
    "for subject_id in subject_ids:\n",
    "    for session_number in session_numbers:\n",
    "        try:\n",
    "            x, y = dataloader.load_and_join_data(subject_id, session_number)\n",
    "            stats = x.describe().reset_index(drop=False).rename(columns={\"index\": \"stat\"})\n",
    "            stats = stats[stats[\"stat\"].isin([\"min\", \"max\"])]\n",
    "            stats = stats.drop(columns=\"time\")\n",
    "            samplewise_stats.append(stats)\n",
    "            print(f\"Subject {subject_id} session {session_number} done.\")\n",
    "        except FileNotFoundError:\n",
    "            print(f\"Subject {subject_id} session {session_number} not found.\")"
   ]
  },
  {
   "cell_type": "code",
   "execution_count": null,
   "id": "572cada6",
   "metadata": {},
   "outputs": [],
   "source": [
    "stat_df = pd.concat(samplewise_stats, axis=0)"
   ]
  },
  {
   "cell_type": "code",
   "execution_count": null,
   "id": "3495fc56",
   "metadata": {},
   "outputs": [],
   "source": [
    "stats_to_find = [\"min\", \"max\"]"
   ]
  },
  {
   "cell_type": "code",
   "execution_count": null,
   "id": "c4b30990",
   "metadata": {},
   "outputs": [],
   "source": [
    "aggregate_stats = []\n",
    "for stat in stats_to_find:\n",
    "    agg = getattr(stat_df.groupby(\"stat\"), stat)()\n",
    "    agg = agg.reset_index(drop=False)\n",
    "    agg = agg[agg[\"stat\"] == stat]\n",
    "    aggregate_stats.append(agg)"
   ]
  },
  {
   "cell_type": "code",
   "execution_count": null,
   "id": "8e6d8b55",
   "metadata": {},
   "outputs": [],
   "source": [
    "final_stats = pd.concat(aggregate_stats, axis=0).reset_index(drop=True)\n",
    "final_stats"
   ]
  },
  {
   "cell_type": "code",
   "execution_count": null,
   "id": "72f68211",
   "metadata": {},
   "outputs": [],
   "source": [
    "final_stats.to_csv(os.path.join(\"..\", \"metadata\", \"statistics.csv\"), header=True, index=False)"
   ]
  },
  {
   "cell_type": "code",
   "execution_count": null,
   "id": "acbdb175",
   "metadata": {},
   "outputs": [],
   "source": [
    "stats_dict = {feature: dict() for feature in X_HEADER}\n",
    "for i, row in final_stats.iterrows():\n",
    "    for feature in X_HEADER:\n",
    "        stats_dict[feature][row[\"stat\"]] = row[feature]"
   ]
  },
  {
   "cell_type": "code",
   "execution_count": null,
   "id": "cc37fb20",
   "metadata": {},
   "outputs": [],
   "source": [
    "stats_dict"
   ]
  },
  {
   "cell_type": "code",
   "execution_count": null,
   "id": "b0c9c223",
   "metadata": {},
   "outputs": [],
   "source": [
    "with open(os.path.join(\"..\", \"metadata\", \"statistics.json\"), \"w\") as f:\n",
    "    json.dump(stats_dict, f, indent=2)"
   ]
  },
  {
   "cell_type": "code",
   "execution_count": null,
   "id": "c495c7b6",
   "metadata": {},
   "outputs": [],
   "source": []
  }
 ],
 "metadata": {
  "kernelspec": {
   "display_name": "ece452-final",
   "language": "python",
   "name": "ece542-final"
  },
  "language_info": {
   "codemirror_mode": {
    "name": "ipython",
    "version": 3
   },
   "file_extension": ".py",
   "mimetype": "text/x-python",
   "name": "python",
   "nbconvert_exporter": "python",
   "pygments_lexer": "ipython3",
   "version": "3.8.11"
  }
 },
 "nbformat": 4,
 "nbformat_minor": 5
}
