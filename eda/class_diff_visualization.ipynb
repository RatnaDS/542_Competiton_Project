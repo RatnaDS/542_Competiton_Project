{
 "cells": [
  {
   "cell_type": "code",
   "execution_count": null,
   "id": "ec6695cc",
   "metadata": {},
   "outputs": [],
   "source": [
    "import os\n",
    "import sys\n",
    "sys.path.append(\"..\")"
   ]
  },
  {
   "cell_type": "code",
   "execution_count": null,
   "id": "4a79e966",
   "metadata": {},
   "outputs": [],
   "source": [
    "import json\n",
    "import pandas as pd\n",
    "import numpy as np\n",
    "import matplotlib.pyplot as plt\n",
    "from matplotlib import collections as matcoll\n",
    "%matplotlib inline"
   ]
  },
  {
   "cell_type": "code",
   "execution_count": null,
   "id": "0610dbb9",
   "metadata": {},
   "outputs": [],
   "source": [
    "from data_utils.dataloader import Dataloader\n",
    "from data_utils.preprocessor import Preprocessor"
   ]
  },
  {
   "cell_type": "code",
   "execution_count": null,
   "id": "b8115830",
   "metadata": {},
   "outputs": [],
   "source": [
    "# Data stats\n",
    "with open(os.path.join(\"..\", \"metadata\", \"statistics.json\"), \"r\") as handle:\n",
    "    data_statistics = json.load(handle)"
   ]
  },
  {
   "cell_type": "code",
   "execution_count": null,
   "id": "cc59f2d4",
   "metadata": {},
   "outputs": [],
   "source": [
    "data_base_path = os.path.join(\"..\", \"data\", \"TrainingData\")\n",
    "dataloader = Dataloader(data_base_path)"
   ]
  },
  {
   "cell_type": "code",
   "execution_count": null,
   "id": "25089732",
   "metadata": {},
   "outputs": [],
   "source": [
    "subject_id = \"001\"\n",
    "session_number = \"01\"\n",
    "x, y = dataloader.load_and_join_data(subject_id, session_number)"
   ]
  },
  {
   "cell_type": "code",
   "execution_count": null,
   "id": "7affe139",
   "metadata": {},
   "outputs": [],
   "source": [
    "x.head()"
   ]
  },
  {
   "cell_type": "code",
   "execution_count": null,
   "id": "78561d1b",
   "metadata": {},
   "outputs": [],
   "source": [
    "preprocessor = Preprocessor()"
   ]
  },
  {
   "cell_type": "code",
   "execution_count": null,
   "id": "f7280689",
   "metadata": {},
   "outputs": [],
   "source": [
    "windowed_data = preprocessor.get_windowed_data(x, 1., y)\n",
    "windowed_data = windowed_data.merge(y, on=\"timestamp\", how=\"inner\")"
   ]
  },
  {
   "cell_type": "code",
   "execution_count": null,
   "id": "f427c456",
   "metadata": {},
   "outputs": [],
   "source": [
    "def plot_window(windowed_data, acc_vis=[\"x\", \"y\", \"z\"], gyro_vis=[\"x\", \"y\", \"z\"]):\n",
    "    acc = [\"acc_x\", \"acc_y\", \"acc_z\"]\n",
    "    gyro = [\"gyro_x\", \"gyro_y\", \"gyro_z\"]\n",
    "    colors = {\"x\": \"r\", \"y\": \"g\", \"z\":\"b\"}\n",
    "    \n",
    "    acc_axis_vis = [f\"acc_{axis}\" for axis in acc_vis]\n",
    "    acc_colors = [colors[axis] for axis in acc_vis]\n",
    "    gyro_axis_vis = [f\"gyro_{axis}\" for axis in gyro_vis]\n",
    "    gyro_colors = [colors[axis] for axis in gyro_vis]\n",
    "    \n",
    "    classes = [0, 1, 2, 3]\n",
    "    fig, ax = plt.subplots(len(classes), 2, dpi=150)\n",
    "    \n",
    "    for target_class in classes:\n",
    "        filtered_data = windowed_data[windowed_data[\"label\"] == target_class]\n",
    "        timestamps = filtered_data[\"timestamp\"].unique()\n",
    "        timestamp = timestamps[np.random.randint(0, len(timestamps), 1)][0]\n",
    "    \n",
    "        filtered_x = filtered_data[filtered_data[\"timestamp\"] == timestamp]\n",
    "        \n",
    "        for col, color in zip(acc_axis_vis, acc_colors):\n",
    "            x_values = filtered_x[col].to_numpy()\n",
    "            x_values = (x_values - data_statistics[col][\"min\"]) / (data_statistics[col][\"max\"] - data_statistics[col][\"min\"])\n",
    "            ax[target_class, 0].plot(x_values, c=color)\n",
    "        for col, color in zip(gyro_axis_vis, gyro_colors):\n",
    "            x_values = filtered_x[col].to_numpy()\n",
    "            x_values = (x_values - data_statistics[col][\"min\"]) / (data_statistics[col][\"max\"] - data_statistics[col][\"min\"])\n",
    "            ax[target_class, 1].plot(x_values, c=color)\n",
    "\n",
    "    plt.show()\n"
   ]
  },
  {
   "cell_type": "code",
   "execution_count": null,
   "id": "d2045b8e",
   "metadata": {},
   "outputs": [],
   "source": [
    "plot_window(windowed_data)"
   ]
  },
  {
   "cell_type": "code",
   "execution_count": null,
   "id": "0d593e24",
   "metadata": {},
   "outputs": [],
   "source": [
    "plot_window(windowed_data)"
   ]
  },
  {
   "cell_type": "code",
   "execution_count": null,
   "id": "60fa08b1",
   "metadata": {},
   "outputs": [],
   "source": [
    "def plot_window_overlap(windowed_data, acc_vis=[\"x\", \"y\", \"z\"], gyro_vis=[\"x\", \"y\", \"z\"]):\n",
    "    acc = [\"acc_x\", \"acc_y\", \"acc_z\"]\n",
    "    gyro = [\"gyro_x\", \"gyro_y\", \"gyro_z\"]\n",
    "    colors = {\"x\": \"r\", \"y\": \"g\", \"z\":\"b\"}\n",
    "    \n",
    "    acc_axis_vis = [f\"acc_{axis}\" for axis in acc_vis]\n",
    "    acc_colors = [colors[axis] for axis in acc_vis]\n",
    "    gyro_axis_vis = [f\"gyro_{axis}\" for axis in gyro_vis]\n",
    "    gyro_colors = [colors[axis] for axis in gyro_vis]\n",
    "    \n",
    "    classes = [0, 1, 2, 3]\n",
    "    fig, ax = plt.subplots(len(classes), 1, dpi=150)\n",
    "    \n",
    "    for target_class in classes:\n",
    "        filtered_data = windowed_data[windowed_data[\"label\"] == target_class]\n",
    "        timestamps = filtered_data[\"timestamp\"].unique()\n",
    "        timestamp = timestamps[np.random.randint(0, len(timestamps), 1)][0]\n",
    "        \n",
    "        # Twin the x-axis twice to make independent y-axes.\n",
    "        axes = [ax[target_class], ax[target_class].twinx()]\n",
    "    \n",
    "        filtered_x = filtered_data[filtered_data[\"timestamp\"] == timestamp]\n",
    "        for col, color in zip(acc_axis_vis, acc_colors):\n",
    "            x_values = filtered_x[col].to_numpy()\n",
    "            x_values = (x_values - data_statistics[col][\"min\"]) / (data_statistics[col][\"max\"] - data_statistics[col][\"min\"])\n",
    "            axes[0].plot(x_values, c=color)\n",
    "        for col, color in zip(gyro_axis_vis, gyro_colors):\n",
    "            x_values = filtered_x[col].to_numpy()\n",
    "            x_values = (x_values - data_statistics[col][\"min\"]) / (data_statistics[col][\"max\"] - data_statistics[col][\"min\"])\n",
    "            axes[1].plot(x_values, c=color, alpha=0.2, linestyle=\"dashed\")\n",
    "\n",
    "    plt.show()\n"
   ]
  },
  {
   "cell_type": "code",
   "execution_count": null,
   "id": "86c95d35",
   "metadata": {},
   "outputs": [],
   "source": [
    "plot_window_overlap(windowed_data)"
   ]
  },
  {
   "cell_type": "code",
   "execution_count": null,
   "id": "661f812c",
   "metadata": {},
   "outputs": [],
   "source": [
    "plot_window_overlap(windowed_data)"
   ]
  },
  {
   "cell_type": "code",
   "execution_count": null,
   "id": "c6d08bbc",
   "metadata": {},
   "outputs": [],
   "source": []
  }
 ],
 "metadata": {
  "kernelspec": {
   "display_name": "ece452-final",
   "language": "python",
   "name": "ece542-final"
  },
  "language_info": {
   "codemirror_mode": {
    "name": "ipython",
    "version": 3
   },
   "file_extension": ".py",
   "mimetype": "text/x-python",
   "name": "python",
   "nbconvert_exporter": "python",
   "pygments_lexer": "ipython3",
   "version": "3.8.11"
  }
 },
 "nbformat": 4,
 "nbformat_minor": 5
}
