{
 "cells": [
  {
   "cell_type": "code",
   "execution_count": 1,
   "metadata": {},
   "outputs": [],
   "source": [
    "import os\n",
    "import pandas as pd\n",
    "import numpy as np\n",
    "import matplotlib.pyplot as plt\n",
    "from matplotlib import collections as matcoll\n",
    "%matplotlib inline"
   ]
  },
  {
   "cell_type": "code",
   "execution_count": 2,
   "metadata": {},
   "outputs": [],
   "source": [
    "data_base_path = os.path.join(\"..\", \"data\", \"TrainingData\")\n",
    "subject_x_template = \"subject_{}_{}__x.csv\"\n",
    "subject_x_time_template = \"subject_{}_{}__x_time.csv\"\n",
    "subject_y_template = \"subject_{}_{}__y.csv\"\n",
    "subject_y_time_template = \"subject_{}_{}__y_time.csv\""
   ]
  },
  {
   "cell_type": "code",
   "execution_count": 3,
   "metadata": {},
   "outputs": [],
   "source": [
    "def label_list(subject_id, session_id):\n",
    "    y_path = os.path.join(data_base_path, subject_y_template.format(subject_id, session_id))\n",
    "    y = pd.read_csv(y_path, names=[\"label\"])\n",
    "    return np.array(y.values)"
   ]
  },
  {
   "cell_type": "code",
   "execution_count": 4,
   "metadata": {},
   "outputs": [],
   "source": [
    "subject_ids = ['001', '002', '003', '004', '005', '006', '007', '008']\n",
    "session_ids = ['01','02','03','04','05','06','07','08']"
   ]
  },
  {
   "cell_type": "code",
   "execution_count": 5,
   "metadata": {},
   "outputs": [
    {
     "name": "stdout",
     "output_type": "stream",
     "text": [
      "[Errno 2] No such file or directory: '..\\\\data\\\\TrainingData\\\\subject_002_06__y.csv'\n",
      "[Errno 2] No such file or directory: '..\\\\data\\\\TrainingData\\\\subject_003_04__y.csv'\n",
      "[Errno 2] No such file or directory: '..\\\\data\\\\TrainingData\\\\subject_004_03__y.csv'\n",
      "[Errno 2] No such file or directory: '..\\\\data\\\\TrainingData\\\\subject_005_04__y.csv'\n",
      "[Errno 2] No such file or directory: '..\\\\data\\\\TrainingData\\\\subject_006_04__y.csv'\n",
      "[Errno 2] No such file or directory: '..\\\\data\\\\TrainingData\\\\subject_007_05__y.csv'\n",
      "[Errno 2] No such file or directory: '..\\\\data\\\\TrainingData\\\\subject_008_02__y.csv'\n"
     ]
    }
   ],
   "source": [
    "y_full = []\n",
    "for subject_id in subject_ids:\n",
    "    \n",
    "    for session_id in session_ids:\n",
    "        \n",
    "        try:\n",
    "            y = label_list(subject_id,session_id)\n",
    "            #print(\"y shape:\",y.shape)\n",
    "            #print(\"y_full shape:\", y_full.shape)\n",
    "            y_full = np.append(y_full, y)\n",
    "        except FileNotFoundError as e:\n",
    "            print(e)\n",
    "            break"
   ]
  },
  {
   "cell_type": "code",
   "execution_count": 6,
   "metadata": {},
   "outputs": [
    {
     "data": {
      "text/plain": [
       "array([0, 0, 0, ..., 0, 0, 0], dtype=uint8)"
      ]
     },
     "execution_count": 6,
     "metadata": {},
     "output_type": "execute_result"
    }
   ],
   "source": [
    "y_full.astype('uint8')"
   ]
  },
  {
   "cell_type": "code",
   "execution_count": 7,
   "metadata": {},
   "outputs": [
    {
     "data": {
      "text/plain": [
       "335413"
      ]
     },
     "execution_count": 7,
     "metadata": {},
     "output_type": "execute_result"
    }
   ],
   "source": [
    "len(y_full)"
   ]
  },
  {
   "cell_type": "code",
   "execution_count": 8,
   "metadata": {},
   "outputs": [],
   "source": [
    "_, count = np.unique(y_full, return_counts = True)"
   ]
  },
  {
   "cell_type": "code",
   "execution_count": 9,
   "metadata": {},
   "outputs": [
    {
     "data": {
      "text/plain": [
       "array([251733,  13804,  18267,  51609], dtype=int64)"
      ]
     },
     "execution_count": 9,
     "metadata": {},
     "output_type": "execute_result"
    }
   ],
   "source": [
    "count "
   ]
  },
  {
   "cell_type": "code",
   "execution_count": 10,
   "metadata": {},
   "outputs": [
    {
     "data": {
      "image/png": "[encoded data removed]",
      "text/plain": [
       "<Figure size 432x288 with 1 Axes>"
      ]
     },
     "metadata": {
      "needs_background": "light"
     },
     "output_type": "display_data"
    }
   ],
   "source": [
    "fig = plt.figure()\n",
    "ax = fig.add_axes([0,0,1,1])\n",
    "classes = ['Class_0', 'Class_1', 'Class_2', 'Class_3']\n",
    "ax.set_ylabel('Count')\n",
    "ax.set_xlabel('Classes')\n",
    "ax.bar(classes,count)\n",
    "plt.show()"
   ]
  },
  {
   "cell_type": "code",
   "execution_count": null,
   "metadata": {},
   "outputs": [],
   "source": []
  }
 ],
 "metadata": {
  "kernelspec": {
   "display_name": "Python 3",
   "language": "python",
   "name": "python3"
  },
  "language_info": {
   "codemirror_mode": {
    "name": "ipython",
    "version": 3
   },
   "file_extension": ".py",
   "mimetype": "text/x-python",
   "name": "python",
   "nbconvert_exporter": "python",
   "pygments_lexer": "ipython3",
   "version": "3.9.0"
  }
 },
 "nbformat": 4,
 "nbformat_minor": 4
}
